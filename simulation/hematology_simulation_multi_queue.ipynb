{
 "cells": [
  {
   "cell_type": "code",
   "execution_count": 1,
   "id": "2a3088c3",
   "metadata": {},
   "outputs": [],
   "source": [
    "import sys\n",
    "import os\n",
    "\n",
    "# Add the project root (RAMBAM-HEMATOLOGY-DEPARTMENT) to sys.path\n",
    "project_root = os.path.abspath(\"..\")\n",
    "if project_root not in sys.path:\n",
    "    sys.path.insert(0, project_root)\n"
   ]
  },
  {
   "cell_type": "code",
   "execution_count": 2,
   "id": "initial_id",
   "metadata": {
    "ExecuteTime": {
     "end_time": "2024-03-30T22:39:46.869324Z",
     "start_time": "2024-03-30T22:39:46.857349Z"
    },
    "collapsed": true
   },
   "outputs": [],
   "source": [
    "from simulation.python_sim import SimFunctions, SimClasses\n",
    "from simulation.model_parameters import ModelParameters\n",
    "from simulation.simulation_configuration import SimulationConfiguration\n",
    "\n",
    "from patients.patient import Patient\n",
    "from patients.leukemia_patient import LeukemiaPatient\n",
    "from patients.transplant_patient import TransplantPatient\n",
    "from patients.other_patient import OtherPatient\n",
    "\n",
    "from simulation.utils import assign_nurse_station, all_left_department\n",
    "\n",
    "import pandas as pd\n",
    "import numpy as np\n",
    "import scipy.stats as scs\n",
    "\n",
    "from tqdm.notebook import tqdm_notebook\n",
    "import logging"
   ]
  },
  {
   "cell_type": "code",
   "execution_count": 3,
   "id": "ee255d1c6fbe9afc",
   "metadata": {
    "ExecuteTime": {
     "end_time": "2024-03-30T22:39:52.590478Z",
     "start_time": "2024-03-30T22:39:52.563643Z"
    },
    "collapsed": false
   },
   "outputs": [],
   "source": [
    "# Initializing event calendar\n",
    "Calendar = SimClasses.EventCalendar()"
   ]
  },
  {
   "cell_type": "code",
   "execution_count": 4,
   "id": "90259564655a2b4f",
   "metadata": {
    "ExecuteTime": {
     "end_time": "2024-03-30T22:39:52.860685Z",
     "start_time": "2024-03-30T22:39:52.847029Z"
    },
    "collapsed": false
   },
   "outputs": [],
   "source": [
    "model_parameters = ModelParameters()\n",
    "simulation_configuration = SimulationConfiguration()"
   ]
  },
  {
   "cell_type": "code",
   "execution_count": 5,
   "id": "7cbbfb00685ab1de",
   "metadata": {
    "ExecuteTime": {
     "end_time": "2024-03-30T22:39:54.848587Z",
     "start_time": "2024-03-30T22:39:54.834817Z"
    },
    "collapsed": false
   },
   "outputs": [],
   "source": [
    "q_flow_station = SimClasses.Resource()\n",
    "q_flow_station.SetUnits(1)\n",
    "q_flow_station_queue = SimClasses.FIFOQueue()\n",
    "\n",
    "secretary_station = SimClasses.Resource()\n",
    "secretary_station.SetUnits(2)\n",
    "\n",
    "secretary_station_queue = SimClasses.FIFOQueue()\n",
    "\n",
    "nurse_station_1 = SimClasses.Resource()\n",
    "nurse_station_1.SetUnits(1)\n",
    "nurse_station_2 = SimClasses.Resource()\n",
    "nurse_station_2.SetUnits(1)\n",
    "nurse_station_3 = SimClasses.Resource()\n",
    "nurse_station_3.SetUnits(1)\n",
    "nurse_station_4 = SimClasses.Resource()\n",
    "nurse_station_4.SetUnits(1)\n",
    "nurse_station_5 = SimClasses.Resource()\n",
    "nurse_station_5.SetUnits(1)\n",
    "nurse_station_6 = SimClasses.Resource()\n",
    "nurse_station_6.SetUnits(1)\n",
    "\n",
    "nurse_station_1_queue = SimClasses.FIFOQueue()\n",
    "nurse_station_2_queue = SimClasses.FIFOQueue()\n",
    "nurse_station_3_queue = SimClasses.FIFOQueue()\n",
    "nurse_station_4_queue = SimClasses.FIFOQueue()\n",
    "nurse_station_5_queue = SimClasses.FIFOQueue()\n",
    "nurse_station_6_queue = SimClasses.FIFOQueue()\n",
    "\n",
    "leukemia_doctor_1 = SimClasses.Resource()\n",
    "leukemia_doctor_1.SetUnits(1)\n",
    "leukemia_doctor_2 = SimClasses.Resource()\n",
    "leukemia_doctor_2.SetUnits(1)\n",
    "transplant_doctor_1 = SimClasses.Resource()\n",
    "transplant_doctor_1.SetUnits(1)\n",
    "transplant_doctor_2 = SimClasses.Resource()\n",
    "transplant_doctor_2.SetUnits(1)\n",
    "transplant_doctor_3 = SimClasses.Resource()\n",
    "transplant_doctor_3.SetUnits(1)\n",
    "\n",
    "leukemia_doctor_1_queue = SimClasses.FIFOQueue()\n",
    "leukemia_doctor_2_queue = SimClasses.FIFOQueue()\n",
    "transplant_doctor_1_queue = SimClasses.FIFOQueue()\n",
    "transplant_doctor_2_queue = SimClasses.FIFOQueue()\n",
    "transplant_doctor_3_queue = SimClasses.FIFOQueue()"
   ]
  },
  {
   "cell_type": "code",
   "execution_count": 6,
   "id": "cb34f0222dc10319",
   "metadata": {
    "ExecuteTime": {
     "end_time": "2024-03-30T22:39:56.592599Z",
     "start_time": "2024-03-30T22:39:56.578465Z"
    },
    "collapsed": false
   },
   "outputs": [],
   "source": [
    "q_flow_station_wait_time = SimClasses.DTStat()\n",
    "\n",
    "secretary_station_wait_time = SimClasses.DTStat()\n",
    "\n",
    "nurse_station_1_wait_time = SimClasses.DTStat()\n",
    "nurse_station_2_wait_time = SimClasses.DTStat()\n",
    "nurse_station_3_wait_time = SimClasses.DTStat()\n",
    "nurse_station_4_wait_time = SimClasses.DTStat()\n",
    "nurse_station_5_wait_time = SimClasses.DTStat()\n",
    "nurse_station_6_wait_time = SimClasses.DTStat()\n",
    "\n",
    "leukemia_doctor_1_wait_time = SimClasses.DTStat()\n",
    "leukemia_doctor_2_wait_time = SimClasses.DTStat()\n",
    "\n",
    "transplant_doctor_1_wait_time = SimClasses.DTStat()\n",
    "transplant_doctor_2_wait_time = SimClasses.DTStat()\n",
    "transplant_doctor_3_wait_time = SimClasses.DTStat()"
   ]
  },
  {
   "cell_type": "code",
   "execution_count": 7,
   "id": "2e02c7ae",
   "metadata": {},
   "outputs": [],
   "source": [
    "leukemia_doctor_1_complex_patients_total_processing_time = SimClasses.DTStat()\n",
    "leukemia_doctor_1_regular_patients_total_processing_time = SimClasses.DTStat()\n",
    "leukemia_doctor_2_complex_patients_total_processing_time = SimClasses.DTStat()\n",
    "leukemia_doctor_2_regular_patients_total_processing_time = SimClasses.DTStat()\n",
    "transplant_doctor_1_complex_patients_total_processing_time = SimClasses.DTStat()\n",
    "transplant_doctor_1_regular_patients_total_processing_time = SimClasses.DTStat()\n",
    "transplant_doctor_2_complex_patients_total_processing_time = SimClasses.DTStat()\n",
    "transplant_doctor_2_regular_patients_total_processing_time = SimClasses.DTStat()\n",
    "transplant_doctor_3_complex_patients_total_processing_time = SimClasses.DTStat()\n",
    "transplant_doctor_3_regular_patients_total_processing_time = SimClasses.DTStat()\n",
    "other_patients_total_processing_time = SimClasses.DTStat()"
   ]
  },
  {
   "cell_type": "code",
   "execution_count": 8,
   "id": "52c077a50b3aa22c",
   "metadata": {
    "ExecuteTime": {
     "end_time": "2024-03-30T22:39:57.733096Z",
     "start_time": "2024-03-30T22:39:57.719922Z"
    },
    "collapsed": false
   },
   "outputs": [],
   "source": [
    "q_flow_station_wait_time_avg = []\n",
    "\n",
    "secretary_station_wait_time_avg = []\n",
    "\n",
    "nurse_station_1_wait_time_avg = []\n",
    "nurse_station_2_wait_time_avg = []\n",
    "nurse_station_3_wait_time_avg = []\n",
    "nurse_station_4_wait_time_avg = []\n",
    "nurse_station_5_wait_time_avg = []\n",
    "nurse_station_6_wait_time_avg = []\n",
    "\n",
    "leukemia_doctor_1_wait_time_avg = []\n",
    "leukemia_doctor_2_wait_time_avg = []\n",
    "\n",
    "transplant_doctor_1_wait_time_avg = []\n",
    "transplant_doctor_2_wait_time_avg = []\n",
    "transplant_doctor_3_wait_time_avg = []\n",
    "\n",
    "q_flow_station_queue_length_avg = []\n",
    "\n",
    "secretary_station_queue_length_avg = []\n",
    "\n",
    "nurse_station_1_queue_length_avg = []\n",
    "nurse_station_2_queue_length_avg = []\n",
    "nurse_station_3_queue_length_avg = []\n",
    "nurse_station_4_queue_length_avg = []\n",
    "nurse_station_5_queue_length_avg = []\n",
    "nurse_station_6_queue_length_avg = []\n",
    "\n",
    "leukemia_doctor_1_queue_length_avg = []\n",
    "leukemia_doctor_2_queue_length_avg = []\n",
    "\n",
    "transplant_doctor_1_queue_length_avg = []\n",
    "transplant_doctor_2_queue_length_avg = []\n",
    "transplant_doctor_3_queue_length_avg = []\n",
    "\n",
    "q_flow_station_busy_avg = []\n",
    "\n",
    "secretary_station_busy_avg = []\n",
    "\n",
    "nurse_station_1_busy_avg = []\n",
    "nurse_station_2_busy_avg = []\n",
    "nurse_station_3_busy_avg = []\n",
    "nurse_station_4_busy_avg = []\n",
    "nurse_station_5_busy_avg = []\n",
    "nurse_station_6_busy_avg = []\n",
    "\n",
    "leukemia_doctor_1_busy_avg = []\n",
    "leukemia_doctor_2_busy_avg = []\n",
    "\n",
    "transplant_doctor_1_busy_avg = []\n",
    "transplant_doctor_2_busy_avg = []\n",
    "transplant_doctor_3_busy_avg = []"
   ]
  },
  {
   "cell_type": "code",
   "execution_count": 9,
   "id": "7a68937e",
   "metadata": {},
   "outputs": [],
   "source": [
    "q_flow_station_queue_length = []\n",
    "\n",
    "secretary_station_queue_length = []\n",
    "\n",
    "nurse_station_1_queue_length = []\n",
    "nurse_station_2_queue_length = []\n",
    "nurse_station_3_queue_length = []\n",
    "nurse_station_4_queue_length = []\n",
    "nurse_station_5_queue_length = []\n",
    "nurse_station_6_queue_length = []\n",
    "\n",
    "leukemia_doctor_1_queue_length = []\n",
    "leukemia_doctor_2_queue_length = []\n",
    "\n",
    "transplant_doctor_1_queue_length = []\n",
    "transplant_doctor_2_queue_length = []\n",
    "transplant_doctor_3_queue_length = []"
   ]
  },
  {
   "cell_type": "code",
   "execution_count": 10,
   "id": "be82ae01",
   "metadata": {},
   "outputs": [],
   "source": [
    "leukemia_doctor_1_complex_patients_total_processing_time_avg = []\n",
    "leukemia_doctor_1_regular_patients_total_processing_time_avg = []\n",
    "leukemia_doctor_2_complex_patients_total_processing_time_avg = []\n",
    "leukemia_doctor_2_regular_patients_total_processing_time_avg = []\n",
    "transplant_doctor_1_complex_patients_total_processing_time_avg = []\n",
    "transplant_doctor_1_regular_patients_total_processing_time_avg = []\n",
    "transplant_doctor_2_complex_patients_total_processing_time_avg = []\n",
    "transplant_doctor_2_regular_patients_total_processing_time_avg = []\n",
    "transplant_doctor_3_complex_patients_total_processing_time_avg = []\n",
    "transplant_doctor_3_regular_patients_total_processing_time_avg = []\n",
    "other_patients_total_processing_time_avg = []"
   ]
  },
  {
   "cell_type": "markdown",
   "id": "bf6eed75",
   "metadata": {},
   "source": [
    "### We assume here that all patients begin arriving at 08:00 (time 0 is 07:00 hence why we add 60)\n",
    "#### Currently we assume that they are all summoned at 20 minute intervals for simplicity"
   ]
  },
  {
   "cell_type": "code",
   "execution_count": 11,
   "id": "b033b162",
   "metadata": {},
   "outputs": [],
   "source": [
    "leukemia_doctor_1_number_of_patients = model_parameters.leukemia_doctor_1_number_of_regular_patients + model_parameters.leukemia_doctor_1_number_of_complex_patients\n",
    "leukemia_doctor_1_patient_arrival_times = [60 + i*20 for i in range(leukemia_doctor_1_number_of_patients)]\n",
    "leukemia_doctor_2_number_of_patients = model_parameters.leukemia_doctor_2_number_of_regular_patients + model_parameters.leukemia_doctor_2_number_of_complex_patients\n",
    "leukemia_doctor_2_patient_arrival_times = [60 + i*20 for i in range(leukemia_doctor_2_number_of_patients)]\n",
    "\n",
    "transplant_doctor_1_number_of_patients = model_parameters.transplant_doctor_1_number_of_regular_patients + model_parameters.transplant_doctor_1_number_of_complex_patients\n",
    "transplant_doctor_1_patient_arrival_times = [60 + i*20 for i in range(transplant_doctor_1_number_of_patients)]\n",
    "transplant_doctor_2_number_of_patients = model_parameters.transplant_doctor_2_number_of_regular_patients + model_parameters.transplant_doctor_2_number_of_complex_patients\n",
    "transplant_doctor_2_patient_arrival_times = [60 + i*20 for i in range(transplant_doctor_2_number_of_patients)]\n",
    "transplant_doctor_3_number_of_patients = model_parameters.transplant_doctor_3_number_of_regular_patients + model_parameters.transplant_doctor_3_number_of_complex_patients\n",
    "transplant_doctor_3_patient_arrival_times = [60 + i*20 for i in range(transplant_doctor_3_number_of_patients)]\n",
    "\n",
    "other_patients_arrival_times = [60 + i*10 for i in range(model_parameters.number_of_other_patients)]"
   ]
  },
  {
   "cell_type": "code",
   "execution_count": 12,
   "id": "a1deae27",
   "metadata": {},
   "outputs": [],
   "source": [
    "def create_patient_schedule(arrival_time: int):\n",
    "    return {'arrival_time': arrival_time,\n",
    "            'doctor_consultation_time': arrival_time + 120}\n",
    "\n",
    "def initialize_patients(patient_arrival_times: list[int],\n",
    "                        doctor_name: str,\n",
    "                        calendar: SimClasses.EventCalendar):\n",
    "    leukemia = 'leukemia' in doctor_name\n",
    "    transplant = 'transplant' in doctor_name\n",
    "    patients = []\n",
    "    if leukemia:\n",
    "        probability_of_visiting_nurse = model_parameters.probability_of_visiting_nurse_leukemia\n",
    "\n",
    "        if '1' in doctor_name:\n",
    "            probability_of_complex_patient = model_parameters.leukemia_doctor_1_probability_of_complex_patient\n",
    "        else:\n",
    "            probability_of_complex_patient = model_parameters.leukemia_doctor_2_probability_of_complex_patient\n",
    "\n",
    "        for arrival_time in patient_arrival_times:\n",
    "            patients.append(LeukemiaPatient(create_patient_schedule(arrival_time),\n",
    "                                            doctor_name,\n",
    "                                            probability_of_complex_patient,\n",
    "                                            probability_of_visiting_nurse))\n",
    "    elif transplant:\n",
    "        probability_of_visiting_nurse = model_parameters.probability_of_visiting_nurse_transplant\n",
    "        if '1' in doctor_name:\n",
    "            probability_of_complex_patient = model_parameters.transplant_doctor_1_probability_of_complex_patient\n",
    "        elif '2' in doctor_name:\n",
    "            probability_of_complex_patient = model_parameters.transplant_doctor_2_probability_of_complex_patient\n",
    "        else:\n",
    "            probability_of_complex_patient = model_parameters.transplant_doctor_3_probability_of_complex_patient\n",
    "\n",
    "        for arrival_time in patient_arrival_times:\n",
    "            patients.append(TransplantPatient(create_patient_schedule(arrival_time),\n",
    "                                              doctor_name,\n",
    "                                              probability_of_complex_patient,\n",
    "                                              probability_of_visiting_nurse))\n",
    "    else: #other\n",
    "        probability_of_visiting_nurse = model_parameters.probability_of_visiting_nurse_other\n",
    "        probability_of_complex_patient = model_parameters.probability_of_complex_other_patient\n",
    "\n",
    "        for arrival_time in patient_arrival_times:\n",
    "            patients.append(OtherPatient(create_patient_schedule(arrival_time),\n",
    "                                         doctor_name,\n",
    "                                         probability_of_complex_patient,\n",
    "                                         probability_of_visiting_nurse))\n",
    "    \n",
    "    for patient in patients:\n",
    "        patient.schedule_arrival(calendar)\n",
    "        \n",
    "    return patients"
   ]
  },
  {
   "cell_type": "code",
   "execution_count": 13,
   "id": "84e47c457ce6572f",
   "metadata": {
    "ExecuteTime": {
     "end_time": "2024-03-30T22:39:59.388466Z",
     "start_time": "2024-03-30T22:39:59.374552Z"
    },
    "collapsed": false
   },
   "outputs": [],
   "source": [
    "def q_flow_station_start_of_waiting(new_patient : Patient, clock: float):\n",
    "    q_flow_station_queue.Add(new_patient)\n",
    "    new_patient.enter_q_flow_queue(clock)\n",
    "    if q_flow_station.CurrentNumBusy < q_flow_station.NumberOfUnits:\n",
    "        q_flow_station.Seize(1)\n",
    "        next_patient = q_flow_station_queue.Remove()\n",
    "        q_flow_station_wait_time.Record(SimClasses.Clock - next_patient.enter_q_flow_queue_time)\n",
    "        SimFunctions.SchedulePlus(Calendar, \"q_flow_station_service_start\", 0, next_patient)"
   ]
  },
  {
   "cell_type": "code",
   "execution_count": 14,
   "id": "6bf2e1c2ce1ef37c",
   "metadata": {
    "ExecuteTime": {
     "end_time": "2024-03-30T22:39:59.636487Z",
     "start_time": "2024-03-30T22:39:59.617715Z"
    },
    "collapsed": false
   },
   "outputs": [],
   "source": [
    "def q_flow_station_service_start(new_patient : Patient):\n",
    "    q_flow_service_duration = np.random.exponential(model_parameters.q_flow_mean_service_time)\n",
    "    SimFunctions.SchedulePlus(Calendar, \"q_flow_station_service_end\", q_flow_service_duration, new_patient)"
   ]
  },
  {
   "cell_type": "code",
   "execution_count": 15,
   "id": "ec765acf",
   "metadata": {},
   "outputs": [],
   "source": [
    "def q_flow_station_service_end(new_patient: Patient):\n",
    "    SimFunctions.SchedulePlus(Calendar, \"secretary_station_start_of_waiting\", 0, new_patient)\n",
    "\n",
    "    q_flow_station.Free(1)\n",
    "    if q_flow_station.CurrentNumBusy < q_flow_station.NumberOfUnits and  q_flow_station_queue.NumQueue() > 0:\n",
    "        q_flow_station.Seize(1)\n",
    "        next_patient = q_flow_station_queue.Remove()\n",
    "        q_flow_station_wait_time.Record(SimClasses.Clock - next_patient.enter_q_flow_queue_time)\n",
    "        SimFunctions.SchedulePlus(Calendar, \"q_flow_station_service_start\", 0, next_patient)"
   ]
  },
  {
   "cell_type": "code",
   "execution_count": 16,
   "id": "60eba5d1",
   "metadata": {},
   "outputs": [],
   "source": [
    "def secretary_station_start_of_waiting(new_patient: Patient, clock: float):\n",
    "    secretary_station_queue.Add(new_patient)\n",
    "    new_patient.enter_secretary_queue(clock)\n",
    "    if secretary_station.CurrentNumBusy < secretary_station.NumberOfUnits:\n",
    "        secretary_station.Seize(1)\n",
    "        next_patient = secretary_station_queue.Remove()\n",
    "        secretary_station_wait_time.Record(SimClasses.Clock - next_patient.enter_secretary_queue_time)\n",
    "        SimFunctions.SchedulePlus(Calendar, \"secretary_station_service_start\", 0, next_patient)"
   ]
  },
  {
   "cell_type": "code",
   "execution_count": 17,
   "id": "7cfaead6",
   "metadata": {},
   "outputs": [],
   "source": [
    "def secretary_station_service_start(new_patient: Patient):\n",
    "    secretary_station_service_duration = np.random.exponential(model_parameters.secretary_mean_service_time)\n",
    "    SimFunctions.SchedulePlus(Calendar, \"secretary_station_service_end\", secretary_station_service_duration, new_patient)"
   ]
  },
  {
   "cell_type": "code",
   "execution_count": 18,
   "id": "229929d6",
   "metadata": {},
   "outputs": [],
   "source": [
    "def secretary_station_service_end(new_patient: Patient):\n",
    "    patient_type = new_patient.get_type()\n",
    "    has_nurse_appointment = new_patient.visits_nurse\n",
    "    if has_nurse_appointment:\n",
    "        nurse_station = assign_nurse_station(patient_type, model_parameters)\n",
    "        SimFunctions.SchedulePlus(Calendar, f'{nurse_station}_start_of_waiting', 0, new_patient)\n",
    "    else:\n",
    "        SimFunctions.SchedulePlus(Calendar, f'{new_patient.doctor_name}_start_of_waiting', 0, new_patient)\n",
    "    \n",
    "    secretary_station.Free(1)\n",
    "    if secretary_station.CurrentNumBusy < secretary_station.NumberOfUnits and secretary_station_queue.NumQueue() > 0:\n",
    "        secretary_station.Seize(1)\n",
    "        next_patient = secretary_station_queue.Remove()\n",
    "        secretary_station_wait_time.Record(SimClasses.Clock - next_patient.enter_secretary_queue_time)\n",
    "        SimFunctions.SchedulePlus(Calendar, \"secretary_station_service_start\", 0, next_patient)"
   ]
  },
  {
   "cell_type": "code",
   "execution_count": 19,
   "id": "8ffbe348",
   "metadata": {},
   "outputs": [],
   "source": [
    "def nurse_station_1_start_of_waiting(new_patient: Patient, clock: float):\n",
    "    nurse_station_1_queue.Add(new_patient)\n",
    "    new_patient.enter_nurse_queue(clock)\n",
    "    if nurse_station_1.CurrentNumBusy < nurse_station_1.NumberOfUnits:\n",
    "        nurse_station_1.Seize(1)\n",
    "        next_patient = nurse_station_1_queue.Remove()\n",
    "        nurse_station_1_wait_time.Record(SimClasses.Clock - next_patient.enter_nurse_queue_time)\n",
    "        SimFunctions.SchedulePlus(Calendar, \"nurse_station_1_service_start\", 0, next_patient)\n",
    "\n",
    "def nurse_station_2_start_of_waiting(new_patient: Patient, clock: float):\n",
    "    nurse_station_2_queue.Add(new_patient)\n",
    "    new_patient.enter_nurse_queue(clock)\n",
    "    if nurse_station_2.CurrentNumBusy < nurse_station_2.NumberOfUnits:\n",
    "        nurse_station_2.Seize(1)\n",
    "        next_patient = nurse_station_2_queue.Remove()\n",
    "        nurse_station_2_wait_time.Record(SimClasses.Clock - next_patient.enter_nurse_queue_time)\n",
    "        SimFunctions.SchedulePlus(Calendar, \"nurse_station_2_service_start\", 0, next_patient)\n",
    "\n",
    "def nurse_station_3_start_of_waiting(new_patient: Patient, clock: float):\n",
    "    nurse_station_3_queue.Add(new_patient)\n",
    "    new_patient.enter_nurse_queue(clock)\n",
    "    if nurse_station_3.CurrentNumBusy < nurse_station_3.NumberOfUnits:\n",
    "        nurse_station_3.Seize(1)\n",
    "        next_patient = nurse_station_3_queue.Remove()\n",
    "        nurse_station_3_wait_time.Record(SimClasses.Clock - next_patient.enter_nurse_queue_time)\n",
    "        SimFunctions.SchedulePlus(Calendar, \"nurse_station_3_service_start\", 0, next_patient)\n",
    "\n",
    "def nurse_station_4_start_of_waiting(new_patient: Patient, clock: float):\n",
    "    nurse_station_4_queue.Add(new_patient)\n",
    "    new_patient.enter_nurse_queue(clock)\n",
    "    if nurse_station_4.CurrentNumBusy < nurse_station_4.NumberOfUnits:\n",
    "        nurse_station_4.Seize(1)\n",
    "        next_patient = nurse_station_4_queue.Remove()\n",
    "        nurse_station_4_wait_time.Record(SimClasses.Clock - next_patient.enter_nurse_queue_time)\n",
    "        SimFunctions.SchedulePlus(Calendar, \"nurse_station_4_service_start\", 0, next_patient)\n",
    "\n",
    "def nurse_station_5_start_of_waiting(new_patient: Patient, clock: float):\n",
    "    nurse_station_5_queue.Add(new_patient)\n",
    "    new_patient.enter_nurse_queue(clock)\n",
    "    if nurse_station_5.CurrentNumBusy < nurse_station_5.NumberOfUnits:\n",
    "        nurse_station_5.Seize(1)\n",
    "        next_patient = nurse_station_5_queue.Remove()\n",
    "        nurse_station_5_wait_time.Record(SimClasses.Clock - next_patient.enter_nurse_queue_time)\n",
    "        SimFunctions.SchedulePlus(Calendar, \"nurse_station_5_service_start\", 0, next_patient)\n",
    "\n",
    "def nurse_station_6_start_of_waiting(new_patient: Patient, clock: float):\n",
    "    nurse_station_6_queue.Add(new_patient)\n",
    "    new_patient.enter_nurse_queue(clock)\n",
    "    if nurse_station_6.CurrentNumBusy < nurse_station_6.NumberOfUnits:\n",
    "        nurse_station_6.Seize(1)\n",
    "        next_patient = nurse_station_6_queue.Remove()\n",
    "        nurse_station_6_wait_time.Record(SimClasses.Clock - next_patient.enter_nurse_queue_time)\n",
    "        SimFunctions.SchedulePlus(Calendar, \"nurse_station_6_service_start\", 0, next_patient)"
   ]
  },
  {
   "cell_type": "code",
   "execution_count": 20,
   "id": "aaed8038",
   "metadata": {},
   "outputs": [],
   "source": [
    "def nurse_station_1_service_start(new_patient: Patient):\n",
    "    patient_complexity = new_patient.complexity_level\n",
    "\n",
    "    if patient_complexity == \"regular\":\n",
    "        mean_service_time = model_parameters.nurse_mean_service_time_regular\n",
    "    else:\n",
    "        mean_service_time = model_parameters.nurse_mean_service_time_complex\n",
    "\n",
    "    service_duration = np.random.exponential(mean_service_time)\n",
    "\n",
    "    SimFunctions.SchedulePlus(Calendar, \"nurse_station_1_service_end\", service_duration, new_patient)\n",
    "\n",
    "def nurse_station_2_service_start(new_patient: Patient):\n",
    "    patient_complexity = new_patient.complexity_level\n",
    "\n",
    "    if patient_complexity == \"regular\":\n",
    "        mean_service_time = model_parameters.nurse_mean_service_time_regular\n",
    "    else:\n",
    "        mean_service_time = model_parameters.nurse_mean_service_time_complex\n",
    "\n",
    "    service_duration = np.random.exponential(mean_service_time)\n",
    "\n",
    "    SimFunctions.SchedulePlus(Calendar, \"nurse_station_2_service_end\", service_duration, new_patient)\n",
    "\n",
    "def nurse_station_3_service_start(new_patient: Patient):\n",
    "    patient_complexity = new_patient.complexity_level\n",
    "\n",
    "    if patient_complexity == \"regular\":\n",
    "        mean_service_time = model_parameters.nurse_mean_service_time_regular\n",
    "    else:\n",
    "        mean_service_time = model_parameters.nurse_mean_service_time_complex\n",
    "\n",
    "    service_duration = np.random.exponential(mean_service_time)\n",
    "\n",
    "    SimFunctions.SchedulePlus(Calendar, \"nurse_station_3_service_end\", service_duration, new_patient)\n",
    "\n",
    "def nurse_station_4_service_start(new_patient: Patient):\n",
    "    patient_complexity = new_patient.complexity_level\n",
    "\n",
    "    if patient_complexity == \"regular\":\n",
    "        mean_service_time = model_parameters.nurse_mean_service_time_regular\n",
    "    else:\n",
    "        mean_service_time = model_parameters.nurse_mean_service_time_complex\n",
    "\n",
    "    service_duration = np.random.exponential(mean_service_time)\n",
    "\n",
    "    SimFunctions.SchedulePlus(Calendar, \"nurse_station_4_service_end\", service_duration, new_patient)\n",
    "\n",
    "def nurse_station_5_service_start(new_patient: Patient):\n",
    "    patient_complexity = new_patient.complexity_level\n",
    "\n",
    "    if patient_complexity == \"regular\":\n",
    "        mean_service_time = model_parameters.nurse_mean_service_time_regular\n",
    "    else:\n",
    "        mean_service_time = model_parameters.nurse_mean_service_time_complex\n",
    "\n",
    "    service_duration = np.random.exponential(mean_service_time)\n",
    "\n",
    "    SimFunctions.SchedulePlus(Calendar, \"nurse_station_5_service_end\", service_duration, new_patient)\n",
    "\n",
    "def nurse_station_6_service_start(new_patient: Patient):\n",
    "    patient_complexity = new_patient.complexity_level\n",
    "\n",
    "    if patient_complexity == \"regular\":\n",
    "        mean_service_time = model_parameters.nurse_mean_service_time_regular\n",
    "    else:\n",
    "        mean_service_time = model_parameters.nurse_mean_service_time_complex\n",
    "\n",
    "    service_duration = np.random.exponential(mean_service_time)\n",
    "\n",
    "    SimFunctions.SchedulePlus(Calendar, \"nurse_station_6_service_end\", service_duration, new_patient)"
   ]
  },
  {
   "cell_type": "code",
   "execution_count": 21,
   "id": "2a06fc51",
   "metadata": {},
   "outputs": [],
   "source": [
    "def nurse_station_1_service_end(new_patient: Patient):\n",
    "    nurse_station_1.Free(1)\n",
    "    doctor_name = new_patient.doctor_name\n",
    "    SimFunctions.SchedulePlus(Calendar, f\"{doctor_name}_start_of_waiting\", 0, new_patient)\n",
    "\n",
    "    if nurse_station_1.CurrentNumBusy < nurse_station_1.NumberOfUnits and nurse_station_1_queue.NumQueue() > 0:\n",
    "        nurse_station_1.Seize(1)\n",
    "        next_patient = nurse_station_1_queue.Remove()\n",
    "        nurse_station_1_wait_time.Record(SimClasses.Clock - next_patient.enter_nurse_queue_time)\n",
    "        SimFunctions.SchedulePlus(Calendar, \"nurse_station_1_service_start\", 0, next_patient)\n",
    "\n",
    "def nurse_station_2_service_end(new_patient: Patient):\n",
    "    nurse_station_2.Free(1)\n",
    "    doctor_name = new_patient.doctor_name\n",
    "    SimFunctions.SchedulePlus(Calendar, f\"{doctor_name}_start_of_waiting\", 0, new_patient)\n",
    "\n",
    "    if nurse_station_2.CurrentNumBusy < nurse_station_2.NumberOfUnits and nurse_station_2_queue.NumQueue() > 0:\n",
    "        nurse_station_2.Seize(1)\n",
    "        next_patient = nurse_station_2_queue.Remove()\n",
    "        nurse_station_2_wait_time.Record(SimClasses.Clock - next_patient.enter_nurse_queue_time)\n",
    "        SimFunctions.SchedulePlus(Calendar, \"nurse_station_2_service_start\", 0, next_patient)\n",
    "\n",
    "def nurse_station_3_service_end(new_patient: Patient):\n",
    "    nurse_station_3.Free(1)\n",
    "    doctor_name = new_patient.doctor_name\n",
    "    SimFunctions.SchedulePlus(Calendar, f\"{doctor_name}_start_of_waiting\", 0, new_patient)\n",
    "\n",
    "    if nurse_station_3.CurrentNumBusy < nurse_station_3.NumberOfUnits and nurse_station_3_queue.NumQueue() > 0:\n",
    "        nurse_station_3.Seize(1)\n",
    "        next_patient = nurse_station_3_queue.Remove()\n",
    "        nurse_station_3_wait_time.Record(SimClasses.Clock - next_patient.enter_nurse_queue_time)\n",
    "        SimFunctions.SchedulePlus(Calendar, \"nurse_station_3_service_start\", 0, next_patient)\n",
    "\n",
    "def nurse_station_4_service_end(new_patient: Patient):\n",
    "    nurse_station_4.Free(1)\n",
    "    doctor_name = new_patient.doctor_name\n",
    "    SimFunctions.SchedulePlus(Calendar, f\"{doctor_name}_start_of_waiting\", 0, new_patient)\n",
    "\n",
    "    if nurse_station_4.CurrentNumBusy < nurse_station_4.NumberOfUnits and nurse_station_4_queue.NumQueue() > 0:\n",
    "        nurse_station_4.Seize(1)\n",
    "        next_patient = nurse_station_4_queue.Remove()\n",
    "        nurse_station_4_wait_time.Record(SimClasses.Clock - next_patient.enter_nurse_queue_time)\n",
    "        SimFunctions.SchedulePlus(Calendar, \"nurse_station_4_service_start\", 0, next_patient)\n",
    "\n",
    "def nurse_station_5_service_end(new_patient: Patient):\n",
    "    nurse_station_5.Free(1)\n",
    "    doctor_name = new_patient.doctor_name\n",
    "    SimFunctions.SchedulePlus(Calendar, f\"{doctor_name}_start_of_waiting\", 0, new_patient)\n",
    "\n",
    "    if nurse_station_5.CurrentNumBusy < nurse_station_5.NumberOfUnits and nurse_station_5_queue.NumQueue() > 0:\n",
    "        nurse_station_5.Seize(1)\n",
    "        next_patient = nurse_station_5_queue.Remove()\n",
    "        nurse_station_5_wait_time.Record(SimClasses.Clock - next_patient.enter_nurse_queue_time)\n",
    "        SimFunctions.SchedulePlus(Calendar, \"nurse_station_5_service_start\", 0, next_patient)\n",
    "\n",
    "def nurse_station_6_service_end(new_patient: Patient):\n",
    "    nurse_station_6.Free(1)\n",
    "    doctor_name = new_patient.doctor_name\n",
    "    SimFunctions.SchedulePlus(Calendar, f\"{doctor_name}_start_of_waiting\", 0, new_patient)\n",
    "\n",
    "    if nurse_station_6.CurrentNumBusy < nurse_station_6.NumberOfUnits and nurse_station_6_queue.NumQueue() > 0:\n",
    "        nurse_station_6.Seize(1)\n",
    "        next_patient = nurse_station_6_queue.Remove()\n",
    "        nurse_station_6_wait_time.Record(SimClasses.Clock - next_patient.enter_nurse_queue_time)\n",
    "        SimFunctions.SchedulePlus(Calendar, \"nurse_station_6_service_start\", 0, next_patient)"
   ]
  },
  {
   "cell_type": "code",
   "execution_count": 22,
   "id": "6399295f",
   "metadata": {},
   "outputs": [],
   "source": [
    "def leukemia_doctor_1_start_of_waiting(new_patient: Patient, clock: float):\n",
    "    leukemia_doctor_1_queue.Add(new_patient)\n",
    "    new_patient.enter_doctor_queue(clock)\n",
    "    if leukemia_doctor_1.CurrentNumBusy < leukemia_doctor_1.NumberOfUnits:\n",
    "        leukemia_doctor_1.Seize(1)\n",
    "        next_patient = leukemia_doctor_1_queue.Remove()\n",
    "        leukemia_doctor_1_wait_time.Record(SimClasses.Clock - next_patient.enter_doctor_queue_time)\n",
    "        SimFunctions.SchedulePlus(Calendar, \"leukemia_doctor_1_service_start\", 0, next_patient)\n",
    "\n",
    "def leukemia_doctor_2_start_of_waiting(new_patient: Patient, clock: float):\n",
    "    leukemia_doctor_2_queue.Add(new_patient)\n",
    "    new_patient.enter_doctor_queue(clock)\n",
    "    if leukemia_doctor_2.CurrentNumBusy < leukemia_doctor_2.NumberOfUnits:\n",
    "        leukemia_doctor_2.Seize(1)\n",
    "        next_patient = leukemia_doctor_2_queue.Remove()\n",
    "        leukemia_doctor_2_wait_time.Record(SimClasses.Clock - next_patient.enter_doctor_queue_time)\n",
    "        SimFunctions.SchedulePlus(Calendar, \"leukemia_doctor_2_service_start\", 0, next_patient)\n",
    "\n",
    "def transplant_doctor_1_start_of_waiting(new_patient: Patient, clock: float):\n",
    "    transplant_doctor_1_queue.Add(new_patient)\n",
    "    new_patient.enter_doctor_queue(clock)\n",
    "    if transplant_doctor_1.CurrentNumBusy < transplant_doctor_1.NumberOfUnits:\n",
    "        transplant_doctor_1.Seize(1)\n",
    "        next_patient = transplant_doctor_1_queue.Remove()\n",
    "        transplant_doctor_1_wait_time.Record(SimClasses.Clock - next_patient.enter_doctor_queue_time)\n",
    "        SimFunctions.SchedulePlus(Calendar, \"transplant_doctor_1_service_start\", 0, next_patient)\n",
    "\n",
    "def transplant_doctor_2_start_of_waiting(new_patient: Patient, clock: float):\n",
    "    transplant_doctor_2_queue.Add(new_patient)\n",
    "    new_patient.enter_doctor_queue(clock)\n",
    "    if transplant_doctor_2.CurrentNumBusy < transplant_doctor_2.NumberOfUnits:\n",
    "        transplant_doctor_2.Seize(1)\n",
    "        next_patient = transplant_doctor_2_queue.Remove()\n",
    "        transplant_doctor_2_wait_time.Record(SimClasses.Clock - next_patient.enter_doctor_queue_time)\n",
    "        SimFunctions.SchedulePlus(Calendar, \"transplant_doctor_2_service_start\", 0, next_patient)\n",
    "\n",
    "def transplant_doctor_3_start_of_waiting(new_patient: Patient, clock: float):\n",
    "    transplant_doctor_3_queue.Add(new_patient)\n",
    "    new_patient.enter_doctor_queue(clock)\n",
    "    if transplant_doctor_3.CurrentNumBusy < transplant_doctor_3.NumberOfUnits:\n",
    "        transplant_doctor_3.Seize(1)\n",
    "        next_patient = transplant_doctor_3_queue.Remove()\n",
    "        transplant_doctor_3_wait_time.Record(SimClasses.Clock - next_patient.enter_doctor_queue_time)\n",
    "        SimFunctions.SchedulePlus(Calendar, \"transplant_doctor_3_service_start\", 0, next_patient)\n",
    "\n",
    "def other_doctor_start_of_waiting(new_patient: Patient, clock: float):\n",
    "    new_patient.enter_doctor_queue(clock)\n",
    "    #other patients doctor treatment is not included in the model\n",
    "    SimFunctions.SchedulePlus(Calendar, \"process_complete\", 0, new_patient)"
   ]
  },
  {
   "cell_type": "code",
   "execution_count": 23,
   "id": "5cbc074e",
   "metadata": {},
   "outputs": [],
   "source": [
    "def leukemia_doctor_1_service_start(new_patient: Patient):\n",
    "    patient_complexity = new_patient.complexity_level\n",
    "    if patient_complexity == \"regular\":\n",
    "        mean_service_time = model_parameters.leukemia_doctor_1_mean_service_time_regular\n",
    "    else:\n",
    "        mean_service_time = model_parameters.leukemia_doctor_1_mean_service_time_complex\n",
    "    service_duration = np.random.exponential(mean_service_time)\n",
    "    SimFunctions.SchedulePlus(Calendar, \"leukemia_doctor_1_service_end\", service_duration, new_patient)\n",
    "\n",
    "def leukemia_doctor_2_service_start(new_patient: Patient):\n",
    "    patient_complexity = new_patient.complexity_level\n",
    "    if patient_complexity == \"regular\":\n",
    "        mean_service_time = model_parameters.leukemia_doctor_2_mean_service_time_regular\n",
    "    else:\n",
    "        mean_service_time = model_parameters.leukemia_doctor_2_mean_service_time_complex\n",
    "    service_duration = np.random.exponential(mean_service_time)\n",
    "    SimFunctions.SchedulePlus(Calendar, \"leukemia_doctor_2_service_end\", service_duration, new_patient)\n",
    "\n",
    "def transplant_doctor_1_service_start(new_patient: Patient):\n",
    "    patient_complexity = new_patient.complexity_level\n",
    "    if patient_complexity == \"regular\":\n",
    "        mean_service_time = model_parameters.transplant_doctor_1_mean_service_time_regular\n",
    "    else:\n",
    "        mean_service_time = model_parameters.transplant_doctor_1_mean_service_time_complex\n",
    "    service_duration = np.random.exponential(mean_service_time)\n",
    "    SimFunctions.SchedulePlus(Calendar, \"transplant_doctor_1_service_end\", service_duration, new_patient)\n",
    "\n",
    "def transplant_doctor_2_service_start(new_patient: Patient):\n",
    "    patient_complexity = new_patient.complexity_level\n",
    "    if patient_complexity == \"regular\":\n",
    "        mean_service_time = model_parameters.transplant_doctor_2_mean_service_time_regular\n",
    "    else:\n",
    "        mean_service_time = model_parameters.transplant_doctor_2_mean_service_time_complex\n",
    "    service_duration = np.random.exponential(mean_service_time)\n",
    "    SimFunctions.SchedulePlus(Calendar, \"transplant_doctor_2_service_end\", service_duration, new_patient)\n",
    "\n",
    "def transplant_doctor_3_service_start(new_patient: Patient):\n",
    "    patient_complexity = new_patient.complexity_level\n",
    "    if patient_complexity == \"regular\":\n",
    "        mean_service_time = model_parameters.transplant_doctor_3_mean_service_time_regular\n",
    "    else:\n",
    "        mean_service_time = model_parameters.transplant_doctor_3_mean_service_time_complex\n",
    "    service_duration = np.random.exponential(mean_service_time)\n",
    "    SimFunctions.SchedulePlus(Calendar, \"transplant_doctor_3_service_end\", service_duration, new_patient)"
   ]
  },
  {
   "cell_type": "code",
   "execution_count": 24,
   "id": "c930902e",
   "metadata": {},
   "outputs": [],
   "source": [
    "def leukemia_doctor_1_service_end(new_patient: Patient):\n",
    "    leukemia_doctor_1.Free(1)\n",
    "    SimFunctions.SchedulePlus(Calendar, \"process_complete\", 0, new_patient)\n",
    "\n",
    "    if leukemia_doctor_1.CurrentNumBusy < leukemia_doctor_1.NumberOfUnits and leukemia_doctor_1_queue.NumQueue() > 0:\n",
    "        leukemia_doctor_1.Seize(1)\n",
    "        next_patient = leukemia_doctor_1_queue.Remove()\n",
    "        leukemia_doctor_1_wait_time.Record(SimClasses.Clock - next_patient.enter_doctor_queue_time)\n",
    "        SimFunctions.SchedulePlus(Calendar, \"leukemia_doctor_1_service_start\", 0, next_patient)\n",
    "\n",
    "def leukemia_doctor_2_service_end(new_patient: Patient):\n",
    "    leukemia_doctor_2.Free(1)\n",
    "    SimFunctions.SchedulePlus(Calendar, \"process_complete\", 0, new_patient)\n",
    "\n",
    "    if leukemia_doctor_2.CurrentNumBusy < leukemia_doctor_2.NumberOfUnits and leukemia_doctor_2_queue.NumQueue() > 0:\n",
    "        leukemia_doctor_2.Seize(1)\n",
    "        next_patient = leukemia_doctor_2_queue.Remove()\n",
    "        leukemia_doctor_2_wait_time.Record(SimClasses.Clock - next_patient.enter_doctor_queue_time)\n",
    "        SimFunctions.SchedulePlus(Calendar, \"leukemia_doctor_2_service_start\", 0, next_patient)\n",
    "\n",
    "def transplant_doctor_1_service_end(new_patient: Patient):\n",
    "    transplant_doctor_1.Free(1)\n",
    "    SimFunctions.SchedulePlus(Calendar, \"process_complete\", 0, new_patient)\n",
    "\n",
    "    if transplant_doctor_1.CurrentNumBusy < transplant_doctor_1.NumberOfUnits and transplant_doctor_1_queue.NumQueue() > 0:\n",
    "        transplant_doctor_1.Seize(1)\n",
    "        next_patient = transplant_doctor_1_queue.Remove()\n",
    "        transplant_doctor_1_wait_time.Record(SimClasses.Clock - next_patient.enter_doctor_queue_time)\n",
    "        SimFunctions.SchedulePlus(Calendar, \"transplant_doctor_1_service_start\", 0, next_patient)\n",
    "\n",
    "def transplant_doctor_2_service_end(new_patient: Patient):\n",
    "    transplant_doctor_2.Free(1)\n",
    "    SimFunctions.SchedulePlus(Calendar, \"process_complete\", 0, new_patient)\n",
    "\n",
    "    if transplant_doctor_2.CurrentNumBusy < transplant_doctor_2.NumberOfUnits and transplant_doctor_2_queue.NumQueue() > 0:\n",
    "        transplant_doctor_2.Seize(1)\n",
    "        next_patient = transplant_doctor_2_queue.Remove()\n",
    "        transplant_doctor_2_wait_time.Record(SimClasses.Clock - next_patient.enter_doctor_queue_time)\n",
    "        SimFunctions.SchedulePlus(Calendar, \"transplant_doctor_2_service_start\", 0, next_patient)\n",
    "\n",
    "def transplant_doctor_3_service_end(new_patient: Patient):\n",
    "    transplant_doctor_3.Free(1)\n",
    "    SimFunctions.SchedulePlus(Calendar, \"process_complete\", 0, new_patient)\n",
    "\n",
    "    if transplant_doctor_3.CurrentNumBusy < transplant_doctor_3.NumberOfUnits and transplant_doctor_3_queue.NumQueue() > 0:\n",
    "        transplant_doctor_3.Seize(1)\n",
    "        next_patient = transplant_doctor_3_queue.Remove()\n",
    "        transplant_doctor_3_wait_time.Record(SimClasses.Clock - next_patient.enter_doctor_queue_time)\n",
    "        SimFunctions.SchedulePlus(Calendar, \"transplant_doctor_3_service_start\", 0, next_patient)"
   ]
  },
  {
   "cell_type": "code",
   "execution_count": 25,
   "id": "c506a33f",
   "metadata": {},
   "outputs": [],
   "source": [
    "def process_complete(new_patient: Patient, clock: float):\n",
    "    if new_patient.doctor_name == \"leukemia_doctor_1\":\n",
    "        if new_patient.complexity_level == \"complex\":\n",
    "            leukemia_doctor_1_complex_patients_total_processing_time.Record(SimClasses.Clock - new_patient.arrival_time)\n",
    "        else:\n",
    "            leukemia_doctor_1_regular_patients_total_processing_time.Record(SimClasses.Clock - new_patient.arrival_time)\n",
    "    elif new_patient.doctor_name == \"leukemia_doctor_2\":\n",
    "        if new_patient.complexity_level == \"complex\":\n",
    "            leukemia_doctor_2_complex_patients_total_processing_time.Record(SimClasses.Clock - new_patient.arrival_time)\n",
    "        else:\n",
    "            leukemia_doctor_2_regular_patients_total_processing_time.Record(SimClasses.Clock - new_patient.arrival_time)\n",
    "    elif new_patient.doctor_name == \"transplant_doctor_1\":\n",
    "        if new_patient.complexity_level == \"complex\":\n",
    "            transplant_doctor_1_complex_patients_total_processing_time.Record(SimClasses.Clock - new_patient.arrival_time)\n",
    "        else:\n",
    "            transplant_doctor_1_regular_patients_total_processing_time.Record(SimClasses.Clock - new_patient.arrival_time)\n",
    "    elif new_patient.doctor_name == \"transplant_doctor_2\":\n",
    "        if new_patient.complexity_level == \"complex\":\n",
    "            transplant_doctor_2_complex_patients_total_processing_time.Record(SimClasses.Clock - new_patient.arrival_time)\n",
    "        else:\n",
    "            transplant_doctor_2_regular_patients_total_processing_time.Record(SimClasses.Clock - new_patient.arrival_time)\n",
    "    elif new_patient.doctor_name == \"transplant_doctor_3\":\n",
    "        if new_patient.complexity_level == \"complex\":\n",
    "            transplant_doctor_3_complex_patients_total_processing_time.Record(SimClasses.Clock - new_patient.arrival_time)\n",
    "        else:\n",
    "            transplant_doctor_3_regular_patients_total_processing_time.Record(SimClasses.Clock - new_patient.arrival_time)\n",
    "    elif new_patient.doctor_name == \"other\":\n",
    "        other_patients_total_processing_time.Record(SimClasses.Clock - new_patient.arrival_time)\n",
    "    else:\n",
    "        raise ValueError(f\"Invalid doctor name: {new_patient.doctor_name}\")\n",
    "    \n",
    "    new_patient.end_visit(clock)"
   ]
  },
  {
   "cell_type": "code",
   "execution_count": null,
   "id": "687819ff",
   "metadata": {},
   "outputs": [],
   "source": [
    "def generate_patients(calendar: SimClasses.EventCalendar,parameters: ModelParameters):\n",
    "    \n",
    "    leukemia_doctor_1_number_of_patients = parameters.leukemia_doctor_1_number_of_regular_patients + parameters.leukemia_doctor_1_number_of_complex_patients\n",
    "    leukemia_doctor_1_patient_arrival_times = [60 + i*20 for i in range(leukemia_doctor_1_number_of_patients)]\n",
    "    leukemia_doctor_2_number_of_patients = parameters.leukemia_doctor_2_number_of_regular_patients + parameters.leukemia_doctor_2_number_of_complex_patients\n",
    "    leukemia_doctor_2_patient_arrival_times = [60 + i*20 for i in range(leukemia_doctor_2_number_of_patients)]\n",
    "\n",
    "    transplant_doctor_1_number_of_patients = parameters.transplant_doctor_1_number_of_regular_patients + parameters.transplant_doctor_1_number_of_complex_patients\n",
    "    transplant_doctor_1_patient_arrival_times = [60 + i*20 for i in range(transplant_doctor_1_number_of_patients)]\n",
    "    transplant_doctor_2_number_of_patients = parameters.transplant_doctor_2_number_of_regular_patients + parameters.transplant_doctor_2_number_of_complex_patients\n",
    "    transplant_doctor_2_patient_arrival_times = [60 + i*20 for i in range(transplant_doctor_2_number_of_patients)]\n",
    "    transplant_doctor_3_number_of_patients = parameters.transplant_doctor_3_number_of_regular_patients + parameters.transplant_doctor_3_number_of_complex_patients\n",
    "    transplant_doctor_3_patient_arrival_times = [60 + i*20 for i in range(transplant_doctor_3_number_of_patients)]\n",
    "\n",
    "    other_patients_arrival_times = [60 + i*10 for i in range(parameters.number_of_other_patients)]\n",
    "\n",
    "    leukemia_doctor_1_patients = initialize_patients(leukemia_doctor_1_patient_arrival_times, \"leukemia_doctor_1\", calendar)\n",
    "    leukemia_doctor_2_patients = initialize_patients(leukemia_doctor_2_patient_arrival_times, \"leukemia_doctor_2\", calendar)\n",
    "    transplant_doctor_1_patients = initialize_patients(transplant_doctor_1_patient_arrival_times, \"transplant_doctor_1\", calendar)\n",
    "    transplant_doctor_2_patients = initialize_patients(transplant_doctor_2_patient_arrival_times, \"transplant_doctor_2\", calendar)\n",
    "    transplant_doctor_3_patients = initialize_patients(transplant_doctor_3_patient_arrival_times, \"transplant_doctor_3\", calendar)\n",
    "    other_patients = initialize_patients(other_patients_arrival_times, \"other\", calendar)\n",
    "    list_of_patients = [leukemia_doctor_1_patients, leukemia_doctor_2_patients, transplant_doctor_1_patients, transplant_doctor_2_patients, transplant_doctor_3_patients, other_patients]\n",
    "\n",
    "    return list_of_patients"
   ]
  },
  {
   "cell_type": "code",
   "execution_count": 26,
   "id": "d50b928d",
   "metadata": {},
   "outputs": [
    {
     "data": {
      "application/vnd.jupyter.widget-view+json": {
       "model_id": "06d670dd38f14cc5b62704a868488e8e",
       "version_major": 2,
       "version_minor": 0
      },
      "text/plain": [
       "Running Simulation:   0%|          | 0/100 [00:00<?, ?it/s]"
      ]
     },
     "metadata": {},
     "output_type": "display_data"
    },
    {
     "data": {
      "application/vnd.jupyter.widget-view+json": {
       "model_id": "2ec5a2c3bb1d48e6b954b35387ad5dd6",
       "version_major": 2,
       "version_minor": 0
      },
      "text/plain": [
       "Iteration 1 in process:   0%|          | 0/101 [00:00<?, ?it/s]"
      ]
     },
     "metadata": {},
     "output_type": "display_data"
    },
    {
     "name": "stdout",
     "output_type": "stream",
     "text": [
      "\n",
      "Patient Schedule Summary — Doctor: leukemia_doctor_1, Complexity: complex, Visits Nurse: False\n",
      "+-----------------------+------------------+-------------------+\n",
      "| Stage                 | Scheduled Time   | Actual Time       |\n",
      "+=======================+==================+===================+\n",
      "| Arrival               | 60               | 47.00             |\n",
      "+-----------------------+------------------+-------------------+\n",
      "| Q-Flow Queue Entry    | -                | 47.00451842081329 |\n",
      "+-----------------------+------------------+-------------------+\n",
      "| Secretary Queue Entry | -                | 48.32067879141464 |\n",
      "+-----------------------+------------------+-------------------+\n",
      "| Nurse Queue Entry     | -                | N/A               |\n",
      "+-----------------------+------------------+-------------------+\n",
      "| Doctor Queue Entry    | -                | 48.50141310822976 |\n",
      "+-----------------------+------------------+-------------------+\n",
      "| End of Visit          | -                | 95.43214571382413 |\n",
      "+-----------------------+------------------+-------------------+\n",
      "\n",
      "Patient Schedule Summary — Doctor: leukemia_doctor_1, Complexity: complex, Visits Nurse: False\n",
      "+-----------------------+------------------+--------------------+\n",
      "| Stage                 | Scheduled Time   | Actual Time        |\n",
      "+=======================+==================+====================+\n",
      "| Arrival               | 80               | 86.34              |\n",
      "+-----------------------+------------------+--------------------+\n",
      "| Q-Flow Queue Entry    | -                | 86.34063123609283  |\n",
      "+-----------------------+------------------+--------------------+\n",
      "| Secretary Queue Entry | -                | 89.19899214573155  |\n",
      "+-----------------------+------------------+--------------------+\n",
      "| Nurse Queue Entry     | -                | N/A                |\n",
      "+-----------------------+------------------+--------------------+\n",
      "| Doctor Queue Entry    | -                | 91.94990956899215  |\n",
      "+-----------------------+------------------+--------------------+\n",
      "| End of Visit          | -                | 130.95268945932037 |\n",
      "+-----------------------+------------------+--------------------+\n",
      "\n",
      "Patient Schedule Summary — Doctor: leukemia_doctor_1, Complexity: regular, Visits Nurse: False\n",
      "+-----------------------+------------------+--------------------+\n",
      "| Stage                 | Scheduled Time   | Actual Time        |\n",
      "+=======================+==================+====================+\n",
      "| Arrival               | 100              | 92.97              |\n",
      "+-----------------------+------------------+--------------------+\n",
      "| Q-Flow Queue Entry    | -                | 92.97270237270419  |\n",
      "+-----------------------+------------------+--------------------+\n",
      "| Secretary Queue Entry | -                | 94.71569927731922  |\n",
      "+-----------------------+------------------+--------------------+\n",
      "| Nurse Queue Entry     | -                | N/A                |\n",
      "+-----------------------+------------------+--------------------+\n",
      "| Doctor Queue Entry    | -                | 101.2177366134926  |\n",
      "+-----------------------+------------------+--------------------+\n",
      "| End of Visit          | -                | 132.29420776231197 |\n",
      "+-----------------------+------------------+--------------------+\n",
      "\n",
      "Patient Schedule Summary — Doctor: leukemia_doctor_1, Complexity: regular, Visits Nurse: True\n",
      "+-----------------------+------------------+---------------+\n",
      "| Stage                 | Scheduled Time   |   Actual Time |\n",
      "+=======================+==================+===============+\n",
      "| Arrival               | 120              |       121.77  |\n",
      "+-----------------------+------------------+---------------+\n",
      "| Q-Flow Queue Entry    | -                |       121.77  |\n",
      "+-----------------------+------------------+---------------+\n",
      "| Secretary Queue Entry | -                |       124.858 |\n",
      "+-----------------------+------------------+---------------+\n",
      "| Nurse Queue Entry     | -                |       127.514 |\n",
      "+-----------------------+------------------+---------------+\n",
      "| Doctor Queue Entry    | -                |       319.087 |\n",
      "+-----------------------+------------------+---------------+\n",
      "| End of Visit          | -                |       331.28  |\n",
      "+-----------------------+------------------+---------------+\n",
      "\n",
      "Patient Schedule Summary — Doctor: leukemia_doctor_1, Complexity: regular, Visits Nurse: True\n",
      "+-----------------------+------------------+---------------+\n",
      "| Stage                 | Scheduled Time   |   Actual Time |\n",
      "+=======================+==================+===============+\n",
      "| Arrival               | 140              |       135.02  |\n",
      "+-----------------------+------------------+---------------+\n",
      "| Q-Flow Queue Entry    | -                |       135.022 |\n",
      "+-----------------------+------------------+---------------+\n",
      "| Secretary Queue Entry | -                |       135.284 |\n",
      "+-----------------------+------------------+---------------+\n",
      "| Nurse Queue Entry     | -                |       136.624 |\n",
      "+-----------------------+------------------+---------------+\n",
      "| Doctor Queue Entry    | -                |       186.484 |\n",
      "+-----------------------+------------------+---------------+\n",
      "| End of Visit          | -                |       226.034 |\n",
      "+-----------------------+------------------+---------------+\n",
      "\n",
      "Patient Schedule Summary — Doctor: leukemia_doctor_1, Complexity: complex, Visits Nurse: True\n",
      "+-----------------------+------------------+---------------+\n",
      "| Stage                 | Scheduled Time   |   Actual Time |\n",
      "+=======================+==================+===============+\n",
      "| Arrival               | 160              |       152.98  |\n",
      "+-----------------------+------------------+---------------+\n",
      "| Q-Flow Queue Entry    | -                |       152.977 |\n",
      "+-----------------------+------------------+---------------+\n",
      "| Secretary Queue Entry | -                |       154.964 |\n",
      "+-----------------------+------------------+---------------+\n",
      "| Nurse Queue Entry     | -                |       160.99  |\n",
      "+-----------------------+------------------+---------------+\n",
      "| Doctor Queue Entry    | -                |       359.709 |\n",
      "+-----------------------+------------------+---------------+\n",
      "| End of Visit          | -                |       399.285 |\n",
      "+-----------------------+------------------+---------------+\n",
      "\n",
      "Patient Schedule Summary — Doctor: leukemia_doctor_1, Complexity: regular, Visits Nurse: True\n",
      "+-----------------------+------------------+---------------+\n",
      "| Stage                 | Scheduled Time   |   Actual Time |\n",
      "+=======================+==================+===============+\n",
      "| Arrival               | 180              |       166.16  |\n",
      "+-----------------------+------------------+---------------+\n",
      "| Q-Flow Queue Entry    | -                |       166.158 |\n",
      "+-----------------------+------------------+---------------+\n",
      "| Secretary Queue Entry | -                |       166.384 |\n",
      "+-----------------------+------------------+---------------+\n",
      "| Nurse Queue Entry     | -                |       172.964 |\n",
      "+-----------------------+------------------+---------------+\n",
      "| Doctor Queue Entry    | -                |       368.332 |\n",
      "+-----------------------+------------------+---------------+\n",
      "| End of Visit          | -                |       402.305 |\n",
      "+-----------------------+------------------+---------------+\n",
      "\n",
      "Patient Schedule Summary — Doctor: leukemia_doctor_1, Complexity: regular, Visits Nurse: True\n",
      "+-----------------------+------------------+---------------+\n",
      "| Stage                 | Scheduled Time   |   Actual Time |\n",
      "+=======================+==================+===============+\n",
      "| Arrival               | 200              |       190.49  |\n",
      "+-----------------------+------------------+---------------+\n",
      "| Q-Flow Queue Entry    | -                |       190.495 |\n",
      "+-----------------------+------------------+---------------+\n",
      "| Secretary Queue Entry | -                |       193.386 |\n",
      "+-----------------------+------------------+---------------+\n",
      "| Nurse Queue Entry     | -                |       196.478 |\n",
      "+-----------------------+------------------+---------------+\n",
      "| Doctor Queue Entry    | -                |       469.182 |\n",
      "+-----------------------+------------------+---------------+\n",
      "| End of Visit          | -                |       542.607 |\n",
      "+-----------------------+------------------+---------------+\n",
      "\n",
      "Patient Schedule Summary — Doctor: leukemia_doctor_1, Complexity: regular, Visits Nurse: True\n",
      "+-----------------------+------------------+---------------+\n",
      "| Stage                 | Scheduled Time   |   Actual Time |\n",
      "+=======================+==================+===============+\n",
      "| Arrival               | 220              |       218.05  |\n",
      "+-----------------------+------------------+---------------+\n",
      "| Q-Flow Queue Entry    | -                |       218.045 |\n",
      "+-----------------------+------------------+---------------+\n",
      "| Secretary Queue Entry | -                |       219.42  |\n",
      "+-----------------------+------------------+---------------+\n",
      "| Nurse Queue Entry     | -                |       222.105 |\n",
      "+-----------------------+------------------+---------------+\n",
      "| Doctor Queue Entry    | -                |       449.705 |\n",
      "+-----------------------+------------------+---------------+\n",
      "| End of Visit          | -                |       464.751 |\n",
      "+-----------------------+------------------+---------------+\n",
      "\n",
      "Patient Schedule Summary — Doctor: leukemia_doctor_1, Complexity: regular, Visits Nurse: True\n",
      "+-----------------------+------------------+---------------+\n",
      "| Stage                 | Scheduled Time   |   Actual Time |\n",
      "+=======================+==================+===============+\n",
      "| Arrival               | 240              |       263.7   |\n",
      "+-----------------------+------------------+---------------+\n",
      "| Q-Flow Queue Entry    | -                |       263.697 |\n",
      "+-----------------------+------------------+---------------+\n",
      "| Secretary Queue Entry | -                |       264.464 |\n",
      "+-----------------------+------------------+---------------+\n",
      "| Nurse Queue Entry     | -                |       267.619 |\n",
      "+-----------------------+------------------+---------------+\n",
      "| Doctor Queue Entry    | -                |       525.651 |\n",
      "+-----------------------+------------------+---------------+\n",
      "| End of Visit          | -                |       561.456 |\n",
      "+-----------------------+------------------+---------------+\n",
      "\n",
      "Patient Schedule Summary — Doctor: leukemia_doctor_1, Complexity: regular, Visits Nurse: True\n",
      "+-----------------------+------------------+---------------+\n",
      "| Stage                 | Scheduled Time   |   Actual Time |\n",
      "+=======================+==================+===============+\n",
      "| Arrival               | 260              |       255.32  |\n",
      "+-----------------------+------------------+---------------+\n",
      "| Q-Flow Queue Entry    | -                |       255.321 |\n",
      "+-----------------------+------------------+---------------+\n",
      "| Secretary Queue Entry | -                |       257.176 |\n",
      "+-----------------------+------------------+---------------+\n",
      "| Nurse Queue Entry     | -                |       267.472 |\n",
      "+-----------------------+------------------+---------------+\n",
      "| Doctor Queue Entry    | -                |       492.877 |\n",
      "+-----------------------+------------------+---------------+\n",
      "| End of Visit          | -                |       553.549 |\n",
      "+-----------------------+------------------+---------------+\n",
      "\n",
      "Patient Schedule Summary — Doctor: leukemia_doctor_1, Complexity: complex, Visits Nurse: True\n",
      "+-----------------------+------------------+---------------+\n",
      "| Stage                 | Scheduled Time   |   Actual Time |\n",
      "+=======================+==================+===============+\n",
      "| Arrival               | 280              |       280.48  |\n",
      "+-----------------------+------------------+---------------+\n",
      "| Q-Flow Queue Entry    | -                |       280.482 |\n",
      "+-----------------------+------------------+---------------+\n",
      "| Secretary Queue Entry | -                |       283.007 |\n",
      "+-----------------------+------------------+---------------+\n",
      "| Nurse Queue Entry     | -                |       302.989 |\n",
      "+-----------------------+------------------+---------------+\n",
      "| Doctor Queue Entry    | -                |       607.039 |\n",
      "+-----------------------+------------------+---------------+\n",
      "| End of Visit          | -                |       639.289 |\n",
      "+-----------------------+------------------+---------------+\n",
      "\n",
      "Patient Schedule Summary — Doctor: leukemia_doctor_1, Complexity: regular, Visits Nurse: True\n",
      "+-----------------------+------------------+---------------+\n",
      "| Stage                 | Scheduled Time   |   Actual Time |\n",
      "+=======================+==================+===============+\n",
      "| Arrival               | 300              |       309.2   |\n",
      "+-----------------------+------------------+---------------+\n",
      "| Q-Flow Queue Entry    | -                |       309.203 |\n",
      "+-----------------------+------------------+---------------+\n",
      "| Secretary Queue Entry | -                |       311.41  |\n",
      "+-----------------------+------------------+---------------+\n",
      "| Nurse Queue Entry     | -                |       313.27  |\n",
      "+-----------------------+------------------+---------------+\n",
      "| Doctor Queue Entry    | -                |       618.243 |\n",
      "+-----------------------+------------------+---------------+\n",
      "| End of Visit          | -                |       649.626 |\n",
      "+-----------------------+------------------+---------------+\n",
      "\n",
      "Patient Schedule Summary — Doctor: leukemia_doctor_1, Complexity: complex, Visits Nurse: True\n",
      "+-----------------------+------------------+---------------+\n",
      "| Stage                 | Scheduled Time   |   Actual Time |\n",
      "+=======================+==================+===============+\n",
      "| Arrival               | 320              |       310.93  |\n",
      "+-----------------------+------------------+---------------+\n",
      "| Q-Flow Queue Entry    | -                |       310.934 |\n",
      "+-----------------------+------------------+---------------+\n",
      "| Secretary Queue Entry | -                |       313.184 |\n",
      "+-----------------------+------------------+---------------+\n",
      "| Nurse Queue Entry     | -                |       317.016 |\n",
      "+-----------------------+------------------+---------------+\n",
      "| Doctor Queue Entry    | -                |       636.66  |\n",
      "+-----------------------+------------------+---------------+\n",
      "| End of Visit          | -                |       691.211 |\n",
      "+-----------------------+------------------+---------------+\n",
      "\n",
      "Patient Schedule Summary — Doctor: leukemia_doctor_2, Complexity: regular, Visits Nurse: False\n",
      "+-----------------------+------------------+--------------------+\n",
      "| Stage                 | Scheduled Time   | Actual Time        |\n",
      "+=======================+==================+====================+\n",
      "| Arrival               | 60               | 62.75              |\n",
      "+-----------------------+------------------+--------------------+\n",
      "| Q-Flow Queue Entry    | -                | 62.750693033825556 |\n",
      "+-----------------------+------------------+--------------------+\n",
      "| Secretary Queue Entry | -                | 62.8089841777908   |\n",
      "+-----------------------+------------------+--------------------+\n",
      "| Nurse Queue Entry     | -                | N/A                |\n",
      "+-----------------------+------------------+--------------------+\n",
      "| Doctor Queue Entry    | -                | 64.2567448824413   |\n",
      "+-----------------------+------------------+--------------------+\n",
      "| End of Visit          | -                | 81.58745797309761  |\n",
      "+-----------------------+------------------+--------------------+\n",
      "\n",
      "Patient Schedule Summary — Doctor: leukemia_doctor_2, Complexity: regular, Visits Nurse: False\n",
      "+-----------------------+------------------+-------------------+\n",
      "| Stage                 | Scheduled Time   | Actual Time       |\n",
      "+=======================+==================+===================+\n",
      "| Arrival               | 80               | 83.45             |\n",
      "+-----------------------+------------------+-------------------+\n",
      "| Q-Flow Queue Entry    | -                | 83.44548291891138 |\n",
      "+-----------------------+------------------+-------------------+\n",
      "| Secretary Queue Entry | -                | 84.82651824478121 |\n",
      "+-----------------------+------------------+-------------------+\n",
      "| Nurse Queue Entry     | -                | N/A               |\n",
      "+-----------------------+------------------+-------------------+\n",
      "| Doctor Queue Entry    | -                | 92.65919173136797 |\n",
      "+-----------------------+------------------+-------------------+\n",
      "| End of Visit          | -                | 93.3182766398889  |\n",
      "+-----------------------+------------------+-------------------+\n",
      "\n",
      "Patient Schedule Summary — Doctor: leukemia_doctor_2, Complexity: regular, Visits Nurse: False\n",
      "+-----------------------+------------------+--------------------+\n",
      "| Stage                 | Scheduled Time   | Actual Time        |\n",
      "+=======================+==================+====================+\n",
      "| Arrival               | 100              | 107.00             |\n",
      "+-----------------------+------------------+--------------------+\n",
      "| Q-Flow Queue Entry    | -                | 106.99758334822936 |\n",
      "+-----------------------+------------------+--------------------+\n",
      "| Secretary Queue Entry | -                | 107.25723009169492 |\n",
      "+-----------------------+------------------+--------------------+\n",
      "| Nurse Queue Entry     | -                | N/A                |\n",
      "+-----------------------+------------------+--------------------+\n",
      "| Doctor Queue Entry    | -                | 116.36664079579441 |\n",
      "+-----------------------+------------------+--------------------+\n",
      "| End of Visit          | -                | 129.15339151745468 |\n",
      "+-----------------------+------------------+--------------------+\n",
      "\n",
      "Patient Schedule Summary — Doctor: leukemia_doctor_2, Complexity: regular, Visits Nurse: False\n",
      "+-----------------------+------------------+--------------------+\n",
      "| Stage                 | Scheduled Time   | Actual Time        |\n",
      "+=======================+==================+====================+\n",
      "| Arrival               | 120              | 133.05             |\n",
      "+-----------------------+------------------+--------------------+\n",
      "| Q-Flow Queue Entry    | -                | 133.05422866885309 |\n",
      "+-----------------------+------------------+--------------------+\n",
      "| Secretary Queue Entry | -                | 134.51869782414676 |\n",
      "+-----------------------+------------------+--------------------+\n",
      "| Nurse Queue Entry     | -                | N/A                |\n",
      "+-----------------------+------------------+--------------------+\n",
      "| Doctor Queue Entry    | -                | 136.4292944767027  |\n",
      "+-----------------------+------------------+--------------------+\n",
      "| End of Visit          | -                | 151.24437177667778 |\n",
      "+-----------------------+------------------+--------------------+\n",
      "\n",
      "Patient Schedule Summary — Doctor: leukemia_doctor_2, Complexity: complex, Visits Nurse: True\n",
      "+-----------------------+------------------+---------------+\n",
      "| Stage                 | Scheduled Time   |   Actual Time |\n",
      "+=======================+==================+===============+\n",
      "| Arrival               | 140              |       142.6   |\n",
      "+-----------------------+------------------+---------------+\n",
      "| Q-Flow Queue Entry    | -                |       142.603 |\n",
      "+-----------------------+------------------+---------------+\n",
      "| Secretary Queue Entry | -                |       142.959 |\n",
      "+-----------------------+------------------+---------------+\n",
      "| Nurse Queue Entry     | -                |       148.152 |\n",
      "+-----------------------+------------------+---------------+\n",
      "| Doctor Queue Entry    | -                |       347.801 |\n",
      "+-----------------------+------------------+---------------+\n",
      "| End of Visit          | -                |       408.873 |\n",
      "+-----------------------+------------------+---------------+\n",
      "\n",
      "Patient Schedule Summary — Doctor: leukemia_doctor_2, Complexity: regular, Visits Nurse: True\n",
      "+-----------------------+------------------+---------------+\n",
      "| Stage                 | Scheduled Time   |   Actual Time |\n",
      "+=======================+==================+===============+\n",
      "| Arrival               | 160              |       161.53  |\n",
      "+-----------------------+------------------+---------------+\n",
      "| Q-Flow Queue Entry    | -                |       161.526 |\n",
      "+-----------------------+------------------+---------------+\n",
      "| Secretary Queue Entry | -                |       162.197 |\n",
      "+-----------------------+------------------+---------------+\n",
      "| Nurse Queue Entry     | -                |       163.019 |\n",
      "+-----------------------+------------------+---------------+\n",
      "| Doctor Queue Entry    | -                |       351.015 |\n",
      "+-----------------------+------------------+---------------+\n",
      "| End of Visit          | -                |       491.252 |\n",
      "+-----------------------+------------------+---------------+\n",
      "\n",
      "Patient Schedule Summary — Doctor: leukemia_doctor_2, Complexity: regular, Visits Nurse: True\n",
      "+-----------------------+------------------+---------------+\n",
      "| Stage                 | Scheduled Time   |   Actual Time |\n",
      "+=======================+==================+===============+\n",
      "| Arrival               | 180              |       173.14  |\n",
      "+-----------------------+------------------+---------------+\n",
      "| Q-Flow Queue Entry    | -                |       173.144 |\n",
      "+-----------------------+------------------+---------------+\n",
      "| Secretary Queue Entry | -                |       173.649 |\n",
      "+-----------------------+------------------+---------------+\n",
      "| Nurse Queue Entry     | -                |       179.211 |\n",
      "+-----------------------+------------------+---------------+\n",
      "| Doctor Queue Entry    | -                |       407.205 |\n",
      "+-----------------------+------------------+---------------+\n",
      "| End of Visit          | -                |       553.266 |\n",
      "+-----------------------+------------------+---------------+\n",
      "\n",
      "Patient Schedule Summary — Doctor: leukemia_doctor_2, Complexity: regular, Visits Nurse: True\n",
      "+-----------------------+------------------+---------------+\n",
      "| Stage                 | Scheduled Time   |   Actual Time |\n",
      "+=======================+==================+===============+\n",
      "| Arrival               | 200              |       192.36  |\n",
      "+-----------------------+------------------+---------------+\n",
      "| Q-Flow Queue Entry    | -                |       192.358 |\n",
      "+-----------------------+------------------+---------------+\n",
      "| Secretary Queue Entry | -                |       194.531 |\n",
      "+-----------------------+------------------+---------------+\n",
      "| Nurse Queue Entry     | -                |       197.115 |\n",
      "+-----------------------+------------------+---------------+\n",
      "| Doctor Queue Entry    | -                |       396.08  |\n",
      "+-----------------------+------------------+---------------+\n",
      "| End of Visit          | -                |       545.537 |\n",
      "+-----------------------+------------------+---------------+\n",
      "\n",
      "Patient Schedule Summary — Doctor: leukemia_doctor_2, Complexity: regular, Visits Nurse: True\n",
      "+-----------------------+------------------+---------------+\n",
      "| Stage                 | Scheduled Time   |   Actual Time |\n",
      "+=======================+==================+===============+\n",
      "| Arrival               | 220              |       204.87  |\n",
      "+-----------------------+------------------+---------------+\n",
      "| Q-Flow Queue Entry    | -                |       204.873 |\n",
      "+-----------------------+------------------+---------------+\n",
      "| Secretary Queue Entry | -                |       205.764 |\n",
      "+-----------------------+------------------+---------------+\n",
      "| Nurse Queue Entry     | -                |       206.31  |\n",
      "+-----------------------+------------------+---------------+\n",
      "| Doctor Queue Entry    | -                |       431.432 |\n",
      "+-----------------------+------------------+---------------+\n",
      "| End of Visit          | -                |       554.345 |\n",
      "+-----------------------+------------------+---------------+\n",
      "\n",
      "Patient Schedule Summary — Doctor: leukemia_doctor_2, Complexity: regular, Visits Nurse: False\n",
      "+-----------------------+------------------+--------------------+\n",
      "| Stage                 | Scheduled Time   | Actual Time        |\n",
      "+=======================+==================+====================+\n",
      "| Arrival               | 240              | 244.07             |\n",
      "+-----------------------+------------------+--------------------+\n",
      "| Q-Flow Queue Entry    | -                | 244.0652312171737  |\n",
      "+-----------------------+------------------+--------------------+\n",
      "| Secretary Queue Entry | -                | 245.23391482900578 |\n",
      "+-----------------------+------------------+--------------------+\n",
      "| Nurse Queue Entry     | -                | N/A                |\n",
      "+-----------------------+------------------+--------------------+\n",
      "| Doctor Queue Entry    | -                | 250.68580235210817 |\n",
      "+-----------------------+------------------+--------------------+\n",
      "| End of Visit          | -                | 252.52435270492617 |\n",
      "+-----------------------+------------------+--------------------+\n",
      "\n",
      "Patient Schedule Summary — Doctor: transplant_doctor_1, Complexity: regular, Visits Nurse: True\n",
      "+-----------------------+------------------+---------------+\n",
      "| Stage                 | Scheduled Time   |   Actual Time |\n",
      "+=======================+==================+===============+\n",
      "| Arrival               | 60               |       67.76   |\n",
      "+-----------------------+------------------+---------------+\n",
      "| Q-Flow Queue Entry    | -                |       67.7641 |\n",
      "+-----------------------+------------------+---------------+\n",
      "| Secretary Queue Entry | -                |       68.2588 |\n",
      "+-----------------------+------------------+---------------+\n",
      "| Nurse Queue Entry     | -                |       78.4991 |\n",
      "+-----------------------+------------------+---------------+\n",
      "| Doctor Queue Entry    | -                |       88.1005 |\n",
      "+-----------------------+------------------+---------------+\n",
      "| End of Visit          | -                |       97.2594 |\n",
      "+-----------------------+------------------+---------------+\n",
      "\n",
      "Patient Schedule Summary — Doctor: transplant_doctor_1, Complexity: regular, Visits Nurse: True\n",
      "+-----------------------+------------------+---------------+\n",
      "| Stage                 | Scheduled Time   |   Actual Time |\n",
      "+=======================+==================+===============+\n",
      "| Arrival               | 80               |       79.5    |\n",
      "+-----------------------+------------------+---------------+\n",
      "| Q-Flow Queue Entry    | -                |       79.5039 |\n",
      "+-----------------------+------------------+---------------+\n",
      "| Secretary Queue Entry | -                |       79.7522 |\n",
      "+-----------------------+------------------+---------------+\n",
      "| Nurse Queue Entry     | -                |       83.1387 |\n",
      "+-----------------------+------------------+---------------+\n",
      "| Doctor Queue Entry    | -                |       84.4231 |\n",
      "+-----------------------+------------------+---------------+\n",
      "| End of Visit          | -                |       96.7519 |\n",
      "+-----------------------+------------------+---------------+\n",
      "\n",
      "Patient Schedule Summary — Doctor: transplant_doctor_1, Complexity: regular, Visits Nurse: True\n",
      "+-----------------------+------------------+---------------+\n",
      "| Stage                 | Scheduled Time   |   Actual Time |\n",
      "+=======================+==================+===============+\n",
      "| Arrival               | 100              |       100.01  |\n",
      "+-----------------------+------------------+---------------+\n",
      "| Q-Flow Queue Entry    | -                |       100.007 |\n",
      "+-----------------------+------------------+---------------+\n",
      "| Secretary Queue Entry | -                |       100.223 |\n",
      "+-----------------------+------------------+---------------+\n",
      "| Nurse Queue Entry     | -                |       100.595 |\n",
      "+-----------------------+------------------+---------------+\n",
      "| Doctor Queue Entry    | -                |       179.936 |\n",
      "+-----------------------+------------------+---------------+\n",
      "| End of Visit          | -                |       188.569 |\n",
      "+-----------------------+------------------+---------------+\n",
      "\n",
      "Patient Schedule Summary — Doctor: transplant_doctor_1, Complexity: regular, Visits Nurse: True\n",
      "+-----------------------+------------------+---------------+\n",
      "| Stage                 | Scheduled Time   |   Actual Time |\n",
      "+=======================+==================+===============+\n",
      "| Arrival               | 120              |       103.09  |\n",
      "+-----------------------+------------------+---------------+\n",
      "| Q-Flow Queue Entry    | -                |       103.085 |\n",
      "+-----------------------+------------------+---------------+\n",
      "| Secretary Queue Entry | -                |       103.584 |\n",
      "+-----------------------+------------------+---------------+\n",
      "| Nurse Queue Entry     | -                |       109.417 |\n",
      "+-----------------------+------------------+---------------+\n",
      "| Doctor Queue Entry    | -                |       194.517 |\n",
      "+-----------------------+------------------+---------------+\n",
      "| End of Visit          | -                |       198.595 |\n",
      "+-----------------------+------------------+---------------+\n",
      "\n",
      "Patient Schedule Summary — Doctor: transplant_doctor_1, Complexity: regular, Visits Nurse: True\n",
      "+-----------------------+------------------+---------------+\n",
      "| Stage                 | Scheduled Time   |   Actual Time |\n",
      "+=======================+==================+===============+\n",
      "| Arrival               | 140              |       152.03  |\n",
      "+-----------------------+------------------+---------------+\n",
      "| Q-Flow Queue Entry    | -                |       152.027 |\n",
      "+-----------------------+------------------+---------------+\n",
      "| Secretary Queue Entry | -                |       152.134 |\n",
      "+-----------------------+------------------+---------------+\n",
      "| Nurse Queue Entry     | -                |       157.168 |\n",
      "+-----------------------+------------------+---------------+\n",
      "| Doctor Queue Entry    | -                |       177.168 |\n",
      "+-----------------------+------------------+---------------+\n",
      "| End of Visit          | -                |       184.073 |\n",
      "+-----------------------+------------------+---------------+\n",
      "\n",
      "Patient Schedule Summary — Doctor: transplant_doctor_1, Complexity: regular, Visits Nurse: True\n",
      "+-----------------------+------------------+---------------+\n",
      "| Stage                 | Scheduled Time   |   Actual Time |\n",
      "+=======================+==================+===============+\n",
      "| Arrival               | 160              |       171.02  |\n",
      "+-----------------------+------------------+---------------+\n",
      "| Q-Flow Queue Entry    | -                |       171.018 |\n",
      "+-----------------------+------------------+---------------+\n",
      "| Secretary Queue Entry | -                |       173.04  |\n",
      "+-----------------------+------------------+---------------+\n",
      "| Nurse Queue Entry     | -                |       173.617 |\n",
      "+-----------------------+------------------+---------------+\n",
      "| Doctor Queue Entry    | -                |       214.876 |\n",
      "+-----------------------+------------------+---------------+\n",
      "| End of Visit          | -                |       289.376 |\n",
      "+-----------------------+------------------+---------------+\n",
      "\n",
      "Patient Schedule Summary — Doctor: transplant_doctor_1, Complexity: regular, Visits Nurse: True\n",
      "+-----------------------+------------------+---------------+\n",
      "| Stage                 | Scheduled Time   |   Actual Time |\n",
      "+=======================+==================+===============+\n",
      "| Arrival               | 180              |       183.7   |\n",
      "+-----------------------+------------------+---------------+\n",
      "| Q-Flow Queue Entry    | -                |       183.699 |\n",
      "+-----------------------+------------------+---------------+\n",
      "| Secretary Queue Entry | -                |       183.703 |\n",
      "+-----------------------+------------------+---------------+\n",
      "| Nurse Queue Entry     | -                |       188.02  |\n",
      "+-----------------------+------------------+---------------+\n",
      "| Doctor Queue Entry    | -                |       213.482 |\n",
      "+-----------------------+------------------+---------------+\n",
      "| End of Visit          | -                |       281.738 |\n",
      "+-----------------------+------------------+---------------+\n",
      "\n",
      "Patient Schedule Summary — Doctor: transplant_doctor_1, Complexity: regular, Visits Nurse: True\n",
      "+-----------------------+------------------+---------------+\n",
      "| Stage                 | Scheduled Time   |   Actual Time |\n",
      "+=======================+==================+===============+\n",
      "| Arrival               | 200              |       190.05  |\n",
      "+-----------------------+------------------+---------------+\n",
      "| Q-Flow Queue Entry    | -                |       190.046 |\n",
      "+-----------------------+------------------+---------------+\n",
      "| Secretary Queue Entry | -                |       190.553 |\n",
      "+-----------------------+------------------+---------------+\n",
      "| Nurse Queue Entry     | -                |       195.541 |\n",
      "+-----------------------+------------------+---------------+\n",
      "| Doctor Queue Entry    | -                |       220.595 |\n",
      "+-----------------------+------------------+---------------+\n",
      "| End of Visit          | -                |       290.485 |\n",
      "+-----------------------+------------------+---------------+\n",
      "\n",
      "Patient Schedule Summary — Doctor: transplant_doctor_1, Complexity: regular, Visits Nurse: True\n",
      "+-----------------------+------------------+---------------+\n",
      "| Stage                 | Scheduled Time   |   Actual Time |\n",
      "+=======================+==================+===============+\n",
      "| Arrival               | 220              |       224.39  |\n",
      "+-----------------------+------------------+---------------+\n",
      "| Q-Flow Queue Entry    | -                |       224.39  |\n",
      "+-----------------------+------------------+---------------+\n",
      "| Secretary Queue Entry | -                |       225.44  |\n",
      "+-----------------------+------------------+---------------+\n",
      "| Nurse Queue Entry     | -                |       229.235 |\n",
      "+-----------------------+------------------+---------------+\n",
      "| Doctor Queue Entry    | -                |       427.835 |\n",
      "+-----------------------+------------------+---------------+\n",
      "| End of Visit          | -                |       428.318 |\n",
      "+-----------------------+------------------+---------------+\n",
      "\n",
      "Patient Schedule Summary — Doctor: transplant_doctor_1, Complexity: regular, Visits Nurse: True\n",
      "+-----------------------+------------------+---------------+\n",
      "| Stage                 | Scheduled Time   |   Actual Time |\n",
      "+=======================+==================+===============+\n",
      "| Arrival               | 240              |       237.47  |\n",
      "+-----------------------+------------------+---------------+\n",
      "| Q-Flow Queue Entry    | -                |       237.469 |\n",
      "+-----------------------+------------------+---------------+\n",
      "| Secretary Queue Entry | -                |       239.278 |\n",
      "+-----------------------+------------------+---------------+\n",
      "| Nurse Queue Entry     | -                |       242.911 |\n",
      "+-----------------------+------------------+---------------+\n",
      "| Doctor Queue Entry    | -                |       247.364 |\n",
      "+-----------------------+------------------+---------------+\n",
      "| End of Visit          | -                |       328.085 |\n",
      "+-----------------------+------------------+---------------+\n",
      "\n",
      "Patient Schedule Summary — Doctor: transplant_doctor_1, Complexity: regular, Visits Nurse: True\n",
      "+-----------------------+------------------+---------------+\n",
      "| Stage                 | Scheduled Time   |   Actual Time |\n",
      "+=======================+==================+===============+\n",
      "| Arrival               | 260              |       242.05  |\n",
      "+-----------------------+------------------+---------------+\n",
      "| Q-Flow Queue Entry    | -                |       242.052 |\n",
      "+-----------------------+------------------+---------------+\n",
      "| Secretary Queue Entry | -                |       242.747 |\n",
      "+-----------------------+------------------+---------------+\n",
      "| Nurse Queue Entry     | -                |       245.232 |\n",
      "+-----------------------+------------------+---------------+\n",
      "| Doctor Queue Entry    | -                |       526.069 |\n",
      "+-----------------------+------------------+---------------+\n",
      "| End of Visit          | -                |       566.54  |\n",
      "+-----------------------+------------------+---------------+\n",
      "\n",
      "Patient Schedule Summary — Doctor: transplant_doctor_1, Complexity: regular, Visits Nurse: True\n",
      "+-----------------------+------------------+---------------+\n",
      "| Stage                 | Scheduled Time   |   Actual Time |\n",
      "+=======================+==================+===============+\n",
      "| Arrival               | 280              |       294.53  |\n",
      "+-----------------------+------------------+---------------+\n",
      "| Q-Flow Queue Entry    | -                |       294.533 |\n",
      "+-----------------------+------------------+---------------+\n",
      "| Secretary Queue Entry | -                |       294.943 |\n",
      "+-----------------------+------------------+---------------+\n",
      "| Nurse Queue Entry     | -                |       307.684 |\n",
      "+-----------------------+------------------+---------------+\n",
      "| Doctor Queue Entry    | -                |       617.653 |\n",
      "+-----------------------+------------------+---------------+\n",
      "| End of Visit          | -                |       619.885 |\n",
      "+-----------------------+------------------+---------------+\n",
      "\n",
      "Patient Schedule Summary — Doctor: transplant_doctor_1, Complexity: complex, Visits Nurse: True\n",
      "+-----------------------+------------------+---------------+\n",
      "| Stage                 | Scheduled Time   |   Actual Time |\n",
      "+=======================+==================+===============+\n",
      "| Arrival               | 300              |       300.76  |\n",
      "+-----------------------+------------------+---------------+\n",
      "| Q-Flow Queue Entry    | -                |       300.759 |\n",
      "+-----------------------+------------------+---------------+\n",
      "| Secretary Queue Entry | -                |       301.918 |\n",
      "+-----------------------+------------------+---------------+\n",
      "| Nurse Queue Entry     | -                |       308.608 |\n",
      "+-----------------------+------------------+---------------+\n",
      "| Doctor Queue Entry    | -                |       317.11  |\n",
      "+-----------------------+------------------+---------------+\n",
      "| End of Visit          | -                |       351.642 |\n",
      "+-----------------------+------------------+---------------+\n",
      "\n",
      "Patient Schedule Summary — Doctor: transplant_doctor_2, Complexity: regular, Visits Nurse: True\n",
      "+-----------------------+------------------+---------------+\n",
      "| Stage                 | Scheduled Time   |   Actual Time |\n",
      "+=======================+==================+===============+\n",
      "| Arrival               | 60               |       41.75   |\n",
      "+-----------------------+------------------+---------------+\n",
      "| Q-Flow Queue Entry    | -                |       41.7545 |\n",
      "+-----------------------+------------------+---------------+\n",
      "| Secretary Queue Entry | -                |       43.0161 |\n",
      "+-----------------------+------------------+---------------+\n",
      "| Nurse Queue Entry     | -                |       43.9568 |\n",
      "+-----------------------+------------------+---------------+\n",
      "| Doctor Queue Entry    | -                |       62.3726 |\n",
      "+-----------------------+------------------+---------------+\n",
      "| End of Visit          | -                |       81.0578 |\n",
      "+-----------------------+------------------+---------------+\n",
      "\n",
      "Patient Schedule Summary — Doctor: transplant_doctor_2, Complexity: complex, Visits Nurse: True\n",
      "+-----------------------+------------------+---------------+\n",
      "| Stage                 | Scheduled Time   |   Actual Time |\n",
      "+=======================+==================+===============+\n",
      "| Arrival               | 80               |       79.09   |\n",
      "+-----------------------+------------------+---------------+\n",
      "| Q-Flow Queue Entry    | -                |       79.0875 |\n",
      "+-----------------------+------------------+---------------+\n",
      "| Secretary Queue Entry | -                |       79.3323 |\n",
      "+-----------------------+------------------+---------------+\n",
      "| Nurse Queue Entry     | -                |       79.7084 |\n",
      "+-----------------------+------------------+---------------+\n",
      "| Doctor Queue Entry    | -                |       85.6389 |\n",
      "+-----------------------+------------------+---------------+\n",
      "| End of Visit          | -                |      101.286  |\n",
      "+-----------------------+------------------+---------------+\n",
      "\n",
      "Patient Schedule Summary — Doctor: transplant_doctor_2, Complexity: regular, Visits Nurse: True\n",
      "+-----------------------+------------------+---------------+\n",
      "| Stage                 | Scheduled Time   |   Actual Time |\n",
      "+=======================+==================+===============+\n",
      "| Arrival               | 100              |       91.21   |\n",
      "+-----------------------+------------------+---------------+\n",
      "| Q-Flow Queue Entry    | -                |       91.2126 |\n",
      "+-----------------------+------------------+---------------+\n",
      "| Secretary Queue Entry | -                |       91.3681 |\n",
      "+-----------------------+------------------+---------------+\n",
      "| Nurse Queue Entry     | -                |       92.8234 |\n",
      "+-----------------------+------------------+---------------+\n",
      "| Doctor Queue Entry    | -                |      117.94   |\n",
      "+-----------------------+------------------+---------------+\n",
      "| End of Visit          | -                |      166.469  |\n",
      "+-----------------------+------------------+---------------+\n",
      "\n",
      "Patient Schedule Summary — Doctor: transplant_doctor_2, Complexity: regular, Visits Nurse: True\n",
      "+-----------------------+------------------+---------------+\n",
      "| Stage                 | Scheduled Time   |   Actual Time |\n",
      "+=======================+==================+===============+\n",
      "| Arrival               | 120              |       129.03  |\n",
      "+-----------------------+------------------+---------------+\n",
      "| Q-Flow Queue Entry    | -                |       129.033 |\n",
      "+-----------------------+------------------+---------------+\n",
      "| Secretary Queue Entry | -                |       130.562 |\n",
      "+-----------------------+------------------+---------------+\n",
      "| Nurse Queue Entry     | -                |       131.103 |\n",
      "+-----------------------+------------------+---------------+\n",
      "| Doctor Queue Entry    | -                |       260.157 |\n",
      "+-----------------------+------------------+---------------+\n",
      "| End of Visit          | -                |       263.721 |\n",
      "+-----------------------+------------------+---------------+\n",
      "\n",
      "Patient Schedule Summary — Doctor: transplant_doctor_2, Complexity: regular, Visits Nurse: True\n",
      "+-----------------------+------------------+---------------+\n",
      "| Stage                 | Scheduled Time   |   Actual Time |\n",
      "+=======================+==================+===============+\n",
      "| Arrival               | 140              |       140.39  |\n",
      "+-----------------------+------------------+---------------+\n",
      "| Q-Flow Queue Entry    | -                |       140.39  |\n",
      "+-----------------------+------------------+---------------+\n",
      "| Secretary Queue Entry | -                |       140.45  |\n",
      "+-----------------------+------------------+---------------+\n",
      "| Nurse Queue Entry     | -                |       142.595 |\n",
      "+-----------------------+------------------+---------------+\n",
      "| Doctor Queue Entry    | -                |       150.391 |\n",
      "+-----------------------+------------------+---------------+\n",
      "| End of Visit          | -                |       171.527 |\n",
      "+-----------------------+------------------+---------------+\n",
      "\n",
      "Patient Schedule Summary — Doctor: transplant_doctor_2, Complexity: regular, Visits Nurse: True\n",
      "+-----------------------+------------------+---------------+\n",
      "| Stage                 | Scheduled Time   |   Actual Time |\n",
      "+=======================+==================+===============+\n",
      "| Arrival               | 160              |       139.25  |\n",
      "+-----------------------+------------------+---------------+\n",
      "| Q-Flow Queue Entry    | -                |       139.248 |\n",
      "+-----------------------+------------------+---------------+\n",
      "| Secretary Queue Entry | -                |       139.31  |\n",
      "+-----------------------+------------------+---------------+\n",
      "| Nurse Queue Entry     | -                |       140.002 |\n",
      "+-----------------------+------------------+---------------+\n",
      "| Doctor Queue Entry    | -                |       216.157 |\n",
      "+-----------------------+------------------+---------------+\n",
      "| End of Visit          | -                |       224.866 |\n",
      "+-----------------------+------------------+---------------+\n",
      "\n",
      "Patient Schedule Summary — Doctor: transplant_doctor_2, Complexity: regular, Visits Nurse: True\n",
      "+-----------------------+------------------+---------------+\n",
      "| Stage                 | Scheduled Time   |   Actual Time |\n",
      "+=======================+==================+===============+\n",
      "| Arrival               | 180              |       180.67  |\n",
      "+-----------------------+------------------+---------------+\n",
      "| Q-Flow Queue Entry    | -                |       180.67  |\n",
      "+-----------------------+------------------+---------------+\n",
      "| Secretary Queue Entry | -                |       181.124 |\n",
      "+-----------------------+------------------+---------------+\n",
      "| Nurse Queue Entry     | -                |       186.027 |\n",
      "+-----------------------+------------------+---------------+\n",
      "| Doctor Queue Entry    | -                |       392.333 |\n",
      "+-----------------------+------------------+---------------+\n",
      "| End of Visit          | -                |       414.877 |\n",
      "+-----------------------+------------------+---------------+\n",
      "\n",
      "Patient Schedule Summary — Doctor: transplant_doctor_2, Complexity: complex, Visits Nurse: True\n",
      "+-----------------------+------------------+---------------+\n",
      "| Stage                 | Scheduled Time   |   Actual Time |\n",
      "+=======================+==================+===============+\n",
      "| Arrival               | 200              |       205.07  |\n",
      "+-----------------------+------------------+---------------+\n",
      "| Q-Flow Queue Entry    | -                |       205.069 |\n",
      "+-----------------------+------------------+---------------+\n",
      "| Secretary Queue Entry | -                |       206.077 |\n",
      "+-----------------------+------------------+---------------+\n",
      "| Nurse Queue Entry     | -                |       206.845 |\n",
      "+-----------------------+------------------+---------------+\n",
      "| Doctor Queue Entry    | -                |       421.983 |\n",
      "+-----------------------+------------------+---------------+\n",
      "| End of Visit          | -                |       449.234 |\n",
      "+-----------------------+------------------+---------------+\n",
      "\n",
      "Patient Schedule Summary — Doctor: transplant_doctor_2, Complexity: regular, Visits Nurse: True\n",
      "+-----------------------+------------------+---------------+\n",
      "| Stage                 | Scheduled Time   |   Actual Time |\n",
      "+=======================+==================+===============+\n",
      "| Arrival               | 220              |       225.07  |\n",
      "+-----------------------+------------------+---------------+\n",
      "| Q-Flow Queue Entry    | -                |       225.066 |\n",
      "+-----------------------+------------------+---------------+\n",
      "| Secretary Queue Entry | -                |       225.577 |\n",
      "+-----------------------+------------------+---------------+\n",
      "| Nurse Queue Entry     | -                |       235.927 |\n",
      "+-----------------------+------------------+---------------+\n",
      "| Doctor Queue Entry    | -                |       467.548 |\n",
      "+-----------------------+------------------+---------------+\n",
      "| End of Visit          | -                |       489.533 |\n",
      "+-----------------------+------------------+---------------+\n",
      "\n",
      "Patient Schedule Summary — Doctor: transplant_doctor_2, Complexity: regular, Visits Nurse: True\n",
      "+-----------------------+------------------+---------------+\n",
      "| Stage                 | Scheduled Time   |   Actual Time |\n",
      "+=======================+==================+===============+\n",
      "| Arrival               | 240              |       232.05  |\n",
      "+-----------------------+------------------+---------------+\n",
      "| Q-Flow Queue Entry    | -                |       232.047 |\n",
      "+-----------------------+------------------+---------------+\n",
      "| Secretary Queue Entry | -                |       232.784 |\n",
      "+-----------------------+------------------+---------------+\n",
      "| Nurse Queue Entry     | -                |       236.695 |\n",
      "+-----------------------+------------------+---------------+\n",
      "| Doctor Queue Entry    | -                |       473.027 |\n",
      "+-----------------------+------------------+---------------+\n",
      "| End of Visit          | -                |       519.686 |\n",
      "+-----------------------+------------------+---------------+\n",
      "\n",
      "Patient Schedule Summary — Doctor: transplant_doctor_2, Complexity: regular, Visits Nurse: True\n",
      "+-----------------------+------------------+---------------+\n",
      "| Stage                 | Scheduled Time   |   Actual Time |\n",
      "+=======================+==================+===============+\n",
      "| Arrival               | 260              |       249.31  |\n",
      "+-----------------------+------------------+---------------+\n",
      "| Q-Flow Queue Entry    | -                |       249.314 |\n",
      "+-----------------------+------------------+---------------+\n",
      "| Secretary Queue Entry | -                |       250.404 |\n",
      "+-----------------------+------------------+---------------+\n",
      "| Nurse Queue Entry     | -                |       254.064 |\n",
      "+-----------------------+------------------+---------------+\n",
      "| Doctor Queue Entry    | -                |       498.265 |\n",
      "+-----------------------+------------------+---------------+\n",
      "| End of Visit          | -                |       530.532 |\n",
      "+-----------------------+------------------+---------------+\n",
      "\n",
      "Patient Schedule Summary — Doctor: transplant_doctor_2, Complexity: regular, Visits Nurse: True\n",
      "+-----------------------+------------------+---------------+\n",
      "| Stage                 | Scheduled Time   |   Actual Time |\n",
      "+=======================+==================+===============+\n",
      "| Arrival               | 280              |       273.76  |\n",
      "+-----------------------+------------------+---------------+\n",
      "| Q-Flow Queue Entry    | -                |       273.762 |\n",
      "+-----------------------+------------------+---------------+\n",
      "| Secretary Queue Entry | -                |       274.797 |\n",
      "+-----------------------+------------------+---------------+\n",
      "| Nurse Queue Entry     | -                |       276.37  |\n",
      "+-----------------------+------------------+---------------+\n",
      "| Doctor Queue Entry    | -                |       555.114 |\n",
      "+-----------------------+------------------+---------------+\n",
      "| End of Visit          | -                |       593.592 |\n",
      "+-----------------------+------------------+---------------+\n",
      "\n",
      "Patient Schedule Summary — Doctor: transplant_doctor_2, Complexity: complex, Visits Nurse: True\n",
      "+-----------------------+------------------+---------------+\n",
      "| Stage                 | Scheduled Time   |   Actual Time |\n",
      "+=======================+==================+===============+\n",
      "| Arrival               | 300              |       305.49  |\n",
      "+-----------------------+------------------+---------------+\n",
      "| Q-Flow Queue Entry    | -                |       305.493 |\n",
      "+-----------------------+------------------+---------------+\n",
      "| Secretary Queue Entry | -                |       310.6   |\n",
      "+-----------------------+------------------+---------------+\n",
      "| Nurse Queue Entry     | -                |       310.719 |\n",
      "+-----------------------+------------------+---------------+\n",
      "| Doctor Queue Entry    | -                |       615.729 |\n",
      "+-----------------------+------------------+---------------+\n",
      "| End of Visit          | -                |       618.29  |\n",
      "+-----------------------+------------------+---------------+\n",
      "\n",
      "Patient Schedule Summary — Doctor: transplant_doctor_2, Complexity: regular, Visits Nurse: True\n",
      "+-----------------------+------------------+---------------+\n",
      "| Stage                 | Scheduled Time   |   Actual Time |\n",
      "+=======================+==================+===============+\n",
      "| Arrival               | 320              |       311.05  |\n",
      "+-----------------------+------------------+---------------+\n",
      "| Q-Flow Queue Entry    | -                |       311.046 |\n",
      "+-----------------------+------------------+---------------+\n",
      "| Secretary Queue Entry | -                |       313.402 |\n",
      "+-----------------------+------------------+---------------+\n",
      "| Nurse Queue Entry     | -                |       315.676 |\n",
      "+-----------------------+------------------+---------------+\n",
      "| Doctor Queue Entry    | -                |       649.43  |\n",
      "+-----------------------+------------------+---------------+\n",
      "| End of Visit          | -                |       687.215 |\n",
      "+-----------------------+------------------+---------------+\n",
      "\n",
      "Patient Schedule Summary — Doctor: transplant_doctor_2, Complexity: regular, Visits Nurse: True\n",
      "+-----------------------+------------------+---------------+\n",
      "| Stage                 | Scheduled Time   |   Actual Time |\n",
      "+=======================+==================+===============+\n",
      "| Arrival               | 340              |       353.11  |\n",
      "+-----------------------+------------------+---------------+\n",
      "| Q-Flow Queue Entry    | -                |       353.112 |\n",
      "+-----------------------+------------------+---------------+\n",
      "| Secretary Queue Entry | -                |       354.901 |\n",
      "+-----------------------+------------------+---------------+\n",
      "| Nurse Queue Entry     | -                |       355.786 |\n",
      "+-----------------------+------------------+---------------+\n",
      "| Doctor Queue Entry    | -                |       359.21  |\n",
      "+-----------------------+------------------+---------------+\n",
      "| End of Visit          | -                |       376.236 |\n",
      "+-----------------------+------------------+---------------+\n",
      "\n",
      "Patient Schedule Summary — Doctor: transplant_doctor_2, Complexity: regular, Visits Nurse: True\n",
      "+-----------------------+------------------+---------------+\n",
      "| Stage                 | Scheduled Time   |   Actual Time |\n",
      "+=======================+==================+===============+\n",
      "| Arrival               | 360              |       366.22  |\n",
      "+-----------------------+------------------+---------------+\n",
      "| Q-Flow Queue Entry    | -                |       366.225 |\n",
      "+-----------------------+------------------+---------------+\n",
      "| Secretary Queue Entry | -                |       368.208 |\n",
      "+-----------------------+------------------+---------------+\n",
      "| Nurse Queue Entry     | -                |       376.573 |\n",
      "+-----------------------+------------------+---------------+\n",
      "| Doctor Queue Entry    | -                |       407.123 |\n",
      "+-----------------------+------------------+---------------+\n",
      "| End of Visit          | -                |       421.245 |\n",
      "+-----------------------+------------------+---------------+\n",
      "\n",
      "Patient Schedule Summary — Doctor: transplant_doctor_2, Complexity: regular, Visits Nurse: True\n",
      "+-----------------------+------------------+---------------+\n",
      "| Stage                 | Scheduled Time   |   Actual Time |\n",
      "+=======================+==================+===============+\n",
      "| Arrival               | 380              |       351.31  |\n",
      "+-----------------------+------------------+---------------+\n",
      "| Q-Flow Queue Entry    | -                |       351.309 |\n",
      "+-----------------------+------------------+---------------+\n",
      "| Secretary Queue Entry | -                |       352.022 |\n",
      "+-----------------------+------------------+---------------+\n",
      "| Nurse Queue Entry     | -                |       352.889 |\n",
      "+-----------------------+------------------+---------------+\n",
      "| Doctor Queue Entry    | -                |       369.773 |\n",
      "+-----------------------+------------------+---------------+\n",
      "| End of Visit          | -                |       377.992 |\n",
      "+-----------------------+------------------+---------------+\n",
      "\n",
      "Patient Schedule Summary — Doctor: transplant_doctor_3, Complexity: regular, Visits Nurse: True\n",
      "+-----------------------+------------------+---------------+\n",
      "| Stage                 | Scheduled Time   |   Actual Time |\n",
      "+=======================+==================+===============+\n",
      "| Arrival               | 60               |       49.6    |\n",
      "+-----------------------+------------------+---------------+\n",
      "| Q-Flow Queue Entry    | -                |       49.5979 |\n",
      "+-----------------------+------------------+---------------+\n",
      "| Secretary Queue Entry | -                |       50.3067 |\n",
      "+-----------------------+------------------+---------------+\n",
      "| Nurse Queue Entry     | -                |       52.4093 |\n",
      "+-----------------------+------------------+---------------+\n",
      "| Doctor Queue Entry    | -                |       61.9233 |\n",
      "+-----------------------+------------------+---------------+\n",
      "| End of Visit          | -                |       69.9681 |\n",
      "+-----------------------+------------------+---------------+\n",
      "\n",
      "Patient Schedule Summary — Doctor: transplant_doctor_3, Complexity: regular, Visits Nurse: True\n",
      "+-----------------------+------------------+---------------+\n",
      "| Stage                 | Scheduled Time   |   Actual Time |\n",
      "+=======================+==================+===============+\n",
      "| Arrival               | 80               |       84.61   |\n",
      "+-----------------------+------------------+---------------+\n",
      "| Q-Flow Queue Entry    | -                |       84.6122 |\n",
      "+-----------------------+------------------+---------------+\n",
      "| Secretary Queue Entry | -                |       86.6142 |\n",
      "+-----------------------+------------------+---------------+\n",
      "| Nurse Queue Entry     | -                |       88.9193 |\n",
      "+-----------------------+------------------+---------------+\n",
      "| Doctor Queue Entry    | -                |      171.537  |\n",
      "+-----------------------+------------------+---------------+\n",
      "| End of Visit          | -                |      222.185  |\n",
      "+-----------------------+------------------+---------------+\n",
      "\n",
      "Patient Schedule Summary — Doctor: transplant_doctor_3, Complexity: regular, Visits Nurse: True\n",
      "+-----------------------+------------------+---------------+\n",
      "| Stage                 | Scheduled Time   |   Actual Time |\n",
      "+=======================+==================+===============+\n",
      "| Arrival               | 100              |       96.57   |\n",
      "+-----------------------+------------------+---------------+\n",
      "| Q-Flow Queue Entry    | -                |       96.5696 |\n",
      "+-----------------------+------------------+---------------+\n",
      "| Secretary Queue Entry | -                |       96.9242 |\n",
      "+-----------------------+------------------+---------------+\n",
      "| Nurse Queue Entry     | -                |       97.8196 |\n",
      "+-----------------------+------------------+---------------+\n",
      "| Doctor Queue Entry    | -                |      129.111  |\n",
      "+-----------------------+------------------+---------------+\n",
      "| End of Visit          | -                |      154.965  |\n",
      "+-----------------------+------------------+---------------+\n",
      "\n",
      "Patient Schedule Summary — Doctor: transplant_doctor_3, Complexity: regular, Visits Nurse: True\n",
      "+-----------------------+------------------+---------------+\n",
      "| Stage                 | Scheduled Time   |   Actual Time |\n",
      "+=======================+==================+===============+\n",
      "| Arrival               | 120              |       111.27  |\n",
      "+-----------------------+------------------+---------------+\n",
      "| Q-Flow Queue Entry    | -                |       111.272 |\n",
      "+-----------------------+------------------+---------------+\n",
      "| Secretary Queue Entry | -                |       111.803 |\n",
      "+-----------------------+------------------+---------------+\n",
      "| Nurse Queue Entry     | -                |       114.369 |\n",
      "+-----------------------+------------------+---------------+\n",
      "| Doctor Queue Entry    | -                |       198.632 |\n",
      "+-----------------------+------------------+---------------+\n",
      "| End of Visit          | -                |       230.496 |\n",
      "+-----------------------+------------------+---------------+\n",
      "\n",
      "Patient Schedule Summary — Doctor: transplant_doctor_3, Complexity: regular, Visits Nurse: True\n",
      "+-----------------------+------------------+---------------+\n",
      "| Stage                 | Scheduled Time   |   Actual Time |\n",
      "+=======================+==================+===============+\n",
      "| Arrival               | 140              |       150.23  |\n",
      "+-----------------------+------------------+---------------+\n",
      "| Q-Flow Queue Entry    | -                |       150.227 |\n",
      "+-----------------------+------------------+---------------+\n",
      "| Secretary Queue Entry | -                |       150.571 |\n",
      "+-----------------------+------------------+---------------+\n",
      "| Nurse Queue Entry     | -                |       158.94  |\n",
      "+-----------------------+------------------+---------------+\n",
      "| Doctor Queue Entry    | -                |       367.504 |\n",
      "+-----------------------+------------------+---------------+\n",
      "| End of Visit          | -                |       420.457 |\n",
      "+-----------------------+------------------+---------------+\n",
      "\n",
      "Patient Schedule Summary — Doctor: transplant_doctor_3, Complexity: regular, Visits Nurse: True\n",
      "+-----------------------+------------------+---------------+\n",
      "| Stage                 | Scheduled Time   |   Actual Time |\n",
      "+=======================+==================+===============+\n",
      "| Arrival               | 160              |       159.55  |\n",
      "+-----------------------+------------------+---------------+\n",
      "| Q-Flow Queue Entry    | -                |       159.551 |\n",
      "+-----------------------+------------------+---------------+\n",
      "| Secretary Queue Entry | -                |       160.414 |\n",
      "+-----------------------+------------------+---------------+\n",
      "| Nurse Queue Entry     | -                |       161.704 |\n",
      "+-----------------------+------------------+---------------+\n",
      "| Doctor Queue Entry    | -                |       162.863 |\n",
      "+-----------------------+------------------+---------------+\n",
      "| End of Visit          | -                |       209.916 |\n",
      "+-----------------------+------------------+---------------+\n",
      "\n",
      "Patient Schedule Summary — Doctor: transplant_doctor_3, Complexity: regular, Visits Nurse: True\n",
      "+-----------------------+------------------+---------------+\n",
      "| Stage                 | Scheduled Time   |   Actual Time |\n",
      "+=======================+==================+===============+\n",
      "| Arrival               | 180              |       187     |\n",
      "+-----------------------+------------------+---------------+\n",
      "| Q-Flow Queue Entry    | -                |       186.998 |\n",
      "+-----------------------+------------------+---------------+\n",
      "| Secretary Queue Entry | -                |       188.938 |\n",
      "+-----------------------+------------------+---------------+\n",
      "| Nurse Queue Entry     | -                |       195.857 |\n",
      "+-----------------------+------------------+---------------+\n",
      "| Doctor Queue Entry    | -                |       407.743 |\n",
      "+-----------------------+------------------+---------------+\n",
      "| End of Visit          | -                |       504.835 |\n",
      "+-----------------------+------------------+---------------+\n",
      "\n",
      "Patient Schedule Summary — Doctor: transplant_doctor_3, Complexity: regular, Visits Nurse: True\n",
      "+-----------------------+------------------+---------------+\n",
      "| Stage                 | Scheduled Time   |   Actual Time |\n",
      "+=======================+==================+===============+\n",
      "| Arrival               | 200              |       220.95  |\n",
      "+-----------------------+------------------+---------------+\n",
      "| Q-Flow Queue Entry    | -                |       220.954 |\n",
      "+-----------------------+------------------+---------------+\n",
      "| Secretary Queue Entry | -                |       222.512 |\n",
      "+-----------------------+------------------+---------------+\n",
      "| Nurse Queue Entry     | -                |       226.637 |\n",
      "+-----------------------+------------------+---------------+\n",
      "| Doctor Queue Entry    | -                |       280.031 |\n",
      "+-----------------------+------------------+---------------+\n",
      "| End of Visit          | -                |       292.99  |\n",
      "+-----------------------+------------------+---------------+\n",
      "\n",
      "Patient Schedule Summary — Doctor: transplant_doctor_3, Complexity: regular, Visits Nurse: True\n",
      "+-----------------------+------------------+---------------+\n",
      "| Stage                 | Scheduled Time   |   Actual Time |\n",
      "+=======================+==================+===============+\n",
      "| Arrival               | 220              |       229.57  |\n",
      "+-----------------------+------------------+---------------+\n",
      "| Q-Flow Queue Entry    | -                |       229.565 |\n",
      "+-----------------------+------------------+---------------+\n",
      "| Secretary Queue Entry | -                |       229.793 |\n",
      "+-----------------------+------------------+---------------+\n",
      "| Nurse Queue Entry     | -                |       240.964 |\n",
      "+-----------------------+------------------+---------------+\n",
      "| Doctor Queue Entry    | -                |       509.414 |\n",
      "+-----------------------+------------------+---------------+\n",
      "| End of Visit          | -                |       556.239 |\n",
      "+-----------------------+------------------+---------------+\n",
      "\n",
      "Patient Schedule Summary — Doctor: transplant_doctor_3, Complexity: regular, Visits Nurse: True\n",
      "+-----------------------+------------------+---------------+\n",
      "| Stage                 | Scheduled Time   |   Actual Time |\n",
      "+=======================+==================+===============+\n",
      "| Arrival               | 240              |       238.87  |\n",
      "+-----------------------+------------------+---------------+\n",
      "| Q-Flow Queue Entry    | -                |       238.871 |\n",
      "+-----------------------+------------------+---------------+\n",
      "| Secretary Queue Entry | -                |       240.433 |\n",
      "+-----------------------+------------------+---------------+\n",
      "| Nurse Queue Entry     | -                |       244.541 |\n",
      "+-----------------------+------------------+---------------+\n",
      "| Doctor Queue Entry    | -                |       495.672 |\n",
      "+-----------------------+------------------+---------------+\n",
      "| End of Visit          | -                |       531.908 |\n",
      "+-----------------------+------------------+---------------+\n",
      "\n",
      "Patient Schedule Summary — Doctor: transplant_doctor_3, Complexity: complex, Visits Nurse: True\n",
      "+-----------------------+------------------+---------------+\n",
      "| Stage                 | Scheduled Time   |   Actual Time |\n",
      "+=======================+==================+===============+\n",
      "| Arrival               | 260              |       254.22  |\n",
      "+-----------------------+------------------+---------------+\n",
      "| Q-Flow Queue Entry    | -                |       254.217 |\n",
      "+-----------------------+------------------+---------------+\n",
      "| Secretary Queue Entry | -                |       255.966 |\n",
      "+-----------------------+------------------+---------------+\n",
      "| Nurse Queue Entry     | -                |       263.735 |\n",
      "+-----------------------+------------------+---------------+\n",
      "| Doctor Queue Entry    | -                |       547.982 |\n",
      "+-----------------------+------------------+---------------+\n",
      "| End of Visit          | -                |       557.953 |\n",
      "+-----------------------+------------------+---------------+\n",
      "\n",
      "Patient Schedule Summary — Doctor: transplant_doctor_3, Complexity: regular, Visits Nurse: True\n",
      "+-----------------------+------------------+---------------+\n",
      "| Stage                 | Scheduled Time   |   Actual Time |\n",
      "+=======================+==================+===============+\n",
      "| Arrival               | 280              |       287.26  |\n",
      "+-----------------------+------------------+---------------+\n",
      "| Q-Flow Queue Entry    | -                |       287.263 |\n",
      "+-----------------------+------------------+---------------+\n",
      "| Secretary Queue Entry | -                |       288.294 |\n",
      "+-----------------------+------------------+---------------+\n",
      "| Nurse Queue Entry     | -                |       298.48  |\n",
      "+-----------------------+------------------+---------------+\n",
      "| Doctor Queue Entry    | -                |       567.378 |\n",
      "+-----------------------+------------------+---------------+\n",
      "| End of Visit          | -                |       574.334 |\n",
      "+-----------------------+------------------+---------------+\n",
      "\n",
      "Patient Schedule Summary — Doctor: transplant_doctor_3, Complexity: regular, Visits Nurse: True\n",
      "+-----------------------+------------------+---------------+\n",
      "| Stage                 | Scheduled Time   |   Actual Time |\n",
      "+=======================+==================+===============+\n",
      "| Arrival               | 300              |       289.91  |\n",
      "+-----------------------+------------------+---------------+\n",
      "| Q-Flow Queue Entry    | -                |       289.91  |\n",
      "+-----------------------+------------------+---------------+\n",
      "| Secretary Queue Entry | -                |       291.244 |\n",
      "+-----------------------+------------------+---------------+\n",
      "| Nurse Queue Entry     | -                |       298.594 |\n",
      "+-----------------------+------------------+---------------+\n",
      "| Doctor Queue Entry    | -                |       306.356 |\n",
      "+-----------------------+------------------+---------------+\n",
      "| End of Visit          | -                |       329.456 |\n",
      "+-----------------------+------------------+---------------+\n",
      "\n",
      "Patient Schedule Summary — Doctor: transplant_doctor_3, Complexity: regular, Visits Nurse: True\n",
      "+-----------------------+------------------+---------------+\n",
      "| Stage                 | Scheduled Time   |   Actual Time |\n",
      "+=======================+==================+===============+\n",
      "| Arrival               | 320              |       322.63  |\n",
      "+-----------------------+------------------+---------------+\n",
      "| Q-Flow Queue Entry    | -                |       322.635 |\n",
      "+-----------------------+------------------+---------------+\n",
      "| Secretary Queue Entry | -                |       322.779 |\n",
      "+-----------------------+------------------+---------------+\n",
      "| Nurse Queue Entry     | -                |       326.334 |\n",
      "+-----------------------+------------------+---------------+\n",
      "| Doctor Queue Entry    | -                |       646.691 |\n",
      "+-----------------------+------------------+---------------+\n",
      "| End of Visit          | -                |       680.529 |\n",
      "+-----------------------+------------------+---------------+\n",
      "\n",
      "Patient Schedule Summary — Doctor: transplant_doctor_3, Complexity: regular, Visits Nurse: True\n",
      "+-----------------------+------------------+---------------+\n",
      "| Stage                 | Scheduled Time   |   Actual Time |\n",
      "+=======================+==================+===============+\n",
      "| Arrival               | 340              |       346.08  |\n",
      "+-----------------------+------------------+---------------+\n",
      "| Q-Flow Queue Entry    | -                |       346.08  |\n",
      "+-----------------------+------------------+---------------+\n",
      "| Secretary Queue Entry | -                |       346.496 |\n",
      "+-----------------------+------------------+---------------+\n",
      "| Nurse Queue Entry     | -                |       348.158 |\n",
      "+-----------------------+------------------+---------------+\n",
      "| Doctor Queue Entry    | -                |       354.691 |\n",
      "+-----------------------+------------------+---------------+\n",
      "| End of Visit          | -                |       355.671 |\n",
      "+-----------------------+------------------+---------------+\n",
      "\n",
      "Patient Schedule Summary — Doctor: transplant_doctor_3, Complexity: regular, Visits Nurse: True\n",
      "+-----------------------+------------------+---------------+\n",
      "| Stage                 | Scheduled Time   |   Actual Time |\n",
      "+=======================+==================+===============+\n",
      "| Arrival               | 360              |       352.85  |\n",
      "+-----------------------+------------------+---------------+\n",
      "| Q-Flow Queue Entry    | -                |       352.852 |\n",
      "+-----------------------+------------------+---------------+\n",
      "| Secretary Queue Entry | -                |       354.785 |\n",
      "+-----------------------+------------------+---------------+\n",
      "| Nurse Queue Entry     | -                |       357.781 |\n",
      "+-----------------------+------------------+---------------+\n",
      "| Doctor Queue Entry    | -                |       629.785 |\n",
      "+-----------------------+------------------+---------------+\n",
      "| End of Visit          | -                |       649.49  |\n",
      "+-----------------------+------------------+---------------+\n",
      "\n",
      "Patient Schedule Summary — Doctor: transplant_doctor_3, Complexity: regular, Visits Nurse: True\n",
      "+-----------------------+------------------+---------------+\n",
      "| Stage                 | Scheduled Time   |   Actual Time |\n",
      "+=======================+==================+===============+\n",
      "| Arrival               | 380              |       384.01  |\n",
      "+-----------------------+------------------+---------------+\n",
      "| Q-Flow Queue Entry    | -                |       384.007 |\n",
      "+-----------------------+------------------+---------------+\n",
      "| Secretary Queue Entry | -                |       384.034 |\n",
      "+-----------------------+------------------+---------------+\n",
      "| Nurse Queue Entry     | -                |       384.457 |\n",
      "+-----------------------+------------------+---------------+\n",
      "| Doctor Queue Entry    | -                |       721.472 |\n",
      "+-----------------------+------------------+---------------+\n",
      "| End of Visit          | -                |       818.206 |\n",
      "+-----------------------+------------------+---------------+\n",
      "\n",
      "Patient Schedule Summary — Doctor: other, Complexity: regular, Visits Nurse: False\n",
      "+-----------------------+------------------+--------------------+\n",
      "| Stage                 | Scheduled Time   | Actual Time        |\n",
      "+=======================+==================+====================+\n",
      "| Arrival               | 60               | 48.57              |\n",
      "+-----------------------+------------------+--------------------+\n",
      "| Q-Flow Queue Entry    | -                | 48.573209231082174 |\n",
      "+-----------------------+------------------+--------------------+\n",
      "| Secretary Queue Entry | -                | 50.250029569971005 |\n",
      "+-----------------------+------------------+--------------------+\n",
      "| Nurse Queue Entry     | -                | N/A                |\n",
      "+-----------------------+------------------+--------------------+\n",
      "| Doctor Queue Entry    | -                |                    |\n",
      "+-----------------------+------------------+--------------------+\n",
      "| End of Visit          | -                | 55.40635199313294  |\n",
      "+-----------------------+------------------+--------------------+\n",
      "\n",
      "Patient Schedule Summary — Doctor: other, Complexity: regular, Visits Nurse: True\n",
      "+-----------------------+------------------+---------------+\n",
      "| Stage                 | Scheduled Time   |   Actual Time |\n",
      "+=======================+==================+===============+\n",
      "| Arrival               | 70               |       79.82   |\n",
      "+-----------------------+------------------+---------------+\n",
      "| Q-Flow Queue Entry    | -                |       79.8233 |\n",
      "+-----------------------+------------------+---------------+\n",
      "| Secretary Queue Entry | -                |       80.3473 |\n",
      "+-----------------------+------------------+---------------+\n",
      "| Nurse Queue Entry     | -                |       83.5476 |\n",
      "+-----------------------+------------------+---------------+\n",
      "| Doctor Queue Entry    | -                |               |\n",
      "+-----------------------+------------------+---------------+\n",
      "| End of Visit          | -                |      132.432  |\n",
      "+-----------------------+------------------+---------------+\n",
      "\n",
      "Patient Schedule Summary — Doctor: other, Complexity: regular, Visits Nurse: True\n",
      "+-----------------------+------------------+---------------+\n",
      "| Stage                 | Scheduled Time   |   Actual Time |\n",
      "+=======================+==================+===============+\n",
      "| Arrival               | 80               |       88.65   |\n",
      "+-----------------------+------------------+---------------+\n",
      "| Q-Flow Queue Entry    | -                |       88.6543 |\n",
      "+-----------------------+------------------+---------------+\n",
      "| Secretary Queue Entry | -                |       89.2984 |\n",
      "+-----------------------+------------------+---------------+\n",
      "| Nurse Queue Entry     | -                |       92.0962 |\n",
      "+-----------------------+------------------+---------------+\n",
      "| Doctor Queue Entry    | -                |               |\n",
      "+-----------------------+------------------+---------------+\n",
      "| End of Visit          | -                |      108.233  |\n",
      "+-----------------------+------------------+---------------+\n",
      "\n",
      "Patient Schedule Summary — Doctor: other, Complexity: regular, Visits Nurse: True\n",
      "+-----------------------+------------------+---------------+\n",
      "| Stage                 | Scheduled Time   |   Actual Time |\n",
      "+=======================+==================+===============+\n",
      "| Arrival               | 90               |       83.77   |\n",
      "+-----------------------+------------------+---------------+\n",
      "| Q-Flow Queue Entry    | -                |       83.7703 |\n",
      "+-----------------------+------------------+---------------+\n",
      "| Secretary Queue Entry | -                |       86.5191 |\n",
      "+-----------------------+------------------+---------------+\n",
      "| Nurse Queue Entry     | -                |       86.9119 |\n",
      "+-----------------------+------------------+---------------+\n",
      "| Doctor Queue Entry    | -                |               |\n",
      "+-----------------------+------------------+---------------+\n",
      "| End of Visit          | -                |      138.844  |\n",
      "+-----------------------+------------------+---------------+\n",
      "\n",
      "Patient Schedule Summary — Doctor: other, Complexity: regular, Visits Nurse: True\n",
      "+-----------------------+------------------+---------------+\n",
      "| Stage                 | Scheduled Time   |   Actual Time |\n",
      "+=======================+==================+===============+\n",
      "| Arrival               | 100              |       108.38  |\n",
      "+-----------------------+------------------+---------------+\n",
      "| Q-Flow Queue Entry    | -                |       108.378 |\n",
      "+-----------------------+------------------+---------------+\n",
      "| Secretary Queue Entry | -                |       108.574 |\n",
      "+-----------------------+------------------+---------------+\n",
      "| Nurse Queue Entry     | -                |       112.285 |\n",
      "+-----------------------+------------------+---------------+\n",
      "| Doctor Queue Entry    | -                |               |\n",
      "+-----------------------+------------------+---------------+\n",
      "| End of Visit          | -                |       161.739 |\n",
      "+-----------------------+------------------+---------------+\n",
      "\n",
      "Patient Schedule Summary — Doctor: other, Complexity: regular, Visits Nurse: True\n",
      "+-----------------------+------------------+---------------+\n",
      "| Stage                 | Scheduled Time   |   Actual Time |\n",
      "+=======================+==================+===============+\n",
      "| Arrival               | 110              |       109.54  |\n",
      "+-----------------------+------------------+---------------+\n",
      "| Q-Flow Queue Entry    | -                |       109.541 |\n",
      "+-----------------------+------------------+---------------+\n",
      "| Secretary Queue Entry | -                |       109.554 |\n",
      "+-----------------------+------------------+---------------+\n",
      "| Nurse Queue Entry     | -                |       113.241 |\n",
      "+-----------------------+------------------+---------------+\n",
      "| Doctor Queue Entry    | -                |               |\n",
      "+-----------------------+------------------+---------------+\n",
      "| End of Visit          | -                |       239.252 |\n",
      "+-----------------------+------------------+---------------+\n",
      "\n",
      "Patient Schedule Summary — Doctor: other, Complexity: regular, Visits Nurse: True\n",
      "+-----------------------+------------------+---------------+\n",
      "| Stage                 | Scheduled Time   |   Actual Time |\n",
      "+=======================+==================+===============+\n",
      "| Arrival               | 120              |       129.26  |\n",
      "+-----------------------+------------------+---------------+\n",
      "| Q-Flow Queue Entry    | -                |       129.256 |\n",
      "+-----------------------+------------------+---------------+\n",
      "| Secretary Queue Entry | -                |       131.018 |\n",
      "+-----------------------+------------------+---------------+\n",
      "| Nurse Queue Entry     | -                |       133.889 |\n",
      "+-----------------------+------------------+---------------+\n",
      "| Doctor Queue Entry    | -                |               |\n",
      "+-----------------------+------------------+---------------+\n",
      "| End of Visit          | -                |       139.278 |\n",
      "+-----------------------+------------------+---------------+\n",
      "\n",
      "Patient Schedule Summary — Doctor: other, Complexity: regular, Visits Nurse: True\n",
      "+-----------------------+------------------+---------------+\n",
      "| Stage                 | Scheduled Time   |   Actual Time |\n",
      "+=======================+==================+===============+\n",
      "| Arrival               | 130              |       113.7   |\n",
      "+-----------------------+------------------+---------------+\n",
      "| Q-Flow Queue Entry    | -                |       113.699 |\n",
      "+-----------------------+------------------+---------------+\n",
      "| Secretary Queue Entry | -                |       113.815 |\n",
      "+-----------------------+------------------+---------------+\n",
      "| Nurse Queue Entry     | -                |       115.922 |\n",
      "+-----------------------+------------------+---------------+\n",
      "| Doctor Queue Entry    | -                |               |\n",
      "+-----------------------+------------------+---------------+\n",
      "| End of Visit          | -                |       203.556 |\n",
      "+-----------------------+------------------+---------------+\n",
      "\n",
      "Patient Schedule Summary — Doctor: other, Complexity: regular, Visits Nurse: True\n",
      "+-----------------------+------------------+---------------+\n",
      "| Stage                 | Scheduled Time   |   Actual Time |\n",
      "+=======================+==================+===============+\n",
      "| Arrival               | 140              |       125.82  |\n",
      "+-----------------------+------------------+---------------+\n",
      "| Q-Flow Queue Entry    | -                |       125.82  |\n",
      "+-----------------------+------------------+---------------+\n",
      "| Secretary Queue Entry | -                |       127.118 |\n",
      "+-----------------------+------------------+---------------+\n",
      "| Nurse Queue Entry     | -                |       128.074 |\n",
      "+-----------------------+------------------+---------------+\n",
      "| Doctor Queue Entry    | -                |               |\n",
      "+-----------------------+------------------+---------------+\n",
      "| End of Visit          | -                |       334.429 |\n",
      "+-----------------------+------------------+---------------+\n",
      "\n",
      "Patient Schedule Summary — Doctor: other, Complexity: regular, Visits Nurse: True\n",
      "+-----------------------+------------------+---------------+\n",
      "| Stage                 | Scheduled Time   |   Actual Time |\n",
      "+=======================+==================+===============+\n",
      "| Arrival               | 150              |       161.83  |\n",
      "+-----------------------+------------------+---------------+\n",
      "| Q-Flow Queue Entry    | -                |       161.833 |\n",
      "+-----------------------+------------------+---------------+\n",
      "| Secretary Queue Entry | -                |       164.807 |\n",
      "+-----------------------+------------------+---------------+\n",
      "| Nurse Queue Entry     | -                |       170.408 |\n",
      "+-----------------------+------------------+---------------+\n",
      "| Doctor Queue Entry    | -                |               |\n",
      "+-----------------------+------------------+---------------+\n",
      "| End of Visit          | -                |       206.694 |\n",
      "+-----------------------+------------------+---------------+\n",
      "\n",
      "Patient Schedule Summary — Doctor: other, Complexity: regular, Visits Nurse: True\n",
      "+-----------------------+------------------+---------------+\n",
      "| Stage                 | Scheduled Time   |   Actual Time |\n",
      "+=======================+==================+===============+\n",
      "| Arrival               | 160              |       152.9   |\n",
      "+-----------------------+------------------+---------------+\n",
      "| Q-Flow Queue Entry    | -                |       152.896 |\n",
      "+-----------------------+------------------+---------------+\n",
      "| Secretary Queue Entry | -                |       154.719 |\n",
      "+-----------------------+------------------+---------------+\n",
      "| Nurse Queue Entry     | -                |       163.505 |\n",
      "+-----------------------+------------------+---------------+\n",
      "| Doctor Queue Entry    | -                |               |\n",
      "+-----------------------+------------------+---------------+\n",
      "| End of Visit          | -                |       367.637 |\n",
      "+-----------------------+------------------+---------------+\n",
      "\n",
      "Patient Schedule Summary — Doctor: other, Complexity: complex, Visits Nurse: False\n",
      "+-----------------------+------------------+--------------------+\n",
      "| Stage                 | Scheduled Time   | Actual Time        |\n",
      "+=======================+==================+====================+\n",
      "| Arrival               | 170              | 168.90             |\n",
      "+-----------------------+------------------+--------------------+\n",
      "| Q-Flow Queue Entry    | -                | 168.89754283507352 |\n",
      "+-----------------------+------------------+--------------------+\n",
      "| Secretary Queue Entry | -                | 169.91892265463625 |\n",
      "+-----------------------+------------------+--------------------+\n",
      "| Nurse Queue Entry     | -                | N/A                |\n",
      "+-----------------------+------------------+--------------------+\n",
      "| Doctor Queue Entry    | -                |                    |\n",
      "+-----------------------+------------------+--------------------+\n",
      "| End of Visit          | -                | 175.1610422741835  |\n",
      "+-----------------------+------------------+--------------------+\n",
      "\n",
      "Patient Schedule Summary — Doctor: other, Complexity: complex, Visits Nurse: True\n",
      "+-----------------------+------------------+---------------+\n",
      "| Stage                 | Scheduled Time   |   Actual Time |\n",
      "+=======================+==================+===============+\n",
      "| Arrival               | 180              |       178.35  |\n",
      "+-----------------------+------------------+---------------+\n",
      "| Q-Flow Queue Entry    | -                |       178.353 |\n",
      "+-----------------------+------------------+---------------+\n",
      "| Secretary Queue Entry | -                |       179.545 |\n",
      "+-----------------------+------------------+---------------+\n",
      "| Nurse Queue Entry     | -                |       186.753 |\n",
      "+-----------------------+------------------+---------------+\n",
      "| Doctor Queue Entry    | -                |               |\n",
      "+-----------------------+------------------+---------------+\n",
      "| End of Visit          | -                |       438.298 |\n",
      "+-----------------------+------------------+---------------+\n",
      "\n",
      "Patient Schedule Summary — Doctor: other, Complexity: regular, Visits Nurse: False\n",
      "+-----------------------+------------------+--------------------+\n",
      "| Stage                 | Scheduled Time   | Actual Time        |\n",
      "+=======================+==================+====================+\n",
      "| Arrival               | 190              | 190.80             |\n",
      "+-----------------------+------------------+--------------------+\n",
      "| Q-Flow Queue Entry    | -                | 190.79864723736392 |\n",
      "+-----------------------+------------------+--------------------+\n",
      "| Secretary Queue Entry | -                | 193.7620103634431  |\n",
      "+-----------------------+------------------+--------------------+\n",
      "| Nurse Queue Entry     | -                | N/A                |\n",
      "+-----------------------+------------------+--------------------+\n",
      "| Doctor Queue Entry    | -                |                    |\n",
      "+-----------------------+------------------+--------------------+\n",
      "| End of Visit          | -                | 195.90264233593714 |\n",
      "+-----------------------+------------------+--------------------+\n",
      "\n",
      "Patient Schedule Summary — Doctor: other, Complexity: regular, Visits Nurse: False\n",
      "+-----------------------+------------------+--------------------+\n",
      "| Stage                 | Scheduled Time   | Actual Time        |\n",
      "+=======================+==================+====================+\n",
      "| Arrival               | 200              | 185.66             |\n",
      "+-----------------------+------------------+--------------------+\n",
      "| Q-Flow Queue Entry    | -                | 185.6565157795698  |\n",
      "+-----------------------+------------------+--------------------+\n",
      "| Secretary Queue Entry | -                | 187.94389131339344 |\n",
      "+-----------------------+------------------+--------------------+\n",
      "| Nurse Queue Entry     | -                | N/A                |\n",
      "+-----------------------+------------------+--------------------+\n",
      "| Doctor Queue Entry    | -                |                    |\n",
      "+-----------------------+------------------+--------------------+\n",
      "| End of Visit          | -                | 189.6823975028722  |\n",
      "+-----------------------+------------------+--------------------+\n",
      "\n",
      "Patient Schedule Summary — Doctor: other, Complexity: complex, Visits Nurse: True\n",
      "+-----------------------+------------------+---------------+\n",
      "| Stage                 | Scheduled Time   |   Actual Time |\n",
      "+=======================+==================+===============+\n",
      "| Arrival               | 210              |       200.05  |\n",
      "+-----------------------+------------------+---------------+\n",
      "| Q-Flow Queue Entry    | -                |       200.05  |\n",
      "+-----------------------+------------------+---------------+\n",
      "| Secretary Queue Entry | -                |       200.157 |\n",
      "+-----------------------+------------------+---------------+\n",
      "| Nurse Queue Entry     | -                |       206.189 |\n",
      "+-----------------------+------------------+---------------+\n",
      "| Doctor Queue Entry    | -                |               |\n",
      "+-----------------------+------------------+---------------+\n",
      "| End of Visit          | -                |       425.586 |\n",
      "+-----------------------+------------------+---------------+\n",
      "\n",
      "Patient Schedule Summary — Doctor: other, Complexity: regular, Visits Nurse: True\n",
      "+-----------------------+------------------+---------------+\n",
      "| Stage                 | Scheduled Time   |   Actual Time |\n",
      "+=======================+==================+===============+\n",
      "| Arrival               | 220              |       234.44  |\n",
      "+-----------------------+------------------+---------------+\n",
      "| Q-Flow Queue Entry    | -                |       234.441 |\n",
      "+-----------------------+------------------+---------------+\n",
      "| Secretary Queue Entry | -                |       235.168 |\n",
      "+-----------------------+------------------+---------------+\n",
      "| Nurse Queue Entry     | -                |       242.33  |\n",
      "+-----------------------+------------------+---------------+\n",
      "| Doctor Queue Entry    | -                |               |\n",
      "+-----------------------+------------------+---------------+\n",
      "| End of Visit          | -                |       311.117 |\n",
      "+-----------------------+------------------+---------------+\n",
      "\n",
      "Patient Schedule Summary — Doctor: other, Complexity: complex, Visits Nurse: True\n",
      "+-----------------------+------------------+---------------+\n",
      "| Stage                 | Scheduled Time   |   Actual Time |\n",
      "+=======================+==================+===============+\n",
      "| Arrival               | 230              |       221.96  |\n",
      "+-----------------------+------------------+---------------+\n",
      "| Q-Flow Queue Entry    | -                |       221.96  |\n",
      "+-----------------------+------------------+---------------+\n",
      "| Secretary Queue Entry | -                |       222.896 |\n",
      "+-----------------------+------------------+---------------+\n",
      "| Nurse Queue Entry     | -                |       235.05  |\n",
      "+-----------------------+------------------+---------------+\n",
      "| Doctor Queue Entry    | -                |               |\n",
      "+-----------------------+------------------+---------------+\n",
      "| End of Visit          | -                |       462.022 |\n",
      "+-----------------------+------------------+---------------+\n",
      "\n",
      "Patient Schedule Summary — Doctor: other, Complexity: regular, Visits Nurse: True\n",
      "+-----------------------+------------------+---------------+\n",
      "| Stage                 | Scheduled Time   |   Actual Time |\n",
      "+=======================+==================+===============+\n",
      "| Arrival               | 240              |       236.09  |\n",
      "+-----------------------+------------------+---------------+\n",
      "| Q-Flow Queue Entry    | -                |       236.086 |\n",
      "+-----------------------+------------------+---------------+\n",
      "| Secretary Queue Entry | -                |       237.797 |\n",
      "+-----------------------+------------------+---------------+\n",
      "| Nurse Queue Entry     | -                |       241.932 |\n",
      "+-----------------------+------------------+---------------+\n",
      "| Doctor Queue Entry    | -                |               |\n",
      "+-----------------------+------------------+---------------+\n",
      "| End of Visit          | -                |       269.794 |\n",
      "+-----------------------+------------------+---------------+\n",
      "\n",
      "Patient Schedule Summary — Doctor: other, Complexity: regular, Visits Nurse: True\n",
      "+-----------------------+------------------+---------------+\n",
      "| Stage                 | Scheduled Time   |   Actual Time |\n",
      "+=======================+==================+===============+\n",
      "| Arrival               | 250              |       253.51  |\n",
      "+-----------------------+------------------+---------------+\n",
      "| Q-Flow Queue Entry    | -                |       253.506 |\n",
      "+-----------------------+------------------+---------------+\n",
      "| Secretary Queue Entry | -                |       253.707 |\n",
      "+-----------------------+------------------+---------------+\n",
      "| Nurse Queue Entry     | -                |       255.522 |\n",
      "+-----------------------+------------------+---------------+\n",
      "| Doctor Queue Entry    | -                |               |\n",
      "+-----------------------+------------------+---------------+\n",
      "| End of Visit          | -                |       315.174 |\n",
      "+-----------------------+------------------+---------------+\n",
      "\n",
      "Patient Schedule Summary — Doctor: other, Complexity: regular, Visits Nurse: False\n",
      "+-----------------------+------------------+--------------------+\n",
      "| Stage                 | Scheduled Time   | Actual Time        |\n",
      "+=======================+==================+====================+\n",
      "| Arrival               | 260              | 252.84             |\n",
      "+-----------------------+------------------+--------------------+\n",
      "| Q-Flow Queue Entry    | -                | 252.8430570819318  |\n",
      "+-----------------------+------------------+--------------------+\n",
      "| Secretary Queue Entry | -                | 253.13731128252238 |\n",
      "+-----------------------+------------------+--------------------+\n",
      "| Nurse Queue Entry     | -                | N/A                |\n",
      "+-----------------------+------------------+--------------------+\n",
      "| Doctor Queue Entry    | -                |                    |\n",
      "+-----------------------+------------------+--------------------+\n",
      "| End of Visit          | -                | 254.32089202293508 |\n",
      "+-----------------------+------------------+--------------------+\n",
      "\n",
      "Patient Schedule Summary — Doctor: other, Complexity: complex, Visits Nurse: True\n",
      "+-----------------------+------------------+---------------+\n",
      "| Stage                 | Scheduled Time   |   Actual Time |\n",
      "+=======================+==================+===============+\n",
      "| Arrival               | 270              |       263.07  |\n",
      "+-----------------------+------------------+---------------+\n",
      "| Q-Flow Queue Entry    | -                |       263.075 |\n",
      "+-----------------------+------------------+---------------+\n",
      "| Secretary Queue Entry | -                |       263.427 |\n",
      "+-----------------------+------------------+---------------+\n",
      "| Nurse Queue Entry     | -                |       265.867 |\n",
      "+-----------------------+------------------+---------------+\n",
      "| Doctor Queue Entry    | -                |               |\n",
      "+-----------------------+------------------+---------------+\n",
      "| End of Visit          | -                |       562.149 |\n",
      "+-----------------------+------------------+---------------+\n",
      "\n",
      "Patient Schedule Summary — Doctor: other, Complexity: regular, Visits Nurse: True\n",
      "+-----------------------+------------------+---------------+\n",
      "| Stage                 | Scheduled Time   |   Actual Time |\n",
      "+=======================+==================+===============+\n",
      "| Arrival               | 280              |       270.26  |\n",
      "+-----------------------+------------------+---------------+\n",
      "| Q-Flow Queue Entry    | -                |       270.263 |\n",
      "+-----------------------+------------------+---------------+\n",
      "| Secretary Queue Entry | -                |       271.749 |\n",
      "+-----------------------+------------------+---------------+\n",
      "| Nurse Queue Entry     | -                |       274.233 |\n",
      "+-----------------------+------------------+---------------+\n",
      "| Doctor Queue Entry    | -                |               |\n",
      "+-----------------------+------------------+---------------+\n",
      "| End of Visit          | -                |       533.385 |\n",
      "+-----------------------+------------------+---------------+\n",
      "\n",
      "Patient Schedule Summary — Doctor: other, Complexity: regular, Visits Nurse: True\n",
      "+-----------------------+------------------+---------------+\n",
      "| Stage                 | Scheduled Time   |   Actual Time |\n",
      "+=======================+==================+===============+\n",
      "| Arrival               | 290              |       280.23  |\n",
      "+-----------------------+------------------+---------------+\n",
      "| Q-Flow Queue Entry    | -                |       280.231 |\n",
      "+-----------------------+------------------+---------------+\n",
      "| Secretary Queue Entry | -                |       280.919 |\n",
      "+-----------------------+------------------+---------------+\n",
      "| Nurse Queue Entry     | -                |       292.87  |\n",
      "+-----------------------+------------------+---------------+\n",
      "| Doctor Queue Entry    | -                |               |\n",
      "+-----------------------+------------------+---------------+\n",
      "| End of Visit          | -                |       586.183 |\n",
      "+-----------------------+------------------+---------------+\n",
      "\n",
      "Patient Schedule Summary — Doctor: other, Complexity: regular, Visits Nurse: True\n",
      "+-----------------------+------------------+---------------+\n",
      "| Stage                 | Scheduled Time   |   Actual Time |\n",
      "+=======================+==================+===============+\n",
      "| Arrival               | 300              |       297.97  |\n",
      "+-----------------------+------------------+---------------+\n",
      "| Q-Flow Queue Entry    | -                |       297.969 |\n",
      "+-----------------------+------------------+---------------+\n",
      "| Secretary Queue Entry | -                |       298.491 |\n",
      "+-----------------------+------------------+---------------+\n",
      "| Nurse Queue Entry     | -                |       308.399 |\n",
      "+-----------------------+------------------+---------------+\n",
      "| Doctor Queue Entry    | -                |               |\n",
      "+-----------------------+------------------+---------------+\n",
      "| End of Visit          | -                |       318.012 |\n",
      "+-----------------------+------------------+---------------+\n",
      "\n",
      "Patient Schedule Summary — Doctor: other, Complexity: regular, Visits Nurse: True\n",
      "+-----------------------+------------------+---------------+\n",
      "| Stage                 | Scheduled Time   |   Actual Time |\n",
      "+=======================+==================+===============+\n",
      "| Arrival               | 310              |       297.25  |\n",
      "+-----------------------+------------------+---------------+\n",
      "| Q-Flow Queue Entry    | -                |       297.255 |\n",
      "+-----------------------+------------------+---------------+\n",
      "| Secretary Queue Entry | -                |       297.337 |\n",
      "+-----------------------+------------------+---------------+\n",
      "| Nurse Queue Entry     | -                |       303.59  |\n",
      "+-----------------------+------------------+---------------+\n",
      "| Doctor Queue Entry    | -                |               |\n",
      "+-----------------------+------------------+---------------+\n",
      "| End of Visit          | -                |       571.379 |\n",
      "+-----------------------+------------------+---------------+\n",
      "\n",
      "Patient Schedule Summary — Doctor: other, Complexity: complex, Visits Nurse: True\n",
      "+-----------------------+------------------+---------------+\n",
      "| Stage                 | Scheduled Time   |   Actual Time |\n",
      "+=======================+==================+===============+\n",
      "| Arrival               | 320              |       298.22  |\n",
      "+-----------------------+------------------+---------------+\n",
      "| Q-Flow Queue Entry    | -                |       298.223 |\n",
      "+-----------------------+------------------+---------------+\n",
      "| Secretary Queue Entry | -                |       299.489 |\n",
      "+-----------------------+------------------+---------------+\n",
      "| Nurse Queue Entry     | -                |       308.246 |\n",
      "+-----------------------+------------------+---------------+\n",
      "| Doctor Queue Entry    | -                |               |\n",
      "+-----------------------+------------------+---------------+\n",
      "| End of Visit          | -                |       629.231 |\n",
      "+-----------------------+------------------+---------------+\n",
      "\n",
      "Patient Schedule Summary — Doctor: other, Complexity: complex, Visits Nurse: False\n",
      "+-----------------------+------------------+--------------------+\n",
      "| Stage                 | Scheduled Time   | Actual Time        |\n",
      "+=======================+==================+====================+\n",
      "| Arrival               | 330              | 337.12             |\n",
      "+-----------------------+------------------+--------------------+\n",
      "| Q-Flow Queue Entry    | -                | 337.12182785807744 |\n",
      "+-----------------------+------------------+--------------------+\n",
      "| Secretary Queue Entry | -                | 337.1909871709084  |\n",
      "+-----------------------+------------------+--------------------+\n",
      "| Nurse Queue Entry     | -                | N/A                |\n",
      "+-----------------------+------------------+--------------------+\n",
      "| Doctor Queue Entry    | -                |                    |\n",
      "+-----------------------+------------------+--------------------+\n",
      "| End of Visit          | -                | 338.42349163218205 |\n",
      "+-----------------------+------------------+--------------------+\n",
      "\n",
      "Patient Schedule Summary — Doctor: other, Complexity: complex, Visits Nurse: True\n",
      "+-----------------------+------------------+---------------+\n",
      "| Stage                 | Scheduled Time   |   Actual Time |\n",
      "+=======================+==================+===============+\n",
      "| Arrival               | 340              |       345.55  |\n",
      "+-----------------------+------------------+---------------+\n",
      "| Q-Flow Queue Entry    | -                |       345.548 |\n",
      "+-----------------------+------------------+---------------+\n",
      "| Secretary Queue Entry | -                |       346.328 |\n",
      "+-----------------------+------------------+---------------+\n",
      "| Nurse Queue Entry     | -                |       348.905 |\n",
      "+-----------------------+------------------+---------------+\n",
      "| Doctor Queue Entry    | -                |               |\n",
      "+-----------------------+------------------+---------------+\n",
      "| End of Visit          | -                |       663.197 |\n",
      "+-----------------------+------------------+---------------+\n",
      "\n",
      "Patient Schedule Summary — Doctor: other, Complexity: regular, Visits Nurse: True\n",
      "+-----------------------+------------------+---------------+\n",
      "| Stage                 | Scheduled Time   |   Actual Time |\n",
      "+=======================+==================+===============+\n",
      "| Arrival               | 350              |       376.7   |\n",
      "+-----------------------+------------------+---------------+\n",
      "| Q-Flow Queue Entry    | -                |       376.7   |\n",
      "+-----------------------+------------------+---------------+\n",
      "| Secretary Queue Entry | -                |       377.641 |\n",
      "+-----------------------+------------------+---------------+\n",
      "| Nurse Queue Entry     | -                |       384.423 |\n",
      "+-----------------------+------------------+---------------+\n",
      "| Doctor Queue Entry    | -                |               |\n",
      "+-----------------------+------------------+---------------+\n",
      "| End of Visit          | -                |       386.903 |\n",
      "+-----------------------+------------------+---------------+\n"
     ]
    },
    {
     "data": {
      "application/vnd.jupyter.widget-view+json": {
       "model_id": "2e4ca6d8c0c343988bedd815faaff37c",
       "version_major": 2,
       "version_minor": 0
      },
      "text/plain": [
       "Iteration 2 in process:   0%|          | 0/101 [00:00<?, ?it/s]"
      ]
     },
     "metadata": {},
     "output_type": "display_data"
    },
    {
     "data": {
      "application/vnd.jupyter.widget-view+json": {
       "model_id": "0b485e904d324f8a9e2500efba4b9b1e",
       "version_major": 2,
       "version_minor": 0
      },
      "text/plain": [
       "Iteration 3 in process:   0%|          | 0/101 [00:00<?, ?it/s]"
      ]
     },
     "metadata": {},
     "output_type": "display_data"
    },
    {
     "data": {
      "application/vnd.jupyter.widget-view+json": {
       "model_id": "ece8f1c2538e4a159afa23fb1ff1086a",
       "version_major": 2,
       "version_minor": 0
      },
      "text/plain": [
       "Iteration 4 in process:   0%|          | 0/101 [00:00<?, ?it/s]"
      ]
     },
     "metadata": {},
     "output_type": "display_data"
    },
    {
     "data": {
      "application/vnd.jupyter.widget-view+json": {
       "model_id": "15cd36397e5b4ce4b047d74a03da995b",
       "version_major": 2,
       "version_minor": 0
      },
      "text/plain": [
       "Iteration 5 in process:   0%|          | 0/101 [00:00<?, ?it/s]"
      ]
     },
     "metadata": {},
     "output_type": "display_data"
    },
    {
     "data": {
      "application/vnd.jupyter.widget-view+json": {
       "model_id": "f15f15b2ef0242a8857d4df97630696c",
       "version_major": 2,
       "version_minor": 0
      },
      "text/plain": [
       "Iteration 6 in process:   0%|          | 0/101 [00:00<?, ?it/s]"
      ]
     },
     "metadata": {},
     "output_type": "display_data"
    },
    {
     "data": {
      "application/vnd.jupyter.widget-view+json": {
       "model_id": "ae6ea7b56fcb4af59695f7df5fa14d0c",
       "version_major": 2,
       "version_minor": 0
      },
      "text/plain": [
       "Iteration 7 in process:   0%|          | 0/101 [00:00<?, ?it/s]"
      ]
     },
     "metadata": {},
     "output_type": "display_data"
    },
    {
     "data": {
      "application/vnd.jupyter.widget-view+json": {
       "model_id": "955ff3d157b8467082c532b1eefa740f",
       "version_major": 2,
       "version_minor": 0
      },
      "text/plain": [
       "Iteration 8 in process:   0%|          | 0/101 [00:00<?, ?it/s]"
      ]
     },
     "metadata": {},
     "output_type": "display_data"
    },
    {
     "data": {
      "application/vnd.jupyter.widget-view+json": {
       "model_id": "1eca3538e11646e89c262442b8bce1af",
       "version_major": 2,
       "version_minor": 0
      },
      "text/plain": [
       "Iteration 9 in process:   0%|          | 0/101 [00:00<?, ?it/s]"
      ]
     },
     "metadata": {},
     "output_type": "display_data"
    },
    {
     "data": {
      "application/vnd.jupyter.widget-view+json": {
       "model_id": "f203213e2ff941678d29cc235bf957e9",
       "version_major": 2,
       "version_minor": 0
      },
      "text/plain": [
       "Iteration 10 in process:   0%|          | 0/101 [00:00<?, ?it/s]"
      ]
     },
     "metadata": {},
     "output_type": "display_data"
    },
    {
     "data": {
      "application/vnd.jupyter.widget-view+json": {
       "model_id": "20043df54cc14ab4b6392d74ab6e0d33",
       "version_major": 2,
       "version_minor": 0
      },
      "text/plain": [
       "Iteration 11 in process:   0%|          | 0/101 [00:00<?, ?it/s]"
      ]
     },
     "metadata": {},
     "output_type": "display_data"
    },
    {
     "data": {
      "application/vnd.jupyter.widget-view+json": {
       "model_id": "6527bb3aa71a46ecbda239173da7db61",
       "version_major": 2,
       "version_minor": 0
      },
      "text/plain": [
       "Iteration 12 in process:   0%|          | 0/101 [00:00<?, ?it/s]"
      ]
     },
     "metadata": {},
     "output_type": "display_data"
    },
    {
     "data": {
      "application/vnd.jupyter.widget-view+json": {
       "model_id": "25e3f7e85a584a04ae509fe4d85fc8c2",
       "version_major": 2,
       "version_minor": 0
      },
      "text/plain": [
       "Iteration 13 in process:   0%|          | 0/101 [00:00<?, ?it/s]"
      ]
     },
     "metadata": {},
     "output_type": "display_data"
    },
    {
     "data": {
      "application/vnd.jupyter.widget-view+json": {
       "model_id": "2d1e9eae611b4ac29ee2738a3c136cf6",
       "version_major": 2,
       "version_minor": 0
      },
      "text/plain": [
       "Iteration 14 in process:   0%|          | 0/101 [00:00<?, ?it/s]"
      ]
     },
     "metadata": {},
     "output_type": "display_data"
    },
    {
     "data": {
      "application/vnd.jupyter.widget-view+json": {
       "model_id": "0698a244b9a741b7a8c73a14890cc6ad",
       "version_major": 2,
       "version_minor": 0
      },
      "text/plain": [
       "Iteration 15 in process:   0%|          | 0/101 [00:00<?, ?it/s]"
      ]
     },
     "metadata": {},
     "output_type": "display_data"
    },
    {
     "data": {
      "application/vnd.jupyter.widget-view+json": {
       "model_id": "bac20a40b29e4c5b9446961426b843a0",
       "version_major": 2,
       "version_minor": 0
      },
      "text/plain": [
       "Iteration 16 in process:   0%|          | 0/101 [00:00<?, ?it/s]"
      ]
     },
     "metadata": {},
     "output_type": "display_data"
    },
    {
     "data": {
      "application/vnd.jupyter.widget-view+json": {
       "model_id": "848bfc50a96e436998b98d966156bd9f",
       "version_major": 2,
       "version_minor": 0
      },
      "text/plain": [
       "Iteration 17 in process:   0%|          | 0/101 [00:00<?, ?it/s]"
      ]
     },
     "metadata": {},
     "output_type": "display_data"
    },
    {
     "data": {
      "application/vnd.jupyter.widget-view+json": {
       "model_id": "a057d7079f30467aacbef1c0fc024504",
       "version_major": 2,
       "version_minor": 0
      },
      "text/plain": [
       "Iteration 18 in process:   0%|          | 0/101 [00:00<?, ?it/s]"
      ]
     },
     "metadata": {},
     "output_type": "display_data"
    },
    {
     "data": {
      "application/vnd.jupyter.widget-view+json": {
       "model_id": "261f6c4f592c41e5813a8712af2c1a06",
       "version_major": 2,
       "version_minor": 0
      },
      "text/plain": [
       "Iteration 19 in process:   0%|          | 0/101 [00:00<?, ?it/s]"
      ]
     },
     "metadata": {},
     "output_type": "display_data"
    },
    {
     "data": {
      "application/vnd.jupyter.widget-view+json": {
       "model_id": "4cca0060fd024dd7803d5b79ca145938",
       "version_major": 2,
       "version_minor": 0
      },
      "text/plain": [
       "Iteration 20 in process:   0%|          | 0/101 [00:00<?, ?it/s]"
      ]
     },
     "metadata": {},
     "output_type": "display_data"
    },
    {
     "data": {
      "application/vnd.jupyter.widget-view+json": {
       "model_id": "d854a7cab25b410ebf323ac224f9d548",
       "version_major": 2,
       "version_minor": 0
      },
      "text/plain": [
       "Iteration 21 in process:   0%|          | 0/101 [00:00<?, ?it/s]"
      ]
     },
     "metadata": {},
     "output_type": "display_data"
    },
    {
     "data": {
      "application/vnd.jupyter.widget-view+json": {
       "model_id": "c704f178c1334c05bbb7a462083bc52e",
       "version_major": 2,
       "version_minor": 0
      },
      "text/plain": [
       "Iteration 22 in process:   0%|          | 0/101 [00:00<?, ?it/s]"
      ]
     },
     "metadata": {},
     "output_type": "display_data"
    },
    {
     "data": {
      "application/vnd.jupyter.widget-view+json": {
       "model_id": "756f41f3dd924594b72d9e8a176a675c",
       "version_major": 2,
       "version_minor": 0
      },
      "text/plain": [
       "Iteration 23 in process:   0%|          | 0/101 [00:00<?, ?it/s]"
      ]
     },
     "metadata": {},
     "output_type": "display_data"
    },
    {
     "data": {
      "application/vnd.jupyter.widget-view+json": {
       "model_id": "f90d7ec0732c469ea416d3fa00a972a8",
       "version_major": 2,
       "version_minor": 0
      },
      "text/plain": [
       "Iteration 24 in process:   0%|          | 0/101 [00:00<?, ?it/s]"
      ]
     },
     "metadata": {},
     "output_type": "display_data"
    },
    {
     "data": {
      "application/vnd.jupyter.widget-view+json": {
       "model_id": "67d77dd064cc4d16ad2f8fdfd51b345b",
       "version_major": 2,
       "version_minor": 0
      },
      "text/plain": [
       "Iteration 25 in process:   0%|          | 0/101 [00:00<?, ?it/s]"
      ]
     },
     "metadata": {},
     "output_type": "display_data"
    },
    {
     "data": {
      "application/vnd.jupyter.widget-view+json": {
       "model_id": "fe0f0269b4474c24aa590b0b8a75eee5",
       "version_major": 2,
       "version_minor": 0
      },
      "text/plain": [
       "Iteration 26 in process:   0%|          | 0/101 [00:00<?, ?it/s]"
      ]
     },
     "metadata": {},
     "output_type": "display_data"
    },
    {
     "data": {
      "application/vnd.jupyter.widget-view+json": {
       "model_id": "fc4f7c35c75143d9906bfc730d819d71",
       "version_major": 2,
       "version_minor": 0
      },
      "text/plain": [
       "Iteration 27 in process:   0%|          | 0/101 [00:00<?, ?it/s]"
      ]
     },
     "metadata": {},
     "output_type": "display_data"
    },
    {
     "data": {
      "application/vnd.jupyter.widget-view+json": {
       "model_id": "416c62c67c374519b59cd65489ca2d80",
       "version_major": 2,
       "version_minor": 0
      },
      "text/plain": [
       "Iteration 28 in process:   0%|          | 0/101 [00:00<?, ?it/s]"
      ]
     },
     "metadata": {},
     "output_type": "display_data"
    },
    {
     "data": {
      "application/vnd.jupyter.widget-view+json": {
       "model_id": "1900aa2587cf4eba9dcf8c608e8b6b57",
       "version_major": 2,
       "version_minor": 0
      },
      "text/plain": [
       "Iteration 29 in process:   0%|          | 0/101 [00:00<?, ?it/s]"
      ]
     },
     "metadata": {},
     "output_type": "display_data"
    },
    {
     "data": {
      "application/vnd.jupyter.widget-view+json": {
       "model_id": "97fcaeb5bbc749aa9e3d34b6e3fd5858",
       "version_major": 2,
       "version_minor": 0
      },
      "text/plain": [
       "Iteration 30 in process:   0%|          | 0/101 [00:00<?, ?it/s]"
      ]
     },
     "metadata": {},
     "output_type": "display_data"
    },
    {
     "data": {
      "application/vnd.jupyter.widget-view+json": {
       "model_id": "89c1b053dfed465593f672f66a883461",
       "version_major": 2,
       "version_minor": 0
      },
      "text/plain": [
       "Iteration 31 in process:   0%|          | 0/101 [00:00<?, ?it/s]"
      ]
     },
     "metadata": {},
     "output_type": "display_data"
    },
    {
     "data": {
      "application/vnd.jupyter.widget-view+json": {
       "model_id": "3c050343839f457c8765241d159baf68",
       "version_major": 2,
       "version_minor": 0
      },
      "text/plain": [
       "Iteration 32 in process:   0%|          | 0/101 [00:00<?, ?it/s]"
      ]
     },
     "metadata": {},
     "output_type": "display_data"
    },
    {
     "data": {
      "application/vnd.jupyter.widget-view+json": {
       "model_id": "0cceb6cc52db480bbb383604429eaa4d",
       "version_major": 2,
       "version_minor": 0
      },
      "text/plain": [
       "Iteration 33 in process:   0%|          | 0/101 [00:00<?, ?it/s]"
      ]
     },
     "metadata": {},
     "output_type": "display_data"
    },
    {
     "data": {
      "application/vnd.jupyter.widget-view+json": {
       "model_id": "5bf26ff5b5b347c3beb1abbcbeb3c392",
       "version_major": 2,
       "version_minor": 0
      },
      "text/plain": [
       "Iteration 34 in process:   0%|          | 0/101 [00:00<?, ?it/s]"
      ]
     },
     "metadata": {},
     "output_type": "display_data"
    },
    {
     "data": {
      "application/vnd.jupyter.widget-view+json": {
       "model_id": "d8a0e75e879c4726a0c3a9095a214120",
       "version_major": 2,
       "version_minor": 0
      },
      "text/plain": [
       "Iteration 35 in process:   0%|          | 0/101 [00:00<?, ?it/s]"
      ]
     },
     "metadata": {},
     "output_type": "display_data"
    },
    {
     "data": {
      "application/vnd.jupyter.widget-view+json": {
       "model_id": "c78ebd8405ef4a7d97d58eb33d346439",
       "version_major": 2,
       "version_minor": 0
      },
      "text/plain": [
       "Iteration 36 in process:   0%|          | 0/101 [00:00<?, ?it/s]"
      ]
     },
     "metadata": {},
     "output_type": "display_data"
    },
    {
     "data": {
      "application/vnd.jupyter.widget-view+json": {
       "model_id": "48825609d81544dfab6cd5862cf32512",
       "version_major": 2,
       "version_minor": 0
      },
      "text/plain": [
       "Iteration 37 in process:   0%|          | 0/101 [00:00<?, ?it/s]"
      ]
     },
     "metadata": {},
     "output_type": "display_data"
    },
    {
     "data": {
      "application/vnd.jupyter.widget-view+json": {
       "model_id": "75d6d313b6ab48e4ab5b5ae8eb6c3afd",
       "version_major": 2,
       "version_minor": 0
      },
      "text/plain": [
       "Iteration 38 in process:   0%|          | 0/101 [00:00<?, ?it/s]"
      ]
     },
     "metadata": {},
     "output_type": "display_data"
    },
    {
     "data": {
      "application/vnd.jupyter.widget-view+json": {
       "model_id": "d17adf2b20b64f8993dd93490f9e667d",
       "version_major": 2,
       "version_minor": 0
      },
      "text/plain": [
       "Iteration 39 in process:   0%|          | 0/101 [00:00<?, ?it/s]"
      ]
     },
     "metadata": {},
     "output_type": "display_data"
    },
    {
     "data": {
      "application/vnd.jupyter.widget-view+json": {
       "model_id": "fdeb45c54da540218665e3d7bcf6bc78",
       "version_major": 2,
       "version_minor": 0
      },
      "text/plain": [
       "Iteration 40 in process:   0%|          | 0/101 [00:00<?, ?it/s]"
      ]
     },
     "metadata": {},
     "output_type": "display_data"
    },
    {
     "data": {
      "application/vnd.jupyter.widget-view+json": {
       "model_id": "0c1ca2a9509e48ceb70dd1561022086a",
       "version_major": 2,
       "version_minor": 0
      },
      "text/plain": [
       "Iteration 41 in process:   0%|          | 0/101 [00:00<?, ?it/s]"
      ]
     },
     "metadata": {},
     "output_type": "display_data"
    },
    {
     "data": {
      "application/vnd.jupyter.widget-view+json": {
       "model_id": "c71af4d8401b419ea67ec04e28b70805",
       "version_major": 2,
       "version_minor": 0
      },
      "text/plain": [
       "Iteration 42 in process:   0%|          | 0/101 [00:00<?, ?it/s]"
      ]
     },
     "metadata": {},
     "output_type": "display_data"
    },
    {
     "data": {
      "application/vnd.jupyter.widget-view+json": {
       "model_id": "9ed25a60a46c49aebebdc56f4c9ae7d2",
       "version_major": 2,
       "version_minor": 0
      },
      "text/plain": [
       "Iteration 43 in process:   0%|          | 0/101 [00:00<?, ?it/s]"
      ]
     },
     "metadata": {},
     "output_type": "display_data"
    },
    {
     "data": {
      "application/vnd.jupyter.widget-view+json": {
       "model_id": "048e628567514bd3adb5551c7035799d",
       "version_major": 2,
       "version_minor": 0
      },
      "text/plain": [
       "Iteration 44 in process:   0%|          | 0/101 [00:00<?, ?it/s]"
      ]
     },
     "metadata": {},
     "output_type": "display_data"
    },
    {
     "data": {
      "application/vnd.jupyter.widget-view+json": {
       "model_id": "f3da456acd224fc987244ffa8d72399e",
       "version_major": 2,
       "version_minor": 0
      },
      "text/plain": [
       "Iteration 45 in process:   0%|          | 0/101 [00:00<?, ?it/s]"
      ]
     },
     "metadata": {},
     "output_type": "display_data"
    },
    {
     "data": {
      "application/vnd.jupyter.widget-view+json": {
       "model_id": "2b8271b5880d49e5b953f12da2e1bdcf",
       "version_major": 2,
       "version_minor": 0
      },
      "text/plain": [
       "Iteration 46 in process:   0%|          | 0/101 [00:00<?, ?it/s]"
      ]
     },
     "metadata": {},
     "output_type": "display_data"
    },
    {
     "data": {
      "application/vnd.jupyter.widget-view+json": {
       "model_id": "27e2821525cd42c5a346764e45b8c781",
       "version_major": 2,
       "version_minor": 0
      },
      "text/plain": [
       "Iteration 47 in process:   0%|          | 0/101 [00:00<?, ?it/s]"
      ]
     },
     "metadata": {},
     "output_type": "display_data"
    },
    {
     "data": {
      "application/vnd.jupyter.widget-view+json": {
       "model_id": "cd11c4d5d2da466698cf55a337dd5159",
       "version_major": 2,
       "version_minor": 0
      },
      "text/plain": [
       "Iteration 48 in process:   0%|          | 0/101 [00:00<?, ?it/s]"
      ]
     },
     "metadata": {},
     "output_type": "display_data"
    },
    {
     "data": {
      "application/vnd.jupyter.widget-view+json": {
       "model_id": "949043d17bfa463aafc180f2d077dfad",
       "version_major": 2,
       "version_minor": 0
      },
      "text/plain": [
       "Iteration 49 in process:   0%|          | 0/101 [00:00<?, ?it/s]"
      ]
     },
     "metadata": {},
     "output_type": "display_data"
    },
    {
     "data": {
      "application/vnd.jupyter.widget-view+json": {
       "model_id": "cf8676b56af4438c93dc44f85c50c562",
       "version_major": 2,
       "version_minor": 0
      },
      "text/plain": [
       "Iteration 50 in process:   0%|          | 0/101 [00:00<?, ?it/s]"
      ]
     },
     "metadata": {},
     "output_type": "display_data"
    },
    {
     "data": {
      "application/vnd.jupyter.widget-view+json": {
       "model_id": "f71868c61fde4e8c9b3fbf3a12ac5dcd",
       "version_major": 2,
       "version_minor": 0
      },
      "text/plain": [
       "Iteration 51 in process:   0%|          | 0/101 [00:00<?, ?it/s]"
      ]
     },
     "metadata": {},
     "output_type": "display_data"
    },
    {
     "data": {
      "application/vnd.jupyter.widget-view+json": {
       "model_id": "4c8cdca7cf2148a2bfca66047a2ba4d8",
       "version_major": 2,
       "version_minor": 0
      },
      "text/plain": [
       "Iteration 52 in process:   0%|          | 0/101 [00:00<?, ?it/s]"
      ]
     },
     "metadata": {},
     "output_type": "display_data"
    },
    {
     "data": {
      "application/vnd.jupyter.widget-view+json": {
       "model_id": "71720bae53b44a0698ad979b375f19da",
       "version_major": 2,
       "version_minor": 0
      },
      "text/plain": [
       "Iteration 53 in process:   0%|          | 0/101 [00:00<?, ?it/s]"
      ]
     },
     "metadata": {},
     "output_type": "display_data"
    },
    {
     "data": {
      "application/vnd.jupyter.widget-view+json": {
       "model_id": "8c07c80d3f7a423e958a9a2a56179780",
       "version_major": 2,
       "version_minor": 0
      },
      "text/plain": [
       "Iteration 54 in process:   0%|          | 0/101 [00:00<?, ?it/s]"
      ]
     },
     "metadata": {},
     "output_type": "display_data"
    },
    {
     "data": {
      "application/vnd.jupyter.widget-view+json": {
       "model_id": "c0fa5025738448adb5f58f8b910b323d",
       "version_major": 2,
       "version_minor": 0
      },
      "text/plain": [
       "Iteration 55 in process:   0%|          | 0/101 [00:00<?, ?it/s]"
      ]
     },
     "metadata": {},
     "output_type": "display_data"
    },
    {
     "data": {
      "application/vnd.jupyter.widget-view+json": {
       "model_id": "a973d080675d427a86f8aff9dae2cbad",
       "version_major": 2,
       "version_minor": 0
      },
      "text/plain": [
       "Iteration 56 in process:   0%|          | 0/101 [00:00<?, ?it/s]"
      ]
     },
     "metadata": {},
     "output_type": "display_data"
    },
    {
     "data": {
      "application/vnd.jupyter.widget-view+json": {
       "model_id": "df59a583eff14ab9a334fdaba95b4bef",
       "version_major": 2,
       "version_minor": 0
      },
      "text/plain": [
       "Iteration 57 in process:   0%|          | 0/101 [00:00<?, ?it/s]"
      ]
     },
     "metadata": {},
     "output_type": "display_data"
    },
    {
     "data": {
      "application/vnd.jupyter.widget-view+json": {
       "model_id": "24c3359d0454446694ee1a8fe448d091",
       "version_major": 2,
       "version_minor": 0
      },
      "text/plain": [
       "Iteration 58 in process:   0%|          | 0/101 [00:00<?, ?it/s]"
      ]
     },
     "metadata": {},
     "output_type": "display_data"
    },
    {
     "data": {
      "application/vnd.jupyter.widget-view+json": {
       "model_id": "bc83a977e074461eb6f4c539442e2459",
       "version_major": 2,
       "version_minor": 0
      },
      "text/plain": [
       "Iteration 59 in process:   0%|          | 0/101 [00:00<?, ?it/s]"
      ]
     },
     "metadata": {},
     "output_type": "display_data"
    },
    {
     "data": {
      "application/vnd.jupyter.widget-view+json": {
       "model_id": "accff3f32e2643e7a2f142e0777577ea",
       "version_major": 2,
       "version_minor": 0
      },
      "text/plain": [
       "Iteration 60 in process:   0%|          | 0/101 [00:00<?, ?it/s]"
      ]
     },
     "metadata": {},
     "output_type": "display_data"
    },
    {
     "data": {
      "application/vnd.jupyter.widget-view+json": {
       "model_id": "19a822cee2144ebc91e3114fe4c20957",
       "version_major": 2,
       "version_minor": 0
      },
      "text/plain": [
       "Iteration 61 in process:   0%|          | 0/101 [00:00<?, ?it/s]"
      ]
     },
     "metadata": {},
     "output_type": "display_data"
    },
    {
     "data": {
      "application/vnd.jupyter.widget-view+json": {
       "model_id": "45b78a3bb3384b899facc281a74c146a",
       "version_major": 2,
       "version_minor": 0
      },
      "text/plain": [
       "Iteration 62 in process:   0%|          | 0/101 [00:00<?, ?it/s]"
      ]
     },
     "metadata": {},
     "output_type": "display_data"
    },
    {
     "data": {
      "application/vnd.jupyter.widget-view+json": {
       "model_id": "fac89eb3803f4f529106152f2ff701a2",
       "version_major": 2,
       "version_minor": 0
      },
      "text/plain": [
       "Iteration 63 in process:   0%|          | 0/101 [00:00<?, ?it/s]"
      ]
     },
     "metadata": {},
     "output_type": "display_data"
    },
    {
     "data": {
      "application/vnd.jupyter.widget-view+json": {
       "model_id": "e981deff33e24e1ea04458857e2646fc",
       "version_major": 2,
       "version_minor": 0
      },
      "text/plain": [
       "Iteration 64 in process:   0%|          | 0/101 [00:00<?, ?it/s]"
      ]
     },
     "metadata": {},
     "output_type": "display_data"
    },
    {
     "data": {
      "application/vnd.jupyter.widget-view+json": {
       "model_id": "693571d9d97d44589f564e8e2d96db30",
       "version_major": 2,
       "version_minor": 0
      },
      "text/plain": [
       "Iteration 65 in process:   0%|          | 0/101 [00:00<?, ?it/s]"
      ]
     },
     "metadata": {},
     "output_type": "display_data"
    },
    {
     "data": {
      "application/vnd.jupyter.widget-view+json": {
       "model_id": "770b180ad0c24892861f1119a2595404",
       "version_major": 2,
       "version_minor": 0
      },
      "text/plain": [
       "Iteration 66 in process:   0%|          | 0/101 [00:00<?, ?it/s]"
      ]
     },
     "metadata": {},
     "output_type": "display_data"
    },
    {
     "data": {
      "application/vnd.jupyter.widget-view+json": {
       "model_id": "fb8a49326f164f759959333f196b5715",
       "version_major": 2,
       "version_minor": 0
      },
      "text/plain": [
       "Iteration 67 in process:   0%|          | 0/101 [00:00<?, ?it/s]"
      ]
     },
     "metadata": {},
     "output_type": "display_data"
    },
    {
     "data": {
      "application/vnd.jupyter.widget-view+json": {
       "model_id": "fd8f81341ae14e3496f1bf4be0fabea6",
       "version_major": 2,
       "version_minor": 0
      },
      "text/plain": [
       "Iteration 68 in process:   0%|          | 0/101 [00:00<?, ?it/s]"
      ]
     },
     "metadata": {},
     "output_type": "display_data"
    },
    {
     "data": {
      "application/vnd.jupyter.widget-view+json": {
       "model_id": "31362117fd884561a336eb7f6eb6465d",
       "version_major": 2,
       "version_minor": 0
      },
      "text/plain": [
       "Iteration 69 in process:   0%|          | 0/101 [00:00<?, ?it/s]"
      ]
     },
     "metadata": {},
     "output_type": "display_data"
    },
    {
     "data": {
      "application/vnd.jupyter.widget-view+json": {
       "model_id": "9360614cd3084052a539a0abf23d21ba",
       "version_major": 2,
       "version_minor": 0
      },
      "text/plain": [
       "Iteration 70 in process:   0%|          | 0/101 [00:00<?, ?it/s]"
      ]
     },
     "metadata": {},
     "output_type": "display_data"
    },
    {
     "data": {
      "application/vnd.jupyter.widget-view+json": {
       "model_id": "fdfcd19de44444f89a4c4bf1a72966ce",
       "version_major": 2,
       "version_minor": 0
      },
      "text/plain": [
       "Iteration 71 in process:   0%|          | 0/101 [00:00<?, ?it/s]"
      ]
     },
     "metadata": {},
     "output_type": "display_data"
    },
    {
     "data": {
      "application/vnd.jupyter.widget-view+json": {
       "model_id": "62cbb045221d43669da5477030291642",
       "version_major": 2,
       "version_minor": 0
      },
      "text/plain": [
       "Iteration 72 in process:   0%|          | 0/101 [00:00<?, ?it/s]"
      ]
     },
     "metadata": {},
     "output_type": "display_data"
    },
    {
     "data": {
      "application/vnd.jupyter.widget-view+json": {
       "model_id": "b9857a0ef5514e148a9d8b1fed9a7f97",
       "version_major": 2,
       "version_minor": 0
      },
      "text/plain": [
       "Iteration 73 in process:   0%|          | 0/101 [00:00<?, ?it/s]"
      ]
     },
     "metadata": {},
     "output_type": "display_data"
    },
    {
     "data": {
      "application/vnd.jupyter.widget-view+json": {
       "model_id": "f225d2fb59954b5f8af20ba8a2227d8b",
       "version_major": 2,
       "version_minor": 0
      },
      "text/plain": [
       "Iteration 74 in process:   0%|          | 0/101 [00:00<?, ?it/s]"
      ]
     },
     "metadata": {},
     "output_type": "display_data"
    },
    {
     "data": {
      "application/vnd.jupyter.widget-view+json": {
       "model_id": "fabed97ca0424b95b62103282e7b00a4",
       "version_major": 2,
       "version_minor": 0
      },
      "text/plain": [
       "Iteration 75 in process:   0%|          | 0/101 [00:00<?, ?it/s]"
      ]
     },
     "metadata": {},
     "output_type": "display_data"
    },
    {
     "data": {
      "application/vnd.jupyter.widget-view+json": {
       "model_id": "49082ef99dae452f87eb9dc7a8735c8f",
       "version_major": 2,
       "version_minor": 0
      },
      "text/plain": [
       "Iteration 76 in process:   0%|          | 0/101 [00:00<?, ?it/s]"
      ]
     },
     "metadata": {},
     "output_type": "display_data"
    },
    {
     "data": {
      "application/vnd.jupyter.widget-view+json": {
       "model_id": "2b3deecb74064a2abbd428def31ec4d6",
       "version_major": 2,
       "version_minor": 0
      },
      "text/plain": [
       "Iteration 77 in process:   0%|          | 0/101 [00:00<?, ?it/s]"
      ]
     },
     "metadata": {},
     "output_type": "display_data"
    },
    {
     "data": {
      "application/vnd.jupyter.widget-view+json": {
       "model_id": "62f161dea6a746498d46e1ad004382c6",
       "version_major": 2,
       "version_minor": 0
      },
      "text/plain": [
       "Iteration 78 in process:   0%|          | 0/101 [00:00<?, ?it/s]"
      ]
     },
     "metadata": {},
     "output_type": "display_data"
    },
    {
     "data": {
      "application/vnd.jupyter.widget-view+json": {
       "model_id": "1822e7fbc3c842c180660523a4c5d195",
       "version_major": 2,
       "version_minor": 0
      },
      "text/plain": [
       "Iteration 79 in process:   0%|          | 0/101 [00:00<?, ?it/s]"
      ]
     },
     "metadata": {},
     "output_type": "display_data"
    },
    {
     "data": {
      "application/vnd.jupyter.widget-view+json": {
       "model_id": "148f7edb18464c6a951577e4f060c818",
       "version_major": 2,
       "version_minor": 0
      },
      "text/plain": [
       "Iteration 80 in process:   0%|          | 0/101 [00:00<?, ?it/s]"
      ]
     },
     "metadata": {},
     "output_type": "display_data"
    },
    {
     "data": {
      "application/vnd.jupyter.widget-view+json": {
       "model_id": "55f7373c4c6746eaa8a35d7e1a0940ca",
       "version_major": 2,
       "version_minor": 0
      },
      "text/plain": [
       "Iteration 81 in process:   0%|          | 0/101 [00:00<?, ?it/s]"
      ]
     },
     "metadata": {},
     "output_type": "display_data"
    },
    {
     "data": {
      "application/vnd.jupyter.widget-view+json": {
       "model_id": "19f2ec3c16b34807b28b820ad3bc1350",
       "version_major": 2,
       "version_minor": 0
      },
      "text/plain": [
       "Iteration 82 in process:   0%|          | 0/101 [00:00<?, ?it/s]"
      ]
     },
     "metadata": {},
     "output_type": "display_data"
    },
    {
     "data": {
      "application/vnd.jupyter.widget-view+json": {
       "model_id": "1feac37421d24bbeb5093036e640299f",
       "version_major": 2,
       "version_minor": 0
      },
      "text/plain": [
       "Iteration 83 in process:   0%|          | 0/101 [00:00<?, ?it/s]"
      ]
     },
     "metadata": {},
     "output_type": "display_data"
    },
    {
     "data": {
      "application/vnd.jupyter.widget-view+json": {
       "model_id": "aeb440a1549d46a88d8cb5cb6be67203",
       "version_major": 2,
       "version_minor": 0
      },
      "text/plain": [
       "Iteration 84 in process:   0%|          | 0/101 [00:00<?, ?it/s]"
      ]
     },
     "metadata": {},
     "output_type": "display_data"
    },
    {
     "data": {
      "application/vnd.jupyter.widget-view+json": {
       "model_id": "f4980f1a570045f08817c80b2a43ee51",
       "version_major": 2,
       "version_minor": 0
      },
      "text/plain": [
       "Iteration 85 in process:   0%|          | 0/101 [00:00<?, ?it/s]"
      ]
     },
     "metadata": {},
     "output_type": "display_data"
    },
    {
     "data": {
      "application/vnd.jupyter.widget-view+json": {
       "model_id": "0744bcad226243528e144c6a0b234b64",
       "version_major": 2,
       "version_minor": 0
      },
      "text/plain": [
       "Iteration 86 in process:   0%|          | 0/101 [00:00<?, ?it/s]"
      ]
     },
     "metadata": {},
     "output_type": "display_data"
    },
    {
     "data": {
      "application/vnd.jupyter.widget-view+json": {
       "model_id": "34ed8a7f484f4bf28282188010c2f735",
       "version_major": 2,
       "version_minor": 0
      },
      "text/plain": [
       "Iteration 87 in process:   0%|          | 0/101 [00:00<?, ?it/s]"
      ]
     },
     "metadata": {},
     "output_type": "display_data"
    },
    {
     "data": {
      "application/vnd.jupyter.widget-view+json": {
       "model_id": "d39d39d7438542e89b82ecfd6b2c678c",
       "version_major": 2,
       "version_minor": 0
      },
      "text/plain": [
       "Iteration 88 in process:   0%|          | 0/101 [00:00<?, ?it/s]"
      ]
     },
     "metadata": {},
     "output_type": "display_data"
    },
    {
     "data": {
      "application/vnd.jupyter.widget-view+json": {
       "model_id": "0eab644d63174d6990b1f7272ce1b581",
       "version_major": 2,
       "version_minor": 0
      },
      "text/plain": [
       "Iteration 89 in process:   0%|          | 0/101 [00:00<?, ?it/s]"
      ]
     },
     "metadata": {},
     "output_type": "display_data"
    },
    {
     "data": {
      "application/vnd.jupyter.widget-view+json": {
       "model_id": "4b240af839d04d02bd3c7476149260fa",
       "version_major": 2,
       "version_minor": 0
      },
      "text/plain": [
       "Iteration 90 in process:   0%|          | 0/101 [00:00<?, ?it/s]"
      ]
     },
     "metadata": {},
     "output_type": "display_data"
    },
    {
     "data": {
      "application/vnd.jupyter.widget-view+json": {
       "model_id": "a133e314d9ee46c5b741ed45743c5b9e",
       "version_major": 2,
       "version_minor": 0
      },
      "text/plain": [
       "Iteration 91 in process:   0%|          | 0/101 [00:00<?, ?it/s]"
      ]
     },
     "metadata": {},
     "output_type": "display_data"
    },
    {
     "data": {
      "application/vnd.jupyter.widget-view+json": {
       "model_id": "4b945673a3ab48c392238a780bb4e0a3",
       "version_major": 2,
       "version_minor": 0
      },
      "text/plain": [
       "Iteration 92 in process:   0%|          | 0/101 [00:00<?, ?it/s]"
      ]
     },
     "metadata": {},
     "output_type": "display_data"
    },
    {
     "data": {
      "application/vnd.jupyter.widget-view+json": {
       "model_id": "6cedd0765dea4990a9a14f17846d6510",
       "version_major": 2,
       "version_minor": 0
      },
      "text/plain": [
       "Iteration 93 in process:   0%|          | 0/101 [00:00<?, ?it/s]"
      ]
     },
     "metadata": {},
     "output_type": "display_data"
    },
    {
     "data": {
      "application/vnd.jupyter.widget-view+json": {
       "model_id": "8f5a2cfcf8374402a0ded768cd550f23",
       "version_major": 2,
       "version_minor": 0
      },
      "text/plain": [
       "Iteration 94 in process:   0%|          | 0/101 [00:00<?, ?it/s]"
      ]
     },
     "metadata": {},
     "output_type": "display_data"
    },
    {
     "data": {
      "application/vnd.jupyter.widget-view+json": {
       "model_id": "5d0afba3277848e99ee7af77dd85820c",
       "version_major": 2,
       "version_minor": 0
      },
      "text/plain": [
       "Iteration 95 in process:   0%|          | 0/101 [00:00<?, ?it/s]"
      ]
     },
     "metadata": {},
     "output_type": "display_data"
    },
    {
     "data": {
      "application/vnd.jupyter.widget-view+json": {
       "model_id": "45e53b9db6af4041b74488df13282b9e",
       "version_major": 2,
       "version_minor": 0
      },
      "text/plain": [
       "Iteration 96 in process:   0%|          | 0/101 [00:00<?, ?it/s]"
      ]
     },
     "metadata": {},
     "output_type": "display_data"
    },
    {
     "data": {
      "application/vnd.jupyter.widget-view+json": {
       "model_id": "6770e74a35834c5bbc7b1e1fde6d75da",
       "version_major": 2,
       "version_minor": 0
      },
      "text/plain": [
       "Iteration 97 in process:   0%|          | 0/101 [00:00<?, ?it/s]"
      ]
     },
     "metadata": {},
     "output_type": "display_data"
    },
    {
     "data": {
      "application/vnd.jupyter.widget-view+json": {
       "model_id": "29b82d7e2f034c279e0ce84fadd0becc",
       "version_major": 2,
       "version_minor": 0
      },
      "text/plain": [
       "Iteration 98 in process:   0%|          | 0/101 [00:00<?, ?it/s]"
      ]
     },
     "metadata": {},
     "output_type": "display_data"
    },
    {
     "data": {
      "application/vnd.jupyter.widget-view+json": {
       "model_id": "a4eb2b6c6706441b97d9dc2cce8a76c4",
       "version_major": 2,
       "version_minor": 0
      },
      "text/plain": [
       "Iteration 99 in process:   0%|          | 0/101 [00:00<?, ?it/s]"
      ]
     },
     "metadata": {},
     "output_type": "display_data"
    },
    {
     "data": {
      "application/vnd.jupyter.widget-view+json": {
       "model_id": "1006886618cd410081663c4f46fd3433",
       "version_major": 2,
       "version_minor": 0
      },
      "text/plain": [
       "Iteration 100 in process:   0%|          | 0/101 [00:00<?, ?it/s]"
      ]
     },
     "metadata": {},
     "output_type": "display_data"
    }
   ],
   "source": [
    "pbar_outer = tqdm_notebook(total=simulation_configuration.num_epochs, desc=\"Running Simulation\")\n",
    "for epoch in range(simulation_configuration.num_epochs):\n",
    "    SimFunctions.SimFunctionsInit(Calendar)\n",
    "    leukemia_doctor_1_patients = initialize_patients(leukemia_doctor_1_patient_arrival_times, \"leukemia_doctor_1\", Calendar)\n",
    "    leukemia_doctor_2_patients = initialize_patients(leukemia_doctor_2_patient_arrival_times, \"leukemia_doctor_2\", Calendar)\n",
    "    transplant_doctor_1_patients = initialize_patients(transplant_doctor_1_patient_arrival_times, \"transplant_doctor_1\", Calendar)\n",
    "    transplant_doctor_2_patients = initialize_patients(transplant_doctor_2_patient_arrival_times, \"transplant_doctor_2\", Calendar)\n",
    "    transplant_doctor_3_patients = initialize_patients(transplant_doctor_3_patient_arrival_times, \"transplant_doctor_3\", Calendar)\n",
    "    other_patients = initialize_patients(other_patients_arrival_times, \"other\", Calendar)\n",
    "    list_of_patients = [leukemia_doctor_1_patients, leukemia_doctor_2_patients, transplant_doctor_1_patients, transplant_doctor_2_patients, transplant_doctor_3_patients, other_patients]\n",
    "    \n",
    "    pbar_inner = tqdm_notebook(total=Calendar.N(), desc=f\"Iteration {epoch + 1} in process\", leave=False)\n",
    "    while Calendar.N() > 0 and not all_left_department(list_of_patients):\n",
    "        NextEvent = Calendar.Remove()\n",
    "        SimClasses.Clock = NextEvent.EventTime\n",
    "\n",
    "        if NextEvent.EventType == \"q_flow_station_start_of_waiting\":\n",
    "            q_flow_station_queue_length.append(q_flow_station_queue.NumQueue())\n",
    "            q_flow_station_start_of_waiting(NextEvent.WhichObject, SimClasses.Clock)\n",
    "        \n",
    "        elif NextEvent.EventType == \"q_flow_station_service_start\":\n",
    "            q_flow_station_service_start(NextEvent.WhichObject)\n",
    "        \n",
    "        elif NextEvent.EventType == \"q_flow_station_service_end\":\n",
    "            q_flow_station_service_end(NextEvent.WhichObject)\n",
    "        \n",
    "        elif NextEvent.EventType == \"secretary_station_start_of_waiting\":\n",
    "            secretary_station_queue_length.append(secretary_station_queue.NumQueue())\n",
    "            secretary_station_start_of_waiting(NextEvent.WhichObject, SimClasses.Clock)\n",
    "        \n",
    "        elif NextEvent.EventType == \"secretary_station_service_start\":\n",
    "            secretary_station_service_start(NextEvent.WhichObject)\n",
    "        \n",
    "        elif NextEvent.EventType == \"secretary_station_service_end\":\n",
    "            secretary_station_service_end(NextEvent.WhichObject)\n",
    "        \n",
    "        elif NextEvent.EventType == \"nurse_station_1_start_of_waiting\":\n",
    "            nurse_station_1_queue_length.append(nurse_station_1_queue.NumQueue())\n",
    "            nurse_station_1_start_of_waiting(NextEvent.WhichObject, SimClasses.Clock)\n",
    "        \n",
    "        elif NextEvent.EventType == \"nurse_station_1_service_start\":\n",
    "            nurse_station_1_service_start(NextEvent.WhichObject)\n",
    "        \n",
    "        elif NextEvent.EventType == \"nurse_station_1_service_end\":\n",
    "            nurse_station_1_service_end(NextEvent.WhichObject)\n",
    "        \n",
    "        elif NextEvent.EventType == \"nurse_station_2_start_of_waiting\":\n",
    "            nurse_station_2_queue_length.append(nurse_station_2_queue.NumQueue())\n",
    "            nurse_station_2_start_of_waiting(NextEvent.WhichObject, SimClasses.Clock)\n",
    "        \n",
    "        elif NextEvent.EventType == \"nurse_station_2_service_start\":\n",
    "            nurse_station_2_service_start(NextEvent.WhichObject)\n",
    "        \n",
    "        elif NextEvent.EventType == \"nurse_station_2_service_end\":\n",
    "            nurse_station_2_service_end(NextEvent.WhichObject)\n",
    "        \n",
    "        elif NextEvent.EventType == \"nurse_station_3_start_of_waiting\":\n",
    "            nurse_station_3_queue_length.append(nurse_station_3_queue.NumQueue())\n",
    "            nurse_station_3_start_of_waiting(NextEvent.WhichObject, SimClasses.Clock)\n",
    "        \n",
    "        elif NextEvent.EventType == \"nurse_station_3_service_start\":\n",
    "            nurse_station_3_service_start(NextEvent.WhichObject)\n",
    "        \n",
    "        elif NextEvent.EventType == \"nurse_station_3_service_end\":\n",
    "            nurse_station_3_service_end(NextEvent.WhichObject)\n",
    "        \n",
    "        elif NextEvent.EventType == \"nurse_station_4_start_of_waiting\":\n",
    "            nurse_station_4_queue_length.append(nurse_station_4_queue.NumQueue())\n",
    "            nurse_station_4_start_of_waiting(NextEvent.WhichObject, SimClasses.Clock)\n",
    "        \n",
    "        elif NextEvent.EventType == \"nurse_station_4_service_start\":\n",
    "            nurse_station_4_service_start(NextEvent.WhichObject)\n",
    "        \n",
    "        elif NextEvent.EventType == \"nurse_station_4_service_end\":\n",
    "            nurse_station_4_service_end(NextEvent.WhichObject)\n",
    "        \n",
    "        elif NextEvent.EventType == \"nurse_station_5_start_of_waiting\":\n",
    "            nurse_station_5_queue_length.append(nurse_station_5_queue.NumQueue())\n",
    "            nurse_station_5_start_of_waiting(NextEvent.WhichObject, SimClasses.Clock)\n",
    "        \n",
    "        elif NextEvent.EventType == \"nurse_station_5_service_start\":\n",
    "            nurse_station_5_service_start(NextEvent.WhichObject)\n",
    "        \n",
    "        elif NextEvent.EventType == \"nurse_station_5_service_end\":\n",
    "            nurse_station_5_service_end(NextEvent.WhichObject)\n",
    "        \n",
    "        elif NextEvent.EventType == \"nurse_station_6_start_of_waiting\":\n",
    "            nurse_station_6_queue_length.append(nurse_station_6_queue.NumQueue())\n",
    "            nurse_station_6_start_of_waiting(NextEvent.WhichObject, SimClasses.Clock)\n",
    "        \n",
    "        elif NextEvent.EventType == \"nurse_station_6_service_start\":\n",
    "            nurse_station_6_service_start(NextEvent.WhichObject)\n",
    "        \n",
    "        elif NextEvent.EventType == \"nurse_station_6_service_end\":\n",
    "            nurse_station_6_service_end(NextEvent.WhichObject)\n",
    "        \n",
    "        elif NextEvent.EventType == \"leukemia_doctor_1_start_of_waiting\":\n",
    "            leukemia_doctor_1_queue_length.append(leukemia_doctor_1_queue.NumQueue())\n",
    "            leukemia_doctor_1_start_of_waiting(NextEvent.WhichObject, SimClasses.Clock)   \n",
    "\n",
    "        elif NextEvent.EventType == \"leukemia_doctor_1_service_start\":\n",
    "            leukemia_doctor_1_service_start(NextEvent.WhichObject)\n",
    "        \n",
    "        elif NextEvent.EventType == \"leukemia_doctor_1_service_end\":\n",
    "            leukemia_doctor_1_service_end(NextEvent.WhichObject)\n",
    "        \n",
    "        elif NextEvent.EventType == \"leukemia_doctor_2_start_of_waiting\":\n",
    "            leukemia_doctor_2_queue_length.append(leukemia_doctor_2_queue.NumQueue())\n",
    "            leukemia_doctor_2_start_of_waiting(NextEvent.WhichObject, SimClasses.Clock)\n",
    "        \n",
    "        elif NextEvent.EventType == \"leukemia_doctor_2_service_start\":\n",
    "            leukemia_doctor_2_service_start(NextEvent.WhichObject)\n",
    "        \n",
    "        elif NextEvent.EventType == \"leukemia_doctor_2_service_end\":\n",
    "            leukemia_doctor_2_service_end(NextEvent.WhichObject)\n",
    "        \n",
    "        elif NextEvent.EventType == \"transplant_doctor_1_start_of_waiting\":\n",
    "            transplant_doctor_1_queue_length.append(transplant_doctor_1_queue.NumQueue())\n",
    "            transplant_doctor_1_start_of_waiting(NextEvent.WhichObject, SimClasses.Clock)\n",
    "        \n",
    "        elif NextEvent.EventType == \"transplant_doctor_1_service_start\":\n",
    "            transplant_doctor_1_service_start(NextEvent.WhichObject)\n",
    "        \n",
    "        elif NextEvent.EventType == \"transplant_doctor_1_service_end\":\n",
    "            transplant_doctor_1_service_end(NextEvent.WhichObject)\n",
    "        \n",
    "        elif NextEvent.EventType == \"transplant_doctor_2_start_of_waiting\":\n",
    "            transplant_doctor_2_queue_length.append(transplant_doctor_2_queue.NumQueue())\n",
    "            transplant_doctor_2_start_of_waiting(NextEvent.WhichObject, SimClasses.Clock)\n",
    "        \n",
    "        elif NextEvent.EventType == \"transplant_doctor_2_service_start\":\n",
    "            transplant_doctor_2_service_start(NextEvent.WhichObject)\n",
    "        \n",
    "        elif NextEvent.EventType == \"transplant_doctor_2_service_end\":\n",
    "            transplant_doctor_2_service_end(NextEvent.WhichObject)\n",
    "        \n",
    "        elif NextEvent.EventType == \"transplant_doctor_3_start_of_waiting\":\n",
    "            transplant_doctor_3_queue_length.append(transplant_doctor_3_queue.NumQueue())\n",
    "            transplant_doctor_3_start_of_waiting(NextEvent.WhichObject, SimClasses.Clock)\n",
    "        \n",
    "        elif NextEvent.EventType == \"transplant_doctor_3_service_start\":\n",
    "            transplant_doctor_3_service_start(NextEvent.WhichObject)\n",
    "        \n",
    "        elif NextEvent.EventType == \"transplant_doctor_3_service_end\":\n",
    "            transplant_doctor_3_service_end(NextEvent.WhichObject)\n",
    "        \n",
    "        elif NextEvent.EventType == \"process_complete\" or NextEvent.EventType == \"other_start_of_waiting\":\n",
    "            #here the process ends for the other patients\n",
    "            process_complete(NextEvent.WhichObject, SimClasses.Clock)\n",
    "        else:\n",
    "            logging.info(NextEvent.EventType)\n",
    "            logging.error(\"Unknown event type\")\n",
    "            raise ValueError(f\"Unknown event type: {NextEvent.EventType}\")\n",
    "\n",
    "        pbar_inner.update(1)\n",
    "    pbar_inner.close()\n",
    "\n",
    "    #storing statistics from all DTStat objects\n",
    "    q_flow_station_wait_time_avg.append(q_flow_station_wait_time.Mean())\n",
    "    secretary_station_wait_time_avg.append(secretary_station_wait_time.Mean())\n",
    "    nurse_station_1_wait_time_avg.append(nurse_station_1_wait_time.Mean())\n",
    "    nurse_station_2_wait_time_avg.append(nurse_station_2_wait_time.Mean())\n",
    "    nurse_station_3_wait_time_avg.append(nurse_station_3_wait_time.Mean())\n",
    "    nurse_station_4_wait_time_avg.append(nurse_station_4_wait_time.Mean())\n",
    "    nurse_station_5_wait_time_avg.append(nurse_station_5_wait_time.Mean())\n",
    "    nurse_station_6_wait_time_avg.append(nurse_station_6_wait_time.Mean())\n",
    "    leukemia_doctor_1_wait_time_avg.append(leukemia_doctor_1_wait_time.Mean())\n",
    "    leukemia_doctor_2_wait_time_avg.append(leukemia_doctor_2_wait_time.Mean())\n",
    "    transplant_doctor_1_wait_time_avg.append(transplant_doctor_1_wait_time.Mean())\n",
    "    transplant_doctor_2_wait_time_avg.append(transplant_doctor_2_wait_time.Mean())\n",
    "    transplant_doctor_3_wait_time_avg.append(transplant_doctor_3_wait_time.Mean())\n",
    "\n",
    "    leukemia_doctor_1_complex_patients_total_processing_time_avg.append(leukemia_doctor_1_complex_patients_total_processing_time.Mean())\n",
    "    leukemia_doctor_1_regular_patients_total_processing_time_avg.append(leukemia_doctor_1_regular_patients_total_processing_time.Mean())\n",
    "    leukemia_doctor_2_complex_patients_total_processing_time_avg.append(leukemia_doctor_2_complex_patients_total_processing_time.Mean())\n",
    "    leukemia_doctor_2_regular_patients_total_processing_time_avg.append(leukemia_doctor_2_regular_patients_total_processing_time.Mean())\n",
    "    transplant_doctor_1_complex_patients_total_processing_time_avg.append(transplant_doctor_1_complex_patients_total_processing_time.Mean())\n",
    "    transplant_doctor_1_regular_patients_total_processing_time_avg.append(transplant_doctor_1_regular_patients_total_processing_time.Mean())\n",
    "    transplant_doctor_2_complex_patients_total_processing_time_avg.append(transplant_doctor_2_complex_patients_total_processing_time.Mean())\n",
    "    transplant_doctor_2_regular_patients_total_processing_time_avg.append(transplant_doctor_2_regular_patients_total_processing_time.Mean())\n",
    "    transplant_doctor_3_complex_patients_total_processing_time_avg.append(transplant_doctor_3_complex_patients_total_processing_time.Mean())\n",
    "    transplant_doctor_3_regular_patients_total_processing_time_avg.append(transplant_doctor_3_regular_patients_total_processing_time.Mean())\n",
    "    other_patients_total_processing_time_avg.append(other_patients_total_processing_time.Mean())\n",
    "\n",
    "    q_flow_station_queue_length_avg.append(q_flow_station_queue.Mean())\n",
    "    secretary_station_queue_length_avg.append(secretary_station_queue.Mean())\n",
    "    nurse_station_1_queue_length_avg.append(nurse_station_1_queue.Mean())\n",
    "    nurse_station_2_queue_length_avg.append(nurse_station_2_queue.Mean())\n",
    "    nurse_station_3_queue_length_avg.append(nurse_station_3_queue.Mean())\n",
    "    nurse_station_4_queue_length_avg.append(nurse_station_4_queue.Mean())\n",
    "    nurse_station_5_queue_length_avg.append(nurse_station_5_queue.Mean())\n",
    "    nurse_station_6_queue_length_avg.append(nurse_station_6_queue.Mean())\n",
    "    leukemia_doctor_1_queue_length_avg.append(leukemia_doctor_1_queue.Mean())\n",
    "    leukemia_doctor_2_queue_length_avg.append(leukemia_doctor_2_queue.Mean())\n",
    "    transplant_doctor_1_queue_length_avg.append(transplant_doctor_1_queue.Mean())\n",
    "    transplant_doctor_2_queue_length_avg.append(transplant_doctor_2_queue.Mean())\n",
    "    transplant_doctor_3_queue_length_avg.append(transplant_doctor_3_queue.Mean())\n",
    "\n",
    "    q_flow_station_busy_avg.append(q_flow_station.Mean())\n",
    "    secretary_station_busy_avg.append(secretary_station.Mean())\n",
    "    nurse_station_1_busy_avg.append(nurse_station_1.Mean())\n",
    "    nurse_station_2_busy_avg.append(nurse_station_2.Mean())\n",
    "    nurse_station_3_busy_avg.append(nurse_station_3.Mean())\n",
    "    nurse_station_4_busy_avg.append(nurse_station_4.Mean())\n",
    "    nurse_station_5_busy_avg.append(nurse_station_5.Mean())\n",
    "    nurse_station_6_busy_avg.append(nurse_station_6.Mean())\n",
    "    leukemia_doctor_1_busy_avg.append(leukemia_doctor_1.Mean())\n",
    "    leukemia_doctor_2_busy_avg.append(leukemia_doctor_2.Mean())\n",
    "    transplant_doctor_1_busy_avg.append(transplant_doctor_1.Mean())\n",
    "    transplant_doctor_2_busy_avg.append(transplant_doctor_2.Mean())\n",
    "    transplant_doctor_3_busy_avg.append(transplant_doctor_3.Mean())\n",
    "\n",
    "    pbar_outer.set_description(f\"Running Simulation - {epoch+1}/{simulation_configuration.num_epochs}\")\n",
    "    if epoch == 0 and all_left_department(list_of_patients):\n",
    "        for patient in leukemia_doctor_1_patients:\n",
    "            patient.print_schedule()\n",
    "        for patient in leukemia_doctor_2_patients:\n",
    "            patient.print_schedule()\n",
    "        for patient in transplant_doctor_1_patients:\n",
    "            patient.print_schedule()\n",
    "        for patient in transplant_doctor_2_patients:\n",
    "            patient.print_schedule()\n",
    "        for patient in transplant_doctor_3_patients:\n",
    "            patient.print_schedule()\n",
    "        for patient in other_patients:\n",
    "            patient.print_schedule()\n",
    "    pbar_outer.update(1)\n",
    "\n",
    "pbar_outer.close()\n",
    "logging.info(\"Simulation completed\")"
   ]
  },
  {
   "cell_type": "code",
   "execution_count": 27,
   "id": "8aa521aeb4628c98",
   "metadata": {
    "ExecuteTime": {
     "end_time": "2024-03-30T23:31:46.696219Z",
     "start_time": "2024-03-30T23:31:46.637969Z"
    },
    "collapsed": false
   },
   "outputs": [
    {
     "name": "stdout",
     "output_type": "stream",
     "text": [
      "Simulation Results Saved to results_directory/simulation_multi_queue/results_df.csv\n",
      "**********************************************************************************\n",
      "Means of the simulation results:\n",
      "q_flow_station_wait_time_avg                                        0.404082\n",
      "q_flow_station_queue_length_avg                                     0.055771\n",
      "q_flow_station_busy_avg                                             0.136029\n",
      "secretary_station_wait_time_avg                                     1.832559\n",
      "secretary_station_queue_length_avg                                  0.252776\n",
      "secretary_station_busy_avg                                          0.553489\n",
      "nurse_station_1_wait_time_avg                                      89.410478\n",
      "nurse_station_1_queue_length_avg                                    2.154186\n",
      "nurse_station_1_busy_avg                                            0.553090\n",
      "nurse_station_2_wait_time_avg                                      32.154190\n",
      "nurse_station_2_queue_length_avg                                    0.582913\n",
      "nurse_station_2_busy_avg                                            0.374324\n",
      "nurse_station_3_wait_time_avg                                      15.837445\n",
      "nurse_station_3_queue_length_avg                                    0.191859\n",
      "nurse_station_3_busy_avg                                            0.233417\n",
      "nurse_station_4_wait_time_avg                                     121.495281\n",
      "nurse_station_4_queue_length_avg                                    3.726289\n",
      "nurse_station_4_busy_avg                                            0.682491\n",
      "nurse_station_5_wait_time_avg                                     104.775507\n",
      "nurse_station_5_queue_length_avg                                    2.811898\n",
      "nurse_station_5_busy_avg                                            0.636930\n",
      "nurse_station_6_wait_time_avg                                      20.174311\n",
      "nurse_station_6_queue_length_avg                                    0.321315\n",
      "nurse_station_6_busy_avg                                            0.297226\n",
      "leukemia_doctor_1_wait_time_avg                                    44.579621\n",
      "leukemia_doctor_1_queue_length_avg                                  0.841010\n",
      "leukemia_doctor_1_busy_avg                                          0.563386\n",
      "leukemia_doctor_2_wait_time_avg                                    23.982449\n",
      "leukemia_doctor_2_queue_length_avg                                  0.330975\n",
      "leukemia_doctor_2_busy_avg                                          0.331972\n",
      "transplant_doctor_1_wait_time_avg                                  22.551957\n",
      "transplant_doctor_1_queue_length_avg                                0.400692\n",
      "transplant_doctor_1_busy_avg                                        0.393613\n",
      "transplant_doctor_2_wait_time_avg                                  40.228167\n",
      "transplant_doctor_2_queue_length_avg                                0.890664\n",
      "transplant_doctor_2_busy_avg                                        0.565007\n",
      "transplant_doctor_3_wait_time_avg                                  25.684225\n",
      "transplant_doctor_3_queue_length_avg                                0.593842\n",
      "transplant_doctor_3_busy_avg                                        0.502644\n",
      "other_patients_total_processing_time_avg                           88.175393\n",
      "leukemia_doctor_1_complex_patients_total_processing_time_avg      194.264988\n",
      "leukemia_doctor_1_regular_patients_total_processing_time_avg      172.290158\n",
      "leukemia_doctor_2_complex_patients_total_processing_time_avg      134.156040\n",
      "leukemia_doctor_2_regular_patients_total_processing_time_avg      135.275393\n",
      "transplant_doctor_1_complex_patients_total_processing_time_avg    129.116593\n",
      "transplant_doctor_1_regular_patients_total_processing_time_avg    142.735338\n",
      "transplant_doctor_2_complex_patients_total_processing_time_avg    189.946894\n",
      "transplant_doctor_2_regular_patients_total_processing_time_avg    175.345514\n",
      "transplant_doctor_3_complex_patients_total_processing_time_avg    137.212103\n",
      "transplant_doctor_3_regular_patients_total_processing_time_avg    159.576058\n",
      "dtype: float64\n",
      "**********************************************************************************\n",
      "99% Confidence Intervals Half-Width\n",
      "q_flow_station_wait_time_avg                                       0.047614\n",
      "q_flow_station_queue_length_avg                                    0.007135\n",
      "q_flow_station_busy_avg                                            0.006535\n",
      "secretary_station_wait_time_avg                                    0.312108\n",
      "secretary_station_queue_length_avg                                 0.044112\n",
      "secretary_station_busy_avg                                         0.025791\n",
      "nurse_station_1_wait_time_avg                                     17.635780\n",
      "nurse_station_1_queue_length_avg                                   0.453762\n",
      "nurse_station_1_busy_avg                                           0.048122\n",
      "nurse_station_2_wait_time_avg                                      8.266014\n",
      "nurse_station_2_queue_length_avg                                   0.164910\n",
      "nurse_station_2_busy_avg                                           0.041712\n",
      "nurse_station_3_wait_time_avg                                      5.356727\n",
      "nurse_station_3_queue_length_avg                                   0.077989\n",
      "nurse_station_3_busy_avg                                           0.032960\n",
      "nurse_station_4_wait_time_avg                                     19.941646\n",
      "nurse_station_4_queue_length_avg                                   0.618487\n",
      "nurse_station_4_busy_avg                                           0.044349\n",
      "nurse_station_5_wait_time_avg                                     18.368946\n",
      "nurse_station_5_queue_length_avg                                   0.457213\n",
      "nurse_station_5_busy_avg                                           0.039855\n",
      "nurse_station_6_wait_time_avg                                      6.687728\n",
      "nurse_station_6_queue_length_avg                                   0.130458\n",
      "nurse_station_6_busy_avg                                           0.037494\n",
      "leukemia_doctor_1_wait_time_avg                                   10.754608\n",
      "leukemia_doctor_1_queue_length_avg                                 0.195406\n",
      "leukemia_doctor_1_busy_avg                                         0.045827\n",
      "leukemia_doctor_2_wait_time_avg                                    6.403648\n",
      "leukemia_doctor_2_queue_length_avg                                 0.090968\n",
      "leukemia_doctor_2_busy_avg                                         0.032437\n",
      "transplant_doctor_1_wait_time_avg                                  6.478074\n",
      "transplant_doctor_1_queue_length_avg                               0.113420\n",
      "transplant_doctor_1_busy_avg                                       0.036364\n",
      "transplant_doctor_2_wait_time_avg                                 10.316945\n",
      "transplant_doctor_2_queue_length_avg                               0.210883\n",
      "transplant_doctor_2_busy_avg                                       0.039046\n",
      "transplant_doctor_3_wait_time_avg                                  6.603834\n",
      "transplant_doctor_3_queue_length_avg                               0.152190\n",
      "transplant_doctor_3_busy_avg                                       0.031925\n",
      "other_patients_total_processing_time_avg                           7.381577\n",
      "leukemia_doctor_1_complex_patients_total_processing_time_avg      16.344389\n",
      "leukemia_doctor_1_regular_patients_total_processing_time_avg      17.517271\n",
      "leukemia_doctor_2_complex_patients_total_processing_time_avg      24.053227\n",
      "leukemia_doctor_2_regular_patients_total_processing_time_avg      11.921891\n",
      "transplant_doctor_1_complex_patients_total_processing_time_avg    31.310146\n",
      "transplant_doctor_1_regular_patients_total_processing_time_avg    13.033809\n",
      "transplant_doctor_2_complex_patients_total_processing_time_avg    21.004431\n",
      "transplant_doctor_2_regular_patients_total_processing_time_avg    14.840969\n",
      "transplant_doctor_3_complex_patients_total_processing_time_avg    34.036795\n",
      "transplant_doctor_3_regular_patients_total_processing_time_avg    11.075599\n",
      "dtype: float64\n",
      "**********************************************************************************\n",
      "Error:\n",
      "q_flow_station_wait_time_avg                                      0.117832\n",
      "q_flow_station_queue_length_avg                                   0.127938\n",
      "q_flow_station_busy_avg                                           0.048038\n",
      "secretary_station_wait_time_avg                                   0.170313\n",
      "secretary_station_queue_length_avg                                0.174509\n",
      "secretary_station_busy_avg                                        0.046597\n",
      "nurse_station_1_wait_time_avg                                     0.197245\n",
      "nurse_station_1_queue_length_avg                                  0.210642\n",
      "nurse_station_1_busy_avg                                          0.087006\n",
      "nurse_station_2_wait_time_avg                                     0.257074\n",
      "nurse_station_2_queue_length_avg                                  0.282907\n",
      "nurse_station_2_busy_avg                                          0.111433\n",
      "nurse_station_3_wait_time_avg                                     0.338232\n",
      "nurse_station_3_queue_length_avg                                  0.406491\n",
      "nurse_station_3_busy_avg                                          0.141207\n",
      "nurse_station_4_wait_time_avg                                     0.164135\n",
      "nurse_station_4_queue_length_avg                                  0.165979\n",
      "nurse_station_4_busy_avg                                          0.064981\n",
      "nurse_station_5_wait_time_avg                                     0.175317\n",
      "nurse_station_5_queue_length_avg                                  0.162599\n",
      "nurse_station_5_busy_avg                                          0.062574\n",
      "nurse_station_6_wait_time_avg                                     0.331497\n",
      "nurse_station_6_queue_length_avg                                  0.406014\n",
      "nurse_station_6_busy_avg                                          0.126147\n",
      "leukemia_doctor_1_wait_time_avg                                   0.241245\n",
      "leukemia_doctor_1_queue_length_avg                                0.232347\n",
      "leukemia_doctor_1_busy_avg                                        0.081343\n",
      "leukemia_doctor_2_wait_time_avg                                   0.267014\n",
      "leukemia_doctor_2_queue_length_avg                                0.274849\n",
      "leukemia_doctor_2_busy_avg                                        0.097710\n",
      "transplant_doctor_1_wait_time_avg                                 0.287251\n",
      "transplant_doctor_1_queue_length_avg                              0.283060\n",
      "transplant_doctor_1_busy_avg                                      0.092384\n",
      "transplant_doctor_2_wait_time_avg                                 0.256461\n",
      "transplant_doctor_2_queue_length_avg                              0.236770\n",
      "transplant_doctor_2_busy_avg                                      0.069106\n",
      "transplant_doctor_3_wait_time_avg                                 0.257116\n",
      "transplant_doctor_3_queue_length_avg                              0.256281\n",
      "transplant_doctor_3_busy_avg                                      0.063514\n",
      "other_patients_total_processing_time_avg                          0.083715\n",
      "leukemia_doctor_1_complex_patients_total_processing_time_avg      0.084135\n",
      "leukemia_doctor_1_regular_patients_total_processing_time_avg      0.101673\n",
      "leukemia_doctor_2_complex_patients_total_processing_time_avg      0.179293\n",
      "leukemia_doctor_2_regular_patients_total_processing_time_avg      0.088131\n",
      "transplant_doctor_1_complex_patients_total_processing_time_avg    0.242495\n",
      "transplant_doctor_1_regular_patients_total_processing_time_avg    0.091315\n",
      "transplant_doctor_2_complex_patients_total_processing_time_avg    0.110581\n",
      "transplant_doctor_2_regular_patients_total_processing_time_avg    0.084638\n",
      "transplant_doctor_3_complex_patients_total_processing_time_avg    0.248060\n",
      "transplant_doctor_3_regular_patients_total_processing_time_avg    0.069406\n",
      "dtype: float64\n",
      "**********************************************************************************\n",
      "Number of epochs required for 99% confidence, half-width 5 minutes for all measures:\n",
      "37.562223723252494\n",
      "Number of epochs required for 99% confidence, half-width 10 minutes for all measures:\n",
      "11.585034308112371\n"
     ]
    }
   ],
   "source": [
    "logging.info(\"Saving Simulation Results\")\n",
    "results_df = pd.DataFrame({\n",
    "    \"q_flow_station_wait_time_avg\": q_flow_station_wait_time_avg,\n",
    "    \"q_flow_station_queue_length_avg\": q_flow_station_queue_length_avg,\n",
    "    \"q_flow_station_busy_avg\": q_flow_station_busy_avg,\n",
    "    \"secretary_station_wait_time_avg\": secretary_station_wait_time_avg,\n",
    "    \"secretary_station_queue_length_avg\": secretary_station_queue_length_avg,\n",
    "    \"secretary_station_busy_avg\": secretary_station_busy_avg,\n",
    "    \"nurse_station_1_wait_time_avg\": nurse_station_1_wait_time_avg,\n",
    "    \"nurse_station_1_queue_length_avg\": nurse_station_1_queue_length_avg,\n",
    "    \"nurse_station_1_busy_avg\": nurse_station_1_busy_avg,\n",
    "    \"nurse_station_2_wait_time_avg\": nurse_station_2_wait_time_avg,\n",
    "    \"nurse_station_2_queue_length_avg\": nurse_station_2_queue_length_avg,\n",
    "    \"nurse_station_2_busy_avg\": nurse_station_2_busy_avg,\n",
    "    \"nurse_station_3_wait_time_avg\": nurse_station_3_wait_time_avg,\n",
    "    \"nurse_station_3_queue_length_avg\": nurse_station_3_queue_length_avg,\n",
    "    \"nurse_station_3_busy_avg\": nurse_station_3_busy_avg,\n",
    "    \"nurse_station_4_wait_time_avg\": nurse_station_4_wait_time_avg,\n",
    "    \"nurse_station_4_queue_length_avg\": nurse_station_4_queue_length_avg,\n",
    "    \"nurse_station_4_busy_avg\": nurse_station_4_busy_avg,\n",
    "    \"nurse_station_5_wait_time_avg\": nurse_station_5_wait_time_avg,\n",
    "    \"nurse_station_5_queue_length_avg\": nurse_station_5_queue_length_avg,\n",
    "    \"nurse_station_5_busy_avg\": nurse_station_5_busy_avg,\n",
    "    \"nurse_station_6_wait_time_avg\": nurse_station_6_wait_time_avg,\n",
    "    \"nurse_station_6_queue_length_avg\": nurse_station_6_queue_length_avg,\n",
    "    \"nurse_station_6_busy_avg\": nurse_station_6_busy_avg,\n",
    "    \"leukemia_doctor_1_wait_time_avg\": leukemia_doctor_1_wait_time_avg,\n",
    "    \"leukemia_doctor_1_queue_length_avg\": leukemia_doctor_1_queue_length_avg,\n",
    "    \"leukemia_doctor_1_busy_avg\": leukemia_doctor_1_busy_avg,\n",
    "    \"leukemia_doctor_2_wait_time_avg\": leukemia_doctor_2_wait_time_avg,\n",
    "    \"leukemia_doctor_2_queue_length_avg\": leukemia_doctor_2_queue_length_avg,\n",
    "    \"leukemia_doctor_2_busy_avg\": leukemia_doctor_2_busy_avg,\n",
    "    \"transplant_doctor_1_wait_time_avg\": transplant_doctor_1_wait_time_avg,\n",
    "    \"transplant_doctor_1_queue_length_avg\": transplant_doctor_1_queue_length_avg,\n",
    "    \"transplant_doctor_1_busy_avg\": transplant_doctor_1_busy_avg,\n",
    "    \"transplant_doctor_2_wait_time_avg\": transplant_doctor_2_wait_time_avg,\n",
    "    \"transplant_doctor_2_queue_length_avg\": transplant_doctor_2_queue_length_avg,\n",
    "    \"transplant_doctor_2_busy_avg\": transplant_doctor_2_busy_avg,\n",
    "    \"transplant_doctor_3_wait_time_avg\": transplant_doctor_3_wait_time_avg,\n",
    "    \"transplant_doctor_3_queue_length_avg\": transplant_doctor_3_queue_length_avg,\n",
    "    \"transplant_doctor_3_busy_avg\": transplant_doctor_3_busy_avg,\n",
    "    \"other_patients_total_processing_time_avg\": other_patients_total_processing_time_avg,\n",
    "    \"leukemia_doctor_1_complex_patients_total_processing_time_avg\": leukemia_doctor_1_complex_patients_total_processing_time_avg,\n",
    "    \"leukemia_doctor_1_regular_patients_total_processing_time_avg\": leukemia_doctor_1_regular_patients_total_processing_time_avg,\n",
    "    \"leukemia_doctor_2_complex_patients_total_processing_time_avg\": leukemia_doctor_2_complex_patients_total_processing_time_avg,\n",
    "    \"leukemia_doctor_2_regular_patients_total_processing_time_avg\": leukemia_doctor_2_regular_patients_total_processing_time_avg,\n",
    "    \"transplant_doctor_1_complex_patients_total_processing_time_avg\": transplant_doctor_1_complex_patients_total_processing_time_avg,\n",
    "    \"transplant_doctor_1_regular_patients_total_processing_time_avg\": transplant_doctor_1_regular_patients_total_processing_time_avg,\n",
    "    \"transplant_doctor_2_complex_patients_total_processing_time_avg\": transplant_doctor_2_complex_patients_total_processing_time_avg,\n",
    "    \"transplant_doctor_2_regular_patients_total_processing_time_avg\": transplant_doctor_2_regular_patients_total_processing_time_avg,\n",
    "    \"transplant_doctor_3_complex_patients_total_processing_time_avg\": transplant_doctor_3_complex_patients_total_processing_time_avg,\n",
    "    \"transplant_doctor_3_regular_patients_total_processing_time_avg\": transplant_doctor_3_regular_patients_total_processing_time_avg,\n",
    "    })\n",
    "os.makedirs(\"results_directory/simulation_multi_queue\", exist_ok=True)\n",
    "results_df.to_csv(f\"results_directory/simulation_multi_queue/results_df.csv\")\n",
    "print(f\"Simulation Results Saved to results_directory/simulation_multi_queue/results_df.csv\")\n",
    "print(\"**********************************************************************************\")\n",
    "print(\"Means of the simulation results:\")\n",
    "print(results_df.mean())\n",
    "print(\"**********************************************************************************\")\n",
    "print(\"99% Confidence Intervals Half-Width\")\n",
    "CI= scs.t.ppf(1-0.01/2, len(results_df)-1)*np.sqrt(results_df.var()/len(results_df))\n",
    "print(CI)\n",
    "print(\"**********************************************************************************\")\n",
    "print(\"Error:\")\n",
    "print(CI/results_df.mean())\n",
    "print(\"**********************************************************************************\")\n",
    "print(\"Number of epochs required for 99% confidence, half-width 5 minutes for all measures:\")\n",
    "print(max((scs.t.ppf(1-0.01, len(results_df)-1)*np.sqrt(results_df.var()/len(results_df))/5)**2))\n",
    "print(\"Number of epochs required for 99% confidence, half-width 10 minutes for all measures:\")\n",
    "print(max((scs.t.ppf(1-0.01/2, len(results_df)-1)*np.sqrt(results_df.var()/len(results_df))/10)**2))"
   ]
  }
 ],
 "metadata": {
  "kernelspec": {
   "display_name": "finance",
   "language": "python",
   "name": "python3"
  },
  "language_info": {
   "codemirror_mode": {
    "name": "ipython",
    "version": 3
   },
   "file_extension": ".py",
   "mimetype": "text/x-python",
   "name": "python",
   "nbconvert_exporter": "python",
   "pygments_lexer": "ipython3",
   "version": "3.11.9"
  }
 },
 "nbformat": 4,
 "nbformat_minor": 5
}
