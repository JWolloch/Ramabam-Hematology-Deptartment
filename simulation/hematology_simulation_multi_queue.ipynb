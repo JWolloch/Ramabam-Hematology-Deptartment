{
 "cells": [
  {
   "cell_type": "code",
   "execution_count": 1,
   "id": "2a3088c3",
   "metadata": {},
   "outputs": [],
   "source": [
    "import sys\n",
    "import os\n",
    "\n",
    "# Add the project root (RAMBAM-HEMATOLOGY-DEPARTMENT) to sys.path\n",
    "project_root = os.path.abspath(\"..\")\n",
    "if project_root not in sys.path:\n",
    "    sys.path.insert(0, project_root)\n"
   ]
  },
  {
   "cell_type": "code",
   "execution_count": 2,
   "id": "initial_id",
   "metadata": {
    "ExecuteTime": {
     "end_time": "2024-03-30T22:39:46.869324Z",
     "start_time": "2024-03-30T22:39:46.857349Z"
    },
    "collapsed": true
   },
   "outputs": [],
   "source": [
    "from simulation.python_sim import SimFunctions, SimClasses\n",
    "from simulation.model_parameters import ModelParameters\n",
    "from simulation.simulation_configuration import SimulationConfiguration\n",
    "\n",
    "from patients.patient import Patient\n",
    "from patients.leukemia_patient import LeukemiaPatient\n",
    "from patients.transplant_patient import TransplantPatient\n",
    "from patients.other_patient import OtherPatient\n",
    "\n",
    "from simulation.utils import assign_nurse_station, all_left_department\n",
    "\n",
    "import pandas as pd\n",
    "import numpy as np\n",
    "import scipy.stats as scs\n",
    "\n",
    "from tqdm.notebook import tqdm_notebook\n",
    "import logging"
   ]
  },
  {
   "cell_type": "code",
   "execution_count": 3,
   "id": "ee255d1c6fbe9afc",
   "metadata": {
    "ExecuteTime": {
     "end_time": "2024-03-30T22:39:52.590478Z",
     "start_time": "2024-03-30T22:39:52.563643Z"
    },
    "collapsed": false
   },
   "outputs": [],
   "source": [
    "# Initializing event calendar\n",
    "Calendar = SimClasses.EventCalendar()"
   ]
  },
  {
   "cell_type": "code",
   "execution_count": 4,
   "id": "90259564655a2b4f",
   "metadata": {
    "ExecuteTime": {
     "end_time": "2024-03-30T22:39:52.860685Z",
     "start_time": "2024-03-30T22:39:52.847029Z"
    },
    "collapsed": false
   },
   "outputs": [],
   "source": [
    "model_parameters = ModelParameters()\n",
    "simulation_configuration = SimulationConfiguration()"
   ]
  },
  {
   "cell_type": "code",
   "execution_count": 5,
   "id": "7cbbfb00685ab1de",
   "metadata": {
    "ExecuteTime": {
     "end_time": "2024-03-30T22:39:54.848587Z",
     "start_time": "2024-03-30T22:39:54.834817Z"
    },
    "collapsed": false
   },
   "outputs": [],
   "source": [
    "q_flow_station = SimClasses.Resource()\n",
    "q_flow_station.SetUnits(1)\n",
    "q_flow_station_queue = SimClasses.FIFOQueue()\n",
    "\n",
    "secretary_station = SimClasses.Resource()\n",
    "secretary_station.SetUnits(2)\n",
    "\n",
    "secretary_station_queue = SimClasses.FIFOQueue()\n",
    "\n",
    "nurse_station_1 = SimClasses.Resource()\n",
    "nurse_station_1.SetUnits(1)\n",
    "nurse_station_2 = SimClasses.Resource()\n",
    "nurse_station_2.SetUnits(1)\n",
    "nurse_station_3 = SimClasses.Resource()\n",
    "nurse_station_3.SetUnits(1)\n",
    "nurse_station_4 = SimClasses.Resource()\n",
    "nurse_station_4.SetUnits(1)\n",
    "nurse_station_5 = SimClasses.Resource()\n",
    "nurse_station_5.SetUnits(1)\n",
    "nurse_station_6 = SimClasses.Resource()\n",
    "nurse_station_6.SetUnits(1)\n",
    "\n",
    "nurse_station_1_queue = SimClasses.FIFOQueue()\n",
    "nurse_station_2_queue = SimClasses.FIFOQueue()\n",
    "nurse_station_3_queue = SimClasses.FIFOQueue()\n",
    "nurse_station_4_queue = SimClasses.FIFOQueue()\n",
    "nurse_station_5_queue = SimClasses.FIFOQueue()\n",
    "nurse_station_6_queue = SimClasses.FIFOQueue()\n",
    "\n",
    "leukemia_doctor_1 = SimClasses.Resource()\n",
    "leukemia_doctor_1.SetUnits(1)\n",
    "leukemia_doctor_2 = SimClasses.Resource()\n",
    "leukemia_doctor_2.SetUnits(1)\n",
    "transplant_doctor_1 = SimClasses.Resource()\n",
    "transplant_doctor_1.SetUnits(1)\n",
    "transplant_doctor_2 = SimClasses.Resource()\n",
    "transplant_doctor_2.SetUnits(1)\n",
    "transplant_doctor_3 = SimClasses.Resource()\n",
    "transplant_doctor_3.SetUnits(1)\n",
    "\n",
    "leukemia_doctor_1_queue = SimClasses.FIFOQueue()\n",
    "leukemia_doctor_2_queue = SimClasses.FIFOQueue()\n",
    "transplant_doctor_1_queue = SimClasses.FIFOQueue()\n",
    "transplant_doctor_2_queue = SimClasses.FIFOQueue()\n",
    "transplant_doctor_3_queue = SimClasses.FIFOQueue()"
   ]
  },
  {
   "cell_type": "code",
   "execution_count": 6,
   "id": "cb34f0222dc10319",
   "metadata": {
    "ExecuteTime": {
     "end_time": "2024-03-30T22:39:56.592599Z",
     "start_time": "2024-03-30T22:39:56.578465Z"
    },
    "collapsed": false
   },
   "outputs": [],
   "source": [
    "q_flow_station_wait_time = SimClasses.DTStat()\n",
    "\n",
    "secretary_station_wait_time = SimClasses.DTStat()\n",
    "\n",
    "nurse_station_1_wait_time = SimClasses.DTStat()\n",
    "nurse_station_2_wait_time = SimClasses.DTStat()\n",
    "nurse_station_3_wait_time = SimClasses.DTStat()\n",
    "nurse_station_4_wait_time = SimClasses.DTStat()\n",
    "nurse_station_5_wait_time = SimClasses.DTStat()\n",
    "nurse_station_6_wait_time = SimClasses.DTStat()\n",
    "\n",
    "leukemia_doctor_1_wait_time = SimClasses.DTStat()\n",
    "leukemia_doctor_2_wait_time = SimClasses.DTStat()\n",
    "\n",
    "transplant_doctor_1_wait_time = SimClasses.DTStat()\n",
    "transplant_doctor_2_wait_time = SimClasses.DTStat()\n",
    "transplant_doctor_3_wait_time = SimClasses.DTStat()"
   ]
  },
  {
   "cell_type": "code",
   "execution_count": 7,
   "id": "2e02c7ae",
   "metadata": {},
   "outputs": [],
   "source": [
    "leukemia_doctor_1_complex_patients_total_processing_time = SimClasses.DTStat()\n",
    "leukemia_doctor_1_regular_patients_total_processing_time = SimClasses.DTStat()\n",
    "leukemia_doctor_2_complex_patients_total_processing_time = SimClasses.DTStat()\n",
    "leukemia_doctor_2_regular_patients_total_processing_time = SimClasses.DTStat()\n",
    "transplant_doctor_1_complex_patients_total_processing_time = SimClasses.DTStat()\n",
    "transplant_doctor_1_regular_patients_total_processing_time = SimClasses.DTStat()\n",
    "transplant_doctor_2_complex_patients_total_processing_time = SimClasses.DTStat()\n",
    "transplant_doctor_2_regular_patients_total_processing_time = SimClasses.DTStat()\n",
    "transplant_doctor_3_complex_patients_total_processing_time = SimClasses.DTStat()\n",
    "transplant_doctor_3_regular_patients_total_processing_time = SimClasses.DTStat()\n",
    "other_patients_total_processing_time = SimClasses.DTStat()"
   ]
  },
  {
   "cell_type": "code",
   "execution_count": 8,
   "id": "52c077a50b3aa22c",
   "metadata": {
    "ExecuteTime": {
     "end_time": "2024-03-30T22:39:57.733096Z",
     "start_time": "2024-03-30T22:39:57.719922Z"
    },
    "collapsed": false
   },
   "outputs": [],
   "source": [
    "q_flow_station_wait_time_avg = []\n",
    "\n",
    "secretary_station_wait_time_avg = []\n",
    "\n",
    "nurse_station_1_wait_time_avg = []\n",
    "nurse_station_2_wait_time_avg = []\n",
    "nurse_station_3_wait_time_avg = []\n",
    "nurse_station_4_wait_time_avg = []\n",
    "nurse_station_5_wait_time_avg = []\n",
    "nurse_station_6_wait_time_avg = []\n",
    "\n",
    "leukemia_doctor_1_wait_time_avg = []\n",
    "leukemia_doctor_2_wait_time_avg = []\n",
    "\n",
    "transplant_doctor_1_wait_time_avg = []\n",
    "transplant_doctor_2_wait_time_avg = []\n",
    "transplant_doctor_3_wait_time_avg = []\n",
    "\n",
    "q_flow_station_queue_length_avg = []\n",
    "\n",
    "secretary_station_queue_length_avg = []\n",
    "\n",
    "nurse_station_1_queue_length_avg = []\n",
    "nurse_station_2_queue_length_avg = []\n",
    "nurse_station_3_queue_length_avg = []\n",
    "nurse_station_4_queue_length_avg = []\n",
    "nurse_station_5_queue_length_avg = []\n",
    "nurse_station_6_queue_length_avg = []\n",
    "\n",
    "leukemia_doctor_1_queue_length_avg = []\n",
    "leukemia_doctor_2_queue_length_avg = []\n",
    "\n",
    "transplant_doctor_1_queue_length_avg = []\n",
    "transplant_doctor_2_queue_length_avg = []\n",
    "transplant_doctor_3_queue_length_avg = []\n",
    "\n",
    "q_flow_station_busy_avg = []\n",
    "\n",
    "secretary_station_busy_avg = []\n",
    "\n",
    "nurse_station_1_busy_avg = []\n",
    "nurse_station_2_busy_avg = []\n",
    "nurse_station_3_busy_avg = []\n",
    "nurse_station_4_busy_avg = []\n",
    "nurse_station_5_busy_avg = []\n",
    "nurse_station_6_busy_avg = []\n",
    "\n",
    "leukemia_doctor_1_busy_avg = []\n",
    "leukemia_doctor_2_busy_avg = []\n",
    "\n",
    "transplant_doctor_1_busy_avg = []\n",
    "transplant_doctor_2_busy_avg = []\n",
    "transplant_doctor_3_busy_avg = []"
   ]
  },
  {
   "cell_type": "code",
   "execution_count": 9,
   "id": "7a68937e",
   "metadata": {},
   "outputs": [],
   "source": [
    "q_flow_station_queue_length = []\n",
    "\n",
    "secretary_station_queue_length = []\n",
    "\n",
    "nurse_station_1_queue_length = []\n",
    "nurse_station_2_queue_length = []\n",
    "nurse_station_3_queue_length = []\n",
    "nurse_station_4_queue_length = []\n",
    "nurse_station_5_queue_length = []\n",
    "nurse_station_6_queue_length = []\n",
    "\n",
    "leukemia_doctor_1_queue_length = []\n",
    "leukemia_doctor_2_queue_length = []\n",
    "\n",
    "transplant_doctor_1_queue_length = []\n",
    "transplant_doctor_2_queue_length = []\n",
    "transplant_doctor_3_queue_length = []"
   ]
  },
  {
   "cell_type": "code",
   "execution_count": 10,
   "id": "be82ae01",
   "metadata": {},
   "outputs": [],
   "source": [
    "leukemia_doctor_1_complex_patients_total_processing_time_avg = []\n",
    "leukemia_doctor_1_regular_patients_total_processing_time_avg = []\n",
    "leukemia_doctor_2_complex_patients_total_processing_time_avg = []\n",
    "leukemia_doctor_2_regular_patients_total_processing_time_avg = []\n",
    "transplant_doctor_1_complex_patients_total_processing_time_avg = []\n",
    "transplant_doctor_1_regular_patients_total_processing_time_avg = []\n",
    "transplant_doctor_2_complex_patients_total_processing_time_avg = []\n",
    "transplant_doctor_2_regular_patients_total_processing_time_avg = []\n",
    "transplant_doctor_3_complex_patients_total_processing_time_avg = []\n",
    "transplant_doctor_3_regular_patients_total_processing_time_avg = []\n",
    "other_patients_total_processing_time_avg = []"
   ]
  },
  {
   "cell_type": "markdown",
   "id": "bf6eed75",
   "metadata": {},
   "source": [
    "### We assume here that all patients begin arriving at 08:00 (time 0 is 07:00 hence why we add 60)\n",
    "#### Currently we assume that they are all summoned at 20 minute intervals for simplicity"
   ]
  },
  {
   "cell_type": "code",
   "execution_count": 11,
   "id": "b033b162",
   "metadata": {},
   "outputs": [],
   "source": [
    "leukemia_doctor_1_number_of_patients = model_parameters.leukemia_doctor_1_number_of_regular_patients + model_parameters.leukemia_doctor_1_number_of_complex_patients\n",
    "leukemia_doctor_1_patient_arrival_times = [60 + i*20 for i in range(leukemia_doctor_1_number_of_patients)]\n",
    "leukemia_doctor_2_number_of_patients = model_parameters.leukemia_doctor_2_number_of_regular_patients + model_parameters.leukemia_doctor_2_number_of_complex_patients\n",
    "leukemia_doctor_2_patient_arrival_times = [60 + i*20 for i in range(leukemia_doctor_2_number_of_patients)]\n",
    "\n",
    "transplant_doctor_1_number_of_patients = model_parameters.transplant_doctor_1_number_of_regular_patients + model_parameters.transplant_doctor_1_number_of_complex_patients\n",
    "transplant_doctor_1_patient_arrival_times = [60 + i*20 for i in range(transplant_doctor_1_number_of_patients)]\n",
    "transplant_doctor_2_number_of_patients = model_parameters.transplant_doctor_2_number_of_regular_patients + model_parameters.transplant_doctor_2_number_of_complex_patients\n",
    "transplant_doctor_2_patient_arrival_times = [60 + i*20 for i in range(transplant_doctor_2_number_of_patients)]\n",
    "transplant_doctor_3_number_of_patients = model_parameters.transplant_doctor_3_number_of_regular_patients + model_parameters.transplant_doctor_3_number_of_complex_patients\n",
    "transplant_doctor_3_patient_arrival_times = [60 + i*20 for i in range(transplant_doctor_3_number_of_patients)]\n",
    "\n",
    "other_patients_arrival_times = [60 + i*10 for i in range(model_parameters.number_of_other_patients)]"
   ]
  },
  {
   "cell_type": "code",
   "execution_count": 12,
   "id": "a1deae27",
   "metadata": {},
   "outputs": [],
   "source": [
    "def create_patient_schedule(arrival_time: int):\n",
    "    return {'arrival_time': arrival_time,\n",
    "            'doctor_consultation_time': arrival_time + 120}\n",
    "\n",
    "def initialize_patients(patient_arrival_times: list[int],\n",
    "                        doctor_name: str,\n",
    "                        calendar: SimClasses.EventCalendar):\n",
    "    leukemia = 'leukemia' in doctor_name\n",
    "    transplant = 'transplant' in doctor_name\n",
    "    patients = []\n",
    "    if leukemia:\n",
    "        probability_of_visiting_nurse = model_parameters.probability_of_visiting_nurse_leukemia\n",
    "\n",
    "        if '1' in doctor_name:\n",
    "            probability_of_complex_patient = model_parameters.leukemia_doctor_1_probability_of_complex_patient\n",
    "        else:\n",
    "            probability_of_complex_patient = model_parameters.leukemia_doctor_2_probability_of_complex_patient\n",
    "\n",
    "        for arrival_time in patient_arrival_times:\n",
    "            patients.append(LeukemiaPatient(create_patient_schedule(arrival_time),\n",
    "                                            doctor_name,\n",
    "                                            probability_of_complex_patient,\n",
    "                                            probability_of_visiting_nurse))\n",
    "    elif transplant:\n",
    "        probability_of_visiting_nurse = model_parameters.probability_of_visiting_nurse_transplant\n",
    "        if '1' in doctor_name:\n",
    "            probability_of_complex_patient = model_parameters.transplant_doctor_1_probability_of_complex_patient\n",
    "        elif '2' in doctor_name:\n",
    "            probability_of_complex_patient = model_parameters.transplant_doctor_2_probability_of_complex_patient\n",
    "        else:\n",
    "            probability_of_complex_patient = model_parameters.transplant_doctor_3_probability_of_complex_patient\n",
    "\n",
    "        for arrival_time in patient_arrival_times:\n",
    "            patients.append(TransplantPatient(create_patient_schedule(arrival_time),\n",
    "                                              doctor_name,\n",
    "                                              probability_of_complex_patient,\n",
    "                                              probability_of_visiting_nurse))\n",
    "    else: #other\n",
    "        probability_of_visiting_nurse = model_parameters.probability_of_visiting_nurse_other\n",
    "        probability_of_complex_patient = model_parameters.probability_of_complex_other_patient\n",
    "\n",
    "        for arrival_time in patient_arrival_times:\n",
    "            patients.append(OtherPatient(create_patient_schedule(arrival_time),\n",
    "                                         doctor_name,\n",
    "                                         probability_of_complex_patient,\n",
    "                                         probability_of_visiting_nurse))\n",
    "    \n",
    "    for patient in patients:\n",
    "        patient.schedule_arrival(calendar)\n",
    "        \n",
    "    return patients"
   ]
  },
  {
   "cell_type": "code",
   "execution_count": 13,
   "id": "84e47c457ce6572f",
   "metadata": {
    "ExecuteTime": {
     "end_time": "2024-03-30T22:39:59.388466Z",
     "start_time": "2024-03-30T22:39:59.374552Z"
    },
    "collapsed": false
   },
   "outputs": [],
   "source": [
    "def q_flow_station_start_of_waiting(new_patient : Patient):\n",
    "    q_flow_station_queue.Add(new_patient)\n",
    "    new_patient.enter_q_flow_queue()\n",
    "    if q_flow_station.CurrentNumBusy < q_flow_station.NumberOfUnits:\n",
    "        q_flow_station.Seize(1)\n",
    "        next_patient = q_flow_station_queue.Remove()\n",
    "        q_flow_station_wait_time.Record(SimClasses.Clock - next_patient.enter_q_flow_queue_time)\n",
    "        SimFunctions.SchedulePlus(Calendar, \"q_flow_station_service_start\", 0, next_patient)"
   ]
  },
  {
   "cell_type": "code",
   "execution_count": 14,
   "id": "6bf2e1c2ce1ef37c",
   "metadata": {
    "ExecuteTime": {
     "end_time": "2024-03-30T22:39:59.636487Z",
     "start_time": "2024-03-30T22:39:59.617715Z"
    },
    "collapsed": false
   },
   "outputs": [],
   "source": [
    "def q_flow_station_service_start(new_patient : Patient):\n",
    "    q_flow_service_duration = np.random.exponential(model_parameters.q_flow_mean_service_time)\n",
    "    SimFunctions.SchedulePlus(Calendar, \"q_flow_station_service_end\", q_flow_service_duration, new_patient)"
   ]
  },
  {
   "cell_type": "code",
   "execution_count": 15,
   "id": "ec765acf",
   "metadata": {},
   "outputs": [],
   "source": [
    "def q_flow_station_service_end(new_patient: Patient):\n",
    "    SimFunctions.SchedulePlus(Calendar, \"secretary_station_start_of_waiting\", 0, new_patient)\n",
    "\n",
    "    q_flow_station.Free(1)\n",
    "    if q_flow_station_queue.NumQueue() > 0:\n",
    "        next_patient = q_flow_station_queue.Remove()\n",
    "        q_flow_station_wait_time.Record(SimClasses.Clock - next_patient.enter_q_flow_queue_time)\n",
    "        SimFunctions.SchedulePlus(Calendar, \"q_flow_station_service_start\", 0, next_patient)"
   ]
  },
  {
   "cell_type": "code",
   "execution_count": 16,
   "id": "60eba5d1",
   "metadata": {},
   "outputs": [],
   "source": [
    "def secretary_station_start_of_waiting(new_patient: Patient):\n",
    "    secretary_station_queue.Add(new_patient)\n",
    "    new_patient.enter_secretary_queue()\n",
    "    if secretary_station.CurrentNumBusy < secretary_station.NumberOfUnits:\n",
    "        secretary_station.Seize(1)\n",
    "        next_patient = secretary_station_queue.Remove()\n",
    "        secretary_station_wait_time.Record(SimClasses.Clock - next_patient.enter_secretary_queue_time)\n",
    "        SimFunctions.SchedulePlus(Calendar, \"secretary_station_service_start\", 0, next_patient)"
   ]
  },
  {
   "cell_type": "code",
   "execution_count": 17,
   "id": "7cfaead6",
   "metadata": {},
   "outputs": [],
   "source": [
    "def secretary_station_service_start(new_patient: Patient):\n",
    "    secretary_station_service_duration = np.random.exponential(model_parameters.secretary_mean_service_time)\n",
    "    SimFunctions.SchedulePlus(Calendar, \"secretary_station_service_end\", secretary_station_service_duration, new_patient)"
   ]
  },
  {
   "cell_type": "code",
   "execution_count": 18,
   "id": "229929d6",
   "metadata": {},
   "outputs": [],
   "source": [
    "def secretary_station_service_end(new_patient: Patient):\n",
    "    patient_type = new_patient.get_type()\n",
    "    has_nurse_appointment = new_patient.visits_nurse\n",
    "    if has_nurse_appointment:\n",
    "        nurse_station = assign_nurse_station(patient_type, model_parameters)\n",
    "        SimFunctions.SchedulePlus(Calendar, f'{nurse_station}_start_of_waiting', 0, new_patient)\n",
    "    else:\n",
    "        SimFunctions.SchedulePlus(Calendar, f'{new_patient.doctor_name}_start_of_waiting', 0, new_patient)\n",
    "    \n",
    "    secretary_station.Free(1)\n",
    "    if secretary_station_queue.NumQueue() > 0:\n",
    "        next_patient = secretary_station_queue.Remove()\n",
    "        secretary_station_wait_time.Record(SimClasses.Clock - next_patient.enter_secretary_queue_time)\n",
    "        SimFunctions.SchedulePlus(Calendar, \"secretary_station_service_start\", 0, next_patient)"
   ]
  },
  {
   "cell_type": "code",
   "execution_count": 19,
   "id": "8ffbe348",
   "metadata": {},
   "outputs": [],
   "source": [
    "def nurse_station_1_start_of_waiting(new_patient: Patient):\n",
    "    nurse_station_1_queue.Add(new_patient)\n",
    "    new_patient.enter_nurse_queue()\n",
    "    if nurse_station_1.CurrentNumBusy < nurse_station_1.NumberOfUnits:\n",
    "        nurse_station_1.Seize(1)\n",
    "        next_patient = nurse_station_1_queue.Remove()\n",
    "        nurse_station_1_wait_time.Record(SimClasses.Clock - next_patient.enter_nurse_queue_time)\n",
    "        SimFunctions.SchedulePlus(Calendar, \"nurse_station_1_service_start\", 0, next_patient)\n",
    "\n",
    "def nurse_station_2_start_of_waiting(new_patient: Patient):\n",
    "    nurse_station_2_queue.Add(new_patient)\n",
    "    new_patient.enter_nurse_queue()\n",
    "    if nurse_station_2.CurrentNumBusy < nurse_station_2.NumberOfUnits:\n",
    "        nurse_station_2.Seize(1)\n",
    "        next_patient = nurse_station_2_queue.Remove()\n",
    "        nurse_station_2_wait_time.Record(SimClasses.Clock - next_patient.enter_nurse_queue_time)\n",
    "        SimFunctions.SchedulePlus(Calendar, \"nurse_station_2_service_start\", 0, next_patient)\n",
    "\n",
    "def nurse_station_3_start_of_waiting(new_patient: Patient):\n",
    "    nurse_station_3_queue.Add(new_patient)\n",
    "    new_patient.enter_nurse_queue()\n",
    "    if nurse_station_3.CurrentNumBusy < nurse_station_3.NumberOfUnits:\n",
    "        nurse_station_3.Seize(1)\n",
    "        next_patient = nurse_station_3_queue.Remove()\n",
    "        nurse_station_3_wait_time.Record(SimClasses.Clock - next_patient.enter_nurse_queue_time)\n",
    "        SimFunctions.SchedulePlus(Calendar, \"nurse_station_3_service_start\", 0, next_patient)\n",
    "\n",
    "def nurse_station_4_start_of_waiting(new_patient: Patient):\n",
    "    nurse_station_4_queue.Add(new_patient)\n",
    "    new_patient.enter_nurse_queue()\n",
    "    if nurse_station_4.CurrentNumBusy < nurse_station_4.NumberOfUnits:\n",
    "        nurse_station_4.Seize(1)\n",
    "        next_patient = nurse_station_4_queue.Remove()\n",
    "        nurse_station_4_wait_time.Record(SimClasses.Clock - next_patient.enter_nurse_queue_time)\n",
    "        SimFunctions.SchedulePlus(Calendar, \"nurse_station_4_service_start\", 0, next_patient)\n",
    "\n",
    "def nurse_station_5_start_of_waiting(new_patient: Patient):\n",
    "    nurse_station_5_queue.Add(new_patient)\n",
    "    new_patient.enter_nurse_queue()\n",
    "    if nurse_station_5.CurrentNumBusy < nurse_station_5.NumberOfUnits:\n",
    "        nurse_station_5.Seize(1)\n",
    "        next_patient = nurse_station_5_queue.Remove()\n",
    "        nurse_station_5_wait_time.Record(SimClasses.Clock - next_patient.enter_nurse_queue_time)\n",
    "        SimFunctions.SchedulePlus(Calendar, \"nurse_station_5_service_start\", 0, next_patient)\n",
    "\n",
    "def nurse_station_6_start_of_waiting(new_patient: Patient):\n",
    "    nurse_station_6_queue.Add(new_patient)\n",
    "    new_patient.enter_nurse_queue()\n",
    "    if nurse_station_6.CurrentNumBusy < nurse_station_6.NumberOfUnits:\n",
    "        nurse_station_6.Seize(1)\n",
    "        next_patient = nurse_station_6_queue.Remove()\n",
    "        nurse_station_6_wait_time.Record(SimClasses.Clock - next_patient.enter_nurse_queue_time)\n",
    "        SimFunctions.SchedulePlus(Calendar, \"nurse_station_6_service_start\", 0, next_patient)"
   ]
  },
  {
   "cell_type": "code",
   "execution_count": 20,
   "id": "aaed8038",
   "metadata": {},
   "outputs": [],
   "source": [
    "def nurse_station_1_service_start(new_patient: Patient):\n",
    "    patient_complexity = new_patient.complexity_level\n",
    "\n",
    "    if patient_complexity == \"regular\":\n",
    "        mean_service_time = model_parameters.nurse_mean_service_time_regular\n",
    "    else:\n",
    "        mean_service_time = model_parameters.nurse_mean_service_time_complex\n",
    "\n",
    "    service_duration = np.random.exponential(mean_service_time)\n",
    "\n",
    "    SimFunctions.SchedulePlus(Calendar, \"nurse_station_1_service_end\", service_duration, new_patient)\n",
    "\n",
    "def nurse_station_2_service_start(new_patient: Patient):\n",
    "    patient_complexity = new_patient.complexity_level\n",
    "\n",
    "    if patient_complexity == \"regular\":\n",
    "        mean_service_time = model_parameters.nurse_mean_service_time_regular\n",
    "    else:\n",
    "        mean_service_time = model_parameters.nurse_mean_service_time_complex\n",
    "\n",
    "    service_duration = np.random.exponential(mean_service_time)\n",
    "\n",
    "    SimFunctions.SchedulePlus(Calendar, \"nurse_station_2_service_end\", service_duration, new_patient)\n",
    "\n",
    "def nurse_station_3_service_start(new_patient: Patient):\n",
    "    patient_complexity = new_patient.complexity_level\n",
    "\n",
    "    if patient_complexity == \"regular\":\n",
    "        mean_service_time = model_parameters.nurse_mean_service_time_regular\n",
    "    else:\n",
    "        mean_service_time = model_parameters.nurse_mean_service_time_complex\n",
    "\n",
    "    service_duration = np.random.exponential(mean_service_time)\n",
    "\n",
    "    SimFunctions.SchedulePlus(Calendar, \"nurse_station_3_service_end\", service_duration, new_patient)\n",
    "\n",
    "def nurse_station_4_service_start(new_patient: Patient):\n",
    "    patient_complexity = new_patient.complexity_level\n",
    "\n",
    "    if patient_complexity == \"regular\":\n",
    "        mean_service_time = model_parameters.nurse_mean_service_time_regular\n",
    "    else:\n",
    "        mean_service_time = model_parameters.nurse_mean_service_time_complex\n",
    "\n",
    "    service_duration = np.random.exponential(mean_service_time)\n",
    "\n",
    "    SimFunctions.SchedulePlus(Calendar, \"nurse_station_4_service_end\", service_duration, new_patient)\n",
    "\n",
    "def nurse_station_5_service_start(new_patient: Patient):\n",
    "    patient_complexity = new_patient.complexity_level\n",
    "\n",
    "    if patient_complexity == \"regular\":\n",
    "        mean_service_time = model_parameters.nurse_mean_service_time_regular\n",
    "    else:\n",
    "        mean_service_time = model_parameters.nurse_mean_service_time_complex\n",
    "\n",
    "    service_duration = np.random.exponential(mean_service_time)\n",
    "\n",
    "    SimFunctions.SchedulePlus(Calendar, \"nurse_station_5_service_end\", service_duration, new_patient)\n",
    "\n",
    "def nurse_station_6_service_start(new_patient: Patient):\n",
    "    patient_complexity = new_patient.complexity_level\n",
    "\n",
    "    if patient_complexity == \"regular\":\n",
    "        mean_service_time = model_parameters.nurse_mean_service_time_regular\n",
    "    else:\n",
    "        mean_service_time = model_parameters.nurse_mean_service_time_complex\n",
    "\n",
    "    service_duration = np.random.exponential(mean_service_time)\n",
    "\n",
    "    SimFunctions.SchedulePlus(Calendar, \"nurse_station_6_service_end\", service_duration, new_patient)"
   ]
  },
  {
   "cell_type": "code",
   "execution_count": 21,
   "id": "2a06fc51",
   "metadata": {},
   "outputs": [],
   "source": [
    "def nurse_station_1_service_end(new_patient: Patient):\n",
    "    doctor_name = new_patient.doctor_name\n",
    "    SimFunctions.SchedulePlus(Calendar, f\"{doctor_name}_start_of_waiting\", 0, new_patient)\n",
    "\n",
    "def nurse_station_2_service_end(new_patient: Patient):\n",
    "    doctor_name = new_patient.doctor_name\n",
    "    SimFunctions.SchedulePlus(Calendar, f\"{doctor_name}_start_of_waiting\", 0, new_patient)\n",
    "\n",
    "def nurse_station_3_service_end(new_patient: Patient):\n",
    "    doctor_name = new_patient.doctor_name\n",
    "    SimFunctions.SchedulePlus(Calendar, f\"{doctor_name}_start_of_waiting\", 0, new_patient)\n",
    "\n",
    "def nurse_station_4_service_end(new_patient: Patient):\n",
    "    doctor_name = new_patient.doctor_name\n",
    "    SimFunctions.SchedulePlus(Calendar, f\"{doctor_name}_start_of_waiting\", 0, new_patient)\n",
    "\n",
    "def nurse_station_5_service_end(new_patient: Patient):\n",
    "    doctor_name = new_patient.doctor_name\n",
    "    SimFunctions.SchedulePlus(Calendar, f\"{doctor_name}_start_of_waiting\", 0, new_patient)\n",
    "\n",
    "def nurse_station_6_service_end(new_patient: Patient):\n",
    "    doctor_name = new_patient.doctor_name\n",
    "    SimFunctions.SchedulePlus(Calendar, f\"{doctor_name}_start_of_waiting\", 0, new_patient)"
   ]
  },
  {
   "cell_type": "code",
   "execution_count": 22,
   "id": "6399295f",
   "metadata": {},
   "outputs": [],
   "source": [
    "def leukemia_doctor_1_start_of_waiting(new_patient: Patient):\n",
    "    leukemia_doctor_1_queue.Add(new_patient)\n",
    "    new_patient.enter_doctor_queue()\n",
    "    SimFunctions.SchedulePlus(Calendar, \"leukemia_doctor_1_service_start\", 0, new_patient)\n",
    "    if leukemia_doctor_1.CurrentNumBusy < leukemia_doctor_1.NumberOfUnits:\n",
    "        leukemia_doctor_1.Seize(1)\n",
    "        next_patient = leukemia_doctor_1_queue.Remove()\n",
    "        leukemia_doctor_1_wait_time.Record(SimClasses.Clock - next_patient.enter_doctor_queue_time)\n",
    "        SimFunctions.SchedulePlus(Calendar, \"leukemia_doctor_1_service_start\", 0, next_patient)\n",
    "\n",
    "def leukemia_doctor_2_start_of_waiting(new_patient: Patient):\n",
    "    leukemia_doctor_2_queue.Add(new_patient)\n",
    "    new_patient.enter_doctor_queue()\n",
    "    SimFunctions.SchedulePlus(Calendar, \"leukemia_doctor_2_service_start\", 0, new_patient)\n",
    "    if leukemia_doctor_2.CurrentNumBusy < leukemia_doctor_2.NumberOfUnits:\n",
    "        leukemia_doctor_2.Seize(1)\n",
    "        next_patient = leukemia_doctor_2_queue.Remove()\n",
    "        leukemia_doctor_2_wait_time.Record(SimClasses.Clock - next_patient.enter_doctor_queue_time)\n",
    "        SimFunctions.SchedulePlus(Calendar, \"leukemia_doctor_2_service_start\", 0, next_patient)\n",
    "\n",
    "def transplant_doctor_1_start_of_waiting(new_patient: Patient):\n",
    "    transplant_doctor_1_queue.Add(new_patient)\n",
    "    new_patient.enter_doctor_queue()\n",
    "    SimFunctions.SchedulePlus(Calendar, \"transplant_doctor_1_service_start\", 0, new_patient)\n",
    "    if transplant_doctor_1.CurrentNumBusy < transplant_doctor_1.NumberOfUnits:\n",
    "        transplant_doctor_1.Seize(1)\n",
    "        next_patient = transplant_doctor_1_queue.Remove()\n",
    "        transplant_doctor_1_wait_time.Record(SimClasses.Clock - next_patient.enter_doctor_queue_time)\n",
    "        SimFunctions.SchedulePlus(Calendar, \"transplant_doctor_1_service_start\", 0, next_patient)\n",
    "\n",
    "def transplant_doctor_2_start_of_waiting(new_patient: Patient):\n",
    "    transplant_doctor_2_queue.Add(new_patient)\n",
    "    new_patient.enter_doctor_queue()\n",
    "    SimFunctions.SchedulePlus(Calendar, \"transplant_doctor_2_service_start\", 0, new_patient)\n",
    "    if transplant_doctor_2.CurrentNumBusy < transplant_doctor_2.NumberOfUnits:\n",
    "        transplant_doctor_2.Seize(1)\n",
    "        next_patient = transplant_doctor_2_queue.Remove()\n",
    "        transplant_doctor_2_wait_time.Record(SimClasses.Clock - next_patient.enter_doctor_queue_time)\n",
    "        SimFunctions.SchedulePlus(Calendar, \"transplant_doctor_2_service_start\", 0, next_patient)\n",
    "\n",
    "def transplant_doctor_3_start_of_waiting(new_patient: Patient):\n",
    "    transplant_doctor_3_queue.Add(new_patient)\n",
    "    new_patient.enter_doctor_queue()\n",
    "    SimFunctions.SchedulePlus(Calendar, \"transplant_doctor_3_service_start\", 0, new_patient)\n",
    "    if transplant_doctor_3.CurrentNumBusy < transplant_doctor_3.NumberOfUnits:\n",
    "        transplant_doctor_3.Seize(1)\n",
    "        next_patient = transplant_doctor_3_queue.Remove()\n",
    "        transplant_doctor_3_wait_time.Record(SimClasses.Clock - next_patient.enter_doctor_queue_time)\n",
    "        SimFunctions.SchedulePlus(Calendar, \"transplant_doctor_3_service_start\", 0, next_patient)\n",
    "\n",
    "def other_doctor_start_of_waiting(new_patient: Patient):\n",
    "    new_patient.enter_doctor_queue()\n",
    "    #other patients doctor treatment is not included in the model\n",
    "    SimFunctions.SchedulePlus(Calendar, \"process_complete\", 0, new_patient)"
   ]
  },
  {
   "cell_type": "code",
   "execution_count": 23,
   "id": "5cbc074e",
   "metadata": {},
   "outputs": [],
   "source": [
    "def leukemia_doctor_1_service_start(new_patient: Patient):\n",
    "    patient_complexity = new_patient.complexity_level\n",
    "    if patient_complexity == \"regular\":\n",
    "        mean_service_time = model_parameters.leukemia_doctor_1_mean_service_time_regular\n",
    "    else:\n",
    "        mean_service_time = model_parameters.leukemia_doctor_1_mean_service_time_complex\n",
    "    service_duration = np.random.exponential(mean_service_time)\n",
    "    SimFunctions.SchedulePlus(Calendar, \"leukemia_doctor_1_service_end\", service_duration, new_patient)\n",
    "\n",
    "def leukemia_doctor_2_service_start(new_patient: Patient):\n",
    "    patient_complexity = new_patient.complexity_level\n",
    "    if patient_complexity == \"regular\":\n",
    "        mean_service_time = model_parameters.leukemia_doctor_2_mean_service_time_regular\n",
    "    else:\n",
    "        mean_service_time = model_parameters.leukemia_doctor_2_mean_service_time_complex\n",
    "    service_duration = np.random.exponential(mean_service_time)\n",
    "    SimFunctions.SchedulePlus(Calendar, \"leukemia_doctor_2_service_end\", service_duration, new_patient)\n",
    "\n",
    "def transplant_doctor_1_service_start(new_patient: Patient):\n",
    "    patient_complexity = new_patient.complexity_level\n",
    "    if patient_complexity == \"regular\":\n",
    "        mean_service_time = model_parameters.transplant_doctor_1_mean_service_time_regular\n",
    "    else:\n",
    "        mean_service_time = model_parameters.transplant_doctor_1_mean_service_time_complex\n",
    "    service_duration = np.random.exponential(mean_service_time)\n",
    "    SimFunctions.SchedulePlus(Calendar, \"transplant_doctor_1_service_end\", service_duration, new_patient)\n",
    "\n",
    "def transplant_doctor_2_service_start(new_patient: Patient):\n",
    "    patient_complexity = new_patient.complexity_level\n",
    "    if patient_complexity == \"regular\":\n",
    "        mean_service_time = model_parameters.transplant_doctor_2_mean_service_time_regular\n",
    "    else:\n",
    "        mean_service_time = model_parameters.transplant_doctor_2_mean_service_time_complex\n",
    "    service_duration = np.random.exponential(mean_service_time)\n",
    "    SimFunctions.SchedulePlus(Calendar, \"transplant_doctor_2_service_end\", service_duration, new_patient)\n",
    "\n",
    "def transplant_doctor_3_service_start(new_patient: Patient):\n",
    "    patient_complexity = new_patient.complexity_level\n",
    "    if patient_complexity == \"regular\":\n",
    "        mean_service_time = model_parameters.transplant_doctor_3_mean_service_time_regular\n",
    "    else:\n",
    "        mean_service_time = model_parameters.transplant_doctor_3_mean_service_time_complex\n",
    "    service_duration = np.random.exponential(mean_service_time)\n",
    "    SimFunctions.SchedulePlus(Calendar, \"transplant_doctor_3_service_end\", service_duration, new_patient)"
   ]
  },
  {
   "cell_type": "code",
   "execution_count": 24,
   "id": "c930902e",
   "metadata": {},
   "outputs": [],
   "source": [
    "def leukemia_doctor_1_service_end(new_patient: Patient):\n",
    "    SimFunctions.SchedulePlus(Calendar, \"process_complete\", 0, new_patient)\n",
    "\n",
    "def leukemia_doctor_2_service_end(new_patient: Patient):\n",
    "    SimFunctions.SchedulePlus(Calendar, \"process_complete\", 0, new_patient)\n",
    "\n",
    "def transplant_doctor_1_service_end(new_patient: Patient):\n",
    "    SimFunctions.SchedulePlus(Calendar, \"process_complete\", 0, new_patient)\n",
    "\n",
    "def transplant_doctor_2_service_end(new_patient: Patient):\n",
    "    SimFunctions.SchedulePlus(Calendar, \"process_complete\", 0, new_patient)\n",
    "\n",
    "def transplant_doctor_3_service_end(new_patient: Patient):\n",
    "    SimFunctions.SchedulePlus(Calendar, \"process_complete\", 0, new_patient)"
   ]
  },
  {
   "cell_type": "code",
   "execution_count": 25,
   "id": "c506a33f",
   "metadata": {},
   "outputs": [],
   "source": [
    "def process_complete(new_patient: Patient):\n",
    "    if new_patient.doctor_name == \"leukemia_doctor_1\":\n",
    "        if new_patient.complexity_level == \"complex\":\n",
    "            leukemia_doctor_1_complex_patients_total_processing_time.Record(SimClasses.Clock - new_patient.arrival_time)\n",
    "        else:\n",
    "            leukemia_doctor_1_regular_patients_total_processing_time.Record(SimClasses.Clock - new_patient.arrival_time)\n",
    "    elif new_patient.doctor_name == \"leukemia_doctor_2\":\n",
    "        if new_patient.complexity_level == \"complex\":\n",
    "            leukemia_doctor_2_complex_patients_total_processing_time.Record(SimClasses.Clock - new_patient.arrival_time)\n",
    "        else:\n",
    "            leukemia_doctor_2_regular_patients_total_processing_time.Record(SimClasses.Clock - new_patient.arrival_time)\n",
    "    elif new_patient.doctor_name == \"transplant_doctor_1\":\n",
    "        if new_patient.complexity_level == \"complex\":\n",
    "            transplant_doctor_1_complex_patients_total_processing_time.Record(SimClasses.Clock - new_patient.arrival_time)\n",
    "        else:\n",
    "            transplant_doctor_1_regular_patients_total_processing_time.Record(SimClasses.Clock - new_patient.arrival_time)\n",
    "    elif new_patient.doctor_name == \"transplant_doctor_2\":\n",
    "        if new_patient.complexity_level == \"complex\":\n",
    "            transplant_doctor_2_complex_patients_total_processing_time.Record(SimClasses.Clock - new_patient.arrival_time)\n",
    "        else:\n",
    "            transplant_doctor_2_regular_patients_total_processing_time.Record(SimClasses.Clock - new_patient.arrival_time)\n",
    "    elif new_patient.doctor_name == \"transplant_doctor_3\":\n",
    "        if new_patient.complexity_level == \"complex\":\n",
    "            transplant_doctor_3_complex_patients_total_processing_time.Record(SimClasses.Clock - new_patient.arrival_time)\n",
    "        else:\n",
    "            transplant_doctor_3_regular_patients_total_processing_time.Record(SimClasses.Clock - new_patient.arrival_time)\n",
    "    elif new_patient.doctor_name == \"other\":\n",
    "        other_patients_total_processing_time.Record(SimClasses.Clock - new_patient.arrival_time)\n",
    "    else:\n",
    "        raise ValueError(f\"Invalid doctor name: {new_patient.doctor_name}\")\n",
    "    \n",
    "    new_patient.end_visit()"
   ]
  },
  {
   "cell_type": "code",
   "execution_count": 26,
   "id": "d50b928d",
   "metadata": {},
   "outputs": [
    {
     "data": {
      "application/vnd.jupyter.widget-view+json": {
       "model_id": "12bc3db9c9534efdbb686314bb0357b0",
       "version_major": 2,
       "version_minor": 0
      },
      "text/plain": [
       "Running Simulation:   0%|          | 0/100 [00:00<?, ?it/s]"
      ]
     },
     "metadata": {},
     "output_type": "display_data"
    },
    {
     "data": {
      "application/vnd.jupyter.widget-view+json": {
       "model_id": "6b7b0bcbc1e74bcea76ba0376abb163f",
       "version_major": 2,
       "version_minor": 0
      },
      "text/plain": [
       "Iteration 1 in process:   0%|          | 0/101 [00:00<?, ?it/s]"
      ]
     },
     "metadata": {},
     "output_type": "display_data"
    },
    {
     "data": {
      "application/vnd.jupyter.widget-view+json": {
       "model_id": "eb7143e27b654675a239843b43155512",
       "version_major": 2,
       "version_minor": 0
      },
      "text/plain": [
       "Iteration 2 in process:   0%|          | 0/101 [00:00<?, ?it/s]"
      ]
     },
     "metadata": {},
     "output_type": "display_data"
    },
    {
     "data": {
      "application/vnd.jupyter.widget-view+json": {
       "model_id": "aac35cec456e4e6dabfea937b71bd9bf",
       "version_major": 2,
       "version_minor": 0
      },
      "text/plain": [
       "Iteration 3 in process:   0%|          | 0/101 [00:00<?, ?it/s]"
      ]
     },
     "metadata": {},
     "output_type": "display_data"
    },
    {
     "data": {
      "application/vnd.jupyter.widget-view+json": {
       "model_id": "de0ed6d50a904c92ac2e8fb6f148ff5c",
       "version_major": 2,
       "version_minor": 0
      },
      "text/plain": [
       "Iteration 4 in process:   0%|          | 0/101 [00:00<?, ?it/s]"
      ]
     },
     "metadata": {},
     "output_type": "display_data"
    },
    {
     "data": {
      "application/vnd.jupyter.widget-view+json": {
       "model_id": "cf3eb58400aa4c23a145a4ec112b2262",
       "version_major": 2,
       "version_minor": 0
      },
      "text/plain": [
       "Iteration 5 in process:   0%|          | 0/101 [00:00<?, ?it/s]"
      ]
     },
     "metadata": {},
     "output_type": "display_data"
    },
    {
     "data": {
      "application/vnd.jupyter.widget-view+json": {
       "model_id": "34ff68de37894b9a8d91db8bd084ee07",
       "version_major": 2,
       "version_minor": 0
      },
      "text/plain": [
       "Iteration 6 in process:   0%|          | 0/101 [00:00<?, ?it/s]"
      ]
     },
     "metadata": {},
     "output_type": "display_data"
    },
    {
     "data": {
      "application/vnd.jupyter.widget-view+json": {
       "model_id": "35e6a37e8b2049b790832ac8a9614f04",
       "version_major": 2,
       "version_minor": 0
      },
      "text/plain": [
       "Iteration 7 in process:   0%|          | 0/101 [00:00<?, ?it/s]"
      ]
     },
     "metadata": {},
     "output_type": "display_data"
    },
    {
     "data": {
      "application/vnd.jupyter.widget-view+json": {
       "model_id": "9dda570e8b614e83ad9e053be63543da",
       "version_major": 2,
       "version_minor": 0
      },
      "text/plain": [
       "Iteration 8 in process:   0%|          | 0/101 [00:00<?, ?it/s]"
      ]
     },
     "metadata": {},
     "output_type": "display_data"
    },
    {
     "data": {
      "application/vnd.jupyter.widget-view+json": {
       "model_id": "db08f994da5045af9f6f3b6ce5a8b9bb",
       "version_major": 2,
       "version_minor": 0
      },
      "text/plain": [
       "Iteration 9 in process:   0%|          | 0/101 [00:00<?, ?it/s]"
      ]
     },
     "metadata": {},
     "output_type": "display_data"
    },
    {
     "data": {
      "application/vnd.jupyter.widget-view+json": {
       "model_id": "c208d4401176465bb7c60c840c537bca",
       "version_major": 2,
       "version_minor": 0
      },
      "text/plain": [
       "Iteration 10 in process:   0%|          | 0/101 [00:00<?, ?it/s]"
      ]
     },
     "metadata": {},
     "output_type": "display_data"
    },
    {
     "data": {
      "application/vnd.jupyter.widget-view+json": {
       "model_id": "b122deec2047453fbc8751b7fd7fcd4b",
       "version_major": 2,
       "version_minor": 0
      },
      "text/plain": [
       "Iteration 11 in process:   0%|          | 0/101 [00:00<?, ?it/s]"
      ]
     },
     "metadata": {},
     "output_type": "display_data"
    },
    {
     "data": {
      "application/vnd.jupyter.widget-view+json": {
       "model_id": "acd3d2401aac4ec9a9b53ba60897b4dc",
       "version_major": 2,
       "version_minor": 0
      },
      "text/plain": [
       "Iteration 12 in process:   0%|          | 0/101 [00:00<?, ?it/s]"
      ]
     },
     "metadata": {},
     "output_type": "display_data"
    },
    {
     "data": {
      "application/vnd.jupyter.widget-view+json": {
       "model_id": "65855e200a404b77aee7f0afeb7d64d8",
       "version_major": 2,
       "version_minor": 0
      },
      "text/plain": [
       "Iteration 13 in process:   0%|          | 0/101 [00:00<?, ?it/s]"
      ]
     },
     "metadata": {},
     "output_type": "display_data"
    },
    {
     "data": {
      "application/vnd.jupyter.widget-view+json": {
       "model_id": "9460a8990fdf44b18af55964b8940231",
       "version_major": 2,
       "version_minor": 0
      },
      "text/plain": [
       "Iteration 14 in process:   0%|          | 0/101 [00:00<?, ?it/s]"
      ]
     },
     "metadata": {},
     "output_type": "display_data"
    },
    {
     "data": {
      "application/vnd.jupyter.widget-view+json": {
       "model_id": "bcaf4dd5277a43708458ae5b1a8a5cb4",
       "version_major": 2,
       "version_minor": 0
      },
      "text/plain": [
       "Iteration 15 in process:   0%|          | 0/101 [00:00<?, ?it/s]"
      ]
     },
     "metadata": {},
     "output_type": "display_data"
    },
    {
     "data": {
      "application/vnd.jupyter.widget-view+json": {
       "model_id": "d6dbf452e5124f4282b11bfa7d9773f8",
       "version_major": 2,
       "version_minor": 0
      },
      "text/plain": [
       "Iteration 16 in process:   0%|          | 0/101 [00:00<?, ?it/s]"
      ]
     },
     "metadata": {},
     "output_type": "display_data"
    },
    {
     "data": {
      "application/vnd.jupyter.widget-view+json": {
       "model_id": "1d364c20ac9e4a22bd0acbe875253473",
       "version_major": 2,
       "version_minor": 0
      },
      "text/plain": [
       "Iteration 17 in process:   0%|          | 0/101 [00:00<?, ?it/s]"
      ]
     },
     "metadata": {},
     "output_type": "display_data"
    },
    {
     "data": {
      "application/vnd.jupyter.widget-view+json": {
       "model_id": "fe5a3bb717d041da8aa2344cedf6d295",
       "version_major": 2,
       "version_minor": 0
      },
      "text/plain": [
       "Iteration 18 in process:   0%|          | 0/101 [00:00<?, ?it/s]"
      ]
     },
     "metadata": {},
     "output_type": "display_data"
    },
    {
     "data": {
      "application/vnd.jupyter.widget-view+json": {
       "model_id": "4e60a594fe914a39a1566d25e80ec929",
       "version_major": 2,
       "version_minor": 0
      },
      "text/plain": [
       "Iteration 19 in process:   0%|          | 0/101 [00:00<?, ?it/s]"
      ]
     },
     "metadata": {},
     "output_type": "display_data"
    },
    {
     "data": {
      "application/vnd.jupyter.widget-view+json": {
       "model_id": "579d918e03394200a1a9709b5d822c23",
       "version_major": 2,
       "version_minor": 0
      },
      "text/plain": [
       "Iteration 20 in process:   0%|          | 0/101 [00:00<?, ?it/s]"
      ]
     },
     "metadata": {},
     "output_type": "display_data"
    },
    {
     "data": {
      "application/vnd.jupyter.widget-view+json": {
       "model_id": "a4c90aef04004279acfd242420b05424",
       "version_major": 2,
       "version_minor": 0
      },
      "text/plain": [
       "Iteration 21 in process:   0%|          | 0/101 [00:00<?, ?it/s]"
      ]
     },
     "metadata": {},
     "output_type": "display_data"
    },
    {
     "data": {
      "application/vnd.jupyter.widget-view+json": {
       "model_id": "769bb77de2744fec8224287965473e12",
       "version_major": 2,
       "version_minor": 0
      },
      "text/plain": [
       "Iteration 22 in process:   0%|          | 0/101 [00:00<?, ?it/s]"
      ]
     },
     "metadata": {},
     "output_type": "display_data"
    },
    {
     "data": {
      "application/vnd.jupyter.widget-view+json": {
       "model_id": "f8a076341945445f811c614be0a3e8c8",
       "version_major": 2,
       "version_minor": 0
      },
      "text/plain": [
       "Iteration 23 in process:   0%|          | 0/101 [00:00<?, ?it/s]"
      ]
     },
     "metadata": {},
     "output_type": "display_data"
    },
    {
     "data": {
      "application/vnd.jupyter.widget-view+json": {
       "model_id": "d94757814c5e45ef82f37d804649fe8e",
       "version_major": 2,
       "version_minor": 0
      },
      "text/plain": [
       "Iteration 24 in process:   0%|          | 0/101 [00:00<?, ?it/s]"
      ]
     },
     "metadata": {},
     "output_type": "display_data"
    },
    {
     "data": {
      "application/vnd.jupyter.widget-view+json": {
       "model_id": "52a4f9022720446ab449017f290a3b4c",
       "version_major": 2,
       "version_minor": 0
      },
      "text/plain": [
       "Iteration 25 in process:   0%|          | 0/101 [00:00<?, ?it/s]"
      ]
     },
     "metadata": {},
     "output_type": "display_data"
    },
    {
     "data": {
      "application/vnd.jupyter.widget-view+json": {
       "model_id": "c0058882cc4845438b17df0eacd805d5",
       "version_major": 2,
       "version_minor": 0
      },
      "text/plain": [
       "Iteration 26 in process:   0%|          | 0/101 [00:00<?, ?it/s]"
      ]
     },
     "metadata": {},
     "output_type": "display_data"
    },
    {
     "data": {
      "application/vnd.jupyter.widget-view+json": {
       "model_id": "89ddf4d8fd3b403785a11f706aebf83b",
       "version_major": 2,
       "version_minor": 0
      },
      "text/plain": [
       "Iteration 27 in process:   0%|          | 0/101 [00:00<?, ?it/s]"
      ]
     },
     "metadata": {},
     "output_type": "display_data"
    },
    {
     "data": {
      "application/vnd.jupyter.widget-view+json": {
       "model_id": "04b14fa9290346399316f47f287b0bac",
       "version_major": 2,
       "version_minor": 0
      },
      "text/plain": [
       "Iteration 28 in process:   0%|          | 0/101 [00:00<?, ?it/s]"
      ]
     },
     "metadata": {},
     "output_type": "display_data"
    },
    {
     "data": {
      "application/vnd.jupyter.widget-view+json": {
       "model_id": "1f83697309b1480a89853d3efb774b9e",
       "version_major": 2,
       "version_minor": 0
      },
      "text/plain": [
       "Iteration 29 in process:   0%|          | 0/101 [00:00<?, ?it/s]"
      ]
     },
     "metadata": {},
     "output_type": "display_data"
    },
    {
     "data": {
      "application/vnd.jupyter.widget-view+json": {
       "model_id": "8381361ae051464baefa9275cc7fe32b",
       "version_major": 2,
       "version_minor": 0
      },
      "text/plain": [
       "Iteration 30 in process:   0%|          | 0/101 [00:00<?, ?it/s]"
      ]
     },
     "metadata": {},
     "output_type": "display_data"
    },
    {
     "data": {
      "application/vnd.jupyter.widget-view+json": {
       "model_id": "4126ab10e18749db9bbfc67388501c87",
       "version_major": 2,
       "version_minor": 0
      },
      "text/plain": [
       "Iteration 31 in process:   0%|          | 0/101 [00:00<?, ?it/s]"
      ]
     },
     "metadata": {},
     "output_type": "display_data"
    },
    {
     "data": {
      "application/vnd.jupyter.widget-view+json": {
       "model_id": "f91137d3564d42edbbd1809d1187cc21",
       "version_major": 2,
       "version_minor": 0
      },
      "text/plain": [
       "Iteration 32 in process:   0%|          | 0/101 [00:00<?, ?it/s]"
      ]
     },
     "metadata": {},
     "output_type": "display_data"
    },
    {
     "data": {
      "application/vnd.jupyter.widget-view+json": {
       "model_id": "2e52e4388d204c77ab6a1dd9c417dc66",
       "version_major": 2,
       "version_minor": 0
      },
      "text/plain": [
       "Iteration 33 in process:   0%|          | 0/101 [00:00<?, ?it/s]"
      ]
     },
     "metadata": {},
     "output_type": "display_data"
    },
    {
     "data": {
      "application/vnd.jupyter.widget-view+json": {
       "model_id": "c6f1f020782746c1bc5fa71f2c98d210",
       "version_major": 2,
       "version_minor": 0
      },
      "text/plain": [
       "Iteration 34 in process:   0%|          | 0/101 [00:00<?, ?it/s]"
      ]
     },
     "metadata": {},
     "output_type": "display_data"
    },
    {
     "data": {
      "application/vnd.jupyter.widget-view+json": {
       "model_id": "53d0cdfac4fc4379b79f1c77295f9ccf",
       "version_major": 2,
       "version_minor": 0
      },
      "text/plain": [
       "Iteration 35 in process:   0%|          | 0/101 [00:00<?, ?it/s]"
      ]
     },
     "metadata": {},
     "output_type": "display_data"
    },
    {
     "data": {
      "application/vnd.jupyter.widget-view+json": {
       "model_id": "fa56e906b6cd4faa94c7235d173d6628",
       "version_major": 2,
       "version_minor": 0
      },
      "text/plain": [
       "Iteration 36 in process:   0%|          | 0/101 [00:00<?, ?it/s]"
      ]
     },
     "metadata": {},
     "output_type": "display_data"
    },
    {
     "data": {
      "application/vnd.jupyter.widget-view+json": {
       "model_id": "237a11975e184a24935782b3e19d1040",
       "version_major": 2,
       "version_minor": 0
      },
      "text/plain": [
       "Iteration 37 in process:   0%|          | 0/101 [00:00<?, ?it/s]"
      ]
     },
     "metadata": {},
     "output_type": "display_data"
    },
    {
     "data": {
      "application/vnd.jupyter.widget-view+json": {
       "model_id": "a139fa0088e043b1988273cdac13ea29",
       "version_major": 2,
       "version_minor": 0
      },
      "text/plain": [
       "Iteration 38 in process:   0%|          | 0/101 [00:00<?, ?it/s]"
      ]
     },
     "metadata": {},
     "output_type": "display_data"
    },
    {
     "data": {
      "application/vnd.jupyter.widget-view+json": {
       "model_id": "f9541b8434c144d685ad607d572b55e6",
       "version_major": 2,
       "version_minor": 0
      },
      "text/plain": [
       "Iteration 39 in process:   0%|          | 0/101 [00:00<?, ?it/s]"
      ]
     },
     "metadata": {},
     "output_type": "display_data"
    },
    {
     "data": {
      "application/vnd.jupyter.widget-view+json": {
       "model_id": "27ab9f883020468aab58a23312d9b603",
       "version_major": 2,
       "version_minor": 0
      },
      "text/plain": [
       "Iteration 40 in process:   0%|          | 0/101 [00:00<?, ?it/s]"
      ]
     },
     "metadata": {},
     "output_type": "display_data"
    },
    {
     "data": {
      "application/vnd.jupyter.widget-view+json": {
       "model_id": "a9f9b023d1cb449ea5923656b27c227a",
       "version_major": 2,
       "version_minor": 0
      },
      "text/plain": [
       "Iteration 41 in process:   0%|          | 0/101 [00:00<?, ?it/s]"
      ]
     },
     "metadata": {},
     "output_type": "display_data"
    },
    {
     "data": {
      "application/vnd.jupyter.widget-view+json": {
       "model_id": "9a7a22001dd0444d82750988e80faa36",
       "version_major": 2,
       "version_minor": 0
      },
      "text/plain": [
       "Iteration 42 in process:   0%|          | 0/101 [00:00<?, ?it/s]"
      ]
     },
     "metadata": {},
     "output_type": "display_data"
    },
    {
     "data": {
      "application/vnd.jupyter.widget-view+json": {
       "model_id": "072657427b8749d38ce5cd9ef860d1ac",
       "version_major": 2,
       "version_minor": 0
      },
      "text/plain": [
       "Iteration 43 in process:   0%|          | 0/101 [00:00<?, ?it/s]"
      ]
     },
     "metadata": {},
     "output_type": "display_data"
    },
    {
     "data": {
      "application/vnd.jupyter.widget-view+json": {
       "model_id": "72db035a7c8144d7a349ed637265c729",
       "version_major": 2,
       "version_minor": 0
      },
      "text/plain": [
       "Iteration 44 in process:   0%|          | 0/101 [00:00<?, ?it/s]"
      ]
     },
     "metadata": {},
     "output_type": "display_data"
    },
    {
     "data": {
      "application/vnd.jupyter.widget-view+json": {
       "model_id": "96c3beed72b04bdcac227880e20b8cc9",
       "version_major": 2,
       "version_minor": 0
      },
      "text/plain": [
       "Iteration 45 in process:   0%|          | 0/101 [00:00<?, ?it/s]"
      ]
     },
     "metadata": {},
     "output_type": "display_data"
    },
    {
     "data": {
      "application/vnd.jupyter.widget-view+json": {
       "model_id": "6ab475212bdb4c53b9589c5fd4626f66",
       "version_major": 2,
       "version_minor": 0
      },
      "text/plain": [
       "Iteration 46 in process:   0%|          | 0/101 [00:00<?, ?it/s]"
      ]
     },
     "metadata": {},
     "output_type": "display_data"
    },
    {
     "data": {
      "application/vnd.jupyter.widget-view+json": {
       "model_id": "29a9c76a30114176b22075f74392538e",
       "version_major": 2,
       "version_minor": 0
      },
      "text/plain": [
       "Iteration 47 in process:   0%|          | 0/101 [00:00<?, ?it/s]"
      ]
     },
     "metadata": {},
     "output_type": "display_data"
    },
    {
     "data": {
      "application/vnd.jupyter.widget-view+json": {
       "model_id": "eccbe445271e469d973070a840e3e95f",
       "version_major": 2,
       "version_minor": 0
      },
      "text/plain": [
       "Iteration 48 in process:   0%|          | 0/101 [00:00<?, ?it/s]"
      ]
     },
     "metadata": {},
     "output_type": "display_data"
    },
    {
     "data": {
      "application/vnd.jupyter.widget-view+json": {
       "model_id": "d06ca823659a4f5e86961c9f4b07988a",
       "version_major": 2,
       "version_minor": 0
      },
      "text/plain": [
       "Iteration 49 in process:   0%|          | 0/101 [00:00<?, ?it/s]"
      ]
     },
     "metadata": {},
     "output_type": "display_data"
    },
    {
     "data": {
      "application/vnd.jupyter.widget-view+json": {
       "model_id": "9b9e86a8172543758d1cb08d622c97f8",
       "version_major": 2,
       "version_minor": 0
      },
      "text/plain": [
       "Iteration 50 in process:   0%|          | 0/101 [00:00<?, ?it/s]"
      ]
     },
     "metadata": {},
     "output_type": "display_data"
    },
    {
     "data": {
      "application/vnd.jupyter.widget-view+json": {
       "model_id": "9644eb9848724c7f985551ccd6699a14",
       "version_major": 2,
       "version_minor": 0
      },
      "text/plain": [
       "Iteration 51 in process:   0%|          | 0/101 [00:00<?, ?it/s]"
      ]
     },
     "metadata": {},
     "output_type": "display_data"
    },
    {
     "data": {
      "application/vnd.jupyter.widget-view+json": {
       "model_id": "6cc52c991682420b92c75fdd256c6901",
       "version_major": 2,
       "version_minor": 0
      },
      "text/plain": [
       "Iteration 52 in process:   0%|          | 0/101 [00:00<?, ?it/s]"
      ]
     },
     "metadata": {},
     "output_type": "display_data"
    },
    {
     "data": {
      "application/vnd.jupyter.widget-view+json": {
       "model_id": "c2a797d3ec6b48f098a062b9d9964587",
       "version_major": 2,
       "version_minor": 0
      },
      "text/plain": [
       "Iteration 53 in process:   0%|          | 0/101 [00:00<?, ?it/s]"
      ]
     },
     "metadata": {},
     "output_type": "display_data"
    },
    {
     "data": {
      "application/vnd.jupyter.widget-view+json": {
       "model_id": "d228285afe2b4c4495d1d58fed6781e2",
       "version_major": 2,
       "version_minor": 0
      },
      "text/plain": [
       "Iteration 54 in process:   0%|          | 0/101 [00:00<?, ?it/s]"
      ]
     },
     "metadata": {},
     "output_type": "display_data"
    },
    {
     "data": {
      "application/vnd.jupyter.widget-view+json": {
       "model_id": "02fdd4ad70a049c2a0f15c3950fae468",
       "version_major": 2,
       "version_minor": 0
      },
      "text/plain": [
       "Iteration 55 in process:   0%|          | 0/101 [00:00<?, ?it/s]"
      ]
     },
     "metadata": {},
     "output_type": "display_data"
    },
    {
     "data": {
      "application/vnd.jupyter.widget-view+json": {
       "model_id": "217ca1cb882c49c4a57920e208c603b8",
       "version_major": 2,
       "version_minor": 0
      },
      "text/plain": [
       "Iteration 56 in process:   0%|          | 0/101 [00:00<?, ?it/s]"
      ]
     },
     "metadata": {},
     "output_type": "display_data"
    },
    {
     "data": {
      "application/vnd.jupyter.widget-view+json": {
       "model_id": "6298980380ff43b298fd960b50b90767",
       "version_major": 2,
       "version_minor": 0
      },
      "text/plain": [
       "Iteration 57 in process:   0%|          | 0/101 [00:00<?, ?it/s]"
      ]
     },
     "metadata": {},
     "output_type": "display_data"
    },
    {
     "data": {
      "application/vnd.jupyter.widget-view+json": {
       "model_id": "14ae576865e34960ae7ed25ded1c5c7a",
       "version_major": 2,
       "version_minor": 0
      },
      "text/plain": [
       "Iteration 58 in process:   0%|          | 0/101 [00:00<?, ?it/s]"
      ]
     },
     "metadata": {},
     "output_type": "display_data"
    },
    {
     "data": {
      "application/vnd.jupyter.widget-view+json": {
       "model_id": "3c057c5dfa5b42dc85d3955abb9885c2",
       "version_major": 2,
       "version_minor": 0
      },
      "text/plain": [
       "Iteration 59 in process:   0%|          | 0/101 [00:00<?, ?it/s]"
      ]
     },
     "metadata": {},
     "output_type": "display_data"
    },
    {
     "data": {
      "application/vnd.jupyter.widget-view+json": {
       "model_id": "cb7f51a763054544af591a30bc0f250b",
       "version_major": 2,
       "version_minor": 0
      },
      "text/plain": [
       "Iteration 60 in process:   0%|          | 0/101 [00:00<?, ?it/s]"
      ]
     },
     "metadata": {},
     "output_type": "display_data"
    },
    {
     "data": {
      "application/vnd.jupyter.widget-view+json": {
       "model_id": "d41dd90ad2cc47d7a8334a50cfba22c9",
       "version_major": 2,
       "version_minor": 0
      },
      "text/plain": [
       "Iteration 61 in process:   0%|          | 0/101 [00:00<?, ?it/s]"
      ]
     },
     "metadata": {},
     "output_type": "display_data"
    },
    {
     "data": {
      "application/vnd.jupyter.widget-view+json": {
       "model_id": "4e6a03996c6447b7b4314c6cb2e84281",
       "version_major": 2,
       "version_minor": 0
      },
      "text/plain": [
       "Iteration 62 in process:   0%|          | 0/101 [00:00<?, ?it/s]"
      ]
     },
     "metadata": {},
     "output_type": "display_data"
    },
    {
     "data": {
      "application/vnd.jupyter.widget-view+json": {
       "model_id": "c6dc2505754d4e8b83c32679c343eedf",
       "version_major": 2,
       "version_minor": 0
      },
      "text/plain": [
       "Iteration 63 in process:   0%|          | 0/101 [00:00<?, ?it/s]"
      ]
     },
     "metadata": {},
     "output_type": "display_data"
    },
    {
     "data": {
      "application/vnd.jupyter.widget-view+json": {
       "model_id": "dea2a7e0a9214e4aaab32864513dad89",
       "version_major": 2,
       "version_minor": 0
      },
      "text/plain": [
       "Iteration 64 in process:   0%|          | 0/101 [00:00<?, ?it/s]"
      ]
     },
     "metadata": {},
     "output_type": "display_data"
    },
    {
     "data": {
      "application/vnd.jupyter.widget-view+json": {
       "model_id": "ca96fde197894b04a7f9bbfeff6d9505",
       "version_major": 2,
       "version_minor": 0
      },
      "text/plain": [
       "Iteration 65 in process:   0%|          | 0/101 [00:00<?, ?it/s]"
      ]
     },
     "metadata": {},
     "output_type": "display_data"
    },
    {
     "data": {
      "application/vnd.jupyter.widget-view+json": {
       "model_id": "dbe9aa0392f04a0c97cf63eb2e1f0642",
       "version_major": 2,
       "version_minor": 0
      },
      "text/plain": [
       "Iteration 66 in process:   0%|          | 0/101 [00:00<?, ?it/s]"
      ]
     },
     "metadata": {},
     "output_type": "display_data"
    },
    {
     "data": {
      "application/vnd.jupyter.widget-view+json": {
       "model_id": "7b42d2dcd9754f4a8015c6574b61f570",
       "version_major": 2,
       "version_minor": 0
      },
      "text/plain": [
       "Iteration 67 in process:   0%|          | 0/101 [00:00<?, ?it/s]"
      ]
     },
     "metadata": {},
     "output_type": "display_data"
    },
    {
     "data": {
      "application/vnd.jupyter.widget-view+json": {
       "model_id": "fbfed56818b546a3849cb62ee98bcec4",
       "version_major": 2,
       "version_minor": 0
      },
      "text/plain": [
       "Iteration 68 in process:   0%|          | 0/101 [00:00<?, ?it/s]"
      ]
     },
     "metadata": {},
     "output_type": "display_data"
    },
    {
     "data": {
      "application/vnd.jupyter.widget-view+json": {
       "model_id": "a244a6859a844b08a87b23bf6e0e99c7",
       "version_major": 2,
       "version_minor": 0
      },
      "text/plain": [
       "Iteration 69 in process:   0%|          | 0/101 [00:00<?, ?it/s]"
      ]
     },
     "metadata": {},
     "output_type": "display_data"
    },
    {
     "data": {
      "application/vnd.jupyter.widget-view+json": {
       "model_id": "2f9d400526aa4e6fa81592c202c0f931",
       "version_major": 2,
       "version_minor": 0
      },
      "text/plain": [
       "Iteration 70 in process:   0%|          | 0/101 [00:00<?, ?it/s]"
      ]
     },
     "metadata": {},
     "output_type": "display_data"
    },
    {
     "data": {
      "application/vnd.jupyter.widget-view+json": {
       "model_id": "041ffe3985904916a743461600ccd864",
       "version_major": 2,
       "version_minor": 0
      },
      "text/plain": [
       "Iteration 71 in process:   0%|          | 0/101 [00:00<?, ?it/s]"
      ]
     },
     "metadata": {},
     "output_type": "display_data"
    },
    {
     "data": {
      "application/vnd.jupyter.widget-view+json": {
       "model_id": "396e030e6d054f4092b746ab6cc6ba35",
       "version_major": 2,
       "version_minor": 0
      },
      "text/plain": [
       "Iteration 72 in process:   0%|          | 0/101 [00:00<?, ?it/s]"
      ]
     },
     "metadata": {},
     "output_type": "display_data"
    },
    {
     "data": {
      "application/vnd.jupyter.widget-view+json": {
       "model_id": "d6358e84e62345568b248f8b8aafd8a5",
       "version_major": 2,
       "version_minor": 0
      },
      "text/plain": [
       "Iteration 73 in process:   0%|          | 0/101 [00:00<?, ?it/s]"
      ]
     },
     "metadata": {},
     "output_type": "display_data"
    },
    {
     "data": {
      "application/vnd.jupyter.widget-view+json": {
       "model_id": "999b530446dc47ffb68e89f4cf2d24d1",
       "version_major": 2,
       "version_minor": 0
      },
      "text/plain": [
       "Iteration 74 in process:   0%|          | 0/101 [00:00<?, ?it/s]"
      ]
     },
     "metadata": {},
     "output_type": "display_data"
    },
    {
     "data": {
      "application/vnd.jupyter.widget-view+json": {
       "model_id": "9ca0e455a2774558856541f81351b83e",
       "version_major": 2,
       "version_minor": 0
      },
      "text/plain": [
       "Iteration 75 in process:   0%|          | 0/101 [00:00<?, ?it/s]"
      ]
     },
     "metadata": {},
     "output_type": "display_data"
    },
    {
     "data": {
      "application/vnd.jupyter.widget-view+json": {
       "model_id": "9c6963106abc46028c645f9d4cb0e3b7",
       "version_major": 2,
       "version_minor": 0
      },
      "text/plain": [
       "Iteration 76 in process:   0%|          | 0/101 [00:00<?, ?it/s]"
      ]
     },
     "metadata": {},
     "output_type": "display_data"
    },
    {
     "data": {
      "application/vnd.jupyter.widget-view+json": {
       "model_id": "ab660a60346c44d3ad809233b77b5128",
       "version_major": 2,
       "version_minor": 0
      },
      "text/plain": [
       "Iteration 77 in process:   0%|          | 0/101 [00:00<?, ?it/s]"
      ]
     },
     "metadata": {},
     "output_type": "display_data"
    },
    {
     "data": {
      "application/vnd.jupyter.widget-view+json": {
       "model_id": "044c4be738e34321a635b1b0001d2f12",
       "version_major": 2,
       "version_minor": 0
      },
      "text/plain": [
       "Iteration 78 in process:   0%|          | 0/101 [00:00<?, ?it/s]"
      ]
     },
     "metadata": {},
     "output_type": "display_data"
    },
    {
     "data": {
      "application/vnd.jupyter.widget-view+json": {
       "model_id": "54f66aad529742bbbe9d871fb6a8e1ef",
       "version_major": 2,
       "version_minor": 0
      },
      "text/plain": [
       "Iteration 79 in process:   0%|          | 0/101 [00:00<?, ?it/s]"
      ]
     },
     "metadata": {},
     "output_type": "display_data"
    },
    {
     "data": {
      "application/vnd.jupyter.widget-view+json": {
       "model_id": "3c593ea9738c4cb197deaac46bcc827b",
       "version_major": 2,
       "version_minor": 0
      },
      "text/plain": [
       "Iteration 80 in process:   0%|          | 0/101 [00:00<?, ?it/s]"
      ]
     },
     "metadata": {},
     "output_type": "display_data"
    },
    {
     "data": {
      "application/vnd.jupyter.widget-view+json": {
       "model_id": "bcf28db1bf8943f39f24f8cbba59cc40",
       "version_major": 2,
       "version_minor": 0
      },
      "text/plain": [
       "Iteration 81 in process:   0%|          | 0/101 [00:00<?, ?it/s]"
      ]
     },
     "metadata": {},
     "output_type": "display_data"
    },
    {
     "data": {
      "application/vnd.jupyter.widget-view+json": {
       "model_id": "03e95ebcf2cb485794c209ec0a12c41b",
       "version_major": 2,
       "version_minor": 0
      },
      "text/plain": [
       "Iteration 82 in process:   0%|          | 0/101 [00:00<?, ?it/s]"
      ]
     },
     "metadata": {},
     "output_type": "display_data"
    },
    {
     "data": {
      "application/vnd.jupyter.widget-view+json": {
       "model_id": "ae3ca937264348bfa416f5f3d5652336",
       "version_major": 2,
       "version_minor": 0
      },
      "text/plain": [
       "Iteration 83 in process:   0%|          | 0/101 [00:00<?, ?it/s]"
      ]
     },
     "metadata": {},
     "output_type": "display_data"
    },
    {
     "data": {
      "application/vnd.jupyter.widget-view+json": {
       "model_id": "5385cd1ab7194e15bec287dccb5d8a6d",
       "version_major": 2,
       "version_minor": 0
      },
      "text/plain": [
       "Iteration 84 in process:   0%|          | 0/101 [00:00<?, ?it/s]"
      ]
     },
     "metadata": {},
     "output_type": "display_data"
    },
    {
     "data": {
      "application/vnd.jupyter.widget-view+json": {
       "model_id": "639ff8a9bf5848298f72a69bb3439b04",
       "version_major": 2,
       "version_minor": 0
      },
      "text/plain": [
       "Iteration 85 in process:   0%|          | 0/101 [00:00<?, ?it/s]"
      ]
     },
     "metadata": {},
     "output_type": "display_data"
    },
    {
     "data": {
      "application/vnd.jupyter.widget-view+json": {
       "model_id": "7c3bf5ada64f449488d47ac58552e0a4",
       "version_major": 2,
       "version_minor": 0
      },
      "text/plain": [
       "Iteration 86 in process:   0%|          | 0/101 [00:00<?, ?it/s]"
      ]
     },
     "metadata": {},
     "output_type": "display_data"
    },
    {
     "data": {
      "application/vnd.jupyter.widget-view+json": {
       "model_id": "287d50138f62490e9deaad04e7a8630f",
       "version_major": 2,
       "version_minor": 0
      },
      "text/plain": [
       "Iteration 87 in process:   0%|          | 0/101 [00:00<?, ?it/s]"
      ]
     },
     "metadata": {},
     "output_type": "display_data"
    },
    {
     "data": {
      "application/vnd.jupyter.widget-view+json": {
       "model_id": "2c95ba2890de4927bc6bfd32b98fa545",
       "version_major": 2,
       "version_minor": 0
      },
      "text/plain": [
       "Iteration 88 in process:   0%|          | 0/101 [00:00<?, ?it/s]"
      ]
     },
     "metadata": {},
     "output_type": "display_data"
    },
    {
     "data": {
      "application/vnd.jupyter.widget-view+json": {
       "model_id": "4356168f26ce4a83b50be5442e25a7d8",
       "version_major": 2,
       "version_minor": 0
      },
      "text/plain": [
       "Iteration 89 in process:   0%|          | 0/101 [00:00<?, ?it/s]"
      ]
     },
     "metadata": {},
     "output_type": "display_data"
    },
    {
     "data": {
      "application/vnd.jupyter.widget-view+json": {
       "model_id": "46c73a4001f44a178cae02b5899b4d56",
       "version_major": 2,
       "version_minor": 0
      },
      "text/plain": [
       "Iteration 90 in process:   0%|          | 0/101 [00:00<?, ?it/s]"
      ]
     },
     "metadata": {},
     "output_type": "display_data"
    },
    {
     "data": {
      "application/vnd.jupyter.widget-view+json": {
       "model_id": "c665fc4221f447c6af0da5e3b028ac75",
       "version_major": 2,
       "version_minor": 0
      },
      "text/plain": [
       "Iteration 91 in process:   0%|          | 0/101 [00:00<?, ?it/s]"
      ]
     },
     "metadata": {},
     "output_type": "display_data"
    },
    {
     "data": {
      "application/vnd.jupyter.widget-view+json": {
       "model_id": "03c4c7b255484d79aab65927aac7e6be",
       "version_major": 2,
       "version_minor": 0
      },
      "text/plain": [
       "Iteration 92 in process:   0%|          | 0/101 [00:00<?, ?it/s]"
      ]
     },
     "metadata": {},
     "output_type": "display_data"
    },
    {
     "data": {
      "application/vnd.jupyter.widget-view+json": {
       "model_id": "0733accb5d94416797da8f739e055847",
       "version_major": 2,
       "version_minor": 0
      },
      "text/plain": [
       "Iteration 93 in process:   0%|          | 0/101 [00:00<?, ?it/s]"
      ]
     },
     "metadata": {},
     "output_type": "display_data"
    },
    {
     "data": {
      "application/vnd.jupyter.widget-view+json": {
       "model_id": "a96099d9ed544363b50c39afd2c80f57",
       "version_major": 2,
       "version_minor": 0
      },
      "text/plain": [
       "Iteration 94 in process:   0%|          | 0/101 [00:00<?, ?it/s]"
      ]
     },
     "metadata": {},
     "output_type": "display_data"
    },
    {
     "data": {
      "application/vnd.jupyter.widget-view+json": {
       "model_id": "046225a8eb144c7d86f0297bac89ddd7",
       "version_major": 2,
       "version_minor": 0
      },
      "text/plain": [
       "Iteration 95 in process:   0%|          | 0/101 [00:00<?, ?it/s]"
      ]
     },
     "metadata": {},
     "output_type": "display_data"
    },
    {
     "data": {
      "application/vnd.jupyter.widget-view+json": {
       "model_id": "68b72479821a406ba7f8d91839e4759a",
       "version_major": 2,
       "version_minor": 0
      },
      "text/plain": [
       "Iteration 96 in process:   0%|          | 0/101 [00:00<?, ?it/s]"
      ]
     },
     "metadata": {},
     "output_type": "display_data"
    },
    {
     "data": {
      "application/vnd.jupyter.widget-view+json": {
       "model_id": "67714b8eee204b31a19789129f49466a",
       "version_major": 2,
       "version_minor": 0
      },
      "text/plain": [
       "Iteration 97 in process:   0%|          | 0/101 [00:00<?, ?it/s]"
      ]
     },
     "metadata": {},
     "output_type": "display_data"
    },
    {
     "data": {
      "application/vnd.jupyter.widget-view+json": {
       "model_id": "99b13ee1501c440899986c40ea36eea2",
       "version_major": 2,
       "version_minor": 0
      },
      "text/plain": [
       "Iteration 98 in process:   0%|          | 0/101 [00:00<?, ?it/s]"
      ]
     },
     "metadata": {},
     "output_type": "display_data"
    },
    {
     "data": {
      "application/vnd.jupyter.widget-view+json": {
       "model_id": "d4860fd7b8424f3d826f284107de28e6",
       "version_major": 2,
       "version_minor": 0
      },
      "text/plain": [
       "Iteration 99 in process:   0%|          | 0/101 [00:00<?, ?it/s]"
      ]
     },
     "metadata": {},
     "output_type": "display_data"
    },
    {
     "data": {
      "application/vnd.jupyter.widget-view+json": {
       "model_id": "6cb89effb1324330a028579c33b694b8",
       "version_major": 2,
       "version_minor": 0
      },
      "text/plain": [
       "Iteration 100 in process:   0%|          | 0/101 [00:00<?, ?it/s]"
      ]
     },
     "metadata": {},
     "output_type": "display_data"
    }
   ],
   "source": [
    "pbar_outer = tqdm_notebook(total=simulation_configuration.num_epochs, desc=\"Running Simulation\")\n",
    "for epoch in range(simulation_configuration.num_epochs):\n",
    "    SimFunctions.SimFunctionsInit(Calendar)\n",
    "    leukemia_doctor_1_patients = initialize_patients(leukemia_doctor_1_patient_arrival_times, \"leukemia_doctor_1\", Calendar)\n",
    "    leukemia_doctor_2_patients = initialize_patients(leukemia_doctor_2_patient_arrival_times, \"leukemia_doctor_2\", Calendar)\n",
    "    transplant_doctor_1_patients = initialize_patients(transplant_doctor_1_patient_arrival_times, \"transplant_doctor_1\", Calendar)\n",
    "    transplant_doctor_2_patients = initialize_patients(transplant_doctor_2_patient_arrival_times, \"transplant_doctor_2\", Calendar)\n",
    "    transplant_doctor_3_patients = initialize_patients(transplant_doctor_3_patient_arrival_times, \"transplant_doctor_3\", Calendar)\n",
    "    other_patients = initialize_patients(other_patients_arrival_times, \"other\", Calendar)\n",
    "    list_of_patients = [leukemia_doctor_1_patients, leukemia_doctor_2_patients, transplant_doctor_1_patients, transplant_doctor_2_patients, transplant_doctor_3_patients, other_patients]\n",
    "    \n",
    "    pbar_inner = tqdm_notebook(total=Calendar.N(), desc=f\"Iteration {epoch + 1} in process\", leave=False)\n",
    "    while Calendar.N() > 0 and not all_left_department(list_of_patients):\n",
    "        NextEvent = Calendar.Remove()\n",
    "        SimClasses.Clock = NextEvent.EventTime\n",
    "\n",
    "        if NextEvent.EventType == \"q_flow_station_start_of_waiting\":\n",
    "            q_flow_station_queue_length.append(q_flow_station_queue.NumQueue())\n",
    "            q_flow_station_start_of_waiting(NextEvent.WhichObject)\n",
    "        \n",
    "        elif NextEvent.EventType == \"q_flow_station_service_start\":\n",
    "            q_flow_station_service_start(NextEvent.WhichObject)\n",
    "        \n",
    "        elif NextEvent.EventType == \"q_flow_station_service_end\":\n",
    "            q_flow_station_service_end(NextEvent.WhichObject)\n",
    "        \n",
    "        elif NextEvent.EventType == \"secretary_station_start_of_waiting\":\n",
    "            secretary_station_queue_length.append(secretary_station_queue.NumQueue())\n",
    "            secretary_station_start_of_waiting(NextEvent.WhichObject)\n",
    "        \n",
    "        elif NextEvent.EventType == \"secretary_station_service_start\":\n",
    "            secretary_station_service_start(NextEvent.WhichObject)\n",
    "        \n",
    "        elif NextEvent.EventType == \"secretary_station_service_end\":\n",
    "            secretary_station_service_end(NextEvent.WhichObject)\n",
    "        \n",
    "        elif NextEvent.EventType == \"nurse_station_1_start_of_waiting\":\n",
    "            nurse_station_1_queue_length.append(nurse_station_1_queue.NumQueue())\n",
    "            nurse_station_1_start_of_waiting(NextEvent.WhichObject)\n",
    "        \n",
    "        elif NextEvent.EventType == \"nurse_station_1_service_start\":\n",
    "            nurse_station_1_service_start(NextEvent.WhichObject)\n",
    "        \n",
    "        elif NextEvent.EventType == \"nurse_station_1_service_end\":\n",
    "            nurse_station_1_service_end(NextEvent.WhichObject)\n",
    "        \n",
    "        elif NextEvent.EventType == \"nurse_station_2_start_of_waiting\":\n",
    "            nurse_station_2_queue_length.append(nurse_station_2_queue.NumQueue())\n",
    "            nurse_station_2_start_of_waiting(NextEvent.WhichObject)\n",
    "        \n",
    "        elif NextEvent.EventType == \"nurse_station_2_service_start\":\n",
    "            nurse_station_2_service_start(NextEvent.WhichObject)\n",
    "        \n",
    "        elif NextEvent.EventType == \"nurse_station_2_service_end\":\n",
    "            nurse_station_2_service_end(NextEvent.WhichObject)\n",
    "        \n",
    "        elif NextEvent.EventType == \"nurse_station_3_start_of_waiting\":\n",
    "            nurse_station_3_queue_length.append(nurse_station_3_queue.NumQueue())\n",
    "            nurse_station_3_start_of_waiting(NextEvent.WhichObject)\n",
    "        \n",
    "        elif NextEvent.EventType == \"nurse_station_3_service_start\":\n",
    "            nurse_station_3_service_start(NextEvent.WhichObject)\n",
    "        \n",
    "        elif NextEvent.EventType == \"nurse_station_3_service_end\":\n",
    "            nurse_station_3_service_end(NextEvent.WhichObject)\n",
    "        \n",
    "        elif NextEvent.EventType == \"nurse_station_4_start_of_waiting\":\n",
    "            nurse_station_4_queue_length.append(nurse_station_4_queue.NumQueue())\n",
    "            nurse_station_4_start_of_waiting(NextEvent.WhichObject)\n",
    "        \n",
    "        elif NextEvent.EventType == \"nurse_station_4_service_start\":\n",
    "            nurse_station_4_service_start(NextEvent.WhichObject)\n",
    "        \n",
    "        elif NextEvent.EventType == \"nurse_station_4_service_end\":\n",
    "            nurse_station_4_service_end(NextEvent.WhichObject)\n",
    "        \n",
    "        elif NextEvent.EventType == \"nurse_station_5_start_of_waiting\":\n",
    "            nurse_station_5_queue_length.append(nurse_station_5_queue.NumQueue())\n",
    "            nurse_station_5_start_of_waiting(NextEvent.WhichObject)\n",
    "        \n",
    "        elif NextEvent.EventType == \"nurse_station_5_service_start\":\n",
    "            nurse_station_5_service_start(NextEvent.WhichObject)\n",
    "        \n",
    "        elif NextEvent.EventType == \"nurse_station_5_service_end\":\n",
    "            nurse_station_5_service_end(NextEvent.WhichObject)\n",
    "        \n",
    "        elif NextEvent.EventType == \"nurse_station_6_start_of_waiting\":\n",
    "            nurse_station_6_queue_length.append(nurse_station_6_queue.NumQueue())\n",
    "            nurse_station_6_start_of_waiting(NextEvent.WhichObject)\n",
    "        \n",
    "        elif NextEvent.EventType == \"nurse_station_6_service_start\":\n",
    "            nurse_station_6_service_start(NextEvent.WhichObject)\n",
    "        \n",
    "        elif NextEvent.EventType == \"nurse_station_6_service_end\":\n",
    "            nurse_station_6_service_end(NextEvent.WhichObject)\n",
    "        \n",
    "        elif NextEvent.EventType == \"leukemia_doctor_1_start_of_waiting\":\n",
    "            leukemia_doctor_1_queue_length.append(leukemia_doctor_1_queue.NumQueue())\n",
    "            leukemia_doctor_1_start_of_waiting(NextEvent.WhichObject)   \n",
    "\n",
    "        elif NextEvent.EventType == \"leukemia_doctor_1_service_start\":\n",
    "            leukemia_doctor_1_service_start(NextEvent.WhichObject)\n",
    "        \n",
    "        elif NextEvent.EventType == \"leukemia_doctor_1_service_end\":\n",
    "            leukemia_doctor_1_service_end(NextEvent.WhichObject)\n",
    "        \n",
    "        elif NextEvent.EventType == \"leukemia_doctor_2_start_of_waiting\":\n",
    "            leukemia_doctor_2_queue_length.append(leukemia_doctor_2_queue.NumQueue())\n",
    "            leukemia_doctor_2_start_of_waiting(NextEvent.WhichObject)\n",
    "        \n",
    "        elif NextEvent.EventType == \"leukemia_doctor_2_service_start\":\n",
    "            leukemia_doctor_2_service_start(NextEvent.WhichObject)\n",
    "        \n",
    "        elif NextEvent.EventType == \"leukemia_doctor_2_service_end\":\n",
    "            leukemia_doctor_2_service_end(NextEvent.WhichObject)\n",
    "        \n",
    "        elif NextEvent.EventType == \"transplant_doctor_1_start_of_waiting\":\n",
    "            transplant_doctor_1_queue_length.append(transplant_doctor_1_queue.NumQueue())\n",
    "            transplant_doctor_1_start_of_waiting(NextEvent.WhichObject)\n",
    "        \n",
    "        elif NextEvent.EventType == \"transplant_doctor_1_service_start\":\n",
    "            transplant_doctor_1_service_start(NextEvent.WhichObject)\n",
    "        \n",
    "        elif NextEvent.EventType == \"transplant_doctor_1_service_end\":\n",
    "            transplant_doctor_1_service_end(NextEvent.WhichObject)\n",
    "        \n",
    "        elif NextEvent.EventType == \"transplant_doctor_2_start_of_waiting\":\n",
    "            transplant_doctor_2_queue_length.append(transplant_doctor_2_queue.NumQueue())\n",
    "            transplant_doctor_2_start_of_waiting(NextEvent.WhichObject)\n",
    "        \n",
    "        elif NextEvent.EventType == \"transplant_doctor_2_service_start\":\n",
    "            transplant_doctor_2_service_start(NextEvent.WhichObject)\n",
    "        \n",
    "        elif NextEvent.EventType == \"transplant_doctor_2_service_end\":\n",
    "            transplant_doctor_2_service_end(NextEvent.WhichObject)\n",
    "        \n",
    "        elif NextEvent.EventType == \"transplant_doctor_3_start_of_waiting\":\n",
    "            transplant_doctor_3_queue_length.append(transplant_doctor_3_queue.NumQueue())\n",
    "            transplant_doctor_3_start_of_waiting(NextEvent.WhichObject)\n",
    "        \n",
    "        elif NextEvent.EventType == \"transplant_doctor_3_service_start\":\n",
    "            transplant_doctor_3_service_start(NextEvent.WhichObject)\n",
    "        \n",
    "        elif NextEvent.EventType == \"transplant_doctor_3_service_end\":\n",
    "            transplant_doctor_3_service_end(NextEvent.WhichObject)\n",
    "        \n",
    "        elif NextEvent.EventType == \"process_complete\" or NextEvent.EventType == \"other_start_of_waiting\":\n",
    "            #here the process ends for the other patients\n",
    "            process_complete(NextEvent.WhichObject)\n",
    "        else:\n",
    "            logging.info(NextEvent.EventType)\n",
    "            logging.error(\"Unknown event type\")\n",
    "            raise ValueError(f\"Unknown event type: {NextEvent.EventType}\")\n",
    "\n",
    "        pbar_inner.update(1)\n",
    "    pbar_inner.close()\n",
    "\n",
    "    #storing statistics from all DTStat objects\n",
    "    q_flow_station_wait_time_avg.append(q_flow_station_wait_time.Mean())\n",
    "    secretary_station_wait_time_avg.append(secretary_station_wait_time.Mean())\n",
    "    nurse_station_1_wait_time_avg.append(nurse_station_1_wait_time.Mean())\n",
    "    nurse_station_2_wait_time_avg.append(nurse_station_2_wait_time.Mean())\n",
    "    nurse_station_3_wait_time_avg.append(nurse_station_3_wait_time.Mean())\n",
    "    nurse_station_4_wait_time_avg.append(nurse_station_4_wait_time.Mean())\n",
    "    nurse_station_5_wait_time_avg.append(nurse_station_5_wait_time.Mean())\n",
    "    nurse_station_6_wait_time_avg.append(nurse_station_6_wait_time.Mean())\n",
    "    leukemia_doctor_1_wait_time_avg.append(leukemia_doctor_1_wait_time.Mean())\n",
    "    leukemia_doctor_2_wait_time_avg.append(leukemia_doctor_2_wait_time.Mean())\n",
    "    transplant_doctor_1_wait_time_avg.append(transplant_doctor_1_wait_time.Mean())\n",
    "    transplant_doctor_2_wait_time_avg.append(transplant_doctor_2_wait_time.Mean())\n",
    "    transplant_doctor_3_wait_time_avg.append(transplant_doctor_3_wait_time.Mean())\n",
    "\n",
    "    leukemia_doctor_1_complex_patients_total_processing_time_avg.append(leukemia_doctor_1_complex_patients_total_processing_time.Mean())\n",
    "    leukemia_doctor_1_regular_patients_total_processing_time_avg.append(leukemia_doctor_1_regular_patients_total_processing_time.Mean())\n",
    "    leukemia_doctor_2_complex_patients_total_processing_time_avg.append(leukemia_doctor_2_complex_patients_total_processing_time.Mean())\n",
    "    leukemia_doctor_2_regular_patients_total_processing_time_avg.append(leukemia_doctor_2_regular_patients_total_processing_time.Mean())\n",
    "    transplant_doctor_1_complex_patients_total_processing_time_avg.append(transplant_doctor_1_complex_patients_total_processing_time.Mean())\n",
    "    transplant_doctor_1_regular_patients_total_processing_time_avg.append(transplant_doctor_1_regular_patients_total_processing_time.Mean())\n",
    "    transplant_doctor_2_complex_patients_total_processing_time_avg.append(transplant_doctor_2_complex_patients_total_processing_time.Mean())\n",
    "    transplant_doctor_2_regular_patients_total_processing_time_avg.append(transplant_doctor_2_regular_patients_total_processing_time.Mean())\n",
    "    transplant_doctor_3_complex_patients_total_processing_time_avg.append(transplant_doctor_3_complex_patients_total_processing_time.Mean())\n",
    "    transplant_doctor_3_regular_patients_total_processing_time_avg.append(transplant_doctor_3_regular_patients_total_processing_time.Mean())\n",
    "    other_patients_total_processing_time_avg.append(other_patients_total_processing_time.Mean())\n",
    "\n",
    "    q_flow_station_queue_length_avg.append(q_flow_station_queue.Mean())\n",
    "    secretary_station_queue_length_avg.append(secretary_station_queue.Mean())\n",
    "    nurse_station_1_queue_length_avg.append(nurse_station_1_queue.Mean())\n",
    "    nurse_station_2_queue_length_avg.append(nurse_station_2_queue.Mean())\n",
    "    nurse_station_3_queue_length_avg.append(nurse_station_3_queue.Mean())\n",
    "    nurse_station_4_queue_length_avg.append(nurse_station_4_queue.Mean())\n",
    "    nurse_station_5_queue_length_avg.append(nurse_station_5_queue.Mean())\n",
    "    nurse_station_6_queue_length_avg.append(nurse_station_6_queue.Mean())\n",
    "    leukemia_doctor_1_queue_length_avg.append(leukemia_doctor_1_queue.Mean())\n",
    "    leukemia_doctor_2_queue_length_avg.append(leukemia_doctor_2_queue.Mean())\n",
    "    transplant_doctor_1_queue_length_avg.append(transplant_doctor_1_queue.Mean())\n",
    "    transplant_doctor_2_queue_length_avg.append(transplant_doctor_2_queue.Mean())\n",
    "    transplant_doctor_3_queue_length_avg.append(transplant_doctor_3_queue.Mean())\n",
    "\n",
    "    q_flow_station_busy_avg.append(q_flow_station.CurrentNumBusy)\n",
    "    secretary_station_busy_avg.append(secretary_station.CurrentNumBusy)\n",
    "    nurse_station_1_busy_avg.append(nurse_station_1.CurrentNumBusy)\n",
    "    nurse_station_2_busy_avg.append(nurse_station_2.CurrentNumBusy)\n",
    "    nurse_station_3_busy_avg.append(nurse_station_3.CurrentNumBusy)\n",
    "    nurse_station_4_busy_avg.append(nurse_station_4.CurrentNumBusy)\n",
    "    nurse_station_5_busy_avg.append(nurse_station_5.CurrentNumBusy)\n",
    "    nurse_station_6_busy_avg.append(nurse_station_6.CurrentNumBusy)\n",
    "    leukemia_doctor_1_busy_avg.append(leukemia_doctor_1.CurrentNumBusy)\n",
    "    leukemia_doctor_2_busy_avg.append(leukemia_doctor_2.CurrentNumBusy)\n",
    "    transplant_doctor_1_busy_avg.append(transplant_doctor_1.CurrentNumBusy)\n",
    "    transplant_doctor_2_busy_avg.append(transplant_doctor_2.CurrentNumBusy)\n",
    "    transplant_doctor_3_busy_avg.append(transplant_doctor_3.CurrentNumBusy)\n",
    "\n",
    "    pbar_outer.set_description(f\"Running Simulation - {epoch+1}/{simulation_configuration.num_epochs}\")\n",
    "    pbar_outer.update(1)\n",
    "\n",
    "pbar_outer.close()\n",
    "logging.info(\"Simulation completed\")"
   ]
  },
  {
   "cell_type": "code",
   "execution_count": 27,
   "id": "8aa521aeb4628c98",
   "metadata": {
    "ExecuteTime": {
     "end_time": "2024-03-30T23:31:46.696219Z",
     "start_time": "2024-03-30T23:31:46.637969Z"
    },
    "collapsed": false
   },
   "outputs": [
    {
     "name": "stdout",
     "output_type": "stream",
     "text": [
      "Simulation Results Saved to results_directory/simulation_multi_queue/results_df.csv\n",
      "**********************************************************************************\n",
      "Means of the simulation results:\n",
      "q_flow_station_wait_time_avg                                      199.427283\n",
      "q_flow_station_queue_length_avg                                     0.019261\n",
      "q_flow_station_busy_avg                                             0.000000\n",
      "secretary_station_wait_time_avg                                   200.034115\n",
      "secretary_station_queue_length_avg                                  0.026807\n",
      "secretary_station_busy_avg                                          0.000000\n",
      "nurse_station_1_wait_time_avg                                      67.543973\n",
      "nurse_station_1_queue_length_avg                                    7.569388\n",
      "nurse_station_1_busy_avg                                            1.000000\n",
      "nurse_station_2_wait_time_avg                                      77.989013\n",
      "nurse_station_2_queue_length_avg                                    4.562161\n",
      "nurse_station_2_busy_avg                                            1.000000\n",
      "nurse_station_3_wait_time_avg                                      92.138253\n",
      "nurse_station_3_queue_length_avg                                    2.982631\n",
      "nurse_station_3_busy_avg                                            1.000000\n",
      "nurse_station_4_wait_time_avg                                      64.683115\n",
      "nurse_station_4_queue_length_avg                                    9.608124\n",
      "nurse_station_4_busy_avg                                            1.000000\n",
      "nurse_station_5_wait_time_avg                                      62.317645\n",
      "nurse_station_5_queue_length_avg                                    9.419172\n",
      "nurse_station_5_busy_avg                                            1.000000\n",
      "nurse_station_6_wait_time_avg                                      84.555800\n",
      "nurse_station_6_queue_length_avg                                    3.641617\n",
      "nurse_station_6_busy_avg                                            1.000000\n",
      "leukemia_doctor_1_wait_time_avg                                    80.855084\n",
      "leukemia_doctor_1_queue_length_avg                                  1.434176\n",
      "leukemia_doctor_1_busy_avg                                          1.000000\n",
      "leukemia_doctor_2_wait_time_avg                                    88.274280\n",
      "leukemia_doctor_2_queue_length_avg                                  1.120225\n",
      "leukemia_doctor_2_busy_avg                                          0.990000\n",
      "transplant_doctor_1_wait_time_avg                                  71.561444\n",
      "transplant_doctor_1_queue_length_avg                                0.179029\n",
      "transplant_doctor_1_busy_avg                                        0.800000\n",
      "transplant_doctor_2_wait_time_avg                                  73.920361\n",
      "transplant_doctor_2_queue_length_avg                                0.186553\n",
      "transplant_doctor_2_busy_avg                                        0.840000\n",
      "transplant_doctor_3_wait_time_avg                                  67.630596\n",
      "transplant_doctor_3_queue_length_avg                                0.210133\n",
      "transplant_doctor_3_busy_avg                                        0.790000\n",
      "other_patients_total_processing_time_avg                            8.350934\n",
      "leukemia_doctor_1_complex_patients_total_processing_time_avg       40.438415\n",
      "leukemia_doctor_1_regular_patients_total_processing_time_avg       24.648769\n",
      "leukemia_doctor_2_complex_patients_total_processing_time_avg       23.074945\n",
      "leukemia_doctor_2_regular_patients_total_processing_time_avg       24.925179\n",
      "transplant_doctor_1_complex_patients_total_processing_time_avg      4.514339\n",
      "transplant_doctor_1_regular_patients_total_processing_time_avg     32.964985\n",
      "transplant_doctor_2_complex_patients_total_processing_time_avg     24.083301\n",
      "transplant_doctor_2_regular_patients_total_processing_time_avg     32.482383\n",
      "transplant_doctor_3_complex_patients_total_processing_time_avg      6.247107\n",
      "transplant_doctor_3_regular_patients_total_processing_time_avg     27.537502\n",
      "dtype: float64\n",
      "**********************************************************************************\n",
      "99% Confidence Intervals Half-Width\n",
      "q_flow_station_wait_time_avg                                       0.258293\n",
      "q_flow_station_queue_length_avg                                    0.002702\n",
      "q_flow_station_busy_avg                                            0.000000\n",
      "secretary_station_wait_time_avg                                    0.259521\n",
      "secretary_station_queue_length_avg                                 0.004742\n",
      "secretary_station_busy_avg                                         0.000000\n",
      "nurse_station_1_wait_time_avg                                      5.082720\n",
      "nurse_station_1_queue_length_avg                                   0.553533\n",
      "nurse_station_1_busy_avg                                           0.000000\n",
      "nurse_station_2_wait_time_avg                                      6.787726\n",
      "nurse_station_2_queue_length_avg                                   0.418773\n",
      "nurse_station_2_busy_avg                                           0.000000\n",
      "nurse_station_3_wait_time_avg                                      9.833363\n",
      "nurse_station_3_queue_length_avg                                   0.370695\n",
      "nurse_station_3_busy_avg                                           0.000000\n",
      "nurse_station_4_wait_time_avg                                      3.808383\n",
      "nurse_station_4_queue_length_avg                                   0.570901\n",
      "nurse_station_4_busy_avg                                           0.000000\n",
      "nurse_station_5_wait_time_avg                                      3.870879\n",
      "nurse_station_5_queue_length_avg                                   0.551696\n",
      "nurse_station_5_busy_avg                                           0.000000\n",
      "nurse_station_6_wait_time_avg                                      9.314434\n",
      "nurse_station_6_queue_length_avg                                   0.386406\n",
      "nurse_station_6_busy_avg                                           0.000000\n",
      "leukemia_doctor_1_wait_time_avg                                    8.384987\n",
      "leukemia_doctor_1_queue_length_avg                                 0.196937\n",
      "leukemia_doctor_1_busy_avg                                         0.000000\n",
      "leukemia_doctor_2_wait_time_avg                                   11.032590\n",
      "leukemia_doctor_2_queue_length_avg                                 0.230519\n",
      "leukemia_doctor_2_busy_avg                                         0.026264\n",
      "transplant_doctor_1_wait_time_avg                                 12.262637\n",
      "transplant_doctor_1_queue_length_avg                               0.081971\n",
      "transplant_doctor_1_busy_avg                                       0.105585\n",
      "transplant_doctor_2_wait_time_avg                                 11.638829\n",
      "transplant_doctor_2_queue_length_avg                               0.091216\n",
      "transplant_doctor_2_busy_avg                                       0.096771\n",
      "transplant_doctor_3_wait_time_avg                                 11.791207\n",
      "transplant_doctor_3_queue_length_avg                               0.085961\n",
      "transplant_doctor_3_busy_avg                                       0.107515\n",
      "other_patients_total_processing_time_avg                           1.554868\n",
      "leukemia_doctor_1_complex_patients_total_processing_time_avg      10.281599\n",
      "leukemia_doctor_1_regular_patients_total_processing_time_avg       3.994716\n",
      "leukemia_doctor_2_complex_patients_total_processing_time_avg       9.197278\n",
      "leukemia_doctor_2_regular_patients_total_processing_time_avg       4.435149\n",
      "transplant_doctor_1_complex_patients_total_processing_time_avg     4.738502\n",
      "transplant_doctor_1_regular_patients_total_processing_time_avg     7.718048\n",
      "transplant_doctor_2_complex_patients_total_processing_time_avg    12.599966\n",
      "transplant_doctor_2_regular_patients_total_processing_time_avg     7.706505\n",
      "transplant_doctor_3_complex_patients_total_processing_time_avg     8.704684\n",
      "transplant_doctor_3_regular_patients_total_processing_time_avg     5.642568\n",
      "dtype: float64\n",
      "**********************************************************************************\n",
      "Error:\n",
      "q_flow_station_wait_time_avg                                      0.001295\n",
      "q_flow_station_queue_length_avg                                   0.140266\n",
      "q_flow_station_busy_avg                                                NaN\n",
      "secretary_station_wait_time_avg                                   0.001297\n",
      "secretary_station_queue_length_avg                                0.176882\n",
      "secretary_station_busy_avg                                             NaN\n",
      "nurse_station_1_wait_time_avg                                     0.075251\n",
      "nurse_station_1_queue_length_avg                                  0.073128\n",
      "nurse_station_1_busy_avg                                          0.000000\n",
      "nurse_station_2_wait_time_avg                                     0.087034\n",
      "nurse_station_2_queue_length_avg                                  0.091793\n",
      "nurse_station_2_busy_avg                                          0.000000\n",
      "nurse_station_3_wait_time_avg                                     0.106724\n",
      "nurse_station_3_queue_length_avg                                  0.124285\n",
      "nurse_station_3_busy_avg                                          0.000000\n",
      "nurse_station_4_wait_time_avg                                     0.058878\n",
      "nurse_station_4_queue_length_avg                                  0.059419\n",
      "nurse_station_4_busy_avg                                          0.000000\n",
      "nurse_station_5_wait_time_avg                                     0.062115\n",
      "nurse_station_5_queue_length_avg                                  0.058572\n",
      "nurse_station_5_busy_avg                                          0.000000\n",
      "nurse_station_6_wait_time_avg                                     0.110157\n",
      "nurse_station_6_queue_length_avg                                  0.106108\n",
      "nurse_station_6_busy_avg                                          0.000000\n",
      "leukemia_doctor_1_wait_time_avg                                   0.103704\n",
      "leukemia_doctor_1_queue_length_avg                                0.137317\n",
      "leukemia_doctor_1_busy_avg                                        0.000000\n",
      "leukemia_doctor_2_wait_time_avg                                   0.124981\n",
      "leukemia_doctor_2_queue_length_avg                                0.205779\n",
      "leukemia_doctor_2_busy_avg                                        0.026529\n",
      "transplant_doctor_1_wait_time_avg                                 0.171358\n",
      "transplant_doctor_1_queue_length_avg                              0.457861\n",
      "transplant_doctor_1_busy_avg                                      0.131982\n",
      "transplant_doctor_2_wait_time_avg                                 0.157451\n",
      "transplant_doctor_2_queue_length_avg                              0.488954\n",
      "transplant_doctor_2_busy_avg                                      0.115203\n",
      "transplant_doctor_3_wait_time_avg                                 0.174347\n",
      "transplant_doctor_3_queue_length_avg                              0.409077\n",
      "transplant_doctor_3_busy_avg                                      0.136094\n",
      "other_patients_total_processing_time_avg                          0.186191\n",
      "leukemia_doctor_1_complex_patients_total_processing_time_avg      0.254253\n",
      "leukemia_doctor_1_regular_patients_total_processing_time_avg      0.162066\n",
      "leukemia_doctor_2_complex_patients_total_processing_time_avg      0.398583\n",
      "leukemia_doctor_2_regular_patients_total_processing_time_avg      0.177939\n",
      "transplant_doctor_1_complex_patients_total_processing_time_avg    1.049656\n",
      "transplant_doctor_1_regular_patients_total_processing_time_avg    0.234129\n",
      "transplant_doctor_2_complex_patients_total_processing_time_avg    0.523183\n",
      "transplant_doctor_2_regular_patients_total_processing_time_avg    0.237252\n",
      "transplant_doctor_3_complex_patients_total_processing_time_avg    1.393394\n",
      "transplant_doctor_3_regular_patients_total_processing_time_avg    0.204905\n",
      "dtype: float64\n",
      "**********************************************************************************\n",
      "Number of epochs required for 99% confidence, half-width 5 minutes for all measures:\n",
      "5.147456791403709\n",
      "Number of epochs required for 99% confidence, half-width 10 minutes for all measures:\n",
      "1.5875914047927502\n"
     ]
    }
   ],
   "source": [
    "logging.info(\"Saving Simulation Results\")\n",
    "results_df = pd.DataFrame({\n",
    "    \"q_flow_station_wait_time_avg\": q_flow_station_wait_time_avg,\n",
    "    \"q_flow_station_queue_length_avg\": q_flow_station_queue_length_avg,\n",
    "    \"q_flow_station_busy_avg\": q_flow_station_busy_avg,\n",
    "    \"secretary_station_wait_time_avg\": secretary_station_wait_time_avg,\n",
    "    \"secretary_station_queue_length_avg\": secretary_station_queue_length_avg,\n",
    "    \"secretary_station_busy_avg\": secretary_station_busy_avg,\n",
    "    \"nurse_station_1_wait_time_avg\": nurse_station_1_wait_time_avg,\n",
    "    \"nurse_station_1_queue_length_avg\": nurse_station_1_queue_length_avg,\n",
    "    \"nurse_station_1_busy_avg\": nurse_station_1_busy_avg,\n",
    "    \"nurse_station_2_wait_time_avg\": nurse_station_2_wait_time_avg,\n",
    "    \"nurse_station_2_queue_length_avg\": nurse_station_2_queue_length_avg,\n",
    "    \"nurse_station_2_busy_avg\": nurse_station_2_busy_avg,\n",
    "    \"nurse_station_3_wait_time_avg\": nurse_station_3_wait_time_avg,\n",
    "    \"nurse_station_3_queue_length_avg\": nurse_station_3_queue_length_avg,\n",
    "    \"nurse_station_3_busy_avg\": nurse_station_3_busy_avg,\n",
    "    \"nurse_station_4_wait_time_avg\": nurse_station_4_wait_time_avg,\n",
    "    \"nurse_station_4_queue_length_avg\": nurse_station_4_queue_length_avg,\n",
    "    \"nurse_station_4_busy_avg\": nurse_station_4_busy_avg,\n",
    "    \"nurse_station_5_wait_time_avg\": nurse_station_5_wait_time_avg,\n",
    "    \"nurse_station_5_queue_length_avg\": nurse_station_5_queue_length_avg,\n",
    "    \"nurse_station_5_busy_avg\": nurse_station_5_busy_avg,\n",
    "    \"nurse_station_6_wait_time_avg\": nurse_station_6_wait_time_avg,\n",
    "    \"nurse_station_6_queue_length_avg\": nurse_station_6_queue_length_avg,\n",
    "    \"nurse_station_6_busy_avg\": nurse_station_6_busy_avg,\n",
    "    \"leukemia_doctor_1_wait_time_avg\": leukemia_doctor_1_wait_time_avg,\n",
    "    \"leukemia_doctor_1_queue_length_avg\": leukemia_doctor_1_queue_length_avg,\n",
    "    \"leukemia_doctor_1_busy_avg\": leukemia_doctor_1_busy_avg,\n",
    "    \"leukemia_doctor_2_wait_time_avg\": leukemia_doctor_2_wait_time_avg,\n",
    "    \"leukemia_doctor_2_queue_length_avg\": leukemia_doctor_2_queue_length_avg,\n",
    "    \"leukemia_doctor_2_busy_avg\": leukemia_doctor_2_busy_avg,\n",
    "    \"transplant_doctor_1_wait_time_avg\": transplant_doctor_1_wait_time_avg,\n",
    "    \"transplant_doctor_1_queue_length_avg\": transplant_doctor_1_queue_length_avg,\n",
    "    \"transplant_doctor_1_busy_avg\": transplant_doctor_1_busy_avg,\n",
    "    \"transplant_doctor_2_wait_time_avg\": transplant_doctor_2_wait_time_avg,\n",
    "    \"transplant_doctor_2_queue_length_avg\": transplant_doctor_2_queue_length_avg,\n",
    "    \"transplant_doctor_2_busy_avg\": transplant_doctor_2_busy_avg,\n",
    "    \"transplant_doctor_3_wait_time_avg\": transplant_doctor_3_wait_time_avg,\n",
    "    \"transplant_doctor_3_queue_length_avg\": transplant_doctor_3_queue_length_avg,\n",
    "    \"transplant_doctor_3_busy_avg\": transplant_doctor_3_busy_avg,\n",
    "    \"other_patients_total_processing_time_avg\": other_patients_total_processing_time_avg,\n",
    "    \"leukemia_doctor_1_complex_patients_total_processing_time_avg\": leukemia_doctor_1_complex_patients_total_processing_time_avg,\n",
    "    \"leukemia_doctor_1_regular_patients_total_processing_time_avg\": leukemia_doctor_1_regular_patients_total_processing_time_avg,\n",
    "    \"leukemia_doctor_2_complex_patients_total_processing_time_avg\": leukemia_doctor_2_complex_patients_total_processing_time_avg,\n",
    "    \"leukemia_doctor_2_regular_patients_total_processing_time_avg\": leukemia_doctor_2_regular_patients_total_processing_time_avg,\n",
    "    \"transplant_doctor_1_complex_patients_total_processing_time_avg\": transplant_doctor_1_complex_patients_total_processing_time_avg,\n",
    "    \"transplant_doctor_1_regular_patients_total_processing_time_avg\": transplant_doctor_1_regular_patients_total_processing_time_avg,\n",
    "    \"transplant_doctor_2_complex_patients_total_processing_time_avg\": transplant_doctor_2_complex_patients_total_processing_time_avg,\n",
    "    \"transplant_doctor_2_regular_patients_total_processing_time_avg\": transplant_doctor_2_regular_patients_total_processing_time_avg,\n",
    "    \"transplant_doctor_3_complex_patients_total_processing_time_avg\": transplant_doctor_3_complex_patients_total_processing_time_avg,\n",
    "    \"transplant_doctor_3_regular_patients_total_processing_time_avg\": transplant_doctor_3_regular_patients_total_processing_time_avg,\n",
    "    })\n",
    "os.makedirs(\"results_directory/simulation_multi_queue\", exist_ok=True)\n",
    "results_df.to_csv(f\"results_directory/simulation_multi_queue/results_df.csv\")\n",
    "print(f\"Simulation Results Saved to results_directory/simulation_multi_queue/results_df.csv\")\n",
    "print(\"**********************************************************************************\")\n",
    "print(\"Means of the simulation results:\")\n",
    "print(results_df.mean())\n",
    "print(\"**********************************************************************************\")\n",
    "print(\"99% Confidence Intervals Half-Width\")\n",
    "CI= scs.t.ppf(1-0.01/2, len(results_df)-1)*np.sqrt(results_df.var()/len(results_df))\n",
    "print(CI)\n",
    "print(\"**********************************************************************************\")\n",
    "print(\"Error:\")\n",
    "print(CI/results_df.mean())\n",
    "print(\"**********************************************************************************\")\n",
    "print(\"Number of epochs required for 99% confidence, half-width 5 minutes for all measures:\")\n",
    "print(max((scs.t.ppf(1-0.01, len(results_df)-1)*np.sqrt(results_df.var()/len(results_df))/5)**2))\n",
    "print(\"Number of epochs required for 99% confidence, half-width 10 minutes for all measures:\")\n",
    "print(max((scs.t.ppf(1-0.01/2, len(results_df)-1)*np.sqrt(results_df.var()/len(results_df))/10)**2))"
   ]
  }
 ],
 "metadata": {
  "kernelspec": {
   "display_name": "finance",
   "language": "python",
   "name": "python3"
  },
  "language_info": {
   "codemirror_mode": {
    "name": "ipython",
    "version": 3
   },
   "file_extension": ".py",
   "mimetype": "text/x-python",
   "name": "python",
   "nbconvert_exporter": "python",
   "pygments_lexer": "ipython3",
   "version": "3.11.9"
  }
 },
 "nbformat": 4,
 "nbformat_minor": 5
}
