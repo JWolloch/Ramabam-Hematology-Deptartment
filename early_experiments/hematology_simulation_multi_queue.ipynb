{
 "cells": [
  {
   "cell_type": "code",
   "execution_count": 1,
   "id": "2a3088c3",
   "metadata": {},
   "outputs": [],
   "source": [
    "import sys\n",
    "import os\n",
    "\n",
    "# Add the project root (RAMBAM-HEMATOLOGY-DEPARTMENT) to sys.path\n",
    "project_root = os.path.abspath(\"..\")\n",
    "if project_root not in sys.path:\n",
    "    sys.path.insert(0, project_root)\n"
   ]
  },
  {
   "cell_type": "code",
   "execution_count": 2,
   "id": "initial_id",
   "metadata": {
    "ExecuteTime": {
     "end_time": "2024-03-30T22:39:46.869324Z",
     "start_time": "2024-03-30T22:39:46.857349Z"
    },
    "collapsed": true
   },
   "outputs": [],
   "source": [
    "from simulation.python_sim import SimFunctions, SimClasses\n",
    "from simulation.model_parameters import ModelParameters\n",
    "from simulation.simulation_configuration import SimulationConfiguration\n",
    "\n",
    "from patients.patient import Patient\n",
    "from patients.leukemia_patient import LeukemiaPatient\n",
    "from patients.transplant_patient import TransplantPatient\n",
    "from patients.other_patient import OtherPatient\n",
    "\n",
    "from simulation.utils import assign_nurse_station, all_left_department, generate_patients\n",
    "\n",
    "import pandas as pd\n",
    "import numpy as np\n",
    "import scipy.stats as scs\n",
    "\n",
    "from tqdm.notebook import tqdm_notebook\n",
    "import logging"
   ]
  },
  {
   "cell_type": "code",
   "execution_count": 3,
   "id": "ee255d1c6fbe9afc",
   "metadata": {
    "ExecuteTime": {
     "end_time": "2024-03-30T22:39:52.590478Z",
     "start_time": "2024-03-30T22:39:52.563643Z"
    },
    "collapsed": false
   },
   "outputs": [],
   "source": [
    "# Initializing event calendar\n",
    "Calendar = SimClasses.EventCalendar()"
   ]
  },
  {
   "cell_type": "code",
   "execution_count": 4,
   "id": "90259564655a2b4f",
   "metadata": {
    "ExecuteTime": {
     "end_time": "2024-03-30T22:39:52.860685Z",
     "start_time": "2024-03-30T22:39:52.847029Z"
    },
    "collapsed": false
   },
   "outputs": [],
   "source": [
    "model_parameters = ModelParameters()\n",
    "simulation_configuration = SimulationConfiguration()"
   ]
  },
  {
   "cell_type": "code",
   "execution_count": 5,
   "id": "7cbbfb00685ab1de",
   "metadata": {
    "ExecuteTime": {
     "end_time": "2024-03-30T22:39:54.848587Z",
     "start_time": "2024-03-30T22:39:54.834817Z"
    },
    "collapsed": false
   },
   "outputs": [],
   "source": [
    "q_flow_station = SimClasses.Resource()\n",
    "q_flow_station.SetUnits(1)\n",
    "q_flow_station_queue = SimClasses.FIFOQueue()\n",
    "\n",
    "secretary_station = SimClasses.Resource()\n",
    "secretary_station.SetUnits(2)\n",
    "\n",
    "secretary_station_queue = SimClasses.FIFOQueue()\n",
    "\n",
    "nurse_station_1 = SimClasses.Resource()\n",
    "nurse_station_1.SetUnits(1)\n",
    "nurse_station_2 = SimClasses.Resource()\n",
    "nurse_station_2.SetUnits(1)\n",
    "nurse_station_3 = SimClasses.Resource()\n",
    "nurse_station_3.SetUnits(1)\n",
    "nurse_station_4 = SimClasses.Resource()\n",
    "nurse_station_4.SetUnits(1)\n",
    "nurse_station_5 = SimClasses.Resource()\n",
    "nurse_station_5.SetUnits(1)\n",
    "nurse_station_6 = SimClasses.Resource()\n",
    "nurse_station_6.SetUnits(1)\n",
    "\n",
    "nurse_station_1_queue = SimClasses.FIFOQueue()\n",
    "nurse_station_2_queue = SimClasses.FIFOQueue()\n",
    "nurse_station_3_queue = SimClasses.FIFOQueue()\n",
    "nurse_station_4_queue = SimClasses.FIFOQueue()\n",
    "nurse_station_5_queue = SimClasses.FIFOQueue()\n",
    "nurse_station_6_queue = SimClasses.FIFOQueue()\n",
    "\n",
    "leukemia_doctor_1 = SimClasses.Resource()\n",
    "leukemia_doctor_1.SetUnits(1)\n",
    "leukemia_doctor_2 = SimClasses.Resource()\n",
    "leukemia_doctor_2.SetUnits(1)\n",
    "transplant_doctor_1 = SimClasses.Resource()\n",
    "transplant_doctor_1.SetUnits(1)\n",
    "transplant_doctor_2 = SimClasses.Resource()\n",
    "transplant_doctor_2.SetUnits(1)\n",
    "transplant_doctor_3 = SimClasses.Resource()\n",
    "transplant_doctor_3.SetUnits(1)\n",
    "\n",
    "leukemia_doctor_1_queue = SimClasses.FIFOQueue()\n",
    "leukemia_doctor_2_queue = SimClasses.FIFOQueue()\n",
    "transplant_doctor_1_queue = SimClasses.FIFOQueue()\n",
    "transplant_doctor_2_queue = SimClasses.FIFOQueue()\n",
    "transplant_doctor_3_queue = SimClasses.FIFOQueue()"
   ]
  },
  {
   "cell_type": "code",
   "execution_count": 6,
   "id": "cb34f0222dc10319",
   "metadata": {
    "ExecuteTime": {
     "end_time": "2024-03-30T22:39:56.592599Z",
     "start_time": "2024-03-30T22:39:56.578465Z"
    },
    "collapsed": false
   },
   "outputs": [],
   "source": [
    "q_flow_station_wait_time = SimClasses.DTStat()\n",
    "\n",
    "secretary_station_wait_time = SimClasses.DTStat()\n",
    "\n",
    "nurse_station_1_wait_time = SimClasses.DTStat()\n",
    "nurse_station_2_wait_time = SimClasses.DTStat()\n",
    "nurse_station_3_wait_time = SimClasses.DTStat()\n",
    "nurse_station_4_wait_time = SimClasses.DTStat()\n",
    "nurse_station_5_wait_time = SimClasses.DTStat()\n",
    "nurse_station_6_wait_time = SimClasses.DTStat()\n",
    "\n",
    "leukemia_doctor_1_wait_time = SimClasses.DTStat()\n",
    "leukemia_doctor_2_wait_time = SimClasses.DTStat()\n",
    "\n",
    "transplant_doctor_1_wait_time = SimClasses.DTStat()\n",
    "transplant_doctor_2_wait_time = SimClasses.DTStat()\n",
    "transplant_doctor_3_wait_time = SimClasses.DTStat()"
   ]
  },
  {
   "cell_type": "code",
   "execution_count": 7,
   "id": "2e02c7ae",
   "metadata": {},
   "outputs": [],
   "source": [
    "leukemia_doctor_1_complex_patients_total_processing_time = SimClasses.DTStat()\n",
    "leukemia_doctor_1_regular_patients_total_processing_time = SimClasses.DTStat()\n",
    "leukemia_doctor_2_complex_patients_total_processing_time = SimClasses.DTStat()\n",
    "leukemia_doctor_2_regular_patients_total_processing_time = SimClasses.DTStat()\n",
    "transplant_doctor_1_complex_patients_total_processing_time = SimClasses.DTStat()\n",
    "transplant_doctor_1_regular_patients_total_processing_time = SimClasses.DTStat()\n",
    "transplant_doctor_2_complex_patients_total_processing_time = SimClasses.DTStat()\n",
    "transplant_doctor_2_regular_patients_total_processing_time = SimClasses.DTStat()\n",
    "transplant_doctor_3_complex_patients_total_processing_time = SimClasses.DTStat()\n",
    "transplant_doctor_3_regular_patients_total_processing_time = SimClasses.DTStat()\n",
    "other_patients_total_processing_time = SimClasses.DTStat()"
   ]
  },
  {
   "cell_type": "code",
   "execution_count": 8,
   "id": "52c077a50b3aa22c",
   "metadata": {
    "ExecuteTime": {
     "end_time": "2024-03-30T22:39:57.733096Z",
     "start_time": "2024-03-30T22:39:57.719922Z"
    },
    "collapsed": false
   },
   "outputs": [],
   "source": [
    "q_flow_station_wait_time_avg = []\n",
    "q_flow_station_wait_time_var = []\n",
    "\n",
    "secretary_station_wait_time_avg = []\n",
    "secretary_station_wait_time_var = []\n",
    "\n",
    "nurse_station_1_wait_time_avg = []\n",
    "nurse_station_1_wait_time_var = []\n",
    "\n",
    "nurse_station_2_wait_time_avg = []\n",
    "nurse_station_2_wait_time_var = []\n",
    "\n",
    "nurse_station_3_wait_time_avg = []\n",
    "nurse_station_3_wait_time_var = []\n",
    "\n",
    "nurse_station_4_wait_time_avg = []\n",
    "nurse_station_4_wait_time_var = []\n",
    "\n",
    "nurse_station_5_wait_time_avg = []\n",
    "nurse_station_5_wait_time_var = []\n",
    "\n",
    "nurse_station_6_wait_time_avg = []\n",
    "nurse_station_6_wait_time_var = []\n",
    "\n",
    "leukemia_doctor_1_wait_time_avg = []\n",
    "leukemia_doctor_1_wait_time_var = []\n",
    "\n",
    "leukemia_doctor_2_wait_time_avg = []\n",
    "leukemia_doctor_2_wait_time_var = []\n",
    "\n",
    "transplant_doctor_1_wait_time_avg = []\n",
    "transplant_doctor_1_wait_time_var = []\n",
    "\n",
    "transplant_doctor_2_wait_time_avg = []\n",
    "transplant_doctor_2_wait_time_var = []\n",
    "\n",
    "transplant_doctor_3_wait_time_avg = []\n",
    "transplant_doctor_3_wait_time_var = []\n",
    "\n",
    "q_flow_station_queue_length_avg = []\n",
    "q_flow_station_queue_length_var = []\n",
    "\n",
    "secretary_station_queue_length_avg = []\n",
    "secretary_station_queue_length_var = []\n",
    "\n",
    "nurse_station_1_queue_length_avg = []\n",
    "nurse_station_1_queue_length_var = []\n",
    "\n",
    "nurse_station_2_queue_length_avg = []\n",
    "nurse_station_2_queue_length_var = []\n",
    "\n",
    "nurse_station_3_queue_length_avg = []\n",
    "nurse_station_3_queue_length_var = []\n",
    "\n",
    "nurse_station_4_queue_length_avg = []\n",
    "nurse_station_4_queue_length_var = []\n",
    "\n",
    "nurse_station_5_queue_length_avg = []\n",
    "nurse_station_5_queue_length_var = []\n",
    "\n",
    "nurse_station_6_queue_length_avg = []\n",
    "nurse_station_6_queue_length_var = []\n",
    "\n",
    "leukemia_doctor_1_queue_length_avg = []\n",
    "leukemia_doctor_1_queue_length_var = []\n",
    "\n",
    "leukemia_doctor_2_queue_length_avg = []\n",
    "leukemia_doctor_2_queue_length_var = []\n",
    "\n",
    "transplant_doctor_1_queue_length_avg = []\n",
    "transplant_doctor_1_queue_length_var = []\n",
    "\n",
    "transplant_doctor_2_queue_length_avg = []\n",
    "transplant_doctor_2_queue_length_var = []\n",
    "\n",
    "transplant_doctor_3_queue_length_avg = []\n",
    "transplant_doctor_3_queue_length_var = []\n",
    "\n",
    "q_flow_station_busy_avg = []\n",
    "q_flow_station_busy_var = []\n",
    "\n",
    "secretary_station_busy_avg = []\n",
    "secretary_station_busy_var = []\n",
    "\n",
    "nurse_station_1_busy_avg = []\n",
    "nurse_station_1_busy_var = []\n",
    "\n",
    "nurse_station_2_busy_avg = []\n",
    "nurse_station_2_busy_var = []\n",
    "\n",
    "nurse_station_3_busy_avg = []\n",
    "nurse_station_3_busy_var = []\n",
    "\n",
    "nurse_station_4_busy_avg = []\n",
    "nurse_station_4_busy_var = []\n",
    "\n",
    "nurse_station_5_busy_avg = []\n",
    "nurse_station_5_busy_var = []\n",
    "\n",
    "nurse_station_6_busy_avg = []\n",
    "nurse_station_6_busy_var = []\n",
    "\n",
    "leukemia_doctor_1_busy_avg = []\n",
    "leukemia_doctor_1_busy_var = []\n",
    "\n",
    "leukemia_doctor_2_busy_avg = []\n",
    "leukemia_doctor_2_busy_var = []\n",
    "\n",
    "transplant_doctor_1_busy_avg = []\n",
    "transplant_doctor_1_busy_var = []\n",
    "\n",
    "transplant_doctor_2_busy_avg = []  \n",
    "transplant_doctor_2_busy_var = []\n",
    "\n",
    "transplant_doctor_3_busy_avg = []\n",
    "transplant_doctor_3_busy_var = []\n",
    "\n",
    "q_flow_station_wait_time_var_avg = []\n",
    "q_flow_station_wait_time_var_var = []\n",
    "\n",
    "secretary_station_wait_time_var_avg = []\n",
    "secretary_station_wait_time_var_var = []"
   ]
  },
  {
   "cell_type": "code",
   "execution_count": 9,
   "id": "7a68937e",
   "metadata": {},
   "outputs": [],
   "source": [
    "q_flow_station_queue_length = []\n",
    "\n",
    "secretary_station_queue_length = []\n",
    "\n",
    "nurse_station_1_queue_length = []\n",
    "nurse_station_2_queue_length = []\n",
    "nurse_station_3_queue_length = []\n",
    "nurse_station_4_queue_length = []\n",
    "nurse_station_5_queue_length = []\n",
    "nurse_station_6_queue_length = []\n",
    "\n",
    "leukemia_doctor_1_queue_length = []\n",
    "leukemia_doctor_2_queue_length = []\n",
    "\n",
    "transplant_doctor_1_queue_length = []\n",
    "transplant_doctor_2_queue_length = []\n",
    "transplant_doctor_3_queue_length = []"
   ]
  },
  {
   "cell_type": "code",
   "execution_count": 10,
   "id": "be82ae01",
   "metadata": {},
   "outputs": [],
   "source": [
    "leukemia_doctor_1_complex_patients_total_processing_time_avg = []\n",
    "leukemia_doctor_1_regular_patients_total_processing_time_avg = []\n",
    "leukemia_doctor_1_complex_patients_total_processing_time_var = []\n",
    "leukemia_doctor_1_regular_patients_total_processing_time_var = []\n",
    "\n",
    "leukemia_doctor_2_complex_patients_total_processing_time_avg = []\n",
    "leukemia_doctor_2_regular_patients_total_processing_time_avg = []\n",
    "leukemia_doctor_2_complex_patients_total_processing_time_var = []\n",
    "leukemia_doctor_2_regular_patients_total_processing_time_var = []\n",
    "\n",
    "transplant_doctor_1_complex_patients_total_processing_time_avg = []\n",
    "transplant_doctor_1_regular_patients_total_processing_time_avg = []\n",
    "transplant_doctor_1_complex_patients_total_processing_time_var = []\n",
    "transplant_doctor_1_regular_patients_total_processing_time_var = []\n",
    "\n",
    "transplant_doctor_2_complex_patients_total_processing_time_avg = []\n",
    "transplant_doctor_2_regular_patients_total_processing_time_avg = []\n",
    "transplant_doctor_2_complex_patients_total_processing_time_var = []\n",
    "transplant_doctor_2_regular_patients_total_processing_time_var = []\n",
    "\n",
    "transplant_doctor_3_complex_patients_total_processing_time_avg = []\n",
    "transplant_doctor_3_regular_patients_total_processing_time_avg = []\n",
    "transplant_doctor_3_complex_patients_total_processing_time_var = []\n",
    "transplant_doctor_3_regular_patients_total_processing_time_var = []\n",
    "\n",
    "other_patients_total_processing_time_avg = []\n",
    "other_patients_total_processing_time_var = []"
   ]
  },
  {
   "cell_type": "code",
   "execution_count": 11,
   "id": "153927fc",
   "metadata": {},
   "outputs": [],
   "source": [
    "leukemia_doctor_1_scheduled_vs_actual_time_diff = SimClasses.DTStat()\n",
    "leukemia_doctor_2_scheduled_vs_actual_time_diff = SimClasses.DTStat()\n",
    "transplant_doctor_1_scheduled_vs_actual_time_diff = SimClasses.DTStat()\n",
    "transplant_doctor_2_scheduled_vs_actual_time_diff = SimClasses.DTStat()\n",
    "transplant_doctor_3_scheduled_vs_actual_time_diff = SimClasses.DTStat()\n",
    "\n",
    "leukemia_doctor_1_scheduled_vs_actual_time_diff_avg = []\n",
    "leukemia_doctor_2_scheduled_vs_actual_time_diff_avg = []\n",
    "transplant_doctor_1_scheduled_vs_actual_time_diff_avg = []\n",
    "transplant_doctor_2_scheduled_vs_actual_time_diff_avg = []\n",
    "transplant_doctor_3_scheduled_vs_actual_time_diff_avg = []\n",
    "\n",
    "leukemia_doctor_1_scheduled_vs_actual_time_diff_var = []\n",
    "leukemia_doctor_2_scheduled_vs_actual_time_diff_var = []\n",
    "transplant_doctor_1_scheduled_vs_actual_time_diff_var = []\n",
    "transplant_doctor_2_scheduled_vs_actual_time_diff_var = []\n",
    "transplant_doctor_3_scheduled_vs_actual_time_diff_var = []"
   ]
  },
  {
   "cell_type": "markdown",
   "id": "bf6eed75",
   "metadata": {},
   "source": [
    "### We assume here that all patients begin arriving at 08:00 (time 0 is 07:00 hence why we add 60)\n",
    "#### Currently we assume that they are all summoned at 20 minute intervals for simplicity"
   ]
  },
  {
   "cell_type": "code",
   "execution_count": 12,
   "id": "b033b162",
   "metadata": {},
   "outputs": [],
   "source": [
    "leukemia_doctor_1_number_of_patients = model_parameters.leukemia_doctor_1_number_of_regular_patients + model_parameters.leukemia_doctor_1_number_of_complex_patients\n",
    "leukemia_doctor_1_patient_arrival_times = [60 + i*20 for i in range(leukemia_doctor_1_number_of_patients)]\n",
    "leukemia_doctor_2_number_of_patients = model_parameters.leukemia_doctor_2_number_of_regular_patients + model_parameters.leukemia_doctor_2_number_of_complex_patients\n",
    "leukemia_doctor_2_patient_arrival_times = [60 + i*20 for i in range(leukemia_doctor_2_number_of_patients)]\n",
    "\n",
    "transplant_doctor_1_number_of_patients = model_parameters.transplant_doctor_1_number_of_regular_patients + model_parameters.transplant_doctor_1_number_of_complex_patients\n",
    "transplant_doctor_1_patient_arrival_times = [60 + i*20 for i in range(transplant_doctor_1_number_of_patients)]\n",
    "transplant_doctor_2_number_of_patients = model_parameters.transplant_doctor_2_number_of_regular_patients + model_parameters.transplant_doctor_2_number_of_complex_patients\n",
    "transplant_doctor_2_patient_arrival_times = [60 + i*20 for i in range(transplant_doctor_2_number_of_patients)]\n",
    "transplant_doctor_3_number_of_patients = model_parameters.transplant_doctor_3_number_of_regular_patients + model_parameters.transplant_doctor_3_number_of_complex_patients\n",
    "transplant_doctor_3_patient_arrival_times = [60 + i*20 for i in range(transplant_doctor_3_number_of_patients)]\n",
    "\n",
    "other_patients_arrival_times = [60 + i*10 for i in range(model_parameters.number_of_other_patients)]"
   ]
  },
  {
   "cell_type": "code",
   "execution_count": 13,
   "id": "a1deae27",
   "metadata": {},
   "outputs": [],
   "source": [
    "def create_patient_schedule(arrival_time: int):\n",
    "    return {'arrival_time': arrival_time,\n",
    "            'doctor_consultation_time': arrival_time + 120}\n",
    "\n",
    "def initialize_patients(patient_arrival_times: list[int],\n",
    "                        doctor_name: str,\n",
    "                        calendar: SimClasses.EventCalendar):\n",
    "    leukemia = 'leukemia' in doctor_name\n",
    "    transplant = 'transplant' in doctor_name\n",
    "    patients = []\n",
    "    if leukemia:\n",
    "        probability_of_visiting_nurse = model_parameters.probability_of_visiting_nurse_leukemia\n",
    "\n",
    "        if '1' in doctor_name:\n",
    "            probability_of_complex_patient = model_parameters.leukemia_doctor_1_probability_of_complex_patient\n",
    "        else:\n",
    "            probability_of_complex_patient = model_parameters.leukemia_doctor_2_probability_of_complex_patient\n",
    "\n",
    "        for arrival_time in patient_arrival_times:\n",
    "            patients.append(LeukemiaPatient(create_patient_schedule(arrival_time),\n",
    "                                            doctor_name,\n",
    "                                            probability_of_complex_patient,\n",
    "                                            probability_of_visiting_nurse))\n",
    "    elif transplant:\n",
    "        probability_of_visiting_nurse = model_parameters.probability_of_visiting_nurse_transplant\n",
    "        if '1' in doctor_name:\n",
    "            probability_of_complex_patient = model_parameters.transplant_doctor_1_probability_of_complex_patient\n",
    "        elif '2' in doctor_name:\n",
    "            probability_of_complex_patient = model_parameters.transplant_doctor_2_probability_of_complex_patient\n",
    "        else:\n",
    "            probability_of_complex_patient = model_parameters.transplant_doctor_3_probability_of_complex_patient\n",
    "\n",
    "        for arrival_time in patient_arrival_times:\n",
    "            patients.append(TransplantPatient(create_patient_schedule(arrival_time),\n",
    "                                              doctor_name,\n",
    "                                              probability_of_complex_patient,\n",
    "                                              probability_of_visiting_nurse))\n",
    "    else: #other\n",
    "        probability_of_visiting_nurse = model_parameters.probability_of_visiting_nurse_other\n",
    "        probability_of_complex_patient = model_parameters.probability_of_complex_other_patient\n",
    "\n",
    "        for arrival_time in patient_arrival_times:\n",
    "            patients.append(OtherPatient(create_patient_schedule(arrival_time),\n",
    "                                         doctor_name,\n",
    "                                         probability_of_complex_patient,\n",
    "                                         probability_of_visiting_nurse))\n",
    "    \n",
    "    for patient in patients:\n",
    "        patient.schedule_arrival(calendar)\n",
    "        \n",
    "    return patients"
   ]
  },
  {
   "cell_type": "code",
   "execution_count": 14,
   "id": "84e47c457ce6572f",
   "metadata": {
    "ExecuteTime": {
     "end_time": "2024-03-30T22:39:59.388466Z",
     "start_time": "2024-03-30T22:39:59.374552Z"
    },
    "collapsed": false
   },
   "outputs": [],
   "source": [
    "def q_flow_station_start_of_waiting(new_patient : Patient, clock: float):\n",
    "    q_flow_station_queue.Add(new_patient)\n",
    "    new_patient.enter_q_flow_queue(clock)\n",
    "    if q_flow_station.CurrentNumBusy < q_flow_station.NumberOfUnits:\n",
    "        q_flow_station.Seize(1)\n",
    "        next_patient = q_flow_station_queue.Remove()\n",
    "        q_flow_station_wait_time.Record(SimClasses.Clock - next_patient.enter_q_flow_queue_time)\n",
    "        SimFunctions.SchedulePlus(Calendar, \"q_flow_station_service_start\", 0, next_patient)"
   ]
  },
  {
   "cell_type": "code",
   "execution_count": 15,
   "id": "6bf2e1c2ce1ef37c",
   "metadata": {
    "ExecuteTime": {
     "end_time": "2024-03-30T22:39:59.636487Z",
     "start_time": "2024-03-30T22:39:59.617715Z"
    },
    "collapsed": false
   },
   "outputs": [],
   "source": [
    "def q_flow_station_service_start(new_patient : Patient):\n",
    "    q_flow_service_duration = np.random.exponential(model_parameters.q_flow_mean_service_time)\n",
    "    SimFunctions.SchedulePlus(Calendar, \"q_flow_station_service_end\", q_flow_service_duration, new_patient)"
   ]
  },
  {
   "cell_type": "code",
   "execution_count": 16,
   "id": "ec765acf",
   "metadata": {},
   "outputs": [],
   "source": [
    "def q_flow_station_service_end(new_patient: Patient):\n",
    "    SimFunctions.SchedulePlus(Calendar, \"secretary_station_start_of_waiting\", 0, new_patient)\n",
    "\n",
    "    q_flow_station.Free(1)\n",
    "    if q_flow_station.CurrentNumBusy < q_flow_station.NumberOfUnits and  q_flow_station_queue.NumQueue() > 0:\n",
    "        q_flow_station.Seize(1)\n",
    "        next_patient = q_flow_station_queue.Remove()\n",
    "        q_flow_station_wait_time.Record(SimClasses.Clock - next_patient.enter_q_flow_queue_time)\n",
    "        SimFunctions.SchedulePlus(Calendar, \"q_flow_station_service_start\", 0, next_patient)"
   ]
  },
  {
   "cell_type": "code",
   "execution_count": 17,
   "id": "60eba5d1",
   "metadata": {},
   "outputs": [],
   "source": [
    "def secretary_station_start_of_waiting(new_patient: Patient, clock: float):\n",
    "    secretary_station_queue.Add(new_patient)\n",
    "    new_patient.enter_secretary_queue(clock)\n",
    "    if secretary_station.CurrentNumBusy < secretary_station.NumberOfUnits:\n",
    "        secretary_station.Seize(1)\n",
    "        next_patient = secretary_station_queue.Remove()\n",
    "        secretary_station_wait_time.Record(SimClasses.Clock - next_patient.enter_secretary_queue_time)\n",
    "        SimFunctions.SchedulePlus(Calendar, \"secretary_station_service_start\", 0, next_patient)"
   ]
  },
  {
   "cell_type": "code",
   "execution_count": 18,
   "id": "7cfaead6",
   "metadata": {},
   "outputs": [],
   "source": [
    "def secretary_station_service_start(new_patient: Patient):\n",
    "    secretary_station_service_duration = np.random.exponential(model_parameters.secretary_mean_service_time)\n",
    "    SimFunctions.SchedulePlus(Calendar, \"secretary_station_service_end\", secretary_station_service_duration, new_patient)"
   ]
  },
  {
   "cell_type": "code",
   "execution_count": 19,
   "id": "229929d6",
   "metadata": {},
   "outputs": [],
   "source": [
    "def secretary_station_service_end(new_patient: Patient):\n",
    "    patient_type = new_patient.get_type()\n",
    "    has_nurse_appointment = new_patient.visits_nurse\n",
    "    if has_nurse_appointment:\n",
    "        nurse_station = assign_nurse_station(patient_type, model_parameters)\n",
    "        SimFunctions.SchedulePlus(Calendar, f'{nurse_station}_start_of_waiting', 0, new_patient)\n",
    "    else:\n",
    "        SimFunctions.SchedulePlus(Calendar, f'{new_patient.doctor_name}_start_of_waiting', 0, new_patient)\n",
    "    \n",
    "    secretary_station.Free(1)\n",
    "    if secretary_station.CurrentNumBusy < secretary_station.NumberOfUnits and secretary_station_queue.NumQueue() > 0:\n",
    "        secretary_station.Seize(1)\n",
    "        next_patient = secretary_station_queue.Remove()\n",
    "        secretary_station_wait_time.Record(SimClasses.Clock - next_patient.enter_secretary_queue_time)\n",
    "        SimFunctions.SchedulePlus(Calendar, \"secretary_station_service_start\", 0, next_patient)"
   ]
  },
  {
   "cell_type": "code",
   "execution_count": 20,
   "id": "8ffbe348",
   "metadata": {},
   "outputs": [],
   "source": [
    "def nurse_station_1_start_of_waiting(new_patient: Patient, clock: float):\n",
    "    nurse_station_1_queue.Add(new_patient)\n",
    "    new_patient.enter_nurse_queue(clock)\n",
    "    if nurse_station_1.CurrentNumBusy < nurse_station_1.NumberOfUnits:\n",
    "        nurse_station_1.Seize(1)\n",
    "        next_patient = nurse_station_1_queue.Remove()\n",
    "        nurse_station_1_wait_time.Record(SimClasses.Clock - next_patient.enter_nurse_queue_time)\n",
    "        SimFunctions.SchedulePlus(Calendar, \"nurse_station_1_service_start\", 0, next_patient)\n",
    "\n",
    "def nurse_station_2_start_of_waiting(new_patient: Patient, clock: float):\n",
    "    nurse_station_2_queue.Add(new_patient)\n",
    "    new_patient.enter_nurse_queue(clock)\n",
    "    if nurse_station_2.CurrentNumBusy < nurse_station_2.NumberOfUnits:\n",
    "        nurse_station_2.Seize(1)\n",
    "        next_patient = nurse_station_2_queue.Remove()\n",
    "        nurse_station_2_wait_time.Record(SimClasses.Clock - next_patient.enter_nurse_queue_time)\n",
    "        SimFunctions.SchedulePlus(Calendar, \"nurse_station_2_service_start\", 0, next_patient)\n",
    "\n",
    "def nurse_station_3_start_of_waiting(new_patient: Patient, clock: float):\n",
    "    nurse_station_3_queue.Add(new_patient)\n",
    "    new_patient.enter_nurse_queue(clock)\n",
    "    if nurse_station_3.CurrentNumBusy < nurse_station_3.NumberOfUnits:\n",
    "        nurse_station_3.Seize(1)\n",
    "        next_patient = nurse_station_3_queue.Remove()\n",
    "        nurse_station_3_wait_time.Record(SimClasses.Clock - next_patient.enter_nurse_queue_time)\n",
    "        SimFunctions.SchedulePlus(Calendar, \"nurse_station_3_service_start\", 0, next_patient)\n",
    "\n",
    "def nurse_station_4_start_of_waiting(new_patient: Patient, clock: float):\n",
    "    nurse_station_4_queue.Add(new_patient)\n",
    "    new_patient.enter_nurse_queue(clock)\n",
    "    if nurse_station_4.CurrentNumBusy < nurse_station_4.NumberOfUnits:\n",
    "        nurse_station_4.Seize(1)\n",
    "        next_patient = nurse_station_4_queue.Remove()\n",
    "        nurse_station_4_wait_time.Record(SimClasses.Clock - next_patient.enter_nurse_queue_time)\n",
    "        SimFunctions.SchedulePlus(Calendar, \"nurse_station_4_service_start\", 0, next_patient)\n",
    "\n",
    "def nurse_station_5_start_of_waiting(new_patient: Patient, clock: float):\n",
    "    nurse_station_5_queue.Add(new_patient)\n",
    "    new_patient.enter_nurse_queue(clock)\n",
    "    if nurse_station_5.CurrentNumBusy < nurse_station_5.NumberOfUnits:\n",
    "        nurse_station_5.Seize(1)\n",
    "        next_patient = nurse_station_5_queue.Remove()\n",
    "        nurse_station_5_wait_time.Record(SimClasses.Clock - next_patient.enter_nurse_queue_time)\n",
    "        SimFunctions.SchedulePlus(Calendar, \"nurse_station_5_service_start\", 0, next_patient)\n",
    "\n",
    "def nurse_station_6_start_of_waiting(new_patient: Patient, clock: float):\n",
    "    nurse_station_6_queue.Add(new_patient)\n",
    "    new_patient.enter_nurse_queue(clock)\n",
    "    if nurse_station_6.CurrentNumBusy < nurse_station_6.NumberOfUnits:\n",
    "        nurse_station_6.Seize(1)\n",
    "        next_patient = nurse_station_6_queue.Remove()\n",
    "        nurse_station_6_wait_time.Record(SimClasses.Clock - next_patient.enter_nurse_queue_time)\n",
    "        SimFunctions.SchedulePlus(Calendar, \"nurse_station_6_service_start\", 0, next_patient)"
   ]
  },
  {
   "cell_type": "code",
   "execution_count": 21,
   "id": "aaed8038",
   "metadata": {},
   "outputs": [],
   "source": [
    "def nurse_station_1_service_start(new_patient: Patient):\n",
    "    patient_complexity = new_patient.complexity_level\n",
    "\n",
    "    if patient_complexity == \"regular\":\n",
    "        mean_service_time = model_parameters.nurse_mean_service_time_regular\n",
    "    else:\n",
    "        mean_service_time = model_parameters.nurse_mean_service_time_complex\n",
    "\n",
    "    service_duration = np.random.exponential(mean_service_time)\n",
    "\n",
    "    SimFunctions.SchedulePlus(Calendar, \"nurse_station_1_service_end\", service_duration, new_patient)\n",
    "\n",
    "def nurse_station_2_service_start(new_patient: Patient):\n",
    "    patient_complexity = new_patient.complexity_level\n",
    "\n",
    "    if patient_complexity == \"regular\":\n",
    "        mean_service_time = model_parameters.nurse_mean_service_time_regular\n",
    "    else:\n",
    "        mean_service_time = model_parameters.nurse_mean_service_time_complex\n",
    "\n",
    "    service_duration = np.random.exponential(mean_service_time)\n",
    "\n",
    "    SimFunctions.SchedulePlus(Calendar, \"nurse_station_2_service_end\", service_duration, new_patient)\n",
    "\n",
    "def nurse_station_3_service_start(new_patient: Patient):\n",
    "    patient_complexity = new_patient.complexity_level\n",
    "\n",
    "    if patient_complexity == \"regular\":\n",
    "        mean_service_time = model_parameters.nurse_mean_service_time_regular\n",
    "    else:\n",
    "        mean_service_time = model_parameters.nurse_mean_service_time_complex\n",
    "\n",
    "    service_duration = np.random.exponential(mean_service_time)\n",
    "\n",
    "    SimFunctions.SchedulePlus(Calendar, \"nurse_station_3_service_end\", service_duration, new_patient)\n",
    "\n",
    "def nurse_station_4_service_start(new_patient: Patient):\n",
    "    patient_complexity = new_patient.complexity_level\n",
    "\n",
    "    if patient_complexity == \"regular\":\n",
    "        mean_service_time = model_parameters.nurse_mean_service_time_regular\n",
    "    else:\n",
    "        mean_service_time = model_parameters.nurse_mean_service_time_complex\n",
    "\n",
    "    service_duration = np.random.exponential(mean_service_time)\n",
    "\n",
    "    SimFunctions.SchedulePlus(Calendar, \"nurse_station_4_service_end\", service_duration, new_patient)\n",
    "\n",
    "def nurse_station_5_service_start(new_patient: Patient):\n",
    "    patient_complexity = new_patient.complexity_level\n",
    "\n",
    "    if patient_complexity == \"regular\":\n",
    "        mean_service_time = model_parameters.nurse_mean_service_time_regular\n",
    "    else:\n",
    "        mean_service_time = model_parameters.nurse_mean_service_time_complex\n",
    "\n",
    "    service_duration = np.random.exponential(mean_service_time)\n",
    "\n",
    "    SimFunctions.SchedulePlus(Calendar, \"nurse_station_5_service_end\", service_duration, new_patient)\n",
    "\n",
    "def nurse_station_6_service_start(new_patient: Patient):\n",
    "    patient_complexity = new_patient.complexity_level\n",
    "\n",
    "    if patient_complexity == \"regular\":\n",
    "        mean_service_time = model_parameters.nurse_mean_service_time_regular\n",
    "    else:\n",
    "        mean_service_time = model_parameters.nurse_mean_service_time_complex\n",
    "\n",
    "    service_duration = np.random.exponential(mean_service_time)\n",
    "\n",
    "    SimFunctions.SchedulePlus(Calendar, \"nurse_station_6_service_end\", service_duration, new_patient)"
   ]
  },
  {
   "cell_type": "code",
   "execution_count": 22,
   "id": "2a06fc51",
   "metadata": {},
   "outputs": [],
   "source": [
    "def nurse_station_1_service_end(new_patient: Patient):\n",
    "    nurse_station_1.Free(1)\n",
    "    doctor_name = new_patient.doctor_name\n",
    "    SimFunctions.SchedulePlus(Calendar, f\"{doctor_name}_start_of_waiting\", 0, new_patient)\n",
    "\n",
    "    if nurse_station_1.CurrentNumBusy < nurse_station_1.NumberOfUnits and nurse_station_1_queue.NumQueue() > 0:\n",
    "        nurse_station_1.Seize(1)\n",
    "        next_patient = nurse_station_1_queue.Remove()\n",
    "        nurse_station_1_wait_time.Record(SimClasses.Clock - next_patient.enter_nurse_queue_time)\n",
    "        SimFunctions.SchedulePlus(Calendar, \"nurse_station_1_service_start\", 0, next_patient)\n",
    "\n",
    "def nurse_station_2_service_end(new_patient: Patient):\n",
    "    nurse_station_2.Free(1)\n",
    "    doctor_name = new_patient.doctor_name\n",
    "    SimFunctions.SchedulePlus(Calendar, f\"{doctor_name}_start_of_waiting\", 0, new_patient)\n",
    "\n",
    "    if nurse_station_2.CurrentNumBusy < nurse_station_2.NumberOfUnits and nurse_station_2_queue.NumQueue() > 0:\n",
    "        nurse_station_2.Seize(1)\n",
    "        next_patient = nurse_station_2_queue.Remove()\n",
    "        nurse_station_2_wait_time.Record(SimClasses.Clock - next_patient.enter_nurse_queue_time)\n",
    "        SimFunctions.SchedulePlus(Calendar, \"nurse_station_2_service_start\", 0, next_patient)\n",
    "\n",
    "def nurse_station_3_service_end(new_patient: Patient):\n",
    "    nurse_station_3.Free(1)\n",
    "    doctor_name = new_patient.doctor_name\n",
    "    SimFunctions.SchedulePlus(Calendar, f\"{doctor_name}_start_of_waiting\", 0, new_patient)\n",
    "\n",
    "    if nurse_station_3.CurrentNumBusy < nurse_station_3.NumberOfUnits and nurse_station_3_queue.NumQueue() > 0:\n",
    "        nurse_station_3.Seize(1)\n",
    "        next_patient = nurse_station_3_queue.Remove()\n",
    "        nurse_station_3_wait_time.Record(SimClasses.Clock - next_patient.enter_nurse_queue_time)\n",
    "        SimFunctions.SchedulePlus(Calendar, \"nurse_station_3_service_start\", 0, next_patient)\n",
    "\n",
    "def nurse_station_4_service_end(new_patient: Patient):\n",
    "    nurse_station_4.Free(1)\n",
    "    doctor_name = new_patient.doctor_name\n",
    "    SimFunctions.SchedulePlus(Calendar, f\"{doctor_name}_start_of_waiting\", 0, new_patient)\n",
    "\n",
    "    if nurse_station_4.CurrentNumBusy < nurse_station_4.NumberOfUnits and nurse_station_4_queue.NumQueue() > 0:\n",
    "        nurse_station_4.Seize(1)\n",
    "        next_patient = nurse_station_4_queue.Remove()\n",
    "        nurse_station_4_wait_time.Record(SimClasses.Clock - next_patient.enter_nurse_queue_time)\n",
    "        SimFunctions.SchedulePlus(Calendar, \"nurse_station_4_service_start\", 0, next_patient)\n",
    "\n",
    "def nurse_station_5_service_end(new_patient: Patient):\n",
    "    nurse_station_5.Free(1)\n",
    "    doctor_name = new_patient.doctor_name\n",
    "    SimFunctions.SchedulePlus(Calendar, f\"{doctor_name}_start_of_waiting\", 0, new_patient)\n",
    "\n",
    "    if nurse_station_5.CurrentNumBusy < nurse_station_5.NumberOfUnits and nurse_station_5_queue.NumQueue() > 0:\n",
    "        nurse_station_5.Seize(1)\n",
    "        next_patient = nurse_station_5_queue.Remove()\n",
    "        nurse_station_5_wait_time.Record(SimClasses.Clock - next_patient.enter_nurse_queue_time)\n",
    "        SimFunctions.SchedulePlus(Calendar, \"nurse_station_5_service_start\", 0, next_patient)\n",
    "\n",
    "def nurse_station_6_service_end(new_patient: Patient):\n",
    "    nurse_station_6.Free(1)\n",
    "    doctor_name = new_patient.doctor_name\n",
    "    SimFunctions.SchedulePlus(Calendar, f\"{doctor_name}_start_of_waiting\", 0, new_patient)\n",
    "\n",
    "    if nurse_station_6.CurrentNumBusy < nurse_station_6.NumberOfUnits and nurse_station_6_queue.NumQueue() > 0:\n",
    "        nurse_station_6.Seize(1)\n",
    "        next_patient = nurse_station_6_queue.Remove()\n",
    "        nurse_station_6_wait_time.Record(SimClasses.Clock - next_patient.enter_nurse_queue_time)\n",
    "        SimFunctions.SchedulePlus(Calendar, \"nurse_station_6_service_start\", 0, next_patient)"
   ]
  },
  {
   "cell_type": "code",
   "execution_count": 23,
   "id": "6399295f",
   "metadata": {},
   "outputs": [],
   "source": [
    "def leukemia_doctor_1_start_of_waiting(new_patient: Patient, clock: float):\n",
    "    leukemia_doctor_1_queue.Add(new_patient)\n",
    "    new_patient.enter_doctor_queue(clock)\n",
    "    if leukemia_doctor_1.CurrentNumBusy < leukemia_doctor_1.NumberOfUnits:\n",
    "        leukemia_doctor_1.Seize(1)\n",
    "        next_patient = leukemia_doctor_1_queue.Remove()\n",
    "        leukemia_doctor_1_wait_time.Record(SimClasses.Clock - next_patient.enter_doctor_queue_time)\n",
    "        SimFunctions.SchedulePlus(Calendar, \"leukemia_doctor_1_service_start\", 0, next_patient)\n",
    "\n",
    "def leukemia_doctor_2_start_of_waiting(new_patient: Patient, clock: float):\n",
    "    leukemia_doctor_2_queue.Add(new_patient)\n",
    "    new_patient.enter_doctor_queue(clock)\n",
    "    if leukemia_doctor_2.CurrentNumBusy < leukemia_doctor_2.NumberOfUnits:\n",
    "        leukemia_doctor_2.Seize(1)\n",
    "        next_patient = leukemia_doctor_2_queue.Remove()\n",
    "        leukemia_doctor_2_wait_time.Record(SimClasses.Clock - next_patient.enter_doctor_queue_time)\n",
    "        SimFunctions.SchedulePlus(Calendar, \"leukemia_doctor_2_service_start\", 0, next_patient)\n",
    "\n",
    "def transplant_doctor_1_start_of_waiting(new_patient: Patient, clock: float):\n",
    "    transplant_doctor_1_queue.Add(new_patient)\n",
    "    new_patient.enter_doctor_queue(clock)\n",
    "    if transplant_doctor_1.CurrentNumBusy < transplant_doctor_1.NumberOfUnits:\n",
    "        transplant_doctor_1.Seize(1)\n",
    "        next_patient = transplant_doctor_1_queue.Remove()\n",
    "        transplant_doctor_1_wait_time.Record(SimClasses.Clock - next_patient.enter_doctor_queue_time)\n",
    "        SimFunctions.SchedulePlus(Calendar, \"transplant_doctor_1_service_start\", 0, next_patient)\n",
    "\n",
    "def transplant_doctor_2_start_of_waiting(new_patient: Patient, clock: float):\n",
    "    transplant_doctor_2_queue.Add(new_patient)\n",
    "    new_patient.enter_doctor_queue(clock)\n",
    "    if transplant_doctor_2.CurrentNumBusy < transplant_doctor_2.NumberOfUnits:\n",
    "        transplant_doctor_2.Seize(1)\n",
    "        next_patient = transplant_doctor_2_queue.Remove()\n",
    "        transplant_doctor_2_wait_time.Record(SimClasses.Clock - next_patient.enter_doctor_queue_time)\n",
    "        SimFunctions.SchedulePlus(Calendar, \"transplant_doctor_2_service_start\", 0, next_patient)\n",
    "\n",
    "def transplant_doctor_3_start_of_waiting(new_patient: Patient, clock: float):\n",
    "    transplant_doctor_3_queue.Add(new_patient)\n",
    "    new_patient.enter_doctor_queue(clock)\n",
    "    if transplant_doctor_3.CurrentNumBusy < transplant_doctor_3.NumberOfUnits:\n",
    "        transplant_doctor_3.Seize(1)\n",
    "        next_patient = transplant_doctor_3_queue.Remove()\n",
    "        transplant_doctor_3_wait_time.Record(SimClasses.Clock - next_patient.enter_doctor_queue_time)\n",
    "        SimFunctions.SchedulePlus(Calendar, \"transplant_doctor_3_service_start\", 0, next_patient)\n",
    "\n",
    "def other_doctor_start_of_waiting(new_patient: Patient, clock: float):\n",
    "    new_patient.enter_doctor_queue(clock)\n",
    "    #other patients doctor treatment is not included in the model\n",
    "    SimFunctions.SchedulePlus(Calendar, \"process_complete\", 0, new_patient)"
   ]
  },
  {
   "cell_type": "code",
   "execution_count": 24,
   "id": "5cbc074e",
   "metadata": {},
   "outputs": [],
   "source": [
    "def leukemia_doctor_1_service_start(new_patient: Patient):\n",
    "    patient_complexity = new_patient.complexity_level\n",
    "    new_patient.doctor_service_start(SimClasses.Clock)\n",
    "    if patient_complexity == \"regular\":\n",
    "        mean_service_time = model_parameters.leukemia_doctor_1_mean_service_time_regular\n",
    "    else:\n",
    "        mean_service_time = model_parameters.leukemia_doctor_1_mean_service_time_complex\n",
    "    service_duration = np.random.exponential(mean_service_time)\n",
    "    SimFunctions.SchedulePlus(Calendar, \"leukemia_doctor_1_service_end\", service_duration, new_patient)\n",
    "\n",
    "def leukemia_doctor_2_service_start(new_patient: Patient):\n",
    "    patient_complexity = new_patient.complexity_level\n",
    "    new_patient.doctor_service_start(SimClasses.Clock)\n",
    "    if patient_complexity == \"regular\":\n",
    "        mean_service_time = model_parameters.leukemia_doctor_2_mean_service_time_regular\n",
    "    else:\n",
    "        mean_service_time = model_parameters.leukemia_doctor_2_mean_service_time_complex\n",
    "    service_duration = np.random.exponential(mean_service_time)\n",
    "    SimFunctions.SchedulePlus(Calendar, \"leukemia_doctor_2_service_end\", service_duration, new_patient)\n",
    "\n",
    "def transplant_doctor_1_service_start(new_patient: Patient):\n",
    "    patient_complexity = new_patient.complexity_level\n",
    "    new_patient.doctor_service_start(SimClasses.Clock)\n",
    "    if patient_complexity == \"regular\":\n",
    "        mean_service_time = model_parameters.transplant_doctor_1_mean_service_time_regular\n",
    "    else:\n",
    "        mean_service_time = model_parameters.transplant_doctor_1_mean_service_time_complex\n",
    "    service_duration = np.random.exponential(mean_service_time)\n",
    "    SimFunctions.SchedulePlus(Calendar, \"transplant_doctor_1_service_end\", service_duration, new_patient)\n",
    "\n",
    "def transplant_doctor_2_service_start(new_patient: Patient):\n",
    "    patient_complexity = new_patient.complexity_level\n",
    "    new_patient.doctor_service_start(SimClasses.Clock)\n",
    "    if patient_complexity == \"regular\":\n",
    "        mean_service_time = model_parameters.transplant_doctor_2_mean_service_time_regular\n",
    "    else:\n",
    "        mean_service_time = model_parameters.transplant_doctor_2_mean_service_time_complex\n",
    "    service_duration = np.random.exponential(mean_service_time)\n",
    "    SimFunctions.SchedulePlus(Calendar, \"transplant_doctor_2_service_end\", service_duration, new_patient)\n",
    "\n",
    "def transplant_doctor_3_service_start(new_patient: Patient):\n",
    "    patient_complexity = new_patient.complexity_level\n",
    "    new_patient.doctor_service_start(SimClasses.Clock)\n",
    "    if patient_complexity == \"regular\":\n",
    "        mean_service_time = model_parameters.transplant_doctor_3_mean_service_time_regular\n",
    "    else:\n",
    "        mean_service_time = model_parameters.transplant_doctor_3_mean_service_time_complex\n",
    "    service_duration = np.random.exponential(mean_service_time)\n",
    "    SimFunctions.SchedulePlus(Calendar, \"transplant_doctor_3_service_end\", service_duration, new_patient)"
   ]
  },
  {
   "cell_type": "code",
   "execution_count": 25,
   "id": "c930902e",
   "metadata": {},
   "outputs": [],
   "source": [
    "def leukemia_doctor_1_service_end(new_patient: Patient):\n",
    "    leukemia_doctor_1.Free(1)\n",
    "    SimFunctions.SchedulePlus(Calendar, \"process_complete\", 0, new_patient)\n",
    "\n",
    "    if leukemia_doctor_1.CurrentNumBusy < leukemia_doctor_1.NumberOfUnits and leukemia_doctor_1_queue.NumQueue() > 0:\n",
    "        leukemia_doctor_1.Seize(1)\n",
    "        next_patient = leukemia_doctor_1_queue.Remove()\n",
    "        leukemia_doctor_1_wait_time.Record(SimClasses.Clock - next_patient.enter_doctor_queue_time)\n",
    "        SimFunctions.SchedulePlus(Calendar, \"leukemia_doctor_1_service_start\", 0, next_patient)\n",
    "\n",
    "def leukemia_doctor_2_service_end(new_patient: Patient):\n",
    "    leukemia_doctor_2.Free(1)\n",
    "    SimFunctions.SchedulePlus(Calendar, \"process_complete\", 0, new_patient)\n",
    "\n",
    "    if leukemia_doctor_2.CurrentNumBusy < leukemia_doctor_2.NumberOfUnits and leukemia_doctor_2_queue.NumQueue() > 0:\n",
    "        leukemia_doctor_2.Seize(1)\n",
    "        next_patient = leukemia_doctor_2_queue.Remove()\n",
    "        leukemia_doctor_2_wait_time.Record(SimClasses.Clock - next_patient.enter_doctor_queue_time)\n",
    "        SimFunctions.SchedulePlus(Calendar, \"leukemia_doctor_2_service_start\", 0, next_patient)\n",
    "\n",
    "def transplant_doctor_1_service_end(new_patient: Patient):\n",
    "    transplant_doctor_1.Free(1)\n",
    "    SimFunctions.SchedulePlus(Calendar, \"process_complete\", 0, new_patient)\n",
    "\n",
    "    if transplant_doctor_1.CurrentNumBusy < transplant_doctor_1.NumberOfUnits and transplant_doctor_1_queue.NumQueue() > 0:\n",
    "        transplant_doctor_1.Seize(1)\n",
    "        next_patient = transplant_doctor_1_queue.Remove()\n",
    "        transplant_doctor_1_wait_time.Record(SimClasses.Clock - next_patient.enter_doctor_queue_time)\n",
    "        SimFunctions.SchedulePlus(Calendar, \"transplant_doctor_1_service_start\", 0, next_patient)\n",
    "\n",
    "def transplant_doctor_2_service_end(new_patient: Patient):\n",
    "    transplant_doctor_2.Free(1)\n",
    "    SimFunctions.SchedulePlus(Calendar, \"process_complete\", 0, new_patient)\n",
    "\n",
    "    if transplant_doctor_2.CurrentNumBusy < transplant_doctor_2.NumberOfUnits and transplant_doctor_2_queue.NumQueue() > 0:\n",
    "        transplant_doctor_2.Seize(1)\n",
    "        next_patient = transplant_doctor_2_queue.Remove()\n",
    "        transplant_doctor_2_wait_time.Record(SimClasses.Clock - next_patient.enter_doctor_queue_time)\n",
    "        SimFunctions.SchedulePlus(Calendar, \"transplant_doctor_2_service_start\", 0, next_patient)\n",
    "\n",
    "def transplant_doctor_3_service_end(new_patient: Patient):\n",
    "    transplant_doctor_3.Free(1)\n",
    "    SimFunctions.SchedulePlus(Calendar, \"process_complete\", 0, new_patient)\n",
    "\n",
    "    if transplant_doctor_3.CurrentNumBusy < transplant_doctor_3.NumberOfUnits and transplant_doctor_3_queue.NumQueue() > 0:\n",
    "        transplant_doctor_3.Seize(1)\n",
    "        next_patient = transplant_doctor_3_queue.Remove()\n",
    "        transplant_doctor_3_wait_time.Record(SimClasses.Clock - next_patient.enter_doctor_queue_time)\n",
    "        SimFunctions.SchedulePlus(Calendar, \"transplant_doctor_3_service_start\", 0, next_patient)"
   ]
  },
  {
   "cell_type": "code",
   "execution_count": 26,
   "id": "c506a33f",
   "metadata": {},
   "outputs": [],
   "source": [
    "def process_complete(new_patient: Patient, clock: float):\n",
    "    if new_patient.doctor_name == \"leukemia_doctor_1\":\n",
    "        leukemia_doctor_1_scheduled_vs_actual_time_diff.Record(new_patient.scheduled_doctor_consultation_time_vs_actual_doctor_consultation_time)\n",
    "        if new_patient.complexity_level == \"complex\":\n",
    "            leukemia_doctor_1_complex_patients_total_processing_time.Record(SimClasses.Clock - new_patient.arrival_time)\n",
    "        else:\n",
    "            leukemia_doctor_1_regular_patients_total_processing_time.Record(SimClasses.Clock - new_patient.arrival_time)\n",
    "    elif new_patient.doctor_name == \"leukemia_doctor_2\":\n",
    "        leukemia_doctor_2_scheduled_vs_actual_time_diff.Record(new_patient.scheduled_doctor_consultation_time_vs_actual_doctor_consultation_time)\n",
    "        if new_patient.complexity_level == \"complex\":\n",
    "            leukemia_doctor_2_complex_patients_total_processing_time.Record(SimClasses.Clock - new_patient.arrival_time)\n",
    "        else:\n",
    "            leukemia_doctor_2_regular_patients_total_processing_time.Record(SimClasses.Clock - new_patient.arrival_time)\n",
    "    elif new_patient.doctor_name == \"transplant_doctor_1\":\n",
    "        transplant_doctor_1_scheduled_vs_actual_time_diff.Record(new_patient.scheduled_doctor_consultation_time_vs_actual_doctor_consultation_time)\n",
    "        if new_patient.complexity_level == \"complex\":\n",
    "            transplant_doctor_1_complex_patients_total_processing_time.Record(SimClasses.Clock - new_patient.arrival_time)\n",
    "        else:\n",
    "            transplant_doctor_1_regular_patients_total_processing_time.Record(SimClasses.Clock - new_patient.arrival_time)\n",
    "    elif new_patient.doctor_name == \"transplant_doctor_2\":\n",
    "        transplant_doctor_2_scheduled_vs_actual_time_diff.Record(new_patient.scheduled_doctor_consultation_time_vs_actual_doctor_consultation_time)\n",
    "        if new_patient.complexity_level == \"complex\":\n",
    "            transplant_doctor_2_complex_patients_total_processing_time.Record(SimClasses.Clock - new_patient.arrival_time)\n",
    "        else:\n",
    "            transplant_doctor_2_regular_patients_total_processing_time.Record(SimClasses.Clock - new_patient.arrival_time)\n",
    "    elif new_patient.doctor_name == \"transplant_doctor_3\":\n",
    "        transplant_doctor_3_scheduled_vs_actual_time_diff.Record(new_patient.scheduled_doctor_consultation_time_vs_actual_doctor_consultation_time)\n",
    "        if new_patient.complexity_level == \"complex\":\n",
    "            transplant_doctor_3_complex_patients_total_processing_time.Record(SimClasses.Clock - new_patient.arrival_time)\n",
    "        else:\n",
    "            transplant_doctor_3_regular_patients_total_processing_time.Record(SimClasses.Clock - new_patient.arrival_time)\n",
    "    elif new_patient.doctor_name == \"other\":\n",
    "        other_patients_total_processing_time.Record(SimClasses.Clock - new_patient.arrival_time)\n",
    "    else:\n",
    "        raise ValueError(f\"Invalid doctor name: {new_patient.doctor_name}\")\n",
    "    \n",
    "    new_patient.end_visit(clock)"
   ]
  },
  {
   "cell_type": "code",
   "execution_count": 27,
   "id": "687819ff",
   "metadata": {},
   "outputs": [],
   "source": [
    "def generate_patients(calendar: SimClasses.EventCalendar,parameters: ModelParameters):\n",
    "    \n",
    "    leukemia_doctor_1_number_of_patients = parameters.leukemia_doctor_1_number_of_regular_patients + parameters.leukemia_doctor_1_number_of_complex_patients\n",
    "    leukemia_doctor_1_patient_arrival_times = [60 + i*20 for i in range(leukemia_doctor_1_number_of_patients)]\n",
    "    leukemia_doctor_2_number_of_patients = parameters.leukemia_doctor_2_number_of_regular_patients + parameters.leukemia_doctor_2_number_of_complex_patients\n",
    "    leukemia_doctor_2_patient_arrival_times = [60 + i*20 for i in range(leukemia_doctor_2_number_of_patients)]\n",
    "\n",
    "    transplant_doctor_1_number_of_patients = parameters.transplant_doctor_1_number_of_regular_patients + parameters.transplant_doctor_1_number_of_complex_patients\n",
    "    transplant_doctor_1_patient_arrival_times = [60 + i*20 for i in range(transplant_doctor_1_number_of_patients)]\n",
    "    transplant_doctor_2_number_of_patients = parameters.transplant_doctor_2_number_of_regular_patients + parameters.transplant_doctor_2_number_of_complex_patients\n",
    "    transplant_doctor_2_patient_arrival_times = [60 + i*20 for i in range(transplant_doctor_2_number_of_patients)]\n",
    "    transplant_doctor_3_number_of_patients = parameters.transplant_doctor_3_number_of_regular_patients + parameters.transplant_doctor_3_number_of_complex_patients\n",
    "    transplant_doctor_3_patient_arrival_times = [60 + i*20 for i in range(transplant_doctor_3_number_of_patients)]\n",
    "\n",
    "    other_patients_arrival_times = [60 + i*10 for i in range(parameters.number_of_other_patients)]\n",
    "\n",
    "    leukemia_doctor_1_patients = initialize_patients(leukemia_doctor_1_patient_arrival_times, \"leukemia_doctor_1\", calendar)\n",
    "    leukemia_doctor_2_patients = initialize_patients(leukemia_doctor_2_patient_arrival_times, \"leukemia_doctor_2\", calendar)\n",
    "    transplant_doctor_1_patients = initialize_patients(transplant_doctor_1_patient_arrival_times, \"transplant_doctor_1\", calendar)\n",
    "    transplant_doctor_2_patients = initialize_patients(transplant_doctor_2_patient_arrival_times, \"transplant_doctor_2\", calendar)\n",
    "    transplant_doctor_3_patients = initialize_patients(transplant_doctor_3_patient_arrival_times, \"transplant_doctor_3\", calendar)\n",
    "    other_patients = initialize_patients(other_patients_arrival_times, \"other\", calendar)\n",
    "    list_of_patients = [leukemia_doctor_1_patients, leukemia_doctor_2_patients, transplant_doctor_1_patients, transplant_doctor_2_patients, transplant_doctor_3_patients, other_patients]\n",
    "\n",
    "    return list_of_patients"
   ]
  },
  {
   "cell_type": "code",
   "execution_count": 28,
   "id": "d50b928d",
   "metadata": {},
   "outputs": [
    {
     "data": {
      "application/vnd.jupyter.widget-view+json": {
       "model_id": "b5a6022826684bc9bdefe1007efe5720",
       "version_major": 2,
       "version_minor": 0
      },
      "text/plain": [
       "Running Simulation:   0%|          | 0/100 [00:00<?, ?it/s]"
      ]
     },
     "metadata": {},
     "output_type": "display_data"
    },
    {
     "data": {
      "application/vnd.jupyter.widget-view+json": {
       "model_id": "126e9c737155476fb5a2f8578edd3b42",
       "version_major": 2,
       "version_minor": 0
      },
      "text/plain": [
       "Iteration 1 in process:   0%|          | 0/101 [00:00<?, ?it/s]"
      ]
     },
     "metadata": {},
     "output_type": "display_data"
    },
    {
     "data": {
      "application/vnd.jupyter.widget-view+json": {
       "model_id": "3326c54fa7a744b8ac23d0d71561e414",
       "version_major": 2,
       "version_minor": 0
      },
      "text/plain": [
       "Iteration 2 in process:   0%|          | 0/101 [00:00<?, ?it/s]"
      ]
     },
     "metadata": {},
     "output_type": "display_data"
    },
    {
     "data": {
      "application/vnd.jupyter.widget-view+json": {
       "model_id": "b56f641be6a543ab9239a74fda58154e",
       "version_major": 2,
       "version_minor": 0
      },
      "text/plain": [
       "Iteration 3 in process:   0%|          | 0/101 [00:00<?, ?it/s]"
      ]
     },
     "metadata": {},
     "output_type": "display_data"
    },
    {
     "data": {
      "application/vnd.jupyter.widget-view+json": {
       "model_id": "40658752eb904fc0884fd153d521629b",
       "version_major": 2,
       "version_minor": 0
      },
      "text/plain": [
       "Iteration 4 in process:   0%|          | 0/101 [00:00<?, ?it/s]"
      ]
     },
     "metadata": {},
     "output_type": "display_data"
    },
    {
     "data": {
      "application/vnd.jupyter.widget-view+json": {
       "model_id": "ac1e947e0b2a49d5bf373f708b98ed64",
       "version_major": 2,
       "version_minor": 0
      },
      "text/plain": [
       "Iteration 5 in process:   0%|          | 0/101 [00:00<?, ?it/s]"
      ]
     },
     "metadata": {},
     "output_type": "display_data"
    },
    {
     "data": {
      "application/vnd.jupyter.widget-view+json": {
       "model_id": "001e1cc4d06c428d97aaa26fc380f35c",
       "version_major": 2,
       "version_minor": 0
      },
      "text/plain": [
       "Iteration 6 in process:   0%|          | 0/101 [00:00<?, ?it/s]"
      ]
     },
     "metadata": {},
     "output_type": "display_data"
    },
    {
     "data": {
      "application/vnd.jupyter.widget-view+json": {
       "model_id": "a7a2e09b2b454ccd9c16190a2ef9bcaf",
       "version_major": 2,
       "version_minor": 0
      },
      "text/plain": [
       "Iteration 7 in process:   0%|          | 0/101 [00:00<?, ?it/s]"
      ]
     },
     "metadata": {},
     "output_type": "display_data"
    },
    {
     "data": {
      "application/vnd.jupyter.widget-view+json": {
       "model_id": "e2bc26fd14f744e19a702220d4298206",
       "version_major": 2,
       "version_minor": 0
      },
      "text/plain": [
       "Iteration 8 in process:   0%|          | 0/101 [00:00<?, ?it/s]"
      ]
     },
     "metadata": {},
     "output_type": "display_data"
    },
    {
     "data": {
      "application/vnd.jupyter.widget-view+json": {
       "model_id": "9c685b1e5e624695b44ad1428b194cd9",
       "version_major": 2,
       "version_minor": 0
      },
      "text/plain": [
       "Iteration 9 in process:   0%|          | 0/101 [00:00<?, ?it/s]"
      ]
     },
     "metadata": {},
     "output_type": "display_data"
    },
    {
     "data": {
      "application/vnd.jupyter.widget-view+json": {
       "model_id": "4a8e191f8301432aa07e9fef31efda4f",
       "version_major": 2,
       "version_minor": 0
      },
      "text/plain": [
       "Iteration 10 in process:   0%|          | 0/101 [00:00<?, ?it/s]"
      ]
     },
     "metadata": {},
     "output_type": "display_data"
    },
    {
     "data": {
      "application/vnd.jupyter.widget-view+json": {
       "model_id": "0da21673ba1447f58e12d5bb3a54271f",
       "version_major": 2,
       "version_minor": 0
      },
      "text/plain": [
       "Iteration 11 in process:   0%|          | 0/101 [00:00<?, ?it/s]"
      ]
     },
     "metadata": {},
     "output_type": "display_data"
    },
    {
     "data": {
      "application/vnd.jupyter.widget-view+json": {
       "model_id": "d7bb6d0034f94f0888711c001b4fb6a3",
       "version_major": 2,
       "version_minor": 0
      },
      "text/plain": [
       "Iteration 12 in process:   0%|          | 0/101 [00:00<?, ?it/s]"
      ]
     },
     "metadata": {},
     "output_type": "display_data"
    },
    {
     "data": {
      "application/vnd.jupyter.widget-view+json": {
       "model_id": "8b2e68ba01c648129638a48ba6b9ee10",
       "version_major": 2,
       "version_minor": 0
      },
      "text/plain": [
       "Iteration 13 in process:   0%|          | 0/101 [00:00<?, ?it/s]"
      ]
     },
     "metadata": {},
     "output_type": "display_data"
    },
    {
     "data": {
      "application/vnd.jupyter.widget-view+json": {
       "model_id": "41bc33cc49b0469ab6edb7ec80976982",
       "version_major": 2,
       "version_minor": 0
      },
      "text/plain": [
       "Iteration 14 in process:   0%|          | 0/101 [00:00<?, ?it/s]"
      ]
     },
     "metadata": {},
     "output_type": "display_data"
    },
    {
     "data": {
      "application/vnd.jupyter.widget-view+json": {
       "model_id": "809bb3442beb4f4680e44a268d457c84",
       "version_major": 2,
       "version_minor": 0
      },
      "text/plain": [
       "Iteration 15 in process:   0%|          | 0/101 [00:00<?, ?it/s]"
      ]
     },
     "metadata": {},
     "output_type": "display_data"
    },
    {
     "data": {
      "application/vnd.jupyter.widget-view+json": {
       "model_id": "120bc141817746078daf4264c0010598",
       "version_major": 2,
       "version_minor": 0
      },
      "text/plain": [
       "Iteration 16 in process:   0%|          | 0/101 [00:00<?, ?it/s]"
      ]
     },
     "metadata": {},
     "output_type": "display_data"
    },
    {
     "data": {
      "application/vnd.jupyter.widget-view+json": {
       "model_id": "88c7e422481644beb1a4a22fb54910be",
       "version_major": 2,
       "version_minor": 0
      },
      "text/plain": [
       "Iteration 17 in process:   0%|          | 0/101 [00:00<?, ?it/s]"
      ]
     },
     "metadata": {},
     "output_type": "display_data"
    },
    {
     "data": {
      "application/vnd.jupyter.widget-view+json": {
       "model_id": "2e10dc3fbb334bc59e49cef2cb3f9be0",
       "version_major": 2,
       "version_minor": 0
      },
      "text/plain": [
       "Iteration 18 in process:   0%|          | 0/101 [00:00<?, ?it/s]"
      ]
     },
     "metadata": {},
     "output_type": "display_data"
    },
    {
     "data": {
      "application/vnd.jupyter.widget-view+json": {
       "model_id": "8ec5d69f0f6745f3bc1236905bd0724a",
       "version_major": 2,
       "version_minor": 0
      },
      "text/plain": [
       "Iteration 19 in process:   0%|          | 0/101 [00:00<?, ?it/s]"
      ]
     },
     "metadata": {},
     "output_type": "display_data"
    },
    {
     "data": {
      "application/vnd.jupyter.widget-view+json": {
       "model_id": "d52f57e2c8474ea0b1c53343e7843e2c",
       "version_major": 2,
       "version_minor": 0
      },
      "text/plain": [
       "Iteration 20 in process:   0%|          | 0/101 [00:00<?, ?it/s]"
      ]
     },
     "metadata": {},
     "output_type": "display_data"
    },
    {
     "data": {
      "application/vnd.jupyter.widget-view+json": {
       "model_id": "b57b132399bc4b12877fd23821559475",
       "version_major": 2,
       "version_minor": 0
      },
      "text/plain": [
       "Iteration 21 in process:   0%|          | 0/101 [00:00<?, ?it/s]"
      ]
     },
     "metadata": {},
     "output_type": "display_data"
    },
    {
     "data": {
      "application/vnd.jupyter.widget-view+json": {
       "model_id": "ffde1f88f93b49a59de50043f4a58247",
       "version_major": 2,
       "version_minor": 0
      },
      "text/plain": [
       "Iteration 22 in process:   0%|          | 0/101 [00:00<?, ?it/s]"
      ]
     },
     "metadata": {},
     "output_type": "display_data"
    },
    {
     "data": {
      "application/vnd.jupyter.widget-view+json": {
       "model_id": "564a3e5ba6cc4f85a16633993b01e1e1",
       "version_major": 2,
       "version_minor": 0
      },
      "text/plain": [
       "Iteration 23 in process:   0%|          | 0/101 [00:00<?, ?it/s]"
      ]
     },
     "metadata": {},
     "output_type": "display_data"
    },
    {
     "data": {
      "application/vnd.jupyter.widget-view+json": {
       "model_id": "a64526be69a2477faf51c92ed6d01e99",
       "version_major": 2,
       "version_minor": 0
      },
      "text/plain": [
       "Iteration 24 in process:   0%|          | 0/101 [00:00<?, ?it/s]"
      ]
     },
     "metadata": {},
     "output_type": "display_data"
    },
    {
     "data": {
      "application/vnd.jupyter.widget-view+json": {
       "model_id": "b774ff0c7e954547884625ed0e1cba5f",
       "version_major": 2,
       "version_minor": 0
      },
      "text/plain": [
       "Iteration 25 in process:   0%|          | 0/101 [00:00<?, ?it/s]"
      ]
     },
     "metadata": {},
     "output_type": "display_data"
    },
    {
     "data": {
      "application/vnd.jupyter.widget-view+json": {
       "model_id": "c5856157315c4637868fbc58b02ec47f",
       "version_major": 2,
       "version_minor": 0
      },
      "text/plain": [
       "Iteration 26 in process:   0%|          | 0/101 [00:00<?, ?it/s]"
      ]
     },
     "metadata": {},
     "output_type": "display_data"
    },
    {
     "data": {
      "application/vnd.jupyter.widget-view+json": {
       "model_id": "65dd5673b5ed4bbab445c42b9b5817cb",
       "version_major": 2,
       "version_minor": 0
      },
      "text/plain": [
       "Iteration 27 in process:   0%|          | 0/101 [00:00<?, ?it/s]"
      ]
     },
     "metadata": {},
     "output_type": "display_data"
    },
    {
     "data": {
      "application/vnd.jupyter.widget-view+json": {
       "model_id": "fa01ad968cff4517aeae332d75b3d886",
       "version_major": 2,
       "version_minor": 0
      },
      "text/plain": [
       "Iteration 28 in process:   0%|          | 0/101 [00:00<?, ?it/s]"
      ]
     },
     "metadata": {},
     "output_type": "display_data"
    },
    {
     "data": {
      "application/vnd.jupyter.widget-view+json": {
       "model_id": "07413f7b989348f19d87b6bc57f6c6e5",
       "version_major": 2,
       "version_minor": 0
      },
      "text/plain": [
       "Iteration 29 in process:   0%|          | 0/101 [00:00<?, ?it/s]"
      ]
     },
     "metadata": {},
     "output_type": "display_data"
    },
    {
     "data": {
      "application/vnd.jupyter.widget-view+json": {
       "model_id": "b0603001377f47dca1920535c5321dff",
       "version_major": 2,
       "version_minor": 0
      },
      "text/plain": [
       "Iteration 30 in process:   0%|          | 0/101 [00:00<?, ?it/s]"
      ]
     },
     "metadata": {},
     "output_type": "display_data"
    },
    {
     "data": {
      "application/vnd.jupyter.widget-view+json": {
       "model_id": "50f3901ac49843ca99141ae35a30dbdb",
       "version_major": 2,
       "version_minor": 0
      },
      "text/plain": [
       "Iteration 31 in process:   0%|          | 0/101 [00:00<?, ?it/s]"
      ]
     },
     "metadata": {},
     "output_type": "display_data"
    },
    {
     "data": {
      "application/vnd.jupyter.widget-view+json": {
       "model_id": "c0d77a5f413240caac25de3a1c1a0079",
       "version_major": 2,
       "version_minor": 0
      },
      "text/plain": [
       "Iteration 32 in process:   0%|          | 0/101 [00:00<?, ?it/s]"
      ]
     },
     "metadata": {},
     "output_type": "display_data"
    },
    {
     "data": {
      "application/vnd.jupyter.widget-view+json": {
       "model_id": "6ff099f914584b3b955b8fd73ce04e0e",
       "version_major": 2,
       "version_minor": 0
      },
      "text/plain": [
       "Iteration 33 in process:   0%|          | 0/101 [00:00<?, ?it/s]"
      ]
     },
     "metadata": {},
     "output_type": "display_data"
    },
    {
     "data": {
      "application/vnd.jupyter.widget-view+json": {
       "model_id": "21681fc9dbb84eb697e99454c4e7f0d2",
       "version_major": 2,
       "version_minor": 0
      },
      "text/plain": [
       "Iteration 34 in process:   0%|          | 0/101 [00:00<?, ?it/s]"
      ]
     },
     "metadata": {},
     "output_type": "display_data"
    },
    {
     "data": {
      "application/vnd.jupyter.widget-view+json": {
       "model_id": "c61d1ea56487425cb92721b1c52dbe6a",
       "version_major": 2,
       "version_minor": 0
      },
      "text/plain": [
       "Iteration 35 in process:   0%|          | 0/101 [00:00<?, ?it/s]"
      ]
     },
     "metadata": {},
     "output_type": "display_data"
    },
    {
     "data": {
      "application/vnd.jupyter.widget-view+json": {
       "model_id": "c013c1d9d0ef4720befebf9d78584c6f",
       "version_major": 2,
       "version_minor": 0
      },
      "text/plain": [
       "Iteration 36 in process:   0%|          | 0/101 [00:00<?, ?it/s]"
      ]
     },
     "metadata": {},
     "output_type": "display_data"
    },
    {
     "data": {
      "application/vnd.jupyter.widget-view+json": {
       "model_id": "ad8f697cf5264664b5f62cce884bb5fb",
       "version_major": 2,
       "version_minor": 0
      },
      "text/plain": [
       "Iteration 37 in process:   0%|          | 0/101 [00:00<?, ?it/s]"
      ]
     },
     "metadata": {},
     "output_type": "display_data"
    },
    {
     "data": {
      "application/vnd.jupyter.widget-view+json": {
       "model_id": "ab74cd8f549a47f0b1ac162ea776d0e1",
       "version_major": 2,
       "version_minor": 0
      },
      "text/plain": [
       "Iteration 38 in process:   0%|          | 0/101 [00:00<?, ?it/s]"
      ]
     },
     "metadata": {},
     "output_type": "display_data"
    },
    {
     "data": {
      "application/vnd.jupyter.widget-view+json": {
       "model_id": "ce46cb7d172e49bc8fcb53352f1dafaa",
       "version_major": 2,
       "version_minor": 0
      },
      "text/plain": [
       "Iteration 39 in process:   0%|          | 0/101 [00:00<?, ?it/s]"
      ]
     },
     "metadata": {},
     "output_type": "display_data"
    },
    {
     "data": {
      "application/vnd.jupyter.widget-view+json": {
       "model_id": "a739e5920c294747b227c95a40ccf140",
       "version_major": 2,
       "version_minor": 0
      },
      "text/plain": [
       "Iteration 40 in process:   0%|          | 0/101 [00:00<?, ?it/s]"
      ]
     },
     "metadata": {},
     "output_type": "display_data"
    },
    {
     "data": {
      "application/vnd.jupyter.widget-view+json": {
       "model_id": "2d3e146df16f49c4b624d790ab21aefb",
       "version_major": 2,
       "version_minor": 0
      },
      "text/plain": [
       "Iteration 41 in process:   0%|          | 0/101 [00:00<?, ?it/s]"
      ]
     },
     "metadata": {},
     "output_type": "display_data"
    },
    {
     "data": {
      "application/vnd.jupyter.widget-view+json": {
       "model_id": "b1b1ac54497b4baf9ca7bf3d1a9f01f2",
       "version_major": 2,
       "version_minor": 0
      },
      "text/plain": [
       "Iteration 42 in process:   0%|          | 0/101 [00:00<?, ?it/s]"
      ]
     },
     "metadata": {},
     "output_type": "display_data"
    },
    {
     "data": {
      "application/vnd.jupyter.widget-view+json": {
       "model_id": "64f2730b9dcb4f67b6c22cf475f52306",
       "version_major": 2,
       "version_minor": 0
      },
      "text/plain": [
       "Iteration 43 in process:   0%|          | 0/101 [00:00<?, ?it/s]"
      ]
     },
     "metadata": {},
     "output_type": "display_data"
    },
    {
     "data": {
      "application/vnd.jupyter.widget-view+json": {
       "model_id": "6f6fcd892fc94944bbf3949d8daacbf6",
       "version_major": 2,
       "version_minor": 0
      },
      "text/plain": [
       "Iteration 44 in process:   0%|          | 0/101 [00:00<?, ?it/s]"
      ]
     },
     "metadata": {},
     "output_type": "display_data"
    },
    {
     "data": {
      "application/vnd.jupyter.widget-view+json": {
       "model_id": "35c155acfffa4fbba8a959e8fd15f8e1",
       "version_major": 2,
       "version_minor": 0
      },
      "text/plain": [
       "Iteration 45 in process:   0%|          | 0/101 [00:00<?, ?it/s]"
      ]
     },
     "metadata": {},
     "output_type": "display_data"
    },
    {
     "data": {
      "application/vnd.jupyter.widget-view+json": {
       "model_id": "0f3327a7eb634dd0af8b9a021a7ad17f",
       "version_major": 2,
       "version_minor": 0
      },
      "text/plain": [
       "Iteration 46 in process:   0%|          | 0/101 [00:00<?, ?it/s]"
      ]
     },
     "metadata": {},
     "output_type": "display_data"
    },
    {
     "data": {
      "application/vnd.jupyter.widget-view+json": {
       "model_id": "ec81cac9c1944e45a9eba15755f40cb7",
       "version_major": 2,
       "version_minor": 0
      },
      "text/plain": [
       "Iteration 47 in process:   0%|          | 0/101 [00:00<?, ?it/s]"
      ]
     },
     "metadata": {},
     "output_type": "display_data"
    },
    {
     "data": {
      "application/vnd.jupyter.widget-view+json": {
       "model_id": "6850bfc9666c45f1aa9f246f33c5b5fc",
       "version_major": 2,
       "version_minor": 0
      },
      "text/plain": [
       "Iteration 48 in process:   0%|          | 0/101 [00:00<?, ?it/s]"
      ]
     },
     "metadata": {},
     "output_type": "display_data"
    },
    {
     "data": {
      "application/vnd.jupyter.widget-view+json": {
       "model_id": "5322031115814a85a34b3844f181d029",
       "version_major": 2,
       "version_minor": 0
      },
      "text/plain": [
       "Iteration 49 in process:   0%|          | 0/101 [00:00<?, ?it/s]"
      ]
     },
     "metadata": {},
     "output_type": "display_data"
    },
    {
     "data": {
      "application/vnd.jupyter.widget-view+json": {
       "model_id": "683fe22998644724a770833437d81ae5",
       "version_major": 2,
       "version_minor": 0
      },
      "text/plain": [
       "Iteration 50 in process:   0%|          | 0/101 [00:00<?, ?it/s]"
      ]
     },
     "metadata": {},
     "output_type": "display_data"
    },
    {
     "data": {
      "application/vnd.jupyter.widget-view+json": {
       "model_id": "8989c01f8e5647d1bbe7009b2e81492e",
       "version_major": 2,
       "version_minor": 0
      },
      "text/plain": [
       "Iteration 51 in process:   0%|          | 0/101 [00:00<?, ?it/s]"
      ]
     },
     "metadata": {},
     "output_type": "display_data"
    },
    {
     "data": {
      "application/vnd.jupyter.widget-view+json": {
       "model_id": "99761d8c8da84abe834e9b8d70824b4d",
       "version_major": 2,
       "version_minor": 0
      },
      "text/plain": [
       "Iteration 52 in process:   0%|          | 0/101 [00:00<?, ?it/s]"
      ]
     },
     "metadata": {},
     "output_type": "display_data"
    },
    {
     "data": {
      "application/vnd.jupyter.widget-view+json": {
       "model_id": "3f2976e49f65458ebb36c081250cbc15",
       "version_major": 2,
       "version_minor": 0
      },
      "text/plain": [
       "Iteration 53 in process:   0%|          | 0/101 [00:00<?, ?it/s]"
      ]
     },
     "metadata": {},
     "output_type": "display_data"
    },
    {
     "data": {
      "application/vnd.jupyter.widget-view+json": {
       "model_id": "3feb4ddf346c4d82838a9f9d47cd15cf",
       "version_major": 2,
       "version_minor": 0
      },
      "text/plain": [
       "Iteration 54 in process:   0%|          | 0/101 [00:00<?, ?it/s]"
      ]
     },
     "metadata": {},
     "output_type": "display_data"
    },
    {
     "data": {
      "application/vnd.jupyter.widget-view+json": {
       "model_id": "8ecd5501caa644768b35160743f5cc9a",
       "version_major": 2,
       "version_minor": 0
      },
      "text/plain": [
       "Iteration 55 in process:   0%|          | 0/101 [00:00<?, ?it/s]"
      ]
     },
     "metadata": {},
     "output_type": "display_data"
    },
    {
     "data": {
      "application/vnd.jupyter.widget-view+json": {
       "model_id": "f56b5fec918547a2ad3ea80303179caf",
       "version_major": 2,
       "version_minor": 0
      },
      "text/plain": [
       "Iteration 56 in process:   0%|          | 0/101 [00:00<?, ?it/s]"
      ]
     },
     "metadata": {},
     "output_type": "display_data"
    },
    {
     "data": {
      "application/vnd.jupyter.widget-view+json": {
       "model_id": "7b2d27b339554355b34432ee91b4dd46",
       "version_major": 2,
       "version_minor": 0
      },
      "text/plain": [
       "Iteration 57 in process:   0%|          | 0/101 [00:00<?, ?it/s]"
      ]
     },
     "metadata": {},
     "output_type": "display_data"
    },
    {
     "data": {
      "application/vnd.jupyter.widget-view+json": {
       "model_id": "b989cc3c02de4941a90b632aefd35602",
       "version_major": 2,
       "version_minor": 0
      },
      "text/plain": [
       "Iteration 58 in process:   0%|          | 0/101 [00:00<?, ?it/s]"
      ]
     },
     "metadata": {},
     "output_type": "display_data"
    },
    {
     "data": {
      "application/vnd.jupyter.widget-view+json": {
       "model_id": "96ee2b55c56e46d68c77b06a0d902471",
       "version_major": 2,
       "version_minor": 0
      },
      "text/plain": [
       "Iteration 59 in process:   0%|          | 0/101 [00:00<?, ?it/s]"
      ]
     },
     "metadata": {},
     "output_type": "display_data"
    },
    {
     "data": {
      "application/vnd.jupyter.widget-view+json": {
       "model_id": "fe2b0c5ae7904942a93d82f5138b0c6e",
       "version_major": 2,
       "version_minor": 0
      },
      "text/plain": [
       "Iteration 60 in process:   0%|          | 0/101 [00:00<?, ?it/s]"
      ]
     },
     "metadata": {},
     "output_type": "display_data"
    },
    {
     "data": {
      "application/vnd.jupyter.widget-view+json": {
       "model_id": "9ca7215b551043c4a63392aa15a9bcd4",
       "version_major": 2,
       "version_minor": 0
      },
      "text/plain": [
       "Iteration 61 in process:   0%|          | 0/101 [00:00<?, ?it/s]"
      ]
     },
     "metadata": {},
     "output_type": "display_data"
    },
    {
     "data": {
      "application/vnd.jupyter.widget-view+json": {
       "model_id": "379f7684b19c470480f435264aeab7f2",
       "version_major": 2,
       "version_minor": 0
      },
      "text/plain": [
       "Iteration 62 in process:   0%|          | 0/101 [00:00<?, ?it/s]"
      ]
     },
     "metadata": {},
     "output_type": "display_data"
    },
    {
     "data": {
      "application/vnd.jupyter.widget-view+json": {
       "model_id": "6a80c6101f68449bad322959caf7ebb5",
       "version_major": 2,
       "version_minor": 0
      },
      "text/plain": [
       "Iteration 63 in process:   0%|          | 0/101 [00:00<?, ?it/s]"
      ]
     },
     "metadata": {},
     "output_type": "display_data"
    },
    {
     "data": {
      "application/vnd.jupyter.widget-view+json": {
       "model_id": "b3c946b694554e07b11a324e7f924699",
       "version_major": 2,
       "version_minor": 0
      },
      "text/plain": [
       "Iteration 64 in process:   0%|          | 0/101 [00:00<?, ?it/s]"
      ]
     },
     "metadata": {},
     "output_type": "display_data"
    },
    {
     "data": {
      "application/vnd.jupyter.widget-view+json": {
       "model_id": "ee1ecb966b8e4c44be802d78fa70297c",
       "version_major": 2,
       "version_minor": 0
      },
      "text/plain": [
       "Iteration 65 in process:   0%|          | 0/101 [00:00<?, ?it/s]"
      ]
     },
     "metadata": {},
     "output_type": "display_data"
    },
    {
     "data": {
      "application/vnd.jupyter.widget-view+json": {
       "model_id": "0e02849fc77241b39825bc443b9b9b26",
       "version_major": 2,
       "version_minor": 0
      },
      "text/plain": [
       "Iteration 66 in process:   0%|          | 0/101 [00:00<?, ?it/s]"
      ]
     },
     "metadata": {},
     "output_type": "display_data"
    },
    {
     "data": {
      "application/vnd.jupyter.widget-view+json": {
       "model_id": "cca5a671d76e4d80b828fdbdac6b9d46",
       "version_major": 2,
       "version_minor": 0
      },
      "text/plain": [
       "Iteration 67 in process:   0%|          | 0/101 [00:00<?, ?it/s]"
      ]
     },
     "metadata": {},
     "output_type": "display_data"
    },
    {
     "data": {
      "application/vnd.jupyter.widget-view+json": {
       "model_id": "8c1877933b4346e893b1a9d8a4b04a82",
       "version_major": 2,
       "version_minor": 0
      },
      "text/plain": [
       "Iteration 68 in process:   0%|          | 0/101 [00:00<?, ?it/s]"
      ]
     },
     "metadata": {},
     "output_type": "display_data"
    },
    {
     "data": {
      "application/vnd.jupyter.widget-view+json": {
       "model_id": "c086291a5ebd4cdf9620b767a48be4d6",
       "version_major": 2,
       "version_minor": 0
      },
      "text/plain": [
       "Iteration 69 in process:   0%|          | 0/101 [00:00<?, ?it/s]"
      ]
     },
     "metadata": {},
     "output_type": "display_data"
    },
    {
     "data": {
      "application/vnd.jupyter.widget-view+json": {
       "model_id": "18169fcd82c048bbbdb8880cdd4b4a59",
       "version_major": 2,
       "version_minor": 0
      },
      "text/plain": [
       "Iteration 70 in process:   0%|          | 0/101 [00:00<?, ?it/s]"
      ]
     },
     "metadata": {},
     "output_type": "display_data"
    },
    {
     "data": {
      "application/vnd.jupyter.widget-view+json": {
       "model_id": "9a6661091b60465293631efe45fcd1e2",
       "version_major": 2,
       "version_minor": 0
      },
      "text/plain": [
       "Iteration 71 in process:   0%|          | 0/101 [00:00<?, ?it/s]"
      ]
     },
     "metadata": {},
     "output_type": "display_data"
    },
    {
     "data": {
      "application/vnd.jupyter.widget-view+json": {
       "model_id": "5a8b118fd75741f38ba3c1fb99eeabff",
       "version_major": 2,
       "version_minor": 0
      },
      "text/plain": [
       "Iteration 72 in process:   0%|          | 0/101 [00:00<?, ?it/s]"
      ]
     },
     "metadata": {},
     "output_type": "display_data"
    },
    {
     "data": {
      "application/vnd.jupyter.widget-view+json": {
       "model_id": "c438b9cef85f44eca35f8d4335339471",
       "version_major": 2,
       "version_minor": 0
      },
      "text/plain": [
       "Iteration 73 in process:   0%|          | 0/101 [00:00<?, ?it/s]"
      ]
     },
     "metadata": {},
     "output_type": "display_data"
    },
    {
     "data": {
      "application/vnd.jupyter.widget-view+json": {
       "model_id": "444612d2ee964dfba7c58196a955bdcf",
       "version_major": 2,
       "version_minor": 0
      },
      "text/plain": [
       "Iteration 74 in process:   0%|          | 0/101 [00:00<?, ?it/s]"
      ]
     },
     "metadata": {},
     "output_type": "display_data"
    },
    {
     "data": {
      "application/vnd.jupyter.widget-view+json": {
       "model_id": "b9774f0951774bac8ea9ab8b66cdb428",
       "version_major": 2,
       "version_minor": 0
      },
      "text/plain": [
       "Iteration 75 in process:   0%|          | 0/101 [00:00<?, ?it/s]"
      ]
     },
     "metadata": {},
     "output_type": "display_data"
    },
    {
     "data": {
      "application/vnd.jupyter.widget-view+json": {
       "model_id": "71486f8353eb475ca9d82a1a9423b01a",
       "version_major": 2,
       "version_minor": 0
      },
      "text/plain": [
       "Iteration 76 in process:   0%|          | 0/101 [00:00<?, ?it/s]"
      ]
     },
     "metadata": {},
     "output_type": "display_data"
    },
    {
     "data": {
      "application/vnd.jupyter.widget-view+json": {
       "model_id": "dee17759afa24981ac7ff5865ad2e34b",
       "version_major": 2,
       "version_minor": 0
      },
      "text/plain": [
       "Iteration 77 in process:   0%|          | 0/101 [00:00<?, ?it/s]"
      ]
     },
     "metadata": {},
     "output_type": "display_data"
    },
    {
     "data": {
      "application/vnd.jupyter.widget-view+json": {
       "model_id": "b778a6441c444d2798a7695b833f2d1f",
       "version_major": 2,
       "version_minor": 0
      },
      "text/plain": [
       "Iteration 78 in process:   0%|          | 0/101 [00:00<?, ?it/s]"
      ]
     },
     "metadata": {},
     "output_type": "display_data"
    },
    {
     "data": {
      "application/vnd.jupyter.widget-view+json": {
       "model_id": "0828a52a9ed4441586d504fbfe9f0d42",
       "version_major": 2,
       "version_minor": 0
      },
      "text/plain": [
       "Iteration 79 in process:   0%|          | 0/101 [00:00<?, ?it/s]"
      ]
     },
     "metadata": {},
     "output_type": "display_data"
    },
    {
     "data": {
      "application/vnd.jupyter.widget-view+json": {
       "model_id": "a956c3dc6af84e16b972290132c675e6",
       "version_major": 2,
       "version_minor": 0
      },
      "text/plain": [
       "Iteration 80 in process:   0%|          | 0/101 [00:00<?, ?it/s]"
      ]
     },
     "metadata": {},
     "output_type": "display_data"
    },
    {
     "data": {
      "application/vnd.jupyter.widget-view+json": {
       "model_id": "098c111986634dc083f022485f067610",
       "version_major": 2,
       "version_minor": 0
      },
      "text/plain": [
       "Iteration 81 in process:   0%|          | 0/101 [00:00<?, ?it/s]"
      ]
     },
     "metadata": {},
     "output_type": "display_data"
    },
    {
     "data": {
      "application/vnd.jupyter.widget-view+json": {
       "model_id": "3050c8c2c43749ca9a5b20e99c4a29cb",
       "version_major": 2,
       "version_minor": 0
      },
      "text/plain": [
       "Iteration 82 in process:   0%|          | 0/101 [00:00<?, ?it/s]"
      ]
     },
     "metadata": {},
     "output_type": "display_data"
    },
    {
     "data": {
      "application/vnd.jupyter.widget-view+json": {
       "model_id": "5911ef962ce74cb685335ce63ba85b59",
       "version_major": 2,
       "version_minor": 0
      },
      "text/plain": [
       "Iteration 83 in process:   0%|          | 0/101 [00:00<?, ?it/s]"
      ]
     },
     "metadata": {},
     "output_type": "display_data"
    },
    {
     "data": {
      "application/vnd.jupyter.widget-view+json": {
       "model_id": "a8d868f47ab349fc8d27170165e428f6",
       "version_major": 2,
       "version_minor": 0
      },
      "text/plain": [
       "Iteration 84 in process:   0%|          | 0/101 [00:00<?, ?it/s]"
      ]
     },
     "metadata": {},
     "output_type": "display_data"
    },
    {
     "data": {
      "application/vnd.jupyter.widget-view+json": {
       "model_id": "1467bf038b8d438fbbbd0d631f8ddf30",
       "version_major": 2,
       "version_minor": 0
      },
      "text/plain": [
       "Iteration 85 in process:   0%|          | 0/101 [00:00<?, ?it/s]"
      ]
     },
     "metadata": {},
     "output_type": "display_data"
    },
    {
     "data": {
      "application/vnd.jupyter.widget-view+json": {
       "model_id": "4dde63c2fd704e3da5860e96f85549bb",
       "version_major": 2,
       "version_minor": 0
      },
      "text/plain": [
       "Iteration 86 in process:   0%|          | 0/101 [00:00<?, ?it/s]"
      ]
     },
     "metadata": {},
     "output_type": "display_data"
    },
    {
     "data": {
      "application/vnd.jupyter.widget-view+json": {
       "model_id": "16e9c47acebd453890cb65d6d0d911f1",
       "version_major": 2,
       "version_minor": 0
      },
      "text/plain": [
       "Iteration 87 in process:   0%|          | 0/101 [00:00<?, ?it/s]"
      ]
     },
     "metadata": {},
     "output_type": "display_data"
    },
    {
     "data": {
      "application/vnd.jupyter.widget-view+json": {
       "model_id": "5434414b974642478a323c3973c8e846",
       "version_major": 2,
       "version_minor": 0
      },
      "text/plain": [
       "Iteration 88 in process:   0%|          | 0/101 [00:00<?, ?it/s]"
      ]
     },
     "metadata": {},
     "output_type": "display_data"
    },
    {
     "data": {
      "application/vnd.jupyter.widget-view+json": {
       "model_id": "e694725a5c254c138a19646cd15bc52d",
       "version_major": 2,
       "version_minor": 0
      },
      "text/plain": [
       "Iteration 89 in process:   0%|          | 0/101 [00:00<?, ?it/s]"
      ]
     },
     "metadata": {},
     "output_type": "display_data"
    },
    {
     "data": {
      "application/vnd.jupyter.widget-view+json": {
       "model_id": "78795e0126f540c9951634db34209dc6",
       "version_major": 2,
       "version_minor": 0
      },
      "text/plain": [
       "Iteration 90 in process:   0%|          | 0/101 [00:00<?, ?it/s]"
      ]
     },
     "metadata": {},
     "output_type": "display_data"
    },
    {
     "data": {
      "application/vnd.jupyter.widget-view+json": {
       "model_id": "608d0284678e4c7b8ffa618afdd1ea7a",
       "version_major": 2,
       "version_minor": 0
      },
      "text/plain": [
       "Iteration 91 in process:   0%|          | 0/101 [00:00<?, ?it/s]"
      ]
     },
     "metadata": {},
     "output_type": "display_data"
    },
    {
     "data": {
      "application/vnd.jupyter.widget-view+json": {
       "model_id": "0820982181b14ff3b74fa9349992491f",
       "version_major": 2,
       "version_minor": 0
      },
      "text/plain": [
       "Iteration 92 in process:   0%|          | 0/101 [00:00<?, ?it/s]"
      ]
     },
     "metadata": {},
     "output_type": "display_data"
    },
    {
     "data": {
      "application/vnd.jupyter.widget-view+json": {
       "model_id": "b847880f6e5e47de9be6261dd5f9a15d",
       "version_major": 2,
       "version_minor": 0
      },
      "text/plain": [
       "Iteration 93 in process:   0%|          | 0/101 [00:00<?, ?it/s]"
      ]
     },
     "metadata": {},
     "output_type": "display_data"
    },
    {
     "data": {
      "application/vnd.jupyter.widget-view+json": {
       "model_id": "04820cd6844545fd81d9f55d034a0bd2",
       "version_major": 2,
       "version_minor": 0
      },
      "text/plain": [
       "Iteration 94 in process:   0%|          | 0/101 [00:00<?, ?it/s]"
      ]
     },
     "metadata": {},
     "output_type": "display_data"
    },
    {
     "data": {
      "application/vnd.jupyter.widget-view+json": {
       "model_id": "a674b20b69a5486b900d0bbf05429971",
       "version_major": 2,
       "version_minor": 0
      },
      "text/plain": [
       "Iteration 95 in process:   0%|          | 0/101 [00:00<?, ?it/s]"
      ]
     },
     "metadata": {},
     "output_type": "display_data"
    },
    {
     "data": {
      "application/vnd.jupyter.widget-view+json": {
       "model_id": "323b3f1b34324fbf945687b7718c7934",
       "version_major": 2,
       "version_minor": 0
      },
      "text/plain": [
       "Iteration 96 in process:   0%|          | 0/101 [00:00<?, ?it/s]"
      ]
     },
     "metadata": {},
     "output_type": "display_data"
    },
    {
     "data": {
      "application/vnd.jupyter.widget-view+json": {
       "model_id": "18118ce34d114029a590f452f72882ae",
       "version_major": 2,
       "version_minor": 0
      },
      "text/plain": [
       "Iteration 97 in process:   0%|          | 0/101 [00:00<?, ?it/s]"
      ]
     },
     "metadata": {},
     "output_type": "display_data"
    },
    {
     "data": {
      "application/vnd.jupyter.widget-view+json": {
       "model_id": "9253b7ad8a0f4126b81c47a1a75dbf72",
       "version_major": 2,
       "version_minor": 0
      },
      "text/plain": [
       "Iteration 98 in process:   0%|          | 0/101 [00:00<?, ?it/s]"
      ]
     },
     "metadata": {},
     "output_type": "display_data"
    },
    {
     "data": {
      "application/vnd.jupyter.widget-view+json": {
       "model_id": "cf74ff46ceff4acc9b2f737c4a959181",
       "version_major": 2,
       "version_minor": 0
      },
      "text/plain": [
       "Iteration 99 in process:   0%|          | 0/101 [00:00<?, ?it/s]"
      ]
     },
     "metadata": {},
     "output_type": "display_data"
    },
    {
     "data": {
      "application/vnd.jupyter.widget-view+json": {
       "model_id": "4994ad29e6c147f7aefeee8c5775cca9",
       "version_major": 2,
       "version_minor": 0
      },
      "text/plain": [
       "Iteration 100 in process:   0%|          | 0/101 [00:00<?, ?it/s]"
      ]
     },
     "metadata": {},
     "output_type": "display_data"
    }
   ],
   "source": [
    "from simulation import utils\n",
    "pbar_outer = tqdm_notebook(total=simulation_configuration.num_epochs, desc=\"Running Simulation\")\n",
    "for epoch in range(simulation_configuration.num_epochs):\n",
    "    SimFunctions.SimFunctionsInit(Calendar)\n",
    "    # leukemia_doctor_1_patients = initialize_patients(leukemia_doctor_1_patient_arrival_times, \"leukemia_doctor_1\", Calendar)\n",
    "    # leukemia_doctor_2_patients = initialize_patients(leukemia_doctor_2_patient_arrival_times, \"leukemia_doctor_2\", Calendar)\n",
    "    # transplant_doctor_1_patients = initialize_patients(transplant_doctor_1_patient_arrival_times, \"transplant_doctor_1\", Calendar)\n",
    "    # transplant_doctor_2_patients = initialize_patients(transplant_doctor_2_patient_arrival_times, \"transplant_doctor_2\", Calendar)\n",
    "    # transplant_doctor_3_patients = initialize_patients(transplant_doctor_3_patient_arrival_times, \"transplant_doctor_3\", Calendar)\n",
    "    # other_patients = initialize_patients(other_patients_arrival_times, \"other\", Calendar)\n",
    "    # list_of_patients = [leukemia_doctor_1_patients, leukemia_doctor_2_patients, transplant_doctor_1_patients, transplant_doctor_2_patients, transplant_doctor_3_patients, other_patients]\n",
    "    list_of_patients = utils.generate_patients(Calendar, model_parameters)\n",
    "    pbar_inner = tqdm_notebook(total=Calendar.N(), desc=f\"Iteration {epoch + 1} in process\", leave=False)\n",
    "    while Calendar.N() > 0 and not all_left_department(list_of_patients):\n",
    "        NextEvent = Calendar.Remove()\n",
    "        SimClasses.Clock = NextEvent.EventTime\n",
    "\n",
    "        if NextEvent.EventType == \"q_flow_station_start_of_waiting\":\n",
    "            q_flow_station_queue_length.append(q_flow_station_queue.NumQueue())\n",
    "            q_flow_station_start_of_waiting(NextEvent.WhichObject, SimClasses.Clock)\n",
    "        \n",
    "        elif NextEvent.EventType == \"q_flow_station_service_start\":\n",
    "            q_flow_station_service_start(NextEvent.WhichObject)\n",
    "        \n",
    "        elif NextEvent.EventType == \"q_flow_station_service_end\":\n",
    "            q_flow_station_service_end(NextEvent.WhichObject)\n",
    "        \n",
    "        elif NextEvent.EventType == \"secretary_station_start_of_waiting\":\n",
    "            secretary_station_queue_length.append(secretary_station_queue.NumQueue())\n",
    "            secretary_station_start_of_waiting(NextEvent.WhichObject, SimClasses.Clock)\n",
    "        \n",
    "        elif NextEvent.EventType == \"secretary_station_service_start\":\n",
    "            secretary_station_service_start(NextEvent.WhichObject)\n",
    "        \n",
    "        elif NextEvent.EventType == \"secretary_station_service_end\":\n",
    "            secretary_station_service_end(NextEvent.WhichObject)\n",
    "        \n",
    "        elif NextEvent.EventType == \"nurse_station_1_start_of_waiting\":\n",
    "            nurse_station_1_queue_length.append(nurse_station_1_queue.NumQueue())\n",
    "            nurse_station_1_start_of_waiting(NextEvent.WhichObject, SimClasses.Clock)\n",
    "        \n",
    "        elif NextEvent.EventType == \"nurse_station_1_service_start\":\n",
    "            nurse_station_1_service_start(NextEvent.WhichObject)\n",
    "        \n",
    "        elif NextEvent.EventType == \"nurse_station_1_service_end\":\n",
    "            nurse_station_1_service_end(NextEvent.WhichObject)\n",
    "        \n",
    "        elif NextEvent.EventType == \"nurse_station_2_start_of_waiting\":\n",
    "            nurse_station_2_queue_length.append(nurse_station_2_queue.NumQueue())\n",
    "            nurse_station_2_start_of_waiting(NextEvent.WhichObject, SimClasses.Clock)\n",
    "        \n",
    "        elif NextEvent.EventType == \"nurse_station_2_service_start\":\n",
    "            nurse_station_2_service_start(NextEvent.WhichObject)\n",
    "        \n",
    "        elif NextEvent.EventType == \"nurse_station_2_service_end\":\n",
    "            nurse_station_2_service_end(NextEvent.WhichObject)\n",
    "        \n",
    "        elif NextEvent.EventType == \"nurse_station_3_start_of_waiting\":\n",
    "            nurse_station_3_queue_length.append(nurse_station_3_queue.NumQueue())\n",
    "            nurse_station_3_start_of_waiting(NextEvent.WhichObject, SimClasses.Clock)\n",
    "        \n",
    "        elif NextEvent.EventType == \"nurse_station_3_service_start\":\n",
    "            nurse_station_3_service_start(NextEvent.WhichObject)\n",
    "        \n",
    "        elif NextEvent.EventType == \"nurse_station_3_service_end\":\n",
    "            nurse_station_3_service_end(NextEvent.WhichObject)\n",
    "        \n",
    "        elif NextEvent.EventType == \"nurse_station_4_start_of_waiting\":\n",
    "            nurse_station_4_queue_length.append(nurse_station_4_queue.NumQueue())\n",
    "            nurse_station_4_start_of_waiting(NextEvent.WhichObject, SimClasses.Clock)\n",
    "        \n",
    "        elif NextEvent.EventType == \"nurse_station_4_service_start\":\n",
    "            nurse_station_4_service_start(NextEvent.WhichObject)\n",
    "        \n",
    "        elif NextEvent.EventType == \"nurse_station_4_service_end\":\n",
    "            nurse_station_4_service_end(NextEvent.WhichObject)\n",
    "        \n",
    "        elif NextEvent.EventType == \"nurse_station_5_start_of_waiting\":\n",
    "            nurse_station_5_queue_length.append(nurse_station_5_queue.NumQueue())\n",
    "            nurse_station_5_start_of_waiting(NextEvent.WhichObject, SimClasses.Clock)\n",
    "        \n",
    "        elif NextEvent.EventType == \"nurse_station_5_service_start\":\n",
    "            nurse_station_5_service_start(NextEvent.WhichObject)\n",
    "        \n",
    "        elif NextEvent.EventType == \"nurse_station_5_service_end\":\n",
    "            nurse_station_5_service_end(NextEvent.WhichObject)\n",
    "        \n",
    "        elif NextEvent.EventType == \"nurse_station_6_start_of_waiting\":\n",
    "            nurse_station_6_queue_length.append(nurse_station_6_queue.NumQueue())\n",
    "            nurse_station_6_start_of_waiting(NextEvent.WhichObject, SimClasses.Clock)\n",
    "        \n",
    "        elif NextEvent.EventType == \"nurse_station_6_service_start\":\n",
    "            nurse_station_6_service_start(NextEvent.WhichObject)\n",
    "        \n",
    "        elif NextEvent.EventType == \"nurse_station_6_service_end\":\n",
    "            nurse_station_6_service_end(NextEvent.WhichObject)\n",
    "        \n",
    "        elif NextEvent.EventType == \"leukemia_doctor_1_start_of_waiting\":\n",
    "            leukemia_doctor_1_queue_length.append(leukemia_doctor_1_queue.NumQueue())\n",
    "            leukemia_doctor_1_start_of_waiting(NextEvent.WhichObject, SimClasses.Clock)   \n",
    "\n",
    "        elif NextEvent.EventType == \"leukemia_doctor_1_service_start\":\n",
    "            leukemia_doctor_1_service_start(NextEvent.WhichObject)\n",
    "        \n",
    "        elif NextEvent.EventType == \"leukemia_doctor_1_service_end\":\n",
    "            leukemia_doctor_1_service_end(NextEvent.WhichObject)\n",
    "        \n",
    "        elif NextEvent.EventType == \"leukemia_doctor_2_start_of_waiting\":\n",
    "            leukemia_doctor_2_queue_length.append(leukemia_doctor_2_queue.NumQueue())\n",
    "            leukemia_doctor_2_start_of_waiting(NextEvent.WhichObject, SimClasses.Clock)\n",
    "        \n",
    "        elif NextEvent.EventType == \"leukemia_doctor_2_service_start\":\n",
    "            leukemia_doctor_2_service_start(NextEvent.WhichObject)\n",
    "        \n",
    "        elif NextEvent.EventType == \"leukemia_doctor_2_service_end\":\n",
    "            leukemia_doctor_2_service_end(NextEvent.WhichObject)\n",
    "        \n",
    "        elif NextEvent.EventType == \"transplant_doctor_1_start_of_waiting\":\n",
    "            transplant_doctor_1_queue_length.append(transplant_doctor_1_queue.NumQueue())\n",
    "            transplant_doctor_1_start_of_waiting(NextEvent.WhichObject, SimClasses.Clock)\n",
    "        \n",
    "        elif NextEvent.EventType == \"transplant_doctor_1_service_start\":\n",
    "            transplant_doctor_1_service_start(NextEvent.WhichObject)\n",
    "        \n",
    "        elif NextEvent.EventType == \"transplant_doctor_1_service_end\":\n",
    "            transplant_doctor_1_service_end(NextEvent.WhichObject)\n",
    "        \n",
    "        elif NextEvent.EventType == \"transplant_doctor_2_start_of_waiting\":\n",
    "            transplant_doctor_2_queue_length.append(transplant_doctor_2_queue.NumQueue())\n",
    "            transplant_doctor_2_start_of_waiting(NextEvent.WhichObject, SimClasses.Clock)\n",
    "        \n",
    "        elif NextEvent.EventType == \"transplant_doctor_2_service_start\":\n",
    "            transplant_doctor_2_service_start(NextEvent.WhichObject)\n",
    "        \n",
    "        elif NextEvent.EventType == \"transplant_doctor_2_service_end\":\n",
    "            transplant_doctor_2_service_end(NextEvent.WhichObject)\n",
    "        \n",
    "        elif NextEvent.EventType == \"transplant_doctor_3_start_of_waiting\":\n",
    "            transplant_doctor_3_queue_length.append(transplant_doctor_3_queue.NumQueue())\n",
    "            transplant_doctor_3_start_of_waiting(NextEvent.WhichObject, SimClasses.Clock)\n",
    "        \n",
    "        elif NextEvent.EventType == \"transplant_doctor_3_service_start\":\n",
    "            transplant_doctor_3_service_start(NextEvent.WhichObject)\n",
    "        \n",
    "        elif NextEvent.EventType == \"transplant_doctor_3_service_end\":\n",
    "            transplant_doctor_3_service_end(NextEvent.WhichObject)\n",
    "        \n",
    "        elif NextEvent.EventType == \"process_complete\" or NextEvent.EventType == \"other_start_of_waiting\":\n",
    "            #here the process ends for the other patients\n",
    "            process_complete(NextEvent.WhichObject, SimClasses.Clock)\n",
    "        else:\n",
    "            logging.info(NextEvent.EventType)\n",
    "            logging.error(\"Unknown event type\")\n",
    "            raise ValueError(f\"Unknown event type: {NextEvent.EventType}\")\n",
    "\n",
    "        pbar_inner.update(1)\n",
    "    pbar_inner.close()\n",
    "\n",
    "    #storing statistics from all DTStat objects\n",
    "    q_flow_station_wait_time_avg.append(q_flow_station_wait_time.Mean())\n",
    "    q_flow_station_wait_time_var.append(q_flow_station_wait_time.StdDev()**2)\n",
    "    secretary_station_wait_time_avg.append(secretary_station_wait_time.Mean())\n",
    "    secretary_station_wait_time_var.append(secretary_station_wait_time.StdDev()**2)\n",
    "    nurse_station_1_wait_time_avg.append(nurse_station_1_wait_time.Mean())\n",
    "    nurse_station_1_wait_time_var.append(nurse_station_1_wait_time.StdDev()**2)\n",
    "    nurse_station_2_wait_time_avg.append(nurse_station_2_wait_time.Mean())\n",
    "    nurse_station_2_wait_time_var.append(nurse_station_2_wait_time.StdDev()**2)\n",
    "    nurse_station_3_wait_time_avg.append(nurse_station_3_wait_time.Mean())\n",
    "    nurse_station_3_wait_time_var.append(nurse_station_3_wait_time.StdDev()**2)\n",
    "    nurse_station_4_wait_time_avg.append(nurse_station_4_wait_time.Mean())\n",
    "    nurse_station_4_wait_time_var.append(nurse_station_4_wait_time.StdDev()**2)\n",
    "    nurse_station_5_wait_time_avg.append(nurse_station_5_wait_time.Mean())\n",
    "    nurse_station_5_wait_time_var.append(nurse_station_5_wait_time.StdDev()**2)\n",
    "    nurse_station_6_wait_time_avg.append(nurse_station_6_wait_time.Mean())\n",
    "    nurse_station_6_wait_time_var.append(nurse_station_6_wait_time.StdDev()**2)\n",
    "    leukemia_doctor_1_wait_time_avg.append(leukemia_doctor_1_wait_time.Mean())\n",
    "    leukemia_doctor_1_wait_time_var.append(leukemia_doctor_1_wait_time.StdDev()**2)\n",
    "    leukemia_doctor_2_wait_time_avg.append(leukemia_doctor_2_wait_time.Mean())\n",
    "    leukemia_doctor_2_wait_time_var.append(leukemia_doctor_2_wait_time.StdDev()**2)\n",
    "    transplant_doctor_1_wait_time_avg.append(transplant_doctor_1_wait_time.Mean())\n",
    "    transplant_doctor_1_wait_time_var.append(transplant_doctor_1_wait_time.StdDev()**2)\n",
    "    transplant_doctor_2_wait_time_avg.append(transplant_doctor_2_wait_time.Mean())\n",
    "    transplant_doctor_2_wait_time_var.append(transplant_doctor_2_wait_time.StdDev()**2)\n",
    "    transplant_doctor_3_wait_time_avg.append(transplant_doctor_3_wait_time.Mean())\n",
    "    transplant_doctor_3_wait_time_var.append(transplant_doctor_3_wait_time.StdDev()**2)\n",
    "\n",
    "    leukemia_doctor_1_complex_patients_total_processing_time_avg.append(leukemia_doctor_1_complex_patients_total_processing_time.Mean())\n",
    "    leukemia_doctor_1_regular_patients_total_processing_time_avg.append(leukemia_doctor_1_regular_patients_total_processing_time.Mean())\n",
    "    leukemia_doctor_1_complex_patients_total_processing_time_var.append(leukemia_doctor_1_complex_patients_total_processing_time.StdDev()**2)\n",
    "    leukemia_doctor_1_regular_patients_total_processing_time_var.append(leukemia_doctor_1_regular_patients_total_processing_time.StdDev()**2)\n",
    "    leukemia_doctor_2_complex_patients_total_processing_time_avg.append(leukemia_doctor_2_complex_patients_total_processing_time.Mean())\n",
    "    leukemia_doctor_2_regular_patients_total_processing_time_avg.append(leukemia_doctor_2_regular_patients_total_processing_time.Mean())\n",
    "    leukemia_doctor_2_complex_patients_total_processing_time_var.append(leukemia_doctor_2_complex_patients_total_processing_time.StdDev()**2)\n",
    "    leukemia_doctor_2_regular_patients_total_processing_time_var.append(leukemia_doctor_2_regular_patients_total_processing_time.StdDev()**2)\n",
    "    transplant_doctor_1_complex_patients_total_processing_time_avg.append(transplant_doctor_1_complex_patients_total_processing_time.Mean())\n",
    "    transplant_doctor_1_regular_patients_total_processing_time_avg.append(transplant_doctor_1_regular_patients_total_processing_time.Mean())\n",
    "    transplant_doctor_1_complex_patients_total_processing_time_var.append(transplant_doctor_1_complex_patients_total_processing_time.StdDev()**2)\n",
    "    transplant_doctor_1_regular_patients_total_processing_time_var.append(transplant_doctor_1_regular_patients_total_processing_time.StdDev()**2)\n",
    "    transplant_doctor_2_complex_patients_total_processing_time_avg.append(transplant_doctor_2_complex_patients_total_processing_time.Mean())\n",
    "    transplant_doctor_2_regular_patients_total_processing_time_avg.append(transplant_doctor_2_regular_patients_total_processing_time.Mean())\n",
    "    transplant_doctor_2_complex_patients_total_processing_time_var.append(transplant_doctor_2_complex_patients_total_processing_time.StdDev()**2)\n",
    "    transplant_doctor_2_regular_patients_total_processing_time_var.append(transplant_doctor_2_regular_patients_total_processing_time.StdDev()**2)\n",
    "    transplant_doctor_3_complex_patients_total_processing_time_avg.append(transplant_doctor_3_complex_patients_total_processing_time.Mean())\n",
    "    transplant_doctor_3_regular_patients_total_processing_time_avg.append(transplant_doctor_3_regular_patients_total_processing_time.Mean())\n",
    "    transplant_doctor_3_complex_patients_total_processing_time_var.append(transplant_doctor_3_complex_patients_total_processing_time.StdDev()**2)\n",
    "    transplant_doctor_3_regular_patients_total_processing_time_var.append(transplant_doctor_3_regular_patients_total_processing_time.StdDev()**2)\n",
    "    other_patients_total_processing_time_avg.append(other_patients_total_processing_time.Mean())\n",
    "    other_patients_total_processing_time_var.append(other_patients_total_processing_time.StdDev()**2)\n",
    "\n",
    "    q_flow_station_queue_length_avg.append(q_flow_station_queue.Mean())\n",
    "    q_flow_station_queue_length_var.append(q_flow_station_queue.Variance())\n",
    "    secretary_station_queue_length_avg.append(secretary_station_queue.Mean())\n",
    "    secretary_station_queue_length_var.append(secretary_station_queue.Variance())\n",
    "    nurse_station_1_queue_length_avg.append(nurse_station_1_queue.Mean())\n",
    "    nurse_station_1_queue_length_var.append(nurse_station_1_queue.Variance())\n",
    "    nurse_station_2_queue_length_avg.append(nurse_station_2_queue.Mean())\n",
    "    nurse_station_2_queue_length_var.append(nurse_station_2_queue.Variance())\n",
    "    nurse_station_3_queue_length_avg.append(nurse_station_3_queue.Mean())\n",
    "    nurse_station_3_queue_length_var.append(nurse_station_3_queue.Variance())\n",
    "    nurse_station_4_queue_length_avg.append(nurse_station_4_queue.Mean())\n",
    "    nurse_station_4_queue_length_var.append(nurse_station_4_queue.Variance())\n",
    "    nurse_station_5_queue_length_avg.append(nurse_station_5_queue.Mean())\n",
    "    nurse_station_5_queue_length_var.append(nurse_station_5_queue.Variance())\n",
    "    nurse_station_6_queue_length_avg.append(nurse_station_6_queue.Mean())\n",
    "    nurse_station_6_queue_length_var.append(nurse_station_6_queue.Variance())\n",
    "    leukemia_doctor_1_queue_length_avg.append(leukemia_doctor_1_queue.Mean())\n",
    "    leukemia_doctor_1_queue_length_var.append(leukemia_doctor_1_queue.Variance())\n",
    "    leukemia_doctor_2_queue_length_avg.append(leukemia_doctor_2_queue.Mean())\n",
    "    leukemia_doctor_2_queue_length_var.append(leukemia_doctor_2_queue.Variance())\n",
    "    transplant_doctor_1_queue_length_avg.append(transplant_doctor_1_queue.Mean())\n",
    "    transplant_doctor_1_queue_length_var.append(transplant_doctor_1_queue.Variance())\n",
    "    transplant_doctor_2_queue_length_avg.append(transplant_doctor_2_queue.Mean())\n",
    "    transplant_doctor_2_queue_length_var.append(transplant_doctor_2_queue.Variance())\n",
    "    transplant_doctor_3_queue_length_avg.append(transplant_doctor_3_queue.Mean())\n",
    "    transplant_doctor_3_queue_length_var.append(transplant_doctor_3_queue.Variance())\n",
    "\n",
    "    q_flow_station_busy_avg.append(q_flow_station.Mean())\n",
    "    q_flow_station_busy_var.append(q_flow_station.Variance())\n",
    "    secretary_station_busy_avg.append(secretary_station.Mean())\n",
    "    secretary_station_busy_var.append(secretary_station.Variance())\n",
    "    nurse_station_1_busy_avg.append(nurse_station_1.Mean())\n",
    "    nurse_station_1_busy_var.append(nurse_station_1.Variance())\n",
    "    nurse_station_2_busy_avg.append(nurse_station_2.Mean())\n",
    "    nurse_station_2_busy_var.append(nurse_station_2.Variance())\n",
    "    nurse_station_3_busy_avg.append(nurse_station_3.Mean())\n",
    "    nurse_station_3_busy_var.append(nurse_station_3.Variance())\n",
    "    nurse_station_4_busy_avg.append(nurse_station_4.Mean())\n",
    "    nurse_station_4_busy_var.append(nurse_station_4.Variance())\n",
    "    nurse_station_5_busy_avg.append(nurse_station_5.Mean())\n",
    "    nurse_station_5_busy_var.append(nurse_station_5.Variance())\n",
    "    nurse_station_6_busy_avg.append(nurse_station_6.Mean())\n",
    "    nurse_station_6_busy_var.append(nurse_station_6.Variance())\n",
    "    leukemia_doctor_1_busy_avg.append(leukemia_doctor_1.Mean())\n",
    "    leukemia_doctor_1_busy_var.append(leukemia_doctor_1.Variance())\n",
    "    leukemia_doctor_2_busy_avg.append(leukemia_doctor_2.Mean())\n",
    "    leukemia_doctor_2_busy_var.append(leukemia_doctor_2.Variance())\n",
    "    transplant_doctor_1_busy_avg.append(transplant_doctor_1.Mean())\n",
    "    transplant_doctor_1_busy_var.append(transplant_doctor_1.Variance())\n",
    "    transplant_doctor_2_busy_avg.append(transplant_doctor_2.Mean())\n",
    "    transplant_doctor_2_busy_var.append(transplant_doctor_2.Variance())\n",
    "    transplant_doctor_3_busy_avg.append(transplant_doctor_3.Mean())\n",
    "    transplant_doctor_3_busy_var.append(transplant_doctor_3.Variance())\n",
    "\n",
    "    leukemia_doctor_1_scheduled_vs_actual_time_diff_avg.append(leukemia_doctor_1_scheduled_vs_actual_time_diff.Mean())\n",
    "    leukemia_doctor_2_scheduled_vs_actual_time_diff_avg.append(leukemia_doctor_2_scheduled_vs_actual_time_diff.Mean())\n",
    "    transplant_doctor_1_scheduled_vs_actual_time_diff_avg.append(transplant_doctor_1_scheduled_vs_actual_time_diff.Mean())\n",
    "    transplant_doctor_2_scheduled_vs_actual_time_diff_avg.append(transplant_doctor_2_scheduled_vs_actual_time_diff.Mean())\n",
    "    transplant_doctor_3_scheduled_vs_actual_time_diff_avg.append(transplant_doctor_3_scheduled_vs_actual_time_diff.Mean())\n",
    "\n",
    "    leukemia_doctor_1_scheduled_vs_actual_time_diff_var.append(leukemia_doctor_1_scheduled_vs_actual_time_diff.StdDev()**2)\n",
    "    leukemia_doctor_2_scheduled_vs_actual_time_diff_var.append(leukemia_doctor_2_scheduled_vs_actual_time_diff.StdDev()**2)\n",
    "    transplant_doctor_1_scheduled_vs_actual_time_diff_var.append(transplant_doctor_1_scheduled_vs_actual_time_diff.StdDev()**2)\n",
    "    transplant_doctor_2_scheduled_vs_actual_time_diff_var.append(transplant_doctor_2_scheduled_vs_actual_time_diff.StdDev()**2)\n",
    "    transplant_doctor_3_scheduled_vs_actual_time_diff_var.append(transplant_doctor_3_scheduled_vs_actual_time_diff.StdDev()**2)\n",
    "\n",
    "    pbar_outer.set_description(f\"Running Simulation - {epoch+1}/{simulation_configuration.num_epochs}\")\n",
    "    # if epoch == 0 and all_left_department(list_of_patients):\n",
    "    #     for patient in leukemia_doctor_1_patients:\n",
    "    #         patient.print_schedule()\n",
    "    #     for patient in leukemia_doctor_2_patients:\n",
    "    #         patient.print_schedule()\n",
    "    #     for patient in transplant_doctor_1_patients:\n",
    "    #         patient.print_schedule()\n",
    "    #     for patient in transplant_doctor_2_patients:\n",
    "    #         patient.print_schedule()\n",
    "    #     for patient in transplant_doctor_3_patients:\n",
    "    #         patient.print_schedule()\n",
    "    #     for patient in other_patients:\n",
    "    #         patient.print_schedule()\n",
    "    pbar_outer.update(1)\n",
    "\n",
    "pbar_outer.close()\n",
    "logging.info(\"Simulation completed\")"
   ]
  },
  {
   "cell_type": "code",
   "execution_count": null,
   "id": "8aa521aeb4628c98",
   "metadata": {
    "ExecuteTime": {
     "end_time": "2024-03-30T23:31:46.696219Z",
     "start_time": "2024-03-30T23:31:46.637969Z"
    },
    "collapsed": false
   },
   "outputs": [
    {
     "name": "stdout",
     "output_type": "stream",
     "text": [
      "Simulation Results Saved to results_directory/simulation_multi_queue/averages_df.csv\n",
      "**********************************************************************************\n",
      "Means of the simulation results:\n",
      "q_flow_station_wait_time_avg                                        0.399137\n",
      "q_flow_station_queue_length_avg                                     0.056417\n",
      "q_flow_station_busy_avg                                             0.141604\n",
      "secretary_station_wait_time_avg                                     2.074582\n",
      "secretary_station_queue_length_avg                                  0.286380\n",
      "secretary_station_busy_avg                                          0.575055\n",
      "nurse_station_1_wait_time_avg                                      83.074393\n",
      "nurse_station_1_queue_length_avg                                    1.987878\n",
      "nurse_station_1_busy_avg                                            0.528476\n",
      "nurse_station_2_wait_time_avg                                      64.982611\n",
      "nurse_station_2_queue_length_avg                                    1.536266\n",
      "nurse_station_2_busy_avg                                            0.529614\n",
      "nurse_station_3_wait_time_avg                                      71.429096\n",
      "nurse_station_3_queue_length_avg                                    1.714058\n",
      "nurse_station_3_busy_avg                                            0.528456\n",
      "nurse_station_4_wait_time_avg                                      74.595916\n",
      "nurse_station_4_queue_length_avg                                    1.787366\n",
      "nurse_station_4_busy_avg                                            0.533113\n",
      "nurse_station_5_wait_time_avg                                      78.175909\n",
      "nurse_station_5_queue_length_avg                                    1.909530\n",
      "nurse_station_5_busy_avg                                            0.549002\n",
      "nurse_station_6_wait_time_avg                                      15.641329\n",
      "nurse_station_6_queue_length_avg                                    0.203743\n",
      "nurse_station_6_busy_avg                                            0.243530\n",
      "leukemia_doctor_1_wait_time_avg                                    43.280475\n",
      "leukemia_doctor_1_queue_length_avg                                  0.853937\n",
      "leukemia_doctor_1_busy_avg                                          0.546054\n",
      "leukemia_doctor_2_wait_time_avg                                    20.753351\n",
      "leukemia_doctor_2_queue_length_avg                                  0.292149\n",
      "leukemia_doctor_2_busy_avg                                          0.328155\n",
      "transplant_doctor_1_wait_time_avg                                  26.167076\n",
      "transplant_doctor_1_queue_length_avg                                0.473037\n",
      "transplant_doctor_1_busy_avg                                        0.391357\n",
      "transplant_doctor_2_wait_time_avg                                  39.063571\n",
      "transplant_doctor_2_queue_length_avg                                0.913403\n",
      "transplant_doctor_2_busy_avg                                        0.564126\n",
      "transplant_doctor_3_wait_time_avg                                  24.665607\n",
      "transplant_doctor_3_queue_length_avg                                0.589126\n",
      "transplant_doctor_3_busy_avg                                        0.499837\n",
      "other_patients_total_processing_time_avg                           95.650463\n",
      "leukemia_doctor_1_complex_patients_total_processing_time_avg      176.703181\n",
      "leukemia_doctor_1_regular_patients_total_processing_time_avg      149.674997\n",
      "leukemia_doctor_2_complex_patients_total_processing_time_avg      138.061946\n",
      "leukemia_doctor_2_regular_patients_total_processing_time_avg      112.141920\n",
      "transplant_doctor_1_complex_patients_total_processing_time_avg    134.656591\n",
      "transplant_doctor_1_regular_patients_total_processing_time_avg    137.081996\n",
      "transplant_doctor_2_complex_patients_total_processing_time_avg    190.760447\n",
      "transplant_doctor_2_regular_patients_total_processing_time_avg    165.880421\n",
      "transplant_doctor_3_complex_patients_total_processing_time_avg    131.610599\n",
      "transplant_doctor_3_regular_patients_total_processing_time_avg    150.313292\n",
      "dtype: float64\n",
      "**********************************************************************************\n",
      "99% Confidence Intervals Half-Width\n",
      "q_flow_station_wait_time_avg                                       0.047109\n",
      "q_flow_station_queue_length_avg                                    0.007423\n",
      "q_flow_station_busy_avg                                            0.006845\n",
      "secretary_station_wait_time_avg                                    0.384821\n",
      "secretary_station_queue_length_avg                                 0.051004\n",
      "secretary_station_busy_avg                                         0.026628\n",
      "nurse_station_1_wait_time_avg                                     19.665868\n",
      "nurse_station_1_queue_length_avg                                   0.512433\n",
      "nurse_station_1_busy_avg                                           0.047063\n",
      "nurse_station_2_wait_time_avg                                     14.607368\n",
      "nurse_station_2_queue_length_avg                                   0.356970\n",
      "nurse_station_2_busy_avg                                           0.050843\n",
      "nurse_station_3_wait_time_avg                                     13.818182\n",
      "nurse_station_3_queue_length_avg                                   0.375714\n",
      "nurse_station_3_busy_avg                                           0.048244\n",
      "nurse_station_4_wait_time_avg                                     19.282822\n",
      "nurse_station_4_queue_length_avg                                   0.514736\n",
      "nurse_station_4_busy_avg                                           0.049650\n",
      "nurse_station_5_wait_time_avg                                     17.713267\n",
      "nurse_station_5_queue_length_avg                                   0.479806\n",
      "nurse_station_5_busy_avg                                           0.049155\n",
      "nurse_station_6_wait_time_avg                                      6.450468\n",
      "nurse_station_6_queue_length_avg                                   0.087656\n",
      "nurse_station_6_busy_avg                                           0.037065\n",
      "leukemia_doctor_1_wait_time_avg                                   10.075596\n",
      "leukemia_doctor_1_queue_length_avg                                 0.204447\n",
      "leukemia_doctor_1_busy_avg                                         0.039277\n",
      "leukemia_doctor_2_wait_time_avg                                    6.309609\n",
      "leukemia_doctor_2_queue_length_avg                                 0.088974\n",
      "leukemia_doctor_2_busy_avg                                         0.037341\n",
      "transplant_doctor_1_wait_time_avg                                  7.786258\n",
      "transplant_doctor_1_queue_length_avg                               0.139744\n",
      "transplant_doctor_1_busy_avg                                       0.033806\n",
      "transplant_doctor_2_wait_time_avg                                 10.238233\n",
      "transplant_doctor_2_queue_length_avg                               0.235992\n",
      "transplant_doctor_2_busy_avg                                       0.037463\n",
      "transplant_doctor_3_wait_time_avg                                  6.447209\n",
      "transplant_doctor_3_queue_length_avg                               0.154304\n",
      "transplant_doctor_3_busy_avg                                       0.035533\n",
      "other_patients_total_processing_time_avg                           9.519507\n",
      "leukemia_doctor_1_complex_patients_total_processing_time_avg      16.075355\n",
      "leukemia_doctor_1_regular_patients_total_processing_time_avg      15.235590\n",
      "leukemia_doctor_2_complex_patients_total_processing_time_avg      25.435334\n",
      "leukemia_doctor_2_regular_patients_total_processing_time_avg      11.166656\n",
      "transplant_doctor_1_complex_patients_total_processing_time_avg    31.902523\n",
      "transplant_doctor_1_regular_patients_total_processing_time_avg    11.801621\n",
      "transplant_doctor_2_complex_patients_total_processing_time_avg    20.562198\n",
      "transplant_doctor_2_regular_patients_total_processing_time_avg    14.563718\n",
      "transplant_doctor_3_complex_patients_total_processing_time_avg    34.853763\n",
      "transplant_doctor_3_regular_patients_total_processing_time_avg    10.886946\n",
      "dtype: float64\n",
      "**********************************************************************************\n",
      "Error:\n",
      "q_flow_station_wait_time_avg                                      0.118027\n",
      "q_flow_station_queue_length_avg                                   0.131581\n",
      "q_flow_station_busy_avg                                           0.048340\n",
      "secretary_station_wait_time_avg                                   0.185493\n",
      "secretary_station_queue_length_avg                                0.178099\n",
      "secretary_station_busy_avg                                        0.046304\n",
      "nurse_station_1_wait_time_avg                                     0.236726\n",
      "nurse_station_1_queue_length_avg                                  0.257779\n",
      "nurse_station_1_busy_avg                                          0.089055\n",
      "nurse_station_2_wait_time_avg                                     0.224789\n",
      "nurse_station_2_queue_length_avg                                  0.232362\n",
      "nurse_station_2_busy_avg                                          0.096000\n",
      "nurse_station_3_wait_time_avg                                     0.193453\n",
      "nurse_station_3_queue_length_avg                                  0.219196\n",
      "nurse_station_3_busy_avg                                          0.091292\n",
      "nurse_station_4_wait_time_avg                                     0.258497\n",
      "nurse_station_4_queue_length_avg                                  0.287986\n",
      "nurse_station_4_busy_avg                                          0.093132\n",
      "nurse_station_5_wait_time_avg                                     0.226582\n",
      "nurse_station_5_queue_length_avg                                  0.251269\n",
      "nurse_station_5_busy_avg                                          0.089534\n",
      "nurse_station_6_wait_time_avg                                     0.412399\n",
      "nurse_station_6_queue_length_avg                                  0.430226\n",
      "nurse_station_6_busy_avg                                          0.152199\n",
      "leukemia_doctor_1_wait_time_avg                                   0.232798\n",
      "leukemia_doctor_1_queue_length_avg                                0.239417\n",
      "leukemia_doctor_1_busy_avg                                        0.071929\n",
      "leukemia_doctor_2_wait_time_avg                                   0.304028\n",
      "leukemia_doctor_2_queue_length_avg                                0.304549\n",
      "leukemia_doctor_2_busy_avg                                        0.113790\n",
      "transplant_doctor_1_wait_time_avg                                 0.297559\n",
      "transplant_doctor_1_queue_length_avg                              0.295418\n",
      "transplant_doctor_1_busy_avg                                      0.086382\n",
      "transplant_doctor_2_wait_time_avg                                 0.262092\n",
      "transplant_doctor_2_queue_length_avg                              0.258366\n",
      "transplant_doctor_2_busy_avg                                      0.066409\n",
      "transplant_doctor_3_wait_time_avg                                 0.261385\n",
      "transplant_doctor_3_queue_length_avg                              0.261920\n",
      "transplant_doctor_3_busy_avg                                      0.071089\n",
      "other_patients_total_processing_time_avg                          0.099524\n",
      "leukemia_doctor_1_complex_patients_total_processing_time_avg      0.090974\n",
      "leukemia_doctor_1_regular_patients_total_processing_time_avg      0.101791\n",
      "leukemia_doctor_2_complex_patients_total_processing_time_avg      0.184231\n",
      "leukemia_doctor_2_regular_patients_total_processing_time_avg      0.099576\n",
      "transplant_doctor_1_complex_patients_total_processing_time_avg    0.236918\n",
      "transplant_doctor_1_regular_patients_total_processing_time_avg    0.086092\n",
      "transplant_doctor_2_complex_patients_total_processing_time_avg    0.107791\n",
      "transplant_doctor_2_regular_patients_total_processing_time_avg    0.087796\n",
      "transplant_doctor_3_complex_patients_total_processing_time_avg    0.264825\n",
      "transplant_doctor_3_regular_patients_total_processing_time_avg    0.072428\n",
      "dtype: float64\n",
      "**********************************************************************************\n",
      "Number of epochs required for 99% confidence, half-width 5 minutes for all measures:\n",
      "39.387038611061115\n",
      "Number of epochs required for 99% confidence, half-width 10 minutes for all measures:\n",
      "12.147848246844394\n"
     ]
    }
   ],
   "source": [
    "logging.info(\"Saving Simulation Results\")\n",
    "averages_df = pd.DataFrame({\n",
    "    \"q_flow_station_wait_time_avg\": q_flow_station_wait_time_avg,\n",
    "    \"q_flow_station_queue_length_avg\": q_flow_station_queue_length_avg,\n",
    "    \"q_flow_station_busy_avg\": q_flow_station_busy_avg,\n",
    "    \"secretary_station_wait_time_avg\": secretary_station_wait_time_avg,\n",
    "    \"secretary_station_queue_length_avg\": secretary_station_queue_length_avg,\n",
    "    \"secretary_station_busy_avg\": secretary_station_busy_avg,\n",
    "    \"nurse_station_1_wait_time_avg\": nurse_station_1_wait_time_avg,\n",
    "    \"nurse_station_1_queue_length_avg\": nurse_station_1_queue_length_avg,\n",
    "    \"nurse_station_1_busy_avg\": nurse_station_1_busy_avg,\n",
    "    \"nurse_station_2_wait_time_avg\": nurse_station_2_wait_time_avg,\n",
    "    \"nurse_station_2_queue_length_avg\": nurse_station_2_queue_length_avg,\n",
    "    \"nurse_station_2_busy_avg\": nurse_station_2_busy_avg,\n",
    "    \"nurse_station_3_wait_time_avg\": nurse_station_3_wait_time_avg,\n",
    "    \"nurse_station_3_queue_length_avg\": nurse_station_3_queue_length_avg,\n",
    "    \"nurse_station_3_busy_avg\": nurse_station_3_busy_avg,\n",
    "    \"nurse_station_4_wait_time_avg\": nurse_station_4_wait_time_avg,\n",
    "    \"nurse_station_4_queue_length_avg\": nurse_station_4_queue_length_avg,\n",
    "    \"nurse_station_4_busy_avg\": nurse_station_4_busy_avg,\n",
    "    \"nurse_station_5_wait_time_avg\": nurse_station_5_wait_time_avg,\n",
    "    \"nurse_station_5_queue_length_avg\": nurse_station_5_queue_length_avg,\n",
    "    \"nurse_station_5_busy_avg\": nurse_station_5_busy_avg,\n",
    "    \"nurse_station_6_wait_time_avg\": nurse_station_6_wait_time_avg,\n",
    "    \"nurse_station_6_queue_length_avg\": nurse_station_6_queue_length_avg,\n",
    "    \"nurse_station_6_busy_avg\": nurse_station_6_busy_avg,\n",
    "    \"leukemia_doctor_1_wait_time_avg\": leukemia_doctor_1_wait_time_avg,\n",
    "    \"leukemia_doctor_1_queue_length_avg\": leukemia_doctor_1_queue_length_avg,\n",
    "    \"leukemia_doctor_1_busy_avg\": leukemia_doctor_1_busy_avg,\n",
    "    \"leukemia_doctor_2_wait_time_avg\": leukemia_doctor_2_wait_time_avg,\n",
    "    \"leukemia_doctor_2_queue_length_avg\": leukemia_doctor_2_queue_length_avg,\n",
    "    \"leukemia_doctor_2_busy_avg\": leukemia_doctor_2_busy_avg,\n",
    "    \"transplant_doctor_1_wait_time_avg\": transplant_doctor_1_wait_time_avg,\n",
    "    \"transplant_doctor_1_queue_length_avg\": transplant_doctor_1_queue_length_avg,\n",
    "    \"transplant_doctor_1_busy_avg\": transplant_doctor_1_busy_avg,\n",
    "    \"transplant_doctor_2_wait_time_avg\": transplant_doctor_2_wait_time_avg,\n",
    "    \"transplant_doctor_2_queue_length_avg\": transplant_doctor_2_queue_length_avg,\n",
    "    \"transplant_doctor_2_busy_avg\": transplant_doctor_2_busy_avg,\n",
    "    \"transplant_doctor_3_wait_time_avg\": transplant_doctor_3_wait_time_avg,\n",
    "    \"transplant_doctor_3_queue_length_avg\": transplant_doctor_3_queue_length_avg,\n",
    "    \"transplant_doctor_3_busy_avg\": transplant_doctor_3_busy_avg,\n",
    "    \"other_patients_total_processing_time_avg\": other_patients_total_processing_time_avg,\n",
    "    \"leukemia_doctor_1_complex_patients_total_processing_time_avg\": leukemia_doctor_1_complex_patients_total_processing_time_avg,\n",
    "    \"leukemia_doctor_1_regular_patients_total_processing_time_avg\": leukemia_doctor_1_regular_patients_total_processing_time_avg,\n",
    "    \"leukemia_doctor_2_complex_patients_total_processing_time_avg\": leukemia_doctor_2_complex_patients_total_processing_time_avg,\n",
    "    \"leukemia_doctor_2_regular_patients_total_processing_time_avg\": leukemia_doctor_2_regular_patients_total_processing_time_avg,\n",
    "    \"transplant_doctor_1_complex_patients_total_processing_time_avg\": transplant_doctor_1_complex_patients_total_processing_time_avg,\n",
    "    \"transplant_doctor_1_regular_patients_total_processing_time_avg\": transplant_doctor_1_regular_patients_total_processing_time_avg,\n",
    "    \"transplant_doctor_2_complex_patients_total_processing_time_avg\": transplant_doctor_2_complex_patients_total_processing_time_avg,\n",
    "    \"transplant_doctor_2_regular_patients_total_processing_time_avg\": transplant_doctor_2_regular_patients_total_processing_time_avg,\n",
    "    \"transplant_doctor_3_complex_patients_total_processing_time_avg\": transplant_doctor_3_complex_patients_total_processing_time_avg,\n",
    "    \"transplant_doctor_3_regular_patients_total_processing_time_avg\": transplant_doctor_3_regular_patients_total_processing_time_avg,\n",
    "    \"leukemia_doctor_1_scheduled_vs_actual_time_diff_avg\": leukemia_doctor_1_scheduled_vs_actual_time_diff_avg,\n",
    "    \"leukemia_doctor_2_scheduled_vs_actual_time_diff_avg\": leukemia_doctor_2_scheduled_vs_actual_time_diff_avg,\n",
    "    \"transplant_doctor_1_scheduled_vs_actual_time_diff_avg\": transplant_doctor_1_scheduled_vs_actual_time_diff_avg,\n",
    "    \"transplant_doctor_2_scheduled_vs_actual_time_diff_avg\": transplant_doctor_2_scheduled_vs_actual_time_diff_avg,\n",
    "    \"transplant_doctor_3_scheduled_vs_actual_time_diff_avg\": transplant_doctor_3_scheduled_vs_actual_time_diff_avg\n",
    "    })\n",
    "\n",
    "os.makedirs(\"results_directory/simulation_multi_queue\", exist_ok=True)\n",
    "averages_df.to_csv(f\"results_directory/simulation_multi_queue/averages_df.csv\")\n",
    "print(f\"Simulation Results Saved to results_directory/simulation_multi_queue/averages_df.csv\")\n",
    "print(\"**********************************************************************************\")\n",
    "print(\"Means of the simulation results:\")\n",
    "print(averages_df.mean())\n",
    "print(\"**********************************************************************************\")\n",
    "print(\"99% Confidence Intervals Half-Width\")\n",
    "CI= scs.t.ppf(1-0.01/2, len(averages_df)-1)*np.sqrt(averages_df.var()/len(averages_df))\n",
    "print(CI)\n",
    "print(\"**********************************************************************************\")\n",
    "print(\"Error:\")\n",
    "print(CI/averages_df.mean())\n",
    "print(\"**********************************************************************************\")\n",
    "print(\"Number of epochs required for 99% confidence, half-width 5 minutes for all measures:\")\n",
    "print(max((scs.t.ppf(1-0.01, len(averages_df)-1)*np.sqrt(averages_df.var()/len(averages_df))/5)**2))\n",
    "print(\"Number of epochs required for 99% confidence, half-width 10 minutes for all measures:\")\n",
    "print(max((scs.t.ppf(1-0.01/2, len(averages_df)-1)*np.sqrt(averages_df.var()/len(averages_df))/10)**2))"
   ]
  },
  {
   "cell_type": "code",
   "execution_count": 30,
   "id": "f6b71923",
   "metadata": {},
   "outputs": [
    {
     "name": "stdout",
     "output_type": "stream",
     "text": [
      "Simulation Variance Results Saved to results_directory/simulation_multi_queue/variances_df.csv\n",
      "**********************************************************************************\n",
      "Mean Variance of the simulation results:\n",
      "q_flow_station_wait_time_var                                          0.901872\n",
      "q_flow_station_queue_length_var                                       4.806062\n",
      "q_flow_station_busy_var                                               7.105733\n",
      "secretary_station_wait_time_var                                      11.902950\n",
      "secretary_station_queue_length_var                                   52.781252\n",
      "secretary_station_busy_var                                           51.044112\n",
      "nurse_station_1_wait_time_var                                      4548.266325\n",
      "nurse_station_1_queue_length_var                                    784.207427\n",
      "nurse_station_1_busy_var                                             26.390002\n",
      "nurse_station_2_wait_time_var                                      3845.772160\n",
      "nurse_station_2_queue_length_var                                    447.230196\n",
      "nurse_station_2_busy_var                                             26.956404\n",
      "nurse_station_3_wait_time_var                                      3514.327318\n",
      "nurse_station_3_queue_length_var                                    481.141117\n",
      "nurse_station_3_busy_var                                             25.904411\n",
      "nurse_station_4_wait_time_var                                      4489.632000\n",
      "nurse_station_4_queue_length_var                                    707.414147\n",
      "nurse_station_4_busy_var                                             27.495024\n",
      "nurse_station_5_wait_time_var                                      4511.504646\n",
      "nurse_station_5_queue_length_var                                    712.102554\n",
      "nurse_station_5_busy_var                                             27.625077\n",
      "nurse_station_6_wait_time_var                                       651.725067\n",
      "nurse_station_6_queue_length_var                                     31.152828\n",
      "nurse_station_6_busy_var                                             12.606992\n",
      "leukemia_doctor_1_wait_time_var                                    2398.501180\n",
      "leukemia_doctor_1_queue_length_var                                  137.511084\n",
      "leukemia_doctor_1_busy_var                                           26.791659\n",
      "leukemia_doctor_2_wait_time_var                                     816.175054\n",
      "leukemia_doctor_2_queue_length_var                                   38.604061\n",
      "leukemia_doctor_2_busy_var                                           16.684986\n",
      "transplant_doctor_1_wait_time_var                                  1218.119921\n",
      "transplant_doctor_1_queue_length_var                                 61.980780\n",
      "transplant_doctor_1_busy_var                                         19.663381\n",
      "transplant_doctor_2_wait_time_var                                  2126.283659\n",
      "transplant_doctor_2_queue_length_var                                172.134710\n",
      "transplant_doctor_2_busy_var                                         29.034741\n",
      "transplant_doctor_3_wait_time_var                                   954.397290\n",
      "transplant_doctor_3_queue_length_var                                 79.868415\n",
      "transplant_doctor_3_busy_var                                         25.045243\n",
      "other_patients_total_processing_time_var                           9775.298319\n",
      "leukemia_doctor_1_complex_patients_total_processing_time_var      12301.730660\n",
      "leukemia_doctor_1_regular_patients_total_processing_time_var      10594.229354\n",
      "leukemia_doctor_2_complex_patients_total_processing_time_var       7778.553205\n",
      "leukemia_doctor_2_regular_patients_total_processing_time_var       7205.157444\n",
      "transplant_doctor_1_complex_patients_total_processing_time_var     2762.304608\n",
      "transplant_doctor_1_regular_patients_total_processing_time_var     8912.603200\n",
      "transplant_doctor_2_complex_patients_total_processing_time_var    11142.811619\n",
      "transplant_doctor_2_regular_patients_total_processing_time_var    12210.681622\n",
      "transplant_doctor_3_complex_patients_total_processing_time_var     2047.481967\n",
      "transplant_doctor_3_regular_patients_total_processing_time_var    10268.963178\n",
      "dtype: float64\n",
      "**********************************************************************************\n",
      "99% Confidence Interval Half-Width for Variances:\n",
      "q_flow_station_wait_time_var                                         0.350015\n",
      "q_flow_station_queue_length_var                                      1.865227\n",
      "q_flow_station_busy_var                                              2.757727\n",
      "secretary_station_wait_time_var                                      4.619521\n",
      "secretary_station_queue_length_var                                  20.484342\n",
      "secretary_station_busy_var                                          19.810160\n",
      "nurse_station_1_wait_time_var                                     1765.176863\n",
      "nurse_station_1_queue_length_var                                   304.349989\n",
      "nurse_station_1_busy_var                                            10.241929\n",
      "nurse_station_2_wait_time_var                                     1492.539695\n",
      "nurse_station_2_queue_length_var                                   173.569518\n",
      "nurse_station_2_busy_var                                            10.461749\n",
      "nurse_station_3_wait_time_var                                     1363.906339\n",
      "nurse_station_3_queue_length_var                                   186.730307\n",
      "nurse_station_3_busy_var                                            10.053472\n",
      "nurse_station_4_wait_time_var                                     1742.420949\n",
      "nurse_station_4_queue_length_var                                   274.546607\n",
      "nurse_station_4_busy_var                                            10.670787\n",
      "nurse_station_5_wait_time_var                                     1750.909698\n",
      "nurse_station_5_queue_length_var                                   276.366172\n",
      "nurse_station_5_busy_var                                            10.721260\n",
      "nurse_station_6_wait_time_var                                      252.933739\n",
      "nurse_station_6_queue_length_var                                    12.090376\n",
      "nurse_station_6_busy_var                                             4.892759\n",
      "leukemia_doctor_1_wait_time_var                                    930.855514\n",
      "leukemia_doctor_1_queue_length_var                                  53.367891\n",
      "leukemia_doctor_1_busy_var                                          10.397811\n",
      "leukemia_doctor_2_wait_time_var                                    316.756588\n",
      "leukemia_doctor_2_queue_length_var                                  14.982191\n",
      "leukemia_doctor_2_busy_var                                           6.475424\n",
      "transplant_doctor_1_wait_time_var                                  472.750923\n",
      "transplant_doctor_1_queue_length_var                                24.054669\n",
      "transplant_doctor_1_busy_var                                         7.631335\n",
      "transplant_doctor_2_wait_time_var                                  825.208211\n",
      "transplant_doctor_2_queue_length_var                                66.805280\n",
      "transplant_doctor_2_busy_var                                        11.268349\n",
      "transplant_doctor_3_wait_time_var                                  370.400477\n",
      "transplant_doctor_3_queue_length_var                                30.996839\n",
      "transplant_doctor_3_busy_var                                         9.720029\n",
      "other_patients_total_processing_time_var                          3793.781891\n",
      "leukemia_doctor_1_complex_patients_total_processing_time_var      4774.287339\n",
      "leukemia_doctor_1_regular_patients_total_processing_time_var      4111.608071\n",
      "leukemia_doctor_2_complex_patients_total_processing_time_var      3018.847438\n",
      "leukemia_doctor_2_regular_patients_total_processing_time_var      2796.313211\n",
      "transplant_doctor_1_complex_patients_total_processing_time_var    1072.047201\n",
      "transplant_doctor_1_regular_patients_total_processing_time_var    3458.970920\n",
      "transplant_doctor_2_complex_patients_total_processing_time_var    4324.512209\n",
      "transplant_doctor_2_regular_patients_total_processing_time_var    4738.951313\n",
      "transplant_doctor_3_complex_patients_total_processing_time_var     794.625366\n",
      "transplant_doctor_3_regular_patients_total_processing_time_var    3985.372647\n",
      "dtype: float64\n",
      "**********************************************************************************\n",
      "Relative Error in Variance Estimates:\n",
      "q_flow_station_wait_time_var                                      0.388099\n",
      "q_flow_station_queue_length_var                                   0.388099\n",
      "q_flow_station_busy_var                                           0.388099\n",
      "secretary_station_wait_time_var                                   0.388099\n",
      "secretary_station_queue_length_var                                0.388099\n",
      "secretary_station_busy_var                                        0.388099\n",
      "nurse_station_1_wait_time_var                                     0.388099\n",
      "nurse_station_1_queue_length_var                                  0.388099\n",
      "nurse_station_1_busy_var                                          0.388099\n",
      "nurse_station_2_wait_time_var                                     0.388099\n",
      "nurse_station_2_queue_length_var                                  0.388099\n",
      "nurse_station_2_busy_var                                          0.388099\n",
      "nurse_station_3_wait_time_var                                     0.388099\n",
      "nurse_station_3_queue_length_var                                  0.388099\n",
      "nurse_station_3_busy_var                                          0.388099\n",
      "nurse_station_4_wait_time_var                                     0.388099\n",
      "nurse_station_4_queue_length_var                                  0.388099\n",
      "nurse_station_4_busy_var                                          0.388099\n",
      "nurse_station_5_wait_time_var                                     0.388099\n",
      "nurse_station_5_queue_length_var                                  0.388099\n",
      "nurse_station_5_busy_var                                          0.388099\n",
      "nurse_station_6_wait_time_var                                     0.388099\n",
      "nurse_station_6_queue_length_var                                  0.388099\n",
      "nurse_station_6_busy_var                                          0.388099\n",
      "leukemia_doctor_1_wait_time_var                                   0.388099\n",
      "leukemia_doctor_1_queue_length_var                                0.388099\n",
      "leukemia_doctor_1_busy_var                                        0.388099\n",
      "leukemia_doctor_2_wait_time_var                                   0.388099\n",
      "leukemia_doctor_2_queue_length_var                                0.388099\n",
      "leukemia_doctor_2_busy_var                                        0.388099\n",
      "transplant_doctor_1_wait_time_var                                 0.388099\n",
      "transplant_doctor_1_queue_length_var                              0.388099\n",
      "transplant_doctor_1_busy_var                                      0.388099\n",
      "transplant_doctor_2_wait_time_var                                 0.388099\n",
      "transplant_doctor_2_queue_length_var                              0.388099\n",
      "transplant_doctor_2_busy_var                                      0.388099\n",
      "transplant_doctor_3_wait_time_var                                 0.388099\n",
      "transplant_doctor_3_queue_length_var                              0.388099\n",
      "transplant_doctor_3_busy_var                                      0.388099\n",
      "other_patients_total_processing_time_var                          0.388099\n",
      "leukemia_doctor_1_complex_patients_total_processing_time_var      0.388099\n",
      "leukemia_doctor_1_regular_patients_total_processing_time_var      0.388099\n",
      "leukemia_doctor_2_complex_patients_total_processing_time_var      0.388099\n",
      "leukemia_doctor_2_regular_patients_total_processing_time_var      0.388099\n",
      "transplant_doctor_1_complex_patients_total_processing_time_var    0.388099\n",
      "transplant_doctor_1_regular_patients_total_processing_time_var    0.388099\n",
      "transplant_doctor_2_complex_patients_total_processing_time_var    0.388099\n",
      "transplant_doctor_2_regular_patients_total_processing_time_var    0.388099\n",
      "transplant_doctor_3_complex_patients_total_processing_time_var    0.388099\n",
      "transplant_doctor_3_regular_patients_total_processing_time_var    0.388099\n",
      "dtype: float64\n",
      "**********************************************************************************\n",
      "Number of epochs required for 99% confidence, half-width 5 units for all variance measures:\n",
      "1773.0\n",
      "**********************************************************************************\n",
      "Number of epochs required for 99% confidence, half-width 10 units for all variance measures:\n",
      "887.0\n"
     ]
    }
   ],
   "source": [
    "variances_df = pd.DataFrame({\n",
    "    \"q_flow_station_wait_time_var\": q_flow_station_wait_time_var,\n",
    "    \"q_flow_station_queue_length_var\": q_flow_station_queue_length_var,\n",
    "    \"q_flow_station_busy_var\": q_flow_station_busy_var,\n",
    "    \"secretary_station_wait_time_var\": secretary_station_wait_time_var,\n",
    "    \"secretary_station_queue_length_var\": secretary_station_queue_length_var,\n",
    "    \"secretary_station_busy_var\": secretary_station_busy_var,\n",
    "    \"nurse_station_1_wait_time_var\": nurse_station_1_wait_time_var,\n",
    "    \"nurse_station_1_queue_length_var\": nurse_station_1_queue_length_var,\n",
    "    \"nurse_station_1_busy_var\": nurse_station_1_busy_var,\n",
    "    \"nurse_station_2_wait_time_var\": nurse_station_2_wait_time_var,\n",
    "    \"nurse_station_2_queue_length_var\": nurse_station_2_queue_length_var,\n",
    "    \"nurse_station_2_busy_var\": nurse_station_2_busy_var,\n",
    "    \"nurse_station_3_wait_time_var\": nurse_station_3_wait_time_var,\n",
    "    \"nurse_station_3_queue_length_var\": nurse_station_3_queue_length_var,\n",
    "    \"nurse_station_3_busy_var\": nurse_station_3_busy_var,\n",
    "    \"nurse_station_4_wait_time_var\": nurse_station_4_wait_time_var,\n",
    "    \"nurse_station_4_queue_length_var\": nurse_station_4_queue_length_var,\n",
    "    \"nurse_station_4_busy_var\": nurse_station_4_busy_var,\n",
    "    \"nurse_station_5_wait_time_var\": nurse_station_5_wait_time_var,\n",
    "    \"nurse_station_5_queue_length_var\": nurse_station_5_queue_length_var,\n",
    "    \"nurse_station_5_busy_var\": nurse_station_5_busy_var,\n",
    "    \"nurse_station_6_wait_time_var\": nurse_station_6_wait_time_var,\n",
    "    \"nurse_station_6_queue_length_var\": nurse_station_6_queue_length_var,\n",
    "    \"nurse_station_6_busy_var\": nurse_station_6_busy_var,\n",
    "    \"leukemia_doctor_1_wait_time_var\": leukemia_doctor_1_wait_time_var,\n",
    "    \"leukemia_doctor_1_queue_length_var\": leukemia_doctor_1_queue_length_var,\n",
    "    \"leukemia_doctor_1_busy_var\": leukemia_doctor_1_busy_var,\n",
    "    \"leukemia_doctor_2_wait_time_var\": leukemia_doctor_2_wait_time_var,\n",
    "    \"leukemia_doctor_2_queue_length_var\": leukemia_doctor_2_queue_length_var,\n",
    "    \"leukemia_doctor_2_busy_var\": leukemia_doctor_2_busy_var,\n",
    "    \"transplant_doctor_1_wait_time_var\": transplant_doctor_1_wait_time_var,\n",
    "    \"transplant_doctor_1_queue_length_var\": transplant_doctor_1_queue_length_var,\n",
    "    \"transplant_doctor_1_busy_var\": transplant_doctor_1_busy_var,\n",
    "    \"transplant_doctor_2_wait_time_var\": transplant_doctor_2_wait_time_var,\n",
    "    \"transplant_doctor_2_queue_length_var\": transplant_doctor_2_queue_length_var,\n",
    "    \"transplant_doctor_2_busy_var\": transplant_doctor_2_busy_var,\n",
    "    \"transplant_doctor_3_wait_time_var\": transplant_doctor_3_wait_time_var,\n",
    "    \"transplant_doctor_3_queue_length_var\": transplant_doctor_3_queue_length_var,\n",
    "    \"transplant_doctor_3_busy_var\": transplant_doctor_3_busy_var,\n",
    "    \"other_patients_total_processing_time_var\": other_patients_total_processing_time_var,\n",
    "    \"leukemia_doctor_1_complex_patients_total_processing_time_var\": leukemia_doctor_1_complex_patients_total_processing_time_var,\n",
    "    \"leukemia_doctor_1_regular_patients_total_processing_time_var\": leukemia_doctor_1_regular_patients_total_processing_time_var,\n",
    "    \"leukemia_doctor_2_complex_patients_total_processing_time_var\": leukemia_doctor_2_complex_patients_total_processing_time_var,\n",
    "    \"leukemia_doctor_2_regular_patients_total_processing_time_var\": leukemia_doctor_2_regular_patients_total_processing_time_var,\n",
    "    \"transplant_doctor_1_complex_patients_total_processing_time_var\": transplant_doctor_1_complex_patients_total_processing_time_var,\n",
    "    \"transplant_doctor_1_regular_patients_total_processing_time_var\": transplant_doctor_1_regular_patients_total_processing_time_var,\n",
    "    \"transplant_doctor_2_complex_patients_total_processing_time_var\": transplant_doctor_2_complex_patients_total_processing_time_var,\n",
    "    \"transplant_doctor_2_regular_patients_total_processing_time_var\": transplant_doctor_2_regular_patients_total_processing_time_var,\n",
    "    \"transplant_doctor_3_complex_patients_total_processing_time_var\": transplant_doctor_3_complex_patients_total_processing_time_var,\n",
    "    \"transplant_doctor_3_regular_patients_total_processing_time_var\": transplant_doctor_3_regular_patients_total_processing_time_var,\n",
    "    \"leukemia_doctor_1_scheduled_vs_actual_time_diff_var\": leukemia_doctor_1_scheduled_vs_actual_time_diff_var,\n",
    "    \"leukemia_doctor_2_scheduled_vs_actual_time_diff_var\": leukemia_doctor_2_scheduled_vs_actual_time_diff_var,\n",
    "    \"transplant_doctor_1_scheduled_vs_actual_time_diff_var\": transplant_doctor_1_scheduled_vs_actual_time_diff_var,\n",
    "    \"transplant_doctor_2_scheduled_vs_actual_time_diff_var\": transplant_doctor_2_scheduled_vs_actual_time_diff_var,\n",
    "    \"transplant_doctor_3_scheduled_vs_actual_time_diff_var\": transplant_doctor_3_scheduled_vs_actual_time_diff_var\n",
    "})\n",
    "\n",
    "os.makedirs(\"results_directory/simulation_multi_queue\", exist_ok=True)\n",
    "variances_df.to_csv(f\"results_directory/simulation_multi_queue/variances_df.csv\")\n",
    "print(\"Simulation Variance Results Saved to results_directory/simulation_multi_queue/variances_df.csv\")\n",
    "print(\"**********************************************************************************\")\n",
    "\n",
    "# Number of epochs\n",
    "n = len(variances_df)\n",
    "alpha = 0.01  # 99% CI\n",
    "\n",
    "# Mean of the variances across epochs\n",
    "variance_means = variances_df.mean()\n",
    "print(\"Mean Variance of the simulation results:\")\n",
    "print(variance_means)\n",
    "print(\"**********************************************************************************\")\n",
    "\n",
    "# Chi-squared critical values\n",
    "chi2_lower = scs.chi2.ppf(1 - alpha / 2, df=n - 1)\n",
    "chi2_upper = scs.chi2.ppf(alpha / 2, df=n - 1)\n",
    "\n",
    "# Confidence interval half-width\n",
    "ci_lower = (n - 1) * variance_means / chi2_lower\n",
    "ci_upper = (n - 1) * variance_means / chi2_upper\n",
    "ci_half_width = (ci_upper - ci_lower) / 2\n",
    "print(\"99% Confidence Interval Half-Width for Variances:\")\n",
    "print(ci_half_width)\n",
    "print(\"**********************************************************************************\")\n",
    "\n",
    "# Relative error\n",
    "print(\"Relative Error in Variance Estimates:\")\n",
    "print(ci_half_width / variance_means)\n",
    "print(\"**********************************************************************************\")\n",
    "\n",
    "# Required number of epochs for half-width = 5\n",
    "required_n_5 = ((n - 1) * variance_means / ((5 + ci_half_width) ** 2)) * scs.chi2.ppf(1 - alpha / 2, df=n - 1)\n",
    "print(\"Number of epochs required for 99% confidence, half-width 5 units for all variance measures:\")\n",
    "print(np.ceil(required_n_5.max()))\n",
    "print(\"**********************************************************************************\")\n",
    "\n",
    "# Required number of epochs for half-width = 10\n",
    "required_n_10 = ((n - 1) * variance_means / ((10 + ci_half_width) ** 2)) * scs.chi2.ppf(1 - alpha / 2, df=n - 1)\n",
    "print(\"Number of epochs required for 99% confidence, half-width 10 units for all variance measures:\")\n",
    "print(np.ceil(required_n_10.max()))"
   ]
  }
 ],
 "metadata": {
  "kernelspec": {
   "display_name": "finance",
   "language": "python",
   "name": "python3"
  },
  "language_info": {
   "codemirror_mode": {
    "name": "ipython",
    "version": 3
   },
   "file_extension": ".py",
   "mimetype": "text/x-python",
   "name": "python",
   "nbconvert_exporter": "python",
   "pygments_lexer": "ipython3",
   "version": "3.11.9"
  }
 },
 "nbformat": 4,
 "nbformat_minor": 5
}
