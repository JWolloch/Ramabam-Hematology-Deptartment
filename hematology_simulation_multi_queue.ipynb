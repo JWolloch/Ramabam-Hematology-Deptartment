{
 "cells": [
  {
   "cell_type": "code",
   "execution_count": 165,
   "id": "initial_id",
   "metadata": {
    "ExecuteTime": {
     "end_time": "2024-03-30T22:39:46.869324Z",
     "start_time": "2024-03-30T22:39:46.857349Z"
    },
    "collapsed": true
   },
   "outputs": [],
   "source": [
    "# PythonSim imports\n",
    "from pythonSim import SimFunctions, SimClasses\n",
    "from model_parameters import ModelParameters\n",
    "\n",
    "from patients.patient import Patient\n",
    "from patients.leukemia_patient import LeukemiaPatient\n",
    "from patients.transplant_patient import TransplantPatient\n",
    "from patients.other_patient import OtherPatient\n",
    "\n",
    "from utils import assign_nurse_station\n",
    "\n",
    "# Python package imports\n",
    "import math\n",
    "import pandas as pd\n",
    "import numpy as np\n",
    "import scipy.stats as scs\n",
    "\n",
    "# Progress bar imports\n",
    "from tqdm.notebook import tqdm_notebook\n",
    "import time"
   ]
  },
  {
   "cell_type": "code",
   "execution_count": 166,
   "id": "ee255d1c6fbe9afc",
   "metadata": {
    "ExecuteTime": {
     "end_time": "2024-03-30T22:39:52.590478Z",
     "start_time": "2024-03-30T22:39:52.563643Z"
    },
    "collapsed": false
   },
   "outputs": [],
   "source": [
    "# Initializing event calendar\n",
    "Calendar = SimClasses.EventCalendar()"
   ]
  },
  {
   "cell_type": "code",
   "execution_count": 167,
   "id": "90259564655a2b4f",
   "metadata": {
    "ExecuteTime": {
     "end_time": "2024-03-30T22:39:52.860685Z",
     "start_time": "2024-03-30T22:39:52.847029Z"
    },
    "collapsed": false
   },
   "outputs": [],
   "source": [
    "model_parameters = ModelParameters()"
   ]
  },
  {
   "cell_type": "code",
   "execution_count": 173,
   "id": "7cbbfb00685ab1de",
   "metadata": {
    "ExecuteTime": {
     "end_time": "2024-03-30T22:39:54.848587Z",
     "start_time": "2024-03-30T22:39:54.834817Z"
    },
    "collapsed": false
   },
   "outputs": [],
   "source": [
    "q_flow_station = SimClasses.Resource()\n",
    "q_flow_station.SetUnits(1)\n",
    "q_flow_station_queue = SimClasses.FIFOQueue()\n",
    "\n",
    "secretary_station = SimClasses.Resource()\n",
    "secretary_station.SetUnits(2)\n",
    "\n",
    "secretary_station_queue = SimClasses.FIFOQueue()\n",
    "\n",
    "nurse_station_1 = SimClasses.Resource()\n",
    "nurse_station_1.SetUnits(1)\n",
    "nurse_station_2 = SimClasses.Resource()\n",
    "nurse_station_2.SetUnits(1)\n",
    "nurse_station_3 = SimClasses.Resource()\n",
    "nurse_station_3.SetUnits(1)\n",
    "nurse_station_4 = SimClasses.Resource()\n",
    "nurse_station_4.SetUnits(1)\n",
    "nurse_station_5 = SimClasses.Resource()\n",
    "nurse_station_5.SetUnits(1)\n",
    "nurse_station_6 = SimClasses.Resource()\n",
    "nurse_station_6.SetUnits(1)\n",
    "\n",
    "nurse_station_1_queue = SimClasses.FIFOQueue()\n",
    "nurse_station_2_queue = SimClasses.FIFOQueue()\n",
    "nurse_station_3_queue = SimClasses.FIFOQueue()\n",
    "nurse_station_4_queue = SimClasses.FIFOQueue()\n",
    "nurse_station_5_queue = SimClasses.FIFOQueue()\n",
    "nurse_station_6_queue = SimClasses.FIFOQueue()\n",
    "\n",
    "leukemia_doctor_1 = SimClasses.Resource()\n",
    "leukemia_doctor_1.SetUnits(1)\n",
    "leukemia_doctor_2 = SimClasses.Resource()\n",
    "leukemia_doctor_2.SetUnits(1)\n",
    "transplant_doctor_1 = SimClasses.Resource()\n",
    "transplant_doctor_1.SetUnits(1)\n",
    "transplant_doctor_2 = SimClasses.Resource()\n",
    "transplant_doctor_2.SetUnits(1)\n",
    "transplant_doctor_3 = SimClasses.Resource()\n",
    "transplant_doctor_3.SetUnits(1)\n",
    "\n",
    "leukemia_doctor_1_queue = SimClasses.FIFOQueue()\n",
    "leukemia_doctor_2_queue = SimClasses.FIFOQueue()\n",
    "transplant_doctor_1_queue = SimClasses.FIFOQueue()\n",
    "transplant_doctor_2_queue = SimClasses.FIFOQueue()\n",
    "transplant_doctor_3_queue = SimClasses.FIFOQueue()"
   ]
  },
  {
   "cell_type": "code",
   "execution_count": 179,
   "id": "cb34f0222dc10319",
   "metadata": {
    "ExecuteTime": {
     "end_time": "2024-03-30T22:39:56.592599Z",
     "start_time": "2024-03-30T22:39:56.578465Z"
    },
    "collapsed": false
   },
   "outputs": [],
   "source": [
    "q_flow_station_wait_time = SimClasses.DTStat()\n",
    "\n",
    "secretary_station_wait_time = SimClasses.DTStat()\n",
    "\n",
    "nurse_station_1_wait_time = SimClasses.DTStat()\n",
    "nurse_station_2_wait_time = SimClasses.DTStat()\n",
    "nurse_station_3_wait_time = SimClasses.DTStat()\n",
    "nurse_station_4_wait_time = SimClasses.DTStat()\n",
    "nurse_station_5_wait_time = SimClasses.DTStat()\n",
    "nurse_station_6_wait_time = SimClasses.DTStat()\n",
    "\n",
    "leukemia_doctor_1_wait_time = SimClasses.DTStat()\n",
    "leukemia_doctor_2_wait_time = SimClasses.DTStat()\n",
    "\n",
    "transplant_doctor_1_wait_time = SimClasses.DTStat()\n",
    "transplant_doctor_2_wait_time = SimClasses.DTStat()\n",
    "transplant_doctor_3_wait_time = SimClasses.DTStat()"
   ]
  },
  {
   "cell_type": "code",
   "execution_count": 184,
   "id": "52c077a50b3aa22c",
   "metadata": {
    "ExecuteTime": {
     "end_time": "2024-03-30T22:39:57.733096Z",
     "start_time": "2024-03-30T22:39:57.719922Z"
    },
    "collapsed": false
   },
   "outputs": [],
   "source": [
    "q_flow_station_wait_time_AVG = []\n",
    "\n",
    "secretary_station_wait_time_AVG = []\n",
    "\n",
    "nurse_station_1_wait_time_AVG = []\n",
    "nurse_station_2_wait_time_AVG = []\n",
    "nurse_station_3_wait_time_AVG = []\n",
    "nurse_station_4_wait_time_AVG = []\n",
    "nurse_station_5_wait_time_AVG = []\n",
    "nurse_station_6_wait_time_AVG = []\n",
    "\n",
    "leukemia_doctor_1_wait_time_AVG = []\n",
    "leukemia_doctor_2_wait_time_AVG = []\n",
    "\n",
    "transplant_doctor_1_wait_time_AVG = []\n",
    "transplant_doctor_2_wait_time_AVG = []\n",
    "transplant_doctor_3_wait_time_AVG = []\n",
    "\n",
    "q_flow_station_queue_length_AVG = []\n",
    "\n",
    "secretary_station_queue_length_AVG = []\n",
    "\n",
    "nurse_station_1_queue_length_AVG = []\n",
    "nurse_station_2_queue_length_AVG = []\n",
    "nurse_station_3_queue_length_AVG = []\n",
    "nurse_station_4_queue_length_AVG = []\n",
    "nurse_station_5_queue_length_AVG = []\n",
    "nurse_station_6_queue_length_AVG = []\n",
    "\n",
    "leukemia_doctor_1_queue_length_AVG = []\n",
    "leukemia_doctor_2_queue_length_AVG = []\n",
    "\n",
    "transplant_doctor_1_queue_length_AVG = []\n",
    "transplant_doctor_2_queue_length_AVG = []\n",
    "transplant_doctor_3_queue_length_AVG = []\n",
    "\n",
    "q_flow_station_busy_AVG = []\n",
    "\n",
    "secretary_station_busy_AVG = []\n",
    "\n",
    "nurse_station_1_busy_AVG = []\n",
    "nurse_station_2_busy_AVG = []\n",
    "nurse_station_3_busy_AVG = []\n",
    "nurse_station_4_busy_AVG = []\n",
    "nurse_station_5_busy_AVG = []\n",
    "nurse_station_6_busy_AVG = []\n",
    "\n",
    "leukemia_doctor_1_busy_AVG = []\n",
    "leukemia_doctor_2_busy_AVG = []\n",
    "\n",
    "transplant_doctor_1_busy_AVG = []\n",
    "transplant_doctor_2_busy_AVG = []\n",
    "transplant_doctor_3_busy_AVG = []\n",
    "\n",
    "leukemia_total_process_time_AVG = []\n",
    "transplant_total_process_time_AVG = []"
   ]
  },
  {
   "cell_type": "code",
   "execution_count": null,
   "id": "7a68937e",
   "metadata": {},
   "outputs": [],
   "source": [
    "q_flow_station_queue_length = []\n",
    "\n",
    "secretary_station_queue_length = []\n",
    "\n",
    "nurse_station_1_queue_length = []\n",
    "nurse_station_2_queue_length = []\n",
    "nurse_station_3_queue_length = []\n",
    "nurse_station_4_queue_length = []\n",
    "nurse_station_5_queue_length = []\n",
    "nurse_station_6_queue_length = []\n",
    "\n",
    "leukemia_doctor_1_queue_length = []\n",
    "leukemia_doctor_2_queue_length = []\n",
    "\n",
    "transplant_doctor_1_queue_length = []\n",
    "transplant_doctor_2_queue_length = []\n",
    "transplant_doctor_3_queue_length = []"
   ]
  },
  {
   "cell_type": "markdown",
   "id": "bf6eed75",
   "metadata": {},
   "source": [
    "### We assume here that all patients begin arriving at 08:00 (time 0 is 07:00 hence why we add 60)\n",
    "#### Currently we assume that they are all summoned at 20 minute intervals for simplicity"
   ]
  },
  {
   "cell_type": "code",
   "execution_count": null,
   "id": "b033b162",
   "metadata": {},
   "outputs": [],
   "source": [
    "leukemia_doctor_1_number_of_patients = model_parameters.leukemia_doctor_1_number_of_regular_patients + model_parameters.leukemia_doctor_1_number_of_complex_patients\n",
    "leukemia_doctor_1_patient_arrival_times = [60 + i*20 for i in range(leukemia_doctor_1_number_of_patients)]\n",
    "leukemia_doctor_2_number_of_patients = model_parameters.leukemia_doctor_2_number_of_regular_patients + model_parameters.leukemia_doctor_2_number_of_complex_patients\n",
    "leukemia_doctor_2_patient_arrival_times = [60 + i*20 for i in range(leukemia_doctor_2_number_of_patients)]\n",
    "\n",
    "transplant_doctor_1_number_of_patients = model_parameters.transplant_doctor_1_number_of_regular_patients + model_parameters.transplant_doctor_1_number_of_complex_patients\n",
    "transplant_doctor_1_patient_arrival_times = [60 + i*20 for i in range(transplant_doctor_1_number_of_patients)]\n",
    "transplant_doctor_2_number_of_patients = model_parameters.transplant_doctor_2_number_of_regular_patients + model_parameters.transplant_doctor_2_number_of_complex_patients\n",
    "transplant_doctor_2_patient_arrival_times = [60 + i*20 for i in range(transplant_doctor_2_number_of_patients)]\n",
    "transplant_doctor_3_number_of_patients = model_parameters.transplant_doctor_3_number_of_regular_patients + model_parameters.transplant_doctor_3_number_of_complex_patients\n",
    "transplant_doctor_3_patient_arrival_times = [60 + i*20 for i in range(transplant_doctor_3_number_of_patients)]\n",
    "\n",
    "other_patients_arrival_times = [60 + i*10 for i in range(model_parameters.number_of_other_patients)]"
   ]
  },
  {
   "cell_type": "code",
   "execution_count": null,
   "id": "a1deae27",
   "metadata": {},
   "outputs": [],
   "source": [
    "def create_patient_schedule(arrival_time: int):\n",
    "    return {'arrival_time': arrival_time,\n",
    "            'doctor_consultation_time': arrival_time + 120}\n",
    "\n",
    "def initialize_patients(patient_arrival_times: list[int],\n",
    "                        doctor_name: str,\n",
    "                        calendar: SimClasses.EventCalendar):\n",
    "    leukemia = doctor_name.contains('leukemia')\n",
    "    transplant = doctor_name.contains('transplant')\n",
    "    patients = []\n",
    "    if leukemia:\n",
    "        probability_of_visiting_nurse = model_parameters.probability_of_visiting_nurse_leukemia\n",
    "\n",
    "        if doctor_name.contains('1'):\n",
    "            probability_of_complex_patient = model_parameters.leukemia_doctor_1_probability_of_complex_patient\n",
    "        else:\n",
    "            probability_of_complex_patient = model_parameters.leukemia_doctor_2_probability_of_complex_patient\n",
    "\n",
    "        for arrival_time in patient_arrival_times:\n",
    "            patients.append(LeukemiaPatient(create_patient_schedule(arrival_time),\n",
    "                                            doctor_name,\n",
    "                                            probability_of_complex_patient,\n",
    "                                            probability_of_visiting_nurse))\n",
    "    elif transplant:\n",
    "        probability_of_visiting_nurse = model_parameters.probability_of_visiting_nurse_transplant\n",
    "        if doctor_name.contains('1'):\n",
    "            probability_of_complex_patient = model_parameters.transplant_doctor_1_probability_of_complex_patient\n",
    "        elif doctor_name.contains('2'):\n",
    "            probability_of_complex_patient = model_parameters.transplant_doctor_2_probability_of_complex_patient\n",
    "        else:\n",
    "            probability_of_complex_patient = model_parameters.transplant_doctor_3_probability_of_complex_patient\n",
    "\n",
    "        for arrival_time in patient_arrival_times:\n",
    "            patients.append(TransplantPatient(create_patient_schedule(arrival_time),\n",
    "                                              doctor_name,\n",
    "                                              probability_of_complex_patient,\n",
    "                                              probability_of_visiting_nurse))\n",
    "    else: #other\n",
    "        probability_of_visiting_nurse = model_parameters.probability_of_visiting_nurse_other\n",
    "        probability_of_complex_patient = model_parameters.probability_of_complex_other_patient\n",
    "\n",
    "        for arrival_time in patient_arrival_times:\n",
    "            patients.append(OtherPatient(create_patient_schedule(arrival_time),\n",
    "                                         doctor_name,\n",
    "                                         probability_of_complex_patient,\n",
    "                                         probability_of_visiting_nurse))\n",
    "    \n",
    "    for patient in patients:\n",
    "        patient.schedule_arrival(calendar)\n",
    "        \n",
    "    return patients"
   ]
  },
  {
   "cell_type": "code",
   "execution_count": null,
   "id": "70567ee2",
   "metadata": {},
   "outputs": [],
   "source": [
    "leukemia_doctor_1_patients = initialize_patients(leukemia_doctor_1_patient_arrival_times, \"leukemia_doctor_1\")\n",
    "leukemia_doctor_2_patients = initialize_patients(leukemia_doctor_2_patient_arrival_times, \"leukemia_doctor_2\")\n",
    "transplant_doctor_1_patients = initialize_patients(transplant_doctor_1_patient_arrival_times, \"transplant_doctor_1\")\n",
    "transplant_doctor_2_patients = initialize_patients(transplant_doctor_2_patient_arrival_times, \"transplant_doctor_2\")\n",
    "transplant_doctor_3_patients = initialize_patients(transplant_doctor_3_patient_arrival_times, \"transplant_doctor_3\")\n",
    "other_patients = initialize_patients(other_patients_arrival_times, \"other\")"
   ]
  },
  {
   "cell_type": "code",
   "execution_count": 191,
   "id": "84e47c457ce6572f",
   "metadata": {
    "ExecuteTime": {
     "end_time": "2024-03-30T22:39:59.388466Z",
     "start_time": "2024-03-30T22:39:59.374552Z"
    },
    "collapsed": false
   },
   "outputs": [],
   "source": [
    "def q_flow_start_of_waiting(new_patient : Patient):\n",
    "    q_flow_station_queue.Add(new_patient)\n",
    "    new_patient.enter_q_flow_queue()\n",
    "    if q_flow_station.CurrentNumBusy < q_flow_station.NumberOfUnits:\n",
    "        q_flow_station.Seize(1)\n",
    "        next_patient = q_flow_station_queue.Remove()\n",
    "        q_flow_station_wait_time.Record(SimClasses.Clock - next_patient.enter_q_flow_queue_time)\n",
    "        SimFunctions.SchedulePlus(Calendar, \"q_flow_station_service_start\", 0, next_patient)"
   ]
  },
  {
   "cell_type": "code",
   "execution_count": 192,
   "id": "6bf2e1c2ce1ef37c",
   "metadata": {
    "ExecuteTime": {
     "end_time": "2024-03-30T22:39:59.636487Z",
     "start_time": "2024-03-30T22:39:59.617715Z"
    },
    "collapsed": false
   },
   "outputs": [],
   "source": [
    "def q_flow_station_service(new_patient : Patient):\n",
    "    q_flow_service_duration = np.random.exponential(model_parameters.q_flow_mean_service_time)\n",
    "    SimFunctions.SchedulePlus(Calendar, \"q_flow_station_service_end\", q_flow_service_duration, new_patient)"
   ]
  },
  {
   "cell_type": "code",
   "execution_count": null,
   "id": "ec765acf",
   "metadata": {},
   "outputs": [],
   "source": [
    "def q_flow_station_service_end(new_patient: Patient):\n",
    "    new_patient.enter_secretary_queue_time = SimClasses.Clock\n",
    "    SimFunctions.SchedulePlus(Calendar, \"secretary_station_start_of_waiting\", 0, new_patient)\n",
    "\n",
    "    q_flow_station.Free(1)\n",
    "    if q_flow_station_queue.NumQueue() > 0:\n",
    "        next_patient = q_flow_station_queue.Remove()\n",
    "        q_flow_station_wait_time.Record(SimClasses.Clock - next_patient.enter_q_flow_queue_time)\n",
    "        SimFunctions.SchedulePlus(Calendar, \"q_flow_station_service_start\", 0, next_patient)"
   ]
  },
  {
   "cell_type": "code",
   "execution_count": null,
   "id": "60eba5d1",
   "metadata": {},
   "outputs": [],
   "source": [
    "def secretary_station_start_of_waiting(new_patient: Patient):\n",
    "    secretary_station_queue.Add(new_patient)\n",
    "    new_patient.enter_secretary_queue()\n",
    "    if secretary_station.CurrentNumBusy < secretary_station.NumberOfUnits:\n",
    "        secretary_station.Seize(1)\n",
    "        next_patient = secretary_station_queue.Remove()\n",
    "        secretary_station_wait_time.Record(SimClasses.Clock - next_patient.enter_secretary_queue_time)\n",
    "        SimFunctions.SchedulePlus(Calendar, \"secretary_station_service_start\", 0, next_patient)"
   ]
  },
  {
   "cell_type": "code",
   "execution_count": null,
   "id": "7cfaead6",
   "metadata": {},
   "outputs": [],
   "source": [
    "def secretary_station_service_start(new_patient: Patient):\n",
    "    secretary_station_service_duration = np.random.exponential(model_parameters.secretary_mean_service_time)\n",
    "    SimFunctions.SchedulePlus(Calendar, \"secretary_station_service_end\", secretary_station_service_duration, new_patient)"
   ]
  },
  {
   "cell_type": "code",
   "execution_count": null,
   "id": "229929d6",
   "metadata": {},
   "outputs": [],
   "source": [
    "def secretary_station_service_end(new_patient: Patient):\n",
    "    patient_type = new_patient.get_type()\n",
    "    has_nurse_appointment = new_patient.visits_nurse\n",
    "    if has_nurse_appointment:\n",
    "        nurse_station = assign_nurse_station(patient_type, model_parameters)\n",
    "        SimFunctions.SchedulePlus(Calendar, f'{nurse_station}_start_of_waiting', 0, new_patient)\n",
    "    else:\n",
    "        SimFunctions.SchedulePlus(Calendar, f'{new_patient.doctor_name}_start_of_waiting', 0, new_patient)\n",
    "    \n",
    "    secretary_station.Free(1)\n",
    "    if secretary_station_queue.NumQueue() > 0:\n",
    "        next_patient = secretary_station_queue.Remove()\n",
    "        secretary_station_wait_time.Record(SimClasses.Clock - next_patient.enter_secretary_queue_time)\n",
    "        SimFunctions.SchedulePlus(Calendar, \"secretary_station_service_start\", 0, next_patient)"
   ]
  },
  {
   "cell_type": "code",
   "execution_count": null,
   "id": "8ffbe348",
   "metadata": {},
   "outputs": [],
   "source": [
    "def nurse_station_1_start_of_waiting(new_patient: Patient):\n",
    "    nurse_station_1_queue.Add(new_patient)\n",
    "    new_patient.enter_nurse_queue()\n",
    "    if nurse_station_1.CurrentNumBusy < nurse_station_1.NumberOfUnits:\n",
    "        nurse_station_1.Seize(1)\n",
    "        next_patient = nurse_station_1_queue.Remove()\n",
    "        nurse_station_1_wait_time.Record(SimClasses.Clock - next_patient.enter_nurse_queue_time)\n",
    "        SimFunctions.SchedulePlus(Calendar, \"nurse_station_1_service_start\", 0, next_patient)\n",
    "\n",
    "def nurse_station_2_start_of_waiting(new_patient: Patient):\n",
    "    nurse_station_2_queue.Add(new_patient)\n",
    "    new_patient.enter_nurse_queue()\n",
    "    if nurse_station_2.CurrentNumBusy < nurse_station_2.NumberOfUnits:\n",
    "        nurse_station_2.Seize(1)\n",
    "        next_patient = nurse_station_2_queue.Remove()\n",
    "        nurse_station_2_wait_time.Record(SimClasses.Clock - next_patient.enter_nurse_queue_time)\n",
    "        SimFunctions.SchedulePlus(Calendar, \"nurse_station_2_service_start\", 0, next_patient)\n",
    "\n",
    "def nurse_station_3_start_of_waiting(new_patient: Patient):\n",
    "    nurse_station_3_queue.Add(new_patient)\n",
    "    new_patient.enter_nurse_queue()\n",
    "    if nurse_station_3.CurrentNumBusy < nurse_station_3.NumberOfUnits:\n",
    "        nurse_station_3.Seize(1)\n",
    "        next_patient = nurse_station_3_queue.Remove()\n",
    "        nurse_station_3_wait_time.Record(SimClasses.Clock - next_patient.enter_nurse_queue_time)\n",
    "        SimFunctions.SchedulePlus(Calendar, \"nurse_station_3_service_start\", 0, next_patient)\n",
    "\n",
    "def nurse_station_4_start_of_waiting(new_patient: Patient):\n",
    "    nurse_station_4_queue.Add(new_patient)\n",
    "    new_patient.enter_nurse_queue()\n",
    "    if nurse_station_4.CurrentNumBusy < nurse_station_4.NumberOfUnits:\n",
    "        nurse_station_4.Seize(1)\n",
    "        next_patient = nurse_station_4_queue.Remove()\n",
    "        nurse_station_4_wait_time.Record(SimClasses.Clock - next_patient.enter_nurse_queue_time)\n",
    "        SimFunctions.SchedulePlus(Calendar, \"nurse_station_4_service_start\", 0, next_patient)\n",
    "\n",
    "def nurse_station_5_start_of_waiting(new_patient: Patient):\n",
    "    nurse_station_5_queue.Add(new_patient)\n",
    "    new_patient.enter_nurse_queue()\n",
    "    if nurse_station_5.CurrentNumBusy < nurse_station_5.NumberOfUnits:\n",
    "        nurse_station_5.Seize(1)\n",
    "        next_patient = nurse_station_5_queue.Remove()\n",
    "        nurse_station_5_wait_time.Record(SimClasses.Clock - next_patient.enter_nurse_queue_time)\n",
    "        SimFunctions.SchedulePlus(Calendar, \"nurse_station_5_service_start\", 0, next_patient)\n",
    "\n",
    "def nurse_station_6_start_of_waiting(new_patient: Patient):\n",
    "    nurse_station_6_queue.Add(new_patient)\n",
    "    new_patient.enter_nurse_queue()\n",
    "    if nurse_station_6.CurrentNumBusy < nurse_station_6.NumberOfUnits:\n",
    "        nurse_station_6.Seize(1)\n",
    "        next_patient = nurse_station_6_queue.Remove()\n",
    "        nurse_station_6_wait_time.Record(SimClasses.Clock - next_patient.enter_nurse_queue_time)\n",
    "        SimFunctions.SchedulePlus(Calendar, \"nurse_station_6_service_start\", 0, next_patient)"
   ]
  },
  {
   "cell_type": "code",
   "execution_count": null,
   "id": "aaed8038",
   "metadata": {},
   "outputs": [],
   "source": [
    "def nurse_station_1_service_start(new_patient: Patient):\n",
    "    patient_complexity = new_patient.complexity_level\n",
    "\n",
    "    if patient_complexity == \"regular\":\n",
    "        mean_service_time = model_parameters.nurse_mean_service_time_regular\n",
    "    else:\n",
    "        mean_service_time = model_parameters.nurse_mean_service_time_complex\n",
    "\n",
    "    service_duration = np.random.exponential(mean_service_time)\n",
    "\n",
    "    SimFunctions.SchedulePlus(Calendar, \"nurse_station_1_service_end\", service_duration, new_patient)\n",
    "\n",
    "def nurse_station_2_service_start(new_patient: Patient):\n",
    "    patient_complexity = new_patient.complexity_level\n",
    "\n",
    "    if patient_complexity == \"regular\":\n",
    "        mean_service_time = model_parameters.nurse_mean_service_time_regular\n",
    "    else:\n",
    "        mean_service_time = model_parameters.nurse_mean_service_time_complex\n",
    "\n",
    "    service_duration = np.random.exponential(mean_service_time)\n",
    "\n",
    "    SimFunctions.SchedulePlus(Calendar, \"nurse_station_2_service_end\", service_duration, new_patient)\n",
    "\n",
    "def nurse_station_3_service_start(new_patient: Patient):\n",
    "    patient_complexity = new_patient.complexity_level\n",
    "\n",
    "    if patient_complexity == \"regular\":\n",
    "        mean_service_time = model_parameters.nurse_mean_service_time_regular\n",
    "    else:\n",
    "        mean_service_time = model_parameters.nurse_mean_service_time_complex\n",
    "\n",
    "    service_duration = np.random.exponential(mean_service_time)\n",
    "\n",
    "    SimFunctions.SchedulePlus(Calendar, \"nurse_station_3_service_end\", service_duration, new_patient)\n",
    "\n",
    "def nurse_station_4_service_start(new_patient: Patient):\n",
    "    patient_complexity = new_patient.complexity_level\n",
    "\n",
    "    if patient_complexity == \"regular\":\n",
    "        mean_service_time = model_parameters.nurse_mean_service_time_regular\n",
    "    else:\n",
    "        mean_service_time = model_parameters.nurse_mean_service_time_complex\n",
    "\n",
    "    service_duration = np.random.exponential(mean_service_time)\n",
    "\n",
    "    SimFunctions.SchedulePlus(Calendar, \"nurse_station_4_service_end\", service_duration, new_patient)\n",
    "\n",
    "def nurse_station_5_service_start(new_patient: Patient):\n",
    "    patient_complexity = new_patient.complexity_level\n",
    "\n",
    "    if patient_complexity == \"regular\":\n",
    "        mean_service_time = model_parameters.nurse_mean_service_time_regular\n",
    "    else:\n",
    "        mean_service_time = model_parameters.nurse_mean_service_time_complex\n",
    "\n",
    "    service_duration = np.random.exponential(mean_service_time)\n",
    "\n",
    "    SimFunctions.SchedulePlus(Calendar, \"nurse_station_5_service_end\", service_duration, new_patient)\n",
    "\n",
    "def nurse_station_6_service_start(new_patient: Patient):\n",
    "    patient_complexity = new_patient.complexity_level\n",
    "\n",
    "    if patient_complexity == \"regular\":\n",
    "        mean_service_time = model_parameters.nurse_mean_service_time_regular\n",
    "    else:\n",
    "        mean_service_time = model_parameters.nurse_mean_service_time_complex\n",
    "\n",
    "    service_duration = np.random.exponential(mean_service_time)\n",
    "\n",
    "    SimFunctions.SchedulePlus(Calendar, \"nurse_station_6_service_end\", service_duration, new_patient)"
   ]
  },
  {
   "cell_type": "code",
   "execution_count": null,
   "id": "2a06fc51",
   "metadata": {},
   "outputs": [],
   "source": [
    "def nurse_station_1_service_end(new_patient: Patient):\n",
    "    doctor_name = new_patient.doctor_name\n",
    "    SimFunctions.SchedulePlus(Calendar, f\"{doctor_name}_start_of_waiting\", 0, new_patient)\n",
    "\n",
    "def nurse_station_2_service_end(new_patient: Patient):\n",
    "    doctor_name = new_patient.doctor_name\n",
    "    SimFunctions.SchedulePlus(Calendar, f\"{doctor_name}_start_of_waiting\", 0, new_patient)\n",
    "\n",
    "def nurse_station_3_service_end(new_patient: Patient):\n",
    "    doctor_name = new_patient.doctor_name\n",
    "    SimFunctions.SchedulePlus(Calendar, f\"{doctor_name}_start_of_waiting\", 0, new_patient)\n",
    "\n",
    "def nurse_station_4_service_end(new_patient: Patient):\n",
    "    doctor_name = new_patient.doctor_name\n",
    "    SimFunctions.SchedulePlus(Calendar, f\"{doctor_name}_start_of_waiting\", 0, new_patient)\n",
    "\n",
    "def nurse_station_5_service_end(new_patient: Patient):\n",
    "    doctor_name = new_patient.doctor_name\n",
    "    SimFunctions.SchedulePlus(Calendar, f\"{doctor_name}_start_of_waiting\", 0, new_patient)\n",
    "\n",
    "def nurse_station_6_service_end(new_patient: Patient):\n",
    "    doctor_name = new_patient.doctor_name\n",
    "    SimFunctions.SchedulePlus(Calendar, f\"{doctor_name}_start_of_waiting\", 0, new_patient)"
   ]
  },
  {
   "cell_type": "code",
   "execution_count": null,
   "id": "6399295f",
   "metadata": {},
   "outputs": [],
   "source": [
    "def leukemia_doctor_1_start_of_waiting(new_patient: Patient):\n",
    "    leukemia_doctor_1_queue.Add(new_patient)\n",
    "    SimFunctions.SchedulePlus(Calendar, \"leukemia_doctor_1_service_start\", 0, new_patient)\n",
    "    if leukemia_doctor_1.CurrentNumBusy < leukemia_doctor_1.NumberOfUnits:\n",
    "        leukemia_doctor_1.Seize(1)\n",
    "        next_patient = leukemia_doctor_1_queue.Remove()\n",
    "        leukemia_doctor_1_wait_time.Record(SimClasses.Clock - next_patient.enter_leukemia_doctor_1_queue_time)\n",
    "        SimFunctions.SchedulePlus(Calendar, \"leukemia_doctor_1_service_start\", 0, next_patient)\n",
    "\n",
    "def leukemia_doctor_2_start_of_waiting(new_patient: Patient):\n",
    "    leukemia_doctor_2_queue.Add(new_patient)\n",
    "    SimFunctions.SchedulePlus(Calendar, \"leukemia_doctor_2_service_start\", 0, new_patient)\n",
    "    if leukemia_doctor_2.CurrentNumBusy < leukemia_doctor_2.NumberOfUnits:\n",
    "        leukemia_doctor_2.Seize(1)\n",
    "        next_patient = leukemia_doctor_2_queue.Remove()\n",
    "        leukemia_doctor_2_wait_time.Record(SimClasses.Clock - next_patient.enter_leukemia_doctor_2_queue_time)\n",
    "        SimFunctions.SchedulePlus(Calendar, \"leukemia_doctor_2_service_start\", 0, next_patient)\n",
    "\n",
    "def transplant_doctor_1_start_of_waiting(new_patient: Patient):\n",
    "    transplant_doctor_1_queue.Add(new_patient)\n",
    "    SimFunctions.SchedulePlus(Calendar, \"transplant_doctor_1_service_start\", 0, new_patient)\n",
    "    if transplant_doctor_1.CurrentNumBusy < transplant_doctor_1.NumberOfUnits:\n",
    "        transplant_doctor_1.Seize(1)\n",
    "        next_patient = transplant_doctor_1_queue.Remove()\n",
    "        transplant_doctor_1_wait_time.Record(SimClasses.Clock - next_patient.enter_transplant_doctor_1_queue_time)\n",
    "        SimFunctions.SchedulePlus(Calendar, \"transplant_doctor_1_service_start\", 0, next_patient)\n",
    "\n",
    "def transplant_doctor_2_start_of_waiting(new_patient: Patient):\n",
    "    transplant_doctor_2_queue.Add(new_patient)\n",
    "    SimFunctions.SchedulePlus(Calendar, \"transplant_doctor_2_service_start\", 0, new_patient)\n",
    "    if transplant_doctor_2.CurrentNumBusy < transplant_doctor_2.NumberOfUnits:\n",
    "        transplant_doctor_2.Seize(1)\n",
    "        next_patient = transplant_doctor_2_queue.Remove()\n",
    "        transplant_doctor_2_wait_time.Record(SimClasses.Clock - next_patient.enter_transplant_doctor_2_queue_time)\n",
    "        SimFunctions.SchedulePlus(Calendar, \"transplant_doctor_2_service_start\", 0, next_patient)\n",
    "\n",
    "def transplant_doctor_3_start_of_waiting(new_patient: Patient):\n",
    "    transplant_doctor_3_queue.Add(new_patient)\n",
    "    SimFunctions.SchedulePlus(Calendar, \"transplant_doctor_3_service_start\", 0, new_patient)\n",
    "    if transplant_doctor_3.CurrentNumBusy < transplant_doctor_3.NumberOfUnits:\n",
    "        transplant_doctor_3.Seize(1)\n",
    "        next_patient = transplant_doctor_3_queue.Remove()\n",
    "        transplant_doctor_3_wait_time.Record(SimClasses.Clock - next_patient.enter_transplant_doctor_3_queue_time)\n",
    "        SimFunctions.SchedulePlus(Calendar, \"transplant_doctor_3_service_start\", 0, next_patient)\n",
    "\n",
    "def other_doctor_start_of_waiting(new_patient: Patient):\n",
    "    #other patients doctor treatment is not included in the model\n",
    "    SimFunctions.SchedulePlus(Calendar, \"process_complete\", 0, new_patient)"
   ]
  },
  {
   "cell_type": "code",
   "execution_count": null,
   "id": "5cbc074e",
   "metadata": {},
   "outputs": [],
   "source": [
    "def leukemia_doctor_1_service_start(new_patient: Patient):\n",
    "    patient_complexity = new_patient.complexity_level\n",
    "    if patient_complexity == \"regular\":\n",
    "        mean_service_time = model_parameters.leukemia_doctor_1_mean_service_time_regular\n",
    "    else:\n",
    "        mean_service_time = model_parameters.leukemia_doctor_1_mean_service_time_complex\n",
    "    service_duration = np.random.exponential(mean_service_time)\n",
    "    SimFunctions.SchedulePlus(Calendar, \"leukemia_doctor_1_service_end\", service_duration, new_patient)\n",
    "\n",
    "def leukemia_doctor_2_service_start(new_patient: Patient):\n",
    "    patient_complexity = new_patient.complexity_level\n",
    "    if patient_complexity == \"regular\":\n",
    "        mean_service_time = model_parameters.leukemia_doctor_2_mean_service_time_regular\n",
    "    else:\n",
    "        mean_service_time = model_parameters.leukemia_doctor_2_mean_service_time_complex\n",
    "    service_duration = np.random.exponential(mean_service_time)\n",
    "    SimFunctions.SchedulePlus(Calendar, \"leukemia_doctor_2_service_end\", service_duration, new_patient)\n",
    "\n",
    "def transplant_doctor_1_service_start(new_patient: Patient):\n",
    "    patient_complexity = new_patient.complexity_level\n",
    "    if patient_complexity == \"regular\":\n",
    "        mean_service_time = model_parameters.transplant_doctor_1_mean_service_time_regular\n",
    "    else:\n",
    "        mean_service_time = model_parameters.transplant_doctor_1_mean_service_time_complex\n",
    "    service_duration = np.random.exponential(mean_service_time)\n",
    "    SimFunctions.SchedulePlus(Calendar, \"transplant_doctor_1_service_end\", service_duration, new_patient)\n",
    "\n",
    "def transplant_doctor_2_service_start(new_patient: Patient):\n",
    "    patient_complexity = new_patient.complexity_level\n",
    "    if patient_complexity == \"regular\":\n",
    "        mean_service_time = model_parameters.transplant_doctor_2_mean_service_time_regular\n",
    "    else:\n",
    "        mean_service_time = model_parameters.transplant_doctor_2_mean_service_time_complex\n",
    "    service_duration = np.random.exponential(mean_service_time)\n",
    "    SimFunctions.SchedulePlus(Calendar, \"transplant_doctor_2_service_end\", service_duration, new_patient)\n",
    "\n",
    "def transplant_doctor_3_service_start(new_patient: Patient):\n",
    "    patient_complexity = new_patient.complexity_level\n",
    "    if patient_complexity == \"regular\":\n",
    "        mean_service_time = model_parameters.transplant_doctor_3_mean_service_time_regular\n",
    "    else:\n",
    "        mean_service_time = model_parameters.transplant_doctor_3_mean_service_time_complex\n",
    "    service_duration = np.random.exponential(mean_service_time)\n",
    "    SimFunctions.SchedulePlus(Calendar, \"transplant_doctor_3_service_end\", service_duration, new_patient)"
   ]
  },
  {
   "cell_type": "code",
   "execution_count": null,
   "id": "c930902e",
   "metadata": {},
   "outputs": [],
   "source": [
    "def leukemia_doctor_1_service_end(new_patient: Patient):\n",
    "    SimFunctions.SchedulePlus(Calendar, \"process_complete\", 0, new_patient)\n",
    "\n",
    "def leukemia_doctor_2_service_end(new_patient: Patient):\n",
    "    SimFunctions.SchedulePlus(Calendar, \"process_complete\", 0, new_patient)\n",
    "\n",
    "def transplant_doctor_1_service_end(new_patient: Patient):\n",
    "    SimFunctions.SchedulePlus(Calendar, \"process_complete\", 0, new_patient)\n",
    "\n",
    "def transplant_doctor_2_service_end(new_patient: Patient):\n",
    "    SimFunctions.SchedulePlus(Calendar, \"process_complete\", 0, new_patient)\n",
    "\n",
    "def transplant_doctor_3_service_end(new_patient: Patient):\n",
    "    SimFunctions.SchedulePlus(Calendar, \"process_complete\", 0, new_patient)"
   ]
  },
  {
   "cell_type": "code",
   "execution_count": 193,
   "id": "ab305a0a59ab45c8",
   "metadata": {
    "ExecuteTime": {
     "end_time": "2024-03-30T22:39:59.943144Z",
     "start_time": "2024-03-30T22:39:59.919555Z"
    },
    "collapsed": false
   },
   "outputs": [],
   "source": [
    "def BrooklynVerbalEvaluationEnd(NewImmigrant : ImmigrantClass.Immigrant()):\n",
    "    \n",
    "    if ((NewImmigrant.getAge() == \"Child\" or NewImmigrant.getAge() == \"Old\") and NewImmigrant.getEnglishProficiency() == \"Fluent\") or (NewImmigrant.getAge() == \"Adult\" and NewImmigrant.getEnglishProficiency() == \"Fluent\" and NewImmigrant.getEducationLevel() == \"Bachelor\"):\n",
    "        SimFunctions.SchedulePlus(Calendar, \"ProcessComplete\", 0, NewImmigrant)\n",
    "    \n",
    "    elif NewImmigrant.getAge() == \"Adult\" and NewImmigrant.getEnglishProficiency() == \"Fluent\" and NewImmigrant.getEducationLevel() == \"Less Than Bachelor\":\n",
    "        NewImmigrant.JoinCareerCoachingQueueTime = SimClasses.Clock\n",
    "        SimFunctions.SchedulePlus(Calendar, 'BrooklynCareerCoachingStartOfWaiting', 0, NewImmigrant)\n",
    "    \n",
    "    elif NewImmigrant.getAge() == \"Child\" and NewImmigrant.getEnglishProficiency() == \"LevelA\":\n",
    "        NewImmigrant.JoinClassQueueTime = SimClasses.Clock\n",
    "        SimFunctions.SchedulePlus(Calendar, 'BrooklynCourseChildLevelAStartOfWaiting', 0, NewImmigrant)\n",
    "    \n",
    "    elif NewImmigrant.getAge() == \"Child\" and NewImmigrant.getEnglishProficiency() == \"LevelB\":\n",
    "        NewImmigrant.JoinClassQueueTime = SimClasses.Clock\n",
    "        SimFunctions.SchedulePlus(Calendar, 'BrooklynCourseChildLevelBStartOfWaiting', 0, NewImmigrant)\n",
    "    \n",
    "    elif NewImmigrant.getAge() == \"Child\" and NewImmigrant.getEnglishProficiency() == \"LevelC\":\n",
    "        NewImmigrant.JoinClassQueueTime = SimClasses.Clock\n",
    "        SimFunctions.SchedulePlus(Calendar, 'BrooklynCourseChildLevelCStartOfWaiting', 0, NewImmigrant)\n",
    "    \n",
    "    elif (NewImmigrant.getAge() == \"Adult\" or NewImmigrant.getAge() == \"Old\") and NewImmigrant.getEnglishProficiency() == \"LevelA\":\n",
    "        NewImmigrant.JoinClassQueueTime = SimClasses.Clock\n",
    "        SimFunctions.SchedulePlus(Calendar, 'BrooklynCourseAdultLevelAStartOfWaiting', 0, NewImmigrant)\n",
    "    \n",
    "    elif (NewImmigrant.getAge() == \"Adult\" or NewImmigrant.getAge() == \"Old\") and NewImmigrant.getEnglishProficiency() == \"LevelB\":\n",
    "        NewImmigrant.JoinClassQueueTime = SimClasses.Clock\n",
    "        SimFunctions.SchedulePlus(Calendar, 'BrooklynCourseAdultLevelBStartOfWaiting', 0, NewImmigrant)\n",
    "    \n",
    "    elif (NewImmigrant.getAge() == \"Adult\" or NewImmigrant.getAge() == \"Old\") and NewImmigrant.getEnglishProficiency() == \"LevelC\":\n",
    "        NewImmigrant.JoinClassQueueTime = SimClasses.Clock\n",
    "        SimFunctions.SchedulePlus(Calendar, 'BrooklynCourseAdultLevelCStartOfWaiting', 0, NewImmigrant)\n",
    "        \n",
    "    BrooklynLanguageAssessors.Free(1)\n",
    "    if BrooklynQueueLanguageAssessors.NumQueue() > 0:\n",
    "        NextImmigrant = BrooklynQueueLanguageAssessors.Remove()\n",
    "        BrooklynLanguageAssessors.Seize(1)\n",
    "        BrooklynLanguageAssessorsWaitTime.Record(SimClasses.Clock - NextImmigrant.JoinVerbalEvaluationQueueTime)\n",
    "        SimFunctions.SchedulePlus(Calendar, \"BrooklynVerbalEvaluationStart\", 0, NextImmigrant)"
   ]
  },
  {
   "cell_type": "code",
   "execution_count": 194,
   "id": "ed2a5cbaf50638c2",
   "metadata": {
    "ExecuteTime": {
     "end_time": "2024-03-30T22:40:00.103659Z",
     "start_time": "2024-03-30T22:40:00.089664Z"
    },
    "collapsed": false
   },
   "outputs": [],
   "source": [
    "def BrooklynCourseChildLevelAStartOfWaiting(NewImmigrant : ImmigrantClass.Immigrant()):\n",
    "    BrooklynQueueTeachersChildLevelA.Add(NewImmigrant)\n",
    "    NewImmigrant.EnterLanguageCourseQueue()\n",
    "    if BrooklynTeachersChildLevelA.CurrentNumBusy < BrooklynTeachersChildLevelA.NumberOfUnits and BrooklynQueueTeachersChildLevelA.NumQueue() >= ClassSize:\n",
    "        BrooklynTeachersChildLevelA.Seize(1)\n",
    "        for i in range(ClassSize):\n",
    "            Student = BrooklynQueueTeachersChildLevelA.Remove()\n",
    "            BrooklynTeachersChildLevelAWaitTime.Record(SimClasses.Clock - Student.getJoinClassQueueTime())\n",
    "            SimFunctions.SchedulePlus(Calendar, \"BrooklynCourseChildLevelAStart\", 0, Student)"
   ]
  },
  {
   "cell_type": "code",
   "execution_count": 195,
   "id": "6527b9d70a384a92",
   "metadata": {
    "ExecuteTime": {
     "end_time": "2024-03-30T22:40:00.432557Z",
     "start_time": "2024-03-30T22:40:00.418571Z"
    },
    "collapsed": false
   },
   "outputs": [],
   "source": [
    "def BrooklynCourseChildLevelAStart(Student : ImmigrantClass.Immigrant()):\n",
    "    SimFunctions.SchedulePlus(Calendar, \"BrooklynCourseChildLevelAEnd\", LanguageCourseDurationLevelA, Student)"
   ]
  },
  {
   "cell_type": "code",
   "execution_count": 196,
   "id": "cb6f044091d74be3",
   "metadata": {
    "ExecuteTime": {
     "end_time": "2024-03-30T22:40:00.651667Z",
     "start_time": "2024-03-30T22:40:00.642846Z"
    },
    "collapsed": false
   },
   "outputs": [],
   "source": [
    "def BrooklynCourseChildLevelAEnd(NextStudent):\n",
    "    BrooklynTeachersChildLevelA.Free(1)\n",
    "    SimFunctions.SchedulePlus(Calendar, \"ProcessComplete\", 0, NextStudent)\n",
    "    if BrooklynTeachersChildLevelA.CurrentNumBusy < BrooklynTeachersChildLevelA.NumberOfUnits and BrooklynQueueTeachersChildLevelA.NumQueue() >= ClassSize:\n",
    "        BrooklynTeachersChildLevelA.Seize(1)\n",
    "        for i in range(ClassSize):\n",
    "            Student = BrooklynQueueTeachersChildLevelA.Remove()\n",
    "            BrooklynTeachersChildLevelAWaitTime.Record(SimClasses.Clock - Student.getJoinClassQueueTime())\n",
    "            SimFunctions.SchedulePlus(Calendar, \"BrooklynCourseChildLevelAStart\", 0, Student)"
   ]
  },
  {
   "cell_type": "code",
   "execution_count": 197,
   "id": "5bdbcc7fb25a2a34",
   "metadata": {
    "ExecuteTime": {
     "end_time": "2024-03-30T22:40:00.807864Z",
     "start_time": "2024-03-30T22:40:00.794201Z"
    },
    "collapsed": false
   },
   "outputs": [],
   "source": [
    "def BrooklynCourseChildLevelBStartOfWaiting(NewImmigrant : ImmigrantClass.Immigrant()):\n",
    "    BrooklynQueueTeachersChildLevelB.Add(NewImmigrant)\n",
    "    NewImmigrant.EnterLanguageCourseQueue()\n",
    "    if BrooklynTeachersChildLevelB.CurrentNumBusy < BrooklynTeachersChildLevelB.NumberOfUnits and BrooklynQueueTeachersChildLevelB.NumQueue() >= ClassSize:\n",
    "        BrooklynTeachersChildLevelB.Seize(1)\n",
    "        for i in range(ClassSize):\n",
    "            Student = BrooklynQueueTeachersChildLevelB.Remove()\n",
    "            BrooklynTeachersChildLevelBWaitTime.Record(SimClasses.Clock - Student.getJoinClassQueueTime())\n",
    "            SimFunctions.SchedulePlus(Calendar, \"BrooklynCourseChildLevelBStart\", 0, Student)"
   ]
  },
  {
   "cell_type": "code",
   "execution_count": 198,
   "id": "b7236dfb79fc08c4",
   "metadata": {
    "ExecuteTime": {
     "end_time": "2024-03-30T22:40:01.060983Z",
     "start_time": "2024-03-30T22:40:01.040989Z"
    },
    "collapsed": false
   },
   "outputs": [],
   "source": [
    "def BrooklynCourseChildLevelBStart(Student : ImmigrantClass.Immigrant()):\n",
    "    SimFunctions.SchedulePlus(Calendar, \"BrooklynCourseChildLevelBEnd\", LanguageCourseDurationLevelB, Student)"
   ]
  },
  {
   "cell_type": "code",
   "execution_count": 199,
   "id": "fd82dccaddac8e6d",
   "metadata": {
    "ExecuteTime": {
     "end_time": "2024-03-30T22:40:01.326687Z",
     "start_time": "2024-03-30T22:40:01.316015Z"
    },
    "collapsed": false
   },
   "outputs": [],
   "source": [
    "def BrooklynCourseChildLevelBEnd(NextStudent):\n",
    "    BrooklynTeachersChildLevelB.Free(1)\n",
    "    SimFunctions.SchedulePlus(Calendar, \"ProcessComplete\", 0, NextStudent)\n",
    "    if BrooklynTeachersChildLevelB.CurrentNumBusy < BrooklynTeachersChildLevelB.NumberOfUnits and BrooklynQueueTeachersChildLevelB.NumQueue() >= ClassSize:\n",
    "        BrooklynTeachersChildLevelB.Seize(1)\n",
    "        for i in range(ClassSize):\n",
    "            Student = BrooklynQueueTeachersChildLevelB.Remove()\n",
    "            BrooklynTeachersChildLevelBWaitTime.Record(SimClasses.Clock - Student.getJoinClassQueueTime())\n",
    "            SimFunctions.SchedulePlus(Calendar, \"BrooklynCourseChildLevelBStart\", 0, Student)"
   ]
  },
  {
   "cell_type": "code",
   "execution_count": 200,
   "id": "d2b5635bea4a346b",
   "metadata": {
    "ExecuteTime": {
     "end_time": "2024-03-30T22:40:01.576345Z",
     "start_time": "2024-03-30T22:40:01.570043Z"
    },
    "collapsed": false
   },
   "outputs": [],
   "source": [
    "def BrooklynCourseChildLevelCStartOfWaiting(NewImmigrant : ImmigrantClass.Immigrant()):\n",
    "    BrooklynQueueTeachersChildLevelC.Add(NewImmigrant)\n",
    "    NewImmigrant.EnterLanguageCourseQueue()\n",
    "    if BrooklynTeachersChildLevelC.CurrentNumBusy < BrooklynTeachersChildLevelC.NumberOfUnits and BrooklynQueueTeachersChildLevelC.NumQueue() >= ClassSize:\n",
    "        BrooklynTeachersChildLevelC.Seize(1)\n",
    "        for i in range(ClassSize):\n",
    "            Student = BrooklynQueueTeachersChildLevelC.Remove()\n",
    "            BrooklynTeachersChildLevelCWaitTime.Record(SimClasses.Clock - Student.getJoinClassQueueTime())\n",
    "            SimFunctions.SchedulePlus(Calendar, \"BrooklynCourseChildLevelCStart\", 0, Student)"
   ]
  },
  {
   "cell_type": "code",
   "execution_count": 201,
   "id": "8f907a8a59e1c1eb",
   "metadata": {
    "ExecuteTime": {
     "end_time": "2024-03-30T22:40:01.858124Z",
     "start_time": "2024-03-30T22:40:01.846455Z"
    },
    "collapsed": false
   },
   "outputs": [],
   "source": [
    "def BrooklynCourseChildLevelCStart(Student : ImmigrantClass.Immigrant()):\n",
    "    SimFunctions.SchedulePlus(Calendar, \"BrooklynCourseChildLevelCEnd\", LanguageCourseDurationLevelC, Student)"
   ]
  },
  {
   "cell_type": "code",
   "execution_count": 202,
   "id": "ad0b0ed087245b91",
   "metadata": {
    "ExecuteTime": {
     "end_time": "2024-03-30T22:40:01.997901Z",
     "start_time": "2024-03-30T22:40:01.985828Z"
    },
    "collapsed": false
   },
   "outputs": [],
   "source": [
    "def BrooklynCourseChildLevelCEnd(NextStudent):\n",
    "    BrooklynTeachersChildLevelC.Free(1)\n",
    "    SimFunctions.SchedulePlus(Calendar, \"ProcessComplete\", 0, NextStudent)\n",
    "    if BrooklynTeachersChildLevelC.CurrentNumBusy < BrooklynTeachersChildLevelC.NumberOfUnits and BrooklynQueueTeachersChildLevelC.NumQueue() >= ClassSize:\n",
    "        BrooklynTeachersChildLevelC.Seize(1)\n",
    "        for i in range(ClassSize):\n",
    "            Student = BrooklynQueueTeachersChildLevelC.Remove()\n",
    "            BrooklynTeachersChildLevelCWaitTime.Record(SimClasses.Clock - Student.getJoinClassQueueTime())\n",
    "            SimFunctions.SchedulePlus(Calendar, \"BrooklynCourseChildLevelCStart\", 0, Student)"
   ]
  },
  {
   "cell_type": "code",
   "execution_count": 203,
   "id": "9296d7c9b3a7adb5",
   "metadata": {
    "ExecuteTime": {
     "end_time": "2024-03-30T22:40:02.230902Z",
     "start_time": "2024-03-30T22:40:02.217254Z"
    },
    "collapsed": false
   },
   "outputs": [],
   "source": [
    "def BrooklynCourseAdultLevelAStartOfWaiting(NewImmigrant : ImmigrantClass.Immigrant()):\n",
    "    BrooklynQueueTeachersAdultLevelA.Add(NewImmigrant)\n",
    "    NewImmigrant.EnterLanguageCourseQueue()\n",
    "    if BrooklynTeachersAdultLevelA.CurrentNumBusy < BrooklynTeachersAdultLevelA.NumberOfUnits and BrooklynQueueTeachersAdultLevelA.NumQueue() >= ClassSize:\n",
    "        BrooklynTeachersAdultLevelA.Seize(1)\n",
    "        for i in range(ClassSize):\n",
    "            Student = BrooklynQueueTeachersAdultLevelA.Remove()\n",
    "            BrooklynTeachersAdultLevelAWaitTime.Record(SimClasses.Clock - Student.getJoinClassQueueTime())\n",
    "            SimFunctions.SchedulePlus(Calendar, \"BrooklynCourseAdultLevelAStart\", 0, Student)"
   ]
  },
  {
   "cell_type": "code",
   "execution_count": 204,
   "id": "8f214e33d332558a",
   "metadata": {
    "ExecuteTime": {
     "end_time": "2024-03-30T22:40:02.415940Z",
     "start_time": "2024-03-30T22:40:02.401863Z"
    },
    "collapsed": false
   },
   "outputs": [],
   "source": [
    "def BrooklynCourseAdultLevelAStart(Student : ImmigrantClass.Immigrant()):\n",
    "    SimFunctions.SchedulePlus(Calendar, \"BrooklynCourseAdultLevelAEnd\", LanguageCourseDurationLevelA, Student)"
   ]
  },
  {
   "cell_type": "code",
   "execution_count": 205,
   "id": "910794da6f48b655",
   "metadata": {
    "ExecuteTime": {
     "end_time": "2024-03-30T22:40:02.629211Z",
     "start_time": "2024-03-30T22:40:02.615645Z"
    },
    "collapsed": false
   },
   "outputs": [],
   "source": [
    "def BrooklynCourseAdultLevelAEnd(NextStudent):\n",
    "    BrooklynTeachersAdultLevelA.Free(1)\n",
    "    if NextStudent.getEducationLevel() == \"Less Than Bachelor\":\n",
    "        NextStudent.JoinCareerCoachingQueueTime = SimClasses.Clock\n",
    "        SimFunctions.SchedulePlus(Calendar, 'BrooklynCareerCoachingStartOfWaiting', 0, NextStudent)\n",
    "    else:\n",
    "        SimFunctions.SchedulePlus(Calendar, \"ProcessComplete\", 0, NextStudent)\n",
    "        \n",
    "    if BrooklynTeachersAdultLevelA.CurrentNumBusy < BrooklynTeachersAdultLevelA.NumberOfUnits and BrooklynQueueTeachersAdultLevelA.NumQueue() >= ClassSize:\n",
    "        BrooklynTeachersAdultLevelA.Seize(1)\n",
    "        for i in range(ClassSize):\n",
    "            Student = BrooklynQueueTeachersAdultLevelA.Remove()\n",
    "            BrooklynTeachersAdultLevelAWaitTime.Record(SimClasses.Clock - Student.getJoinClassQueueTime())\n",
    "            SimFunctions.SchedulePlus(Calendar, \"BrooklynCourseAdultLevelAStart\", 0, Student)"
   ]
  },
  {
   "cell_type": "code",
   "execution_count": 206,
   "id": "6555c7e068bd6398",
   "metadata": {
    "ExecuteTime": {
     "end_time": "2024-03-30T22:40:02.816604Z",
     "start_time": "2024-03-30T22:40:02.800231Z"
    },
    "collapsed": false
   },
   "outputs": [],
   "source": [
    "def BrooklynCourseAdultLevelBStartOfWaiting(NewImmigrant : ImmigrantClass.Immigrant()):\n",
    "    BrooklynQueueTeachersAdultLevelB.Add(NewImmigrant)\n",
    "    NewImmigrant.EnterLanguageCourseQueue()\n",
    "    if BrooklynTeachersAdultLevelB.CurrentNumBusy < BrooklynTeachersAdultLevelB.NumberOfUnits and BrooklynQueueTeachersAdultLevelB.NumQueue() >= ClassSize:\n",
    "        BrooklynTeachersAdultLevelB.Seize(1)\n",
    "        for i in range(ClassSize):\n",
    "            Student = BrooklynQueueTeachersAdultLevelB.Remove()\n",
    "            BrooklynTeachersAdultLevelBWaitTime.Record(SimClasses.Clock - Student.getJoinClassQueueTime())\n",
    "            SimFunctions.SchedulePlus(Calendar, \"BrooklynCourseAdultLevelBStart\", 0, Student)"
   ]
  },
  {
   "cell_type": "code",
   "execution_count": 207,
   "id": "f72d36df6ab3cb68",
   "metadata": {
    "ExecuteTime": {
     "end_time": "2024-03-30T22:40:03.019802Z",
     "start_time": "2024-03-30T22:40:03.012283Z"
    },
    "collapsed": false
   },
   "outputs": [],
   "source": [
    "def BrooklynCourseAdultLevelBStart(Student : ImmigrantClass.Immigrant()):\n",
    "    SimFunctions.SchedulePlus(Calendar, \"BrooklynCourseAdultLevelBEnd\", LanguageCourseDurationLevelB, Student)"
   ]
  },
  {
   "cell_type": "code",
   "execution_count": 208,
   "id": "e35ad777f7351614",
   "metadata": {
    "ExecuteTime": {
     "end_time": "2024-03-30T22:40:03.190437Z",
     "start_time": "2024-03-30T22:40:03.180950Z"
    },
    "collapsed": false
   },
   "outputs": [],
   "source": [
    "def BrooklynCourseAdultLevelBEnd(NextStudent):\n",
    "    BrooklynTeachersAdultLevelB.Free(1)\n",
    "    if NextStudent.getEducationLevel() == \"Less Than Bachelor\":\n",
    "        NextStudent.JoinCareerCoachingQueueTime = SimClasses.Clock\n",
    "        SimFunctions.SchedulePlus(Calendar, 'BrooklynCareerCoachingStartOfWaiting', 0, NextStudent)\n",
    "    else:\n",
    "        SimFunctions.SchedulePlus(Calendar, \"ProcessComplete\", 0, NextStudent)\n",
    "        \n",
    "    if BrooklynTeachersAdultLevelB.CurrentNumBusy < BrooklynTeachersAdultLevelB.NumberOfUnits and BrooklynQueueTeachersAdultLevelB.NumQueue() >= ClassSize:\n",
    "        BrooklynTeachersAdultLevelB.Seize(1)\n",
    "        for i in range(ClassSize):\n",
    "            Student = BrooklynQueueTeachersAdultLevelB.Remove()\n",
    "            BrooklynTeachersAdultLevelBWaitTime.Record(SimClasses.Clock - Student.getJoinClassQueueTime())\n",
    "            SimFunctions.SchedulePlus(Calendar, \"BrooklynCourseAdultLevelBStart\", 0, Student)"
   ]
  },
  {
   "cell_type": "code",
   "execution_count": 209,
   "id": "fc5187a0eb4a0abe",
   "metadata": {
    "ExecuteTime": {
     "end_time": "2024-03-30T22:40:03.543173Z",
     "start_time": "2024-03-30T22:40:03.519559Z"
    },
    "collapsed": false
   },
   "outputs": [],
   "source": [
    "def BrooklynCourseAdultLevelCStartOfWaiting(NewImmigrant : ImmigrantClass.Immigrant()):\n",
    "    BrooklynQueueTeachersAdultLevelC.Add(NewImmigrant)\n",
    "    NewImmigrant.EnterLanguageCourseQueue()\n",
    "    if BrooklynTeachersAdultLevelC.CurrentNumBusy < BrooklynTeachersAdultLevelC.NumberOfUnits and BrooklynQueueTeachersAdultLevelC.NumQueue() >= ClassSize:\n",
    "        BrooklynTeachersAdultLevelC.Seize(1)\n",
    "        for i in range(ClassSize):\n",
    "            Student = BrooklynQueueTeachersAdultLevelC.Remove()\n",
    "            BrooklynTeachersAdultLevelCWaitTime.Record(SimClasses.Clock - Student.getJoinClassQueueTime())\n",
    "            SimFunctions.SchedulePlus(Calendar, \"BrooklynCourseAdultLevelCStart\", 0, Student)"
   ]
  },
  {
   "cell_type": "code",
   "execution_count": 210,
   "id": "cf7c6766057cf2da",
   "metadata": {
    "ExecuteTime": {
     "end_time": "2024-03-30T22:40:03.715370Z",
     "start_time": "2024-03-30T22:40:03.706217Z"
    },
    "collapsed": false
   },
   "outputs": [],
   "source": [
    "def BrooklynCourseAdultLevelCStart(Student : ImmigrantClass.Immigrant()):\n",
    "    SimFunctions.SchedulePlus(Calendar, \"BrooklynCourseAdultLevelCEnd\", LanguageCourseDurationLevelC, Student)"
   ]
  },
  {
   "cell_type": "code",
   "execution_count": 211,
   "id": "23f9e59a35b3ab53",
   "metadata": {
    "ExecuteTime": {
     "end_time": "2024-03-30T22:40:04.090648Z",
     "start_time": "2024-03-30T22:40:04.076734Z"
    },
    "collapsed": false
   },
   "outputs": [],
   "source": [
    "def BrooklynCourseAdultLevelCEnd(NextStudent):\n",
    "    BrooklynTeachersAdultLevelC.Free(1)\n",
    "    if NextStudent.getEducationLevel() == \"Less Than Bachelor\":\n",
    "        NextStudent.JoinCareerCoachingQueueTime = SimClasses.Clock\n",
    "        SimFunctions.SchedulePlus(Calendar, 'BrooklynCareerCoachingStartOfWaiting', 0, NextStudent)\n",
    "    else:\n",
    "        SimFunctions.SchedulePlus(Calendar, \"ProcessComplete\", 0, NextStudent)\n",
    "        \n",
    "    if BrooklynTeachersAdultLevelC.CurrentNumBusy < BrooklynTeachersAdultLevelC.NumberOfUnits and BrooklynQueueTeachersAdultLevelC.NumQueue() >= ClassSize:\n",
    "        BrooklynTeachersAdultLevelC.Seize(1)\n",
    "        for i in range(ClassSize):\n",
    "            Student = BrooklynQueueTeachersAdultLevelC.Remove()\n",
    "            BrooklynTeachersAdultLevelCWaitTime.Record(SimClasses.Clock - Student.getJoinClassQueueTime())\n",
    "            SimFunctions.SchedulePlus(Calendar, \"BrooklynCourseAdultLevelCStart\", 0, Student)"
   ]
  },
  {
   "cell_type": "code",
   "execution_count": 212,
   "id": "8031147a9e37463c",
   "metadata": {
    "ExecuteTime": {
     "end_time": "2024-03-30T22:40:04.506779Z",
     "start_time": "2024-03-30T22:40:04.493212Z"
    },
    "collapsed": false
   },
   "outputs": [],
   "source": [
    "def BrooklynCareerCoachingStartOfWaiting(NewImmigrant : ImmigrantClass.Immigrant()):\n",
    "    BrooklynQueueCareerCoach.Add(NewImmigrant)\n",
    "    NewImmigrant.EnterCareerCoachingQueue()\n",
    "    if BrooklynCareerCoach.CurrentNumBusy < BrooklynCareerCoach.NumberOfUnits and BrooklynQueueCareerCoach.NumQueue() > 0:\n",
    "        BrooklynCareerCoach.Seize(1)\n",
    "        NextImmigrant = BrooklynQueueCareerCoach.Remove()\n",
    "        BrooklynCareerCoachWaitTime.Record(SimClasses.Clock - NextImmigrant.getJoinCareerCoachingQueueTime())\n",
    "        SimFunctions.SchedulePlus(Calendar, \"BrooklynCareerCoachingStart\", 0, NextImmigrant)"
   ]
  },
  {
   "cell_type": "code",
   "execution_count": 213,
   "id": "dc8c2d1956948157",
   "metadata": {
    "ExecuteTime": {
     "end_time": "2024-03-30T22:40:04.731239Z",
     "start_time": "2024-03-30T22:40:04.725730Z"
    },
    "collapsed": false
   },
   "outputs": [],
   "source": [
    "def BrooklynCareerCoachingStart(NewImmigrant : ImmigrantClass.Immigrant()):\n",
    "    SimFunctions.SchedulePlus(Calendar, \"BrooklynCareerCoachingEnd\", CareerCoachingSessionDuration, NewImmigrant)"
   ]
  },
  {
   "cell_type": "code",
   "execution_count": 214,
   "id": "f0b04001f9834791",
   "metadata": {
    "ExecuteTime": {
     "end_time": "2024-03-30T22:40:05.119876Z",
     "start_time": "2024-03-30T22:40:05.106636Z"
    },
    "collapsed": false
   },
   "outputs": [],
   "source": [
    "def BrooklynCareerCoachingEnd(NewImmigrant : ImmigrantClass.Immigrant()):\n",
    "    BrooklynCareerCoach.Free(1)\n",
    "    SimFunctions.SchedulePlus(Calendar, \"ProcessComplete\", 0, NewImmigrant)\n",
    "    if BrooklynCareerCoach.CurrentNumBusy < BrooklynCareerCoach.NumberOfUnits and BrooklynQueueCareerCoach.NumQueue() > 0:\n",
    "        BrooklynCareerCoach.Seize(1)\n",
    "        NextImmigrant = BrooklynQueueCareerCoach.Remove()\n",
    "        BrooklynCareerCoachWaitTime.Record(SimClasses.Clock - NextImmigrant.getJoinCareerCoachingQueueTime())\n",
    "        SimFunctions.SchedulePlus(Calendar, \"BrooklynCareerCoachingStart\", 0, NextImmigrant)"
   ]
  },
  {
   "cell_type": "code",
   "execution_count": 215,
   "id": "edf6fc4cc15d60c6",
   "metadata": {
    "ExecuteTime": {
     "end_time": "2024-03-30T22:40:05.351538Z",
     "start_time": "2024-03-30T22:40:05.332741Z"
    },
    "collapsed": false
   },
   "outputs": [],
   "source": [
    "def ManhattanVerbalEvaluationStartOfWaiting(NewImmigrant : ImmigrantClass.Immigrant()):\n",
    "    ManhattanQueueLanguageAssessors.Add(NewImmigrant)\n",
    "    NewImmigrant.EnterVerbalEvaluationQueue()\n",
    "    if ManhattanLanguageAssessors.CurrentNumBusy < ManhattanLanguageAssessors.NumberOfUnits:\n",
    "        ManhattanLanguageAssessors.Seize(1)\n",
    "        NextImmigrant = ManhattanQueueLanguageAssessors.Remove()\n",
    "        ManhattanLanguageAssessorsWaitTime.Record(SimClasses.Clock - NextImmigrant.JoinVerbalEvaluationQueueTime)\n",
    "        SimFunctions.SchedulePlus(Calendar, \"ManhattanVerbalEvaluationStart\", 0, NextImmigrant)"
   ]
  },
  {
   "cell_type": "code",
   "execution_count": 216,
   "id": "990d1500f901cd3",
   "metadata": {
    "ExecuteTime": {
     "end_time": "2024-03-30T22:40:05.599824Z",
     "start_time": "2024-03-30T22:40:05.586127Z"
    },
    "collapsed": false
   },
   "outputs": [],
   "source": [
    "def ManhattanVerbalEvaluationStart(NewImmigrant : ImmigrantClass.Immigrant()):\n",
    "    SimFunctions.SchedulePlus(Calendar, \"ManhattanVerbalEvaluationEnd\", LanguageAssessmentDuration, NewImmigrant)"
   ]
  },
  {
   "cell_type": "code",
   "execution_count": 217,
   "id": "7102f2d7f10baab6",
   "metadata": {
    "ExecuteTime": {
     "end_time": "2024-03-30T22:40:05.839357Z",
     "start_time": "2024-03-30T22:40:05.810067Z"
    },
    "collapsed": false
   },
   "outputs": [],
   "source": [
    "def ManhattanVerbalEvaluationEnd(NewImmigrant : ImmigrantClass.Immigrant()):\n",
    "    if ((NewImmigrant.getAge() == \"Child\" or NewImmigrant.getAge() == \"Old\") and NewImmigrant.getEnglishProficiency() == \"Fluent\") or (NewImmigrant.getAge() == \"Adult\" and NewImmigrant.getEnglishProficiency() == \"Fluent\" and NewImmigrant.getEducationLevel() == \"Bachelor\"):\n",
    "        SimFunctions.SchedulePlus(Calendar, \"ProcessComplete\", 0, NewImmigrant)\n",
    "    \n",
    "    elif NewImmigrant.getAge() == \"Adult\" and NewImmigrant.getEnglishProficiency() == \"Fluent\" and NewImmigrant.getEducationLevel() == \"Less Than Bachelor\":\n",
    "        NewImmigrant.JoinCareerCoachingQueueTime = SimClasses.Clock\n",
    "        SimFunctions.SchedulePlus(Calendar, 'ManhattanCareerCoachingStartOfWaiting', 0, NewImmigrant)\n",
    "    \n",
    "    elif NewImmigrant.getAge() == \"Child\" and NewImmigrant.getEnglishProficiency() == \"LevelA\":\n",
    "        NewImmigrant.JoinClassQueueTime = SimClasses.Clock\n",
    "        SimFunctions.SchedulePlus(Calendar, 'ManhattanCourseChildLevelAStartOfWaiting', 0, NewImmigrant)\n",
    "    \n",
    "    elif NewImmigrant.getAge() == \"Child\" and NewImmigrant.getEnglishProficiency() == \"LevelB\":\n",
    "        NewImmigrant.JoinClassQueueTime = SimClasses.Clock\n",
    "        SimFunctions.SchedulePlus(Calendar, 'ManhattanCourseChildLevelBStartOfWaiting', 0, NewImmigrant)\n",
    "    \n",
    "    elif NewImmigrant.getAge() == \"Child\" and NewImmigrant.getEnglishProficiency() == \"LevelC\":\n",
    "        NewImmigrant.JoinClassQueueTime = SimClasses.Clock\n",
    "        SimFunctions.SchedulePlus(Calendar, 'ManhattanCourseChildLevelCStartOfWaiting', 0, NewImmigrant)\n",
    "    \n",
    "    elif (NewImmigrant.getAge() == \"Adult\" or NewImmigrant.getAge() == \"Old\") and NewImmigrant.getEnglishProficiency() == \"LevelA\":\n",
    "        NewImmigrant.JoinClassQueueTime = SimClasses.Clock\n",
    "        SimFunctions.SchedulePlus(Calendar, 'ManhattanCourseAdultLevelAStartOfWaiting', 0, NewImmigrant)\n",
    "    \n",
    "    elif (NewImmigrant.getAge() == \"Adult\" or NewImmigrant.getAge() == \"Old\") and NewImmigrant.getEnglishProficiency() == \"LevelB\":\n",
    "        NewImmigrant.JoinClassQueueTime = SimClasses.Clock\n",
    "        SimFunctions.SchedulePlus(Calendar, 'ManhattanCourseAdultLevelBStartOfWaiting', 0, NewImmigrant)\n",
    "    \n",
    "    elif (NewImmigrant.getAge() == \"Adult\" or NewImmigrant.getAge() == \"Old\") and NewImmigrant.getEnglishProficiency() == \"LevelC\":\n",
    "        NewImmigrant.JoinClassQueueTime = SimClasses.Clock\n",
    "        SimFunctions.SchedulePlus(Calendar, 'ManhattanCourseAdultLevelCStartOfWaiting', 0, NewImmigrant)\n",
    "        \n",
    "    ManhattanLanguageAssessors.Free(1)\n",
    "    if ManhattanQueueLanguageAssessors.NumQueue() > 0:\n",
    "        NextImmigrant = ManhattanQueueLanguageAssessors.Remove()\n",
    "        ManhattanLanguageAssessors.Seize(1)\n",
    "        ManhattanLanguageAssessorsWaitTime.Record(SimClasses.Clock - NextImmigrant.JoinVerbalEvaluationQueueTime)\n",
    "        SimFunctions.SchedulePlus(Calendar, \"ManhattanVerbalEvaluationStart\", 0, NextImmigrant)"
   ]
  },
  {
   "cell_type": "code",
   "execution_count": 218,
   "id": "c96444c80143ed65",
   "metadata": {
    "ExecuteTime": {
     "end_time": "2024-03-30T22:40:06.107062Z",
     "start_time": "2024-03-30T22:40:06.089320Z"
    },
    "collapsed": false
   },
   "outputs": [],
   "source": [
    "def ManhattanCourseChildLevelAStartOfWaiting(NewImmigrant : ImmigrantClass.Immigrant()):\n",
    "    ManhattanQueueTeachersChildLevelA.Add(NewImmigrant)\n",
    "    NewImmigrant.EnterLanguageCourseQueue()\n",
    "    if ManhattanTeachersChildLevelA.CurrentNumBusy < ManhattanTeachersChildLevelA.NumberOfUnits and ManhattanQueueTeachersChildLevelA.NumQueue() >= ClassSize:\n",
    "        ManhattanTeachersChildLevelA.Seize(1)\n",
    "        for i in range(ClassSize):\n",
    "            Student = ManhattanQueueTeachersChildLevelA.Remove()\n",
    "            ManhattanTeachersChildLevelAWaitTime.Record(SimClasses.Clock - Student.getJoinClassQueueTime())\n",
    "            SimFunctions.SchedulePlus(Calendar, \"ManhattanCourseChildLevelAStart\", 0, Student)"
   ]
  },
  {
   "cell_type": "code",
   "execution_count": 219,
   "id": "6f110f5175d9fa27",
   "metadata": {
    "ExecuteTime": {
     "end_time": "2024-03-30T22:40:06.278324Z",
     "start_time": "2024-03-30T22:40:06.264274Z"
    },
    "collapsed": false
   },
   "outputs": [],
   "source": [
    "def ManhattanCourseChildLevelAStart(Student : ImmigrantClass.Immigrant()):\n",
    "    SimFunctions.SchedulePlus(Calendar, \"ManhattanCourseChildLevelAEnd\", LanguageCourseDurationLevelA, Student)"
   ]
  },
  {
   "cell_type": "code",
   "execution_count": 220,
   "id": "8a6894e548336605",
   "metadata": {
    "ExecuteTime": {
     "end_time": "2024-03-30T22:40:06.634435Z",
     "start_time": "2024-03-30T22:40:06.616091Z"
    },
    "collapsed": false
   },
   "outputs": [],
   "source": [
    "def ManhattanCourseChildLevelAEnd(NextStudent):\n",
    "    ManhattanTeachersChildLevelA.Free(1)\n",
    "    SimFunctions.SchedulePlus(Calendar, \"ProcessComplete\", 0, NextStudent)\n",
    "    if ManhattanTeachersChildLevelA.CurrentNumBusy < ManhattanTeachersChildLevelA.NumberOfUnits and ManhattanQueueTeachersChildLevelA.NumQueue() >= ClassSize:\n",
    "        ManhattanTeachersChildLevelA.Seize(1)\n",
    "        for i in range(ClassSize):\n",
    "            Student = ManhattanQueueTeachersChildLevelA.Remove()\n",
    "            ManhattanTeachersChildLevelAWaitTime.Record(SimClasses.Clock - Student.getJoinClassQueueTime())\n",
    "            SimFunctions.SchedulePlus(Calendar, \"ManhattanCourseChildLevelAStart\", 0, Student)"
   ]
  },
  {
   "cell_type": "code",
   "execution_count": 221,
   "id": "615f860b677f55d",
   "metadata": {
    "ExecuteTime": {
     "end_time": "2024-03-30T22:40:06.880031Z",
     "start_time": "2024-03-30T22:40:06.866343Z"
    },
    "collapsed": false
   },
   "outputs": [],
   "source": [
    "def ManhattanCourseChildLevelBStartOfWaiting(NewImmigrant : ImmigrantClass.Immigrant()):\n",
    "    ManhattanQueueTeachersChildLevelB.Add(NewImmigrant)\n",
    "    NewImmigrant.EnterLanguageCourseQueue()\n",
    "    if ManhattanTeachersChildLevelB.CurrentNumBusy < ManhattanTeachersChildLevelB.NumberOfUnits and ManhattanQueueTeachersChildLevelB.NumQueue() >= ClassSize:\n",
    "        ManhattanTeachersChildLevelB.Seize(1)\n",
    "        for i in range(ClassSize):\n",
    "            Student = ManhattanQueueTeachersChildLevelB.Remove()\n",
    "            ManhattanTeachersChildLevelBWaitTime.Record(SimClasses.Clock - Student.getJoinClassQueueTime())\n",
    "            SimFunctions.SchedulePlus(Calendar, \"ManhattanCourseChildLevelBStart\", 0, Student)"
   ]
  },
  {
   "cell_type": "code",
   "execution_count": 222,
   "id": "70530607bb5aa4de",
   "metadata": {
    "ExecuteTime": {
     "end_time": "2024-03-30T22:40:07.065199Z",
     "start_time": "2024-03-30T22:40:07.050961Z"
    },
    "collapsed": false
   },
   "outputs": [],
   "source": [
    "def ManhattanCourseChildLevelBStart(Student : ImmigrantClass.Immigrant()):\n",
    "    SimFunctions.SchedulePlus(Calendar, \"ManhattanCourseChildLevelBEnd\", LanguageCourseDurationLevelB, Student)"
   ]
  },
  {
   "cell_type": "code",
   "execution_count": 223,
   "id": "c388d708c42634d3",
   "metadata": {
    "ExecuteTime": {
     "end_time": "2024-03-30T22:40:07.424882Z",
     "start_time": "2024-03-30T22:40:07.406195Z"
    },
    "collapsed": false
   },
   "outputs": [],
   "source": [
    "def ManhattanCourseChildLevelBEnd(NextStudent):\n",
    "    ManhattanTeachersChildLevelB.Free(1)\n",
    "    SimFunctions.SchedulePlus(Calendar, \"ProcessComplete\", 0, NextStudent)\n",
    "    if ManhattanTeachersChildLevelB.CurrentNumBusy < ManhattanTeachersChildLevelB.NumberOfUnits and ManhattanQueueTeachersChildLevelB.NumQueue() >= ClassSize:\n",
    "        ManhattanTeachersChildLevelB.Seize(1)\n",
    "        for i in range(ClassSize):\n",
    "            Student = ManhattanQueueTeachersChildLevelB.Remove()\n",
    "            ManhattanTeachersChildLevelBWaitTime.Record(SimClasses.Clock - Student.getJoinClassQueueTime())\n",
    "            SimFunctions.SchedulePlus(Calendar, \"ManhattanCourseChildLevelBStart\", 0, Student)"
   ]
  },
  {
   "cell_type": "code",
   "execution_count": 224,
   "id": "337b86c5a5092137",
   "metadata": {
    "ExecuteTime": {
     "end_time": "2024-03-30T22:40:07.591161Z",
     "start_time": "2024-03-30T22:40:07.574802Z"
    },
    "collapsed": false
   },
   "outputs": [],
   "source": [
    "def ManhattanCourseChildLevelCStartOfWaiting(NewImmigrant : ImmigrantClass.Immigrant()):\n",
    "    ManhattanQueueTeachersChildLevelC.Add(NewImmigrant)\n",
    "    NewImmigrant.EnterLanguageCourseQueue()\n",
    "    if ManhattanTeachersChildLevelC.CurrentNumBusy < ManhattanTeachersChildLevelC.NumberOfUnits and ManhattanQueueTeachersChildLevelC.NumQueue() >= ClassSize:\n",
    "        ManhattanTeachersChildLevelC.Seize(1)\n",
    "        for i in range(ClassSize):\n",
    "            Student = ManhattanQueueTeachersChildLevelC.Remove()\n",
    "            ManhattanTeachersChildLevelCWaitTime.Record(SimClasses.Clock - Student.getJoinClassQueueTime())\n",
    "            SimFunctions.SchedulePlus(Calendar, \"ManhattanCourseChildLevelCStart\", 0, Student)"
   ]
  },
  {
   "cell_type": "code",
   "execution_count": 225,
   "id": "4278c65690519200",
   "metadata": {
    "ExecuteTime": {
     "end_time": "2024-03-30T22:40:07.838830Z",
     "start_time": "2024-03-30T22:40:07.832340Z"
    },
    "collapsed": false
   },
   "outputs": [],
   "source": [
    "def ManhattanCourseChildLevelCStart(Student : ImmigrantClass.Immigrant()):\n",
    "    SimFunctions.SchedulePlus(Calendar, \"ManhattanCourseChildLevelCEnd\", LanguageCourseDurationLevelC, Student)"
   ]
  },
  {
   "cell_type": "code",
   "execution_count": 226,
   "id": "918ee364f159a701",
   "metadata": {
    "ExecuteTime": {
     "end_time": "2024-03-30T22:40:08.165753Z",
     "start_time": "2024-03-30T22:40:08.145486Z"
    },
    "collapsed": false
   },
   "outputs": [],
   "source": [
    "def ManhattanCourseChildLevelCEnd(NextStudent):\n",
    "    ManhattanTeachersChildLevelC.Free(1)\n",
    "    SimFunctions.SchedulePlus(Calendar, \"ProcessComplete\", 0, NextStudent)\n",
    "    if ManhattanTeachersChildLevelC.CurrentNumBusy < ManhattanTeachersChildLevelC.NumberOfUnits and ManhattanQueueTeachersChildLevelC.NumQueue() >= ClassSize:\n",
    "        ManhattanTeachersChildLevelC.Seize(1)\n",
    "        for i in range(ClassSize):\n",
    "            Student = ManhattanQueueTeachersChildLevelC.Remove()\n",
    "            ManhattanTeachersChildLevelCWaitTime.Record(SimClasses.Clock - Student.getJoinClassQueueTime())\n",
    "            SimFunctions.SchedulePlus(Calendar, \"ManhattanCourseChildLevelCStart\", 0, Student)"
   ]
  },
  {
   "cell_type": "code",
   "execution_count": 227,
   "id": "c87d9e4d7a8f319b",
   "metadata": {
    "ExecuteTime": {
     "end_time": "2024-03-30T22:40:08.314267Z",
     "start_time": "2024-03-30T22:40:08.307496Z"
    },
    "collapsed": false
   },
   "outputs": [],
   "source": [
    "def ManhattanCourseAdultLevelAStartOfWaiting(NewImmigrant : ImmigrantClass.Immigrant()):\n",
    "    ManhattanQueueTeachersAdultLevelA.Add(NewImmigrant)\n",
    "    NewImmigrant.EnterLanguageCourseQueue()\n",
    "    if ManhattanTeachersAdultLevelA.CurrentNumBusy < ManhattanTeachersAdultLevelA.NumberOfUnits and ManhattanQueueTeachersAdultLevelA.NumQueue() >= ClassSize:\n",
    "        ManhattanTeachersAdultLevelA.Seize(1)\n",
    "        for i in range(ClassSize):\n",
    "            Student = ManhattanQueueTeachersAdultLevelA.Remove()\n",
    "            ManhattanTeachersAdultLevelAWaitTime.Record(SimClasses.Clock - Student.getJoinClassQueueTime())\n",
    "            SimFunctions.SchedulePlus(Calendar, \"ManhattanCourseAdultLevelAStart\", 0, Student)"
   ]
  },
  {
   "cell_type": "code",
   "execution_count": 228,
   "id": "47130f089f041ebb",
   "metadata": {
    "ExecuteTime": {
     "end_time": "2024-03-30T22:40:08.570510Z",
     "start_time": "2024-03-30T22:40:08.551243Z"
    },
    "collapsed": false
   },
   "outputs": [],
   "source": [
    "def ManhattanCourseAdultLevelAStart(Student : ImmigrantClass.Immigrant()):\n",
    "    SimFunctions.SchedulePlus(Calendar, \"ManhattanCourseAdultLevelAEnd\", LanguageCourseDurationLevelA, Student)"
   ]
  },
  {
   "cell_type": "code",
   "execution_count": 229,
   "id": "ee0f73f89c30ef30",
   "metadata": {
    "ExecuteTime": {
     "end_time": "2024-03-30T22:40:08.831167Z",
     "start_time": "2024-03-30T22:40:08.820723Z"
    },
    "collapsed": false
   },
   "outputs": [],
   "source": [
    "def ManhattanCourseAdultLevelAEnd(NextStudent):\n",
    "    ManhattanTeachersAdultLevelA.Free(1)\n",
    "    if NextStudent.getEducationLevel() == \"Less Than Bachelor\":\n",
    "        NextStudent.JoinCareerCoachingQueueTime = SimClasses.Clock\n",
    "        SimFunctions.SchedulePlus(Calendar, 'ManhattanCareerCoachingStartOfWaiting', 0, NextStudent)\n",
    "    else:\n",
    "        SimFunctions.SchedulePlus(Calendar, \"ProcessComplete\", 0, NextStudent)\n",
    "        \n",
    "    if ManhattanTeachersAdultLevelA.CurrentNumBusy < ManhattanTeachersAdultLevelA.NumberOfUnits and ManhattanQueueTeachersAdultLevelA.NumQueue() >= ClassSize:\n",
    "        ManhattanTeachersAdultLevelA.Seize(1)\n",
    "        for i in range(ClassSize):\n",
    "            Student = ManhattanQueueTeachersAdultLevelA.Remove()\n",
    "            ManhattanTeachersAdultLevelAWaitTime.Record(SimClasses.Clock - Student.getJoinClassQueueTime())\n",
    "            SimFunctions.SchedulePlus(Calendar, \"ManhattanCourseAdultLevelAStart\", 0, Student)"
   ]
  },
  {
   "cell_type": "code",
   "execution_count": 230,
   "id": "fa4c34fed04faf8d",
   "metadata": {
    "ExecuteTime": {
     "end_time": "2024-03-30T22:40:09.002917Z",
     "start_time": "2024-03-30T22:40:08.981903Z"
    },
    "collapsed": false
   },
   "outputs": [],
   "source": [
    "def ManhattanCourseAdultLevelBStartOfWaiting(NewImmigrant : ImmigrantClass.Immigrant()):\n",
    "    ManhattanQueueTeachersAdultLevelB.Add(NewImmigrant)\n",
    "    NewImmigrant.EnterLanguageCourseQueue()\n",
    "    if ManhattanTeachersAdultLevelB.CurrentNumBusy < ManhattanTeachersAdultLevelB.NumberOfUnits and ManhattanQueueTeachersAdultLevelB.NumQueue() >= ClassSize:\n",
    "        ManhattanTeachersAdultLevelB.Seize(1)\n",
    "        for i in range(ClassSize):\n",
    "            Student = ManhattanQueueTeachersAdultLevelB.Remove()\n",
    "            ManhattanTeachersAdultLevelBWaitTime.Record(SimClasses.Clock - Student.getJoinClassQueueTime())\n",
    "            SimFunctions.SchedulePlus(Calendar, \"ManhattanCourseAdultLevelBStart\", 0, Student)"
   ]
  },
  {
   "cell_type": "code",
   "execution_count": 231,
   "id": "dc4d75d652a09d9d",
   "metadata": {
    "ExecuteTime": {
     "end_time": "2024-03-30T22:40:09.250813Z",
     "start_time": "2024-03-30T22:40:09.237211Z"
    },
    "collapsed": false
   },
   "outputs": [],
   "source": [
    "def ManhattanCourseAdultLevelBStart(Student : ImmigrantClass.Immigrant()):\n",
    "    SimFunctions.SchedulePlus(Calendar, \"ManhattanCourseAdultLevelBEnd\", LanguageCourseDurationLevelB, Student)"
   ]
  },
  {
   "cell_type": "code",
   "execution_count": 232,
   "id": "fcd8c7ac9df2011a",
   "metadata": {
    "ExecuteTime": {
     "end_time": "2024-03-30T22:40:09.430781Z",
     "start_time": "2024-03-30T22:40:09.416825Z"
    },
    "collapsed": false
   },
   "outputs": [],
   "source": [
    "def ManhattanCourseAdultLevelBEnd(NextStudent):\n",
    "    ManhattanTeachersAdultLevelB.Free(1)\n",
    "    if NextStudent.getEducationLevel() == \"Less Than Bachelor\":\n",
    "        NextStudent.JoinCareerCoachingQueueTime = SimClasses.Clock\n",
    "        SimFunctions.SchedulePlus(Calendar, 'ManhattanCareerCoachingStartOfWaiting', 0, NextStudent)\n",
    "    else:\n",
    "        SimFunctions.SchedulePlus(Calendar, \"ProcessComplete\", 0, NextStudent)\n",
    "        \n",
    "    if ManhattanTeachersAdultLevelB.CurrentNumBusy < ManhattanTeachersAdultLevelB.NumberOfUnits and ManhattanQueueTeachersAdultLevelB.NumQueue() >= ClassSize:\n",
    "        ManhattanTeachersAdultLevelB.Seize(1)\n",
    "        for i in range(ClassSize):\n",
    "            Student = ManhattanQueueTeachersAdultLevelB.Remove()\n",
    "            ManhattanTeachersAdultLevelBWaitTime.Record(SimClasses.Clock - Student.getJoinClassQueueTime())\n",
    "            SimFunctions.SchedulePlus(Calendar, \"ManhattanCourseAdultLevelBStart\", 0, Student)"
   ]
  },
  {
   "cell_type": "code",
   "execution_count": 233,
   "id": "7dccdc6c1430f609",
   "metadata": {
    "ExecuteTime": {
     "end_time": "2024-03-30T22:40:09.686575Z",
     "start_time": "2024-03-30T22:40:09.673114Z"
    },
    "collapsed": false
   },
   "outputs": [],
   "source": [
    "def ManhattanCourseAdultLevelCStartOfWaiting(NewImmigrant : ImmigrantClass.Immigrant()):\n",
    "    ManhattanQueueTeachersAdultLevelC.Add(NewImmigrant)\n",
    "    NewImmigrant.EnterLanguageCourseQueue()\n",
    "    if ManhattanTeachersAdultLevelC.CurrentNumBusy < ManhattanTeachersAdultLevelC.NumberOfUnits and ManhattanQueueTeachersAdultLevelC.NumQueue() >= ClassSize:\n",
    "        ManhattanTeachersAdultLevelC.Seize(1)\n",
    "        for i in range(ClassSize):\n",
    "            Student = ManhattanQueueTeachersAdultLevelC.Remove()\n",
    "            ManhattanTeachersAdultLevelCWaitTime.Record(SimClasses.Clock - Student.getJoinClassQueueTime())\n",
    "            SimFunctions.SchedulePlus(Calendar, \"ManhattanCourseAdultLevelCStart\", 0, Student)"
   ]
  },
  {
   "cell_type": "code",
   "execution_count": 234,
   "id": "30100cbb06d46012",
   "metadata": {
    "ExecuteTime": {
     "end_time": "2024-03-30T22:40:09.857169Z",
     "start_time": "2024-03-30T22:40:09.842660Z"
    },
    "collapsed": false
   },
   "outputs": [],
   "source": [
    "def ManhattanCourseAdultLevelCStart(Student : ImmigrantClass.Immigrant()):\n",
    "    SimFunctions.SchedulePlus(Calendar, \"ManhattanCourseAdultLevelCEnd\", LanguageCourseDurationLevelC, Student)"
   ]
  },
  {
   "cell_type": "code",
   "execution_count": 235,
   "id": "f39750cbaf169621",
   "metadata": {
    "ExecuteTime": {
     "end_time": "2024-03-30T22:40:10.232347Z",
     "start_time": "2024-03-30T22:40:10.219606Z"
    },
    "collapsed": false
   },
   "outputs": [],
   "source": [
    "def ManhattanCourseAdultLevelCEnd(NextStudent):\n",
    "    ManhattanTeachersAdultLevelC.Free(1)\n",
    "    if NextStudent.getEducationLevel() == \"Less Than Bachelor\":\n",
    "        NextStudent.JoinCareerCoachingQueueTime = SimClasses.Clock\n",
    "        SimFunctions.SchedulePlus(Calendar, 'ManhattanCareerCoachingStartOfWaiting', 0, NextStudent)\n",
    "    else:\n",
    "        SimFunctions.SchedulePlus(Calendar, \"ProcessComplete\", 0, NextStudent)\n",
    "        \n",
    "    if ManhattanTeachersAdultLevelC.CurrentNumBusy < ManhattanTeachersAdultLevelC.NumberOfUnits and ManhattanQueueTeachersAdultLevelC.NumQueue() >= ClassSize:\n",
    "        ManhattanTeachersAdultLevelC.Seize(1)\n",
    "        for i in range(ClassSize):\n",
    "            Student = ManhattanQueueTeachersAdultLevelC.Remove()\n",
    "            ManhattanTeachersAdultLevelCWaitTime.Record(SimClasses.Clock - Student.getJoinClassQueueTime())\n",
    "            SimFunctions.SchedulePlus(Calendar, \"ManhattanCourseAdultLevelCStart\", 0, Student)"
   ]
  },
  {
   "cell_type": "code",
   "execution_count": 236,
   "id": "15bb117cf1bf800f",
   "metadata": {
    "ExecuteTime": {
     "end_time": "2024-03-30T22:40:10.355276Z",
     "start_time": "2024-03-30T22:40:10.342140Z"
    },
    "collapsed": false
   },
   "outputs": [],
   "source": [
    "def ManhattanCareerCoachingStartOfWaiting(NewImmigrant : ImmigrantClass.Immigrant()):\n",
    "    ManhattanQueueCareerCoach.Add(NewImmigrant)\n",
    "    NewImmigrant.EnterCareerCoachingQueue()\n",
    "    if ManhattanCareerCoach.CurrentNumBusy < ManhattanCareerCoach.NumberOfUnits and ManhattanQueueCareerCoach.NumQueue() > 0:\n",
    "        ManhattanCareerCoach.Seize(1)\n",
    "        NextImmigrant = ManhattanQueueCareerCoach.Remove()\n",
    "        ManhattanCareerCoachWaitTime.Record(SimClasses.Clock - NextImmigrant.getJoinCareerCoachingQueueTime())\n",
    "        SimFunctions.SchedulePlus(Calendar, \"ManhattanCareerCoachingStart\", 0, NextImmigrant)"
   ]
  },
  {
   "cell_type": "code",
   "execution_count": 237,
   "id": "d3bc4517b553d664",
   "metadata": {
    "ExecuteTime": {
     "end_time": "2024-03-30T22:40:10.651893Z",
     "start_time": "2024-03-30T22:40:10.644083Z"
    },
    "collapsed": false
   },
   "outputs": [],
   "source": [
    "def ManhattanCareerCoachingStart(NewImmigrant : ImmigrantClass.Immigrant()):\n",
    "    SimFunctions.SchedulePlus(Calendar, \"ManhattanCareerCoachingEnd\", CareerCoachingSessionDuration, NewImmigrant)"
   ]
  },
  {
   "cell_type": "code",
   "execution_count": 238,
   "id": "edc7b852981a76ba",
   "metadata": {
    "ExecuteTime": {
     "end_time": "2024-03-30T22:40:10.807338Z",
     "start_time": "2024-03-30T22:40:10.794302Z"
    },
    "collapsed": false
   },
   "outputs": [],
   "source": [
    "def ManhattanCareerCoachingEnd(NewImmigrant : ImmigrantClass.Immigrant()):\n",
    "    ManhattanCareerCoach.Free(1)\n",
    "    SimFunctions.SchedulePlus(Calendar, \"ProcessComplete\", 0, NewImmigrant)\n",
    "    if ManhattanCareerCoach.CurrentNumBusy < ManhattanCareerCoach.NumberOfUnits and ManhattanQueueCareerCoach.NumQueue() > 0:\n",
    "        ManhattanCareerCoach.Seize(1)\n",
    "        NextImmigrant = ManhattanQueueCareerCoach.Remove()\n",
    "        ManhattanCareerCoachWaitTime.Record(SimClasses.Clock - NextImmigrant.getJoinCareerCoachingQueueTime())\n",
    "        SimFunctions.SchedulePlus(Calendar, \"ManhattanCareerCoachingStart\", 0, NextImmigrant)"
   ]
  },
  {
   "cell_type": "code",
   "execution_count": 239,
   "id": "da7b1f97f319ea1e",
   "metadata": {
    "ExecuteTime": {
     "end_time": "2024-03-30T22:40:11.056639Z",
     "start_time": "2024-03-30T22:40:11.040227Z"
    },
    "collapsed": false
   },
   "outputs": [],
   "source": [
    "def QueensVerbalEvaluationStartOfWaiting(NewImmigrant : ImmigrantClass.Immigrant()):\n",
    "    QueensQueueLanguageAssessors.Add(NewImmigrant)\n",
    "    NewImmigrant.EnterVerbalEvaluationQueue()\n",
    "    if QueensLanguageAssessors.CurrentNumBusy < QueensLanguageAssessors.NumberOfUnits:\n",
    "        QueensLanguageAssessors.Seize(1)\n",
    "        NextImmigrant = QueensQueueLanguageAssessors.Remove()\n",
    "        QueensLanguageAssessorsWaitTime.Record(SimClasses.Clock - NextImmigrant.JoinVerbalEvaluationQueueTime)\n",
    "        SimFunctions.SchedulePlus(Calendar, \"QueensVerbalEvaluationStart\", 0, NextImmigrant)"
   ]
  },
  {
   "cell_type": "code",
   "execution_count": 240,
   "id": "4da4f0776791d019",
   "metadata": {
    "ExecuteTime": {
     "end_time": "2024-03-30T22:40:11.274603Z",
     "start_time": "2024-03-30T22:40:11.259719Z"
    },
    "collapsed": false
   },
   "outputs": [],
   "source": [
    "def QueensVerbalEvaluationStart(NewImmigrant : ImmigrantClass.Immigrant()):\n",
    "    SimFunctions.SchedulePlus(Calendar, \"QueensVerbalEvaluationEnd\", LanguageAssessmentDuration, NewImmigrant)"
   ]
  },
  {
   "cell_type": "code",
   "execution_count": 241,
   "id": "9f6dc64647118139",
   "metadata": {
    "ExecuteTime": {
     "end_time": "2024-03-30T22:40:11.492840Z",
     "start_time": "2024-03-30T22:40:11.473608Z"
    },
    "collapsed": false
   },
   "outputs": [],
   "source": [
    "def QueensVerbalEvaluationEnd(NewImmigrant : ImmigrantClass.Immigrant()):\n",
    "    if ((NewImmigrant.getAge() == \"Child\" or NewImmigrant.getAge() == \"Old\") and NewImmigrant.getEnglishProficiency() == \"Fluent\") or (NewImmigrant.getAge() == \"Adult\" and NewImmigrant.getEnglishProficiency() == \"Fluent\" and NewImmigrant.getEducationLevel() == \"Bachelor\"):\n",
    "        SimFunctions.SchedulePlus(Calendar, \"ProcessComplete\", 0, NewImmigrant)\n",
    "    \n",
    "    elif NewImmigrant.getAge() == \"Adult\" and NewImmigrant.getEnglishProficiency() == \"Fluent\" and NewImmigrant.getEducationLevel() == \"Less Than Bachelor\":\n",
    "        NewImmigrant.JoinCareerCoachingQueueTime = SimClasses.Clock\n",
    "        SimFunctions.SchedulePlus(Calendar, 'QueensCareerCoachingStartOfWaiting', 0, NewImmigrant)\n",
    "    \n",
    "    elif NewImmigrant.getAge() == \"Child\" and NewImmigrant.getEnglishProficiency() == \"LevelA\":\n",
    "        NewImmigrant.JoinClassQueueTime = SimClasses.Clock\n",
    "        SimFunctions.SchedulePlus(Calendar, 'QueensCourseChildLevelAStartOfWaiting', 0, NewImmigrant)\n",
    "    \n",
    "    elif NewImmigrant.getAge() == \"Child\" and NewImmigrant.getEnglishProficiency() == \"LevelB\":\n",
    "        NewImmigrant.JoinClassQueueTime = SimClasses.Clock\n",
    "        SimFunctions.SchedulePlus(Calendar, 'QueensCourseChildLevelBStartOfWaiting', 0, NewImmigrant)\n",
    "    \n",
    "    elif NewImmigrant.getAge() == \"Child\" and NewImmigrant.getEnglishProficiency() == \"LevelC\":\n",
    "        NewImmigrant.JoinClassQueueTime = SimClasses.Clock\n",
    "        SimFunctions.SchedulePlus(Calendar, 'QueensCourseChildLevelCStartOfWaiting', 0, NewImmigrant)\n",
    "    \n",
    "    elif (NewImmigrant.getAge() == \"Adult\" or NewImmigrant.getAge() == \"Old\") and NewImmigrant.getEnglishProficiency() == \"LevelA\":\n",
    "        NewImmigrant.JoinClassQueueTime = SimClasses.Clock\n",
    "        SimFunctions.SchedulePlus(Calendar, 'QueensCourseAdultLevelAStartOfWaiting', 0, NewImmigrant)\n",
    "    \n",
    "    elif (NewImmigrant.getAge() == \"Adult\" or NewImmigrant.getAge() == \"Old\") and NewImmigrant.getEnglishProficiency() == \"LevelB\":\n",
    "        NewImmigrant.JoinClassQueueTime = SimClasses.Clock\n",
    "        SimFunctions.SchedulePlus(Calendar, 'QueensCourseAdultLevelBStartOfWaiting', 0, NewImmigrant)\n",
    "    \n",
    "    elif (NewImmigrant.getAge() == \"Adult\" or NewImmigrant.getAge() == \"Old\") and NewImmigrant.getEnglishProficiency() == \"LevelC\":\n",
    "        NewImmigrant.JoinClassQueueTime = SimClasses.Clock\n",
    "        SimFunctions.SchedulePlus(Calendar, 'QueensCourseAdultLevelCStartOfWaiting', 0, NewImmigrant)\n",
    "        \n",
    "    QueensLanguageAssessors.Free(1)\n",
    "    if QueensQueueLanguageAssessors.NumQueue() > 0:\n",
    "        NextImmigrant = QueensQueueLanguageAssessors.Remove()\n",
    "        QueensLanguageAssessors.Seize(1)\n",
    "        QueensLanguageAssessorsWaitTime.Record(SimClasses.Clock - NextImmigrant.JoinVerbalEvaluationQueueTime)\n",
    "        SimFunctions.SchedulePlus(Calendar, \"QueensVerbalEvaluationStart\", 0, NextImmigrant)"
   ]
  },
  {
   "cell_type": "code",
   "execution_count": 242,
   "id": "504d2585e03de2d8",
   "metadata": {
    "ExecuteTime": {
     "end_time": "2024-03-30T22:40:11.711694Z",
     "start_time": "2024-03-30T22:40:11.690250Z"
    },
    "collapsed": false
   },
   "outputs": [],
   "source": [
    "def QueensCourseChildLevelAStartOfWaiting(NewImmigrant : ImmigrantClass.Immigrant()):\n",
    "    QueensQueueTeachersChildLevelA.Add(NewImmigrant)\n",
    "    NewImmigrant.EnterLanguageCourseQueue()\n",
    "    if QueensTeachersChildLevelA.CurrentNumBusy < QueensTeachersChildLevelA.NumberOfUnits and QueensQueueTeachersChildLevelA.NumQueue() >= ClassSize:\n",
    "        QueensTeachersChildLevelA.Seize(1)\n",
    "        for i in range(ClassSize):\n",
    "            Student = QueensQueueTeachersChildLevelA.Remove()\n",
    "            QueensTeachersChildLevelAWaitTime.Record(SimClasses.Clock - Student.getJoinClassQueueTime())\n",
    "            SimFunctions.SchedulePlus(Calendar, \"QueensCourseChildLevelAStart\", 0, Student)"
   ]
  },
  {
   "cell_type": "code",
   "execution_count": 243,
   "id": "425b9288bb72ae6e",
   "metadata": {
    "ExecuteTime": {
     "end_time": "2024-03-30T22:40:11.946220Z",
     "start_time": "2024-03-30T22:40:11.933700Z"
    },
    "collapsed": false
   },
   "outputs": [],
   "source": [
    "def QueensCourseChildLevelAStart(Student : ImmigrantClass.Immigrant()):\n",
    "    SimFunctions.SchedulePlus(Calendar, \"QueensCourseChildLevelAEnd\", LanguageCourseDurationLevelA, Student)"
   ]
  },
  {
   "cell_type": "code",
   "execution_count": 244,
   "id": "1a423e632fb5ef52",
   "metadata": {
    "ExecuteTime": {
     "end_time": "2024-03-30T22:40:12.267891Z",
     "start_time": "2024-03-30T22:40:12.248686Z"
    },
    "collapsed": false
   },
   "outputs": [],
   "source": [
    "def QueensCourseChildLevelAEnd(NextStudent):\n",
    "    QueensTeachersChildLevelA.Free(1)\n",
    "    SimFunctions.SchedulePlus(Calendar, \"ProcessComplete\", 0, NextStudent)\n",
    "    if QueensTeachersChildLevelA.CurrentNumBusy < QueensTeachersChildLevelA.NumberOfUnits and QueensQueueTeachersChildLevelA.NumQueue() >= ClassSize:\n",
    "        QueensTeachersChildLevelA.Seize(1)\n",
    "        for i in range(ClassSize):\n",
    "            Student = QueensQueueTeachersChildLevelA.Remove()\n",
    "            QueensTeachersChildLevelAWaitTime.Record(SimClasses.Clock - Student.getJoinClassQueueTime())\n",
    "            SimFunctions.SchedulePlus(Calendar, \"QueensCourseChildLevelAStart\", 0, Student)"
   ]
  },
  {
   "cell_type": "code",
   "execution_count": 245,
   "id": "7d6ab4de6e42589e",
   "metadata": {
    "ExecuteTime": {
     "end_time": "2024-03-30T22:40:12.425887Z",
     "start_time": "2024-03-30T22:40:12.411047Z"
    },
    "collapsed": false
   },
   "outputs": [],
   "source": [
    "def QueensCourseChildLevelBStartOfWaiting(NewImmigrant : ImmigrantClass.Immigrant()):\n",
    "    QueensQueueTeachersChildLevelB.Add(NewImmigrant)\n",
    "    NewImmigrant.EnterLanguageCourseQueue()\n",
    "    if QueensTeachersChildLevelB.CurrentNumBusy < QueensTeachersChildLevelB.NumberOfUnits and QueensQueueTeachersChildLevelB.NumQueue() >= ClassSize:\n",
    "        QueensTeachersChildLevelB.Seize(1)\n",
    "        for i in range(ClassSize):\n",
    "            Student = QueensQueueTeachersChildLevelB.Remove()\n",
    "            QueensTeachersChildLevelBWaitTime.Record(SimClasses.Clock - Student.getJoinClassQueueTime())\n",
    "            SimFunctions.SchedulePlus(Calendar, \"QueensCourseChildLevelBStart\", 0, Student)"
   ]
  },
  {
   "cell_type": "code",
   "execution_count": 246,
   "id": "d09b691df3bc737a",
   "metadata": {
    "ExecuteTime": {
     "end_time": "2024-03-30T22:40:12.699577Z",
     "start_time": "2024-03-30T22:40:12.681850Z"
    },
    "collapsed": false
   },
   "outputs": [],
   "source": [
    "def QueensCourseChildLevelBStart(Student : ImmigrantClass.Immigrant()):\n",
    "    SimFunctions.SchedulePlus(Calendar, \"QueensCourseChildLevelBEnd\", LanguageCourseDurationLevelB, Student)"
   ]
  },
  {
   "cell_type": "code",
   "execution_count": 247,
   "id": "7d86cb0dfaf0a28d",
   "metadata": {
    "ExecuteTime": {
     "end_time": "2024-03-30T22:40:13.014002Z",
     "start_time": "2024-03-30T22:40:12.996163Z"
    },
    "collapsed": false
   },
   "outputs": [],
   "source": [
    "def QueensCourseChildLevelBEnd(NextStudent):\n",
    "    QueensTeachersChildLevelB.Free(1)\n",
    "    SimFunctions.SchedulePlus(Calendar, \"ProcessComplete\", 0, NextStudent)\n",
    "    if QueensTeachersChildLevelB.CurrentNumBusy < QueensTeachersChildLevelB.NumberOfUnits and QueensQueueTeachersChildLevelB.NumQueue() >= ClassSize:\n",
    "        QueensTeachersChildLevelB.Seize(1)\n",
    "        for i in range(ClassSize):\n",
    "            Student = QueensQueueTeachersChildLevelB.Remove()\n",
    "            QueensTeachersChildLevelBWaitTime.Record(SimClasses.Clock - Student.getJoinClassQueueTime())\n",
    "            SimFunctions.SchedulePlus(Calendar, \"QueensCourseChildLevelBStart\", 0, Student)"
   ]
  },
  {
   "cell_type": "code",
   "execution_count": 248,
   "id": "9e5e6a9641325b6b",
   "metadata": {
    "ExecuteTime": {
     "end_time": "2024-03-30T22:40:13.132743Z",
     "start_time": "2024-03-30T22:40:13.124216Z"
    },
    "collapsed": false
   },
   "outputs": [],
   "source": [
    "def QueensCourseChildLevelCStartOfWaiting(NewImmigrant : ImmigrantClass.Immigrant()):\n",
    "    QueensQueueTeachersChildLevelC.Add(NewImmigrant)\n",
    "    NewImmigrant.EnterLanguageCourseQueue()\n",
    "    if QueensTeachersChildLevelC.CurrentNumBusy < QueensTeachersChildLevelC.NumberOfUnits and QueensQueueTeachersChildLevelC.NumQueue() >= ClassSize:\n",
    "        QueensTeachersChildLevelC.Seize(1)\n",
    "        for i in range(ClassSize):\n",
    "            Student = QueensQueueTeachersChildLevelC.Remove()\n",
    "            QueensTeachersChildLevelCWaitTime.Record(SimClasses.Clock - Student.getJoinClassQueueTime())\n",
    "            SimFunctions.SchedulePlus(Calendar, \"QueensCourseChildLevelCStart\", 0, Student)"
   ]
  },
  {
   "cell_type": "code",
   "execution_count": 249,
   "id": "69ff72d4bc4c4173",
   "metadata": {
    "ExecuteTime": {
     "end_time": "2024-03-30T22:40:13.365139Z",
     "start_time": "2024-03-30T22:40:13.348921Z"
    },
    "collapsed": false
   },
   "outputs": [],
   "source": [
    "def QueensCourseChildLevelCStart(Student : ImmigrantClass.Immigrant()):\n",
    "    SimFunctions.SchedulePlus(Calendar, \"QueensCourseChildLevelCEnd\", LanguageCourseDurationLevelC, Student)"
   ]
  },
  {
   "cell_type": "code",
   "execution_count": 250,
   "id": "91547a3de30926c2",
   "metadata": {
    "ExecuteTime": {
     "end_time": "2024-03-30T22:40:13.623671Z",
     "start_time": "2024-03-30T22:40:13.606766Z"
    },
    "collapsed": false
   },
   "outputs": [],
   "source": [
    "def QueensCourseChildLevelCEnd(NextStudent):\n",
    "    QueensTeachersChildLevelC.Free(1)\n",
    "    SimFunctions.SchedulePlus(Calendar, \"ProcessComplete\", 0, NextStudent)\n",
    "    if QueensTeachersChildLevelC.CurrentNumBusy < QueensTeachersChildLevelC.NumberOfUnits and QueensQueueTeachersChildLevelC.NumQueue() >= ClassSize:\n",
    "        QueensTeachersChildLevelC.Seize(1)\n",
    "        for i in range(ClassSize):\n",
    "            Student = QueensQueueTeachersChildLevelC.Remove()\n",
    "            QueensTeachersChildLevelCWaitTime.Record(SimClasses.Clock - Student.getJoinClassQueueTime())\n",
    "            SimFunctions.SchedulePlus(Calendar, \"QueensCourseChildLevelCStart\", 0, Student)"
   ]
  },
  {
   "cell_type": "code",
   "execution_count": 251,
   "id": "8b3f67a98fb5edb7",
   "metadata": {
    "ExecuteTime": {
     "end_time": "2024-03-30T22:40:13.780667Z",
     "start_time": "2024-03-30T22:40:13.769161Z"
    },
    "collapsed": false
   },
   "outputs": [],
   "source": [
    "def QueensCourseAdultLevelAStartOfWaiting(NewImmigrant : ImmigrantClass.Immigrant()):\n",
    "    QueensQueueTeachersAdultLevelA.Add(NewImmigrant)\n",
    "    NewImmigrant.EnterLanguageCourseQueue()\n",
    "    if QueensTeachersAdultLevelA.CurrentNumBusy < QueensTeachersAdultLevelA.NumberOfUnits and QueensQueueTeachersAdultLevelA.NumQueue() >= ClassSize:\n",
    "        QueensTeachersAdultLevelA.Seize(1)\n",
    "        for i in range(ClassSize):\n",
    "            Student = QueensQueueTeachersAdultLevelA.Remove()\n",
    "            QueensTeachersAdultLevelAWaitTime.Record(SimClasses.Clock - Student.getJoinClassQueueTime())\n",
    "            SimFunctions.SchedulePlus(Calendar, \"QueensCourseAdultLevelAStart\", 0, Student)"
   ]
  },
  {
   "cell_type": "code",
   "execution_count": 252,
   "id": "15ff5b55ce466c5",
   "metadata": {
    "ExecuteTime": {
     "end_time": "2024-03-30T22:40:14.109426Z",
     "start_time": "2024-03-30T22:40:14.095597Z"
    },
    "collapsed": false
   },
   "outputs": [],
   "source": [
    "def QueensCourseAdultLevelAStart(Student : ImmigrantClass.Immigrant()):\n",
    "    SimFunctions.SchedulePlus(Calendar, \"QueensCourseAdultLevelAEnd\", LanguageCourseDurationLevelA, Student)"
   ]
  },
  {
   "cell_type": "code",
   "execution_count": 253,
   "id": "a989a6ab3dd5f206",
   "metadata": {
    "ExecuteTime": {
     "end_time": "2024-03-30T22:40:14.249909Z",
     "start_time": "2024-03-30T22:40:14.231032Z"
    },
    "collapsed": false
   },
   "outputs": [],
   "source": [
    "def QueensCourseAdultLevelAEnd(NextStudent):\n",
    "    QueensTeachersAdultLevelA.Free(1)\n",
    "    if NextStudent.getEducationLevel() == \"Less Than Bachelor\":\n",
    "        NextStudent.JoinCareerCoachingQueueTime = SimClasses.Clock\n",
    "        SimFunctions.SchedulePlus(Calendar, 'QueensCareerCoachingStartOfWaiting', 0, NextStudent)\n",
    "    else:\n",
    "        SimFunctions.SchedulePlus(Calendar, \"ProcessComplete\", 0, NextStudent)\n",
    "        \n",
    "    if QueensTeachersAdultLevelA.CurrentNumBusy < QueensTeachersAdultLevelA.NumberOfUnits and QueensQueueTeachersAdultLevelA.NumQueue() >= ClassSize:\n",
    "        QueensTeachersAdultLevelA.Seize(1)\n",
    "        for i in range(ClassSize):\n",
    "            Student = QueensQueueTeachersAdultLevelA.Remove()\n",
    "            QueensTeachersAdultLevelAWaitTime.Record(SimClasses.Clock - Student.getJoinClassQueueTime())\n",
    "            SimFunctions.SchedulePlus(Calendar, \"QueensCourseAdultLevelAStart\", 0, Student)"
   ]
  },
  {
   "cell_type": "code",
   "execution_count": 254,
   "id": "3eb70e811c7920bb",
   "metadata": {
    "ExecuteTime": {
     "end_time": "2024-03-30T22:40:14.498161Z",
     "start_time": "2024-03-30T22:40:14.477097Z"
    },
    "collapsed": false
   },
   "outputs": [],
   "source": [
    "def QueensCourseAdultLevelBStartOfWaiting(NewImmigrant : ImmigrantClass.Immigrant()):\n",
    "    QueensQueueTeachersAdultLevelB.Add(NewImmigrant)\n",
    "    NewImmigrant.EnterLanguageCourseQueue()\n",
    "    if QueensTeachersAdultLevelB.CurrentNumBusy < QueensTeachersAdultLevelB.NumberOfUnits and QueensQueueTeachersAdultLevelB.NumQueue() >= ClassSize:\n",
    "        QueensTeachersAdultLevelB.Seize(1)\n",
    "        for i in range(ClassSize):\n",
    "            Student = QueensQueueTeachersAdultLevelB.Remove()\n",
    "            QueensTeachersAdultLevelBWaitTime.Record(SimClasses.Clock - Student.getJoinClassQueueTime())\n",
    "            SimFunctions.SchedulePlus(Calendar, \"QueensCourseAdultLevelBStart\", 0, Student)"
   ]
  },
  {
   "cell_type": "code",
   "execution_count": 255,
   "id": "a3f73f68a08821a",
   "metadata": {
    "ExecuteTime": {
     "end_time": "2024-03-30T22:40:14.635158Z",
     "start_time": "2024-03-30T22:40:14.622341Z"
    },
    "collapsed": false
   },
   "outputs": [],
   "source": [
    "def QueensCourseAdultLevelBStart(Student : ImmigrantClass.Immigrant()):\n",
    "    SimFunctions.SchedulePlus(Calendar, \"QueensCourseAdultLevelBEnd\", LanguageCourseDurationLevelB, Student)"
   ]
  },
  {
   "cell_type": "code",
   "execution_count": 256,
   "id": "fb860314dc5a6840",
   "metadata": {
    "ExecuteTime": {
     "end_time": "2024-03-30T22:40:14.896525Z",
     "start_time": "2024-03-30T22:40:14.883477Z"
    },
    "collapsed": false
   },
   "outputs": [],
   "source": [
    "def QueensCourseAdultLevelBEnd(NextStudent):\n",
    "    QueensTeachersAdultLevelB.Free(1)\n",
    "    if NextStudent.getEducationLevel() == \"Less Than Bachelor\":\n",
    "        NextStudent.JoinCareerCoachingQueueTime = SimClasses.Clock\n",
    "        SimFunctions.SchedulePlus(Calendar, 'QueensCareerCoachingStartOfWaiting', 0, NextStudent)\n",
    "    else:\n",
    "        SimFunctions.SchedulePlus(Calendar, \"ProcessComplete\", 0, NextStudent)\n",
    "        \n",
    "    if QueensTeachersAdultLevelB.CurrentNumBusy < QueensTeachersAdultLevelB.NumberOfUnits and QueensQueueTeachersAdultLevelB.NumQueue() >= ClassSize:\n",
    "        QueensTeachersAdultLevelB.Seize(1)\n",
    "        for i in range(ClassSize):\n",
    "            Student = QueensQueueTeachersAdultLevelB.Remove()\n",
    "            QueensTeachersAdultLevelBWaitTime.Record(SimClasses.Clock - Student.getJoinClassQueueTime())\n",
    "            SimFunctions.SchedulePlus(Calendar, \"QueensCourseAdultLevelBStart\", 0, Student)"
   ]
  },
  {
   "cell_type": "code",
   "execution_count": 257,
   "id": "14f7f742edc54229",
   "metadata": {
    "ExecuteTime": {
     "end_time": "2024-03-30T22:40:15.150963Z",
     "start_time": "2024-03-30T22:40:15.141317Z"
    },
    "collapsed": false
   },
   "outputs": [],
   "source": [
    "def QueensCourseAdultLevelCStartOfWaiting(NewImmigrant : ImmigrantClass.Immigrant()):\n",
    "    QueensQueueTeachersAdultLevelC.Add(NewImmigrant)\n",
    "    NewImmigrant.EnterLanguageCourseQueue()\n",
    "    if QueensTeachersAdultLevelC.CurrentNumBusy < QueensTeachersAdultLevelC.NumberOfUnits and QueensQueueTeachersAdultLevelC.NumQueue() >= ClassSize:\n",
    "        QueensTeachersAdultLevelC.Seize(1)\n",
    "        for i in range(ClassSize):\n",
    "            Student = QueensQueueTeachersAdultLevelC.Remove()\n",
    "            QueensTeachersAdultLevelCWaitTime.Record(SimClasses.Clock - Student.getJoinClassQueueTime())\n",
    "            SimFunctions.SchedulePlus(Calendar, \"QueensCourseAdultLevelCStart\", 0, Student)"
   ]
  },
  {
   "cell_type": "code",
   "execution_count": 258,
   "id": "7be38a58f0005f97",
   "metadata": {
    "ExecuteTime": {
     "end_time": "2024-03-30T22:40:15.322176Z",
     "start_time": "2024-03-30T22:40:15.316520Z"
    },
    "collapsed": false
   },
   "outputs": [],
   "source": [
    "def QueensCourseAdultLevelCStart(Student : ImmigrantClass.Immigrant()):\n",
    "    SimFunctions.SchedulePlus(Calendar, \"QueensCourseAdultLevelCEnd\", LanguageCourseDurationLevelC, Student)"
   ]
  },
  {
   "cell_type": "code",
   "execution_count": 259,
   "id": "ec75530f93959d59",
   "metadata": {
    "ExecuteTime": {
     "end_time": "2024-03-30T22:40:15.554601Z",
     "start_time": "2024-03-30T22:40:15.535652Z"
    },
    "collapsed": false
   },
   "outputs": [],
   "source": [
    "def QueensCourseAdultLevelCEnd(NextStudent):\n",
    "    QueensTeachersAdultLevelC.Free(1)\n",
    "    if NextStudent.getEducationLevel() == \"Less Than Bachelor\":\n",
    "        NextStudent.JoinCareerCoachingQueueTime = SimClasses.Clock\n",
    "        SimFunctions.SchedulePlus(Calendar, 'QueensCareerCoachingStartOfWaiting', 0, NextStudent)\n",
    "    else:\n",
    "        SimFunctions.SchedulePlus(Calendar, \"ProcessComplete\", 0, NextStudent)\n",
    "        \n",
    "    if QueensTeachersAdultLevelC.CurrentNumBusy < QueensTeachersAdultLevelC.NumberOfUnits and QueensQueueTeachersAdultLevelC.NumQueue() >= ClassSize:\n",
    "        QueensTeachersAdultLevelC.Seize(1)\n",
    "        for i in range(ClassSize):\n",
    "            Student = QueensQueueTeachersAdultLevelC.Remove()\n",
    "            QueensTeachersAdultLevelCWaitTime.Record(SimClasses.Clock - Student.getJoinClassQueueTime())\n",
    "            SimFunctions.SchedulePlus(Calendar, \"QueensCourseAdultLevelCStart\", 0, Student)"
   ]
  },
  {
   "cell_type": "code",
   "execution_count": 260,
   "id": "b00ea0af79a9b59c",
   "metadata": {
    "ExecuteTime": {
     "end_time": "2024-03-30T22:40:15.741582Z",
     "start_time": "2024-03-30T22:40:15.728448Z"
    },
    "collapsed": false
   },
   "outputs": [],
   "source": [
    "def QueensCareerCoachingStartOfWaiting(NewImmigrant : ImmigrantClass.Immigrant()):\n",
    "    QueensQueueCareerCoach.Add(NewImmigrant)\n",
    "    NewImmigrant.EnterCareerCoachingQueue()\n",
    "    if QueensCareerCoach.CurrentNumBusy < QueensCareerCoach.NumberOfUnits and QueensQueueCareerCoach.NumQueue() > 0:\n",
    "        QueensCareerCoach.Seize(1)\n",
    "        NextImmigrant = QueensQueueCareerCoach.Remove()\n",
    "        QueensCareerCoachWaitTime.Record(SimClasses.Clock - NextImmigrant.getJoinCareerCoachingQueueTime())\n",
    "        SimFunctions.SchedulePlus(Calendar, \"QueensCareerCoachingStart\", 0, NextImmigrant)"
   ]
  },
  {
   "cell_type": "code",
   "execution_count": 261,
   "id": "2b8f23af8c0eff46",
   "metadata": {
    "ExecuteTime": {
     "end_time": "2024-03-30T22:40:16.204078Z",
     "start_time": "2024-03-30T22:40:16.197014Z"
    },
    "collapsed": false
   },
   "outputs": [],
   "source": [
    "def QueensCareerCoachingStart(NewImmigrant : ImmigrantClass.Immigrant()):\n",
    "    SimFunctions.SchedulePlus(Calendar, \"QueensCareerCoachingEnd\", CareerCoachingSessionDuration, NewImmigrant)"
   ]
  },
  {
   "cell_type": "code",
   "execution_count": 262,
   "id": "a2db56192feda56e",
   "metadata": {
    "ExecuteTime": {
     "end_time": "2024-03-30T22:40:16.655122Z",
     "start_time": "2024-03-30T22:40:16.641248Z"
    },
    "collapsed": false
   },
   "outputs": [],
   "source": [
    "def QueensCareerCoachingEnd(NewImmigrant : ImmigrantClass.Immigrant()):\n",
    "    QueensCareerCoach.Free(1)\n",
    "    SimFunctions.SchedulePlus(Calendar, \"ProcessComplete\", 0, NewImmigrant)\n",
    "    if QueensCareerCoach.CurrentNumBusy < QueensCareerCoach.NumberOfUnits and QueensQueueCareerCoach.NumQueue() > 0:\n",
    "        QueensCareerCoach.Seize(1)\n",
    "        NextImmigrant = QueensQueueCareerCoach.Remove()\n",
    "        QueensCareerCoachWaitTime.Record(SimClasses.Clock - NextImmigrant.getJoinCareerCoachingQueueTime())\n",
    "        SimFunctions.SchedulePlus(Calendar, \"QueensCareerCoachingStart\", 0, NextImmigrant)"
   ]
  },
  {
   "cell_type": "code",
   "execution_count": 263,
   "id": "307c830a279655ff",
   "metadata": {
    "ExecuteTime": {
     "end_time": "2024-03-30T22:40:16.780445Z",
     "start_time": "2024-03-30T22:40:16.767238Z"
    },
    "collapsed": false
   },
   "outputs": [],
   "source": [
    "def BronxVerbalEvaluationStartOfWaiting(NewImmigrant : ImmigrantClass.Immigrant()):\n",
    "    BronxQueueLanguageAssessors.Add(NewImmigrant)\n",
    "    NewImmigrant.EnterVerbalEvaluationQueue()\n",
    "    if BronxLanguageAssessors.CurrentNumBusy < BronxLanguageAssessors.NumberOfUnits:\n",
    "        BronxLanguageAssessors.Seize(1)\n",
    "        NextImmigrant = BronxQueueLanguageAssessors.Remove()\n",
    "        BronxLanguageAssessorsWaitTime.Record(SimClasses.Clock - NextImmigrant.JoinVerbalEvaluationQueueTime)\n",
    "        SimFunctions.SchedulePlus(Calendar, \"BronxVerbalEvaluationStart\", 0, NextImmigrant)"
   ]
  },
  {
   "cell_type": "code",
   "execution_count": 264,
   "id": "c4f8985445e9315",
   "metadata": {
    "ExecuteTime": {
     "end_time": "2024-03-30T22:40:17.108891Z",
     "start_time": "2024-03-30T22:40:17.094796Z"
    },
    "collapsed": false
   },
   "outputs": [],
   "source": [
    "def BronxVerbalEvaluationStart(NewImmigrant : ImmigrantClass.Immigrant()):\n",
    "    SimFunctions.SchedulePlus(Calendar, \"BronxVerbalEvaluationEnd\", LanguageAssessmentDuration, NewImmigrant)"
   ]
  },
  {
   "cell_type": "code",
   "execution_count": 265,
   "id": "e3cc5308589be4a8",
   "metadata": {
    "ExecuteTime": {
     "end_time": "2024-03-30T22:40:17.386656Z",
     "start_time": "2024-03-30T22:40:17.364744Z"
    },
    "collapsed": false
   },
   "outputs": [],
   "source": [
    "def BronxVerbalEvaluationEnd(NewImmigrant : ImmigrantClass.Immigrant()):\n",
    "    if ((NewImmigrant.getAge() == \"Child\" or NewImmigrant.getAge() == \"Old\") and NewImmigrant.getEnglishProficiency() == \"Fluent\") or (NewImmigrant.getAge() == \"Adult\" and NewImmigrant.getEnglishProficiency() == \"Fluent\" and NewImmigrant.getEducationLevel() == \"Bachelor\"):\n",
    "        SimFunctions.SchedulePlus(Calendar, \"ProcessComplete\", 0, NewImmigrant)\n",
    "    \n",
    "    elif NewImmigrant.getAge() == \"Adult\" and NewImmigrant.getEnglishProficiency() == \"Fluent\" and NewImmigrant.getEducationLevel() == \"Less Than Bachelor\":\n",
    "        NewImmigrant.JoinCareerCoachingQueueTime = SimClasses.Clock\n",
    "        SimFunctions.SchedulePlus(Calendar, 'BronxCareerCoachingStartOfWaiting', 0, NewImmigrant)\n",
    "    \n",
    "    elif NewImmigrant.getAge() == \"Child\" and NewImmigrant.getEnglishProficiency() == \"LevelA\":\n",
    "        NewImmigrant.JoinClassQueueTime = SimClasses.Clock\n",
    "        SimFunctions.SchedulePlus(Calendar, 'BronxCourseChildLevelAStartOfWaiting', 0, NewImmigrant)\n",
    "    \n",
    "    elif NewImmigrant.getAge() == \"Child\" and NewImmigrant.getEnglishProficiency() == \"LevelB\":\n",
    "        NewImmigrant.JoinClassQueueTime = SimClasses.Clock\n",
    "        SimFunctions.SchedulePlus(Calendar, 'BronxCourseChildLevelBStartOfWaiting', 0, NewImmigrant)\n",
    "    \n",
    "    elif NewImmigrant.getAge() == \"Child\" and NewImmigrant.getEnglishProficiency() == \"LevelC\":\n",
    "        NewImmigrant.JoinClassQueueTime = SimClasses.Clock\n",
    "        SimFunctions.SchedulePlus(Calendar, 'BronxCourseChildLevelCStartOfWaiting', 0, NewImmigrant)\n",
    "    \n",
    "    elif (NewImmigrant.getAge() == \"Adult\" or NewImmigrant.getAge() == \"Old\") and NewImmigrant.getEnglishProficiency() == \"LevelA\":\n",
    "        NewImmigrant.JoinClassQueueTime = SimClasses.Clock\n",
    "        SimFunctions.SchedulePlus(Calendar, 'BronxCourseAdultLevelAStartOfWaiting', 0, NewImmigrant)\n",
    "    \n",
    "    elif (NewImmigrant.getAge() == \"Adult\" or NewImmigrant.getAge() == \"Old\") and NewImmigrant.getEnglishProficiency() == \"LevelB\":\n",
    "        NewImmigrant.JoinClassQueueTime = SimClasses.Clock\n",
    "        SimFunctions.SchedulePlus(Calendar, 'BronxCourseAdultLevelBStartOfWaiting', 0, NewImmigrant)\n",
    "    \n",
    "    elif (NewImmigrant.getAge() == \"Adult\" or NewImmigrant.getAge() == \"Old\") and NewImmigrant.getEnglishProficiency() == \"LevelC\":\n",
    "        NewImmigrant.JoinClassQueueTime = SimClasses.Clock\n",
    "        SimFunctions.SchedulePlus(Calendar, 'BronxCourseAdultLevelCStartOfWaiting', 0, NewImmigrant)\n",
    "        \n",
    "    BronxLanguageAssessors.Free(1)\n",
    "    if BronxQueueLanguageAssessors.NumQueue() > 0:\n",
    "        NextImmigrant = BronxQueueLanguageAssessors.Remove()\n",
    "        BronxLanguageAssessors.Seize(1)\n",
    "        BronxLanguageAssessorsWaitTime.Record(SimClasses.Clock - NextImmigrant.JoinVerbalEvaluationQueueTime)\n",
    "        SimFunctions.SchedulePlus(Calendar, \"BronxVerbalEvaluationStart\", 0, NextImmigrant)"
   ]
  },
  {
   "cell_type": "code",
   "execution_count": 266,
   "id": "dd768b492ca7c1de",
   "metadata": {
    "ExecuteTime": {
     "end_time": "2024-03-30T22:40:17.601492Z",
     "start_time": "2024-03-30T22:40:17.593189Z"
    },
    "collapsed": false
   },
   "outputs": [],
   "source": [
    "def BronxCourseChildLevelAStartOfWaiting(NewImmigrant : ImmigrantClass.Immigrant()):\n",
    "    BronxQueueTeachersChildLevelA.Add(NewImmigrant)\n",
    "    NewImmigrant.EnterLanguageCourseQueue()\n",
    "    if BronxTeachersChildLevelA.CurrentNumBusy < BronxTeachersChildLevelA.NumberOfUnits and BronxQueueTeachersChildLevelA.NumQueue() >= ClassSize:\n",
    "        BronxTeachersChildLevelA.Seize(1)\n",
    "        for i in range(ClassSize):\n",
    "            Student = BronxQueueTeachersChildLevelA.Remove()\n",
    "            BronxTeachersChildLevelAWaitTime.Record(SimClasses.Clock - Student.getJoinClassQueueTime())\n",
    "            SimFunctions.SchedulePlus(Calendar, \"BronxCourseChildLevelAStart\", 0, Student)"
   ]
  },
  {
   "cell_type": "code",
   "execution_count": 267,
   "id": "78189124e07f3a18",
   "metadata": {
    "ExecuteTime": {
     "end_time": "2024-03-30T22:40:17.787427Z",
     "start_time": "2024-03-30T22:40:17.781047Z"
    },
    "collapsed": false
   },
   "outputs": [],
   "source": [
    "def BronxCourseChildLevelAStart(Student : ImmigrantClass.Immigrant()):\n",
    "    SimFunctions.SchedulePlus(Calendar, \"BronxCourseChildLevelAEnd\", LanguageCourseDurationLevelA, Student)"
   ]
  },
  {
   "cell_type": "code",
   "execution_count": 268,
   "id": "5444a08deda01b66",
   "metadata": {
    "ExecuteTime": {
     "end_time": "2024-03-30T22:40:18.161188Z",
     "start_time": "2024-03-30T22:40:18.153795Z"
    },
    "collapsed": false
   },
   "outputs": [],
   "source": [
    "def BronxCourseChildLevelAEnd(NextStudent):\n",
    "    BronxTeachersChildLevelA.Free(1)\n",
    "    SimFunctions.SchedulePlus(Calendar, \"ProcessComplete\", 0, NextStudent)\n",
    "    if BronxTeachersChildLevelA.CurrentNumBusy < BronxTeachersChildLevelA.NumberOfUnits and BronxQueueTeachersChildLevelA.NumQueue() >= ClassSize:\n",
    "        BronxTeachersChildLevelA.Seize(1)\n",
    "        for i in range(ClassSize):\n",
    "            Student = BronxQueueTeachersChildLevelA.Remove()\n",
    "            BronxTeachersChildLevelAWaitTime.Record(SimClasses.Clock - Student.getJoinClassQueueTime())\n",
    "            SimFunctions.SchedulePlus(Calendar, \"BronxCourseChildLevelAStart\", 0, Student)"
   ]
  },
  {
   "cell_type": "code",
   "execution_count": 269,
   "id": "a77145c7c0e5b9d7",
   "metadata": {
    "ExecuteTime": {
     "end_time": "2024-03-30T22:40:18.333369Z",
     "start_time": "2024-03-30T22:40:18.322784Z"
    },
    "collapsed": false
   },
   "outputs": [],
   "source": [
    "def BronxCourseChildLevelBStartOfWaiting(NewImmigrant : ImmigrantClass.Immigrant()):\n",
    "    BronxQueueTeachersChildLevelB.Add(NewImmigrant)\n",
    "    NewImmigrant.EnterLanguageCourseQueue()\n",
    "    if BronxTeachersChildLevelB.CurrentNumBusy < BronxTeachersChildLevelB.NumberOfUnits and BronxQueueTeachersChildLevelB.NumQueue() >= ClassSize:\n",
    "        BronxTeachersChildLevelB.Seize(1)\n",
    "        for i in range(ClassSize):\n",
    "            Student = BronxQueueTeachersChildLevelB.Remove()\n",
    "            BronxTeachersChildLevelBWaitTime.Record(SimClasses.Clock - Student.getJoinClassQueueTime())\n",
    "            SimFunctions.SchedulePlus(Calendar, \"BronxCourseChildLevelBStart\", 0, Student)"
   ]
  },
  {
   "cell_type": "code",
   "execution_count": 270,
   "id": "f0760857d028d02a",
   "metadata": {
    "ExecuteTime": {
     "end_time": "2024-03-30T22:40:18.603050Z",
     "start_time": "2024-03-30T22:40:18.594102Z"
    },
    "collapsed": false
   },
   "outputs": [],
   "source": [
    "def BronxCourseChildLevelBStart(Student : ImmigrantClass.Immigrant()):\n",
    "    SimFunctions.SchedulePlus(Calendar, \"BronxCourseChildLevelBEnd\", LanguageCourseDurationLevelB, Student)"
   ]
  },
  {
   "cell_type": "code",
   "execution_count": 271,
   "id": "183698968ca2d74f",
   "metadata": {
    "ExecuteTime": {
     "end_time": "2024-03-30T22:40:18.791146Z",
     "start_time": "2024-03-30T22:40:18.778182Z"
    },
    "collapsed": false
   },
   "outputs": [],
   "source": [
    "def BronxCourseChildLevelBEnd(NextStudent):\n",
    "    BronxTeachersChildLevelB.Free(1)\n",
    "    SimFunctions.SchedulePlus(Calendar, \"ProcessComplete\", 0, NextStudent)\n",
    "    if BronxTeachersChildLevelB.CurrentNumBusy < BronxTeachersChildLevelB.NumberOfUnits and BronxQueueTeachersChildLevelB.NumQueue() >= ClassSize:\n",
    "        BronxTeachersChildLevelB.Seize(1)\n",
    "        for i in range(ClassSize):\n",
    "            Student = BronxQueueTeachersChildLevelB.Remove()\n",
    "            BronxTeachersChildLevelBWaitTime.Record(SimClasses.Clock - Student.getJoinClassQueueTime())\n",
    "            SimFunctions.SchedulePlus(Calendar, \"BronxCourseChildLevelBStart\", 0, Student)"
   ]
  },
  {
   "cell_type": "code",
   "execution_count": 272,
   "id": "e32f3ea7dcd8a311",
   "metadata": {
    "ExecuteTime": {
     "end_time": "2024-03-30T22:40:19.012249Z",
     "start_time": "2024-03-30T22:40:18.998193Z"
    },
    "collapsed": false
   },
   "outputs": [],
   "source": [
    "def BronxCourseChildLevelCStartOfWaiting(NewImmigrant : ImmigrantClass.Immigrant()):\n",
    "    BronxQueueTeachersChildLevelC.Add(NewImmigrant)\n",
    "    NewImmigrant.EnterLanguageCourseQueue()\n",
    "    if BronxTeachersChildLevelC.CurrentNumBusy < BronxTeachersChildLevelC.NumberOfUnits and BronxQueueTeachersChildLevelC.NumQueue() >= ClassSize:\n",
    "        BronxTeachersChildLevelC.Seize(1)\n",
    "        for i in range(ClassSize):\n",
    "            Student = BronxQueueTeachersChildLevelC.Remove()\n",
    "            BronxTeachersChildLevelCWaitTime.Record(SimClasses.Clock - Student.getJoinClassQueueTime())\n",
    "            SimFunctions.SchedulePlus(Calendar, \"BronxCourseChildLevelCStart\", 0, Student)"
   ]
  },
  {
   "cell_type": "code",
   "execution_count": 273,
   "id": "8debbbb829502fab",
   "metadata": {
    "ExecuteTime": {
     "end_time": "2024-03-30T22:40:19.183291Z",
     "start_time": "2024-03-30T22:40:19.170216Z"
    },
    "collapsed": false
   },
   "outputs": [],
   "source": [
    "def BronxCourseChildLevelCStart(Student : ImmigrantClass.Immigrant()):\n",
    "    SimFunctions.SchedulePlus(Calendar, \"BronxCourseChildLevelCEnd\", LanguageCourseDurationLevelC, Student)"
   ]
  },
  {
   "cell_type": "code",
   "execution_count": 274,
   "id": "fe8c68cd765f631f",
   "metadata": {
    "ExecuteTime": {
     "end_time": "2024-03-30T22:40:19.462408Z",
     "start_time": "2024-03-30T22:40:19.440118Z"
    },
    "collapsed": false
   },
   "outputs": [],
   "source": [
    "def BronxCourseChildLevelCEnd(NextStudent):\n",
    "    BronxTeachersChildLevelC.Free(1)\n",
    "    SimFunctions.SchedulePlus(Calendar, \"ProcessComplete\", 0, NextStudent)\n",
    "    if BronxTeachersChildLevelC.CurrentNumBusy < BronxTeachersChildLevelC.NumberOfUnits and BronxQueueTeachersChildLevelC.NumQueue() >= ClassSize:\n",
    "        BronxTeachersChildLevelC.Seize(1)\n",
    "        for i in range(ClassSize):\n",
    "            Student = BronxQueueTeachersChildLevelC.Remove()\n",
    "            BronxTeachersChildLevelCWaitTime.Record(SimClasses.Clock - Student.getJoinClassQueueTime())\n",
    "            SimFunctions.SchedulePlus(Calendar, \"BronxCourseChildLevelCStart\", 0, Student)"
   ]
  },
  {
   "cell_type": "code",
   "execution_count": 275,
   "id": "851c84aded751199",
   "metadata": {
    "ExecuteTime": {
     "end_time": "2024-03-30T22:40:19.726768Z",
     "start_time": "2024-03-30T22:40:19.713721Z"
    },
    "collapsed": false
   },
   "outputs": [],
   "source": [
    "def BronxCourseAdultLevelAStartOfWaiting(NewImmigrant : ImmigrantClass.Immigrant()):\n",
    "    BronxQueueTeachersAdultLevelA.Add(NewImmigrant)\n",
    "    NewImmigrant.EnterLanguageCourseQueue()\n",
    "    if BronxTeachersAdultLevelA.CurrentNumBusy < BronxTeachersAdultLevelA.NumberOfUnits and BronxQueueTeachersAdultLevelA.NumQueue() >= ClassSize:\n",
    "        BronxTeachersAdultLevelA.Seize(1)\n",
    "        for i in range(ClassSize):\n",
    "            Student = BronxQueueTeachersAdultLevelA.Remove()\n",
    "            BronxTeachersAdultLevelAWaitTime.Record(SimClasses.Clock - Student.getJoinClassQueueTime())\n",
    "            SimFunctions.SchedulePlus(Calendar, \"BronxCourseAdultLevelAStart\", 0, Student)"
   ]
  },
  {
   "cell_type": "code",
   "execution_count": 276,
   "id": "45dba73797b8db45",
   "metadata": {
    "ExecuteTime": {
     "end_time": "2024-03-30T22:40:19.898683Z",
     "start_time": "2024-03-30T22:40:19.883121Z"
    },
    "collapsed": false
   },
   "outputs": [],
   "source": [
    "def BronxCourseAdultLevelAStart(Student : ImmigrantClass.Immigrant()):\n",
    "    SimFunctions.SchedulePlus(Calendar, \"BronxCourseAdultLevelAEnd\", LanguageCourseDurationLevelA, Student)"
   ]
  },
  {
   "cell_type": "code",
   "execution_count": 277,
   "id": "cea2f4d500ea4385",
   "metadata": {
    "ExecuteTime": {
     "end_time": "2024-03-30T22:40:20.197647Z",
     "start_time": "2024-03-30T22:40:20.178229Z"
    },
    "collapsed": false
   },
   "outputs": [],
   "source": [
    "def BronxCourseAdultLevelAEnd(NextStudent):\n",
    "    BronxTeachersAdultLevelA.Free(1)\n",
    "    if NextStudent.getEducationLevel() == \"Less Than Bachelor\":\n",
    "        NextStudent.JoinCareerCoachingQueueTime = SimClasses.Clock\n",
    "        SimFunctions.SchedulePlus(Calendar, 'BronxCareerCoachingStartOfWaiting', 0, NextStudent)\n",
    "    else:\n",
    "        SimFunctions.SchedulePlus(Calendar, \"ProcessComplete\", 0, NextStudent)\n",
    "        \n",
    "    if BronxTeachersAdultLevelA.CurrentNumBusy < BronxTeachersAdultLevelA.NumberOfUnits and BronxQueueTeachersAdultLevelA.NumQueue() >= ClassSize:\n",
    "        BronxTeachersAdultLevelA.Seize(1)\n",
    "        for i in range(ClassSize):\n",
    "            Student = BronxQueueTeachersAdultLevelA.Remove()\n",
    "            BronxTeachersAdultLevelAWaitTime.Record(SimClasses.Clock - Student.getJoinClassQueueTime())\n",
    "            SimFunctions.SchedulePlus(Calendar, \"BronxCourseAdultLevelAStart\", 0, Student)"
   ]
  },
  {
   "cell_type": "code",
   "execution_count": 278,
   "id": "c42800680051feea",
   "metadata": {
    "ExecuteTime": {
     "end_time": "2024-03-30T22:40:20.352766Z",
     "start_time": "2024-03-30T22:40:20.344451Z"
    },
    "collapsed": false
   },
   "outputs": [],
   "source": [
    "def BronxCourseAdultLevelBStartOfWaiting(NewImmigrant : ImmigrantClass.Immigrant()):\n",
    "    BronxQueueTeachersAdultLevelB.Add(NewImmigrant)\n",
    "    NewImmigrant.EnterLanguageCourseQueue()\n",
    "    if BronxTeachersAdultLevelB.CurrentNumBusy < BronxTeachersAdultLevelB.NumberOfUnits and BronxQueueTeachersAdultLevelB.NumQueue() >= ClassSize:\n",
    "        BronxTeachersAdultLevelB.Seize(1)\n",
    "        for i in range(ClassSize):\n",
    "            Student = BronxQueueTeachersAdultLevelB.Remove()\n",
    "            BronxTeachersAdultLevelBWaitTime.Record(SimClasses.Clock - Student.getJoinClassQueueTime())\n",
    "            SimFunctions.SchedulePlus(Calendar, \"BronxCourseAdultLevelBStart\", 0, Student)"
   ]
  },
  {
   "cell_type": "code",
   "execution_count": 279,
   "id": "14dede50b3c39c3b",
   "metadata": {
    "ExecuteTime": {
     "end_time": "2024-03-30T22:40:20.616855Z",
     "start_time": "2024-03-30T22:40:20.604173Z"
    },
    "collapsed": false
   },
   "outputs": [],
   "source": [
    "def BronxCourseAdultLevelBStart(Student : ImmigrantClass.Immigrant()):\n",
    "    SimFunctions.SchedulePlus(Calendar, \"BronxCourseAdultLevelBEnd\", LanguageCourseDurationLevelB, Student)"
   ]
  },
  {
   "cell_type": "code",
   "execution_count": 280,
   "id": "a15ade62f551edf5",
   "metadata": {
    "ExecuteTime": {
     "end_time": "2024-03-30T22:40:20.894499Z",
     "start_time": "2024-03-30T22:40:20.880720Z"
    },
    "collapsed": false
   },
   "outputs": [],
   "source": [
    "def BronxCourseAdultLevelBEnd(NextStudent):\n",
    "    BronxTeachersAdultLevelB.Free(1)\n",
    "    if NextStudent.getEducationLevel() == \"Less Than Bachelor\":\n",
    "        NextStudent.JoinCareerCoachingQueueTime = SimClasses.Clock\n",
    "        SimFunctions.SchedulePlus(Calendar, 'BronxCareerCoachingStartOfWaiting', 0, NextStudent)\n",
    "    else:\n",
    "        SimFunctions.SchedulePlus(Calendar, \"ProcessComplete\", 0, NextStudent)\n",
    "        \n",
    "    if BronxTeachersAdultLevelB.CurrentNumBusy < BronxTeachersAdultLevelB.NumberOfUnits and BronxQueueTeachersAdultLevelB.NumQueue() >= ClassSize:\n",
    "        BronxTeachersAdultLevelB.Seize(1)\n",
    "        for i in range(ClassSize):\n",
    "            Student = BronxQueueTeachersAdultLevelB.Remove()\n",
    "            BronxTeachersAdultLevelBWaitTime.Record(SimClasses.Clock - Student.getJoinClassQueueTime())\n",
    "            SimFunctions.SchedulePlus(Calendar, \"BronxCourseAdultLevelBStart\", 0, Student)"
   ]
  },
  {
   "cell_type": "code",
   "execution_count": 281,
   "id": "79762e6ad3244ff8",
   "metadata": {
    "ExecuteTime": {
     "end_time": "2024-03-30T22:40:21.080409Z",
     "start_time": "2024-03-30T22:40:21.060157Z"
    },
    "collapsed": false
   },
   "outputs": [],
   "source": [
    "def BronxCourseAdultLevelCStartOfWaiting(NewImmigrant : ImmigrantClass.Immigrant()):\n",
    "    BronxQueueTeachersAdultLevelC.Add(NewImmigrant)\n",
    "    NewImmigrant.EnterLanguageCourseQueue()\n",
    "    if BronxTeachersAdultLevelC.CurrentNumBusy < BronxTeachersAdultLevelC.NumberOfUnits and BronxQueueTeachersAdultLevelC.NumQueue() >= ClassSize:\n",
    "        BronxTeachersAdultLevelC.Seize(1)\n",
    "        for i in range(ClassSize):\n",
    "            Student = BronxQueueTeachersAdultLevelC.Remove()\n",
    "            BronxTeachersAdultLevelCWaitTime.Record(SimClasses.Clock - Student.getJoinClassQueueTime())\n",
    "            SimFunctions.SchedulePlus(Calendar, \"BronxCourseAdultLevelCStart\", 0, Student)"
   ]
  },
  {
   "cell_type": "code",
   "execution_count": 282,
   "id": "2262d7087e763a37",
   "metadata": {
    "ExecuteTime": {
     "end_time": "2024-03-30T22:40:21.311987Z",
     "start_time": "2024-03-30T22:40:21.306336Z"
    },
    "collapsed": false
   },
   "outputs": [],
   "source": [
    "def BronxCourseAdultLevelCStart(Student : ImmigrantClass.Immigrant()):\n",
    "    SimFunctions.SchedulePlus(Calendar, \"BronxCourseAdultLevelCEnd\", LanguageCourseDurationLevelC, Student)"
   ]
  },
  {
   "cell_type": "code",
   "execution_count": 283,
   "id": "5e7d07e36de0cd48",
   "metadata": {
    "ExecuteTime": {
     "end_time": "2024-03-30T22:40:21.482555Z",
     "start_time": "2024-03-30T22:40:21.472842Z"
    },
    "collapsed": false
   },
   "outputs": [],
   "source": [
    "def BronxCourseAdultLevelCEnd(NextStudent):\n",
    "    BronxTeachersAdultLevelC.Free(1)\n",
    "    if NextStudent.getEducationLevel() == \"Less Than Bachelor\":\n",
    "        NextStudent.JoinCareerCoachingQueueTime = SimClasses.Clock\n",
    "        SimFunctions.SchedulePlus(Calendar, 'BronxCareerCoachingStartOfWaiting', 0, NextStudent)\n",
    "    else:\n",
    "        SimFunctions.SchedulePlus(Calendar, \"ProcessComplete\", 0, NextStudent)\n",
    "        \n",
    "    if BronxTeachersAdultLevelC.CurrentNumBusy < BronxTeachersAdultLevelC.NumberOfUnits and BronxQueueTeachersAdultLevelC.NumQueue() >= ClassSize:\n",
    "        BronxTeachersAdultLevelC.Seize(1)\n",
    "        for i in range(ClassSize):\n",
    "            Student = BronxQueueTeachersAdultLevelC.Remove()\n",
    "            BronxTeachersAdultLevelCWaitTime.Record(SimClasses.Clock - Student.getJoinClassQueueTime())\n",
    "            SimFunctions.SchedulePlus(Calendar, \"BronxCourseAdultLevelCStart\", 0, Student)"
   ]
  },
  {
   "cell_type": "code",
   "execution_count": 284,
   "id": "890d99184c24ba91",
   "metadata": {
    "ExecuteTime": {
     "end_time": "2024-03-30T22:40:21.840290Z",
     "start_time": "2024-03-30T22:40:21.819763Z"
    },
    "collapsed": false
   },
   "outputs": [],
   "source": [
    "def BronxCareerCoachingStartOfWaiting(NewImmigrant : ImmigrantClass.Immigrant()):\n",
    "    BronxQueueCareerCoach.Add(NewImmigrant)\n",
    "    NewImmigrant.EnterCareerCoachingQueue()\n",
    "    if BronxCareerCoach.CurrentNumBusy < BronxCareerCoach.NumberOfUnits and BronxQueueCareerCoach.NumQueue() > 0:\n",
    "        BronxCareerCoach.Seize(1)\n",
    "        NextImmigrant = BronxQueueCareerCoach.Remove()\n",
    "        BronxCareerCoachWaitTime.Record(SimClasses.Clock - NextImmigrant.getJoinCareerCoachingQueueTime())\n",
    "        SimFunctions.SchedulePlus(Calendar, \"BronxCareerCoachingStart\", 0, NextImmigrant)"
   ]
  },
  {
   "cell_type": "code",
   "execution_count": 285,
   "id": "be80b662c96b9052",
   "metadata": {
    "ExecuteTime": {
     "end_time": "2024-03-30T22:40:21.998074Z",
     "start_time": "2024-03-30T22:40:21.989661Z"
    },
    "collapsed": false
   },
   "outputs": [],
   "source": [
    "def BronxCareerCoachingStart(NewImmigrant : ImmigrantClass.Immigrant()):\n",
    "    SimFunctions.SchedulePlus(Calendar, \"BronxCareerCoachingEnd\", CareerCoachingSessionDuration, NewImmigrant)"
   ]
  },
  {
   "cell_type": "code",
   "execution_count": 286,
   "id": "3fe5548686b903ac",
   "metadata": {
    "ExecuteTime": {
     "end_time": "2024-03-30T22:40:22.335881Z",
     "start_time": "2024-03-30T22:40:22.317116Z"
    },
    "collapsed": false
   },
   "outputs": [],
   "source": [
    "def BronxCareerCoachingEnd(NewImmigrant : ImmigrantClass.Immigrant()):\n",
    "    BronxCareerCoach.Free(1)\n",
    "    SimFunctions.SchedulePlus(Calendar, \"ProcessComplete\", 0, NewImmigrant)\n",
    "    if BronxCareerCoach.CurrentNumBusy < BronxCareerCoach.NumberOfUnits and BronxQueueCareerCoach.NumQueue() > 0:\n",
    "        BronxCareerCoach.Seize(1)\n",
    "        NextImmigrant = BronxQueueCareerCoach.Remove()\n",
    "        BronxCareerCoachWaitTime.Record(SimClasses.Clock - NextImmigrant.getJoinCareerCoachingQueueTime())\n",
    "        SimFunctions.SchedulePlus(Calendar, \"BronxCareerCoachingStart\", 0, NextImmigrant)"
   ]
  },
  {
   "cell_type": "code",
   "execution_count": 287,
   "id": "c74af4940f4bee7a",
   "metadata": {
    "ExecuteTime": {
     "end_time": "2024-03-30T22:40:22.573765Z",
     "start_time": "2024-03-30T22:40:22.552463Z"
    },
    "collapsed": false
   },
   "outputs": [],
   "source": [
    "def StatenIslandVerbalEvaluationStartOfWaiting(NewImmigrant : ImmigrantClass.Immigrant()):\n",
    "    StatenIslandQueueLanguageAssessors.Add(NewImmigrant)\n",
    "    NewImmigrant.EnterVerbalEvaluationQueue()\n",
    "    if StatenIslandLanguageAssessors.CurrentNumBusy < StatenIslandLanguageAssessors.NumberOfUnits:\n",
    "        StatenIslandLanguageAssessors.Seize(1)\n",
    "        NextImmigrant = StatenIslandQueueLanguageAssessors.Remove()\n",
    "        StatenIslandLanguageAssessorsWaitTime.Record(SimClasses.Clock - NextImmigrant.JoinVerbalEvaluationQueueTime)\n",
    "        SimFunctions.SchedulePlus(Calendar, \"StatenIslandVerbalEvaluationStart\", 0, NextImmigrant)"
   ]
  },
  {
   "cell_type": "code",
   "execution_count": 288,
   "id": "d669557e32744983",
   "metadata": {
    "ExecuteTime": {
     "end_time": "2024-03-30T22:40:22.745871Z",
     "start_time": "2024-03-30T22:40:22.727944Z"
    },
    "collapsed": false
   },
   "outputs": [],
   "source": [
    "def StatenIslandVerbalEvaluationStart(NewImmigrant : ImmigrantClass.Immigrant()):\n",
    "    SimFunctions.SchedulePlus(Calendar, \"StatenIslandVerbalEvaluationEnd\", LanguageAssessmentDuration, NewImmigrant)"
   ]
  },
  {
   "cell_type": "code",
   "execution_count": 289,
   "id": "ef49b4344f15680",
   "metadata": {
    "ExecuteTime": {
     "end_time": "2024-03-30T22:40:23.066602Z",
     "start_time": "2024-03-30T22:40:23.044418Z"
    },
    "collapsed": false
   },
   "outputs": [],
   "source": [
    "def StatenIslandVerbalEvaluationEnd(NewImmigrant : ImmigrantClass.Immigrant()):\n",
    "    if ((NewImmigrant.getAge() == \"Child\" or NewImmigrant.getAge() == \"Old\") and NewImmigrant.getEnglishProficiency() == \"Fluent\") or (NewImmigrant.getAge() == \"Adult\" and NewImmigrant.getEnglishProficiency() == \"Fluent\" and NewImmigrant.getEducationLevel() == \"Bachelor\"):\n",
    "        SimFunctions.SchedulePlus(Calendar, \"ProcessComplete\", 0, NewImmigrant)\n",
    "    \n",
    "    elif NewImmigrant.getAge() == \"Adult\" and NewImmigrant.getEnglishProficiency() == \"Fluent\" and NewImmigrant.getEducationLevel() == \"Less Than Bachelor\":\n",
    "        NewImmigrant.JoinCareerCoachingQueueTime = SimClasses.Clock\n",
    "        SimFunctions.SchedulePlus(Calendar, 'StatenIslandCareerCoachingStartOfWaiting', 0, NewImmigrant)\n",
    "    \n",
    "    elif NewImmigrant.getAge() == \"Child\" and NewImmigrant.getEnglishProficiency() == \"LevelA\":\n",
    "        NewImmigrant.JoinClassQueueTime = SimClasses.Clock\n",
    "        SimFunctions.SchedulePlus(Calendar, 'StatenIslandCourseChildLevelAStartOfWaiting', 0, NewImmigrant)\n",
    "    \n",
    "    elif NewImmigrant.getAge() == \"Child\" and NewImmigrant.getEnglishProficiency() == \"LevelB\":\n",
    "        NewImmigrant.JoinClassQueueTime = SimClasses.Clock\n",
    "        SimFunctions.SchedulePlus(Calendar, 'StatenIslandCourseChildLevelBStartOfWaiting', 0, NewImmigrant)\n",
    "    \n",
    "    elif NewImmigrant.getAge() == \"Child\" and NewImmigrant.getEnglishProficiency() == \"LevelC\":\n",
    "        NewImmigrant.JoinClassQueueTime = SimClasses.Clock\n",
    "        SimFunctions.SchedulePlus(Calendar, 'StatenIslandCourseChildLevelCStartOfWaiting', 0, NewImmigrant)\n",
    "    \n",
    "    elif (NewImmigrant.getAge() == \"Adult\" or NewImmigrant.getAge() == \"Old\") and NewImmigrant.getEnglishProficiency() == \"LevelA\":\n",
    "        NewImmigrant.JoinClassQueueTime = SimClasses.Clock\n",
    "        SimFunctions.SchedulePlus(Calendar, 'StatenIslandCourseAdultLevelAStartOfWaiting', 0, NewImmigrant)\n",
    "    \n",
    "    elif (NewImmigrant.getAge() == \"Adult\" or NewImmigrant.getAge() == \"Old\") and NewImmigrant.getEnglishProficiency() == \"LevelB\":\n",
    "        NewImmigrant.JoinClassQueueTime = SimClasses.Clock\n",
    "        SimFunctions.SchedulePlus(Calendar, 'StatenIslandCourseAdultLevelBStartOfWaiting', 0, NewImmigrant)\n",
    "    \n",
    "    elif (NewImmigrant.getAge() == \"Adult\" or NewImmigrant.getAge() == \"Old\") and NewImmigrant.getEnglishProficiency() == \"LevelC\":\n",
    "        NewImmigrant.JoinClassQueueTime = SimClasses.Clock\n",
    "        SimFunctions.SchedulePlus(Calendar, 'StatenIslandCourseAdultLevelCStartOfWaiting', 0, NewImmigrant)\n",
    "        \n",
    "    StatenIslandLanguageAssessors.Free(1)\n",
    "    if StatenIslandQueueLanguageAssessors.NumQueue() > 0:\n",
    "        NextImmigrant = StatenIslandQueueLanguageAssessors.Remove()\n",
    "        StatenIslandLanguageAssessors.Seize(1)\n",
    "        StatenIslandLanguageAssessorsWaitTime.Record(SimClasses.Clock - NextImmigrant.JoinVerbalEvaluationQueueTime)\n",
    "        SimFunctions.SchedulePlus(Calendar, \"StatenIslandVerbalEvaluationStart\", 0, NextImmigrant)"
   ]
  },
  {
   "cell_type": "code",
   "execution_count": 290,
   "id": "c83a9d8461f488fd",
   "metadata": {
    "ExecuteTime": {
     "end_time": "2024-03-30T22:40:23.341365Z",
     "start_time": "2024-03-30T22:40:23.325864Z"
    },
    "collapsed": false
   },
   "outputs": [],
   "source": [
    "def StatenIslandCourseChildLevelAStartOfWaiting(NewImmigrant : ImmigrantClass.Immigrant()):\n",
    "    StatenIslandQueueTeachersChildLevelA.Add(NewImmigrant)\n",
    "    NewImmigrant.EnterLanguageCourseQueue()\n",
    "    if StatenIslandTeachersChildLevelA.CurrentNumBusy < StatenIslandTeachersChildLevelA.NumberOfUnits and StatenIslandQueueTeachersChildLevelA.NumQueue() >= ClassSize:\n",
    "        StatenIslandTeachersChildLevelA.Seize(1)\n",
    "        for i in range(ClassSize):\n",
    "            Student = StatenIslandQueueTeachersChildLevelA.Remove()\n",
    "            StatenIslandTeachersChildLevelAWaitTime.Record(SimClasses.Clock - Student.getJoinClassQueueTime())\n",
    "            SimFunctions.SchedulePlus(Calendar, \"StatenIslandCourseChildLevelAStart\", 0, Student)"
   ]
  },
  {
   "cell_type": "code",
   "execution_count": 291,
   "id": "18bf0d3b962b6986",
   "metadata": {
    "ExecuteTime": {
     "end_time": "2024-03-30T22:40:23.510449Z",
     "start_time": "2024-03-30T22:40:23.504765Z"
    },
    "collapsed": false
   },
   "outputs": [],
   "source": [
    "def StatenIslandCourseChildLevelAStart(Student : ImmigrantClass.Immigrant()):\n",
    "    SimFunctions.SchedulePlus(Calendar, \"StatenIslandCourseChildLevelAEnd\", LanguageCourseDurationLevelA, Student)"
   ]
  },
  {
   "cell_type": "code",
   "execution_count": 292,
   "id": "49560a348bb0f85a",
   "metadata": {
    "ExecuteTime": {
     "end_time": "2024-03-30T22:40:23.759039Z",
     "start_time": "2024-03-30T22:40:23.740251Z"
    },
    "collapsed": false
   },
   "outputs": [],
   "source": [
    "def StatenIslandCourseChildLevelAEnd(NextStudent):\n",
    "    StatenIslandTeachersChildLevelA.Free(1)\n",
    "    SimFunctions.SchedulePlus(Calendar, \"ProcessComplete\", 0, NextStudent)\n",
    "    if StatenIslandTeachersChildLevelA.CurrentNumBusy < StatenIslandTeachersChildLevelA.NumberOfUnits and StatenIslandQueueTeachersChildLevelA.NumQueue() >= ClassSize:\n",
    "        StatenIslandTeachersChildLevelA.Seize(1)\n",
    "        for i in range(ClassSize):\n",
    "            Student = StatenIslandQueueTeachersChildLevelA.Remove()\n",
    "            StatenIslandTeachersChildLevelAWaitTime.Record(SimClasses.Clock - Student.getJoinClassQueueTime())\n",
    "            SimFunctions.SchedulePlus(Calendar, \"StatenIslandCourseChildLevelAStart\", 0, Student)"
   ]
  },
  {
   "cell_type": "code",
   "execution_count": 293,
   "id": "dd8400a3f3334559",
   "metadata": {
    "ExecuteTime": {
     "end_time": "2024-03-30T22:40:23.935020Z",
     "start_time": "2024-03-30T22:40:23.917889Z"
    },
    "collapsed": false
   },
   "outputs": [],
   "source": [
    "def StatenIslandCourseChildLevelBStartOfWaiting(NewImmigrant : ImmigrantClass.Immigrant()):\n",
    "    StatenIslandQueueTeachersChildLevelB.Add(NewImmigrant)\n",
    "    NewImmigrant.EnterLanguageCourseQueue()\n",
    "    if StatenIslandTeachersChildLevelB.CurrentNumBusy < StatenIslandTeachersChildLevelB.NumberOfUnits and StatenIslandQueueTeachersChildLevelB.NumQueue() >= ClassSize:\n",
    "        StatenIslandTeachersChildLevelB.Seize(1)\n",
    "        for i in range(ClassSize):\n",
    "            Student = StatenIslandQueueTeachersChildLevelB.Remove()\n",
    "            StatenIslandTeachersChildLevelBWaitTime.Record(SimClasses.Clock - Student.getJoinClassQueueTime())\n",
    "            SimFunctions.SchedulePlus(Calendar, \"StatenIslandCourseChildLevelBStart\", 0, Student)"
   ]
  },
  {
   "cell_type": "code",
   "execution_count": 294,
   "id": "7527699839ecf3ab",
   "metadata": {
    "ExecuteTime": {
     "end_time": "2024-03-30T22:40:24.177754Z",
     "start_time": "2024-03-30T22:40:24.159198Z"
    },
    "collapsed": false
   },
   "outputs": [],
   "source": [
    "def StatenIslandCourseChildLevelBStart(Student : ImmigrantClass.Immigrant()):\n",
    "    SimFunctions.SchedulePlus(Calendar, \"StatenIslandCourseChildLevelBEnd\", LanguageCourseDurationLevelB, Student)"
   ]
  },
  {
   "cell_type": "code",
   "execution_count": 295,
   "id": "e5450018c42b1d66",
   "metadata": {
    "ExecuteTime": {
     "end_time": "2024-03-30T22:40:24.459066Z",
     "start_time": "2024-03-30T22:40:24.436785Z"
    },
    "collapsed": false
   },
   "outputs": [],
   "source": [
    "def StatenIslandCourseChildLevelBEnd(NextStudent):\n",
    "    StatenIslandTeachersChildLevelB.Free(1)\n",
    "    SimFunctions.SchedulePlus(Calendar, \"ProcessComplete\", 0, NextStudent)\n",
    "    if StatenIslandTeachersChildLevelB.CurrentNumBusy < StatenIslandTeachersChildLevelB.NumberOfUnits and StatenIslandQueueTeachersChildLevelB.NumQueue() >= ClassSize:\n",
    "        StatenIslandTeachersChildLevelB.Seize(1)\n",
    "        for i in range(ClassSize):\n",
    "            Student = StatenIslandQueueTeachersChildLevelB.Remove()\n",
    "            StatenIslandTeachersChildLevelBWaitTime.Record(SimClasses.Clock - Student.getJoinClassQueueTime())\n",
    "            SimFunctions.SchedulePlus(Calendar, \"StatenIslandCourseChildLevelBStart\", 0, Student)"
   ]
  },
  {
   "cell_type": "code",
   "execution_count": 296,
   "id": "6aa6a92ecbc82632",
   "metadata": {
    "ExecuteTime": {
     "end_time": "2024-03-30T22:40:24.626151Z",
     "start_time": "2024-03-30T22:40:24.606435Z"
    },
    "collapsed": false
   },
   "outputs": [],
   "source": [
    "def StatenIslandCourseChildLevelCStartOfWaiting(NewImmigrant : ImmigrantClass.Immigrant()):\n",
    "    StatenIslandQueueTeachersChildLevelC.Add(NewImmigrant)\n",
    "    NewImmigrant.EnterLanguageCourseQueue()\n",
    "    if StatenIslandTeachersChildLevelC.CurrentNumBusy < StatenIslandTeachersChildLevelC.NumberOfUnits and StatenIslandQueueTeachersChildLevelC.NumQueue() >= ClassSize:\n",
    "        StatenIslandTeachersChildLevelC.Seize(1)\n",
    "        for i in range(ClassSize):\n",
    "            Student = StatenIslandQueueTeachersChildLevelC.Remove()\n",
    "            StatenIslandTeachersChildLevelCWaitTime.Record(SimClasses.Clock - Student.getJoinClassQueueTime())\n",
    "            SimFunctions.SchedulePlus(Calendar, \"StatenIslandCourseChildLevelCStart\", 0, Student)"
   ]
  },
  {
   "cell_type": "code",
   "execution_count": 297,
   "id": "11eac31b49311684",
   "metadata": {
    "ExecuteTime": {
     "end_time": "2024-03-30T22:40:24.828159Z",
     "start_time": "2024-03-30T22:40:24.820721Z"
    },
    "collapsed": false
   },
   "outputs": [],
   "source": [
    "def StatenIslandCourseChildLevelCStart(Student : ImmigrantClass.Immigrant()):\n",
    "    SimFunctions.SchedulePlus(Calendar, \"StatenIslandCourseChildLevelCEnd\", LanguageCourseDurationLevelC, Student)"
   ]
  },
  {
   "cell_type": "code",
   "execution_count": 298,
   "id": "541433f72202694b",
   "metadata": {
    "ExecuteTime": {
     "end_time": "2024-03-30T22:40:25.139079Z",
     "start_time": "2024-03-30T22:40:25.117849Z"
    },
    "collapsed": false
   },
   "outputs": [],
   "source": [
    "def StatenIslandCourseChildLevelCEnd(NextStudent):\n",
    "    StatenIslandTeachersChildLevelC.Free(1)\n",
    "    SimFunctions.SchedulePlus(Calendar, \"ProcessComplete\", 0, NextStudent)\n",
    "    if StatenIslandTeachersChildLevelC.CurrentNumBusy < StatenIslandTeachersChildLevelC.NumberOfUnits and StatenIslandQueueTeachersChildLevelC.NumQueue() >= ClassSize:\n",
    "        StatenIslandTeachersChildLevelC.Seize(1)\n",
    "        for i in range(ClassSize):\n",
    "            Student = StatenIslandQueueTeachersChildLevelC.Remove()\n",
    "            StatenIslandTeachersChildLevelCWaitTime.Record(SimClasses.Clock - Student.getJoinClassQueueTime())\n",
    "            SimFunctions.SchedulePlus(Calendar, \"StatenIslandCourseChildLevelCStart\", 0, Student)"
   ]
  },
  {
   "cell_type": "code",
   "execution_count": 299,
   "id": "e6d7dd28e9771eef",
   "metadata": {
    "ExecuteTime": {
     "end_time": "2024-03-30T22:40:25.344039Z",
     "start_time": "2024-03-30T22:40:25.333637Z"
    },
    "collapsed": false
   },
   "outputs": [],
   "source": [
    "def StatenIslandCourseAdultLevelAStartOfWaiting(NewImmigrant : ImmigrantClass.Immigrant()):\n",
    "    StatenIslandQueueTeachersAdultLevelA.Add(NewImmigrant)\n",
    "    NewImmigrant.EnterLanguageCourseQueue()\n",
    "    if StatenIslandTeachersAdultLevelA.CurrentNumBusy < StatenIslandTeachersAdultLevelA.NumberOfUnits and StatenIslandQueueTeachersAdultLevelA.NumQueue() >= ClassSize:\n",
    "        StatenIslandTeachersAdultLevelA.Seize(1)\n",
    "        for i in range(ClassSize):\n",
    "            Student = StatenIslandQueueTeachersAdultLevelA.Remove()\n",
    "            StatenIslandTeachersAdultLevelAWaitTime.Record(SimClasses.Clock - Student.getJoinClassQueueTime())\n",
    "            SimFunctions.SchedulePlus(Calendar, \"StatenIslandCourseAdultLevelAStart\", 0, Student)"
   ]
  },
  {
   "cell_type": "code",
   "execution_count": 300,
   "id": "79f5fc98b6f5da7b",
   "metadata": {
    "ExecuteTime": {
     "end_time": "2024-03-30T22:40:25.549267Z",
     "start_time": "2024-03-30T22:40:25.533461Z"
    },
    "collapsed": false
   },
   "outputs": [],
   "source": [
    "def StatenIslandCourseAdultLevelAStart(Student : ImmigrantClass.Immigrant()):\n",
    "    SimFunctions.SchedulePlus(Calendar, \"StatenIslandCourseAdultLevelAEnd\", LanguageCourseDurationLevelA, Student)"
   ]
  },
  {
   "cell_type": "code",
   "execution_count": 301,
   "id": "b42b7bf549bda9e",
   "metadata": {
    "ExecuteTime": {
     "end_time": "2024-03-30T22:40:25.809628Z",
     "start_time": "2024-03-30T22:40:25.789031Z"
    },
    "collapsed": false
   },
   "outputs": [],
   "source": [
    "def StatenIslandCourseAdultLevelAEnd(NextStudent):\n",
    "    StatenIslandTeachersAdultLevelA.Free(1)\n",
    "    if NextStudent.getEducationLevel() == \"Less Than Bachelor\":\n",
    "        NextStudent.JoinCareerCoachingQueueTime = SimClasses.Clock\n",
    "        SimFunctions.SchedulePlus(Calendar, 'StatenIslandCareerCoachingStartOfWaiting', 0, NextStudent)\n",
    "    else:\n",
    "        SimFunctions.SchedulePlus(Calendar, \"ProcessComplete\", 0, NextStudent)\n",
    "        \n",
    "    if StatenIslandTeachersAdultLevelA.CurrentNumBusy < StatenIslandTeachersAdultLevelA.NumberOfUnits and StatenIslandQueueTeachersAdultLevelA.NumQueue() >= ClassSize:\n",
    "        StatenIslandTeachersAdultLevelA.Seize(1)\n",
    "        for i in range(ClassSize):\n",
    "            Student = StatenIslandQueueTeachersAdultLevelA.Remove()\n",
    "            StatenIslandTeachersAdultLevelAWaitTime.Record(SimClasses.Clock - Student.getJoinClassQueueTime())\n",
    "            SimFunctions.SchedulePlus(Calendar, \"StatenIslandCourseAdultLevelAStart\", 0, Student)"
   ]
  },
  {
   "cell_type": "code",
   "execution_count": 302,
   "id": "411ed2064f07d5d4",
   "metadata": {
    "ExecuteTime": {
     "end_time": "2024-03-30T22:40:25.963441Z",
     "start_time": "2024-03-30T22:40:25.950601Z"
    },
    "collapsed": false
   },
   "outputs": [],
   "source": [
    "def StatenIslandCourseAdultLevelBStartOfWaiting(NewImmigrant : ImmigrantClass.Immigrant()):\n",
    "    StatenIslandQueueTeachersAdultLevelB.Add(NewImmigrant)\n",
    "    NewImmigrant.EnterLanguageCourseQueue()\n",
    "    if StatenIslandTeachersAdultLevelB.CurrentNumBusy < StatenIslandTeachersAdultLevelB.NumberOfUnits and StatenIslandQueueTeachersAdultLevelB.NumQueue() >= ClassSize:\n",
    "        StatenIslandTeachersAdultLevelB.Seize(1)\n",
    "        for i in range(ClassSize):\n",
    "            Student = StatenIslandQueueTeachersAdultLevelB.Remove()\n",
    "            StatenIslandTeachersAdultLevelBWaitTime.Record(SimClasses.Clock - Student.getJoinClassQueueTime())\n",
    "            SimFunctions.SchedulePlus(Calendar, \"StatenIslandCourseAdultLevelBStart\", 0, Student)"
   ]
  },
  {
   "cell_type": "code",
   "execution_count": 303,
   "id": "ce1e762dfe9d183c",
   "metadata": {
    "ExecuteTime": {
     "end_time": "2024-03-30T22:40:26.143054Z",
     "start_time": "2024-03-30T22:40:26.129547Z"
    },
    "collapsed": false
   },
   "outputs": [],
   "source": [
    "def StatenIslandCourseAdultLevelBStart(Student : ImmigrantClass.Immigrant()):\n",
    "    SimFunctions.SchedulePlus(Calendar, \"StatenIslandCourseAdultLevelBEnd\", LanguageCourseDurationLevelB, Student)"
   ]
  },
  {
   "cell_type": "code",
   "execution_count": 304,
   "id": "b8114bfe951cdb88",
   "metadata": {
    "ExecuteTime": {
     "end_time": "2024-03-30T22:40:26.410470Z",
     "start_time": "2024-03-30T22:40:26.398532Z"
    },
    "collapsed": false
   },
   "outputs": [],
   "source": [
    "def StatenIslandCourseAdultLevelBEnd(NextStudent):\n",
    "    StatenIslandTeachersAdultLevelB.Free(1)\n",
    "    if NextStudent.getEducationLevel() == \"Less Than Bachelor\":\n",
    "        NextStudent.JoinCareerCoachingQueueTime = SimClasses.Clock\n",
    "        SimFunctions.SchedulePlus(Calendar, 'StatenIslandCareerCoachingStartOfWaiting', 0, NextStudent)\n",
    "    else:\n",
    "        SimFunctions.SchedulePlus(Calendar, \"ProcessComplete\", 0, NextStudent)\n",
    "        \n",
    "    if StatenIslandTeachersAdultLevelB.CurrentNumBusy < StatenIslandTeachersAdultLevelB.NumberOfUnits and StatenIslandQueueTeachersAdultLevelB.NumQueue() >= ClassSize:\n",
    "        StatenIslandTeachersAdultLevelB.Seize(1)\n",
    "        for i in range(ClassSize):\n",
    "            Student = StatenIslandQueueTeachersAdultLevelB.Remove()\n",
    "            StatenIslandTeachersAdultLevelBWaitTime.Record(SimClasses.Clock - Student.getJoinClassQueueTime())\n",
    "            SimFunctions.SchedulePlus(Calendar, \"StatenIslandCourseAdultLevelBStart\", 0, Student)"
   ]
  },
  {
   "cell_type": "code",
   "execution_count": 305,
   "id": "d3a0077ee49a0211",
   "metadata": {
    "ExecuteTime": {
     "end_time": "2024-03-30T22:40:26.625807Z",
     "start_time": "2024-03-30T22:40:26.606583Z"
    },
    "collapsed": false
   },
   "outputs": [],
   "source": [
    "def StatenIslandCourseAdultLevelCStartOfWaiting(NewImmigrant : ImmigrantClass.Immigrant()):\n",
    "    StatenIslandQueueTeachersAdultLevelC.Add(NewImmigrant)\n",
    "    NewImmigrant.EnterLanguageCourseQueue()\n",
    "    if StatenIslandTeachersAdultLevelC.CurrentNumBusy < StatenIslandTeachersAdultLevelC.NumberOfUnits and StatenIslandQueueTeachersAdultLevelC.NumQueue() >= ClassSize:\n",
    "        StatenIslandTeachersAdultLevelC.Seize(1)\n",
    "        for i in range(ClassSize):\n",
    "            Student = StatenIslandQueueTeachersAdultLevelC.Remove()\n",
    "            StatenIslandTeachersAdultLevelCWaitTime.Record(SimClasses.Clock - Student.getJoinClassQueueTime())\n",
    "            SimFunctions.SchedulePlus(Calendar, \"StatenIslandCourseAdultLevelCStart\", 0, Student)"
   ]
  },
  {
   "cell_type": "code",
   "execution_count": 306,
   "id": "f4ee7ec7d6cbad5",
   "metadata": {
    "ExecuteTime": {
     "end_time": "2024-03-30T22:40:26.827151Z",
     "start_time": "2024-03-30T22:40:26.807603Z"
    },
    "collapsed": false
   },
   "outputs": [],
   "source": [
    "def StatenIslandCourseAdultLevelCStart(Student : ImmigrantClass.Immigrant()):\n",
    "    SimFunctions.SchedulePlus(Calendar, \"StatenIslandCourseAdultLevelCEnd\", LanguageCourseDurationLevelC, Student)"
   ]
  },
  {
   "cell_type": "code",
   "execution_count": 307,
   "id": "aec51eb00142a48e",
   "metadata": {
    "ExecuteTime": {
     "end_time": "2024-03-30T22:40:27.015295Z",
     "start_time": "2024-03-30T22:40:27.001466Z"
    },
    "collapsed": false
   },
   "outputs": [],
   "source": [
    "def StatenIslandCourseAdultLevelCEnd(NextStudent):\n",
    "    StatenIslandTeachersAdultLevelC.Free(1)\n",
    "    if NextStudent.getEducationLevel() == \"Less Than Bachelor\":\n",
    "        NextStudent.JoinCareerCoachingQueueTime = SimClasses.Clock\n",
    "        SimFunctions.SchedulePlus(Calendar, 'StatenIslandCareerCoachingStartOfWaiting', 0, NextStudent)\n",
    "    else:\n",
    "        SimFunctions.SchedulePlus(Calendar, \"ProcessComplete\", 0, NextStudent)\n",
    "        \n",
    "    if StatenIslandTeachersAdultLevelC.CurrentNumBusy < StatenIslandTeachersAdultLevelC.NumberOfUnits and StatenIslandQueueTeachersAdultLevelC.NumQueue() >= ClassSize:\n",
    "        StatenIslandTeachersAdultLevelC.Seize(1)\n",
    "        for i in range(ClassSize):\n",
    "            Student = StatenIslandQueueTeachersAdultLevelC.Remove()\n",
    "            StatenIslandTeachersAdultLevelCWaitTime.Record(SimClasses.Clock - Student.getJoinClassQueueTime())\n",
    "            SimFunctions.SchedulePlus(Calendar, \"StatenIslandCourseAdultLevelCStart\", 0, Student)"
   ]
  },
  {
   "cell_type": "code",
   "execution_count": 308,
   "id": "89b7a50412839927",
   "metadata": {
    "ExecuteTime": {
     "end_time": "2024-03-30T22:40:27.202773Z",
     "start_time": "2024-03-30T22:40:27.193730Z"
    },
    "collapsed": false
   },
   "outputs": [],
   "source": [
    "def StatenIslandCareerCoachingStartOfWaiting(NewImmigrant : ImmigrantClass.Immigrant()):\n",
    "    StatenIslandQueueCareerCoach.Add(NewImmigrant)\n",
    "    NewImmigrant.EnterCareerCoachingQueue()\n",
    "    if StatenIslandCareerCoach.CurrentNumBusy < StatenIslandCareerCoach.NumberOfUnits and StatenIslandQueueCareerCoach.NumQueue() > 0:\n",
    "        StatenIslandCareerCoach.Seize(1)\n",
    "        NextImmigrant = StatenIslandQueueCareerCoach.Remove()\n",
    "        StatenIslandCareerCoachWaitTime.Record(SimClasses.Clock - NextImmigrant.getJoinCareerCoachingQueueTime())\n",
    "        SimFunctions.SchedulePlus(Calendar, \"StatenIslandCareerCoachingStart\", 0, NextImmigrant)"
   ]
  },
  {
   "cell_type": "code",
   "execution_count": 309,
   "id": "9ad076b68c44f295",
   "metadata": {
    "ExecuteTime": {
     "end_time": "2024-03-30T22:40:27.469621Z",
     "start_time": "2024-03-30T22:40:27.455592Z"
    },
    "collapsed": false
   },
   "outputs": [],
   "source": [
    "def StatenIslandCareerCoachingStart(NewImmigrant : ImmigrantClass.Immigrant()):\n",
    "    SimFunctions.SchedulePlus(Calendar, \"StatenIslandCareerCoachingEnd\", CareerCoachingSessionDuration, NewImmigrant)"
   ]
  },
  {
   "cell_type": "code",
   "execution_count": 310,
   "id": "5c2ed757ec311d83",
   "metadata": {
    "ExecuteTime": {
     "end_time": "2024-03-30T22:40:27.670996Z",
     "start_time": "2024-03-30T22:40:27.656566Z"
    },
    "collapsed": false
   },
   "outputs": [],
   "source": [
    "def StatenIslandCareerCoachingEnd(NewImmigrant : ImmigrantClass.Immigrant()):\n",
    "    StatenIslandCareerCoach.Free(1)\n",
    "    SimFunctions.SchedulePlus(Calendar, \"ProcessComplete\", 0, NewImmigrant)\n",
    "    if StatenIslandCareerCoach.CurrentNumBusy < StatenIslandCareerCoach.NumberOfUnits and StatenIslandQueueCareerCoach.NumQueue() > 0:\n",
    "        StatenIslandCareerCoach.Seize(1)\n",
    "        NextImmigrant = StatenIslandQueueCareerCoach.Remove()\n",
    "        StatenIslandCareerCoachWaitTime.Record(SimClasses.Clock - NextImmigrant.getJoinCareerCoachingQueueTime())\n",
    "        SimFunctions.SchedulePlus(Calendar, \"StatenIslandCareerCoachingStart\", 0, NextImmigrant)"
   ]
  },
  {
   "cell_type": "code",
   "execution_count": 311,
   "id": "d5c9d74bd41a876",
   "metadata": {
    "ExecuteTime": {
     "end_time": "2024-03-30T22:40:28.005634Z",
     "start_time": "2024-03-30T22:40:27.930231Z"
    },
    "collapsed": false
   },
   "outputs": [],
   "source": [
    "def ProcessComplete(NewImmigrant : ImmigrantClass.Immigrant()):\n",
    "    if NewImmigrant.getBorough() == \"Brooklyn\":\n",
    "        BrooklynTotalProcessTime.Record(SimClasses.Clock - NewImmigrant.getTime())\n",
    "        if NewImmigrant.getAge() == \"Child\" and NewImmigrant.getEnglishProficiency() == \"Fluent\":\n",
    "            BrooklynFluentChildrenTotalProcessTime.Record(SimClasses.Clock - NewImmigrant.getTime())\n",
    "        elif NewImmigrant.getAge() == \"Child\" and NewImmigrant.getEnglishProficiency() == \"LevelA\":\n",
    "            BrooklynLevelAChildrenTotalProcessTime.Record(SimClasses.Clock - NewImmigrant.getTime())\n",
    "        elif NewImmigrant.getAge() == \"Child\" and NewImmigrant.getEnglishProficiency() == \"LevelB\":\n",
    "            BrooklynLevelBChildrenTotalProcessTime.Record(SimClasses.Clock - NewImmigrant.getTime())\n",
    "        elif NewImmigrant.getAge() == \"Child\" and NewImmigrant.getEnglishProficiency() == \"LevelC\":\n",
    "            BrooklynLevelCChildrenTotalProcessTime.Record(SimClasses.Clock - NewImmigrant.getTime())\n",
    "        elif NewImmigrant.getAge() == \"Adult\" and NewImmigrant.getEnglishProficiency() == \"Fluent\" and NewImmigrant.getEducationLevel() == \"Bachelor\":\n",
    "            BrooklynFluentEducatedAdultTotalProcessTime.Record(SimClasses.Clock - NewImmigrant.getTime())\n",
    "        elif NewImmigrant.getAge() == \"Adult\" and NewImmigrant.getEnglishProficiency() == \"LevelA\" and NewImmigrant.getEducationLevel() == \"Bachelor\":\n",
    "            BrooklynLevelAEducatedAdultTotalProcessTime.Record(SimClasses.Clock - NewImmigrant.getTime())\n",
    "        elif NewImmigrant.getAge() == \"Adult\" and NewImmigrant.getEnglishProficiency() == \"LevelB\" and NewImmigrant.getEducationLevel() == \"Bachelor\":\n",
    "            BrooklynLevelBEducatedAdultTotalProcessTime.Record(SimClasses.Clock - NewImmigrant.getTime())\n",
    "        elif NewImmigrant.getAge() == \"Adult\" and NewImmigrant.getEnglishProficiency() == \"LevelC\" and NewImmigrant.getEducationLevel() == \"Bachelor\":\n",
    "            BrooklynLevelCEducatedAdultTotalProcessTime.Record(SimClasses.Clock - NewImmigrant.getTime())\n",
    "        elif NewImmigrant.getAge() == \"Adult\" and NewImmigrant.getEnglishProficiency() == \"Fluent\" and NewImmigrant.getEducationLevel() == \"Less Than Bachelor\":\n",
    "            BrooklynFluentUneducatedAdultTotalProcessTime.Record(SimClasses.Clock - NewImmigrant.getTime())\n",
    "        elif NewImmigrant.getAge() == \"Adult\" and NewImmigrant.getEnglishProficiency() == \"LevelA\" and NewImmigrant.getEducationLevel() == \"Less Than Bachelor\":\n",
    "            BrooklynLevelAUneducatedAdultTotalProcessTime.Record(SimClasses.Clock - NewImmigrant.getTime())\n",
    "        elif NewImmigrant.getAge() == \"Adult\" and NewImmigrant.getEnglishProficiency() == \"LevelB\" and NewImmigrant.getEducationLevel() == \"Less Than Bachelor\":\n",
    "            BrooklynLevelBUneducatedAdultTotalProcessTime.Record(SimClasses.Clock - NewImmigrant.getTime())\n",
    "        elif NewImmigrant.getAge() == \"Adult\" and NewImmigrant.getEnglishProficiency() == \"LevelC\" and NewImmigrant.getEducationLevel() == \"Less Than Bachelor\":\n",
    "            BrooklynLevelCUneducatedAdultTotalProcessTime.Record(SimClasses.Clock - NewImmigrant.getTime())\n",
    "        elif NewImmigrant.getAge() == \"Old\" and NewImmigrant.getEnglishProficiency() == \"Fluent\":\n",
    "            BrooklynFluentOldTotalProcessTime.Record(SimClasses.Clock - NewImmigrant.getTime())\n",
    "        elif NewImmigrant.getAge() == \"Old\" and NewImmigrant.getEnglishProficiency() == \"LevelA\":\n",
    "            BrooklynLevelAOldTotalProcessTime.Record(SimClasses.Clock - NewImmigrant.getTime())\n",
    "        elif NewImmigrant.getAge() == \"Old\" and NewImmigrant.getEnglishProficiency() == \"LevelB\":\n",
    "            BrooklynLevelBOldTotalProcessTime.Record(SimClasses.Clock - NewImmigrant.getTime())\n",
    "        elif NewImmigrant.getAge() == \"Old\" and NewImmigrant.getEnglishProficiency() == \"LevelC\":\n",
    "            BrooklynLevelCOldTotalProcessTime.Record(SimClasses.Clock - NewImmigrant.getTime())\n",
    "        else:\n",
    "            return\n",
    "    \n",
    "    elif NewImmigrant.getBorough() == \"Manhattan\":\n",
    "        ManhattanTotalProcessTime.Record(SimClasses.Clock - NewImmigrant.getTime())\n",
    "        if NewImmigrant.getAge() == \"Child\" and NewImmigrant.getEnglishProficiency() == \"Fluent\":\n",
    "            ManhattanFluentChildrenTotalProcessTime.Record(SimClasses.Clock - NewImmigrant.getTime())\n",
    "        elif NewImmigrant.getAge() == \"Child\" and NewImmigrant.getEnglishProficiency() == \"LevelA\":\n",
    "            ManhattanLevelAChildrenTotalProcessTime.Record(SimClasses.Clock - NewImmigrant.getTime())\n",
    "        elif NewImmigrant.getAge() == \"Child\" and NewImmigrant.getEnglishProficiency() == \"LevelB\":\n",
    "            ManhattanLevelBChildrenTotalProcessTime.Record(SimClasses.Clock - NewImmigrant.getTime())\n",
    "        elif NewImmigrant.getAge() == \"Child\" and NewImmigrant.getEnglishProficiency() == \"LevelC\":\n",
    "            ManhattanLevelCChildrenTotalProcessTime.Record(SimClasses.Clock - NewImmigrant.getTime())\n",
    "        elif NewImmigrant.getAge() == \"Adult\" and NewImmigrant.getEnglishProficiency() == \"Fluent\" and NewImmigrant.getEducationLevel() == \"Bachelor\":\n",
    "            ManhattanFluentEducatedAdultTotalProcessTime.Record(SimClasses.Clock - NewImmigrant.getTime())\n",
    "        elif NewImmigrant.getAge() == \"Adult\" and NewImmigrant.getEnglishProficiency() == \"LevelA\" and NewImmigrant.getEducationLevel() == \"Bachelor\":\n",
    "            ManhattanLevelAEducatedAdultTotalProcessTime.Record(SimClasses.Clock - NewImmigrant.getTime())\n",
    "        elif NewImmigrant.getAge() == \"Adult\" and NewImmigrant.getEnglishProficiency() == \"LevelB\" and NewImmigrant.getEducationLevel() == \"Bachelor\":\n",
    "            ManhattanLevelBEducatedAdultTotalProcessTime.Record(SimClasses.Clock - NewImmigrant.getTime())\n",
    "        elif NewImmigrant.getAge() == \"Adult\" and NewImmigrant.getEnglishProficiency() == \"LevelC\" and NewImmigrant.getEducationLevel() == \"Bachelor\":\n",
    "            ManhattanLevelCEducatedAdultTotalProcessTime.Record(SimClasses.Clock - NewImmigrant.getTime())\n",
    "        elif NewImmigrant.getAge() == \"Adult\" and NewImmigrant.getEnglishProficiency() == \"Fluent\" and NewImmigrant.getEducationLevel() == \"Less Than Bachelor\":\n",
    "            ManhattanFluentUneducatedAdultTotalProcessTime.Record(SimClasses.Clock - NewImmigrant.getTime())\n",
    "        elif NewImmigrant.getAge() == \"Adult\" and NewImmigrant.getEnglishProficiency() == \"LevelA\" and NewImmigrant.getEducationLevel() == \"Less Than Bachelor\":\n",
    "            ManhattanLevelAUneducatedAdultTotalProcessTime.Record(SimClasses.Clock - NewImmigrant.getTime())\n",
    "        elif NewImmigrant.getAge() == \"Adult\" and NewImmigrant.getEnglishProficiency() == \"LevelB\" and NewImmigrant.getEducationLevel() == \"Less Than Bachelor\":\n",
    "            ManhattanLevelBUneducatedAdultTotalProcessTime.Record(SimClasses.Clock - NewImmigrant.getTime())\n",
    "        elif NewImmigrant.getAge() == \"Adult\" and NewImmigrant.getEnglishProficiency() == \"LevelC\" and NewImmigrant.getEducationLevel() == \"Less Than Bachelor\":\n",
    "            ManhattanLevelCUneducatedAdultTotalProcessTime.Record(SimClasses.Clock - NewImmigrant.getTime())\n",
    "        elif NewImmigrant.getAge() == \"Old\" and NewImmigrant.getEnglishProficiency() == \"Fluent\":\n",
    "            ManhattanFluentOldTotalProcessTime.Record(SimClasses.Clock - NewImmigrant.getTime())\n",
    "        elif NewImmigrant.getAge() == \"Old\" and NewImmigrant.getEnglishProficiency() == \"LevelA\":\n",
    "            ManhattanLevelAOldTotalProcessTime.Record(SimClasses.Clock - NewImmigrant.getTime())\n",
    "        elif NewImmigrant.getAge() == \"Old\" and NewImmigrant.getEnglishProficiency() == \"LevelB\":\n",
    "            ManhattanLevelBOldTotalProcessTime.Record(SimClasses.Clock - NewImmigrant.getTime())\n",
    "        elif NewImmigrant.getAge() == \"Old\" and NewImmigrant.getEnglishProficiency() == \"LevelC\":\n",
    "            ManhattanLevelCOldTotalProcessTime.Record(SimClasses.Clock - NewImmigrant.getTime())\n",
    "        else:\n",
    "            return\n",
    "    \n",
    "    elif NewImmigrant.getBorough() == \"Queens\":\n",
    "        QueensTotalProcessTime.Record(SimClasses.Clock - NewImmigrant.getTime())\n",
    "        if NewImmigrant.getAge() == \"Child\" and NewImmigrant.getEnglishProficiency() == \"Fluent\":\n",
    "            QueensFluentChildrenTotalProcessTime.Record(SimClasses.Clock - NewImmigrant.getTime())\n",
    "        elif NewImmigrant.getAge() == \"Child\" and NewImmigrant.getEnglishProficiency() == \"LevelA\":\n",
    "            QueensLevelAChildrenTotalProcessTime.Record(SimClasses.Clock - NewImmigrant.getTime())\n",
    "        elif NewImmigrant.getAge() == \"Child\" and NewImmigrant.getEnglishProficiency() == \"LevelB\":\n",
    "            QueensLevelBChildrenTotalProcessTime.Record(SimClasses.Clock - NewImmigrant.getTime())\n",
    "        elif NewImmigrant.getAge() == \"Child\" and NewImmigrant.getEnglishProficiency() == \"LevelC\":\n",
    "            QueensLevelCChildrenTotalProcessTime.Record(SimClasses.Clock - NewImmigrant.getTime())\n",
    "        elif NewImmigrant.getAge() == \"Adult\" and NewImmigrant.getEnglishProficiency() == \"Fluent\" and NewImmigrant.getEducationLevel() == \"Bachelor\":\n",
    "            QueensFluentEducatedAdultTotalProcessTime.Record(SimClasses.Clock - NewImmigrant.getTime())\n",
    "        elif NewImmigrant.getAge() == \"Adult\" and NewImmigrant.getEnglishProficiency() == \"LevelA\" and NewImmigrant.getEducationLevel() == \"Bachelor\":\n",
    "            QueensLevelAEducatedAdultTotalProcessTime.Record(SimClasses.Clock - NewImmigrant.getTime())\n",
    "        elif NewImmigrant.getAge() == \"Adult\" and NewImmigrant.getEnglishProficiency() == \"LevelB\" and NewImmigrant.getEducationLevel() == \"Bachelor\":\n",
    "            QueensLevelBEducatedAdultTotalProcessTime.Record(SimClasses.Clock - NewImmigrant.getTime())\n",
    "        elif NewImmigrant.getAge() == \"Adult\" and NewImmigrant.getEnglishProficiency() == \"LevelC\" and NewImmigrant.getEducationLevel() == \"Bachelor\":\n",
    "            QueensLevelCEducatedAdultTotalProcessTime.Record(SimClasses.Clock - NewImmigrant.getTime())\n",
    "        elif NewImmigrant.getAge() == \"Adult\" and NewImmigrant.getEnglishProficiency() == \"Fluent\" and NewImmigrant.getEducationLevel() == \"Less Than Bachelor\":\n",
    "            QueensFluentUneducatedAdultTotalProcessTime.Record(SimClasses.Clock - NewImmigrant.getTime())\n",
    "        elif NewImmigrant.getAge() == \"Adult\" and NewImmigrant.getEnglishProficiency() == \"LevelA\" and NewImmigrant.getEducationLevel() == \"Less Than Bachelor\":\n",
    "            QueensLevelAUneducatedAdultTotalProcessTime.Record(SimClasses.Clock - NewImmigrant.getTime())\n",
    "        elif NewImmigrant.getAge() == \"Adult\" and NewImmigrant.getEnglishProficiency() == \"LevelB\" and NewImmigrant.getEducationLevel() == \"Less Than Bachelor\":\n",
    "            QueensLevelBUneducatedAdultTotalProcessTime.Record(SimClasses.Clock - NewImmigrant.getTime())\n",
    "        elif NewImmigrant.getAge() == \"Adult\" and NewImmigrant.getEnglishProficiency() == \"LevelC\" and NewImmigrant.getEducationLevel() == \"Less Than Bachelor\":\n",
    "            QueensLevelCUneducatedAdultTotalProcessTime.Record(SimClasses.Clock - NewImmigrant.getTime())\n",
    "        elif NewImmigrant.getAge() == \"Old\" and NewImmigrant.getEnglishProficiency() == \"Fluent\":\n",
    "            QueensFluentOldTotalProcessTime.Record(SimClasses.Clock - NewImmigrant.getTime())\n",
    "        elif NewImmigrant.getAge() == \"Old\" and NewImmigrant.getEnglishProficiency() == \"LevelA\":\n",
    "            QueensLevelAOldTotalProcessTime.Record(SimClasses.Clock - NewImmigrant.getTime())\n",
    "        elif NewImmigrant.getAge() == \"Old\" and NewImmigrant.getEnglishProficiency() == \"LevelB\":\n",
    "            QueensLevelBOldTotalProcessTime.Record(SimClasses.Clock - NewImmigrant.getTime())\n",
    "        elif NewImmigrant.getAge() == \"Old\" and NewImmigrant.getEnglishProficiency() == \"LevelC\":\n",
    "            QueensLevelCOldTotalProcessTime.Record(SimClasses.Clock - NewImmigrant.getTime())\n",
    "        else:\n",
    "            return\n",
    "        \n",
    "    elif NewImmigrant.getBorough() == \"Bronx\":\n",
    "        BronxTotalProcessTime.Record(SimClasses.Clock - NewImmigrant.getTime())\n",
    "        if NewImmigrant.getAge() == \"Child\" and NewImmigrant.getEnglishProficiency() == \"Fluent\":\n",
    "            BronxFluentChildrenTotalProcessTime.Record(SimClasses.Clock - NewImmigrant.getTime())\n",
    "        elif NewImmigrant.getAge() == \"Child\" and NewImmigrant.getEnglishProficiency() == \"LevelA\":\n",
    "            BronxLevelAChildrenTotalProcessTime.Record(SimClasses.Clock - NewImmigrant.getTime())\n",
    "        elif NewImmigrant.getAge() == \"Child\" and NewImmigrant.getEnglishProficiency() == \"LevelB\":\n",
    "            BronxLevelBChildrenTotalProcessTime.Record(SimClasses.Clock - NewImmigrant.getTime())\n",
    "        elif NewImmigrant.getAge() == \"Child\" and NewImmigrant.getEnglishProficiency() == \"LevelC\":\n",
    "            BronxLevelCChildrenTotalProcessTime.Record(SimClasses.Clock - NewImmigrant.getTime())\n",
    "        elif NewImmigrant.getAge() == \"Adult\" and NewImmigrant.getEnglishProficiency() == \"Fluent\" and NewImmigrant.getEducationLevel() == \"Bachelor\":\n",
    "            BronxFluentEducatedAdultTotalProcessTime.Record(SimClasses.Clock - NewImmigrant.getTime())\n",
    "        elif NewImmigrant.getAge() == \"Adult\" and NewImmigrant.getEnglishProficiency() == \"LevelA\" and NewImmigrant.getEducationLevel() == \"Bachelor\":\n",
    "            BronxLevelAEducatedAdultTotalProcessTime.Record(SimClasses.Clock - NewImmigrant.getTime())\n",
    "        elif NewImmigrant.getAge() == \"Adult\" and NewImmigrant.getEnglishProficiency() == \"LevelB\" and NewImmigrant.getEducationLevel() == \"Bachelor\":\n",
    "            BronxLevelBEducatedAdultTotalProcessTime.Record(SimClasses.Clock - NewImmigrant.getTime())\n",
    "        elif NewImmigrant.getAge() == \"Adult\" and NewImmigrant.getEnglishProficiency() == \"LevelC\" and NewImmigrant.getEducationLevel() == \"Bachelor\":\n",
    "            BronxLevelCEducatedAdultTotalProcessTime.Record(SimClasses.Clock - NewImmigrant.getTime())\n",
    "        elif NewImmigrant.getAge() == \"Adult\" and NewImmigrant.getEnglishProficiency() == \"Fluent\" and NewImmigrant.getEducationLevel() == \"Less Than Bachelor\":\n",
    "            BronxFluentUneducatedAdultTotalProcessTime.Record(SimClasses.Clock - NewImmigrant.getTime())\n",
    "        elif NewImmigrant.getAge() == \"Adult\" and NewImmigrant.getEnglishProficiency() == \"LevelA\" and NewImmigrant.getEducationLevel() == \"Less Than Bachelor\":\n",
    "            BronxLevelAUneducatedAdultTotalProcessTime.Record(SimClasses.Clock - NewImmigrant.getTime())\n",
    "        elif NewImmigrant.getAge() == \"Adult\" and NewImmigrant.getEnglishProficiency() == \"LevelB\" and NewImmigrant.getEducationLevel() == \"Less Than Bachelor\":\n",
    "            BronxLevelBUneducatedAdultTotalProcessTime.Record(SimClasses.Clock - NewImmigrant.getTime())\n",
    "        elif NewImmigrant.getAge() == \"Adult\" and NewImmigrant.getEnglishProficiency() == \"LevelC\" and NewImmigrant.getEducationLevel() == \"Less Than Bachelor\":\n",
    "            BronxLevelCUneducatedAdultTotalProcessTime.Record(SimClasses.Clock - NewImmigrant.getTime())\n",
    "        elif NewImmigrant.getAge() == \"Old\" and NewImmigrant.getEnglishProficiency() == \"Fluent\":\n",
    "            BronxFluentOldTotalProcessTime.Record(SimClasses.Clock - NewImmigrant.getTime())\n",
    "        elif NewImmigrant.getAge() == \"Old\" and NewImmigrant.getEnglishProficiency() == \"LevelA\":\n",
    "            BronxLevelAOldTotalProcessTime.Record(SimClasses.Clock - NewImmigrant.getTime())\n",
    "        elif NewImmigrant.getAge() == \"Old\" and NewImmigrant.getEnglishProficiency() == \"LevelB\":\n",
    "            BronxLevelBOldTotalProcessTime.Record(SimClasses.Clock - NewImmigrant.getTime())\n",
    "        elif NewImmigrant.getAge() == \"Old\" and NewImmigrant.getEnglishProficiency() == \"LevelC\":\n",
    "            BronxLevelCOldTotalProcessTime.Record(SimClasses.Clock - NewImmigrant.getTime())\n",
    "        else:\n",
    "            return\n",
    "        \n",
    "    elif NewImmigrant.getBorough() == \"StatenIsland\":\n",
    "        StatenIslandTotalProcessTime.Record(SimClasses.Clock - NewImmigrant.getTime())\n",
    "        if NewImmigrant.getAge() == \"Child\" and NewImmigrant.getEnglishProficiency() == \"Fluent\":\n",
    "            StatenIslandFluentChildrenTotalProcessTime.Record(SimClasses.Clock - NewImmigrant.getTime())\n",
    "        elif NewImmigrant.getAge() == \"Child\" and NewImmigrant.getEnglishProficiency() == \"LevelA\":\n",
    "            StatenIslandLevelAChildrenTotalProcessTime.Record(SimClasses.Clock - NewImmigrant.getTime())\n",
    "        elif NewImmigrant.getAge() == \"Child\" and NewImmigrant.getEnglishProficiency() == \"LevelB\":\n",
    "            StatenIslandLevelBChildrenTotalProcessTime.Record(SimClasses.Clock - NewImmigrant.getTime())\n",
    "        elif NewImmigrant.getAge() == \"Child\" and NewImmigrant.getEnglishProficiency() == \"LevelC\":\n",
    "            StatenIslandLevelCChildrenTotalProcessTime.Record(SimClasses.Clock - NewImmigrant.getTime())\n",
    "        elif NewImmigrant.getAge() == \"Adult\" and NewImmigrant.getEnglishProficiency() == \"Fluent\" and NewImmigrant.getEducationLevel() == \"Bachelor\":\n",
    "            StatenIslandFluentEducatedAdultTotalProcessTime.Record(SimClasses.Clock - NewImmigrant.getTime())\n",
    "        elif NewImmigrant.getAge() == \"Adult\" and NewImmigrant.getEnglishProficiency() == \"LevelA\" and NewImmigrant.getEducationLevel() == \"Bachelor\":\n",
    "            StatenIslandLevelAEducatedAdultTotalProcessTime.Record(SimClasses.Clock - NewImmigrant.getTime())\n",
    "        elif NewImmigrant.getAge() == \"Adult\" and NewImmigrant.getEnglishProficiency() == \"LevelB\" and NewImmigrant.getEducationLevel() == \"Bachelor\":\n",
    "            StatenIslandLevelBEducatedAdultTotalProcessTime.Record(SimClasses.Clock - NewImmigrant.getTime())\n",
    "        elif NewImmigrant.getAge() == \"Adult\" and NewImmigrant.getEnglishProficiency() == \"LevelC\" and NewImmigrant.getEducationLevel() == \"Bachelor\":\n",
    "            StatenIslandLevelCEducatedAdultTotalProcessTime.Record(SimClasses.Clock - NewImmigrant.getTime())\n",
    "        elif NewImmigrant.getAge() == \"Adult\" and NewImmigrant.getEnglishProficiency() == \"Fluent\" and NewImmigrant.getEducationLevel() == \"Less Than Bachelor\":\n",
    "            StatenIslandFluentUneducatedAdultTotalProcessTime.Record(SimClasses.Clock - NewImmigrant.getTime())\n",
    "        elif NewImmigrant.getAge() == \"Adult\" and NewImmigrant.getEnglishProficiency() == \"LevelA\" and NewImmigrant.getEducationLevel() == \"Less Than Bachelor\":\n",
    "            StatenIslandLevelAUneducatedAdultTotalProcessTime.Record(SimClasses.Clock - NewImmigrant.getTime())\n",
    "        elif NewImmigrant.getAge() == \"Adult\" and NewImmigrant.getEnglishProficiency() == \"LevelB\" and NewImmigrant.getEducationLevel() == \"Less Than Bachelor\":\n",
    "            StatenIslandLevelBUneducatedAdultTotalProcessTime.Record(SimClasses.Clock - NewImmigrant.getTime())\n",
    "        elif NewImmigrant.getAge() == \"Adult\" and NewImmigrant.getEnglishProficiency() == \"LevelC\" and NewImmigrant.getEducationLevel() == \"Less Than Bachelor\":\n",
    "            StatenIslandLevelCUneducatedAdultTotalProcessTime.Record(SimClasses.Clock - NewImmigrant.getTime())\n",
    "        elif NewImmigrant.getAge() == \"Old\" and NewImmigrant.getEnglishProficiency() == \"Fluent\":\n",
    "            StatenIslandFluentOldTotalProcessTime.Record(SimClasses.Clock - NewImmigrant.getTime())\n",
    "        elif NewImmigrant.getAge() == \"Old\" and NewImmigrant.getEnglishProficiency() == \"LevelA\":\n",
    "            StatenIslandLevelAOldTotalProcessTime.Record(SimClasses.Clock - NewImmigrant.getTime())\n",
    "        elif NewImmigrant.getAge() == \"Old\" and NewImmigrant.getEnglishProficiency() == \"LevelB\":\n",
    "            StatenIslandLevelBOldTotalProcessTime.Record(SimClasses.Clock - NewImmigrant.getTime())\n",
    "        elif NewImmigrant.getAge() == \"Old\" and NewImmigrant.getEnglishProficiency() == \"LevelC\":\n",
    "            StatenIslandLevelCOldTotalProcessTime.Record(SimClasses.Clock - NewImmigrant.getTime())\n",
    "        else:\n",
    "            return\n",
    "        \n",
    "    else:\n",
    "        print(\"ERROR : Unknown entity\")\n",
    "        return"
   ]
  },
  {
   "cell_type": "code",
   "execution_count": 348,
   "id": "3a620d5e16a5ecb9",
   "metadata": {
    "ExecuteTime": {
     "end_time": "2024-03-30T23:31:46.633979Z",
     "start_time": "2024-03-30T23:23:31.455924Z"
    },
    "collapsed": false
   },
   "outputs": [
    {
     "data": {
      "application/vnd.jupyter.widget-view+json": {
       "model_id": "1beddb806fe7473293b8398bb16d7f58",
       "version_major": 2,
       "version_minor": 0
      },
      "text/plain": [
       "Running Simulation:   0%|          | 0/5 [00:00<?, ?it/s]"
      ]
     },
     "metadata": {},
     "output_type": "display_data"
    },
    {
     "data": {
      "application/vnd.jupyter.widget-view+json": {
       "model_id": "2d1176e840ab4e568a9c34c056be3e9d",
       "version_major": 2,
       "version_minor": 0
      },
      "text/plain": [
       "Iteration 1 in process:   0%|          | 0/2 [00:00<?, ?it/s]"
      ]
     },
     "metadata": {},
     "output_type": "display_data"
    },
    {
     "data": {
      "application/vnd.jupyter.widget-view+json": {
       "model_id": "052cd24757884e10b29d26c2cb3646db",
       "version_major": 2,
       "version_minor": 0
      },
      "text/plain": [
       "Iteration 2 in process:   0%|          | 0/2 [00:00<?, ?it/s]"
      ]
     },
     "metadata": {},
     "output_type": "display_data"
    },
    {
     "data": {
      "application/vnd.jupyter.widget-view+json": {
       "model_id": "ede02fdbc3994d1ea9ba4a4b2cdb719e",
       "version_major": 2,
       "version_minor": 0
      },
      "text/plain": [
       "Iteration 3 in process:   0%|          | 0/2 [00:00<?, ?it/s]"
      ]
     },
     "metadata": {},
     "output_type": "display_data"
    },
    {
     "data": {
      "application/vnd.jupyter.widget-view+json": {
       "model_id": "0c2dec09f4f348a9915adbd283a6fad6",
       "version_major": 2,
       "version_minor": 0
      },
      "text/plain": [
       "Iteration 4 in process:   0%|          | 0/2 [00:00<?, ?it/s]"
      ]
     },
     "metadata": {},
     "output_type": "display_data"
    },
    {
     "data": {
      "application/vnd.jupyter.widget-view+json": {
       "model_id": "6b9b5c7d46db490eb68b6296424981bc",
       "version_major": 2,
       "version_minor": 0
      },
      "text/plain": [
       "Iteration 5 in process:   0%|          | 0/2 [00:00<?, ?it/s]"
      ]
     },
     "metadata": {},
     "output_type": "display_data"
    }
   ],
   "source": [
    "#run simulation in batches of 5 because it keeps getting stuck for some reason\n",
    "k = 6\n",
    "BoroughDict = {\"Brooklyn\": 0, \"Manhattan\": 1, \"Queens\": 2, \"Bronx\": 3, \"StatenIsland\": 4}\n",
    "AgeDict = {\"Child\": 0, \"Adult\": 1, \"Old\": 2}\n",
    "Immigrants_successfully_processed_avg = np.zeros((5, 3))\n",
    "pbar_outer = tqdm_notebook(total=Epochs, desc=\"Running Simulation\")\n",
    "for rep in range(Epochs):\n",
    "    time.sleep(0.1)\n",
    "    SimFunctions.SimFunctionsInit(Calendar)\n",
    "    #Set resources \n",
    "    BrooklynLanguageAssessors.SetUnits(BrooklynNumberOfLanguageAssessors)\n",
    "    BrooklynTeachersAdultLevelA.SetUnits(BrooklynNumberOfTeachersAdultLevelA)\n",
    "    BrooklynTeachersAdultLevelB.SetUnits(BrooklynNumberOfTeachersAdultLevelB)\n",
    "    BrooklynTeachersAdultLevelC.SetUnits(BrooklynNumberOfTeachersAdultLevelC)\n",
    "    BrooklynTeachersChildLevelA.SetUnits(BrooklynNumberOfTeachersChildLevelA)\n",
    "    BrooklynTeachersChildLevelB.SetUnits(BrooklynNumberOfTeachersChildLevelB)\n",
    "    BrooklynTeachersChildLevelC.SetUnits(BrooklynNumberOfTeachersChildLevelC)\n",
    "    BrooklynCareerCoach.SetUnits(BrooklynNumberOfCareerCoaches)\n",
    "    \n",
    "    ManhattanLanguageAssessors.SetUnits(ManhattanNumberOfLanguageAssessors)\n",
    "    ManhattanTeachersAdultLevelA.SetUnits(ManhattanNumberOfTeachersAdultLevelA)\n",
    "    ManhattanTeachersAdultLevelB.SetUnits(ManhattanNumberOfTeachersAdultLevelB)\n",
    "    ManhattanTeachersAdultLevelC.SetUnits(ManhattanNumberOfTeachersAdultLevelC)\n",
    "    ManhattanTeachersChildLevelA.SetUnits(ManhattanNumberOfTeachersChildLevelA)\n",
    "    ManhattanTeachersChildLevelB.SetUnits(ManhattanNumberOfTeachersChildLevelB)\n",
    "    ManhattanTeachersChildLevelC.SetUnits(ManhattanNumberOfTeachersChildLevelC)\n",
    "    ManhattanCareerCoach.SetUnits(ManhattanNumberOfCareerCoaches)\n",
    "    \n",
    "    QueensLanguageAssessors.SetUnits(QueensNumberOfLanguageAssessors)\n",
    "    QueensTeachersAdultLevelA.SetUnits(QueensNumberOfTeachersAdultLevelA)\n",
    "    QueensTeachersAdultLevelB.SetUnits(QueensNumberOfTeachersAdultLevelB)\n",
    "    QueensTeachersAdultLevelC.SetUnits(QueensNumberOfTeachersAdultLevelC)\n",
    "    QueensTeachersChildLevelA.SetUnits(QueensNumberOfTeachersChildLevelA)\n",
    "    QueensTeachersChildLevelB.SetUnits(QueensNumberOfTeachersChildLevelB)\n",
    "    QueensTeachersChildLevelC.SetUnits(QueensNumberOfTeachersChildLevelC)\n",
    "    QueensCareerCoach.SetUnits(QueensNumberOfCareerCoaches)\n",
    "    \n",
    "    BronxLanguageAssessors.SetUnits(BronxNumberOfLanguageAssessors)\n",
    "    BronxTeachersAdultLevelA.SetUnits(BronxNumberOfTeachersAdultLevelA)\n",
    "    BronxTeachersAdultLevelB.SetUnits(BronxNumberOfTeachersAdultLevelB)\n",
    "    BronxTeachersAdultLevelC.SetUnits(BronxNumberOfTeachersAdultLevelC)\n",
    "    BronxTeachersChildLevelA.SetUnits(BronxNumberOfTeachersChildLevelA)\n",
    "    BronxTeachersChildLevelB.SetUnits(BronxNumberOfTeachersChildLevelB)\n",
    "    BronxTeachersChildLevelC.SetUnits(BronxNumberOfTeachersChildLevelC)\n",
    "    BronxCareerCoach.SetUnits(BronxNumberOfCareerCoaches)\n",
    "    \n",
    "    StatenIslandLanguageAssessors.SetUnits(StatenIslandNumberOfLanguageAssessors)\n",
    "    StatenIslandTeachersAdultLevelA.SetUnits(StatenIslandNumberOfTeachersAdultLevelA)\n",
    "    StatenIslandTeachersAdultLevelB.SetUnits(StatenIslandNumberOfTeachersAdultLevelB)\n",
    "    StatenIslandTeachersAdultLevelC.SetUnits(StatenIslandNumberOfTeachersAdultLevelC)\n",
    "    StatenIslandTeachersChildLevelA.SetUnits(StatenIslandNumberOfTeachersChildLevelA)\n",
    "    StatenIslandTeachersChildLevelB.SetUnits(StatenIslandNumberOfTeachersChildLevelB)\n",
    "    StatenIslandTeachersChildLevelC.SetUnits(StatenIslandNumberOfTeachersChildLevelC)\n",
    "    StatenIslandCareerCoach.SetUnits(StatenIslandNumberOfCareerCoaches)\n",
    "    \n",
    "    SimFunctions.Schedule(Calendar, \"Arrival\", SimRNG.Expon(ArrivalRate2022, 5))\n",
    "    SimFunctions.Schedule(Calendar, \"EndSimulation\", RunLength)\n",
    "    \n",
    "    Immigrants_processed_by_borough_and_age = np.zeros((5, 3))\n",
    "    #Main simulation loop\n",
    "    pbar_inner = tqdm_notebook(total=Calendar.N(), desc=f\"Iteration {rep + 1} in process\", leave=False)\n",
    "    while Calendar.N() > 0:\n",
    "        ''''''\n",
    "        NextEvent = Calendar.Remove()\n",
    "        SimClasses.Clock = NextEvent.EventTime\n",
    "\n",
    "        if NextEvent.EventType == 'Arrival':\n",
    "            Arrival()\n",
    "        \n",
    "        ##BROOKLYN##\n",
    "        elif NextEvent.EventType == 'BrooklynVerbalEvaluationStartOfWaiting':\n",
    "            BrooklynLanguageAssessorsQueueLength.append(BrooklynQueueLanguageAssessors.NumQueue())\n",
    "            BrooklynVerbalEvaluationStartOfWaiting(NextEvent.WhichObject)\n",
    "            \n",
    "        elif NextEvent.EventType == 'BrooklynVerbalEvaluationStart':\n",
    "            BrooklynVerbalEvaluationStart(NextEvent.WhichObject)\n",
    "            \n",
    "        elif NextEvent.EventType == 'BrooklynVerbalEvaluationEnd':\n",
    "            BrooklynVerbalEvaluationEnd(NextEvent.WhichObject)\n",
    "            \n",
    "        elif NextEvent.EventType == 'BrooklynCourseChildLevelAStartOfWaiting':\n",
    "            BrooklynTeachersChildLevelAQueueLength.append(BrooklynQueueTeachersChildLevelA.NumQueue())\n",
    "            BrooklynCourseChildLevelAStartOfWaiting(NextEvent.WhichObject)\n",
    "            \n",
    "        elif NextEvent.EventType == 'BrooklynCourseChildLevelAStart':\n",
    "            BrooklynCourseChildLevelAStart(NextEvent.WhichObject)\n",
    "            \n",
    "        elif NextEvent.EventType == 'BrooklynCourseChildLevelAEnd':\n",
    "            BrooklynCourseChildLevelAEnd(NextEvent.WhichObject)\n",
    "            \n",
    "        elif NextEvent.EventType == 'BrooklynCourseChildLevelBStartOfWaiting':\n",
    "            BrooklynTeachersChildLevelBQueueLength.append(BrooklynQueueTeachersChildLevelB.NumQueue())\n",
    "            BrooklynCourseChildLevelBStartOfWaiting(NextEvent.WhichObject)\n",
    "            \n",
    "        elif NextEvent.EventType == 'BrooklynCourseChildLevelBStart':\n",
    "            BrooklynCourseChildLevelBStart(NextEvent.WhichObject)\n",
    "            \n",
    "        elif NextEvent.EventType == 'BrooklynCourseChildLevelBEnd':\n",
    "            BrooklynCourseChildLevelBEnd(NextEvent.WhichObject)\n",
    "            \n",
    "        elif NextEvent.EventType == 'BrooklynCourseChildLevelCStartOfWaiting':\n",
    "            BrooklynTeachersChildLevelCQueueLength.append(BrooklynQueueTeachersChildLevelC.NumQueue())\n",
    "            BrooklynCourseChildLevelCStartOfWaiting(NextEvent.WhichObject)\n",
    "            \n",
    "        elif NextEvent.EventType == 'BrooklynCourseChildLevelCStart':\n",
    "            BrooklynCourseChildLevelCStart(NextEvent.WhichObject)\n",
    "            \n",
    "        elif NextEvent.EventType == 'BrooklynCourseChildLevelCEnd':\n",
    "            BrooklynCourseChildLevelCEnd(NextEvent.WhichObject)\n",
    "            \n",
    "        elif NextEvent.EventType == 'BrooklynCourseAdultLevelAStartOfWaiting':\n",
    "            BrooklynTeachersAdultLevelAQueueLength.append(BrooklynQueueTeachersAdultLevelA.NumQueue())\n",
    "            BrooklynCourseAdultLevelAStartOfWaiting(NextEvent.WhichObject)\n",
    "            \n",
    "        elif NextEvent.EventType == 'BrooklynCourseAdultLevelAStart':\n",
    "            BrooklynCourseAdultLevelAStart(NextEvent.WhichObject)\n",
    "            \n",
    "        elif NextEvent.EventType == 'BrooklynCourseAdultLevelAEnd':\n",
    "            BrooklynCourseAdultLevelAEnd(NextEvent.WhichObject)\n",
    "            \n",
    "        elif NextEvent.EventType == 'BrooklynCourseAdultLevelBStartOfWaiting':\n",
    "            BrooklynTeachersAdultLevelBQueueLength.append(BrooklynQueueTeachersAdultLevelB.NumQueue())\n",
    "            BrooklynCourseAdultLevelBStartOfWaiting(NextEvent.WhichObject)\n",
    "            \n",
    "        elif NextEvent.EventType == 'BrooklynCourseAdultLevelBStart':\n",
    "            BrooklynCourseAdultLevelBStart(NextEvent.WhichObject)\n",
    "            \n",
    "        elif NextEvent.EventType == 'BrooklynCourseAdultLevelBEnd':\n",
    "            BrooklynCourseAdultLevelBEnd(NextEvent.WhichObject)\n",
    "            \n",
    "        elif NextEvent.EventType == 'BrooklynCourseAdultLevelCStartOfWaiting':\n",
    "            BrooklynTeachersAdultLevelCQueueLength.append(BrooklynQueueTeachersAdultLevelC.NumQueue())\n",
    "            BrooklynCourseAdultLevelCStartOfWaiting(NextEvent.WhichObject)\n",
    "            \n",
    "        elif NextEvent.EventType == 'BrooklynCourseAdultLevelCStart':\n",
    "            BrooklynCourseAdultLevelCStart(NextEvent.WhichObject)\n",
    "            \n",
    "        elif NextEvent.EventType == 'BrooklynCourseAdultLevelCEnd':\n",
    "            BrooklynCourseAdultLevelCEnd(NextEvent.WhichObject)\n",
    "            \n",
    "        elif NextEvent.EventType == 'BrooklynCareerCoachingStartOfWaiting':\n",
    "            BrooklynCareerCoachesQueueLength.append(BrooklynQueueCareerCoach.NumQueue())\n",
    "            BrooklynCareerCoachingStartOfWaiting(NextEvent.WhichObject)\n",
    "            \n",
    "        elif NextEvent.EventType == 'BrooklynCareerCoachingStart':\n",
    "            BrooklynCareerCoachingStart(NextEvent.WhichObject)\n",
    "            \n",
    "        elif NextEvent.EventType == 'BrooklynCareerCoachingEnd':\n",
    "            BrooklynCareerCoachingEnd(NextEvent.WhichObject)\n",
    "        #############\n",
    "        ##MANHATTAN##\n",
    "        elif NextEvent.EventType == 'ManhattanVerbalEvaluationStartOfWaiting':\n",
    "            ManhattanLanguageAssessorsQueueLength.append(ManhattanQueueLanguageAssessors.NumQueue())\n",
    "            ManhattanVerbalEvaluationStartOfWaiting(NextEvent.WhichObject)\n",
    "            \n",
    "        elif NextEvent.EventType == 'ManhattanVerbalEvaluationStart':\n",
    "            ManhattanVerbalEvaluationStart(NextEvent.WhichObject)\n",
    "            \n",
    "        elif NextEvent.EventType == 'ManhattanVerbalEvaluationEnd':\n",
    "            ManhattanVerbalEvaluationEnd(NextEvent.WhichObject)\n",
    "            \n",
    "        elif NextEvent.EventType == 'ManhattanCourseChildLevelAStartOfWaiting':\n",
    "            ManhattanTeachersChildLevelAQueueLength.append(ManhattanQueueTeachersChildLevelA.NumQueue())\n",
    "            ManhattanCourseChildLevelAStartOfWaiting(NextEvent.WhichObject)\n",
    "            \n",
    "        elif NextEvent.EventType == 'ManhattanCourseChildLevelAStart':\n",
    "            ManhattanCourseChildLevelAStart(NextEvent.WhichObject)\n",
    "            \n",
    "        elif NextEvent.EventType == 'ManhattanCourseChildLevelAEnd':\n",
    "            ManhattanCourseChildLevelAEnd(NextEvent.WhichObject)\n",
    "            \n",
    "        elif NextEvent.EventType == 'ManhattanCourseChildLevelBStartOfWaiting':\n",
    "            ManhattanTeachersChildLevelBQueueLength.append(ManhattanQueueTeachersChildLevelB.NumQueue())\n",
    "            ManhattanCourseChildLevelBStartOfWaiting(NextEvent.WhichObject)\n",
    "            \n",
    "        elif NextEvent.EventType == 'ManhattanCourseChildLevelBStart':\n",
    "            ManhattanCourseChildLevelBStart(NextEvent.WhichObject)\n",
    "            \n",
    "        elif NextEvent.EventType == 'ManhattanCourseChildLevelBEnd':\n",
    "            ManhattanCourseChildLevelBEnd(NextEvent.WhichObject)\n",
    "            \n",
    "        elif NextEvent.EventType == 'ManhattanCourseChildLevelCStartOfWaiting':\n",
    "            ManhattanTeachersChildLevelCQueueLength.append(ManhattanQueueTeachersChildLevelC.NumQueue())\n",
    "            ManhattanCourseChildLevelCStartOfWaiting(NextEvent.WhichObject)\n",
    "            \n",
    "        elif NextEvent.EventType == 'ManhattanCourseChildLevelCStart':\n",
    "            ManhattanCourseChildLevelCStart(NextEvent.WhichObject)\n",
    "            \n",
    "        elif NextEvent.EventType == 'ManhattanCourseChildLevelCEnd':\n",
    "            ManhattanCourseChildLevelCEnd(NextEvent.WhichObject)\n",
    "            \n",
    "        elif NextEvent.EventType == 'ManhattanCourseAdultLevelAStartOfWaiting':\n",
    "            ManhattanTeachersAdultLevelAQueueLength.append(ManhattanQueueTeachersAdultLevelA.NumQueue())\n",
    "            ManhattanCourseAdultLevelAStartOfWaiting(NextEvent.WhichObject)\n",
    "            \n",
    "        elif NextEvent.EventType == 'ManhattanCourseAdultLevelAStart':\n",
    "            ManhattanCourseAdultLevelAStart(NextEvent.WhichObject)\n",
    "            \n",
    "        elif NextEvent.EventType == 'ManhattanCourseAdultLevelAEnd':\n",
    "            ManhattanCourseAdultLevelAEnd(NextEvent.WhichObject)\n",
    "            \n",
    "        elif NextEvent.EventType == 'ManhattanCourseAdultLevelBStartOfWaiting':\n",
    "            ManhattanTeachersAdultLevelBQueueLength.append(ManhattanQueueTeachersAdultLevelB.NumQueue())\n",
    "            ManhattanCourseAdultLevelBStartOfWaiting(NextEvent.WhichObject)\n",
    "            \n",
    "        elif NextEvent.EventType == 'ManhattanCourseAdultLevelBStart':\n",
    "            ManhattanCourseAdultLevelBStart(NextEvent.WhichObject)\n",
    "            \n",
    "        elif NextEvent.EventType == 'ManhattanCourseAdultLevelBEnd':\n",
    "            ManhattanCourseAdultLevelBEnd(NextEvent.WhichObject)\n",
    "            \n",
    "        elif NextEvent.EventType == 'ManhattanCourseAdultLevelCStartOfWaiting':\n",
    "            ManhattanTeachersAdultLevelCQueueLength.append(ManhattanQueueTeachersAdultLevelC.NumQueue())\n",
    "            ManhattanCourseAdultLevelCStartOfWaiting(NextEvent.WhichObject)\n",
    "            \n",
    "        elif NextEvent.EventType == 'ManhattanCourseAdultLevelCStart':\n",
    "            ManhattanCourseAdultLevelCStart(NextEvent.WhichObject)\n",
    "            \n",
    "        elif NextEvent.EventType == 'ManhattanCourseAdultLevelCEnd':\n",
    "            ManhattanCourseAdultLevelCEnd(NextEvent.WhichObject)\n",
    "            \n",
    "        elif NextEvent.EventType == 'ManhattanCareerCoachingStartOfWaiting':\n",
    "            ManhattanCareerCoachesQueueLength.append(ManhattanQueueCareerCoach.NumQueue())\n",
    "            ManhattanCareerCoachingStartOfWaiting(NextEvent.WhichObject)\n",
    "            \n",
    "        elif NextEvent.EventType == 'ManhattanCareerCoachingStart':\n",
    "            ManhattanCareerCoachingStart(NextEvent.WhichObject)\n",
    "            \n",
    "        elif NextEvent.EventType == 'ManhattanCareerCoachingEnd':\n",
    "            ManhattanCareerCoachingEnd(NextEvent.WhichObject)\n",
    "        #############\n",
    "        ##QUEENS##\n",
    "        elif NextEvent.EventType == 'QueensVerbalEvaluationStartOfWaiting':\n",
    "            QueensLanguageAssessorsQueueLength.append(QueensQueueLanguageAssessors.NumQueue())\n",
    "            QueensVerbalEvaluationStartOfWaiting(NextEvent.WhichObject)\n",
    "            \n",
    "        elif NextEvent.EventType == 'QueensVerbalEvaluationStart':\n",
    "            QueensVerbalEvaluationStart(NextEvent.WhichObject)\n",
    "            \n",
    "        elif NextEvent.EventType == 'QueensVerbalEvaluationEnd':\n",
    "            QueensVerbalEvaluationEnd(NextEvent.WhichObject)\n",
    "            \n",
    "        elif NextEvent.EventType == 'QueensCourseChildLevelAStartOfWaiting':\n",
    "            QueensTeachersChildLevelAQueueLength.append(QueensQueueTeachersChildLevelA.NumQueue())\n",
    "            QueensCourseChildLevelAStartOfWaiting(NextEvent.WhichObject)\n",
    "            \n",
    "        elif NextEvent.EventType == 'QueensCourseChildLevelAStart':\n",
    "            QueensCourseChildLevelAStart(NextEvent.WhichObject)\n",
    "            \n",
    "        elif NextEvent.EventType == 'QueensCourseChildLevelAEnd':\n",
    "            QueensCourseChildLevelAEnd(NextEvent.WhichObject)\n",
    "            \n",
    "        elif NextEvent.EventType == 'QueensCourseChildLevelBStartOfWaiting':\n",
    "            QueensTeachersChildLevelBQueueLength.append(QueensQueueTeachersChildLevelB.NumQueue())\n",
    "            QueensCourseChildLevelBStartOfWaiting(NextEvent.WhichObject)\n",
    "            \n",
    "        elif NextEvent.EventType == 'QueensCourseChildLevelBStart':\n",
    "            QueensCourseChildLevelBStart(NextEvent.WhichObject)\n",
    "            \n",
    "        elif NextEvent.EventType == 'QueensCourseChildLevelBEnd':\n",
    "            QueensCourseChildLevelBEnd(NextEvent.WhichObject)\n",
    "            \n",
    "        elif NextEvent.EventType == 'QueensCourseChildLevelCStartOfWaiting':\n",
    "            QueensTeachersChildLevelCQueueLength.append(QueensQueueTeachersChildLevelC.NumQueue())\n",
    "            QueensCourseChildLevelCStartOfWaiting(NextEvent.WhichObject)\n",
    "            \n",
    "        elif NextEvent.EventType == 'QueensCourseChildLevelCStart':\n",
    "            QueensCourseChildLevelCStart(NextEvent.WhichObject)\n",
    "            \n",
    "        elif NextEvent.EventType == 'QueensCourseChildLevelCEnd':\n",
    "            QueensCourseChildLevelCEnd(NextEvent.WhichObject)\n",
    "            \n",
    "        elif NextEvent.EventType == 'QueensCourseAdultLevelAStartOfWaiting':\n",
    "            QueensTeachersAdultLevelAQueueLength.append(QueensQueueTeachersAdultLevelA.NumQueue())\n",
    "            QueensCourseAdultLevelAStartOfWaiting(NextEvent.WhichObject)\n",
    "            \n",
    "        elif NextEvent.EventType == 'QueensCourseAdultLevelAStart':\n",
    "            QueensCourseAdultLevelAStart(NextEvent.WhichObject)\n",
    "            \n",
    "        elif NextEvent.EventType == 'QueensCourseAdultLevelAEnd':\n",
    "            QueensCourseAdultLevelAEnd(NextEvent.WhichObject)\n",
    "            \n",
    "        elif NextEvent.EventType == 'QueensCourseAdultLevelBStartOfWaiting':\n",
    "            QueensTeachersAdultLevelBQueueLength.append(QueensQueueTeachersAdultLevelB.NumQueue())\n",
    "            QueensCourseAdultLevelBStartOfWaiting(NextEvent.WhichObject)\n",
    "            \n",
    "        elif NextEvent.EventType == 'QueensCourseAdultLevelBStart':\n",
    "            QueensCourseAdultLevelBStart(NextEvent.WhichObject)\n",
    "            \n",
    "        elif NextEvent.EventType == 'QueensCourseAdultLevelBEnd':\n",
    "            QueensCourseAdultLevelBEnd(NextEvent.WhichObject)\n",
    "            \n",
    "        elif NextEvent.EventType == 'QueensCourseAdultLevelCStartOfWaiting':\n",
    "            QueensTeachersAdultLevelCQueueLength.append(QueensQueueTeachersAdultLevelC.NumQueue())\n",
    "            QueensCourseAdultLevelCStartOfWaiting(NextEvent.WhichObject)\n",
    "            \n",
    "        elif NextEvent.EventType == 'QueensCourseAdultLevelCStart':\n",
    "            QueensCourseAdultLevelCStart(NextEvent.WhichObject)\n",
    "            \n",
    "        elif NextEvent.EventType == 'QueensCourseAdultLevelCEnd':\n",
    "            QueensCourseAdultLevelCEnd(NextEvent.WhichObject)\n",
    "            \n",
    "        elif NextEvent.EventType == 'QueensCareerCoachingStartOfWaiting':\n",
    "            QueensCareerCoachesQueueLength.append(QueensQueueCareerCoach.NumQueue())\n",
    "            QueensCareerCoachingStartOfWaiting(NextEvent.WhichObject)\n",
    "            \n",
    "        elif NextEvent.EventType == 'QueensCareerCoachingStart':\n",
    "            QueensCareerCoachingStart(NextEvent.WhichObject)\n",
    "            \n",
    "        elif NextEvent.EventType == 'QueensCareerCoachingEnd':\n",
    "            QueensCareerCoachingEnd(NextEvent.WhichObject)\n",
    "        ##########\n",
    "        ##BRONX##\n",
    "        elif NextEvent.EventType == 'BronxVerbalEvaluationStartOfWaiting':\n",
    "            BronxLanguageAssessorsQueueLength.append(BronxQueueLanguageAssessors.NumQueue())\n",
    "            BronxVerbalEvaluationStartOfWaiting(NextEvent.WhichObject)\n",
    "            \n",
    "        elif NextEvent.EventType == 'BronxVerbalEvaluationStart':\n",
    "            BronxVerbalEvaluationStart(NextEvent.WhichObject)\n",
    "            \n",
    "        elif NextEvent.EventType == 'BronxVerbalEvaluationEnd':\n",
    "            BronxVerbalEvaluationEnd(NextEvent.WhichObject)\n",
    "            \n",
    "        elif NextEvent.EventType == 'BronxCourseChildLevelAStartOfWaiting':\n",
    "            BronxTeachersChildLevelAQueueLength.append(BronxQueueTeachersChildLevelA.NumQueue())\n",
    "            BronxCourseChildLevelAStartOfWaiting(NextEvent.WhichObject)\n",
    "            \n",
    "        elif NextEvent.EventType == 'BronxCourseChildLevelAStart':\n",
    "            BronxCourseChildLevelAStart(NextEvent.WhichObject)\n",
    "            \n",
    "        elif NextEvent.EventType == 'BronxCourseChildLevelAEnd':\n",
    "            BronxCourseChildLevelAEnd(NextEvent.WhichObject)\n",
    "            \n",
    "        elif NextEvent.EventType == 'BronxCourseChildLevelBStartOfWaiting':\n",
    "            BronxTeachersChildLevelBQueueLength.append(BronxQueueTeachersChildLevelB.NumQueue())\n",
    "            BronxCourseChildLevelBStartOfWaiting(NextEvent.WhichObject)\n",
    "            \n",
    "        elif NextEvent.EventType == 'BronxCourseChildLevelBStart':\n",
    "            BronxCourseChildLevelBStart(NextEvent.WhichObject)\n",
    "            \n",
    "        elif NextEvent.EventType == 'BronxCourseChildLevelBEnd':\n",
    "            BronxCourseChildLevelBEnd(NextEvent.WhichObject)\n",
    "            \n",
    "        elif NextEvent.EventType == 'BronxCourseChildLevelCStartOfWaiting':\n",
    "            BronxTeachersChildLevelCQueueLength.append(BronxQueueTeachersChildLevelC.NumQueue())\n",
    "            BronxCourseChildLevelCStartOfWaiting(NextEvent.WhichObject)\n",
    "            \n",
    "        elif NextEvent.EventType == 'BronxCourseChildLevelCStart':\n",
    "            BronxCourseChildLevelCStart(NextEvent.WhichObject)\n",
    "            \n",
    "        elif NextEvent.EventType == 'BronxCourseChildLevelCEnd':\n",
    "            BronxCourseChildLevelCEnd(NextEvent.WhichObject)\n",
    "            \n",
    "        elif NextEvent.EventType == 'BronxCourseAdultLevelAStartOfWaiting':\n",
    "            BronxTeachersAdultLevelAQueueLength.append(BronxQueueTeachersAdultLevelA.NumQueue())\n",
    "            BronxCourseAdultLevelAStartOfWaiting(NextEvent.WhichObject)\n",
    "            \n",
    "        elif NextEvent.EventType == 'BronxCourseAdultLevelAStart':\n",
    "            BronxCourseAdultLevelAStart(NextEvent.WhichObject)\n",
    "            \n",
    "        elif NextEvent.EventType == 'BronxCourseAdultLevelAEnd':\n",
    "            BronxCourseAdultLevelAEnd(NextEvent.WhichObject)\n",
    "            \n",
    "        elif NextEvent.EventType == 'BronxCourseAdultLevelBStartOfWaiting':\n",
    "            BronxTeachersAdultLevelBQueueLength.append(BronxQueueTeachersAdultLevelB.NumQueue())\n",
    "            BronxCourseAdultLevelBStartOfWaiting(NextEvent.WhichObject)\n",
    "            \n",
    "        elif NextEvent.EventType == 'BronxCourseAdultLevelBStart':\n",
    "            BronxCourseAdultLevelBStart(NextEvent.WhichObject)\n",
    "            \n",
    "        elif NextEvent.EventType == 'BronxCourseAdultLevelBEnd':\n",
    "            BronxCourseAdultLevelBEnd(NextEvent.WhichObject)\n",
    "            \n",
    "        elif NextEvent.EventType == 'BronxCourseAdultLevelCStartOfWaiting':\n",
    "            BronxTeachersAdultLevelCQueueLength.append(BronxQueueTeachersAdultLevelC.NumQueue())\n",
    "            BronxCourseAdultLevelCStartOfWaiting(NextEvent.WhichObject)\n",
    "            \n",
    "        elif NextEvent.EventType == 'BronxCourseAdultLevelCStart':\n",
    "            BronxCourseAdultLevelCStart(NextEvent.WhichObject)\n",
    "            \n",
    "        elif NextEvent.EventType == 'BronxCourseAdultLevelCEnd':\n",
    "            BronxCourseAdultLevelCEnd(NextEvent.WhichObject)\n",
    "            \n",
    "        elif NextEvent.EventType == 'BronxCareerCoachingStartOfWaiting':\n",
    "            BronxCareerCoachesQueueLength.append(BronxQueueCareerCoach.NumQueue())\n",
    "            BronxCareerCoachingStartOfWaiting(NextEvent.WhichObject)\n",
    "            \n",
    "        elif NextEvent.EventType == 'BronxCareerCoachingStart':\n",
    "            BronxCareerCoachingStart(NextEvent.WhichObject)\n",
    "            \n",
    "        elif NextEvent.EventType == 'BronxCareerCoachingEnd':\n",
    "            BronxCareerCoachingEnd(NextEvent.WhichObject)\n",
    "        #########\n",
    "        ##STATENISLAND##\n",
    "        elif NextEvent.EventType == 'StatenIslandVerbalEvaluationStartOfWaiting':\n",
    "            StatenIslandLanguageAssessorsQueueLength.append(StatenIslandQueueLanguageAssessors.NumQueue())\n",
    "            StatenIslandVerbalEvaluationStartOfWaiting(NextEvent.WhichObject)\n",
    "            \n",
    "        elif NextEvent.EventType == 'StatenIslandVerbalEvaluationStart':\n",
    "            StatenIslandVerbalEvaluationStart(NextEvent.WhichObject)\n",
    "            \n",
    "        elif NextEvent.EventType == 'StatenIslandVerbalEvaluationEnd':\n",
    "            StatenIslandVerbalEvaluationEnd(NextEvent.WhichObject)\n",
    "            \n",
    "        elif NextEvent.EventType == 'StatenIslandCourseChildLevelAStartOfWaiting':\n",
    "            StatenIslandTeachersChildLevelAQueueLength.append(StatenIslandQueueTeachersChildLevelA.NumQueue())\n",
    "            StatenIslandCourseChildLevelAStartOfWaiting(NextEvent.WhichObject)\n",
    "            \n",
    "        elif NextEvent.EventType == 'StatenIslandCourseChildLevelAStart':\n",
    "            StatenIslandCourseChildLevelAStart(NextEvent.WhichObject)\n",
    "            \n",
    "        elif NextEvent.EventType == 'StatenIslandCourseChildLevelAEnd':\n",
    "            StatenIslandCourseChildLevelAEnd(NextEvent.WhichObject)\n",
    "            \n",
    "        elif NextEvent.EventType == 'StatenIslandCourseChildLevelBStartOfWaiting':\n",
    "            StatenIslandTeachersChildLevelBQueueLength.append(StatenIslandQueueTeachersChildLevelB.NumQueue())\n",
    "            StatenIslandCourseChildLevelBStartOfWaiting(NextEvent.WhichObject)\n",
    "            \n",
    "        elif NextEvent.EventType == 'StatenIslandCourseChildLevelBStart':\n",
    "            StatenIslandCourseChildLevelBStart(NextEvent.WhichObject)\n",
    "            \n",
    "        elif NextEvent.EventType == 'StatenIslandCourseChildLevelBEnd':\n",
    "            StatenIslandCourseChildLevelBEnd(NextEvent.WhichObject)\n",
    "            \n",
    "        elif NextEvent.EventType == 'StatenIslandCourseChildLevelCStartOfWaiting':\n",
    "            StatenIslandTeachersChildLevelCQueueLength.append(StatenIslandQueueTeachersChildLevelC.NumQueue())\n",
    "            StatenIslandCourseChildLevelCStartOfWaiting(NextEvent.WhichObject)\n",
    "            \n",
    "        elif NextEvent.EventType == 'StatenIslandCourseChildLevelCStart':\n",
    "            StatenIslandCourseChildLevelCStart(NextEvent.WhichObject)\n",
    "            \n",
    "        elif NextEvent.EventType == 'StatenIslandCourseChildLevelCEnd':\n",
    "            StatenIslandCourseChildLevelCEnd(NextEvent.WhichObject)\n",
    "            \n",
    "        elif NextEvent.EventType == 'StatenIslandCourseAdultLevelAStartOfWaiting':\n",
    "            StatenIslandTeachersAdultLevelAQueueLength.append(StatenIslandQueueTeachersAdultLevelA.NumQueue())\n",
    "            StatenIslandCourseAdultLevelAStartOfWaiting(NextEvent.WhichObject)\n",
    "            \n",
    "        elif NextEvent.EventType == 'StatenIslandCourseAdultLevelAStart':\n",
    "            StatenIslandCourseAdultLevelAStart(NextEvent.WhichObject)\n",
    "            \n",
    "        elif NextEvent.EventType == 'StatenIslandCourseAdultLevelAEnd':\n",
    "            StatenIslandCourseAdultLevelAEnd(NextEvent.WhichObject)\n",
    "            \n",
    "        elif NextEvent.EventType == 'StatenIslandCourseAdultLevelBStartOfWaiting':\n",
    "            StatenIslandTeachersAdultLevelBQueueLength.append(StatenIslandQueueTeachersAdultLevelB.NumQueue())\n",
    "            StatenIslandCourseAdultLevelBStartOfWaiting(NextEvent.WhichObject)\n",
    "            \n",
    "        elif NextEvent.EventType == 'StatenIslandCourseAdultLevelBStart':\n",
    "            StatenIslandCourseAdultLevelBStart(NextEvent.WhichObject)\n",
    "            \n",
    "        elif NextEvent.EventType == 'StatenIslandCourseAdultLevelBEnd':\n",
    "            StatenIslandCourseAdultLevelBEnd(NextEvent.WhichObject)\n",
    "            \n",
    "        elif NextEvent.EventType == 'StatenIslandCourseAdultLevelCStartOfWaiting':\n",
    "            StatenIslandTeachersAdultLevelCQueueLength.append(StatenIslandQueueTeachersAdultLevelC.NumQueue())\n",
    "            StatenIslandCourseAdultLevelCStartOfWaiting(NextEvent.WhichObject)\n",
    "            \n",
    "        elif NextEvent.EventType == 'StatenIslandCourseAdultLevelCStart':\n",
    "            StatenIslandCourseAdultLevelCStart(NextEvent.WhichObject)\n",
    "            \n",
    "        elif NextEvent.EventType == 'StatenIslandCourseAdultLevelCEnd':\n",
    "            StatenIslandCourseAdultLevelCEnd(NextEvent.WhichObject)\n",
    "            \n",
    "        elif NextEvent.EventType == 'StatenIslandCareerCoachingStartOfWaiting':\n",
    "            StatenIslandCareerCoachesQueueLength.append(StatenIslandQueueCareerCoach.NumQueue())\n",
    "            StatenIslandCareerCoachingStartOfWaiting(NextEvent.WhichObject)\n",
    "            \n",
    "        elif NextEvent.EventType == 'StatenIslandCareerCoachingStart':\n",
    "            StatenIslandCareerCoachingStart(NextEvent.WhichObject)\n",
    "            \n",
    "        elif NextEvent.EventType == 'StatenIslandCareerCoachingEnd':\n",
    "            StatenIslandCareerCoachingEnd(NextEvent.WhichObject)\n",
    "        #################\n",
    "        elif NextEvent.EventType == 'ProcessComplete':\n",
    "            ProcessComplete(NextEvent.WhichObject)\n",
    "            Immigrants_processed_by_borough_and_age[BoroughDict[NextEvent.WhichObject.getBorough()], AgeDict[NextEvent.WhichObject.getAge()]] += 1\n",
    "        elif NextEvent.EventType == 'EndSimulation':\n",
    "            break\n",
    "        else:\n",
    "            print(NextEvent.EventType)\n",
    "            print(\"ERROR : Unknown event type\")\n",
    "            break\n",
    "        \n",
    "        pbar_inner.update(1)\n",
    "    pbar_inner.close()\n",
    "\n",
    "    # At end of replication, store stats in lists\n",
    "    BrooklynLanguageAssessorsWaitTimeAVG.append(BrooklynLanguageAssessorsWaitTime.Mean())\n",
    "    BrooklynLanguageAssessorsQueueLengthAVG.append(BrooklynQueueLanguageAssessors.Mean())\n",
    "    BrooklynLanguageAssessorsBusyAVG.append(BrooklynLanguageAssessors.Mean())\n",
    "    \n",
    "    \n",
    "    BrooklynTeachersAdultLevelAWaitTimeAVG.append(BrooklynTeachersAdultLevelAWaitTime.Mean())\n",
    "    BrooklynTeachersAdultLevelAQueueLengthAVG.append(BrooklynQueueTeachersAdultLevelA.Mean())\n",
    "    BrooklynTeachersAdultLevelABusyAVG.append(BrooklynTeachersAdultLevelA.Mean())\n",
    "    \n",
    "    BrooklynTeachersAdultLevelBWaitTimeAVG.append(BrooklynTeachersAdultLevelBWaitTime.Mean())\n",
    "    BrooklynTeachersAdultLevelBQueueLengthAVG.append(BrooklynQueueTeachersAdultLevelB.Mean())\n",
    "    BrooklynTeachersAdultLevelBBusyAVG.append(BrooklynTeachersAdultLevelB.Mean())\n",
    "    \n",
    "    BrooklynTeachersAdultLevelCWaitTimeAVG.append(BrooklynTeachersAdultLevelCWaitTime.Mean())\n",
    "    BrooklynTeachersAdultLevelCQueueLengthAVG.append(BrooklynQueueTeachersAdultLevelC.Mean())\n",
    "    BrooklynTeachersAdultLevelCBusyAVG.append(BrooklynTeachersAdultLevelC.Mean())\n",
    "    \n",
    "    BrooklynTeachersChildLevelAWaitTimeAVG.append(BrooklynTeachersChildLevelAWaitTime.Mean())\n",
    "    BrooklynTeachersChildLevelAQueueLengthAVG.append(BrooklynQueueTeachersChildLevelA.Mean())\n",
    "    BrooklynTeachersChildLevelABusyAVG.append(BrooklynTeachersChildLevelA.Mean())\n",
    "    \n",
    "    BrooklynTeachersChildLevelBWaitTimeAVG.append(BrooklynTeachersChildLevelBWaitTime.Mean())\n",
    "    BrooklynTeachersChildLevelBQueueLengthAVG.append(BrooklynQueueTeachersChildLevelB.Mean())\n",
    "    BrooklynTeachersChildLevelBBusyAVG.append(BrooklynTeachersChildLevelB.Mean())\n",
    "    \n",
    "    BrooklynTeachersChildLevelCWaitTimeAVG.append(BrooklynTeachersChildLevelCWaitTime.Mean())\n",
    "    BrooklynTeachersChildLevelCQueueLengthAVG.append(BrooklynQueueTeachersChildLevelC.Mean())\n",
    "    BrooklynTeachersChildLevelCBusyAVG.append(BrooklynTeachersChildLevelC.Mean())\n",
    "    \n",
    "    BrooklynCareerCoachWaitTimeAVG.append(BrooklynCareerCoachWaitTime.Mean())\n",
    "    BrooklynCareerCoachQueueLengthAVG.append(BrooklynQueueCareerCoach.Mean())\n",
    "    BrooklynCareerCoachBusyAVG.append(BrooklynCareerCoach.Mean())\n",
    "    \n",
    "    BrooklynFluentChildrenTotalProcessTimeAVG.append(BrooklynFluentChildrenTotalProcessTime.Mean())\n",
    "    BrooklynLevelAChildrenTotalProcessTimeAVG.append(BrooklynLevelAChildrenTotalProcessTime.Mean())\n",
    "    BrooklynLevelBChildrenTotalProcessTimeAVG.append(BrooklynLevelBChildrenTotalProcessTime.Mean())\n",
    "    BrooklynLevelCChildrenTotalProcessTimeAVG.append(BrooklynLevelCChildrenTotalProcessTime.Mean())\n",
    "    \n",
    "    BrooklynFluentEducatedAdultTotalProcessTimeAVG.append(BrooklynFluentEducatedAdultTotalProcessTime.Mean())\n",
    "    BrooklynLevelAEducatedAdultTotalProcessTimeAVG.append(BrooklynLevelAEducatedAdultTotalProcessTime.Mean())\n",
    "    BrooklynLevelBEducatedAdultTotalProcessTimeAVG.append(BrooklynLevelBEducatedAdultTotalProcessTime.Mean())\n",
    "    BrooklynLevelCEducatedAdultTotalProcessTimeAVG.append(BrooklynLevelCEducatedAdultTotalProcessTime.Mean())\n",
    "    BrooklynFluentUneducatedAdultTotalProcessTimeAVG.append(BrooklynFluentUneducatedAdultTotalProcessTime.Mean())\n",
    "    BrooklynLevelAUneducatedAdultTotalProcessTimeAVG.append(BrooklynLevelAUneducatedAdultTotalProcessTime.Mean())\n",
    "    BrooklynLevelBUneducatedAdultTotalProcessTimeAVG.append(BrooklynLevelBUneducatedAdultTotalProcessTime.Mean())\n",
    "    BrooklynLevelCUneducatedAdultTotalProcessTimeAVG.append(BrooklynLevelCUneducatedAdultTotalProcessTime.Mean())\n",
    "    \n",
    "    BrooklynFluentOldTotalProcessTimeAVG.append(BrooklynFluentOldTotalProcessTime.Mean())\n",
    "    BrooklynLevelAOldTotalProcessTimeAVG.append(BrooklynLevelAOldTotalProcessTime.Mean())\n",
    "    BrooklynLevelBOldTotalProcessTimeAVG.append(BrooklynLevelBOldTotalProcessTime.Mean())\n",
    "    BrooklynLevelCOldTotalProcessTimeAVG.append(BrooklynLevelCOldTotalProcessTime.Mean())\n",
    "    \n",
    "    BrooklynTotalProcessTimeAVG.append(BrooklynTotalProcessTime.Mean())\n",
    "    \n",
    "    ManhattanLanguageAssessorsWaitTimeAVG.append(ManhattanLanguageAssessorsWaitTime.Mean())\n",
    "    ManhattanLanguageAssessorsQueueLengthAVG.append(ManhattanQueueLanguageAssessors.Mean())\n",
    "    ManhattanLanguageAssessorsBusyAVG.append(ManhattanLanguageAssessors.Mean())\n",
    "    \n",
    "    ManhattanTeachersAdultLevelAWaitTimeAVG.append(ManhattanTeachersAdultLevelAWaitTime.Mean())\n",
    "    ManhattanTeachersAdultLevelAQueueLengthAVG.append(ManhattanQueueTeachersAdultLevelA.Mean())\n",
    "    ManhattanTeachersAdultLevelABusyAVG.append(ManhattanTeachersAdultLevelA.Mean())\n",
    "    \n",
    "    ManhattanTeachersAdultLevelBWaitTimeAVG.append(ManhattanTeachersAdultLevelBWaitTime.Mean())\n",
    "    ManhattanTeachersAdultLevelBQueueLengthAVG.append(ManhattanQueueTeachersAdultLevelB.Mean())\n",
    "    ManhattanTeachersAdultLevelBBusyAVG.append(ManhattanTeachersAdultLevelB.Mean())\n",
    "    \n",
    "    ManhattanTeachersAdultLevelCWaitTimeAVG.append(ManhattanTeachersAdultLevelCWaitTime.Mean())\n",
    "    ManhattanTeachersAdultLevelCQueueLengthAVG.append(ManhattanQueueTeachersAdultLevelC.Mean())\n",
    "    ManhattanTeachersAdultLevelCBusyAVG.append(ManhattanTeachersAdultLevelC.Mean())\n",
    "    \n",
    "    ManhattanTeachersChildLevelAWaitTimeAVG.append(ManhattanTeachersChildLevelAWaitTime.Mean())\n",
    "    ManhattanTeachersChildLevelAQueueLengthAVG.append(ManhattanQueueTeachersChildLevelA.Mean())\n",
    "    ManhattanTeachersChildLevelABusyAVG.append(ManhattanTeachersChildLevelA.Mean())\n",
    "    \n",
    "    ManhattanTeachersChildLevelBWaitTimeAVG.append(ManhattanTeachersChildLevelBWaitTime.Mean())\n",
    "    ManhattanTeachersChildLevelBQueueLengthAVG.append(ManhattanQueueTeachersChildLevelB.Mean())\n",
    "    ManhattanTeachersChildLevelBBusyAVG.append(ManhattanTeachersChildLevelB.Mean())\n",
    "    \n",
    "    ManhattanTeachersChildLevelCWaitTimeAVG.append(ManhattanTeachersChildLevelCWaitTime.Mean())\n",
    "    ManhattanTeachersChildLevelCQueueLengthAVG.append(ManhattanQueueTeachersChildLevelC.Mean())\n",
    "    ManhattanTeachersChildLevelCBusyAVG.append(ManhattanTeachersChildLevelC.Mean())\n",
    "    \n",
    "    ManhattanCareerCoachWaitTimeAVG.append(ManhattanCareerCoachWaitTime.Mean())\n",
    "    ManhattanCareerCoachQueueLengthAVG.append(ManhattanQueueCareerCoach.Mean())\n",
    "    ManhattanCareerCoachBusyAVG.append(ManhattanCareerCoach.Mean())\n",
    "    \n",
    "    ManhattanFluentChildrenTotalProcessTimeAVG.append(ManhattanFluentChildrenTotalProcessTime.Mean())\n",
    "    ManhattanLevelAChildrenTotalProcessTimeAVG.append(ManhattanLevelAChildrenTotalProcessTime.Mean())\n",
    "    ManhattanLevelBChildrenTotalProcessTimeAVG.append(ManhattanLevelBChildrenTotalProcessTime.Mean())\n",
    "    ManhattanLevelCChildrenTotalProcessTimeAVG.append(ManhattanLevelCChildrenTotalProcessTime.Mean())\n",
    "    \n",
    "    ManhattanFluentEducatedAdultTotalProcessTimeAVG.append(ManhattanFluentEducatedAdultTotalProcessTime.Mean())\n",
    "    ManhattanLevelAEducatedAdultTotalProcessTimeAVG.append(ManhattanLevelAEducatedAdultTotalProcessTime.Mean())\n",
    "    ManhattanLevelBEducatedAdultTotalProcessTimeAVG.append(ManhattanLevelBEducatedAdultTotalProcessTime.Mean())\n",
    "    ManhattanLevelCEducatedAdultTotalProcessTimeAVG.append(ManhattanLevelCEducatedAdultTotalProcessTime.Mean())\n",
    "    ManhattanFluentUneducatedAdultTotalProcessTimeAVG.append(ManhattanFluentUneducatedAdultTotalProcessTime.Mean())\n",
    "    ManhattanLevelAUneducatedAdultTotalProcessTimeAVG.append(ManhattanLevelAUneducatedAdultTotalProcessTime.Mean())\n",
    "    ManhattanLevelBUneducatedAdultTotalProcessTimeAVG.append(ManhattanLevelBUneducatedAdultTotalProcessTime.Mean())\n",
    "    ManhattanLevelCUneducatedAdultTotalProcessTimeAVG.append(ManhattanLevelCUneducatedAdultTotalProcessTime.Mean())\n",
    "    \n",
    "    ManhattanFluentOldTotalProcessTimeAVG.append(ManhattanFluentOldTotalProcessTime.Mean())\n",
    "    ManhattanLevelAOldTotalProcessTimeAVG.append(ManhattanLevelAOldTotalProcessTime.Mean())\n",
    "    ManhattanLevelBOldTotalProcessTimeAVG.append(ManhattanLevelBOldTotalProcessTime.Mean())\n",
    "    ManhattanLevelCOldTotalProcessTimeAVG.append(ManhattanLevelCOldTotalProcessTime.Mean())\n",
    "    \n",
    "    ManhattanTotalProcessTimeAVG.append(ManhattanTotalProcessTime.Mean())\n",
    "    \n",
    "    QueensLanguageAssessorsWaitTimeAVG.append(QueensLanguageAssessorsWaitTime.Mean())\n",
    "    QueensLanguageAssessorsQueueLengthAVG.append(QueensQueueLanguageAssessors.Mean())\n",
    "    QueensLanguageAssessorsBusyAVG.append(QueensLanguageAssessors.Mean())\n",
    "    \n",
    "    QueensTeachersAdultLevelAWaitTimeAVG.append(QueensTeachersAdultLevelAWaitTime.Mean())\n",
    "    QueensTeachersAdultLevelAQueueLengthAVG.append(QueensQueueTeachersAdultLevelA.Mean())\n",
    "    QueensTeachersAdultLevelABusyAVG.append(QueensTeachersAdultLevelA.Mean())\n",
    "    \n",
    "    QueensTeachersAdultLevelBWaitTimeAVG.append(QueensTeachersAdultLevelBWaitTime.Mean())\n",
    "    QueensTeachersAdultLevelBQueueLengthAVG.append(QueensQueueTeachersAdultLevelB.Mean())\n",
    "    QueensTeachersAdultLevelBBusyAVG.append(QueensTeachersAdultLevelB.Mean())\n",
    "    \n",
    "    QueensTeachersAdultLevelCWaitTimeAVG.append(QueensTeachersAdultLevelCWaitTime.Mean())\n",
    "    QueensTeachersAdultLevelCQueueLengthAVG.append(QueensQueueTeachersAdultLevelC.Mean())\n",
    "    QueensTeachersAdultLevelCBusyAVG.append(QueensTeachersAdultLevelC.Mean())\n",
    "    \n",
    "    QueensTeachersChildLevelAWaitTimeAVG.append(QueensTeachersChildLevelAWaitTime.Mean())\n",
    "    QueensTeachersChildLevelAQueueLengthAVG.append(QueensQueueTeachersChildLevelA.Mean())\n",
    "    QueensTeachersChildLevelABusyAVG.append(QueensTeachersChildLevelA.Mean())\n",
    "    \n",
    "    QueensTeachersChildLevelBWaitTimeAVG.append(QueensTeachersChildLevelBWaitTime.Mean())\n",
    "    QueensTeachersChildLevelBQueueLengthAVG.append(QueensQueueTeachersChildLevelB.Mean())\n",
    "    QueensTeachersChildLevelBBusyAVG.append(QueensTeachersChildLevelB.Mean())\n",
    "    \n",
    "    QueensTeachersChildLevelCWaitTimeAVG.append(QueensTeachersChildLevelCWaitTime.Mean())\n",
    "    QueensTeachersChildLevelCQueueLengthAVG.append(QueensQueueTeachersChildLevelC.Mean())\n",
    "    QueensTeachersChildLevelCBusyAVG.append(QueensTeachersChildLevelC.Mean())\n",
    "    \n",
    "    QueensCareerCoachWaitTimeAVG.append(QueensCareerCoachWaitTime.Mean())\n",
    "    QueensCareerCoachQueueLengthAVG.append(QueensQueueCareerCoach.Mean())\n",
    "    QueensCareerCoachBusyAVG.append(QueensCareerCoach.Mean())\n",
    "    \n",
    "    QueensFluentChildrenTotalProcessTimeAVG.append(QueensFluentChildrenTotalProcessTime.Mean())\n",
    "    QueensLevelAChildrenTotalProcessTimeAVG.append(QueensLevelAChildrenTotalProcessTime.Mean())\n",
    "    QueensLevelBChildrenTotalProcessTimeAVG.append(QueensLevelBChildrenTotalProcessTime.Mean())\n",
    "    QueensLevelCChildrenTotalProcessTimeAVG.append(QueensLevelCChildrenTotalProcessTime.Mean())\n",
    "    \n",
    "    QueensFluentEducatedAdultTotalProcessTimeAVG.append(QueensFluentEducatedAdultTotalProcessTime.Mean())\n",
    "    QueensLevelAEducatedAdultTotalProcessTimeAVG.append(QueensLevelAEducatedAdultTotalProcessTime.Mean())\n",
    "    QueensLevelBEducatedAdultTotalProcessTimeAVG.append(QueensLevelBEducatedAdultTotalProcessTime.Mean())\n",
    "    QueensLevelCEducatedAdultTotalProcessTimeAVG.append(QueensLevelCEducatedAdultTotalProcessTime.Mean())\n",
    "    QueensFluentUneducatedAdultTotalProcessTimeAVG.append(QueensFluentUneducatedAdultTotalProcessTime.Mean())\n",
    "    QueensLevelAUneducatedAdultTotalProcessTimeAVG.append(QueensLevelAUneducatedAdultTotalProcessTime.Mean())\n",
    "    QueensLevelBUneducatedAdultTotalProcessTimeAVG.append(QueensLevelBUneducatedAdultTotalProcessTime.Mean())\n",
    "    QueensLevelCUneducatedAdultTotalProcessTimeAVG.append(QueensLevelCUneducatedAdultTotalProcessTime.Mean())\n",
    "    \n",
    "    QueensFluentOldTotalProcessTimeAVG.append(QueensFluentOldTotalProcessTime.Mean())\n",
    "    QueensLevelAOldTotalProcessTimeAVG.append(QueensLevelAOldTotalProcessTime.Mean())\n",
    "    QueensLevelBOldTotalProcessTimeAVG.append(QueensLevelBOldTotalProcessTime.Mean())\n",
    "    QueensLevelCOldTotalProcessTimeAVG.append(QueensLevelCOldTotalProcessTime.Mean())\n",
    "    \n",
    "    QueensTotalProcessTimeAVG.append(QueensTotalProcessTime.Mean())\n",
    "    \n",
    "    BronxLanguageAssessorsWaitTimeAVG.append(BronxLanguageAssessorsWaitTime.Mean())\n",
    "    BronxLanguageAssessorsQueueLengthAVG.append(BronxQueueLanguageAssessors.Mean())\n",
    "    BronxLanguageAssessorsBusyAVG.append(BronxLanguageAssessors.Mean())\n",
    "    \n",
    "    BronxTeachersAdultLevelAWaitTimeAVG.append(BronxTeachersAdultLevelAWaitTime.Mean())\n",
    "    BronxTeachersAdultLevelAQueueLengthAVG.append(BronxQueueTeachersAdultLevelA.Mean())\n",
    "    BronxTeachersAdultLevelABusyAVG.append(BronxTeachersAdultLevelA.Mean())\n",
    "    \n",
    "    BronxTeachersAdultLevelBWaitTimeAVG.append(BronxTeachersAdultLevelBWaitTime.Mean())\n",
    "    BronxTeachersAdultLevelBQueueLengthAVG.append(BronxQueueTeachersAdultLevelB.Mean())\n",
    "    BronxTeachersAdultLevelBBusyAVG.append(BronxTeachersAdultLevelB.Mean())\n",
    "    \n",
    "    BronxTeachersAdultLevelCWaitTimeAVG.append(BronxTeachersAdultLevelCWaitTime.Mean())\n",
    "    BronxTeachersAdultLevelCQueueLengthAVG.append(BronxQueueTeachersAdultLevelC.Mean())\n",
    "    BronxTeachersAdultLevelCBusyAVG.append(BronxTeachersAdultLevelC.Mean())\n",
    "    \n",
    "    BronxTeachersChildLevelAWaitTimeAVG.append(BronxTeachersChildLevelAWaitTime.Mean())\n",
    "    BronxTeachersChildLevelAQueueLengthAVG.append(BronxQueueTeachersChildLevelA.Mean())\n",
    "    BronxTeachersChildLevelABusyAVG.append(BronxTeachersChildLevelA.Mean())\n",
    "    \n",
    "    BronxTeachersChildLevelBWaitTimeAVG.append(BronxTeachersChildLevelBWaitTime.Mean())\n",
    "    BronxTeachersChildLevelBQueueLengthAVG.append(BronxQueueTeachersChildLevelB.Mean())\n",
    "    BronxTeachersChildLevelBBusyAVG.append(BronxTeachersChildLevelB.Mean())\n",
    "    \n",
    "    BronxTeachersChildLevelCWaitTimeAVG.append(BronxTeachersChildLevelCWaitTime.Mean())\n",
    "    BronxTeachersChildLevelCQueueLengthAVG.append(BronxQueueTeachersChildLevelC.Mean())\n",
    "    BronxTeachersChildLevelCBusyAVG.append(BronxTeachersChildLevelC.Mean())\n",
    "    \n",
    "    BronxCareerCoachWaitTimeAVG.append(BronxCareerCoachWaitTime.Mean())\n",
    "    BronxCareerCoachQueueLengthAVG.append(BronxQueueCareerCoach.Mean())\n",
    "    BronxCareerCoachBusyAVG.append(BronxCareerCoach.Mean())\n",
    "    \n",
    "    BronxFluentChildrenTotalProcessTimeAVG.append(BronxFluentChildrenTotalProcessTime.Mean())\n",
    "    BronxLevelAChildrenTotalProcessTimeAVG.append(BronxLevelAChildrenTotalProcessTime.Mean())\n",
    "    BronxLevelBChildrenTotalProcessTimeAVG.append(BronxLevelBChildrenTotalProcessTime.Mean())\n",
    "    BronxLevelCChildrenTotalProcessTimeAVG.append(BronxLevelCChildrenTotalProcessTime.Mean())\n",
    "    \n",
    "    BronxFluentEducatedAdultTotalProcessTimeAVG.append(BronxFluentEducatedAdultTotalProcessTime.Mean())\n",
    "    BronxLevelAEducatedAdultTotalProcessTimeAVG.append(BronxLevelAEducatedAdultTotalProcessTime.Mean())\n",
    "    BronxLevelBEducatedAdultTotalProcessTimeAVG.append(BronxLevelBEducatedAdultTotalProcessTime.Mean())\n",
    "    BronxLevelCEducatedAdultTotalProcessTimeAVG.append(BronxLevelCEducatedAdultTotalProcessTime.Mean())\n",
    "    BronxFluentUneducatedAdultTotalProcessTimeAVG.append(BronxFluentUneducatedAdultTotalProcessTime.Mean())\n",
    "    BronxLevelAUneducatedAdultTotalProcessTimeAVG.append(BronxLevelAUneducatedAdultTotalProcessTime.Mean())\n",
    "    BronxLevelBUneducatedAdultTotalProcessTimeAVG.append(BronxLevelBUneducatedAdultTotalProcessTime.Mean())\n",
    "    BronxLevelCUneducatedAdultTotalProcessTimeAVG.append(BronxLevelCUneducatedAdultTotalProcessTime.Mean())\n",
    "    \n",
    "    BronxFluentOldTotalProcessTimeAVG.append(BronxFluentOldTotalProcessTime.Mean())\n",
    "    BronxLevelAOldTotalProcessTimeAVG.append(BronxLevelAOldTotalProcessTime.Mean())\n",
    "    BronxLevelBOldTotalProcessTimeAVG.append(BronxLevelBOldTotalProcessTime.Mean())\n",
    "    BronxLevelCOldTotalProcessTimeAVG.append(BronxLevelCOldTotalProcessTime.Mean())\n",
    "    \n",
    "    BronxTotalProcessTimeAVG.append(BronxTotalProcessTime.Mean())\n",
    "    \n",
    "    StatenIslandLanguageAssessorsWaitTimeAVG.append(StatenIslandLanguageAssessorsWaitTime.Mean())\n",
    "    StatenIslandLanguageAssessorsQueueLengthAVG.append(StatenIslandQueueLanguageAssessors.Mean())\n",
    "    StatenIslandLanguageAssessorsBusyAVG.append(StatenIslandLanguageAssessors.Mean())\n",
    "    \n",
    "    StatenIslandTeachersAdultLevelAWaitTimeAVG.append(StatenIslandTeachersAdultLevelAWaitTime.Mean())\n",
    "    StatenIslandTeachersAdultLevelAQueueLengthAVG.append(StatenIslandQueueTeachersAdultLevelA.Mean())\n",
    "    StatenIslandTeachersAdultLevelABusyAVG.append(StatenIslandTeachersAdultLevelA.Mean())\n",
    "    \n",
    "    StatenIslandTeachersAdultLevelBWaitTimeAVG.append(StatenIslandTeachersAdultLevelBWaitTime.Mean())\n",
    "    StatenIslandTeachersAdultLevelBQueueLengthAVG.append(StatenIslandQueueTeachersAdultLevelB.Mean())\n",
    "    StatenIslandTeachersAdultLevelBBusyAVG.append(StatenIslandTeachersAdultLevelB.Mean())\n",
    "    \n",
    "    StatenIslandTeachersAdultLevelCWaitTimeAVG.append(StatenIslandTeachersAdultLevelCWaitTime.Mean())\n",
    "    StatenIslandTeachersAdultLevelCQueueLengthAVG.append(StatenIslandQueueTeachersAdultLevelC.Mean())\n",
    "    StatenIslandTeachersAdultLevelCBusyAVG.append(StatenIslandTeachersAdultLevelC.Mean())\n",
    "    \n",
    "    StatenIslandTeachersChildLevelAWaitTimeAVG.append(StatenIslandTeachersChildLevelAWaitTime.Mean())\n",
    "    StatenIslandTeachersChildLevelAQueueLengthAVG.append(StatenIslandQueueTeachersChildLevelA.Mean())\n",
    "    StatenIslandTeachersChildLevelABusyAVG.append(StatenIslandTeachersChildLevelA.Mean())\n",
    "    \n",
    "    StatenIslandTeachersChildLevelBWaitTimeAVG.append(StatenIslandTeachersChildLevelBWaitTime.Mean())\n",
    "    StatenIslandTeachersChildLevelBQueueLengthAVG.append(StatenIslandQueueTeachersChildLevelB.Mean())\n",
    "    StatenIslandTeachersChildLevelBBusyAVG.append(StatenIslandTeachersChildLevelB.Mean())\n",
    "    \n",
    "    StatenIslandTeachersChildLevelCWaitTimeAVG.append(StatenIslandTeachersChildLevelCWaitTime.Mean())\n",
    "    StatenIslandTeachersChildLevelCQueueLengthAVG.append(StatenIslandQueueTeachersChildLevelC.Mean())\n",
    "    StatenIslandTeachersChildLevelCBusyAVG.append(StatenIslandTeachersChildLevelC.Mean())\n",
    "    \n",
    "    StatenIslandCareerCoachWaitTimeAVG.append(StatenIslandCareerCoachWaitTime.Mean())\n",
    "    StatenIslandCareerCoachQueueLengthAVG.append(StatenIslandQueueCareerCoach.Mean())\n",
    "    StatenIslandCareerCoachBusyAVG.append(StatenIslandCareerCoach.Mean())\n",
    "    \n",
    "    StatenIslandFluentChildrenTotalProcessTimeAVG.append(StatenIslandFluentChildrenTotalProcessTime.Mean())\n",
    "    StatenIslandLevelAChildrenTotalProcessTimeAVG.append(StatenIslandLevelAChildrenTotalProcessTime.Mean())\n",
    "    StatenIslandLevelBChildrenTotalProcessTimeAVG.append(StatenIslandLevelBChildrenTotalProcessTime.Mean())\n",
    "    StatenIslandLevelCChildrenTotalProcessTimeAVG.append(StatenIslandLevelCChildrenTotalProcessTime.Mean())\n",
    "    \n",
    "    StatenIslandFluentEducatedAdultTotalProcessTimeAVG.append(StatenIslandFluentEducatedAdultTotalProcessTime.Mean())\n",
    "    StatenIslandLevelAEducatedAdultTotalProcessTimeAVG.append(StatenIslandLevelAEducatedAdultTotalProcessTime.Mean())\n",
    "    StatenIslandLevelBEducatedAdultTotalProcessTimeAVG.append(StatenIslandLevelBEducatedAdultTotalProcessTime.Mean())\n",
    "    StatenIslandLevelCEducatedAdultTotalProcessTimeAVG.append(StatenIslandLevelCEducatedAdultTotalProcessTime.Mean())\n",
    "    StatenIslandFluentUneducatedAdultTotalProcessTimeAVG.append(StatenIslandFluentUneducatedAdultTotalProcessTime.Mean())\n",
    "    StatenIslandLevelAUneducatedAdultTotalProcessTimeAVG.append(StatenIslandLevelAUneducatedAdultTotalProcessTime.Mean())\n",
    "    StatenIslandLevelBUneducatedAdultTotalProcessTimeAVG.append(StatenIslandLevelBUneducatedAdultTotalProcessTime.Mean())\n",
    "    StatenIslandLevelCUneducatedAdultTotalProcessTimeAVG.append(StatenIslandLevelCUneducatedAdultTotalProcessTime.Mean())\n",
    "    \n",
    "    StatenIslandFluentOldTotalProcessTimeAVG.append(StatenIslandFluentOldTotalProcessTime.Mean())\n",
    "    StatenIslandLevelAOldTotalProcessTimeAVG.append(StatenIslandLevelAOldTotalProcessTime.Mean())\n",
    "    StatenIslandLevelBOldTotalProcessTimeAVG.append(StatenIslandLevelBOldTotalProcessTime.Mean())\n",
    "    StatenIslandLevelCOldTotalProcessTimeAVG.append(StatenIslandLevelCOldTotalProcessTime.Mean())\n",
    "    \n",
    "    StatenIslandTotalProcessTimeAVG.append(StatenIslandTotalProcessTime.Mean())\n",
    "    \n",
    "    Immigrants_successfully_processed_avg += Immigrants_processed_by_borough_and_age/5\n",
    "    \n",
    "    pbar_outer.set_description(f\"Running Simulation - {rep+1}/{Epochs}\")\n",
    "    pbar_outer.update(1)\n",
    "# Close the outer progress bar\n",
    "pbar_outer.close()"
   ]
  },
  {
   "cell_type": "code",
   "execution_count": 349,
   "id": "8aa521aeb4628c98",
   "metadata": {
    "ExecuteTime": {
     "end_time": "2024-03-30T23:31:46.696219Z",
     "start_time": "2024-03-30T23:31:46.637969Z"
    },
    "collapsed": false
   },
   "outputs": [
    {
     "name": "stdout",
     "output_type": "stream",
     "text": [
      "Simulation Results Saved to BrooklynResultsMode4_6.csv\n",
      "**********************************************************************************\n",
      "Means of the simulation results:\n",
      "Language Assessment Average Wait Time                     0.000659\n",
      "Language Assessment Average Queue Length                  0.010900\n",
      "Language Assessors Average Utilization                    0.393790\n",
      "Adult Level A Course Average Wait Time                   10.235814\n",
      "Adult Level A Course Average Queue Length                38.880208\n",
      "Teachers Adult Level A Course Average Utilization         0.237840\n",
      "Adult Level B Course Average Wait Time                   60.260987\n",
      "Adult Level B Course Average Queue Length               358.630263\n",
      "Teachers Adult Level B Course Average Utilization         0.613085\n",
      "Adult Level C Course Average Wait Time                  162.250443\n",
      "Adult Level C Course Average Queue Length               790.071156\n",
      "Teachers Adult Level C Course Average Utilization         0.834283\n",
      "Children Level A Course Average Wait Time                81.927415\n",
      "Children Level A Course Average Queue Length             15.400441\n",
      "Teachers Children Level A Course Average Utilization      0.382382\n",
      "Children Level B Course Average Wait Time               105.419404\n",
      "Children Level B Course Average Queue Length             31.606061\n",
      "Teachers Children Level B Course Average Utilization      0.717304\n",
      "Children Level C Course Average Wait Time               184.597506\n",
      "Children Level C Course Average Queue Length             42.966063\n",
      "Teachers Children Level C Course Average Utilization      0.787295\n",
      "Career Guidance Average Wait Time                        73.831507\n",
      "Career Guidance Average Queue Length                    625.397755\n",
      "Career Guides Average Utilization                         0.651321\n",
      "Fluent Children Total Processing Time                     0.167336\n",
      "Level A Children Total Processing Time                  255.816537\n",
      "Level B Children Total Processing Time                  460.214018\n",
      "Level C Children Total Processing Time                  719.505708\n",
      "Fluent Educated Adult Total Processing Time               0.167361\n",
      "Level A Educated Adult Total Processing Time            184.379643\n",
      "Level B Educated Adult Total Processing Time            417.458771\n",
      "Level C Educated Adult Total Processing Time            697.163613\n",
      "Fluent Uneducated Adult Total Processing Time            49.484897\n",
      "Level A Uneducated Adult Total Processing Time          240.481228\n",
      "Level B Uneducated Adult Total Processing Time          487.888993\n",
      "Level C Uneducated Adult Total Processing Time          810.935138\n",
      "Fluent Old Total Processing Time                          0.167352\n",
      "Level A Old Total Processing Time                       224.168849\n",
      "Level B Old Total Processing Time                       467.923058\n",
      "Level C Old Total Processing Time                       780.778100\n",
      "Total Average Processing Time                           430.253039\n",
      "dtype: float64\n",
      "**********************************************************************************\n",
      "99% Confidence Intervals Half-Width\n",
      "Language Assessment Average Wait Time                    0.000028\n",
      "Language Assessment Average Queue Length                 0.000469\n",
      "Language Assessors Average Utilization                   0.001260\n",
      "Adult Level A Course Average Wait Time                   0.318590\n",
      "Adult Level A Course Average Queue Length                1.312723\n",
      "Teachers Adult Level A Course Average Utilization        0.005374\n",
      "Adult Level B Course Average Wait Time                   0.893715\n",
      "Adult Level B Course Average Queue Length                5.740628\n",
      "Teachers Adult Level B Course Average Utilization        0.004809\n",
      "Adult Level C Course Average Wait Time                   2.143336\n",
      "Adult Level C Course Average Queue Length                9.993756\n",
      "Teachers Adult Level C Course Average Utilization        0.003806\n",
      "Children Level A Course Average Wait Time                2.555146\n",
      "Children Level A Course Average Queue Length             0.378765\n",
      "Teachers Children Level A Course Average Utilization     0.043013\n",
      "Children Level B Course Average Wait Time                5.686214\n",
      "Children Level B Course Average Queue Length             1.960708\n",
      "Teachers Children Level B Course Average Utilization     0.028439\n",
      "Children Level C Course Average Wait Time               12.265649\n",
      "Children Level C Course Average Queue Length             2.805477\n",
      "Teachers Children Level C Course Average Utilization     0.030822\n",
      "Career Guidance Average Wait Time                        2.116279\n",
      "Career Guidance Average Queue Length                    20.207379\n",
      "Career Guides Average Utilization                        0.002975\n",
      "Fluent Children Total Processing Time                    0.000267\n",
      "Level A Children Total Processing Time                   2.606959\n",
      "Level B Children Total Processing Time                   5.827886\n",
      "Level C Children Total Processing Time                  11.318584\n",
      "Fluent Educated Adult Total Processing Time              0.000149\n",
      "Level A Educated Adult Total Processing Time             0.475677\n",
      "Level B Educated Adult Total Processing Time             1.684710\n",
      "Level C Educated Adult Total Processing Time             2.732598\n",
      "Fluent Uneducated Adult Total Processing Time            1.866800\n",
      "Level A Uneducated Adult Total Processing Time           1.932082\n",
      "Level B Uneducated Adult Total Processing Time           2.626523\n",
      "Level C Uneducated Adult Total Processing Time           5.074647\n",
      "Fluent Old Total Processing Time                         0.000163\n",
      "Level A Old Total Processing Time                        1.628265\n",
      "Level B Old Total Processing Time                        2.187687\n",
      "Level C Old Total Processing Time                        4.289116\n",
      "Total Average Processing Time                            2.108125\n",
      "dtype: float64\n",
      "**********************************************************************************\n",
      "Error:\n",
      "Language Assessment Average Wait Time                   0.042025\n",
      "Language Assessment Average Queue Length                0.042989\n",
      "Language Assessors Average Utilization                  0.003199\n",
      "Adult Level A Course Average Wait Time                  0.031125\n",
      "Adult Level A Course Average Queue Length               0.033763\n",
      "Teachers Adult Level A Course Average Utilization       0.022593\n",
      "Adult Level B Course Average Wait Time                  0.014831\n",
      "Adult Level B Course Average Queue Length               0.016007\n",
      "Teachers Adult Level B Course Average Utilization       0.007844\n",
      "Adult Level C Course Average Wait Time                  0.013210\n",
      "Adult Level C Course Average Queue Length               0.012649\n",
      "Teachers Adult Level C Course Average Utilization       0.004562\n",
      "Children Level A Course Average Wait Time               0.031188\n",
      "Children Level A Course Average Queue Length            0.024594\n",
      "Teachers Children Level A Course Average Utilization    0.112487\n",
      "Children Level B Course Average Wait Time               0.053939\n",
      "Children Level B Course Average Queue Length            0.062036\n",
      "Teachers Children Level B Course Average Utilization    0.039648\n",
      "Children Level C Course Average Wait Time               0.066445\n",
      "Children Level C Course Average Queue Length            0.065295\n",
      "Teachers Children Level C Course Average Utilization    0.039150\n",
      "Career Guidance Average Wait Time                       0.028664\n",
      "Career Guidance Average Queue Length                    0.032311\n",
      "Career Guides Average Utilization                       0.004568\n",
      "Fluent Children Total Processing Time                   0.001595\n",
      "Level A Children Total Processing Time                  0.010191\n",
      "Level B Children Total Processing Time                  0.012663\n",
      "Level C Children Total Processing Time                  0.015731\n",
      "Fluent Educated Adult Total Processing Time             0.000888\n",
      "Level A Educated Adult Total Processing Time            0.002580\n",
      "Level B Educated Adult Total Processing Time            0.004036\n",
      "Level C Educated Adult Total Processing Time            0.003920\n",
      "Fluent Uneducated Adult Total Processing Time           0.037725\n",
      "Level A Uneducated Adult Total Processing Time          0.008034\n",
      "Level B Uneducated Adult Total Processing Time          0.005383\n",
      "Level C Uneducated Adult Total Processing Time          0.006258\n",
      "Fluent Old Total Processing Time                        0.000975\n",
      "Level A Old Total Processing Time                       0.007264\n",
      "Level B Old Total Processing Time                       0.004675\n",
      "Level C Old Total Processing Time                       0.005493\n",
      "Total Average Processing Time                           0.004900\n",
      "dtype: float64\n",
      "**********************************************************************************\n",
      "Number of epochs required for 99% confidence, half-width 8 (one day) for all measures:\n",
      "5.06553720585655\n",
      "Number of epochs required for 99% confidence, half-width 16 (two day) for all measures:\n",
      "1.5950709503445648\n"
     ]
    }
   ],
   "source": [
    "BrooklynResultsDF = pd.DataFrame({\n",
    "    \"Language Assessment Average Wait Time\": BrooklynLanguageAssessorsWaitTimeAVG,\n",
    "    \"Language Assessment Average Queue Length\": BrooklynLanguageAssessorsQueueLengthAVG,\n",
    "    \"Language Assessors Average Utilization\": np.array(BrooklynLanguageAssessorsBusyAVG)/BrooklynNumberOfLanguageAssessors,\n",
    "    \"Adult Level A Course Average Wait Time\": BrooklynTeachersAdultLevelAWaitTimeAVG,\n",
    "    \"Adult Level A Course Average Queue Length\": BrooklynTeachersAdultLevelAQueueLengthAVG,\n",
    "    \"Teachers Adult Level A Course Average Utilization\": np.array(BrooklynTeachersAdultLevelABusyAVG)/BrooklynNumberOfTeachersAdultLevelA,\n",
    "    \"Adult Level B Course Average Wait Time\": BrooklynTeachersAdultLevelBWaitTimeAVG,\n",
    "    \"Adult Level B Course Average Queue Length\": BrooklynTeachersAdultLevelBQueueLengthAVG,\n",
    "    \"Teachers Adult Level B Course Average Utilization\": np.array(BrooklynTeachersAdultLevelBBusyAVG)/BrooklynNumberOfTeachersAdultLevelB,\n",
    "    \"Adult Level C Course Average Wait Time\": BrooklynTeachersAdultLevelCWaitTimeAVG,\n",
    "    \"Adult Level C Course Average Queue Length\": BrooklynTeachersAdultLevelCQueueLengthAVG,\n",
    "    \"Teachers Adult Level C Course Average Utilization\": np.array(BrooklynTeachersAdultLevelCBusyAVG)/BrooklynNumberOfTeachersAdultLevelC,\n",
    "    \"Children Level A Course Average Wait Time\": BrooklynTeachersChildLevelAWaitTimeAVG,\n",
    "    \"Children Level A Course Average Queue Length\": BrooklynTeachersChildLevelAQueueLengthAVG,\n",
    "    \"Teachers Children Level A Course Average Utilization\": np.array(BrooklynTeachersChildLevelABusyAVG)/BrooklynNumberOfTeachersChildLevelA,\n",
    "    \"Children Level B Course Average Wait Time\": BrooklynTeachersChildLevelBWaitTimeAVG,\n",
    "    \"Children Level B Course Average Queue Length\": BrooklynTeachersChildLevelBQueueLengthAVG,\n",
    "    \"Teachers Children Level B Course Average Utilization\": np.array(BrooklynTeachersChildLevelBBusyAVG)/BrooklynNumberOfTeachersChildLevelB,\n",
    "    \"Children Level C Course Average Wait Time\": BrooklynTeachersChildLevelCWaitTimeAVG,\n",
    "    \"Children Level C Course Average Queue Length\": BrooklynTeachersChildLevelCQueueLengthAVG,\n",
    "    \"Teachers Children Level C Course Average Utilization\": np.array(BrooklynTeachersChildLevelCBusyAVG)/BrooklynNumberOfTeachersChildLevelC,\n",
    "    \"Career Guidance Average Wait Time\": BrooklynCareerCoachWaitTimeAVG,\n",
    "    \"Career Guidance Average Queue Length\": BrooklynCareerCoachQueueLengthAVG,\n",
    "    \"Career Guides Average Utilization\": np.array(BrooklynCareerCoachBusyAVG)/BrooklynNumberOfCareerCoaches,\n",
    "    \"Fluent Children Total Processing Time\": BrooklynFluentChildrenTotalProcessTimeAVG,\n",
    "    \"Level A Children Total Processing Time\": BrooklynLevelAChildrenTotalProcessTimeAVG,\n",
    "    \"Level B Children Total Processing Time\": BrooklynLevelBChildrenTotalProcessTimeAVG,\n",
    "    \"Level C Children Total Processing Time\": BrooklynLevelCChildrenTotalProcessTimeAVG,\n",
    "    \"Fluent Educated Adult Total Processing Time\": BrooklynFluentEducatedAdultTotalProcessTimeAVG,\n",
    "    \"Level A Educated Adult Total Processing Time\": BrooklynLevelAEducatedAdultTotalProcessTimeAVG,\n",
    "    \"Level B Educated Adult Total Processing Time\": BrooklynLevelBEducatedAdultTotalProcessTimeAVG,\n",
    "    \"Level C Educated Adult Total Processing Time\": BrooklynLevelCEducatedAdultTotalProcessTimeAVG,\n",
    "    \"Fluent Uneducated Adult Total Processing Time\": BrooklynFluentUneducatedAdultTotalProcessTimeAVG,\n",
    "    \"Level A Uneducated Adult Total Processing Time\": BrooklynLevelAUneducatedAdultTotalProcessTimeAVG,\n",
    "    \"Level B Uneducated Adult Total Processing Time\": BrooklynLevelBUneducatedAdultTotalProcessTimeAVG,\n",
    "    \"Level C Uneducated Adult Total Processing Time\": BrooklynLevelCUneducatedAdultTotalProcessTimeAVG,\n",
    "    \"Fluent Old Total Processing Time\": BrooklynFluentOldTotalProcessTimeAVG,\n",
    "    \"Level A Old Total Processing Time\": BrooklynLevelAOldTotalProcessTimeAVG,\n",
    "    \"Level B Old Total Processing Time\": BrooklynLevelBOldTotalProcessTimeAVG,\n",
    "    \"Level C Old Total Processing Time\": BrooklynLevelCOldTotalProcessTimeAVG,\n",
    "    \"Total Average Processing Time\": BrooklynTotalProcessTimeAVG\n",
    "})\n",
    "BrooklynResultsDF.to_csv(f\"ResultsDirectory/SimulationUncooperative/BrooklynResultsMode{Mode}_{k}.csv\", sep=\",\")\n",
    "print(f\"Simulation Results Saved to BrooklynResultsMode{Mode}_{k}.csv\")\n",
    "print(\"**********************************************************************************\")\n",
    "print(\"Means of the simulation results:\")\n",
    "print(BrooklynResultsDF.mean())\n",
    "print(\"**********************************************************************************\")\n",
    "print(\"99% Confidence Intervals Half-Width\")\n",
    "CI= scs.t.ppf(1-0.01/2, len(BrooklynResultsDF)-1)*np.sqrt(BrooklynResultsDF.var()/len(BrooklynResultsDF))\n",
    "print(CI)\n",
    "print(\"**********************************************************************************\")\n",
    "print(\"Error:\")\n",
    "print(CI/BrooklynResultsDF.mean())\n",
    "print(\"**********************************************************************************\")\n",
    "print(\"Number of epochs required for 99% confidence, half-width 8 (one day) for all measures:\")\n",
    "print(max((scs.t.ppf(1-0.01, len(BrooklynResultsDF)-1)*np.sqrt(BrooklynResultsDF.var()/len(BrooklynResultsDF))/8)**2))\n",
    "print(\"Number of epochs required for 99% confidence, half-width 16 (two day) for all measures:\")\n",
    "print(max((scs.t.ppf(1-0.01/2, len(BrooklynResultsDF)-1)*np.sqrt(BrooklynResultsDF.var()/len(BrooklynResultsDF))/16)**2))"
   ]
  },
  {
   "cell_type": "code",
   "execution_count": 350,
   "id": "49792b45bb1948e4",
   "metadata": {
    "ExecuteTime": {
     "end_time": "2024-03-30T23:31:46.742797Z",
     "start_time": "2024-03-30T23:31:46.699209Z"
    },
    "collapsed": false
   },
   "outputs": [
    {
     "name": "stdout",
     "output_type": "stream",
     "text": [
      "Simulation Results Saved to ManhattanResultsMode4_6.csv\n",
      "**********************************************************************************\n",
      "Means of the simulation results:\n",
      "Language Assessment Average Wait Time                     0.009996\n",
      "Language Assessment Average Queue Length                  0.079537\n",
      "Language Assessors Average Utilization                    0.442010\n",
      "Adult Level A Course Average Wait Time                   14.645042\n",
      "Adult Level A Course Average Queue Length                26.762577\n",
      "Teachers Adult Level A Course Average Utilization         0.312418\n",
      "Adult Level B Course Average Wait Time                   63.001859\n",
      "Adult Level B Course Average Queue Length               180.106784\n",
      "Teachers Adult Level B Course Average Utilization         0.633394\n",
      "Adult Level C Course Average Wait Time                  165.506694\n",
      "Adult Level C Course Average Queue Length               386.873803\n",
      "Teachers Adult Level C Course Average Utilization         0.846420\n",
      "Children Level A Course Average Wait Time               159.930316\n",
      "Children Level A Course Average Queue Length             14.207034\n",
      "Teachers Children Level A Course Average Utilization      0.462613\n",
      "Children Level B Course Average Wait Time               125.082871\n",
      "Children Level B Course Average Queue Length             17.829539\n",
      "Teachers Children Level B Course Average Utilization      0.619678\n",
      "Children Level C Course Average Wait Time               182.569090\n",
      "Children Level C Course Average Queue Length             21.078372\n",
      "Teachers Children Level C Course Average Utilization      0.610254\n",
      "Career Guidance Average Wait Time                        89.262826\n",
      "Career Guidance Average Queue Length                    362.965770\n",
      "Career Guides Average Utilization                         0.677309\n",
      "Fluent Children Total Processing Time                     0.176912\n",
      "Level A Children Total Processing Time                  332.861429\n",
      "Level B Children Total Processing Time                  476.063799\n",
      "Level C Children Total Processing Time                  718.102805\n",
      "Fluent Educated Adult Total Processing Time               0.176521\n",
      "Level A Educated Adult Total Processing Time            188.611266\n",
      "Level B Educated Adult Total Processing Time            419.999730\n",
      "Level C Educated Adult Total Processing Time            700.360739\n",
      "Fluent Uneducated Adult Total Processing Time            62.427973\n",
      "Level A Uneducated Adult Total Processing Time          260.672131\n",
      "Level B Uneducated Adult Total Processing Time          508.480835\n",
      "Level C Uneducated Adult Total Processing Time          824.756171\n",
      "Fluent Old Total Processing Time                          0.176673\n",
      "Level A Old Total Processing Time                       240.194886\n",
      "Level B Old Total Processing Time                       483.672857\n",
      "Level C Old Total Processing Time                       789.390921\n",
      "Total Average Processing Time                           445.442577\n",
      "dtype: float64\n",
      "**********************************************************************************\n",
      "99% Confidence Intervals Half-Width\n",
      "Language Assessment Average Wait Time                    0.000256\n",
      "Language Assessment Average Queue Length                 0.002148\n",
      "Language Assessors Average Utilization                   0.001535\n",
      "Adult Level A Course Average Wait Time                   0.425328\n",
      "Adult Level A Course Average Queue Length                0.803327\n",
      "Teachers Adult Level A Course Average Utilization        0.008209\n",
      "Adult Level B Course Average Wait Time                   1.814778\n",
      "Adult Level B Course Average Queue Length                5.488094\n",
      "Teachers Adult Level B Course Average Utilization        0.010732\n",
      "Adult Level C Course Average Wait Time                   2.683491\n",
      "Adult Level C Course Average Queue Length                6.883424\n",
      "Teachers Adult Level C Course Average Utilization        0.005181\n",
      "Children Level A Course Average Wait Time                7.501161\n",
      "Children Level A Course Average Queue Length             0.371094\n",
      "Teachers Children Level A Course Average Utilization     0.020412\n",
      "Children Level B Course Average Wait Time                6.213670\n",
      "Children Level B Course Average Queue Length             0.929749\n",
      "Teachers Children Level B Course Average Utilization     0.035819\n",
      "Children Level C Course Average Wait Time                9.761984\n",
      "Children Level C Course Average Queue Length             1.325217\n",
      "Teachers Children Level C Course Average Utilization     0.056911\n",
      "Career Guidance Average Wait Time                        2.533916\n",
      "Career Guidance Average Queue Length                    12.244761\n",
      "Career Guides Average Utilization                        0.004507\n",
      "Fluent Children Total Processing Time                    0.002202\n",
      "Level A Children Total Processing Time                   8.003848\n",
      "Level B Children Total Processing Time                   7.375282\n",
      "Level C Children Total Processing Time                   9.843308\n",
      "Fluent Educated Adult Total Processing Time              0.001037\n",
      "Level A Educated Adult Total Processing Time             0.658565\n",
      "Level B Educated Adult Total Processing Time             2.416027\n",
      "Level C Educated Adult Total Processing Time             2.806666\n",
      "Fluent Uneducated Adult Total Processing Time            3.152659\n",
      "Level A Uneducated Adult Total Processing Time           2.634099\n",
      "Level B Uneducated Adult Total Processing Time           5.894640\n",
      "Level C Uneducated Adult Total Processing Time           8.209256\n",
      "Fluent Old Total Processing Time                         0.001585\n",
      "Level A Old Total Processing Time                        2.697797\n",
      "Level B Old Total Processing Time                        4.824061\n",
      "Level C Old Total Processing Time                        7.372472\n",
      "Total Average Processing Time                            2.243963\n",
      "dtype: float64\n",
      "**********************************************************************************\n",
      "Error:\n",
      "Language Assessment Average Wait Time                   0.025616\n",
      "Language Assessment Average Queue Length                0.027006\n",
      "Language Assessors Average Utilization                  0.003472\n",
      "Adult Level A Course Average Wait Time                  0.029042\n",
      "Adult Level A Course Average Queue Length               0.030017\n",
      "Teachers Adult Level A Course Average Utilization       0.026274\n",
      "Adult Level B Course Average Wait Time                  0.028805\n",
      "Adult Level B Course Average Queue Length               0.030471\n",
      "Teachers Adult Level B Course Average Utilization       0.016944\n",
      "Adult Level C Course Average Wait Time                  0.016214\n",
      "Adult Level C Course Average Queue Length               0.017792\n",
      "Teachers Adult Level C Course Average Utilization       0.006122\n",
      "Children Level A Course Average Wait Time               0.046903\n",
      "Children Level A Course Average Queue Length            0.026120\n",
      "Teachers Children Level A Course Average Utilization    0.044122\n",
      "Children Level B Course Average Wait Time               0.049676\n",
      "Children Level B Course Average Queue Length            0.052147\n",
      "Teachers Children Level B Course Average Utilization    0.057803\n",
      "Children Level C Course Average Wait Time               0.053470\n",
      "Children Level C Course Average Queue Length            0.062871\n",
      "Teachers Children Level C Course Average Utilization    0.093258\n",
      "Career Guidance Average Wait Time                       0.028387\n",
      "Career Guidance Average Queue Length                    0.033735\n",
      "Career Guides Average Utilization                       0.006655\n",
      "Fluent Children Total Processing Time                   0.012445\n",
      "Level A Children Total Processing Time                  0.024046\n",
      "Level B Children Total Processing Time                  0.015492\n",
      "Level C Children Total Processing Time                  0.013707\n",
      "Fluent Educated Adult Total Processing Time             0.005876\n",
      "Level A Educated Adult Total Processing Time            0.003492\n",
      "Level B Educated Adult Total Processing Time            0.005752\n",
      "Level C Educated Adult Total Processing Time            0.004007\n",
      "Fluent Uneducated Adult Total Processing Time           0.050501\n",
      "Level A Uneducated Adult Total Processing Time          0.010105\n",
      "Level B Uneducated Adult Total Processing Time          0.011593\n",
      "Level C Uneducated Adult Total Processing Time          0.009954\n",
      "Fluent Old Total Processing Time                        0.008971\n",
      "Level A Old Total Processing Time                       0.011232\n",
      "Level B Old Total Processing Time                       0.009974\n",
      "Level C Old Total Processing Time                       0.009339\n",
      "Total Average Processing Time                           0.005038\n",
      "dtype: float64\n",
      "**********************************************************************************\n",
      "Number of epochs required for 99% confidence, half-width 8 (one day) for all measures:\n",
      "1.8599709286709496\n",
      "Number of epochs required for 99% confidence, half-width 16 (two day) for all measures:\n",
      "0.5856803486466092\n"
     ]
    }
   ],
   "source": [
    "ManhattanResultsDF = pd.DataFrame({\n",
    "    \"Language Assessment Average Wait Time\": ManhattanLanguageAssessorsWaitTimeAVG,\n",
    "    \"Language Assessment Average Queue Length\": ManhattanLanguageAssessorsQueueLengthAVG,\n",
    "    \"Language Assessors Average Utilization\": np.array(ManhattanLanguageAssessorsBusyAVG)/ManhattanNumberOfLanguageAssessors,\n",
    "    \"Adult Level A Course Average Wait Time\": ManhattanTeachersAdultLevelAWaitTimeAVG,\n",
    "    \"Adult Level A Course Average Queue Length\": ManhattanTeachersAdultLevelAQueueLengthAVG,\n",
    "    \"Teachers Adult Level A Course Average Utilization\": np.array(ManhattanTeachersAdultLevelABusyAVG)/ManhattanNumberOfTeachersAdultLevelA,\n",
    "    \"Adult Level B Course Average Wait Time\": ManhattanTeachersAdultLevelBWaitTimeAVG,\n",
    "    \"Adult Level B Course Average Queue Length\": ManhattanTeachersAdultLevelBQueueLengthAVG,\n",
    "    \"Teachers Adult Level B Course Average Utilization\": np.array(ManhattanTeachersAdultLevelBBusyAVG)/ManhattanNumberOfTeachersAdultLevelB,\n",
    "    \"Adult Level C Course Average Wait Time\": ManhattanTeachersAdultLevelCWaitTimeAVG,\n",
    "    \"Adult Level C Course Average Queue Length\": ManhattanTeachersAdultLevelCQueueLengthAVG,\n",
    "    \"Teachers Adult Level C Course Average Utilization\": np.array(ManhattanTeachersAdultLevelCBusyAVG)/ManhattanNumberOfTeachersAdultLevelC,\n",
    "    \"Children Level A Course Average Wait Time\": ManhattanTeachersChildLevelAWaitTimeAVG,\n",
    "    \"Children Level A Course Average Queue Length\": ManhattanTeachersChildLevelAQueueLengthAVG,\n",
    "    \"Teachers Children Level A Course Average Utilization\": np.array(ManhattanTeachersChildLevelABusyAVG)/ManhattanNumberOfTeachersChildLevelA,\n",
    "    \"Children Level B Course Average Wait Time\": ManhattanTeachersChildLevelBWaitTimeAVG,\n",
    "    \"Children Level B Course Average Queue Length\": ManhattanTeachersChildLevelBQueueLengthAVG,\n",
    "    \"Teachers Children Level B Course Average Utilization\": np.array(ManhattanTeachersChildLevelBBusyAVG)/ManhattanNumberOfTeachersChildLevelB,\n",
    "    \"Children Level C Course Average Wait Time\": ManhattanTeachersChildLevelCWaitTimeAVG,\n",
    "    \"Children Level C Course Average Queue Length\": ManhattanTeachersChildLevelCQueueLengthAVG,\n",
    "    \"Teachers Children Level C Course Average Utilization\": np.array(ManhattanTeachersChildLevelCBusyAVG)/ManhattanNumberOfTeachersChildLevelC,\n",
    "    \"Career Guidance Average Wait Time\": ManhattanCareerCoachWaitTimeAVG,\n",
    "    \"Career Guidance Average Queue Length\": ManhattanCareerCoachQueueLengthAVG,\n",
    "    \"Career Guides Average Utilization\": np.array(ManhattanCareerCoachBusyAVG)/ManhattanNumberOfCareerCoaches,\n",
    "    \"Fluent Children Total Processing Time\": ManhattanFluentChildrenTotalProcessTimeAVG,\n",
    "    \"Level A Children Total Processing Time\": ManhattanLevelAChildrenTotalProcessTimeAVG,\n",
    "    \"Level B Children Total Processing Time\": ManhattanLevelBChildrenTotalProcessTimeAVG,\n",
    "    \"Level C Children Total Processing Time\": ManhattanLevelCChildrenTotalProcessTimeAVG,\n",
    "    \"Fluent Educated Adult Total Processing Time\": ManhattanFluentEducatedAdultTotalProcessTimeAVG,\n",
    "    \"Level A Educated Adult Total Processing Time\": ManhattanLevelAEducatedAdultTotalProcessTimeAVG,\n",
    "    \"Level B Educated Adult Total Processing Time\": ManhattanLevelBEducatedAdultTotalProcessTimeAVG,\n",
    "    \"Level C Educated Adult Total Processing Time\": ManhattanLevelCEducatedAdultTotalProcessTimeAVG,\n",
    "    \"Fluent Uneducated Adult Total Processing Time\": ManhattanFluentUneducatedAdultTotalProcessTimeAVG,\n",
    "    \"Level A Uneducated Adult Total Processing Time\": ManhattanLevelAUneducatedAdultTotalProcessTimeAVG,\n",
    "    \"Level B Uneducated Adult Total Processing Time\": ManhattanLevelBUneducatedAdultTotalProcessTimeAVG,\n",
    "    \"Level C Uneducated Adult Total Processing Time\": ManhattanLevelCUneducatedAdultTotalProcessTimeAVG,\n",
    "    \"Fluent Old Total Processing Time\": ManhattanFluentOldTotalProcessTimeAVG,\n",
    "    \"Level A Old Total Processing Time\": ManhattanLevelAOldTotalProcessTimeAVG,\n",
    "    \"Level B Old Total Processing Time\": ManhattanLevelBOldTotalProcessTimeAVG,\n",
    "    \"Level C Old Total Processing Time\": ManhattanLevelCOldTotalProcessTimeAVG,\n",
    "    \"Total Average Processing Time\": ManhattanTotalProcessTimeAVG\n",
    "})\n",
    "ManhattanResultsDF.to_csv(f\"ResultsDirectory/SimulationUncooperative/ManhattanResultsMode{Mode}_{k}.csv\", sep=\",\")\n",
    "print(f\"Simulation Results Saved to ManhattanResultsMode{Mode}_{k}.csv\")\n",
    "print(\"**********************************************************************************\")\n",
    "print(\"Means of the simulation results:\")\n",
    "print(ManhattanResultsDF.mean())\n",
    "print(\"**********************************************************************************\")\n",
    "print(\"99% Confidence Intervals Half-Width\")\n",
    "CI= scs.t.ppf(1-0.01/2, len(ManhattanResultsDF)-1)*np.sqrt(ManhattanResultsDF.var()/len(ManhattanResultsDF))\n",
    "print(CI)\n",
    "print(\"**********************************************************************************\")\n",
    "print(\"Error:\")\n",
    "print(CI/ManhattanResultsDF.mean())\n",
    "print(\"**********************************************************************************\")\n",
    "print(\"Number of epochs required for 99% confidence, half-width 8 (one day) for all measures:\")\n",
    "print(max((scs.t.ppf(1-0.01, len(ManhattanResultsDF)-1)*np.sqrt(ManhattanResultsDF.var()/len(ManhattanResultsDF))/8)**2))\n",
    "print(\"Number of epochs required for 99% confidence, half-width 16 (two day) for all measures:\")\n",
    "print(max((scs.t.ppf(1-0.01/2, len(ManhattanResultsDF)-1)*np.sqrt(ManhattanResultsDF.var()/len(ManhattanResultsDF))/16)**2))"
   ]
  },
  {
   "cell_type": "code",
   "execution_count": 351,
   "id": "8137cf4d8be1f5cd",
   "metadata": {
    "ExecuteTime": {
     "end_time": "2024-03-30T23:31:46.789255Z",
     "start_time": "2024-03-30T23:31:46.747131Z"
    },
    "collapsed": false
   },
   "outputs": [
    {
     "name": "stdout",
     "output_type": "stream",
     "text": [
      "Simulation Results Saved to QueensResultsMode4_6.csv\n",
      "**********************************************************************************\n",
      "Means of the simulation results:\n",
      "Language Assessment Average Wait Time                     0.000399\n",
      "Language Assessment Average Queue Length                  0.007488\n",
      "Language Assessors Average Utilization                    0.390705\n",
      "Adult Level A Course Average Wait Time                    9.304376\n",
      "Adult Level A Course Average Queue Length                40.020120\n",
      "Teachers Adult Level A Course Average Utilization         0.220614\n",
      "Adult Level B Course Average Wait Time                   62.592887\n",
      "Adult Level B Course Average Queue Length               422.259075\n",
      "Teachers Adult Level B Course Average Utilization         0.624921\n",
      "Adult Level C Course Average Wait Time                  161.977810\n",
      "Adult Level C Course Average Queue Length               893.316486\n",
      "Teachers Adult Level C Course Average Utilization         0.835722\n",
      "Children Level A Course Average Wait Time                72.391771\n",
      "Children Level A Course Average Queue Length             15.452997\n",
      "Teachers Children Level A Course Average Utilization      0.380205\n",
      "Children Level B Course Average Wait Time               100.601728\n",
      "Children Level B Course Average Queue Length             34.580992\n",
      "Teachers Children Level B Course Average Utilization      0.715415\n",
      "Children Level C Course Average Wait Time               192.399722\n",
      "Children Level C Course Average Queue Length             51.905148\n",
      "Teachers Children Level C Course Average Utilization      0.831281\n",
      "Career Guidance Average Wait Time                        67.740692\n",
      "Career Guidance Average Queue Length                    648.833213\n",
      "Career Guides Average Utilization                         0.638371\n",
      "Fluent Children Total Processing Time                     0.167011\n",
      "Level A Children Total Processing Time                  245.596418\n",
      "Level B Children Total Processing Time                  456.388248\n",
      "Level C Children Total Processing Time                  723.669770\n",
      "Fluent Educated Adult Total Processing Time               0.167066\n",
      "Level A Educated Adult Total Processing Time            183.269495\n",
      "Level B Educated Adult Total Processing Time            420.128934\n",
      "Level C Educated Adult Total Processing Time            696.231732\n",
      "Fluent Uneducated Adult Total Processing Time            44.447172\n",
      "Level A Uneducated Adult Total Processing Time          234.009054\n",
      "Level B Uneducated Adult Total Processing Time          485.097412\n",
      "Level C Uneducated Adult Total Processing Time          802.103188\n",
      "Fluent Old Total Processing Time                          0.167016\n",
      "Level A Old Total Processing Time                       219.623116\n",
      "Level B Old Total Processing Time                       466.618078\n",
      "Level C Old Total Processing Time                       773.401764\n",
      "Total Average Processing Time                           426.489459\n",
      "dtype: float64\n",
      "**********************************************************************************\n",
      "99% Confidence Intervals Half-Width\n",
      "Language Assessment Average Wait Time                    0.000025\n",
      "Language Assessment Average Queue Length                 0.000470\n",
      "Language Assessors Average Utilization                   0.001088\n",
      "Adult Level A Course Average Wait Time                   0.192095\n",
      "Adult Level A Course Average Queue Length                0.853967\n",
      "Teachers Adult Level A Course Average Utilization        0.004066\n",
      "Adult Level B Course Average Wait Time                   1.085097\n",
      "Adult Level B Course Average Queue Length                7.731063\n",
      "Teachers Adult Level B Course Average Utilization        0.005272\n",
      "Adult Level C Course Average Wait Time                   1.298158\n",
      "Adult Level C Course Average Queue Length               10.401059\n",
      "Teachers Adult Level C Course Average Utilization        0.002646\n",
      "Children Level A Course Average Wait Time                3.217294\n",
      "Children Level A Course Average Queue Length             0.534070\n",
      "Teachers Children Level A Course Average Utilization     0.044260\n",
      "Children Level B Course Average Wait Time                7.510151\n",
      "Children Level B Course Average Queue Length             2.682690\n",
      "Teachers Children Level B Course Average Utilization     0.039388\n",
      "Children Level C Course Average Wait Time                9.342533\n",
      "Children Level C Course Average Queue Length             2.777234\n",
      "Teachers Children Level C Course Average Utilization     0.020562\n",
      "Career Guidance Average Wait Time                        1.655460\n",
      "Career Guidance Average Queue Length                    17.211620\n",
      "Career Guides Average Utilization                        0.002071\n",
      "Fluent Children Total Processing Time                    0.000194\n",
      "Level A Children Total Processing Time                   3.208659\n",
      "Level B Children Total Processing Time                   7.665096\n",
      "Level C Children Total Processing Time                   7.818652\n",
      "Fluent Educated Adult Total Processing Time              0.000129\n",
      "Level A Educated Adult Total Processing Time             0.295121\n",
      "Level B Educated Adult Total Processing Time             1.183542\n",
      "Level C Educated Adult Total Processing Time             2.468594\n",
      "Fluent Uneducated Adult Total Processing Time            1.413724\n",
      "Level A Uneducated Adult Total Processing Time           1.313264\n",
      "Level B Uneducated Adult Total Processing Time           3.160352\n",
      "Level C Uneducated Adult Total Processing Time           4.203959\n",
      "Fluent Old Total Processing Time                         0.000105\n",
      "Level A Old Total Processing Time                        1.455438\n",
      "Level B Old Total Processing Time                        2.597250\n",
      "Level C Old Total Processing Time                        3.683481\n",
      "Total Average Processing Time                            1.736149\n",
      "dtype: float64\n",
      "**********************************************************************************\n",
      "Error:\n",
      "Language Assessment Average Wait Time                   0.061417\n",
      "Language Assessment Average Queue Length                0.062796\n",
      "Language Assessors Average Utilization                  0.002785\n",
      "Adult Level A Course Average Wait Time                  0.020646\n",
      "Adult Level A Course Average Queue Length               0.021338\n",
      "Teachers Adult Level A Course Average Utilization       0.018431\n",
      "Adult Level B Course Average Wait Time                  0.017336\n",
      "Adult Level B Course Average Queue Length               0.018309\n",
      "Teachers Adult Level B Course Average Utilization       0.008437\n",
      "Adult Level C Course Average Wait Time                  0.008014\n",
      "Adult Level C Course Average Queue Length               0.011643\n",
      "Teachers Adult Level C Course Average Utilization       0.003166\n",
      "Children Level A Course Average Wait Time               0.044443\n",
      "Children Level A Course Average Queue Length            0.034561\n",
      "Teachers Children Level A Course Average Utilization    0.116410\n",
      "Children Level B Course Average Wait Time               0.074652\n",
      "Children Level B Course Average Queue Length            0.077577\n",
      "Teachers Children Level B Course Average Utilization    0.055056\n",
      "Children Level C Course Average Wait Time               0.048558\n",
      "Children Level C Course Average Queue Length            0.053506\n",
      "Teachers Children Level C Course Average Utilization    0.024735\n",
      "Career Guidance Average Wait Time                       0.024438\n",
      "Career Guidance Average Queue Length                    0.026527\n",
      "Career Guides Average Utilization                       0.003244\n",
      "Fluent Children Total Processing Time                   0.001159\n",
      "Level A Children Total Processing Time                  0.013065\n",
      "Level B Children Total Processing Time                  0.016795\n",
      "Level C Children Total Processing Time                  0.010804\n",
      "Fluent Educated Adult Total Processing Time             0.000772\n",
      "Level A Educated Adult Total Processing Time            0.001610\n",
      "Level B Educated Adult Total Processing Time            0.002817\n",
      "Level C Educated Adult Total Processing Time            0.003546\n",
      "Fluent Uneducated Adult Total Processing Time           0.031807\n",
      "Level A Uneducated Adult Total Processing Time          0.005612\n",
      "Level B Uneducated Adult Total Processing Time          0.006515\n",
      "Level C Uneducated Adult Total Processing Time          0.005241\n",
      "Fluent Old Total Processing Time                        0.000631\n",
      "Level A Old Total Processing Time                       0.006627\n",
      "Level B Old Total Processing Time                       0.005566\n",
      "Level C Old Total Processing Time                       0.004763\n",
      "Total Average Processing Time                           0.004071\n",
      "dtype: float64\n",
      "**********************************************************************************\n",
      "Number of epochs required for 99% confidence, half-width 8 (one day) for all measures:\n",
      "3.674929914650933\n",
      "Number of epochs required for 99% confidence, half-width 16 (two day) for all measures:\n",
      "1.1571870293707072\n"
     ]
    }
   ],
   "source": [
    "QueensResultsDF = pd.DataFrame({\n",
    "    \"Language Assessment Average Wait Time\": QueensLanguageAssessorsWaitTimeAVG,\n",
    "    \"Language Assessment Average Queue Length\": QueensLanguageAssessorsQueueLengthAVG,\n",
    "    \"Language Assessors Average Utilization\": np.array(QueensLanguageAssessorsBusyAVG)/QueensNumberOfLanguageAssessors,\n",
    "    \"Adult Level A Course Average Wait Time\": QueensTeachersAdultLevelAWaitTimeAVG,\n",
    "    \"Adult Level A Course Average Queue Length\": QueensTeachersAdultLevelAQueueLengthAVG,\n",
    "    \"Teachers Adult Level A Course Average Utilization\": np.array(QueensTeachersAdultLevelABusyAVG)/QueensNumberOfTeachersAdultLevelA,\n",
    "    \"Adult Level B Course Average Wait Time\": QueensTeachersAdultLevelBWaitTimeAVG,\n",
    "    \"Adult Level B Course Average Queue Length\": QueensTeachersAdultLevelBQueueLengthAVG,\n",
    "    \"Teachers Adult Level B Course Average Utilization\": np.array(QueensTeachersAdultLevelBBusyAVG)/QueensNumberOfTeachersAdultLevelB,\n",
    "    \"Adult Level C Course Average Wait Time\": QueensTeachersAdultLevelCWaitTimeAVG,\n",
    "    \"Adult Level C Course Average Queue Length\": QueensTeachersAdultLevelCQueueLengthAVG,\n",
    "    \"Teachers Adult Level C Course Average Utilization\": np.array(QueensTeachersAdultLevelCBusyAVG)/QueensNumberOfTeachersAdultLevelC,\n",
    "    \"Children Level A Course Average Wait Time\": QueensTeachersChildLevelAWaitTimeAVG,\n",
    "    \"Children Level A Course Average Queue Length\": QueensTeachersChildLevelAQueueLengthAVG,\n",
    "    \"Teachers Children Level A Course Average Utilization\": np.array(QueensTeachersChildLevelABusyAVG)/QueensNumberOfTeachersChildLevelA,\n",
    "    \"Children Level B Course Average Wait Time\": QueensTeachersChildLevelBWaitTimeAVG,\n",
    "    \"Children Level B Course Average Queue Length\": QueensTeachersChildLevelBQueueLengthAVG,\n",
    "    \"Teachers Children Level B Course Average Utilization\": np.array(QueensTeachersChildLevelBBusyAVG)/QueensNumberOfTeachersChildLevelB,\n",
    "    \"Children Level C Course Average Wait Time\": QueensTeachersChildLevelCWaitTimeAVG,\n",
    "    \"Children Level C Course Average Queue Length\": QueensTeachersChildLevelCQueueLengthAVG,\n",
    "    \"Teachers Children Level C Course Average Utilization\": np.array(QueensTeachersChildLevelCBusyAVG)/QueensNumberOfTeachersChildLevelC,\n",
    "    \"Career Guidance Average Wait Time\": QueensCareerCoachWaitTimeAVG,\n",
    "    \"Career Guidance Average Queue Length\": QueensCareerCoachQueueLengthAVG,\n",
    "    \"Career Guides Average Utilization\": np.array(QueensCareerCoachBusyAVG)/QueensNumberOfCareerCoaches,\n",
    "    \"Fluent Children Total Processing Time\": QueensFluentChildrenTotalProcessTimeAVG,\n",
    "    \"Level A Children Total Processing Time\": QueensLevelAChildrenTotalProcessTimeAVG,\n",
    "    \"Level B Children Total Processing Time\": QueensLevelBChildrenTotalProcessTimeAVG,\n",
    "    \"Level C Children Total Processing Time\": QueensLevelCChildrenTotalProcessTimeAVG,\n",
    "    \"Fluent Educated Adult Total Processing Time\": QueensFluentEducatedAdultTotalProcessTimeAVG,\n",
    "    \"Level A Educated Adult Total Processing Time\": QueensLevelAEducatedAdultTotalProcessTimeAVG,\n",
    "    \"Level B Educated Adult Total Processing Time\": QueensLevelBEducatedAdultTotalProcessTimeAVG,\n",
    "    \"Level C Educated Adult Total Processing Time\": QueensLevelCEducatedAdultTotalProcessTimeAVG,\n",
    "    \"Fluent Uneducated Adult Total Processing Time\": QueensFluentUneducatedAdultTotalProcessTimeAVG,\n",
    "    \"Level A Uneducated Adult Total Processing Time\": QueensLevelAUneducatedAdultTotalProcessTimeAVG,\n",
    "    \"Level B Uneducated Adult Total Processing Time\": QueensLevelBUneducatedAdultTotalProcessTimeAVG,\n",
    "    \"Level C Uneducated Adult Total Processing Time\": QueensLevelCUneducatedAdultTotalProcessTimeAVG,\n",
    "    \"Fluent Old Total Processing Time\": QueensFluentOldTotalProcessTimeAVG,\n",
    "    \"Level A Old Total Processing Time\": QueensLevelAOldTotalProcessTimeAVG,\n",
    "    \"Level B Old Total Processing Time\": QueensLevelBOldTotalProcessTimeAVG,\n",
    "    \"Level C Old Total Processing Time\": QueensLevelCOldTotalProcessTimeAVG,\n",
    "    \"Total Average Processing Time\": QueensTotalProcessTimeAVG\n",
    "})\n",
    "QueensResultsDF.to_csv(f\"ResultsDirectory/SimulationUncooperative/QueensResultsMode{Mode}_{k}.csv\", sep=\",\")\n",
    "print(f\"Simulation Results Saved to QueensResultsMode{Mode}_{k}.csv\")\n",
    "print(\"**********************************************************************************\")\n",
    "print(\"Means of the simulation results:\")\n",
    "print(QueensResultsDF.mean())\n",
    "print(\"**********************************************************************************\")\n",
    "print(\"99% Confidence Intervals Half-Width\")\n",
    "CI= scs.t.ppf(1-0.01/2, len(QueensResultsDF)-1)*np.sqrt(QueensResultsDF.var()/len(QueensResultsDF))\n",
    "print(CI)\n",
    "print(\"**********************************************************************************\")\n",
    "print(\"Error:\")\n",
    "print(CI/QueensResultsDF.mean())\n",
    "print(\"**********************************************************************************\")\n",
    "print(\"Number of epochs required for 99% confidence, half-width 8 (one day) for all measures:\")\n",
    "print(max((scs.t.ppf(1-0.01, len(QueensResultsDF)-1)*np.sqrt(QueensResultsDF.var()/len(QueensResultsDF))/8)**2))\n",
    "print(\"Number of epochs required for 99% confidence, half-width 16 (two day) for all measures:\")\n",
    "print(max((scs.t.ppf(1-0.01/2, len(QueensResultsDF)-1)*np.sqrt(QueensResultsDF.var()/len(QueensResultsDF))/16)**2))"
   ]
  },
  {
   "cell_type": "code",
   "execution_count": 352,
   "id": "673da94b6d49cdd9",
   "metadata": {
    "ExecuteTime": {
     "end_time": "2024-03-30T23:31:46.850860Z",
     "start_time": "2024-03-30T23:31:46.792339Z"
    },
    "collapsed": false
   },
   "outputs": [
    {
     "name": "stdout",
     "output_type": "stream",
     "text": [
      "Simulation Results Saved to BronxResultsMode4_6.csv\n",
      "**********************************************************************************\n",
      "Means of the simulation results:\n",
      "Language Assessment Average Wait Time                     0.002554\n",
      "Language Assessment Average Queue Length                  0.021761\n",
      "Language Assessors Average Utilization                    0.354975\n",
      "Adult Level A Course Average Wait Time                   11.830166\n",
      "Adult Level A Course Average Queue Length                23.169756\n",
      "Teachers Adult Level A Course Average Utilization         0.244305\n",
      "Adult Level B Course Average Wait Time                   68.547243\n",
      "Adult Level B Course Average Queue Length               209.607294\n",
      "Teachers Adult Level B Course Average Utilization         0.661430\n",
      "Adult Level C Course Average Wait Time                  171.340042\n",
      "Adult Level C Course Average Queue Length               429.654118\n",
      "Teachers Adult Level C Course Average Utilization         0.855947\n",
      "Children Level A Course Average Wait Time               143.933832\n",
      "Children Level A Course Average Queue Length             13.930527\n",
      "Teachers Children Level A Course Average Utilization      0.506197\n",
      "Children Level B Course Average Wait Time               126.886095\n",
      "Children Level B Course Average Queue Length             19.581986\n",
      "Teachers Children Level B Course Average Utilization      0.647899\n",
      "Children Level C Course Average Wait Time               181.680620\n",
      "Children Level C Course Average Queue Length             22.059525\n",
      "Teachers Children Level C Course Average Utilization      0.617165\n",
      "Career Guidance Average Wait Time                        61.105048\n",
      "Career Guidance Average Queue Length                    265.343153\n",
      "Career Guides Average Utilization                         0.620034\n",
      "Fluent Children Total Processing Time                     0.169361\n",
      "Level A Children Total Processing Time                  318.209335\n",
      "Level B Children Total Processing Time                  479.105963\n",
      "Level C Children Total Processing Time                  716.644638\n",
      "Fluent Educated Adult Total Processing Time               0.169023\n",
      "Level A Educated Adult Total Processing Time            185.867635\n",
      "Level B Educated Adult Total Processing Time            425.680307\n",
      "Level C Educated Adult Total Processing Time            706.875394\n",
      "Fluent Uneducated Adult Total Processing Time            38.686582\n",
      "Level A Uneducated Adult Total Processing Time          230.049033\n",
      "Level B Uneducated Adult Total Processing Time          482.236830\n",
      "Level C Uneducated Adult Total Processing Time          805.039501\n",
      "Fluent Old Total Processing Time                          0.169373\n",
      "Level A Old Total Processing Time                       217.586818\n",
      "Level B Old Total Processing Time                       467.043706\n",
      "Level C Old Total Processing Time                       777.434693\n",
      "Total Average Processing Time                           428.604404\n",
      "dtype: float64\n",
      "**********************************************************************************\n",
      "99% Confidence Intervals Half-Width\n",
      "Language Assessment Average Wait Time                    0.000102\n",
      "Language Assessment Average Queue Length                 0.000891\n",
      "Language Assessors Average Utilization                   0.001413\n",
      "Adult Level A Course Average Wait Time                   0.315159\n",
      "Adult Level A Course Average Queue Length                0.683735\n",
      "Teachers Adult Level A Course Average Utilization        0.004863\n",
      "Adult Level B Course Average Wait Time                   1.947243\n",
      "Adult Level B Course Average Queue Length                6.457684\n",
      "Teachers Adult Level B Course Average Utilization        0.008392\n",
      "Adult Level C Course Average Wait Time                   2.934485\n",
      "Adult Level C Course Average Queue Length                9.993413\n",
      "Teachers Adult Level C Course Average Utilization        0.005768\n",
      "Children Level A Course Average Wait Time                7.904584\n",
      "Children Level A Course Average Queue Length             0.298679\n",
      "Teachers Children Level A Course Average Utilization     0.024417\n",
      "Children Level B Course Average Wait Time                5.772306\n",
      "Children Level B Course Average Queue Length             1.180440\n",
      "Teachers Children Level B Course Average Utilization     0.028854\n",
      "Children Level C Course Average Wait Time               11.362262\n",
      "Children Level C Course Average Queue Length             1.374957\n",
      "Teachers Children Level C Course Average Utilization     0.054057\n",
      "Career Guidance Average Wait Time                        2.108210\n",
      "Career Guidance Average Queue Length                    10.311863\n",
      "Career Guides Average Utilization                        0.003288\n",
      "Fluent Children Total Processing Time                    0.000953\n",
      "Level A Children Total Processing Time                   7.910861\n",
      "Level B Children Total Processing Time                   6.048595\n",
      "Level C Children Total Processing Time                  11.488115\n",
      "Fluent Educated Adult Total Processing Time              0.000455\n",
      "Level A Educated Adult Total Processing Time             0.469077\n",
      "Level B Educated Adult Total Processing Time             2.704718\n",
      "Level C Educated Adult Total Processing Time             2.787177\n",
      "Fluent Uneducated Adult Total Processing Time            1.446725\n",
      "Level A Uneducated Adult Total Processing Time           1.868985\n",
      "Level B Uneducated Adult Total Processing Time           4.134281\n",
      "Level C Uneducated Adult Total Processing Time           6.901879\n",
      "Fluent Old Total Processing Time                         0.000557\n",
      "Level A Old Total Processing Time                        1.989919\n",
      "Level B Old Total Processing Time                        4.277034\n",
      "Level C Old Total Processing Time                        6.026555\n",
      "Total Average Processing Time                            2.380451\n",
      "dtype: float64\n",
      "**********************************************************************************\n",
      "Error:\n",
      "Language Assessment Average Wait Time                   0.040134\n",
      "Language Assessment Average Queue Length                0.040934\n",
      "Language Assessors Average Utilization                  0.003981\n",
      "Adult Level A Course Average Wait Time                  0.026640\n",
      "Adult Level A Course Average Queue Length               0.029510\n",
      "Teachers Adult Level A Course Average Utilization       0.019904\n",
      "Adult Level B Course Average Wait Time                  0.028407\n",
      "Adult Level B Course Average Queue Length               0.030808\n",
      "Teachers Adult Level B Course Average Utilization       0.012687\n",
      "Adult Level C Course Average Wait Time                  0.017127\n",
      "Adult Level C Course Average Queue Length               0.023259\n",
      "Teachers Adult Level C Course Average Utilization       0.006739\n",
      "Children Level A Course Average Wait Time               0.054918\n",
      "Children Level A Course Average Queue Length            0.021441\n",
      "Teachers Children Level A Course Average Utilization    0.048236\n",
      "Children Level B Course Average Wait Time               0.045492\n",
      "Children Level B Course Average Queue Length            0.060282\n",
      "Teachers Children Level B Course Average Utilization    0.044535\n",
      "Children Level C Course Average Wait Time               0.062540\n",
      "Children Level C Course Average Queue Length            0.062329\n",
      "Teachers Children Level C Course Average Utilization    0.087590\n",
      "Career Guidance Average Wait Time                       0.034501\n",
      "Career Guidance Average Queue Length                    0.038862\n",
      "Career Guides Average Utilization                       0.005304\n",
      "Fluent Children Total Processing Time                   0.005625\n",
      "Level A Children Total Processing Time                  0.024861\n",
      "Level B Children Total Processing Time                  0.012625\n",
      "Level C Children Total Processing Time                  0.016030\n",
      "Fluent Educated Adult Total Processing Time             0.002693\n",
      "Level A Educated Adult Total Processing Time            0.002524\n",
      "Level B Educated Adult Total Processing Time            0.006354\n",
      "Level C Educated Adult Total Processing Time            0.003943\n",
      "Fluent Uneducated Adult Total Processing Time           0.037396\n",
      "Level A Uneducated Adult Total Processing Time          0.008124\n",
      "Level B Uneducated Adult Total Processing Time          0.008573\n",
      "Level C Uneducated Adult Total Processing Time          0.008573\n",
      "Fluent Old Total Processing Time                        0.003291\n",
      "Level A Old Total Processing Time                       0.009145\n",
      "Level B Old Total Processing Time                       0.009158\n",
      "Level C Old Total Processing Time                       0.007752\n",
      "Total Average Processing Time                           0.005554\n",
      "dtype: float64\n",
      "**********************************************************************************\n",
      "Number of epochs required for 99% confidence, half-width 8 (one day) for all measures:\n",
      "1.6372049747730493\n",
      "Number of epochs required for 99% confidence, half-width 16 (two day) for all measures:\n",
      "0.5155342837085166\n"
     ]
    }
   ],
   "source": [
    "BronxResultsDF = pd.DataFrame({\n",
    "    \"Language Assessment Average Wait Time\": BronxLanguageAssessorsWaitTimeAVG,\n",
    "    \"Language Assessment Average Queue Length\": BronxLanguageAssessorsQueueLengthAVG,\n",
    "    \"Language Assessors Average Utilization\": np.array(BronxLanguageAssessorsBusyAVG)/BronxNumberOfLanguageAssessors,\n",
    "    \"Adult Level A Course Average Wait Time\": BronxTeachersAdultLevelAWaitTimeAVG,\n",
    "    \"Adult Level A Course Average Queue Length\": BronxTeachersAdultLevelAQueueLengthAVG,\n",
    "    \"Teachers Adult Level A Course Average Utilization\": np.array(BronxTeachersAdultLevelABusyAVG)/BronxNumberOfTeachersAdultLevelA,\n",
    "    \"Adult Level B Course Average Wait Time\": BronxTeachersAdultLevelBWaitTimeAVG,\n",
    "    \"Adult Level B Course Average Queue Length\": BronxTeachersAdultLevelBQueueLengthAVG,\n",
    "    \"Teachers Adult Level B Course Average Utilization\": np.array(BronxTeachersAdultLevelBBusyAVG)/BronxNumberOfTeachersAdultLevelB,\n",
    "    \"Adult Level C Course Average Wait Time\": BronxTeachersAdultLevelCWaitTimeAVG,\n",
    "    \"Adult Level C Course Average Queue Length\": BronxTeachersAdultLevelCQueueLengthAVG,\n",
    "    \"Teachers Adult Level C Course Average Utilization\": np.array(BronxTeachersAdultLevelCBusyAVG)/BronxNumberOfTeachersAdultLevelC,\n",
    "    \"Children Level A Course Average Wait Time\": BronxTeachersChildLevelAWaitTimeAVG,\n",
    "    \"Children Level A Course Average Queue Length\": BronxTeachersChildLevelAQueueLengthAVG,\n",
    "    \"Teachers Children Level A Course Average Utilization\": np.array(BronxTeachersChildLevelABusyAVG)/BronxNumberOfTeachersChildLevelA,\n",
    "    \"Children Level B Course Average Wait Time\": BronxTeachersChildLevelBWaitTimeAVG,\n",
    "    \"Children Level B Course Average Queue Length\": BronxTeachersChildLevelBQueueLengthAVG,\n",
    "    \"Teachers Children Level B Course Average Utilization\": np.array(BronxTeachersChildLevelBBusyAVG)/BronxNumberOfTeachersChildLevelB,\n",
    "    \"Children Level C Course Average Wait Time\": BronxTeachersChildLevelCWaitTimeAVG,\n",
    "    \"Children Level C Course Average Queue Length\": BronxTeachersChildLevelCQueueLengthAVG,\n",
    "    \"Teachers Children Level C Course Average Utilization\": np.array(BronxTeachersChildLevelCBusyAVG)/BronxNumberOfTeachersChildLevelC,\n",
    "    \"Career Guidance Average Wait Time\": BronxCareerCoachWaitTimeAVG,\n",
    "    \"Career Guidance Average Queue Length\": BronxCareerCoachQueueLengthAVG,\n",
    "    \"Career Guides Average Utilization\": np.array(BronxCareerCoachBusyAVG)/BronxNumberOfCareerCoaches,\n",
    "    \"Fluent Children Total Processing Time\": BronxFluentChildrenTotalProcessTimeAVG,\n",
    "    \"Level A Children Total Processing Time\": BronxLevelAChildrenTotalProcessTimeAVG,\n",
    "    \"Level B Children Total Processing Time\": BronxLevelBChildrenTotalProcessTimeAVG,\n",
    "    \"Level C Children Total Processing Time\": BronxLevelCChildrenTotalProcessTimeAVG,\n",
    "    \"Fluent Educated Adult Total Processing Time\": BronxFluentEducatedAdultTotalProcessTimeAVG,\n",
    "    \"Level A Educated Adult Total Processing Time\": BronxLevelAEducatedAdultTotalProcessTimeAVG,\n",
    "    \"Level B Educated Adult Total Processing Time\": BronxLevelBEducatedAdultTotalProcessTimeAVG,\n",
    "    \"Level C Educated Adult Total Processing Time\": BronxLevelCEducatedAdultTotalProcessTimeAVG,\n",
    "    \"Fluent Uneducated Adult Total Processing Time\": BronxFluentUneducatedAdultTotalProcessTimeAVG,\n",
    "    \"Level A Uneducated Adult Total Processing Time\": BronxLevelAUneducatedAdultTotalProcessTimeAVG,\n",
    "    \"Level B Uneducated Adult Total Processing Time\": BronxLevelBUneducatedAdultTotalProcessTimeAVG,\n",
    "    \"Level C Uneducated Adult Total Processing Time\": BronxLevelCUneducatedAdultTotalProcessTimeAVG,\n",
    "    \"Fluent Old Total Processing Time\": BronxFluentOldTotalProcessTimeAVG,\n",
    "    \"Level A Old Total Processing Time\": BronxLevelAOldTotalProcessTimeAVG,\n",
    "    \"Level B Old Total Processing Time\": BronxLevelBOldTotalProcessTimeAVG,\n",
    "    \"Level C Old Total Processing Time\": BronxLevelCOldTotalProcessTimeAVG,\n",
    "    \"Total Average Processing Time\": BronxTotalProcessTimeAVG\n",
    "})\n",
    "BronxResultsDF.to_csv(f\"ResultsDirectory/SimulationUncooperative/BronxResultsMode{Mode}_{k}.csv\", sep=\",\")\n",
    "print(f\"Simulation Results Saved to BronxResultsMode{Mode}_{k}.csv\")\n",
    "print(\"**********************************************************************************\")\n",
    "print(\"Means of the simulation results:\")\n",
    "print(BronxResultsDF.mean())\n",
    "print(\"**********************************************************************************\")\n",
    "print(\"99% Confidence Intervals Half-Width\")\n",
    "CI= scs.t.ppf(1-0.01/2, len(BronxResultsDF)-1)*np.sqrt(BronxResultsDF.var()/len(BronxResultsDF))\n",
    "print(CI)\n",
    "print(\"**********************************************************************************\")\n",
    "print(\"Error:\")\n",
    "print(CI/BronxResultsDF.mean())\n",
    "print(\"**********************************************************************************\")\n",
    "print(\"Number of epochs required for 99% confidence, half-width 8 (one day) for all measures:\")\n",
    "print(max((scs.t.ppf(1-0.01, len(BronxResultsDF)-1)*np.sqrt(BronxResultsDF.var()/len(BronxResultsDF))/8)**2))\n",
    "print(\"Number of epochs required for 99% confidence, half-width 16 (two day) for all measures:\")\n",
    "print(max((scs.t.ppf(1-0.01/2, len(BronxResultsDF)-1)*np.sqrt(BronxResultsDF.var()/len(BronxResultsDF))/16)**2))"
   ]
  },
  {
   "cell_type": "code",
   "execution_count": 353,
   "id": "55db95706052b5de",
   "metadata": {
    "ExecuteTime": {
     "end_time": "2024-03-30T23:31:46.912963Z",
     "start_time": "2024-03-30T23:31:46.853762Z"
    },
    "collapsed": false
   },
   "outputs": [
    {
     "name": "stdout",
     "output_type": "stream",
     "text": [
      "Simulation Results Saved to StatenIslandResultsMode4_6.csv\n",
      "**********************************************************************************\n",
      "Means of the simulation results:\n",
      "Language Assessment Average Wait Time                      0.033907\n",
      "Language Assessment Average Queue Length                   0.058252\n",
      "Language Assessors Average Utilization                     0.286257\n",
      "Adult Level A Course Average Wait Time                    44.993793\n",
      "Adult Level A Course Average Queue Length                 17.705445\n",
      "Teachers Adult Level A Course Average Utilization          0.511018\n",
      "Adult Level B Course Average Wait Time                   124.740944\n",
      "Adult Level B Course Average Queue Length                 76.187190\n",
      "Teachers Adult Level B Course Average Utilization          0.854827\n",
      "Adult Level C Course Average Wait Time                   215.263505\n",
      "Adult Level C Course Average Queue Length                105.586253\n",
      "Teachers Adult Level C Course Average Utilization          0.896572\n",
      "Children Level A Course Average Wait Time                726.361699\n",
      "Children Level A Course Average Queue Length              12.423177\n",
      "Teachers Children Level A Course Average Utilization       0.080190\n",
      "Children Level B Course Average Wait Time                464.715394\n",
      "Children Level B Course Average Queue Length              13.502617\n",
      "Teachers Children Level B Course Average Utilization       0.249893\n",
      "Children Level C Course Average Wait Time                549.250242\n",
      "Children Level C Course Average Queue Length              13.393143\n",
      "Teachers Children Level C Course Average Utilization       0.261583\n",
      "Career Guidance Average Wait Time                         38.476019\n",
      "Career Guidance Average Queue Length                      32.603281\n",
      "Career Guides Average Utilization                          0.423106\n",
      "Fluent Children Total Processing Time                      0.201522\n",
      "Level A Children Total Processing Time                   819.157015\n",
      "Level B Children Total Processing Time                   811.858970\n",
      "Level C Children Total Processing Time                  1001.076412\n",
      "Fluent Educated Adult Total Processing Time                0.201966\n",
      "Level A Educated Adult Total Processing Time             219.315213\n",
      "Level B Educated Adult Total Processing Time             477.794603\n",
      "Level C Educated Adult Total Processing Time             747.398423\n",
      "Fluent Uneducated Adult Total Processing Time             18.093285\n",
      "Level A Uneducated Adult Total Processing Time           241.635569\n",
      "Level B Uneducated Adult Total Processing Time           518.450320\n",
      "Level C Uneducated Adult Total Processing Time           811.439733\n",
      "Fluent Old Total Processing Time                           0.199494\n",
      "Level A Old Total Processing Time                        235.381675\n",
      "Level B Old Total Processing Time                        507.414333\n",
      "Level C Old Total Processing Time                        793.016065\n",
      "Total Average Processing Time                            462.971297\n",
      "dtype: float64\n",
      "**********************************************************************************\n",
      "99% Confidence Intervals Half-Width\n",
      "Language Assessment Average Wait Time                     0.000953\n",
      "Language Assessment Average Queue Length                  0.001836\n",
      "Language Assessors Average Utilization                    0.002231\n",
      "Adult Level A Course Average Wait Time                    1.500664\n",
      "Adult Level A Course Average Queue Length                 0.481960\n",
      "Teachers Adult Level A Course Average Utilization         0.034481\n",
      "Adult Level B Course Average Wait Time                    7.315679\n",
      "Adult Level B Course Average Queue Length                 4.591667\n",
      "Teachers Adult Level B Course Average Utilization         0.020580\n",
      "Adult Level C Course Average Wait Time                    7.397311\n",
      "Adult Level C Course Average Queue Length                 3.626430\n",
      "Teachers Adult Level C Course Average Utilization         0.014468\n",
      "Children Level A Course Average Wait Time                80.942977\n",
      "Children Level A Course Average Queue Length              0.768656\n",
      "Teachers Children Level A Course Average Utilization      0.006509\n",
      "Children Level B Course Average Wait Time                43.219213\n",
      "Children Level B Course Average Queue Length              0.818470\n",
      "Teachers Children Level B Course Average Utilization      0.041484\n",
      "Children Level C Course Average Wait Time                60.689107\n",
      "Children Level C Course Average Queue Length              0.802771\n",
      "Teachers Children Level C Course Average Utilization      0.023899\n",
      "Career Guidance Average Wait Time                         1.682062\n",
      "Career Guidance Average Queue Length                      1.711690\n",
      "Career Guides Average Utilization                         0.006472\n",
      "Fluent Children Total Processing Time                     0.012457\n",
      "Level A Children Total Processing Time                  158.801566\n",
      "Level B Children Total Processing Time                   55.237942\n",
      "Level C Children Total Processing Time                  126.949712\n",
      "Fluent Educated Adult Total Processing Time               0.005745\n",
      "Level A Educated Adult Total Processing Time              2.740017\n",
      "Level B Educated Adult Total Processing Time              7.782353\n",
      "Level C Educated Adult Total Processing Time              9.041160\n",
      "Fluent Uneducated Adult Total Processing Time             1.595570\n",
      "Level A Uneducated Adult Total Processing Time            2.643358\n",
      "Level B Uneducated Adult Total Processing Time            7.574982\n",
      "Level C Uneducated Adult Total Processing Time            7.726410\n",
      "Fluent Old Total Processing Time                          0.005228\n",
      "Level A Old Total Processing Time                         2.533930\n",
      "Level B Old Total Processing Time                         9.151440\n",
      "Level C Old Total Processing Time                        14.741708\n",
      "Total Average Processing Time                             4.609646\n",
      "dtype: float64\n",
      "**********************************************************************************\n",
      "Error:\n",
      "Language Assessment Average Wait Time                   0.028096\n",
      "Language Assessment Average Queue Length                0.031514\n",
      "Language Assessors Average Utilization                  0.007792\n",
      "Adult Level A Course Average Wait Time                  0.033353\n",
      "Adult Level A Course Average Queue Length               0.027221\n",
      "Teachers Adult Level A Course Average Utilization       0.067475\n",
      "Adult Level B Course Average Wait Time                  0.058647\n",
      "Adult Level B Course Average Queue Length               0.060268\n",
      "Teachers Adult Level B Course Average Utilization       0.024075\n",
      "Adult Level C Course Average Wait Time                  0.034364\n",
      "Adult Level C Course Average Queue Length               0.034346\n",
      "Teachers Adult Level C Course Average Utilization       0.016137\n",
      "Children Level A Course Average Wait Time               0.111436\n",
      "Children Level A Course Average Queue Length            0.061873\n",
      "Teachers Children Level A Course Average Utilization    0.081164\n",
      "Children Level B Course Average Wait Time               0.093001\n",
      "Children Level B Course Average Queue Length            0.060616\n",
      "Teachers Children Level B Course Average Utilization    0.166007\n",
      "Children Level C Course Average Wait Time               0.110494\n",
      "Children Level C Course Average Queue Length            0.059939\n",
      "Teachers Children Level C Course Average Utilization    0.091362\n",
      "Career Guidance Average Wait Time                       0.043717\n",
      "Career Guidance Average Queue Length                    0.052501\n",
      "Career Guides Average Utilization                       0.015297\n",
      "Fluent Children Total Processing Time                   0.061813\n",
      "Level A Children Total Processing Time                  0.193860\n",
      "Level B Children Total Processing Time                  0.068039\n",
      "Level C Children Total Processing Time                  0.126813\n",
      "Fluent Educated Adult Total Processing Time             0.028446\n",
      "Level A Educated Adult Total Processing Time            0.012494\n",
      "Level B Educated Adult Total Processing Time            0.016288\n",
      "Level C Educated Adult Total Processing Time            0.012097\n",
      "Fluent Uneducated Adult Total Processing Time           0.088186\n",
      "Level A Uneducated Adult Total Processing Time          0.010939\n",
      "Level B Uneducated Adult Total Processing Time          0.014611\n",
      "Level C Uneducated Adult Total Processing Time          0.009522\n",
      "Fluent Old Total Processing Time                        0.026205\n",
      "Level A Old Total Processing Time                       0.010765\n",
      "Level B Old Total Processing Time                       0.018035\n",
      "Level C Old Total Processing Time                       0.018589\n",
      "Total Average Processing Time                           0.009957\n",
      "dtype: float64\n",
      "**********************************************************************************\n",
      "Number of epochs required for 99% confidence, half-width 8 (one day) for all measures:\n",
      "312.834831279801\n",
      "Number of epochs required for 99% confidence, half-width 16 (two day) for all measures:\n",
      "98.50756817133617\n"
     ]
    }
   ],
   "source": [
    "StatenIslandResultsDF = pd.DataFrame({\n",
    "    \"Language Assessment Average Wait Time\": StatenIslandLanguageAssessorsWaitTimeAVG,\n",
    "    \"Language Assessment Average Queue Length\": StatenIslandLanguageAssessorsQueueLengthAVG,\n",
    "    \"Language Assessors Average Utilization\": np.array(StatenIslandLanguageAssessorsBusyAVG)/StatenIslandNumberOfLanguageAssessors,\n",
    "    \"Adult Level A Course Average Wait Time\": StatenIslandTeachersAdultLevelAWaitTimeAVG,\n",
    "    \"Adult Level A Course Average Queue Length\": StatenIslandTeachersAdultLevelAQueueLengthAVG,\n",
    "    \"Teachers Adult Level A Course Average Utilization\": np.array(StatenIslandTeachersAdultLevelABusyAVG)/StatenIslandNumberOfTeachersAdultLevelA,\n",
    "    \"Adult Level B Course Average Wait Time\": StatenIslandTeachersAdultLevelBWaitTimeAVG,\n",
    "    \"Adult Level B Course Average Queue Length\": StatenIslandTeachersAdultLevelBQueueLengthAVG,\n",
    "    \"Teachers Adult Level B Course Average Utilization\": np.array(StatenIslandTeachersAdultLevelBBusyAVG)/StatenIslandNumberOfTeachersAdultLevelB,\n",
    "    \"Adult Level C Course Average Wait Time\": StatenIslandTeachersAdultLevelCWaitTimeAVG,\n",
    "    \"Adult Level C Course Average Queue Length\": StatenIslandTeachersAdultLevelCQueueLengthAVG,\n",
    "    \"Teachers Adult Level C Course Average Utilization\": np.array(StatenIslandTeachersAdultLevelCBusyAVG)/StatenIslandNumberOfTeachersAdultLevelC,\n",
    "    \"Children Level A Course Average Wait Time\": StatenIslandTeachersChildLevelAWaitTimeAVG,\n",
    "    \"Children Level A Course Average Queue Length\": StatenIslandTeachersChildLevelAQueueLengthAVG,\n",
    "    \"Teachers Children Level A Course Average Utilization\": np.array(StatenIslandTeachersChildLevelABusyAVG)/StatenIslandNumberOfTeachersChildLevelA,\n",
    "    \"Children Level B Course Average Wait Time\": StatenIslandTeachersChildLevelBWaitTimeAVG,\n",
    "    \"Children Level B Course Average Queue Length\": StatenIslandTeachersChildLevelBQueueLengthAVG,\n",
    "    \"Teachers Children Level B Course Average Utilization\": np.array(StatenIslandTeachersChildLevelBBusyAVG)/StatenIslandNumberOfTeachersChildLevelB,\n",
    "    \"Children Level C Course Average Wait Time\": StatenIslandTeachersChildLevelCWaitTimeAVG,\n",
    "    \"Children Level C Course Average Queue Length\": StatenIslandTeachersChildLevelCQueueLengthAVG,\n",
    "    \"Teachers Children Level C Course Average Utilization\": np.array(StatenIslandTeachersChildLevelCBusyAVG)/StatenIslandNumberOfTeachersChildLevelC,\n",
    "    \"Career Guidance Average Wait Time\": StatenIslandCareerCoachWaitTimeAVG,\n",
    "    \"Career Guidance Average Queue Length\": StatenIslandCareerCoachQueueLengthAVG,\n",
    "    \"Career Guides Average Utilization\": np.array(StatenIslandCareerCoachBusyAVG)/StatenIslandNumberOfCareerCoaches,\n",
    "    \"Fluent Children Total Processing Time\": StatenIslandFluentChildrenTotalProcessTimeAVG,\n",
    "    \"Level A Children Total Processing Time\": StatenIslandLevelAChildrenTotalProcessTimeAVG,\n",
    "    \"Level B Children Total Processing Time\": StatenIslandLevelBChildrenTotalProcessTimeAVG,\n",
    "    \"Level C Children Total Processing Time\": StatenIslandLevelCChildrenTotalProcessTimeAVG,\n",
    "    \"Fluent Educated Adult Total Processing Time\": StatenIslandFluentEducatedAdultTotalProcessTimeAVG,\n",
    "    \"Level A Educated Adult Total Processing Time\": StatenIslandLevelAEducatedAdultTotalProcessTimeAVG,\n",
    "    \"Level B Educated Adult Total Processing Time\": StatenIslandLevelBEducatedAdultTotalProcessTimeAVG,\n",
    "    \"Level C Educated Adult Total Processing Time\": StatenIslandLevelCEducatedAdultTotalProcessTimeAVG,\n",
    "    \"Fluent Uneducated Adult Total Processing Time\": StatenIslandFluentUneducatedAdultTotalProcessTimeAVG,\n",
    "    \"Level A Uneducated Adult Total Processing Time\": StatenIslandLevelAUneducatedAdultTotalProcessTimeAVG,\n",
    "    \"Level B Uneducated Adult Total Processing Time\": StatenIslandLevelBUneducatedAdultTotalProcessTimeAVG,\n",
    "    \"Level C Uneducated Adult Total Processing Time\": StatenIslandLevelCUneducatedAdultTotalProcessTimeAVG,\n",
    "    \"Fluent Old Total Processing Time\": StatenIslandFluentOldTotalProcessTimeAVG,\n",
    "    \"Level A Old Total Processing Time\": StatenIslandLevelAOldTotalProcessTimeAVG,\n",
    "    \"Level B Old Total Processing Time\": StatenIslandLevelBOldTotalProcessTimeAVG,\n",
    "    \"Level C Old Total Processing Time\": StatenIslandLevelCOldTotalProcessTimeAVG,\n",
    "    \"Total Average Processing Time\": StatenIslandTotalProcessTimeAVG\n",
    "})\n",
    "StatenIslandResultsDF.to_csv(f\"ResultsDirectory/SimulationUncooperative/StatenIslandResultsMode{Mode}_{k}.csv\", sep=\",\")\n",
    "print(f\"Simulation Results Saved to StatenIslandResultsMode{Mode}_{k}.csv\")\n",
    "print(\"**********************************************************************************\")\n",
    "print(\"Means of the simulation results:\")\n",
    "print(StatenIslandResultsDF.mean())\n",
    "print(\"**********************************************************************************\")\n",
    "print(\"99% Confidence Intervals Half-Width\")\n",
    "CI= scs.t.ppf(1-0.01/2, len(StatenIslandResultsDF)-1)*np.sqrt(StatenIslandResultsDF.var()/len(StatenIslandResultsDF))\n",
    "print(CI)\n",
    "print(\"**********************************************************************************\")\n",
    "print(\"Error:\")\n",
    "print(CI/StatenIslandResultsDF.mean())\n",
    "print(\"**********************************************************************************\")\n",
    "print(\"Number of epochs required for 99% confidence, half-width 8 (one day) for all measures:\")\n",
    "print(max((scs.t.ppf(1-0.01, len(StatenIslandResultsDF)-1)*np.sqrt(StatenIslandResultsDF.var()/len(StatenIslandResultsDF))/8)**2))\n",
    "print(\"Number of epochs required for 99% confidence, half-width 16 (two day) for all measures:\")\n",
    "print(max((scs.t.ppf(1-0.01/2, len(StatenIslandResultsDF)-1)*np.sqrt(StatenIslandResultsDF.var()/len(StatenIslandResultsDF))/16)**2))"
   ]
  },
  {
   "cell_type": "code",
   "execution_count": 354,
   "id": "2c9d6888f4e93381",
   "metadata": {
    "ExecuteTime": {
     "end_time": "2024-03-30T23:31:46.944483Z",
     "start_time": "2024-03-30T23:31:46.915954Z"
    },
    "collapsed": false
   },
   "outputs": [
    {
     "name": "stdout",
     "output_type": "stream",
     "text": [
      "Number of epochs required for 99% confidence, half-width 16 (two days) for all measures: 99\n"
     ]
    }
   ],
   "source": [
    "Brooklyn_N = max((scs.t.ppf(1-0.01/2, len(BrooklynResultsDF)-1)*np.sqrt(BrooklynResultsDF.var()/len(BrooklynResultsDF))/16**2))\n",
    "Manhattan_N = max((scs.t.ppf(1-0.01/2, len(ManhattanResultsDF)-1)*np.sqrt(ManhattanResultsDF.var()/len(ManhattanResultsDF))/16)**2)\n",
    "Queens_N = max((scs.t.ppf(1-0.01/2, len(QueensResultsDF)-1)*np.sqrt(QueensResultsDF.var()/len(QueensResultsDF))/16)**2)\n",
    "Bronx_N = max((scs.t.ppf(1-0.01/2, len(BronxResultsDF)-1)*np.sqrt(BronxResultsDF.var()/len(BronxResultsDF))/16)**2)\n",
    "StatenIsland_N = max((scs.t.ppf(1-0.01/2, len(StatenIslandResultsDF)-1)*np.sqrt(StatenIslandResultsDF.var()/len(StatenIslandResultsDF))/16)**2)\n",
    "\n",
    "print(f\"Number of epochs required for 99% confidence, half-width 16 (two days) for all measures: {math.ceil(max(Brooklyn_N, Manhattan_N, Queens_N, Bronx_N, StatenIsland_N))}\")"
   ]
  },
  {
   "cell_type": "markdown",
   "id": "55483296a55a533",
   "metadata": {
    "collapsed": false
   },
   "source": [
    "\n",
    "# According to a single pilot (5 epochs) we would require 65 iterations to achieve confidence intervals with confidence level of 99\\% and half width of 16 (2 days) for all tracked statistics\n"
   ]
  },
  {
   "cell_type": "code",
   "execution_count": 355,
   "id": "1a2963a7990418d5",
   "metadata": {
    "ExecuteTime": {
     "end_time": "2024-03-30T23:32:08.452545Z",
     "start_time": "2024-03-30T23:31:46.946603Z"
    },
    "collapsed": false
   },
   "outputs": [
    {
     "name": "stdout",
     "output_type": "stream",
     "text": [
      "Simulation Results Saved to QueueLengthsMode4_6.csv\n"
     ]
    }
   ],
   "source": [
    "QueueLengthsDict = {\n",
    "    \"BrooklynLanguageAssessors\": BrooklynLanguageAssessorsQueueLength,\n",
    "    \"BrooklynTeachersAdultLevelA\": BrooklynTeachersAdultLevelAQueueLength,\n",
    "    \"BrooklynTeachersAdultLevelB\": BrooklynTeachersAdultLevelBQueueLength,\n",
    "    \"BrooklynTeachersAdultLevelC\": BrooklynTeachersAdultLevelCQueueLength,\n",
    "    \"BrooklynTeachersChildLevelA\": BrooklynTeachersChildLevelAQueueLength,\n",
    "    \"BrooklynTeachersChildLevelB\": BrooklynTeachersChildLevelBQueueLength,\n",
    "    \"BrooklynTeachersChildLevelC\": BrooklynTeachersChildLevelCQueueLength,\n",
    "    \"BrooklynCareerGuides\": BrooklynCareerCoachesQueueLength,\n",
    "    \"ManhattanLanguageAssessors\": ManhattanLanguageAssessorsQueueLength,\n",
    "    \"ManhattanTeachersAdultLevelA\": ManhattanTeachersAdultLevelAQueueLength,\n",
    "    \"ManhattanTeachersAdultLevelB\": ManhattanTeachersAdultLevelBQueueLength,\n",
    "    \"ManhattanTeachersAdultLevelC\": ManhattanTeachersAdultLevelCQueueLength,\n",
    "    \"ManhattanTeachersChildLevelA\": ManhattanTeachersChildLevelAQueueLength,\n",
    "    \"ManhattanTeachersChildLevelB\": ManhattanTeachersChildLevelBQueueLength,\n",
    "    \"ManhattanTeachersChildLevelC\": ManhattanTeachersChildLevelCQueueLength,\n",
    "    \"ManhattanCareerGuides\": ManhattanCareerCoachesQueueLength,\n",
    "    \"QueensLanguageAssessors\": QueensLanguageAssessorsQueueLength,\n",
    "    \"QueensTeachersAdultLevelA\": QueensTeachersAdultLevelAQueueLength,\n",
    "    \"QueensTeachersAdultLevelB\": QueensTeachersAdultLevelBQueueLength,\n",
    "    \"QueensTeachersAdultLevelC\": QueensTeachersAdultLevelCQueueLength,\n",
    "    \"QueensTeachersChildLevelA\": QueensTeachersChildLevelAQueueLength,\n",
    "    \"QueensTeachersChildLevelB\": QueensTeachersChildLevelBQueueLength,\n",
    "    \"QueensTeachersChildLevelC\": QueensTeachersChildLevelCQueueLength,\n",
    "    \"QueensCareerGuides\": QueensCareerCoachesQueueLength,\n",
    "    \"BronxLanguageAssessors\": BronxLanguageAssessorsQueueLength,\n",
    "    \"BronxTeachersAdultLevelA\": BronxTeachersAdultLevelAQueueLength,\n",
    "    \"BronxTeachersAdultLevelB\": BronxTeachersAdultLevelBQueueLength,\n",
    "    \"BronxTeachersAdultLevelC\": BronxTeachersAdultLevelCQueueLength,\n",
    "    \"BronxTeachersChildLevelA\": BronxTeachersChildLevelAQueueLength,\n",
    "    \"BronxTeachersChildLevelB\": BronxTeachersChildLevelBQueueLength,\n",
    "    \"BronxTeachersChildLevelC\": BronxTeachersChildLevelCQueueLength,\n",
    "    \"BronxCareerGuides\": BronxCareerCoachesQueueLength,\n",
    "    \"StatenIslandLanguageAssessors\": StatenIslandLanguageAssessorsQueueLength,\n",
    "    \"StatenIslandTeachersAdultLevelA\": StatenIslandTeachersAdultLevelAQueueLength,\n",
    "    \"StatenIslandTeachersAdultLevelB\": StatenIslandTeachersAdultLevelBQueueLength,\n",
    "    \"StatenIslandTeachersAdultLevelC\": StatenIslandTeachersAdultLevelCQueueLength,\n",
    "    \"StatenIslandTeachersChildLevelA\": StatenIslandTeachersChildLevelAQueueLength,\n",
    "    \"StatenIslandTeachersChildLevelB\": StatenIslandTeachersChildLevelBQueueLength,\n",
    "    \"StatenIslandTeachersChildLevelC\": StatenIslandTeachersChildLevelCQueueLength,\n",
    "    \"StatenIslandCareerGuides\": StatenIslandCareerCoachesQueueLength\n",
    "}\n",
    "#Adding zeros to force into df. didnt have time to find a better alternative:(\n",
    "max_length = max(len(arr) for arr in QueueLengthsDict.values())\n",
    "for key, value in QueueLengthsDict.items():\n",
    "    QueueLengthsDict[key] += [0] * (max_length - len(value))\n",
    "QueueLengthsDataFrame = pd.DataFrame(QueueLengthsDict)\n",
    "QueueLengthsDataFrame.to_csv(f\"ResultsDirectory/SimulationUncooperative/QueueLengthsMode{Mode}_{k}.csv\", sep=\",\")\n",
    "print(f\"Simulation Results Saved to QueueLengthsMode{Mode}_{k}.csv\")"
   ]
  },
  {
   "cell_type": "code",
   "execution_count": 356,
   "id": "8cbf4e7d7bfd0a0f",
   "metadata": {
    "ExecuteTime": {
     "end_time": "2024-03-30T23:32:08.468172Z",
     "start_time": "2024-03-30T23:32:08.453727Z"
    },
    "collapsed": false
   },
   "outputs": [],
   "source": [
    "Immigrants_successfully_processed_avg_df = pd.DataFrame(Immigrants_successfully_processed_avg, columns = ['Children', 'Adults', 'Old'])\n",
    "Immigrants_successfully_processed_avg_df.to_csv(f\"ResultsDirectory/SimulationUncooperative/ImmigrantsProcessedMode{Mode}_{k}.csv\", sep=\",\")"
   ]
  }
 ],
 "metadata": {
  "kernelspec": {
   "display_name": "Python 3",
   "language": "python",
   "name": "python3"
  },
  "language_info": {
   "codemirror_mode": {
    "name": "ipython",
    "version": 2
   },
   "file_extension": ".py",
   "mimetype": "text/x-python",
   "name": "python",
   "nbconvert_exporter": "python",
   "pygments_lexer": "ipython2",
   "version": "2.7.6"
  }
 },
 "nbformat": 4,
 "nbformat_minor": 5
}
